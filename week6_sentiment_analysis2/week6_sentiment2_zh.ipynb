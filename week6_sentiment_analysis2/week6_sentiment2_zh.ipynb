{
 "cells": [
  {
   "attachments": {},
   "cell_type": "markdown",
   "id": "da022ed3",
   "metadata": {},
   "source": [
    "# 第六週: 中文文集的情緒分析2\n",
    "\n",
    "**Author:** 蔡睿澤<br>\n",
    "**Date created:** 2023/03/22<br>\n",
    "**Last modified:** 2023/03/25<br><br>\n",
    "本週課程為「情緒分析2」，與情緒分析1不同，這次會使用中研院提供的CKIP自然語言處理工具包，但其中不像coreNLP有提供情緒分析套件，所以在此介紹一款用於中文情緒分析的套件SnowNLP，是Courpus-base的情緒分析，不是使用情緒字典，而是使用預訓練的情緒分析模型或演算法，給與整個文章一個情緒分數。情緒分析2的步驟會因所要分析之語言不同而有所差異，在這個Jupyter Notebook當中將會展示「中文」的情緒分析，並且搭配python程式碼進行講解。在後面的內容中會介紹CKIP、分析方法、SnowNLP"
   ]
  },
  {
   "attachments": {},
   "cell_type": "markdown",
   "id": "fb0d14e6",
   "metadata": {},
   "source": [
    "## 大綱\n",
    "1. 套件說明\n",
    "2. CKIP 介紹\n",
    "    + 2.1 安裝CKIP\n",
    "    + 2.2 利用CKIP進行自然語言處理\n",
    "3. CKIP 標註\n",
    "    + 3.1 將抓取結果用CKIP進行處理\n",
    "    + 3.2 探索分析 - NER\n",
    "    + 3.3 探索分析 - POS\n",
    "4. 利用SnowNLP進行情緒分析"
   ]
  },
  {
   "cell_type": "markdown",
   "id": "4129b6a6",
   "metadata": {},
   "source": [
    "## 1. 套件說明\n",
    "下面列出在本次實作過程中我們所使用到的相關套件，在這個Jupyter Notebook當中我們將會簡單的展示這些套件的使用方式，關於各個套件的進階使用請同學參照其官網的說明。\n",
    "- pandas: 一個資料分析的函式庫，提供了DataFrame等資料格式，與資料處理的函數。\n",
    "- CKIP: 全名為Chinese Knowledge and Information Processing，中研院開發的中文自然語言處理工具。\n",
    "- stanza: 使用CoreNLP的官方套件\n",
    "- wordcloud: 文字雲繪圖工具。\n",
    "- matplotlib: 繪圖工具。\n",
    "- SnowNLP: SnowNLP是一個可以方便的處理中文文本內容的python類庫，是受到了TextBlob的啟發而寫的。SnowNLP主要功能包括斷詞、詞性標註、情緒分析、漢字轉拼音、繁體轉簡體、關鍵詞提取以及文本摘要等等。"
   ]
  },
  {
   "cell_type": "code",
   "execution_count": null,
   "id": "9608a7d1",
   "metadata": {},
   "outputs": [],
   "source": [
    "# 安裝會使用到的套件\n",
    "# 安裝ckiptagger前要先安裝tensorflow，有套件相依的問題\n",
    "# %pip install ckiptagger[tf,gdown] wordcloud tweepy==3.10.0 SnowNLP"
   ]
  },
  {
   "cell_type": "code",
   "execution_count": null,
   "id": "18e2b394",
   "metadata": {},
   "outputs": [],
   "source": [
    "# 確認當前工作目錄\n",
    "# %pwd"
   ]
  },
  {
   "cell_type": "code",
   "execution_count": 80,
   "id": "8d4b114a",
   "metadata": {},
   "outputs": [],
   "source": [
    "from ckiptagger import data_utils, construct_dictionary, WS, POS, NER\n",
    "import configparser, re, os, io\n",
    "\n",
    "from wordcloud import WordCloud, ImageColorGenerator\n",
    "import tweepy as tw\n",
    "\n",
    "import pandas as pd\n",
    "import numpy as np\n",
    "import matplotlib.pyplot as plt\n",
    "import time\n",
    "from datetime import datetime, timedelta"
   ]
  },
  {
   "cell_type": "markdown",
   "id": "58dd81c4",
   "metadata": {},
   "source": [
    "如果有重新裝package，記得需要restart kernel 才會使用更新後的套件"
   ]
  },
  {
   "cell_type": "code",
   "execution_count": 81,
   "id": "b29aa11e",
   "metadata": {},
   "outputs": [
    {
     "name": "stdout",
     "output_type": "stream",
     "text": [
      "3.10.0\n"
     ]
    }
   ],
   "source": [
    "# 檢查推特api package 版本，建議使用 3.10.0\n",
    "print(tw.__version__)"
   ]
  },
  {
   "cell_type": "markdown",
   "id": "bd68b0a5",
   "metadata": {},
   "source": [
    "## 2. CKIP 介紹\n",
    "- 是中研院詞庫小組開發的中文自然語言處理套件，其斷詞效果比起`jieba`效果更好，並且提供性命名實體辨識、詞性標註、句法分析\n",
    "- github: https://github.com/ckiplab/ckiptagger\n",
    "\n",
    "### 2.1 CKIP安裝"
   ]
  },
  {
   "cell_type": "code",
   "execution_count": null,
   "id": "fa42cfd1",
   "metadata": {},
   "outputs": [],
   "source": [
    "data_utils.download_data_gdown(\"./\") # gdrive-ckip # 下載ckip model"
   ]
  },
  {
   "cell_type": "code",
   "execution_count": 82,
   "id": "66a409b7",
   "metadata": {},
   "outputs": [
    {
     "name": "stderr",
     "output_type": "stream",
     "text": [
      "/opt/anaconda3/lib/python3.9/site-packages/ckiptagger/model_ws.py:106: UserWarning: `tf.nn.rnn_cell.LSTMCell` is deprecated and will be removed in a future version. This class is equivalent as `tf.keras.layers.LSTMCell`, and will be replaced by that in Tensorflow 2.0.\n",
      "  cell = tf.compat.v1.nn.rnn_cell.LSTMCell(hidden_d, name=name)\n",
      "/opt/anaconda3/lib/python3.9/site-packages/ckiptagger/model_pos.py:56: UserWarning: `tf.nn.rnn_cell.LSTMCell` is deprecated and will be removed in a future version. This class is equivalent as `tf.keras.layers.LSTMCell`, and will be replaced by that in Tensorflow 2.0.\n",
      "  cell = tf.compat.v1.nn.rnn_cell.LSTMCell(hidden_d, name=name)\n",
      "/opt/anaconda3/lib/python3.9/site-packages/ckiptagger/model_ner.py:57: UserWarning: `tf.nn.rnn_cell.LSTMCell` is deprecated and will be removed in a future version. This class is equivalent as `tf.keras.layers.LSTMCell`, and will be replaced by that in Tensorflow 2.0.\n",
      "  cell = tf.compat.v1.nn.rnn_cell.LSTMCell(hidden_d, name=name)\n"
     ]
    }
   ],
   "source": [
    "# To use CPU:\n",
    "ws = WS(\"./data\")\n",
    "pos = POS(\"./data\")\n",
    "ner = NER(\"./data\")"
   ]
  },
  {
   "cell_type": "markdown",
   "id": "95b76d22",
   "metadata": {},
   "source": [
    "### 2.2 利用CKIP進行自然語言處理\n",
    "透過ckip這個套件可以對文集進行斷詞、命名實體辨識、詞性標記等處理\n",
    "+ CKIP 標註任務\n",
    "    + 斷詞（ws）\n",
    "        + 可以設定自己的辭典\n",
    "            + `recommend_dictionary` 推薦字典\n",
    "            + `coerce_dictionary` 強制字典\n",
    "    + 實體辨識（ner）\n",
    "    + 詞性標註（pos）\n",
    "        + 名詞對應: https://ckip.iis.sinica.edu.tw/service/corenlp/"
   ]
  },
  {
   "cell_type": "code",
   "execution_count": 83,
   "id": "fa81605a",
   "metadata": {},
   "outputs": [
    {
     "name": "stdout",
     "output_type": "stream",
     "text": [
      "[(4, {'魔法覺醒': 1.0, '睽違已久': 2.0})]\n"
     ]
    }
   ],
   "source": [
    "word_to_weight = {\n",
    "    \"魔法覺醒\": 1,\n",
    "    \"睽違已久\": 2,\n",
    "}\n",
    "dictionary1 = construct_dictionary(word_to_weight)\n",
    "print(dictionary1)"
   ]
  },
  {
   "cell_type": "code",
   "execution_count": 84,
   "id": "cc8896b7",
   "metadata": {},
   "outputs": [
    {
     "name": "stdout",
     "output_type": "stream",
     "text": [
      "\n",
      "sentence 0: 哈利波特魔法覺醒是一個中國網易代理的粉絲睽違已久的手遊app\n",
      "\n",
      "POS: \n",
      "哈利波特(Nb)　魔法覺醒(Nb)　是(SHI)　一(Neu)　個(Nf)　中國(Nc)　網易(Nb)　代理(VC)　的(DE)　粉絲(Na)　睽違已久(VH)　的(DE)　手遊(Na)　app(FW)　\n",
      "\n",
      "NER: \n",
      "(11, 13, 'NORP', '中國')\n",
      "(13, 15, 'ORG', '網易')\n",
      "\n",
      "sentence 1: 很多人滿心期待這款英國出品的遊戲，卻又害怕受傷害\n",
      "\n",
      "POS: \n",
      "很多(Neqa)　人(Na)　滿心(D)　期待(VK)　這(Nep)　款(Nf)　英國(Nc)　出品(VC)　的(DE)　遊戲(Na)　，(COMMACATEGORY)　卻(D)　又(D)　害怕(VK)　受(VJ)　傷害(Na)　\n",
      "\n",
      "NER: \n",
      "(9, 11, 'GPE', '英國')\n"
     ]
    }
   ],
   "source": [
    "sentence_list = [\n",
    "    \"哈利波特魔法覺醒是一個中國網易代理的粉絲睽違已久的手遊app\",\n",
    "     \"很多人滿心期待這款英國出品的遊戲，卻又害怕受傷害\"\n",
    "]\n",
    "\n",
    "word_sentence_list = ws(sentence_list, coerce_dictionary = dictionary1)  # 斷詞\n",
    "pos_sentence_list = pos(word_sentence_list)\n",
    "entity_sentence_list = ner(word_sentence_list, pos_sentence_list)\n",
    "\n",
    "def print_word_pos_sentence(word_sentence, pos_sentence):\n",
    "    assert len(word_sentence) == len(pos_sentence)\n",
    "    for word, pos in zip(word_sentence, pos_sentence):\n",
    "        print(f\"{word}({pos})\", end=\"\\u3000\")\n",
    "    print()\n",
    "    return\n",
    "    \n",
    "for i, sentence in enumerate(sentence_list):\n",
    "    print()\n",
    "    print(f\"sentence {i}: {sentence}\")\n",
    "    print(\"\\nPOS: \")\n",
    "    print_word_pos_sentence(word_sentence_list[i],  pos_sentence_list[i])\n",
    "    print(\"\\nNER: \")\n",
    "    for entity in sorted(entity_sentence_list[i]):\n",
    "        print(entity)"
   ]
  },
  {
   "attachments": {},
   "cell_type": "markdown",
   "id": "fa6b44f4",
   "metadata": {},
   "source": [
    "## 3. CKIP 標註"
   ]
  },
  {
   "attachments": {},
   "cell_type": "markdown",
   "id": "8461310e",
   "metadata": {},
   "source": [
    "### 3.1 將抓取結果用CKIP進行處理\n",
    "資料來源：\n",
    "+ 工作流程平台蒐集PTT 美食版(Food)所有文章\n",
    "+ 關鍵字:「吃到飽」(1630筆)\n",
    "+ 時間: 2020-01-10 ~ 2022-12-31\n",
    "\n",
    "我們已經介紹過coreNLP的使用方式，現在來對PTT的資料使用coreNLP進行自然語言處理"
   ]
  },
  {
   "cell_type": "code",
   "execution_count": 85,
   "id": "af3e34be",
   "metadata": {},
   "outputs": [
    {
     "data": {
      "text/html": [
       "<div>\n",
       "<style scoped>\n",
       "    .dataframe tbody tr th:only-of-type {\n",
       "        vertical-align: middle;\n",
       "    }\n",
       "\n",
       "    .dataframe tbody tr th {\n",
       "        vertical-align: top;\n",
       "    }\n",
       "\n",
       "    .dataframe thead th {\n",
       "        text-align: right;\n",
       "    }\n",
       "</style>\n",
       "<table border=\"1\" class=\"dataframe\">\n",
       "  <thead>\n",
       "    <tr style=\"text-align: right;\">\n",
       "      <th></th>\n",
       "      <th>system_id</th>\n",
       "      <th>artUrl</th>\n",
       "      <th>artTitle</th>\n",
       "      <th>artDate</th>\n",
       "      <th>artPoster</th>\n",
       "      <th>artCatagory</th>\n",
       "      <th>artContent</th>\n",
       "      <th>artComment</th>\n",
       "      <th>e_ip</th>\n",
       "      <th>insertedDate</th>\n",
       "      <th>dataSource</th>\n",
       "    </tr>\n",
       "  </thead>\n",
       "  <tbody>\n",
       "    <tr>\n",
       "      <th>0</th>\n",
       "      <td>1</td>\n",
       "      <td>https://www.ptt.cc/bbs/Food/M.1577942161.A.AC4...</td>\n",
       "      <td>[食記]台北中正濃咖哩平價美味份量大</td>\n",
       "      <td>2020-01-02 05:09:58</td>\n",
       "      <td>ideos</td>\n",
       "      <td>Food</td>\n",
       "      <td>餐廳名稱：濃咖哩\\n   消費時間：2019年1/12月\\n          (例：201...</td>\n",
       "      <td>[]</td>\n",
       "      <td>111.250.1.231</td>\n",
       "      <td>2020-01-02 00:21:09</td>\n",
       "      <td>ptt</td>\n",
       "    </tr>\n",
       "    <tr>\n",
       "      <th>1</th>\n",
       "      <td>2</td>\n",
       "      <td>https://www.ptt.cc/bbs/Food/M.1577983692.A.794...</td>\n",
       "      <td>[抱怨]ATT4FUN乾杯點沙朗多注意</td>\n",
       "      <td>2020-01-02 16:42:10</td>\n",
       "      <td>justin81828</td>\n",
       "      <td>Food</td>\n",
       "      <td>餐廳名稱：乾杯\\n\\n  地址：ATT4FUN 乾杯\\n  電話：02-87860808\\n...</td>\n",
       "      <td>[{\"cmtStatus\": \"推\", \"cmtPoster\": \"KKyosuke\", \"...</td>\n",
       "      <td>118.169.82.96</td>\n",
       "      <td>2020-01-03 00:22:27</td>\n",
       "      <td>ptt</td>\n",
       "    </tr>\n",
       "    <tr>\n",
       "      <th>2</th>\n",
       "      <td>3</td>\n",
       "      <td>https://www.ptt.cc/bbs/Food/M.1577985452.A.477...</td>\n",
       "      <td>[食記]台北大安區六張犁站捷運小慧涼麵</td>\n",
       "      <td>2020-01-02 17:11:29</td>\n",
       "      <td>v84454058</td>\n",
       "      <td>Food</td>\n",
       "      <td>餐廳名稱：小慧涼麵\\n   消費時間：2018年/11月起多訪\\n   地址：台北市大安區臥...</td>\n",
       "      <td>[]</td>\n",
       "      <td>123.194.196.149</td>\n",
       "      <td>2020-01-03 00:22:34</td>\n",
       "      <td>ptt</td>\n",
       "    </tr>\n",
       "  </tbody>\n",
       "</table>\n",
       "</div>"
      ],
      "text/plain": [
       "   system_id                                             artUrl  \\\n",
       "0          1  https://www.ptt.cc/bbs/Food/M.1577942161.A.AC4...   \n",
       "1          2  https://www.ptt.cc/bbs/Food/M.1577983692.A.794...   \n",
       "2          3  https://www.ptt.cc/bbs/Food/M.1577985452.A.477...   \n",
       "\n",
       "              artTitle              artDate    artPoster artCatagory  \\\n",
       "0   [食記]台北中正濃咖哩平價美味份量大  2020-01-02 05:09:58        ideos        Food   \n",
       "1  [抱怨]ATT4FUN乾杯點沙朗多注意  2020-01-02 16:42:10  justin81828        Food   \n",
       "2  [食記]台北大安區六張犁站捷運小慧涼麵  2020-01-02 17:11:29    v84454058        Food   \n",
       "\n",
       "                                          artContent  \\\n",
       "0  餐廳名稱：濃咖哩\\n   消費時間：2019年1/12月\\n          (例：201...   \n",
       "1  餐廳名稱：乾杯\\n\\n  地址：ATT4FUN 乾杯\\n  電話：02-87860808\\n...   \n",
       "2  餐廳名稱：小慧涼麵\\n   消費時間：2018年/11月起多訪\\n   地址：台北市大安區臥...   \n",
       "\n",
       "                                          artComment             e_ip  \\\n",
       "0                                                 []    111.250.1.231   \n",
       "1  [{\"cmtStatus\": \"推\", \"cmtPoster\": \"KKyosuke\", \"...    118.169.82.96   \n",
       "2                                                 []  123.194.196.149   \n",
       "\n",
       "          insertedDate dataSource  \n",
       "0  2020-01-02 00:21:09        ptt  \n",
       "1  2020-01-03 00:22:27        ptt  \n",
       "2  2020-01-03 00:22:34        ptt  "
      ]
     },
     "execution_count": 85,
     "metadata": {},
     "output_type": "execute_result"
    }
   ],
   "source": [
    "## 讀取文章\n",
    "df = pd.read_csv('./raw_data/zh/buffet_20_22.csv')\n",
    "df.head(3)"
   ]
  },
  {
   "attachments": {},
   "cell_type": "markdown",
   "id": "8f0fd904",
   "metadata": {},
   "source": [
    "定義文字清理的相關function"
   ]
  },
  {
   "cell_type": "code",
   "execution_count": 86,
   "id": "6c8e5837",
   "metadata": {},
   "outputs": [],
   "source": [
    "def Segmentation_Core(data, tokenizer):\n",
    "    # 將所有的斷行字元配上 escape 以防失效\n",
    "    regexPattern = '|'.join(map(re.escape, tokenizer))\n",
    "    output_list = re.split(regexPattern, data)\n",
    "    # 過濾空白行\n",
    "    output_list = list(filter(None, output_list))\n",
    "    return output_list\n",
    "\n",
    "def Sentence_Segmentation(article, keep_digits=False, keep_alphabets=False):\n",
    "    \"\"\" Sentence_Segmentation function 用於執行中文斷行任務\n",
    "\n",
    "    順序如下：\n",
    "    1. 去除(\\\\n)\n",
    "    2. 去除特殊符號字元\n",
    "    3. 保留數字\n",
    "    4. 依照斷句字元進行斷句全形的分號、逗號、句號、問號以及驚嘆號\n",
    "    5. 避免空白斷句結果\n",
    "\n",
    "    Args:\n",
    "        article(string): 欲斷行之文章內容\n",
    "        keep_digits(Boolean): 決定是否保留數字於斷行後的結果\n",
    "        keep_alphabets(Boolean): 決定是否保留字母於斷行後的結果\n",
    "    Returns:\n",
    "        List [] 每個 element 就是一行\n",
    "    \"\"\"\n",
    "    final_res = []\n",
    "    sepical_symbols = r'[.＂<>:《》+\\-=#$%&()*@＃＄％＆＇\\(\\)\\[\\]\\{\\}（）＊＋－／：\\\n",
    "    ＜＝＞＠［＼］＾＿｀｛｜｝～｟｠｢｣､、〃》「」『』【】〔〕〖〗〘〙〚〛〜〝〞〟〰〾〿–—一‘’‛“”„‟…‧﹏★→─]+'\n",
    "    segmentation_used_note = (\";\", \"；\", \"！\", \"!\", \"？\", \"?\", \"。\")\n",
    "    \n",
    "#     paragraphs = list(filter(None, article.split(\"\\n\")))\n",
    "    paragraphs = list(filter(lambda x: re.sub(r'\\s+','', x), article.split(\"\\n\")))\n",
    "#     print(len(paragraphs))\n",
    "#     print(paragraphs)\n",
    "    result = []\n",
    "    for paragraph in paragraphs:\n",
    "\n",
    "        clean_paragraph = paragraph\n",
    "        try:\n",
    "            if not keep_digits:\n",
    "                clean_paragraph = re.sub(r'\\d*\\.?\\d+','', clean_paragraph) #remove space & digits\n",
    "            if not keep_alphabets:\n",
    "                clean_paragraph = re.sub('[a-zA-Z]+', '', clean_paragraph)\n",
    "            \n",
    "            clean_paragraph = re.sub(r'[\\s]+','', clean_paragraph) #remove space\n",
    "            \n",
    "            clean_paragraph = re.sub(sepical_symbols,'',clean_paragraph)\n",
    "            \n",
    "        except:\n",
    "            _logger.info(\"error\")\n",
    "            return \"error\"\n",
    "        \n",
    "        res = Segmentation_Core(clean_paragraph, segmentation_used_note)\n",
    "        result.append(res)\n",
    "    \n",
    "    return result"
   ]
  },
  {
   "attachments": {},
   "cell_type": "markdown",
   "id": "6d9ff149",
   "metadata": {},
   "source": [
    "(2) CKIP 處理相關function"
   ]
  },
  {
   "cell_type": "code",
   "execution_count": 87,
   "id": "a8c60143",
   "metadata": {},
   "outputs": [
    {
     "name": "stdout",
     "output_type": "stream",
     "text": [
      "[(2, {'拌飯': 500.0, '嚼勁': 500.0}), (3, {'重口味': 500.0, '炸物區': 500.0, '雞腿排': 500.0, '鴛鴦鍋': 500.0, '醬料區': 500.0, '新馬辣': 500.0, '肉次方': 500.0, '雪花牛': 500.0, '梅花豬': 500.0, '自助區': 500.0, '新北市': 500.0, '壽喜燒': 500.0, '握壽司': 500.0, '火鍋料': 500.0, '鮭魚卵': 500.0, '土瓶蒸': 500.0, '信義店': 500.0, '文山店': 500.0, '大安店': 500.0, '忠孝店': 500.0}), (4, {'饗食天堂': 500.0, '漢來海港': 500.0, '肋眼牛排': 500.0, '石頭火鍋': 500.0, '平日晚餐': 500.0, '韓式炸雞': 500.0, '梅花豬肉': 500.0, '日本料理': 500.0, '玉米濃湯': 500.0, '生菜沙拉': 500.0, '天使紅蝦': 500.0, '麻辣鴨血': 500.0, '火烤兩吃': 500.0, '剝皮辣椒': 500.0, '一蘭拉麵': 500.0})]\n"
     ]
    }
   ],
   "source": [
    "# 自定義辭典\n",
    "with open('dict/user_dict.txt') as f:\n",
    "    lines = f.read().splitlines()\n",
    "\n",
    "dict = {k.split()[0]: k.split()[1] for v, k in enumerate(lines)}\n",
    "dictionary2 = construct_dictionary(dict)\n",
    "print(dictionary2)"
   ]
  },
  {
   "cell_type": "code",
   "execution_count": 88,
   "id": "093e1777",
   "metadata": {
    "scrolled": true
   },
   "outputs": [],
   "source": [
    "def get_pos(post_id, word_sentence, pos_sentence):\n",
    "    tokens = []\n",
    "#     print(\"\\nPOS: \", end=\"\\u3000\")\n",
    "    assert len(word_sentence) == len(pos_sentence)\n",
    "    for word, pos in zip(word_sentence, pos_sentence): # token level\n",
    "        tokens.append([post_id,word,pos]) \n",
    "#         print(f\"{word}({pos})\", end=\"\\u3000\")\n",
    "    return tokens\n",
    "\n",
    "def get_ner(post_id, entity_sentence):\n",
    "    entities = []\n",
    "#     print(\"\\nNER:___________ \")\n",
    "    for entity in sorted(entity_sentence): # token level\n",
    "        entities.append([post_id, entity[3],entity[2]]) \n",
    "    return entities\n",
    "\n",
    "def get_nlp_result(data_df):\n",
    "    start = time.time()\n",
    "\n",
    "    pos_list = []\n",
    "    entity_list = []\n",
    "    sentence_list = []\n",
    "    \n",
    "    for index, row in data_df.iterrows(): # document level    \n",
    "#         print(f\"\\ndocument {index}\") \n",
    "\n",
    "        # clean data\n",
    "        result = [] \n",
    "        tmp = Sentence_Segmentation(row['artContent']) \n",
    "        flat_list = [item for sublist in tmp for item in sublist]\n",
    "\n",
    "        # ckip\n",
    "        word_sentence_list = ws(flat_list, coerce_dictionary = dictionary2) # set dictionary \n",
    "        pos_sentence_list = pos(word_sentence_list)\n",
    "        entity_sentence_list = ner(word_sentence_list, pos_sentence_list)\n",
    "\n",
    "        for i, sentence in enumerate(flat_list): # sentence level\n",
    "#             print(f\"sentence {i}: {sentence}\")\n",
    "            sentence_list.append([row['system_id'],sentence])            \n",
    "            temp_tokens = get_pos(row['system_id'],word_sentence_list[i],  pos_sentence_list[i])\n",
    "            temp_entites = get_ner(row['system_id'],entity_sentence_list[i])\n",
    "\n",
    "            pos_list.append(temp_tokens)\n",
    "            if len(temp_entites) != 0:\n",
    "                entity_list.append(temp_entites)\n",
    "            \n",
    "    pos_flat = [item for sublist in pos_list for item in sublist]\n",
    "    entity_flat = [item for sublist in entity_list for item in sublist]\n",
    "\n",
    "    pos_table = pd.DataFrame(data=pos_flat, \n",
    "                    columns=['system_id','word','pos'])        \n",
    "    \n",
    "    entity_table = pd.DataFrame(data=entity_flat, \n",
    "                        columns=['system_id','word','ner']) \n",
    "\n",
    "    sentence_table = pd.DataFrame(data=sentence_list, \n",
    "                    columns=['system_id','sentence']) \n",
    "\n",
    "    end = time.time()\n",
    "    print(\"time costing: {}\".format(end - start))\n",
    "\n",
    "    return pos_table, entity_table, sentence_table"
   ]
  },
  {
   "cell_type": "code",
   "execution_count": 89,
   "id": "b1be4ed2",
   "metadata": {
    "scrolled": true
   },
   "outputs": [
    {
     "name": "stdout",
     "output_type": "stream",
     "text": [
      "time costing: 1298.3148601055145\n"
     ]
    }
   ],
   "source": [
    "pos_table, entity_table, sentence_table = get_nlp_result(df)"
   ]
  },
  {
   "attachments": {},
   "cell_type": "markdown",
   "id": "828b41de",
   "metadata": {},
   "source": [
    "+ 欄位名稱介紹\n",
    "    + pos_table 欄位:\n",
    "        + system_id : ptt 貼文id\n",
    "        + word: 原始斷詞\n",
    "        + pos : part-of-speech,詞性\n",
    "    + entity_table 欄位:\n",
    "        + system_id : ptt 貼文id\n",
    "        + word: 原始斷詞\n",
    "        + ner: 命名實體\n",
    "    + sentence_table 欄位:\n",
    "        + system_id : ptt 貼文id\n",
    "        + text: 原始斷句"
   ]
  },
  {
   "cell_type": "code",
   "execution_count": 90,
   "id": "973b8efd",
   "metadata": {},
   "outputs": [
    {
     "data": {
      "text/html": [
       "<div>\n",
       "<style scoped>\n",
       "    .dataframe tbody tr th:only-of-type {\n",
       "        vertical-align: middle;\n",
       "    }\n",
       "\n",
       "    .dataframe tbody tr th {\n",
       "        vertical-align: top;\n",
       "    }\n",
       "\n",
       "    .dataframe thead th {\n",
       "        text-align: right;\n",
       "    }\n",
       "</style>\n",
       "<table border=\"1\" class=\"dataframe\">\n",
       "  <thead>\n",
       "    <tr style=\"text-align: right;\">\n",
       "      <th></th>\n",
       "      <th>system_id</th>\n",
       "      <th>word</th>\n",
       "      <th>pos</th>\n",
       "    </tr>\n",
       "  </thead>\n",
       "  <tbody>\n",
       "    <tr>\n",
       "      <th>0</th>\n",
       "      <td>1</td>\n",
       "      <td>餐廳</td>\n",
       "      <td>Nc</td>\n",
       "    </tr>\n",
       "    <tr>\n",
       "      <th>1</th>\n",
       "      <td>1</td>\n",
       "      <td>名稱</td>\n",
       "      <td>Na</td>\n",
       "    </tr>\n",
       "    <tr>\n",
       "      <th>2</th>\n",
       "      <td>1</td>\n",
       "      <td>濃咖哩</td>\n",
       "      <td>Nb</td>\n",
       "    </tr>\n",
       "    <tr>\n",
       "      <th>3</th>\n",
       "      <td>1</td>\n",
       "      <td>消費</td>\n",
       "      <td>Na</td>\n",
       "    </tr>\n",
       "    <tr>\n",
       "      <th>4</th>\n",
       "      <td>1</td>\n",
       "      <td>時間</td>\n",
       "      <td>Na</td>\n",
       "    </tr>\n",
       "  </tbody>\n",
       "</table>\n",
       "</div>"
      ],
      "text/plain": [
       "   system_id word pos\n",
       "0          1   餐廳  Nc\n",
       "1          1   名稱  Na\n",
       "2          1  濃咖哩  Nb\n",
       "3          1   消費  Na\n",
       "4          1   時間  Na"
      ]
     },
     "execution_count": 90,
     "metadata": {},
     "output_type": "execute_result"
    }
   ],
   "source": [
    "pos_table.head(5) # word pos 列表"
   ]
  },
  {
   "cell_type": "code",
   "execution_count": 91,
   "id": "ac8c2589",
   "metadata": {},
   "outputs": [
    {
     "data": {
      "text/html": [
       "<div>\n",
       "<style scoped>\n",
       "    .dataframe tbody tr th:only-of-type {\n",
       "        vertical-align: middle;\n",
       "    }\n",
       "\n",
       "    .dataframe tbody tr th {\n",
       "        vertical-align: top;\n",
       "    }\n",
       "\n",
       "    .dataframe thead th {\n",
       "        text-align: right;\n",
       "    }\n",
       "</style>\n",
       "<table border=\"1\" class=\"dataframe\">\n",
       "  <thead>\n",
       "    <tr style=\"text-align: right;\">\n",
       "      <th></th>\n",
       "      <th>system_id</th>\n",
       "      <th>word</th>\n",
       "      <th>ner</th>\n",
       "    </tr>\n",
       "  </thead>\n",
       "  <tbody>\n",
       "    <tr>\n",
       "      <th>0</th>\n",
       "      <td>1</td>\n",
       "      <td>例年月</td>\n",
       "      <td>DATE</td>\n",
       "    </tr>\n",
       "    <tr>\n",
       "      <th>1</th>\n",
       "      <td>1</td>\n",
       "      <td>台北市</td>\n",
       "      <td>GPE</td>\n",
       "    </tr>\n",
       "    <tr>\n",
       "      <th>2</th>\n",
       "      <td>1</td>\n",
       "      <td>開封街</td>\n",
       "      <td>LOC</td>\n",
       "    </tr>\n",
       "    <tr>\n",
       "      <th>3</th>\n",
       "      <td>1</td>\n",
       "      <td>開封街高雄銀行</td>\n",
       "      <td>FAC</td>\n",
       "    </tr>\n",
       "    <tr>\n",
       "      <th>4</th>\n",
       "      <td>1</td>\n",
       "      <td>日式</td>\n",
       "      <td>GPE</td>\n",
       "    </tr>\n",
       "  </tbody>\n",
       "</table>\n",
       "</div>"
      ],
      "text/plain": [
       "   system_id     word   ner\n",
       "0          1      例年月  DATE\n",
       "1          1      台北市   GPE\n",
       "2          1      開封街   LOC\n",
       "3          1  開封街高雄銀行   FAC\n",
       "4          1       日式   GPE"
      ]
     },
     "execution_count": 91,
     "metadata": {},
     "output_type": "execute_result"
    }
   ],
   "source": [
    "entity_table.head(5) # word entity 列表"
   ]
  },
  {
   "cell_type": "code",
   "execution_count": 92,
   "id": "fda685c4",
   "metadata": {},
   "outputs": [
    {
     "name": "stdout",
     "output_type": "stream",
     "text": [
      "total posts numbers: 1628\n",
      "posts have NER: 1620\n"
     ]
    }
   ],
   "source": [
    "# 檢查筆數正不正確\n",
    "print(f\"total posts numbers: {len(pos_table['system_id'].unique())}\") # 1628篇文\n",
    "print(f\"posts have NER: {len(entity_table['system_id'].unique())}\") # 1620篇有抓到ner"
   ]
  },
  {
   "cell_type": "code",
   "execution_count": 93,
   "id": "18783e1e",
   "metadata": {},
   "outputs": [],
   "source": [
    "# 將文章存成csv\n",
    "pos_table.to_csv('raw_data/zh/pos_table_buffet.csv', index = False)\n",
    "entity_table.to_csv('raw_data/zh/entity_table_buffet.csv', index = False)\n",
    "sentence_table.to_csv('raw_data/zh/sentence_table_buffet.csv', index = False)"
   ]
  },
  {
   "attachments": {},
   "cell_type": "markdown",
   "id": "5be6f411",
   "metadata": {},
   "source": [
    "### 3.2 探索分析 - NER"
   ]
  },
  {
   "cell_type": "markdown",
   "id": "3fce95a7",
   "metadata": {},
   "source": [
    "將剛才分析的資料匯入"
   ]
  },
  {
   "cell_type": "code",
   "execution_count": 94,
   "id": "7f7378ec",
   "metadata": {},
   "outputs": [],
   "source": [
    "# 讀取已經執行完畢的結果\n",
    "pos_table = pd.read_csv(\"raw_data/zh/pos_table_buffet.csv\") \n",
    "entity_table = pd.read_csv(\"raw_data/zh/entity_table_buffet.csv\") \n",
    "sentence_table = pd.read_csv(\"raw_data/zh/sentence_table_buffet.csv\") "
   ]
  },
  {
   "cell_type": "markdown",
   "id": "22825a92",
   "metadata": {},
   "source": [
    "### NER 種類分析\n",
    "查看標註這個文集後辨識出哪一些實體種類"
   ]
  },
  {
   "cell_type": "code",
   "execution_count": 95,
   "id": "b3f4480d",
   "metadata": {
    "tags": []
   },
   "outputs": [
    {
     "data": {
      "text/plain": [
       "array(['DATE', 'GPE', 'LOC', 'FAC', 'NORP', 'WORK_OF_ART', 'TIME',\n",
       "       'PERSON', 'CARDINAL', 'ORG', 'LANGUAGE', 'ORDINAL', 'PRODUCT',\n",
       "       'MONEY', 'QUANTITY', 'EVENT', 'PERCENT', 'LAW'], dtype=object)"
      ]
     },
     "execution_count": 95,
     "metadata": {},
     "output_type": "execute_result"
    }
   ],
   "source": [
    "entity_table['ner'].unique()"
   ]
  },
  {
   "cell_type": "code",
   "execution_count": 96,
   "id": "04d44a36",
   "metadata": {
    "scrolled": true
   },
   "outputs": [
    {
     "data": {
      "text/html": [
       "<div>\n",
       "<style scoped>\n",
       "    .dataframe tbody tr th:only-of-type {\n",
       "        vertical-align: middle;\n",
       "    }\n",
       "\n",
       "    .dataframe tbody tr th {\n",
       "        vertical-align: top;\n",
       "    }\n",
       "\n",
       "    .dataframe thead th {\n",
       "        text-align: right;\n",
       "    }\n",
       "</style>\n",
       "<table border=\"1\" class=\"dataframe\">\n",
       "  <thead>\n",
       "    <tr style=\"text-align: right;\">\n",
       "      <th></th>\n",
       "      <th>ner</th>\n",
       "      <th>count</th>\n",
       "    </tr>\n",
       "  </thead>\n",
       "  <tbody>\n",
       "    <tr>\n",
       "      <th>4</th>\n",
       "      <td>GPE</td>\n",
       "      <td>10318</td>\n",
       "    </tr>\n",
       "    <tr>\n",
       "      <th>0</th>\n",
       "      <td>CARDINAL</td>\n",
       "      <td>7162</td>\n",
       "    </tr>\n",
       "    <tr>\n",
       "      <th>3</th>\n",
       "      <td>FAC</td>\n",
       "      <td>3585</td>\n",
       "    </tr>\n",
       "    <tr>\n",
       "      <th>13</th>\n",
       "      <td>PERSON</td>\n",
       "      <td>3358</td>\n",
       "    </tr>\n",
       "    <tr>\n",
       "      <th>1</th>\n",
       "      <td>DATE</td>\n",
       "      <td>3320</td>\n",
       "    </tr>\n",
       "    <tr>\n",
       "      <th>9</th>\n",
       "      <td>NORP</td>\n",
       "      <td>3003</td>\n",
       "    </tr>\n",
       "    <tr>\n",
       "      <th>11</th>\n",
       "      <td>ORG</td>\n",
       "      <td>2419</td>\n",
       "    </tr>\n",
       "    <tr>\n",
       "      <th>7</th>\n",
       "      <td>LOC</td>\n",
       "      <td>2377</td>\n",
       "    </tr>\n",
       "  </tbody>\n",
       "</table>\n",
       "</div>"
      ],
      "text/plain": [
       "         ner  count\n",
       "4        GPE  10318\n",
       "0   CARDINAL   7162\n",
       "3        FAC   3585\n",
       "13    PERSON   3358\n",
       "1       DATE   3320\n",
       "9       NORP   3003\n",
       "11       ORG   2419\n",
       "7        LOC   2377"
      ]
     },
     "execution_count": 96,
     "metadata": {},
     "output_type": "execute_result"
    }
   ],
   "source": [
    "ner_count = entity_table.groupby(['ner'])['ner'].count().reset_index(name='count').sort_values(['count'], ascending=False).head(8)\n",
    "ner_count"
   ]
  },
  {
   "cell_type": "code",
   "execution_count": 97,
   "id": "643de011",
   "metadata": {},
   "outputs": [
    {
     "name": "stderr",
     "output_type": "stream",
     "text": [
      "/var/folders/wb/4p2wtwfn0hbfl5wk9721_6gm0000gn/T/ipykernel_63821/3390866936.py:10: UserWarning: Matplotlib is currently using module://matplotlib_inline.backend_inline, which is a non-GUI backend, so cannot show the figure.\n",
      "  fig.show()\n"
     ]
    },
    {
     "data": {
      "image/png": "[encoded data removed]",
      "text/plain": [
       "<Figure size 864x504 with 1 Axes>"
      ]
     },
     "metadata": {
      "needs_background": "light"
     },
     "output_type": "display_data"
    }
   ],
   "source": [
    "ner = ner_count['ner']\n",
    "count = ner_count['count']\n",
    "\n",
    "fig, ax = plt.subplots(figsize =(12, 7))\n",
    "ax.barh(ner, count)\n",
    "ax.invert_yaxis()\n",
    "ax.set_title('NER Frequency of PTT Food',loc ='left', size = 14)\n",
    "ax.set_ylabel('ner', size = 14)\n",
    "ax.set_xlabel('Frequency', size = 14)\n",
    "fig.show()"
   ]
  },
  {
   "cell_type": "markdown",
   "id": "d982eedc",
   "metadata": {},
   "source": [
    "### 涉及到的人名(PERSON)"
   ]
  },
  {
   "cell_type": "code",
   "execution_count": 98,
   "id": "42b5491b",
   "metadata": {},
   "outputs": [
    {
     "name": "stderr",
     "output_type": "stream",
     "text": [
      "/var/folders/wb/4p2wtwfn0hbfl5wk9721_6gm0000gn/T/ipykernel_63821/2044175467.py:21: UserWarning: Matplotlib is currently using module://matplotlib_inline.backend_inline, which is a non-GUI backend, so cannot show the figure.\n",
      "  fig.show()\n"
     ]
    },
    {
     "data": {
      "image/png": "[encoded data removed]",
      "text/plain": [
       "<Figure size 864x504 with 1 Axes>"
      ]
     },
     "metadata": {
      "needs_background": "light"
     },
     "output_type": "display_data"
    }
   ],
   "source": [
    "# 篩選ner為名詞的資料\n",
    "l_noun = [\"PERSON\"]\n",
    "PERSON = entity_table[entity_table.ner.isin(l_noun)]\n",
    "\n",
    "# # 計算每個名詞提到的次數，選出前8個\n",
    "ner_count = PERSON.groupby('word')['word'].agg(['count'])\n",
    "ner_count = ner_count.sort_values(['count'],ascending=False)['count'].nlargest(8).reset_index()\n",
    "ner_count\n",
    "\n",
    "# 設定中文字形\n",
    "plt.rcParams['font.sans-serif'] = ['SimHei'] \n",
    "word = ner_count['word']\n",
    "count = ner_count['count']\n",
    "\n",
    "fig, ax = plt.subplots(figsize =(12, 7))\n",
    "ax.barh(word, count)\n",
    "ax.invert_yaxis()\n",
    "ax.set_title('Word Frequency (NER is PERSON)',loc ='left', size = 14)\n",
    "ax.set_ylabel('NER', size = 14)\n",
    "ax.set_xlabel('Word Frequency', size = 14)\n",
    "fig.show()"
   ]
  },
  {
   "cell_type": "markdown",
   "id": "ae31c923",
   "metadata": {},
   "source": [
    "看一下含特定關鍵字的貼文內容"
   ]
  },
  {
   "cell_type": "code",
   "execution_count": 102,
   "id": "8fadc15c",
   "metadata": {
    "scrolled": true
   },
   "outputs": [
    {
     "name": "stdout",
     "output_type": "stream",
     "text": [
      "旭集：37篇相關貼文\n"
     ]
    },
    {
     "data": {
      "text/html": [
       "<div>\n",
       "<style scoped>\n",
       "    .dataframe tbody tr th:only-of-type {\n",
       "        vertical-align: middle;\n",
       "    }\n",
       "\n",
       "    .dataframe tbody tr th {\n",
       "        vertical-align: top;\n",
       "    }\n",
       "\n",
       "    .dataframe thead th {\n",
       "        text-align: right;\n",
       "    }\n",
       "</style>\n",
       "<table border=\"1\" class=\"dataframe\">\n",
       "  <thead>\n",
       "    <tr style=\"text-align: right;\">\n",
       "      <th></th>\n",
       "      <th>system_id</th>\n",
       "      <th>artUrl</th>\n",
       "      <th>artTitle</th>\n",
       "      <th>artDate</th>\n",
       "      <th>artPoster</th>\n",
       "      <th>artCatagory</th>\n",
       "      <th>artContent</th>\n",
       "      <th>artComment</th>\n",
       "      <th>e_ip</th>\n",
       "      <th>insertedDate</th>\n",
       "      <th>dataSource</th>\n",
       "    </tr>\n",
       "  </thead>\n",
       "  <tbody>\n",
       "    <tr>\n",
       "      <th>13</th>\n",
       "      <td>14</td>\n",
       "      <td>https://www.ptt.cc/bbs/Food/M.1578729503.A.F3E...</td>\n",
       "      <td>[食記]台北旭集假日午餐吃到飽松葉蟹干貝和牛</td>\n",
       "      <td>2020-01-11 07:52:14</td>\n",
       "      <td>yoci0722</td>\n",
       "      <td>Food</td>\n",
       "      <td>餐廳名稱：旭集和食集錦\\n   消費時間：2020年/1月\\n          (例：20...</td>\n",
       "      <td>[]</td>\n",
       "      <td>36.227.86.50</td>\n",
       "      <td>2020-01-12 00:19:09</td>\n",
       "      <td>ptt</td>\n",
       "    </tr>\n",
       "    <tr>\n",
       "      <th>68</th>\n",
       "      <td>69</td>\n",
       "      <td>https://www.ptt.cc/bbs/Food/M.1581924705.A.65E...</td>\n",
       "      <td>[食記]台北旭集-一位難求！索性直接去碰運氣..</td>\n",
       "      <td>2020-02-17 07:25:42</td>\n",
       "      <td>tiantian27</td>\n",
       "      <td>Food</td>\n",
       "      <td>餐廳名稱：旭集\\n   消費時間：2020年/2月\\n   地址：台北市信義區松仁路58號9...</td>\n",
       "      <td>[{\"cmtStatus\": \"推\", \"cmtPoster\": \"shink111\", \"...</td>\n",
       "      <td>111.240.31.20</td>\n",
       "      <td>2020-02-18 00:22:10</td>\n",
       "      <td>ptt</td>\n",
       "    </tr>\n",
       "    <tr>\n",
       "      <th>174</th>\n",
       "      <td>175</td>\n",
       "      <td>https://www.ptt.cc/bbs/Food/M.1586786166.A.E2B...</td>\n",
       "      <td>[食記]高雄饗食天堂-新菜單麵包蟹/鐵板羊肋排</td>\n",
       "      <td>2020-04-13 21:56:02</td>\n",
       "      <td>vhygdih</td>\n",
       "      <td>Food</td>\n",
       "      <td>餐廳名稱：饗食天堂 高雄店\\n   消費時間：2020年/04月\\n   地址:高雄市苓雅區...</td>\n",
       "      <td>[]</td>\n",
       "      <td>114.47.8.7</td>\n",
       "      <td>2020-04-14 00:05:02</td>\n",
       "      <td>ptt</td>\n",
       "    </tr>\n",
       "    <tr>\n",
       "      <th>286</th>\n",
       "      <td>287</td>\n",
       "      <td>https://www.ptt.cc/bbs/Food/M.1591433309.A.C42...</td>\n",
       "      <td>Fw:[食記]台北信義旭集和食集錦遠百信義A13</td>\n",
       "      <td>2020-06-06 16:48:28</td>\n",
       "      <td>windsora</td>\n",
       "      <td>Food</td>\n",
       "      <td>作者: windsora (Me food★Meet Food) 看板: EatToDie\\...</td>\n",
       "      <td>[]</td>\n",
       "      <td>61.231.194.209</td>\n",
       "      <td>2020-06-07 00:05:10</td>\n",
       "      <td>ptt</td>\n",
       "    </tr>\n",
       "    <tr>\n",
       "      <th>388</th>\n",
       "      <td>389</td>\n",
       "      <td>https://www.ptt.cc/bbs/Food/M.1596368298.A.200...</td>\n",
       "      <td>[食記]台北旭集和食集錦究極美味日式吃到飽</td>\n",
       "      <td>2020-08-02 19:38:08</td>\n",
       "      <td>gillianshine</td>\n",
       "      <td>Food</td>\n",
       "      <td>圖文網誌好讀版：\\nhttps://chantal1109.pixnet.net/blog/...</td>\n",
       "      <td>[]</td>\n",
       "      <td>118.169.14.110</td>\n",
       "      <td>2020-08-03 00:26:35</td>\n",
       "      <td>ptt</td>\n",
       "    </tr>\n",
       "    <tr>\n",
       "      <th>406</th>\n",
       "      <td>407</td>\n",
       "      <td>https://www.ptt.cc/bbs/Food/M.1597070588.A.4A4...</td>\n",
       "      <td>[食記]台北旭集日本料理吃到飽晚餐4小時任你吃</td>\n",
       "      <td>2020-08-10 22:43:05</td>\n",
       "      <td>ke6221</td>\n",
       "      <td>Food</td>\n",
       "      <td>餐廳名稱：旭集和食集錦\\n   消費時間：2020年/8月\\n   地址：110台北市信義區...</td>\n",
       "      <td>[]</td>\n",
       "      <td>39.11.230.97</td>\n",
       "      <td>2020-08-11 00:27:01</td>\n",
       "      <td>ptt</td>\n",
       "    </tr>\n",
       "    <tr>\n",
       "      <th>407</th>\n",
       "      <td>408</td>\n",
       "      <td>https://www.ptt.cc/bbs/Food/M.1597159954.A.EC4...</td>\n",
       "      <td>Fw:[食記]台北旭集~~黑鮪魚Toro吃到飽</td>\n",
       "      <td>2020-08-11 23:32:33</td>\n",
       "      <td>kenzo0228</td>\n",
       "      <td>Food</td>\n",
       "      <td>作者: kenzo0228 (Felix) 看板: EatToDie\\n標題: [食記] 台...</td>\n",
       "      <td>[{\"cmtStatus\": \"推\", \"cmtPoster\": \"dogbydog\", \"...</td>\n",
       "      <td>118.168.207.33</td>\n",
       "      <td>2020-08-12 00:56:03</td>\n",
       "      <td>ptt</td>\n",
       "    </tr>\n",
       "    <tr>\n",
       "      <th>462</th>\n",
       "      <td>463</td>\n",
       "      <td>https://www.ptt.cc/bbs/Food/M.1599522543.A.C31...</td>\n",
       "      <td>[食記]旭集和食集錦SUNRISE吃到飽</td>\n",
       "      <td>2020-09-08 07:48:58</td>\n",
       "      <td>gypsygirl</td>\n",
       "      <td>Food</td>\n",
       "      <td>餐廳名稱：旭集和食集錦 SUNRISE\\n   消費時間：2020年/8月\\n   地址：1...</td>\n",
       "      <td>[]</td>\n",
       "      <td>47.152.147.190</td>\n",
       "      <td>2020-09-09 00:05:25</td>\n",
       "      <td>ptt</td>\n",
       "    </tr>\n",
       "    <tr>\n",
       "      <th>634</th>\n",
       "      <td>635</td>\n",
       "      <td>https://www.ptt.cc/bbs/Food/M.1606649509.A.D4D...</td>\n",
       "      <td>[食記]『台北』饗響下午茶吃到飽</td>\n",
       "      <td>2020-11-29 19:31:46</td>\n",
       "      <td>yajuyeh</td>\n",
       "      <td>Food</td>\n",
       "      <td>餐廳名稱：『台北』饗響下午茶\\n   消費時間：2020年/5月\\n   地址：台北市信義區...</td>\n",
       "      <td>[]</td>\n",
       "      <td>111.71.52.31</td>\n",
       "      <td>2020-11-30 00:08:53</td>\n",
       "      <td>ptt</td>\n",
       "    </tr>\n",
       "    <tr>\n",
       "      <th>749</th>\n",
       "      <td>750</td>\n",
       "      <td>https://www.ptt.cc/bbs/Food/M.1611952848.A.9A6...</td>\n",
       "      <td>[食記]台北旭集日式料理吃到飽SUNRISE</td>\n",
       "      <td>2021-01-30 04:40:44</td>\n",
       "      <td>gypsygirl</td>\n",
       "      <td>Food</td>\n",
       "      <td>餐廳名稱：旭集和食集錦 SUNRISE\\n   消費時間：2020年/12月\\n   地址：...</td>\n",
       "      <td>[]</td>\n",
       "      <td>47.152.147.190</td>\n",
       "      <td>2021-01-31 00:26:29</td>\n",
       "      <td>ptt</td>\n",
       "    </tr>\n",
       "  </tbody>\n",
       "</table>\n",
       "</div>"
      ],
      "text/plain": [
       "     system_id                                             artUrl  \\\n",
       "13          14  https://www.ptt.cc/bbs/Food/M.1578729503.A.F3E...   \n",
       "68          69  https://www.ptt.cc/bbs/Food/M.1581924705.A.65E...   \n",
       "174        175  https://www.ptt.cc/bbs/Food/M.1586786166.A.E2B...   \n",
       "286        287  https://www.ptt.cc/bbs/Food/M.1591433309.A.C42...   \n",
       "388        389  https://www.ptt.cc/bbs/Food/M.1596368298.A.200...   \n",
       "406        407  https://www.ptt.cc/bbs/Food/M.1597070588.A.4A4...   \n",
       "407        408  https://www.ptt.cc/bbs/Food/M.1597159954.A.EC4...   \n",
       "462        463  https://www.ptt.cc/bbs/Food/M.1599522543.A.C31...   \n",
       "634        635  https://www.ptt.cc/bbs/Food/M.1606649509.A.D4D...   \n",
       "749        750  https://www.ptt.cc/bbs/Food/M.1611952848.A.9A6...   \n",
       "\n",
       "                     artTitle              artDate     artPoster artCatagory  \\\n",
       "13     [食記]台北旭集假日午餐吃到飽松葉蟹干貝和牛  2020-01-11 07:52:14      yoci0722        Food   \n",
       "68   [食記]台北旭集-一位難求！索性直接去碰運氣..  2020-02-17 07:25:42    tiantian27        Food   \n",
       "174   [食記]高雄饗食天堂-新菜單麵包蟹/鐵板羊肋排  2020-04-13 21:56:02       vhygdih        Food   \n",
       "286  Fw:[食記]台北信義旭集和食集錦遠百信義A13  2020-06-06 16:48:28      windsora        Food   \n",
       "388     [食記]台北旭集和食集錦究極美味日式吃到飽  2020-08-02 19:38:08  gillianshine        Food   \n",
       "406   [食記]台北旭集日本料理吃到飽晚餐4小時任你吃  2020-08-10 22:43:05        ke6221        Food   \n",
       "407   Fw:[食記]台北旭集~~黑鮪魚Toro吃到飽  2020-08-11 23:32:33     kenzo0228        Food   \n",
       "462      [食記]旭集和食集錦SUNRISE吃到飽  2020-09-08 07:48:58     gypsygirl        Food   \n",
       "634          [食記]『台北』饗響下午茶吃到飽  2020-11-29 19:31:46       yajuyeh        Food   \n",
       "749    [食記]台北旭集日式料理吃到飽SUNRISE  2021-01-30 04:40:44     gypsygirl        Food   \n",
       "\n",
       "                                            artContent  \\\n",
       "13   餐廳名稱：旭集和食集錦\\n   消費時間：2020年/1月\\n          (例：20...   \n",
       "68   餐廳名稱：旭集\\n   消費時間：2020年/2月\\n   地址：台北市信義區松仁路58號9...   \n",
       "174  餐廳名稱：饗食天堂 高雄店\\n   消費時間：2020年/04月\\n   地址:高雄市苓雅區...   \n",
       "286  作者: windsora (Me food★Meet Food) 看板: EatToDie\\...   \n",
       "388  圖文網誌好讀版：\\nhttps://chantal1109.pixnet.net/blog/...   \n",
       "406  餐廳名稱：旭集和食集錦\\n   消費時間：2020年/8月\\n   地址：110台北市信義區...   \n",
       "407  作者: kenzo0228 (Felix) 看板: EatToDie\\n標題: [食記] 台...   \n",
       "462  餐廳名稱：旭集和食集錦 SUNRISE\\n   消費時間：2020年/8月\\n   地址：1...   \n",
       "634  餐廳名稱：『台北』饗響下午茶\\n   消費時間：2020年/5月\\n   地址：台北市信義區...   \n",
       "749  餐廳名稱：旭集和食集錦 SUNRISE\\n   消費時間：2020年/12月\\n   地址：...   \n",
       "\n",
       "                                            artComment            e_ip  \\\n",
       "13                                                  []    36.227.86.50   \n",
       "68   [{\"cmtStatus\": \"推\", \"cmtPoster\": \"shink111\", \"...   111.240.31.20   \n",
       "174                                                 []      114.47.8.7   \n",
       "286                                                 []  61.231.194.209   \n",
       "388                                                 []  118.169.14.110   \n",
       "406                                                 []    39.11.230.97   \n",
       "407  [{\"cmtStatus\": \"推\", \"cmtPoster\": \"dogbydog\", \"...  118.168.207.33   \n",
       "462                                                 []  47.152.147.190   \n",
       "634                                                 []    111.71.52.31   \n",
       "749                                                 []  47.152.147.190   \n",
       "\n",
       "            insertedDate dataSource  \n",
       "13   2020-01-12 00:19:09        ptt  \n",
       "68   2020-02-18 00:22:10        ptt  \n",
       "174  2020-04-14 00:05:02        ptt  \n",
       "286  2020-06-07 00:05:10        ptt  \n",
       "388  2020-08-03 00:26:35        ptt  \n",
       "406  2020-08-11 00:27:01        ptt  \n",
       "407  2020-08-12 00:56:03        ptt  \n",
       "462  2020-09-09 00:05:25        ptt  \n",
       "634  2020-11-30 00:08:53        ptt  \n",
       "749  2021-01-31 00:26:29        ptt  "
      ]
     },
     "execution_count": 102,
     "metadata": {},
     "output_type": "execute_result"
    }
   ],
   "source": [
    "keyword_list = ['旭集']\n",
    "selected = df[df['artContent'].str.contains('|'.join(keyword_list),regex=True)]\n",
    "print(f\"{' '.join(keyword_list)}：{selected.shape[0]}篇相關貼文\")\n",
    "selected.head(10)"
   ]
  },
  {
   "attachments": {},
   "cell_type": "markdown",
   "id": "64171663",
   "metadata": {},
   "source": [
    "可以看到在疫情期間，「吃到飽」主題中「旭集」的討論度最高，貼文類型多數為食記，推測是因為開幕時間剛好在疫情剛爆發的時候（2019年底），同時因為是人氣吃到飽餐廳「饗食天堂」的姐妹品牌，故引起民眾廣泛的介紹、嚐鮮與討論。"
   ]
  },
  {
   "cell_type": "markdown",
   "id": "05bc726d",
   "metadata": {},
   "source": [
    "### 涉及到的組織(ORG)"
   ]
  },
  {
   "cell_type": "code",
   "execution_count": 103,
   "id": "1c22c8bd",
   "metadata": {},
   "outputs": [
    {
     "name": "stderr",
     "output_type": "stream",
     "text": [
      "/var/folders/wb/4p2wtwfn0hbfl5wk9721_6gm0000gn/T/ipykernel_63821/3690618897.py:21: UserWarning: Matplotlib is currently using module://matplotlib_inline.backend_inline, which is a non-GUI backend, so cannot show the figure.\n",
      "  fig.show()\n"
     ]
    },
    {
     "data": {
      "image/png": "[encoded data removed]",
      "text/plain": [
       "<Figure size 720x504 with 1 Axes>"
      ]
     },
     "metadata": {
      "needs_background": "light"
     },
     "output_type": "display_data"
    }
   ],
   "source": [
    "# 篩選ner為名詞的資料\n",
    "l_noun = [\"ORG\"]\n",
    "ORG = entity_table[entity_table.ner.isin(l_noun)]\n",
    "\n",
    "# # 計算每個名詞提到的次數，選出前10個\n",
    "ner_count = ORG.groupby('word')['word'].agg(['count'])\n",
    "ner_count = ner_count.sort_values(['count'],ascending=False)['count'].nlargest(10).reset_index()\n",
    "ner_count\n",
    "\n",
    "# 設定中文字形\n",
    "plt.rcParams['font.sans-serif'] = ['SimHei'] \n",
    "word = ner_count['word']\n",
    "count = ner_count['count']\n",
    "\n",
    "fig, ax = plt.subplots(figsize =(10, 7))\n",
    "ax.barh(word, count)\n",
    "ax.invert_yaxis()\n",
    "ax.set_title('Word Frequency (NER is ORG)',loc ='left', size = 14)\n",
    "ax.set_ylabel('NER', size = 14)\n",
    "ax.set_xlabel('Word Frequency', size = 14)\n",
    "fig.show()"
   ]
  },
  {
   "attachments": {},
   "cell_type": "markdown",
   "id": "e70e82a1",
   "metadata": {},
   "source": [
    "可以看到在多數的吃到飽食記之中，「哈根達斯」是多數食記會介紹到的一環，也間接反映出讀者對於吃到飽餐廳冰淇淋品牌的關注。"
   ]
  },
  {
   "cell_type": "markdown",
   "id": "b5974e0d",
   "metadata": {},
   "source": [
    "### 涉及到的民族、宗教、政治團體(NORP)"
   ]
  },
  {
   "cell_type": "code",
   "execution_count": 104,
   "id": "2d1f8da8",
   "metadata": {},
   "outputs": [
    {
     "name": "stderr",
     "output_type": "stream",
     "text": [
      "/var/folders/wb/4p2wtwfn0hbfl5wk9721_6gm0000gn/T/ipykernel_63821/2477643763.py:21: UserWarning: Matplotlib is currently using module://matplotlib_inline.backend_inline, which is a non-GUI backend, so cannot show the figure.\n",
      "  fig.show()\n"
     ]
    },
    {
     "data": {
      "image/png": "[encoded data removed]",
      "text/plain": [
       "<Figure size 720x504 with 1 Axes>"
      ]
     },
     "metadata": {
      "needs_background": "light"
     },
     "output_type": "display_data"
    }
   ],
   "source": [
    "# 篩選ner為名詞的資料\n",
    "l_noun = [\"NORP\"]\n",
    "NORP = entity_table[entity_table.ner.isin(l_noun)]\n",
    "\n",
    "# # 計算每個名詞提到的次數，選出前10個\n",
    "ner_count = NORP.groupby('word')['word'].agg(['count'])\n",
    "ner_count = ner_count.sort_values(['count'],ascending=False)['count'].nlargest(10).reset_index()\n",
    "ner_count\n",
    "\n",
    "# 設定中文字形\n",
    "plt.rcParams['font.sans-serif'] = ['SimHei'] \n",
    "word = ner_count['word']\n",
    "count = ner_count['count']\n",
    "\n",
    "fig, ax = plt.subplots(figsize =(10, 7))\n",
    "ax.barh(word, count)\n",
    "ax.invert_yaxis()\n",
    "ax.set_title('Word Frequency (NER is ORG)',loc ='left', size = 14)\n",
    "ax.set_ylabel('NER', size = 14)\n",
    "ax.set_xlabel('Word Frequency', size = 14)\n",
    "fig.show()"
   ]
  },
  {
   "cell_type": "code",
   "execution_count": 109,
   "id": "9a8b7d73",
   "metadata": {
    "scrolled": true
   },
   "outputs": [
    {
     "name": "stdout",
     "output_type": "stream",
     "text": [
      "泰式：180篇相關貼文\n"
     ]
    },
    {
     "data": {
      "text/html": [
       "<div>\n",
       "<style scoped>\n",
       "    .dataframe tbody tr th:only-of-type {\n",
       "        vertical-align: middle;\n",
       "    }\n",
       "\n",
       "    .dataframe tbody tr th {\n",
       "        vertical-align: top;\n",
       "    }\n",
       "\n",
       "    .dataframe thead th {\n",
       "        text-align: right;\n",
       "    }\n",
       "</style>\n",
       "<table border=\"1\" class=\"dataframe\">\n",
       "  <thead>\n",
       "    <tr style=\"text-align: right;\">\n",
       "      <th></th>\n",
       "      <th>system_id</th>\n",
       "      <th>artUrl</th>\n",
       "      <th>artTitle</th>\n",
       "      <th>artDate</th>\n",
       "      <th>artPoster</th>\n",
       "      <th>artCatagory</th>\n",
       "      <th>artContent</th>\n",
       "      <th>artComment</th>\n",
       "      <th>e_ip</th>\n",
       "      <th>insertedDate</th>\n",
       "      <th>dataSource</th>\n",
       "    </tr>\n",
       "  </thead>\n",
       "  <tbody>\n",
       "    <tr>\n",
       "      <th>7</th>\n",
       "      <td>8</td>\n",
       "      <td>https://www.ptt.cc/bbs/Food/M.1578202069.A.3C5...</td>\n",
       "      <td>[食記]Harbour漢來海港曼谷@BangkokICONSIAM</td>\n",
       "      <td>2020-01-05 05:21:47</td>\n",
       "      <td>nmlw</td>\n",
       "      <td>Food</td>\n",
       "      <td>這篇要分享的是~海鮮吃到飽餐廳Harbour，在台北大名鼎鼎的和來海港曼谷分店~\\n\\n圖文...</td>\n",
       "      <td>[{\"cmtStatus\": \"推\", \"cmtPoster\": \"alpina330\", ...</td>\n",
       "      <td>58.8.49.60</td>\n",
       "      <td>2020-01-05 00:21:49</td>\n",
       "      <td>ptt</td>\n",
       "    </tr>\n",
       "    <tr>\n",
       "      <th>9</th>\n",
       "      <td>10</td>\n",
       "      <td>https://www.ptt.cc/bbs/Food/M.1578285877.A.E52...</td>\n",
       "      <td>[食記][台南][東區]XM麻辣鍋德安店</td>\n",
       "      <td>2020-01-06 04:38:35</td>\n",
       "      <td>kuangyue</td>\n",
       "      <td>Food</td>\n",
       "      <td>餐廳名稱：XM麻辣鍋 德安店\\n消費時間：109年1月\\n地址：701台南市東區中華東路三段...</td>\n",
       "      <td>[]</td>\n",
       "      <td>59.120.243.46</td>\n",
       "      <td>2020-01-06 00:20:44</td>\n",
       "      <td>ptt</td>\n",
       "    </tr>\n",
       "    <tr>\n",
       "      <th>35</th>\n",
       "      <td>36</td>\n",
       "      <td>https://www.ptt.cc/bbs/Food/M.1580563581.A.909...</td>\n",
       "      <td>[食記]新北板橋素食吃到飽果然匯(板橋店)</td>\n",
       "      <td>2020-02-01 13:19:55</td>\n",
       "      <td>wonderfood</td>\n",
       "      <td>Food</td>\n",
       "      <td>餐廳名稱：\\n果然匯(板橋店)\\n消費時間：2019年/10月\\n   地址：新北市板橋區中...</td>\n",
       "      <td>[]</td>\n",
       "      <td>1.161.243.130</td>\n",
       "      <td>2020-02-02 00:19:04</td>\n",
       "      <td>ptt</td>\n",
       "    </tr>\n",
       "  </tbody>\n",
       "</table>\n",
       "</div>"
      ],
      "text/plain": [
       "    system_id                                             artUrl  \\\n",
       "7           8  https://www.ptt.cc/bbs/Food/M.1578202069.A.3C5...   \n",
       "9          10  https://www.ptt.cc/bbs/Food/M.1578285877.A.E52...   \n",
       "35         36  https://www.ptt.cc/bbs/Food/M.1580563581.A.909...   \n",
       "\n",
       "                             artTitle              artDate   artPoster  \\\n",
       "7   [食記]Harbour漢來海港曼谷@BangkokICONSIAM  2020-01-05 05:21:47        nmlw   \n",
       "9                [食記][台南][東區]XM麻辣鍋德安店  2020-01-06 04:38:35    kuangyue   \n",
       "35              [食記]新北板橋素食吃到飽果然匯(板橋店)  2020-02-01 13:19:55  wonderfood   \n",
       "\n",
       "   artCatagory                                         artContent  \\\n",
       "7         Food  這篇要分享的是~海鮮吃到飽餐廳Harbour，在台北大名鼎鼎的和來海港曼谷分店~\\n\\n圖文...   \n",
       "9         Food  餐廳名稱：XM麻辣鍋 德安店\\n消費時間：109年1月\\n地址：701台南市東區中華東路三段...   \n",
       "35        Food  餐廳名稱：\\n果然匯(板橋店)\\n消費時間：2019年/10月\\n   地址：新北市板橋區中...   \n",
       "\n",
       "                                           artComment           e_ip  \\\n",
       "7   [{\"cmtStatus\": \"推\", \"cmtPoster\": \"alpina330\", ...     58.8.49.60   \n",
       "9                                                  []  59.120.243.46   \n",
       "35                                                 []  1.161.243.130   \n",
       "\n",
       "           insertedDate dataSource  \n",
       "7   2020-01-05 00:21:49        ptt  \n",
       "9   2020-01-06 00:20:44        ptt  \n",
       "35  2020-02-02 00:19:04        ptt  "
      ]
     },
     "execution_count": 109,
     "metadata": {},
     "output_type": "execute_result"
    }
   ],
   "source": [
    "keyword_list = ['泰式']\n",
    "selected = df[df['artContent'].str.contains('|'.join(keyword_list),regex=True)]\n",
    "print(f\"{' '.join(keyword_list)}：{selected.shape[0]}篇相關貼文\")\n",
    "selected.head(3)"
   ]
  },
  {
   "attachments": {},
   "cell_type": "markdown",
   "id": "58994ea3",
   "metadata": {},
   "source": [
    "### 3.3 探索分析 - POS\n",
    "\n",
    "#### POS 種類分析\n",
    "查看辨識出哪幾種POS"
   ]
  },
  {
   "cell_type": "code",
   "execution_count": 110,
   "id": "59269ee4",
   "metadata": {},
   "outputs": [
    {
     "data": {
      "text/plain": [
       "array(['Nc', 'Na', 'Nb', 'FW', 'COMMACATEGORY', 'D', 'VD', 'VL', 'VC',\n",
       "       'A', 'VF', 'VA', 'Nes', 'VH', 'VJ', 'Nep', 'Nf', 'P', 'Ncd', 'DE',\n",
       "       'SHI', 'V_2', 'Neqa', 'Di', 'VG', 'Cbb', 'VK', 'Nh', 'Da', 'Caa',\n",
       "       'VCL', 'Nd', 'Cab', 'Dfa', 'VHC', 'VE', 'Ng', 'Neu', 'VB', 'T',\n",
       "       'VAC', 'Cba', 'Dk', 'VI', 'Dfb', 'Neqb', 'I', 'Nv',\n",
       "       'PARENTHESISCATEGORY', 'DM', 'PERIODCATEGORY', 'COLONCATEGORY',\n",
       "       'ETCCATEGORY', 'DASHCATEGORY', 'PAUSECATEGORY',\n",
       "       'EXCLAMATIONCATEGORY'], dtype=object)"
      ]
     },
     "execution_count": 110,
     "metadata": {},
     "output_type": "execute_result"
    }
   ],
   "source": [
    "pos_table['pos'].unique()"
   ]
  },
  {
   "cell_type": "markdown",
   "id": "e0cd8b6a",
   "metadata": {},
   "source": [
    "看看除了標點符號，大部分的POS都是哪一類"
   ]
  },
  {
   "cell_type": "code",
   "execution_count": 112,
   "id": "679386e9",
   "metadata": {
    "scrolled": true,
    "tags": []
   },
   "outputs": [
    {
     "data": {
      "text/html": [
       "<div>\n",
       "<style scoped>\n",
       "    .dataframe tbody tr th:only-of-type {\n",
       "        vertical-align: middle;\n",
       "    }\n",
       "\n",
       "    .dataframe tbody tr th {\n",
       "        vertical-align: top;\n",
       "    }\n",
       "\n",
       "    .dataframe thead th {\n",
       "        text-align: right;\n",
       "    }\n",
       "</style>\n",
       "<table border=\"1\" class=\"dataframe\">\n",
       "  <thead>\n",
       "    <tr style=\"text-align: right;\">\n",
       "      <th></th>\n",
       "      <th>pos</th>\n",
       "      <th>count</th>\n",
       "    </tr>\n",
       "  </thead>\n",
       "  <tbody>\n",
       "    <tr>\n",
       "      <th>18</th>\n",
       "      <td>Na</td>\n",
       "      <td>284923</td>\n",
       "    </tr>\n",
       "    <tr>\n",
       "      <th>5</th>\n",
       "      <td>D</td>\n",
       "      <td>124221</td>\n",
       "    </tr>\n",
       "    <tr>\n",
       "      <th>45</th>\n",
       "      <td>VH</td>\n",
       "      <td>91747</td>\n",
       "    </tr>\n",
       "    <tr>\n",
       "      <th>39</th>\n",
       "      <td>VC</td>\n",
       "      <td>88049</td>\n",
       "    </tr>\n",
       "    <tr>\n",
       "      <th>7</th>\n",
       "      <td>DE</td>\n",
       "      <td>58008</td>\n",
       "    </tr>\n",
       "    <tr>\n",
       "      <th>20</th>\n",
       "      <td>Nc</td>\n",
       "      <td>47171</td>\n",
       "    </tr>\n",
       "    <tr>\n",
       "      <th>10</th>\n",
       "      <td>Dfa</td>\n",
       "      <td>33034</td>\n",
       "    </tr>\n",
       "    <tr>\n",
       "      <th>28</th>\n",
       "      <td>Nf</td>\n",
       "      <td>31076</td>\n",
       "    </tr>\n",
       "    <tr>\n",
       "      <th>32</th>\n",
       "      <td>P</td>\n",
       "      <td>24943</td>\n",
       "    </tr>\n",
       "    <tr>\n",
       "      <th>4</th>\n",
       "      <td>Cbb</td>\n",
       "      <td>24550</td>\n",
       "    </tr>\n",
       "    <tr>\n",
       "      <th>36</th>\n",
       "      <td>VA</td>\n",
       "      <td>23477</td>\n",
       "    </tr>\n",
       "    <tr>\n",
       "      <th>34</th>\n",
       "      <td>SHI</td>\n",
       "      <td>23359</td>\n",
       "    </tr>\n",
       "  </tbody>\n",
       "</table>\n",
       "</div>"
      ],
      "text/plain": [
       "    pos   count\n",
       "18   Na  284923\n",
       "5     D  124221\n",
       "45   VH   91747\n",
       "39   VC   88049\n",
       "7    DE   58008\n",
       "20   Nc   47171\n",
       "10  Dfa   33034\n",
       "28   Nf   31076\n",
       "32    P   24943\n",
       "4   Cbb   24550\n",
       "36   VA   23477\n",
       "34  SHI   23359"
      ]
     },
     "execution_count": 112,
     "metadata": {},
     "output_type": "execute_result"
    }
   ],
   "source": [
    "pos_filter = pos_table[~pos_table.pos.isin(['COMMACATEGORY', 'PARENTHESISCATEGORY', 'PERIODCATEGORY', 'COLONCATEGORY'])]\n",
    "\n",
    "pos_count = pos_filter.groupby(['pos'])['pos'].count().reset_index(name='count').sort_values(['count'], ascending=False).head(12)\n",
    "pos_count"
   ]
  },
  {
   "cell_type": "code",
   "execution_count": 113,
   "id": "92e38d7b",
   "metadata": {},
   "outputs": [
    {
     "name": "stderr",
     "output_type": "stream",
     "text": [
      "/var/folders/wb/4p2wtwfn0hbfl5wk9721_6gm0000gn/T/ipykernel_63821/2478466374.py:10: UserWarning: Matplotlib is currently using module://matplotlib_inline.backend_inline, which is a non-GUI backend, so cannot show the figure.\n",
      "  fig.show()\n"
     ]
    },
    {
     "data": {
      "image/png": "[encoded data removed]",
      "text/plain": [
       "<Figure size 864x504 with 1 Axes>"
      ]
     },
     "metadata": {
      "needs_background": "light"
     },
     "output_type": "display_data"
    }
   ],
   "source": [
    "pos = pos_count['pos']\n",
    "count = pos_count['count']\n",
    "\n",
    "fig, ax = plt.subplots(figsize =(12, 7))\n",
    "ax.barh(pos, count)\n",
    "ax.invert_yaxis()\n",
    "ax.set_title('ner Frequency',loc ='left', size = 14)\n",
    "ax.set_ylabel('ner', size = 14)\n",
    "ax.set_xlabel('Frequency', size = 14)\n",
    "fig.show()"
   ]
  },
  {
   "cell_type": "markdown",
   "id": "067bffc4",
   "metadata": {},
   "source": [
    "#### POS 詞性列表: \n",
    "+ 中研院列表: https://ckip.iis.sinica.edu.tw/service/corenlp/\n",
    "    + Na: 普通名詞\n",
    "    + D: 副詞\n",
    "    + VC: 動作及物動詞\n",
    "    + Nb: 專有名詞\n",
    "    + FW: 外文\n",
    "    + VH: 狀態不及物動詞\n",
    "    + Nh: 代名詞\n",
    "    + DE: 的之得地\n",
    "    + P: 介詞\n",
    "    + VA: 動作不及物動詞\n",
    "    + T: 語助詞\n",
    "    + SHI: 是"
   ]
  },
  {
   "attachments": {},
   "cell_type": "markdown",
   "id": "162b3a98",
   "metadata": {},
   "source": [
    "### 涉及到的名詞(Na)\n",
    "+ 我們可以找出談論吃到飽時大部分討論到的專有名詞，探索大家的關注焦點。\n",
    "+ 名詞可以分為「Na: 普通名詞」、「Nb: 專有名詞」等"
   ]
  },
  {
   "cell_type": "code",
   "execution_count": 114,
   "id": "d28c0513",
   "metadata": {
    "scrolled": true,
    "tags": []
   },
   "outputs": [
    {
     "data": {
      "text/html": [
       "<div>\n",
       "<style scoped>\n",
       "    .dataframe tbody tr th:only-of-type {\n",
       "        vertical-align: middle;\n",
       "    }\n",
       "\n",
       "    .dataframe tbody tr th {\n",
       "        vertical-align: top;\n",
       "    }\n",
       "\n",
       "    .dataframe thead th {\n",
       "        text-align: right;\n",
       "    }\n",
       "</style>\n",
       "<table border=\"1\" class=\"dataframe\">\n",
       "  <thead>\n",
       "    <tr style=\"text-align: right;\">\n",
       "      <th></th>\n",
       "      <th>word</th>\n",
       "      <th>count</th>\n",
       "    </tr>\n",
       "  </thead>\n",
       "  <tbody>\n",
       "    <tr>\n",
       "      <th>445</th>\n",
       "      <td>哈根達斯</td>\n",
       "      <td>284</td>\n",
       "    </tr>\n",
       "    <tr>\n",
       "      <th>637</th>\n",
       "      <td>安格斯</td>\n",
       "      <td>220</td>\n",
       "    </tr>\n",
       "    <tr>\n",
       "      <th>1968</th>\n",
       "      <td>菲力</td>\n",
       "      <td>170</td>\n",
       "    </tr>\n",
       "    <tr>\n",
       "      <th>1162</th>\n",
       "      <td>松阪</td>\n",
       "      <td>141</td>\n",
       "    </tr>\n",
       "    <tr>\n",
       "      <th>1260</th>\n",
       "      <td>欣葉</td>\n",
       "      <td>129</td>\n",
       "    </tr>\n",
       "    <tr>\n",
       "      <th>1058</th>\n",
       "      <td>旭集</td>\n",
       "      <td>107</td>\n",
       "    </tr>\n",
       "    <tr>\n",
       "      <th>1558</th>\n",
       "      <td>王品</td>\n",
       "      <td>101</td>\n",
       "    </tr>\n",
       "    <tr>\n",
       "      <th>2606</th>\n",
       "      <td>黑牛</td>\n",
       "      <td>87</td>\n",
       "    </tr>\n",
       "    <tr>\n",
       "      <th>1135</th>\n",
       "      <td>杜</td>\n",
       "      <td>85</td>\n",
       "    </tr>\n",
       "    <tr>\n",
       "      <th>1941</th>\n",
       "      <td>莫凡彼</td>\n",
       "      <td>82</td>\n",
       "    </tr>\n",
       "  </tbody>\n",
       "</table>\n",
       "</div>"
      ],
      "text/plain": [
       "      word  count\n",
       "445   哈根達斯    284\n",
       "637    安格斯    220\n",
       "1968    菲力    170\n",
       "1162    松阪    141\n",
       "1260    欣葉    129\n",
       "1058    旭集    107\n",
       "1558    王品    101\n",
       "2606    黑牛     87\n",
       "1135     杜     85\n",
       "1941   莫凡彼     82"
      ]
     },
     "execution_count": 114,
     "metadata": {},
     "output_type": "execute_result"
    }
   ],
   "source": [
    "# 篩選pos為名詞的資料\n",
    "l_noun = [\"Nb\"] #,\"Na\"\n",
    "noun = pos_table[pos_table.pos.isin(l_noun)]\n",
    "\n",
    "# # 計算每個名詞提到的次數，選出前15個\n",
    "noun_count = noun[['word']].groupby(['word'])['word'].count().reset_index(name='count').sort_values(['count'], ascending=False).head(15)\n",
    "noun_count.head(10)"
   ]
  },
  {
   "cell_type": "code",
   "execution_count": 115,
   "id": "265518a8",
   "metadata": {},
   "outputs": [
    {
     "name": "stderr",
     "output_type": "stream",
     "text": [
      "/var/folders/wb/4p2wtwfn0hbfl5wk9721_6gm0000gn/T/ipykernel_63821/502700507.py:12: UserWarning: Matplotlib is currently using module://matplotlib_inline.backend_inline, which is a non-GUI backend, so cannot show the figure.\n",
      "  fig.show()\n"
     ]
    },
    {
     "data": {
      "image/png": "[encoded data removed]",
      "text/plain": [
       "<Figure size 864x504 with 1 Axes>"
      ]
     },
     "metadata": {
      "needs_background": "light"
     },
     "output_type": "display_data"
    }
   ],
   "source": [
    "# 設定中文字形\n",
    "plt.rcParams['font.sans-serif'] = ['SimHei'] \n",
    "word = noun_count['word']\n",
    "count = noun_count['count']\n",
    "\n",
    "fig, ax = plt.subplots(figsize =(12, 7))\n",
    "ax.barh(word, count)\n",
    "ax.invert_yaxis()\n",
    "ax.set_title('Word Frequency (POS is NOUN)',loc ='left', size = 14)\n",
    "ax.set_ylabel('POS', size = 14)\n",
    "ax.set_xlabel('Word Frequency', size = 14)\n",
    "fig.show()"
   ]
  },
  {
   "attachments": {},
   "cell_type": "markdown",
   "id": "b4827a03",
   "metadata": {},
   "source": [
    "可以看到哈根達斯依舊是出現最多次的專有名詞，另外，從「安格斯」、「菲力」和「松阪」等專有名詞可以推測出大家對於肉類也有較高的討論度。"
   ]
  },
  {
   "attachments": {},
   "cell_type": "markdown",
   "id": "1529614b",
   "metadata": {},
   "source": [
    "### 涉及到的動詞(VERB)\n",
    "+ 我們可以找出談論吃到飽時大部分討論到的動詞，探索相關行為。\n",
    "+ VC: 動作及物動詞、VH: 狀態不及物動詞、VA: 動作不及物動詞"
   ]
  },
  {
   "cell_type": "code",
   "execution_count": 117,
   "id": "f56a032f",
   "metadata": {
    "scrolled": true,
    "tags": []
   },
   "outputs": [
    {
     "data": {
      "text/html": [
       "<div>\n",
       "<style scoped>\n",
       "    .dataframe tbody tr th:only-of-type {\n",
       "        vertical-align: middle;\n",
       "    }\n",
       "\n",
       "    .dataframe tbody tr th {\n",
       "        vertical-align: top;\n",
       "    }\n",
       "\n",
       "    .dataframe thead th {\n",
       "        text-align: right;\n",
       "    }\n",
       "</style>\n",
       "<table border=\"1\" class=\"dataframe\">\n",
       "  <thead>\n",
       "    <tr style=\"text-align: right;\">\n",
       "      <th></th>\n",
       "      <th>word</th>\n",
       "      <th>count</th>\n",
       "    </tr>\n",
       "  </thead>\n",
       "  <tbody>\n",
       "    <tr>\n",
       "      <th>575</th>\n",
       "      <td>吃到</td>\n",
       "      <td>3954</td>\n",
       "    </tr>\n",
       "    <tr>\n",
       "      <th>3603</th>\n",
       "      <td>選擇</td>\n",
       "      <td>1738</td>\n",
       "    </tr>\n",
       "    <tr>\n",
       "      <th>1613</th>\n",
       "      <td>推薦</td>\n",
       "      <td>1632</td>\n",
       "    </tr>\n",
       "    <tr>\n",
       "      <th>1700</th>\n",
       "      <td>搭配</td>\n",
       "      <td>1632</td>\n",
       "    </tr>\n",
       "    <tr>\n",
       "      <th>2016</th>\n",
       "      <td>服務</td>\n",
       "      <td>1150</td>\n",
       "    </tr>\n",
       "    <tr>\n",
       "      <th>150</th>\n",
       "      <td>使用</td>\n",
       "      <td>652</td>\n",
       "    </tr>\n",
       "    <tr>\n",
       "      <th>585</th>\n",
       "      <td>吃完</td>\n",
       "      <td>595</td>\n",
       "    </tr>\n",
       "    <tr>\n",
       "      <th>104</th>\n",
       "      <td>享用</td>\n",
       "      <td>529</td>\n",
       "    </tr>\n",
       "    <tr>\n",
       "      <th>70</th>\n",
       "      <td>主打</td>\n",
       "      <td>357</td>\n",
       "    </tr>\n",
       "    <tr>\n",
       "      <th>541</th>\n",
       "      <td>參考</td>\n",
       "      <td>351</td>\n",
       "    </tr>\n",
       "    <tr>\n",
       "      <th>2510</th>\n",
       "      <td>燒烤</td>\n",
       "      <td>332</td>\n",
       "    </tr>\n",
       "    <tr>\n",
       "      <th>420</th>\n",
       "      <td>加上</td>\n",
       "      <td>326</td>\n",
       "    </tr>\n",
       "    <tr>\n",
       "      <th>576</th>\n",
       "      <td>吃吃</td>\n",
       "      <td>315</td>\n",
       "    </tr>\n",
       "    <tr>\n",
       "      <th>889</th>\n",
       "      <td>外帶</td>\n",
       "      <td>298</td>\n",
       "    </tr>\n",
       "    <tr>\n",
       "      <th>428</th>\n",
       "      <td>加入</td>\n",
       "      <td>291</td>\n",
       "    </tr>\n",
       "  </tbody>\n",
       "</table>\n",
       "</div>"
      ],
      "text/plain": [
       "     word  count\n",
       "575    吃到   3954\n",
       "3603   選擇   1738\n",
       "1613   推薦   1632\n",
       "1700   搭配   1632\n",
       "2016   服務   1150\n",
       "150    使用    652\n",
       "585    吃完    595\n",
       "104    享用    529\n",
       "70     主打    357\n",
       "541    參考    351\n",
       "2510   燒烤    332\n",
       "420    加上    326\n",
       "576    吃吃    315\n",
       "889    外帶    298\n",
       "428    加入    291"
      ]
     },
     "execution_count": 117,
     "metadata": {},
     "output_type": "execute_result"
    }
   ],
   "source": [
    "l_verb = [\"VC\"] # ,\"VH\",\"VA\"\n",
    "verb = pos_table[pos_table.pos.isin(l_verb)] # 選取特定詞性\n",
    "verb = verb[verb['word'].map(len) > 1] # 把長度為1的字去除掉\n",
    "\n",
    "verb_count = verb[['word']].groupby(['word'])['word'].count().reset_index(name='count').sort_values(['count'], ascending=False).head(15)\n",
    "verb_count"
   ]
  },
  {
   "cell_type": "code",
   "execution_count": 118,
   "id": "f8a3c84c",
   "metadata": {},
   "outputs": [
    {
     "name": "stderr",
     "output_type": "stream",
     "text": [
      "/var/folders/wb/4p2wtwfn0hbfl5wk9721_6gm0000gn/T/ipykernel_63821/2587760616.py:11: UserWarning: Matplotlib is currently using module://matplotlib_inline.backend_inline, which is a non-GUI backend, so cannot show the figure.\n",
      "  fig.show()\n"
     ]
    },
    {
     "data": {
      "image/png": "[encoded data removed]",
      "text/plain": [
       "<Figure size 720x504 with 1 Axes>"
      ]
     },
     "metadata": {
      "needs_background": "light"
     },
     "output_type": "display_data"
    }
   ],
   "source": [
    "plt.rcParams['font.sans-serif'] = ['SimHei'] \n",
    "word = verb_count['word']\n",
    "count = verb_count['count']\n",
    "\n",
    "fig, ax = plt.subplots(figsize =(10, 7))\n",
    "ax.barh(word, count)\n",
    "ax.invert_yaxis()\n",
    "ax.set_title('Word Frequency (NER is ORGANIZATION)',loc ='left', size = 14)\n",
    "ax.set_ylabel('organization', size = 14)\n",
    "ax.set_xlabel('Word Frequency', size = 14)\n",
    "fig.show()"
   ]
  },
  {
   "attachments": {},
   "cell_type": "markdown",
   "id": "b5b65a7f",
   "metadata": {},
   "source": [
    "發現在貼文中的動詞，「吃到」佔了相當高的頻率，其他還有出現「選擇」、「搭配」等詞彙，可推測民眾對於食材的選擇多樣性有較高的重視程度。"
   ]
  },
  {
   "cell_type": "code",
   "execution_count": 120,
   "id": "9fd4cff7",
   "metadata": {
    "scrolled": true
   },
   "outputs": [
    {
     "name": "stdout",
     "output_type": "stream",
     "text": [
      "吃到 選擇 搭配：1578篇相關貼文\n"
     ]
    },
    {
     "data": {
      "text/html": [
       "<div>\n",
       "<style scoped>\n",
       "    .dataframe tbody tr th:only-of-type {\n",
       "        vertical-align: middle;\n",
       "    }\n",
       "\n",
       "    .dataframe tbody tr th {\n",
       "        vertical-align: top;\n",
       "    }\n",
       "\n",
       "    .dataframe thead th {\n",
       "        text-align: right;\n",
       "    }\n",
       "</style>\n",
       "<table border=\"1\" class=\"dataframe\">\n",
       "  <thead>\n",
       "    <tr style=\"text-align: right;\">\n",
       "      <th></th>\n",
       "      <th>system_id</th>\n",
       "      <th>artUrl</th>\n",
       "      <th>artTitle</th>\n",
       "      <th>artDate</th>\n",
       "      <th>artPoster</th>\n",
       "      <th>artCatagory</th>\n",
       "      <th>artContent</th>\n",
       "      <th>artComment</th>\n",
       "      <th>e_ip</th>\n",
       "      <th>insertedDate</th>\n",
       "      <th>dataSource</th>\n",
       "    </tr>\n",
       "  </thead>\n",
       "  <tbody>\n",
       "    <tr>\n",
       "      <th>0</th>\n",
       "      <td>1</td>\n",
       "      <td>https://www.ptt.cc/bbs/Food/M.1577942161.A.AC4...</td>\n",
       "      <td>[食記]台北中正濃咖哩平價美味份量大</td>\n",
       "      <td>2020-01-02 05:09:58</td>\n",
       "      <td>ideos</td>\n",
       "      <td>Food</td>\n",
       "      <td>餐廳名稱：濃咖哩\\n   消費時間：2019年1/12月\\n          (例：201...</td>\n",
       "      <td>[]</td>\n",
       "      <td>111.250.1.231</td>\n",
       "      <td>2020-01-02 00:21:09</td>\n",
       "      <td>ptt</td>\n",
       "    </tr>\n",
       "    <tr>\n",
       "      <th>1</th>\n",
       "      <td>2</td>\n",
       "      <td>https://www.ptt.cc/bbs/Food/M.1577983692.A.794...</td>\n",
       "      <td>[抱怨]ATT4FUN乾杯點沙朗多注意</td>\n",
       "      <td>2020-01-02 16:42:10</td>\n",
       "      <td>justin81828</td>\n",
       "      <td>Food</td>\n",
       "      <td>餐廳名稱：乾杯\\n\\n  地址：ATT4FUN 乾杯\\n  電話：02-87860808\\n...</td>\n",
       "      <td>[{\"cmtStatus\": \"推\", \"cmtPoster\": \"KKyosuke\", \"...</td>\n",
       "      <td>118.169.82.96</td>\n",
       "      <td>2020-01-03 00:22:27</td>\n",
       "      <td>ptt</td>\n",
       "    </tr>\n",
       "    <tr>\n",
       "      <th>2</th>\n",
       "      <td>3</td>\n",
       "      <td>https://www.ptt.cc/bbs/Food/M.1577985452.A.477...</td>\n",
       "      <td>[食記]台北大安區六張犁站捷運小慧涼麵</td>\n",
       "      <td>2020-01-02 17:11:29</td>\n",
       "      <td>v84454058</td>\n",
       "      <td>Food</td>\n",
       "      <td>餐廳名稱：小慧涼麵\\n   消費時間：2018年/11月起多訪\\n   地址：台北市大安區臥...</td>\n",
       "      <td>[]</td>\n",
       "      <td>123.194.196.149</td>\n",
       "      <td>2020-01-03 00:22:34</td>\n",
       "      <td>ptt</td>\n",
       "    </tr>\n",
       "    <tr>\n",
       "      <th>3</th>\n",
       "      <td>4</td>\n",
       "      <td>https://www.ptt.cc/bbs/Food/M.1578120136.A.276...</td>\n",
       "      <td>[食記]福岡-運河城旁國產牛燒肉-WEST</td>\n",
       "      <td>2020-01-04 06:36:14</td>\n",
       "      <td>Guyinkt</td>\n",
       "      <td>Food</td>\n",
       "      <td>消費時間：2019年/08月\\n\\n在運河城逛累了當然要吃東西補充體力了喔!\\n\\nWEST...</td>\n",
       "      <td>[]</td>\n",
       "      <td>220.134.201.135</td>\n",
       "      <td>2020-01-05 00:21:43</td>\n",
       "      <td>ptt</td>\n",
       "    </tr>\n",
       "    <tr>\n",
       "      <th>4</th>\n",
       "      <td>5</td>\n",
       "      <td>https://www.ptt.cc/bbs/Food/M.1578125940.A.9AA...</td>\n",
       "      <td>[食記]長榮皇璽桂冠艙飛機餐SEA-TPE聖誕好運</td>\n",
       "      <td>2020-01-04 08:12:57</td>\n",
       "      <td>Sherlock56</td>\n",
       "      <td>Food</td>\n",
       "      <td>店名：長榮皇璽桂冠艙飛機餐\\n   地址：無\\n   電話：無\\n   營業時間：依機艙供餐...</td>\n",
       "      <td>[{\"cmtStatus\": \"推\", \"cmtPoster\": \"swatseal\", \"...</td>\n",
       "      <td>121.109.166.209</td>\n",
       "      <td>2020-01-05 00:21:43</td>\n",
       "      <td>ptt</td>\n",
       "    </tr>\n",
       "  </tbody>\n",
       "</table>\n",
       "</div>"
      ],
      "text/plain": [
       "   system_id                                             artUrl  \\\n",
       "0          1  https://www.ptt.cc/bbs/Food/M.1577942161.A.AC4...   \n",
       "1          2  https://www.ptt.cc/bbs/Food/M.1577983692.A.794...   \n",
       "2          3  https://www.ptt.cc/bbs/Food/M.1577985452.A.477...   \n",
       "3          4  https://www.ptt.cc/bbs/Food/M.1578120136.A.276...   \n",
       "4          5  https://www.ptt.cc/bbs/Food/M.1578125940.A.9AA...   \n",
       "\n",
       "                    artTitle              artDate    artPoster artCatagory  \\\n",
       "0         [食記]台北中正濃咖哩平價美味份量大  2020-01-02 05:09:58        ideos        Food   \n",
       "1        [抱怨]ATT4FUN乾杯點沙朗多注意  2020-01-02 16:42:10  justin81828        Food   \n",
       "2        [食記]台北大安區六張犁站捷運小慧涼麵  2020-01-02 17:11:29    v84454058        Food   \n",
       "3      [食記]福岡-運河城旁國產牛燒肉-WEST  2020-01-04 06:36:14      Guyinkt        Food   \n",
       "4  [食記]長榮皇璽桂冠艙飛機餐SEA-TPE聖誕好運  2020-01-04 08:12:57   Sherlock56        Food   \n",
       "\n",
       "                                          artContent  \\\n",
       "0  餐廳名稱：濃咖哩\\n   消費時間：2019年1/12月\\n          (例：201...   \n",
       "1  餐廳名稱：乾杯\\n\\n  地址：ATT4FUN 乾杯\\n  電話：02-87860808\\n...   \n",
       "2  餐廳名稱：小慧涼麵\\n   消費時間：2018年/11月起多訪\\n   地址：台北市大安區臥...   \n",
       "3  消費時間：2019年/08月\\n\\n在運河城逛累了當然要吃東西補充體力了喔!\\n\\nWEST...   \n",
       "4  店名：長榮皇璽桂冠艙飛機餐\\n   地址：無\\n   電話：無\\n   營業時間：依機艙供餐...   \n",
       "\n",
       "                                          artComment             e_ip  \\\n",
       "0                                                 []    111.250.1.231   \n",
       "1  [{\"cmtStatus\": \"推\", \"cmtPoster\": \"KKyosuke\", \"...    118.169.82.96   \n",
       "2                                                 []  123.194.196.149   \n",
       "3                                                 []  220.134.201.135   \n",
       "4  [{\"cmtStatus\": \"推\", \"cmtPoster\": \"swatseal\", \"...  121.109.166.209   \n",
       "\n",
       "          insertedDate dataSource  \n",
       "0  2020-01-02 00:21:09        ptt  \n",
       "1  2020-01-03 00:22:27        ptt  \n",
       "2  2020-01-03 00:22:34        ptt  \n",
       "3  2020-01-05 00:21:43        ptt  \n",
       "4  2020-01-05 00:21:43        ptt  "
      ]
     },
     "execution_count": 120,
     "metadata": {},
     "output_type": "execute_result"
    }
   ],
   "source": [
    "# 看一下含特定關鍵字的貼文內容\n",
    "keyword_list = ['吃到','選擇','搭配']\n",
    "select = df[df['artContent'].str.contains('|'.join(keyword_list),regex=True)]\n",
    "print(f\"{' '.join(keyword_list)}：{select.shape[0]}篇相關貼文\")\n",
    "select.head()"
   ]
  },
  {
   "cell_type": "markdown",
   "id": "378cda42",
   "metadata": {},
   "source": [
    "## 4. 利用SnowNLP進行情緒分析"
   ]
  },
  {
   "cell_type": "markdown",
   "id": "e07cf332",
   "metadata": {},
   "source": [
    "+ SnowNLP 針對中文設計，可以提取句子的情緒分類\n",
    "+ 使用文件分類法，套件已預先用文集訓練模型以判斷情緒\n",
    "+ 情緒值在 0~1之間，代表負面到正面\n",
    "+ 官方github: https://github.com/isnowfy/snownlp"
   ]
  },
  {
   "cell_type": "code",
   "execution_count": 127,
   "id": "b6da4ff0",
   "metadata": {},
   "outputs": [
    {
     "data": {
      "text/plain": [
       "0.01656963972992287"
      ]
     },
     "execution_count": 127,
     "metadata": {},
     "output_type": "execute_result"
    }
   ],
   "source": [
    "from snownlp import SnowNLP\n",
    "s = SnowNLP('文華訂位都訂不到，超難訂')\n",
    "s.sentiments # 範圍在 0~ 1之間 (負面~正面)"
   ]
  },
  {
   "cell_type": "markdown",
   "id": "670ecefa",
   "metadata": {},
   "source": [
    "將句子和日期合併，方便之後做分析"
   ]
  },
  {
   "cell_type": "code",
   "execution_count": 143,
   "id": "947f4d7c",
   "metadata": {},
   "outputs": [
    {
     "data": {
      "text/html": [
       "<div>\n",
       "<style scoped>\n",
       "    .dataframe tbody tr th:only-of-type {\n",
       "        vertical-align: middle;\n",
       "    }\n",
       "\n",
       "    .dataframe tbody tr th {\n",
       "        vertical-align: top;\n",
       "    }\n",
       "\n",
       "    .dataframe thead th {\n",
       "        text-align: right;\n",
       "    }\n",
       "</style>\n",
       "<table border=\"1\" class=\"dataframe\">\n",
       "  <thead>\n",
       "    <tr style=\"text-align: right;\">\n",
       "      <th></th>\n",
       "      <th>system_id</th>\n",
       "      <th>sentence</th>\n",
       "      <th>artDate</th>\n",
       "      <th>dataSource</th>\n",
       "    </tr>\n",
       "  </thead>\n",
       "  <tbody>\n",
       "    <tr>\n",
       "      <th>0</th>\n",
       "      <td>1</td>\n",
       "      <td>餐廳名稱濃咖哩</td>\n",
       "      <td>2020-01-02 05:09:58</td>\n",
       "      <td>ptt</td>\n",
       "    </tr>\n",
       "    <tr>\n",
       "      <th>1</th>\n",
       "      <td>1</td>\n",
       "      <td>消費時間年/月</td>\n",
       "      <td>2020-01-02 05:09:58</td>\n",
       "      <td>ptt</td>\n",
       "    </tr>\n",
       "    <tr>\n",
       "      <th>2</th>\n",
       "      <td>1</td>\n",
       "      <td>例年月，未提供則文章不予保留，多訪綜合心得也請標上起迄時間</td>\n",
       "      <td>2020-01-02 05:09:58</td>\n",
       "      <td>ptt</td>\n",
       "    </tr>\n",
       "  </tbody>\n",
       "</table>\n",
       "</div>"
      ],
      "text/plain": [
       "   system_id                       sentence              artDate dataSource\n",
       "0          1                        餐廳名稱濃咖哩  2020-01-02 05:09:58        ptt\n",
       "1          1                        消費時間年/月  2020-01-02 05:09:58        ptt\n",
       "2          1  例年月，未提供則文章不予保留，多訪綜合心得也請標上起迄時間  2020-01-02 05:09:58        ptt"
      ]
     },
     "execution_count": 143,
     "metadata": {},
     "output_type": "execute_result"
    }
   ],
   "source": [
    "sentence_table = pd.read_csv(\"raw_data/zh/sentence_table_buffet.csv\") #匯資料\n",
    "df = pd.read_csv(\"raw_data/zh/buffet_20_22.csv\") #匯資料\n",
    "\n",
    "sentiment_date = pd.merge(sentence_table,df[['system_id','artDate','dataSource']],on='system_id',how='left')\n",
    "sentiment_date.head(3)"
   ]
  },
  {
   "cell_type": "code",
   "execution_count": 144,
   "id": "6d6d54b6",
   "metadata": {
    "scrolled": true
   },
   "outputs": [
    {
     "data": {
      "text/html": [
       "<div>\n",
       "<style scoped>\n",
       "    .dataframe tbody tr th:only-of-type {\n",
       "        vertical-align: middle;\n",
       "    }\n",
       "\n",
       "    .dataframe tbody tr th {\n",
       "        vertical-align: top;\n",
       "    }\n",
       "\n",
       "    .dataframe thead th {\n",
       "        text-align: right;\n",
       "    }\n",
       "</style>\n",
       "<table border=\"1\" class=\"dataframe\">\n",
       "  <thead>\n",
       "    <tr style=\"text-align: right;\">\n",
       "      <th></th>\n",
       "      <th>system_id</th>\n",
       "      <th>sentence</th>\n",
       "      <th>artDate</th>\n",
       "      <th>dataSource</th>\n",
       "      <th>sentimentValue</th>\n",
       "    </tr>\n",
       "  </thead>\n",
       "  <tbody>\n",
       "    <tr>\n",
       "      <th>0</th>\n",
       "      <td>1</td>\n",
       "      <td>餐廳名稱濃咖哩</td>\n",
       "      <td>2020-01-02 05:09:58</td>\n",
       "      <td>ptt</td>\n",
       "      <td>0.664289</td>\n",
       "    </tr>\n",
       "    <tr>\n",
       "      <th>1</th>\n",
       "      <td>1</td>\n",
       "      <td>消費時間年/月</td>\n",
       "      <td>2020-01-02 05:09:58</td>\n",
       "      <td>ptt</td>\n",
       "      <td>0.022688</td>\n",
       "    </tr>\n",
       "    <tr>\n",
       "      <th>2</th>\n",
       "      <td>1</td>\n",
       "      <td>例年月，未提供則文章不予保留，多訪綜合心得也請標上起迄時間</td>\n",
       "      <td>2020-01-02 05:09:58</td>\n",
       "      <td>ptt</td>\n",
       "      <td>0.001094</td>\n",
       "    </tr>\n",
       "    <tr>\n",
       "      <th>3</th>\n",
       "      <td>1</td>\n",
       "      <td>地址台北市開封街段巷號</td>\n",
       "      <td>2020-01-02 05:09:58</td>\n",
       "      <td>ptt</td>\n",
       "      <td>0.318909</td>\n",
       "    </tr>\n",
       "    <tr>\n",
       "      <th>4</th>\n",
       "      <td>1</td>\n",
       "      <td>電話</td>\n",
       "      <td>2020-01-02 05:09:58</td>\n",
       "      <td>ptt</td>\n",
       "      <td>0.152585</td>\n",
       "    </tr>\n",
       "  </tbody>\n",
       "</table>\n",
       "</div>"
      ],
      "text/plain": [
       "   system_id                       sentence              artDate dataSource  \\\n",
       "0          1                        餐廳名稱濃咖哩  2020-01-02 05:09:58        ptt   \n",
       "1          1                        消費時間年/月  2020-01-02 05:09:58        ptt   \n",
       "2          1  例年月，未提供則文章不予保留，多訪綜合心得也請標上起迄時間  2020-01-02 05:09:58        ptt   \n",
       "3          1                    地址台北市開封街段巷號  2020-01-02 05:09:58        ptt   \n",
       "4          1                             電話  2020-01-02 05:09:58        ptt   \n",
       "\n",
       "   sentimentValue  \n",
       "0        0.664289  \n",
       "1        0.022688  \n",
       "2        0.001094  \n",
       "3        0.318909  \n",
       "4        0.152585  "
      ]
     },
     "execution_count": 144,
     "metadata": {},
     "output_type": "execute_result"
    }
   ],
   "source": [
    "def get_sentiment(sent):\n",
    "    s = SnowNLP(sent)\n",
    "    return s.sentiments\n",
    "\n",
    "# 幫每句話加上情緒分數\n",
    "sentiment_date['sentimentValue'] = sentiment_date.apply(lambda row : get_sentiment(row['sentence'],), axis = 1)\n",
    "sentiment_date.head()"
   ]
  },
  {
   "cell_type": "code",
   "execution_count": 145,
   "id": "148d4964",
   "metadata": {},
   "outputs": [
    {
     "data": {
      "text/plain": [
       "count    1.241160e+05\n",
       "mean     4.190400e-01\n",
       "std      3.249403e-01\n",
       "min      5.205993e-09\n",
       "25%      1.093586e-01\n",
       "50%      3.867990e-01\n",
       "75%      6.969416e-01\n",
       "max      1.000000e+00\n",
       "Name: sentimentValue, dtype: float64"
      ]
     },
     "execution_count": 145,
     "metadata": {},
     "output_type": "execute_result"
    }
   ],
   "source": [
    "# 看一下情緒的分布\n",
    "sentiment_date['sentimentValue'].describe()"
   ]
  },
  {
   "cell_type": "code",
   "execution_count": 146,
   "id": "f0c1d367",
   "metadata": {},
   "outputs": [
    {
     "data": {
      "text/plain": [
       "<AxesSubplot:>"
      ]
     },
     "execution_count": 146,
     "metadata": {},
     "output_type": "execute_result"
    },
    {
     "data": {
      "image/png": "[encoded data removed]",
      "text/plain": [
       "<Figure size 576x396 with 1 Axes>"
      ]
     },
     "metadata": {},
     "output_type": "display_data"
    }
   ],
   "source": [
    "# 情緒分布的盒狀圖\n",
    "boxplot = sentiment_date.boxplot(column=['sentimentValue'], showfliers=False)\n",
    "boxplot"
   ]
  },
  {
   "attachments": {},
   "cell_type": "markdown",
   "id": "dad22fcd",
   "metadata": {},
   "source": [
    "將每個月的情緒分數取平均，並轉換時間格式為年月"
   ]
  },
  {
   "cell_type": "code",
   "execution_count": 154,
   "id": "e4673caa",
   "metadata": {
    "scrolled": true,
    "tags": []
   },
   "outputs": [
    {
     "data": {
      "text/html": [
       "<div>\n",
       "<style scoped>\n",
       "    .dataframe tbody tr th:only-of-type {\n",
       "        vertical-align: middle;\n",
       "    }\n",
       "\n",
       "    .dataframe tbody tr th {\n",
       "        vertical-align: top;\n",
       "    }\n",
       "\n",
       "    .dataframe thead th {\n",
       "        text-align: right;\n",
       "    }\n",
       "</style>\n",
       "<table border=\"1\" class=\"dataframe\">\n",
       "  <thead>\n",
       "    <tr style=\"text-align: right;\">\n",
       "      <th></th>\n",
       "      <th>artDate</th>\n",
       "      <th>sentimentValue</th>\n",
       "    </tr>\n",
       "  </thead>\n",
       "  <tbody>\n",
       "    <tr>\n",
       "      <th>0</th>\n",
       "      <td>2020-01</td>\n",
       "      <td>0.420074</td>\n",
       "    </tr>\n",
       "    <tr>\n",
       "      <th>1</th>\n",
       "      <td>2020-02</td>\n",
       "      <td>0.432450</td>\n",
       "    </tr>\n",
       "    <tr>\n",
       "      <th>2</th>\n",
       "      <td>2020-03</td>\n",
       "      <td>0.422305</td>\n",
       "    </tr>\n",
       "    <tr>\n",
       "      <th>3</th>\n",
       "      <td>2020-04</td>\n",
       "      <td>0.411733</td>\n",
       "    </tr>\n",
       "    <tr>\n",
       "      <th>4</th>\n",
       "      <td>2020-05</td>\n",
       "      <td>0.431685</td>\n",
       "    </tr>\n",
       "  </tbody>\n",
       "</table>\n",
       "</div>"
      ],
      "text/plain": [
       "   artDate  sentimentValue\n",
       "0  2020-01        0.420074\n",
       "1  2020-02        0.432450\n",
       "2  2020-03        0.422305\n",
       "3  2020-04        0.411733\n",
       "4  2020-05        0.431685"
      ]
     },
     "execution_count": 154,
     "metadata": {},
     "output_type": "execute_result"
    }
   ],
   "source": [
    "sent_date = sentiment_date.copy()\n",
    "sent_date['artDate'] =  pd.to_datetime(sentiment_date['artDate']).dt.to_period('M')\n",
    "\n",
    "sentiment_count = sent_date.groupby(['artDate'])['sentimentValue'].mean().reset_index()\n",
    "sentiment_count.head()"
   ]
  },
  {
   "cell_type": "code",
   "execution_count": 159,
   "id": "f3b56f53",
   "metadata": {},
   "outputs": [
    {
     "data": {
      "image/png": "[encoded data removed]",
      "text/plain": [
       "<Figure size 576x396 with 1 Axes>"
      ]
     },
     "metadata": {},
     "output_type": "display_data"
    }
   ],
   "source": [
    "# 平均情緒分數時間趨勢\n",
    "plt.style.use('seaborn')\n",
    "\n",
    "months = sentiment_count['artDate']\n",
    "y = sentiment_count['sentimentValue']\n",
    "\n",
    "plt.plot_date(months, y, linestyle='solid')\n",
    "plt.gcf().autofmt_xdate\n",
    "plt.tight_layout()\n",
    "\n",
    "plt.show()"
   ]
  },
  {
   "attachments": {},
   "cell_type": "markdown",
   "id": "2a87e107",
   "metadata": {},
   "source": [
    "從上圖中發現大部分天數的情緒值都在0.4~0.5之間，偏向中性，推測是因為PTT美食板上多數為食記類型的介紹文章。只是 2021年6月 和 2022年3月 的分數特別低，可以特別挑出來分析。"
   ]
  },
  {
   "attachments": {},
   "cell_type": "markdown",
   "id": "a761b61c",
   "metadata": {},
   "source": [
    "### 詞彙探索\n",
    "從上圖中可以發現 2021年6月 和 2022年3月 的情緒分數特別低，我們把那兩個月的負面句子挑出來看看他們都用甚麼詞。"
   ]
  },
  {
   "cell_type": "code",
   "execution_count": 177,
   "id": "f3f6ef55",
   "metadata": {
    "scrolled": true
   },
   "outputs": [
    {
     "data": {
      "text/html": [
       "<div>\n",
       "<style scoped>\n",
       "    .dataframe tbody tr th:only-of-type {\n",
       "        vertical-align: middle;\n",
       "    }\n",
       "\n",
       "    .dataframe tbody tr th {\n",
       "        vertical-align: top;\n",
       "    }\n",
       "\n",
       "    .dataframe thead th {\n",
       "        text-align: right;\n",
       "    }\n",
       "</style>\n",
       "<table border=\"1\" class=\"dataframe\">\n",
       "  <thead>\n",
       "    <tr style=\"text-align: right;\">\n",
       "      <th></th>\n",
       "      <th>system_id</th>\n",
       "      <th>sentence</th>\n",
       "      <th>artDate</th>\n",
       "      <th>dataSource</th>\n",
       "      <th>sentimentValue</th>\n",
       "    </tr>\n",
       "  </thead>\n",
       "  <tbody>\n",
       "    <tr>\n",
       "      <th>75444</th>\n",
       "      <td>956</td>\n",
       "      <td>消費時間年/月</td>\n",
       "      <td>2021-06</td>\n",
       "      <td>ptt</td>\n",
       "      <td>0.022688</td>\n",
       "    </tr>\n",
       "    <tr>\n",
       "      <th>75446</th>\n",
       "      <td>956</td>\n",
       "      <td>電話</td>\n",
       "      <td>2021-06</td>\n",
       "      <td>ptt</td>\n",
       "      <td>0.152585</td>\n",
       "    </tr>\n",
       "    <tr>\n",
       "      <th>75447</th>\n",
       "      <td>956</td>\n",
       "      <td>營業時間平日假日</td>\n",
       "      <td>2021-06</td>\n",
       "      <td>ptt</td>\n",
       "      <td>0.130126</td>\n",
       "    </tr>\n",
       "    <tr>\n",
       "      <th>75449</th>\n",
       "      <td>956</td>\n",
       "      <td>可否刷卡可</td>\n",
       "      <td>2021-06</td>\n",
       "      <td>ptt</td>\n",
       "      <td>0.100183</td>\n",
       "    </tr>\n",
       "    <tr>\n",
       "      <th>75450</th>\n",
       "      <td>956</td>\n",
       "      <td>有無包廂無</td>\n",
       "      <td>2021-06</td>\n",
       "      <td>ptt</td>\n",
       "      <td>0.039451</td>\n",
       "    </tr>\n",
       "  </tbody>\n",
       "</table>\n",
       "</div>"
      ],
      "text/plain": [
       "       system_id  sentence  artDate dataSource  sentimentValue\n",
       "75444        956   消費時間年/月  2021-06        ptt        0.022688\n",
       "75446        956        電話  2021-06        ptt        0.152585\n",
       "75447        956  營業時間平日假日  2021-06        ptt        0.130126\n",
       "75449        956     可否刷卡可  2021-06        ptt        0.100183\n",
       "75450        956     有無包廂無  2021-06        ptt        0.039451"
      ]
     },
     "execution_count": 177,
     "metadata": {},
     "output_type": "execute_result"
    }
   ],
   "source": [
    "# 篩時間\n",
    "filter_temp1 = sent_date[sent_date['artDate']=='2021-06']\n",
    "filter_temp2 = sent_date[sent_date['artDate']=='2022-03']\n",
    "filter_sentiment = pd.concat([filter_temp1, filter_temp2])\n",
    "filter_sentiment = filter_sentiment.loc[filter_sentiment['sentimentValue'] < 0.4]\n",
    "\n",
    "filter_sentiment.head()"
   ]
  },
  {
   "cell_type": "code",
   "execution_count": 181,
   "id": "f5f3b5b8",
   "metadata": {},
   "outputs": [
    {
     "data": {
      "text/html": [
       "<div>\n",
       "<style scoped>\n",
       "    .dataframe tbody tr th:only-of-type {\n",
       "        vertical-align: middle;\n",
       "    }\n",
       "\n",
       "    .dataframe tbody tr th {\n",
       "        vertical-align: top;\n",
       "    }\n",
       "\n",
       "    .dataframe thead th {\n",
       "        text-align: right;\n",
       "    }\n",
       "</style>\n",
       "<table border=\"1\" class=\"dataframe\">\n",
       "  <thead>\n",
       "    <tr style=\"text-align: right;\">\n",
       "      <th></th>\n",
       "      <th>system_id</th>\n",
       "      <th>sentimentValue</th>\n",
       "      <th>word</th>\n",
       "    </tr>\n",
       "  </thead>\n",
       "  <tbody>\n",
       "    <tr>\n",
       "      <th>0</th>\n",
       "      <td>956</td>\n",
       "      <td>0.022688</td>\n",
       "      <td>餐廳</td>\n",
       "    </tr>\n",
       "    <tr>\n",
       "      <th>1</th>\n",
       "      <td>956</td>\n",
       "      <td>0.022688</td>\n",
       "      <td>名稱</td>\n",
       "    </tr>\n",
       "    <tr>\n",
       "      <th>2</th>\n",
       "      <td>956</td>\n",
       "      <td>0.022688</td>\n",
       "      <td>消費</td>\n",
       "    </tr>\n",
       "    <tr>\n",
       "      <th>3</th>\n",
       "      <td>956</td>\n",
       "      <td>0.022688</td>\n",
       "      <td>時間</td>\n",
       "    </tr>\n",
       "    <tr>\n",
       "      <th>4</th>\n",
       "      <td>956</td>\n",
       "      <td>0.022688</td>\n",
       "      <td>年</td>\n",
       "    </tr>\n",
       "  </tbody>\n",
       "</table>\n",
       "</div>"
      ],
      "text/plain": [
       "   system_id  sentimentValue word\n",
       "0        956        0.022688   餐廳\n",
       "1        956        0.022688   名稱\n",
       "2        956        0.022688   消費\n",
       "3        956        0.022688   時間\n",
       "4        956        0.022688    年"
      ]
     },
     "execution_count": 181,
     "metadata": {},
     "output_type": "execute_result"
    }
   ],
   "source": [
    "# 把時間分數和之前斷詞的token table做 join\n",
    "neg_words = pd.merge(filter_sentiment,pos_table,on='system_id',how='left')\n",
    "neg_words = neg_words[['system_id','sentimentValue','word']]\n",
    "neg_words.head()"
   ]
  },
  {
   "cell_type": "code",
   "execution_count": 182,
   "id": "e31c212f",
   "metadata": {},
   "outputs": [],
   "source": [
    "# 篩選掉只有單個字元的結果\n",
    "neg_words = neg_words[neg_words.apply(lambda x: len(x['word'])>1, axis=1)]"
   ]
  },
  {
   "attachments": {},
   "cell_type": "markdown",
   "id": "ddee5bfb",
   "metadata": {},
   "source": [
    "### 負面詞彙文字雲"
   ]
  },
  {
   "cell_type": "code",
   "execution_count": 190,
   "id": "fae7563b",
   "metadata": {
    "scrolled": true
   },
   "outputs": [
    {
     "name": "stdout",
     "output_type": "stream",
     "text": [
      "[',', '?', '、', '。', '“', '”', '《', '》', '！', '，', '：', '；', '？', '可否', '有無', '再', '本來', '是不是', '一個', '這種', '人民', '末##末', '啊', '阿', '哎', '哎呀', '哎喲', '唉', '我', '我們', '按', '按照', '依照', '吧', '吧噠', '把', '罷了', '被', '本', '本著', '比', '比方', '比如', '鄙人', '彼', '彼此', '邊', '別', '別的', '別說', '並', '並且', '不比', '不成', '不單', '不但', '不獨', '不管', '不光', '不過', '不僅', '不拘', '不論', '不怕', '不然', '不如', '不特', '不惟', '不問', '不只', '朝', '朝著', '趁', '趁著', '乘', '沖', '除', '除此之外', '除非', '除了', '此', '此間', '此外', '從', '從而', '打', '待', '但', '但是', '當', '當著', '到', '得', '的', '的話', '等', '等等', '地', '第', '叮咚', '對', '對於', '多', '多少', '而', '而況', '而且', '而是', '而外', '而言', '而已', '爾後', '反過來', '反過來說', '反之', '非但', '非徒', '否則', '嘎', '嘎登', '該', '趕', '個', '各', '各個', '各位', '各種', '各自', '給', '根據', '跟', '故', '故此', '固然', '關於', '管', '歸', '果然', '果真', '過', '哈', '哈哈', '呵', '和', '何', '何處', '何況', '何時', '嘿', '哼', '哼唷', '呼哧', '乎', '嘩', '還是', '還有', '換句話說', '換言之', '或', '或是', '或者', '極了', '及', '及其', '及至', '即', '即便', '即或', '即令', '即若', '即使', '幾', '幾時', '己', '既', '既然', '既是', '繼而', '加之', '假如', '假若', '假使', '鑒於', '將', '較', '較之', '叫', '接著', '結果', '借', '緊接著', '進而', '盡', '儘管', '經', '經過', '就', '就是', '就是說', '據', '具體地說', '具體說來', '開始', '開外', '靠', '咳', '可', '可見', '可是', '可以', '況且', '啦', '來', '來著', '離', '例如', '哩', '連', '連同', '兩者', '了', '臨', '另', '另外', '另一方面', '論', '嘛', '嗎', '慢說', '漫說', '冒', '麼', '每', '每當', '們', '莫若', '某', '某個', '某些', '拿', '哪', '哪邊', '哪兒', '哪個', '哪裏', '哪年', '哪怕', '哪天', '哪些', '哪樣', '那', '那邊', '那兒', '那個', '那會兒', '那裏', '那麼', '那麼些', '那麼樣', '那時', '那些', '那樣', '乃', '乃至', '呢', '能', '你', '你們', '您', '寧', '寧可', '寧肯', '寧願', '哦', '嘔', '啪達', '旁人', '呸', '憑', '憑藉', '其', '其次', '其二', '其他', '其它', '其一', '其餘', '其中', '起', '起見', '豈但', '恰恰相反', '前後', '前者', '且', '然而', '然後', '然則', '讓', '人家', '任', '任何', '任憑', '如', '如此', '如果', '如何', '如其', '如若', '如上所述', '若', '若非', '若是', '啥', '上下', '尚且', '設若', '設使', '甚而', '甚麼', '甚至', '省得', '時候', '什麼', '什麼樣', '使得', '是', '是的', '首先', '誰', '誰知', '順', '順著', '似的', '雖', '雖然', '雖說', '雖則', '隨', '隨著', '所', '所以', '他', '他們', '他人', '它', '它們', '她', '她們', '倘', '倘或', '倘然', '倘若', '倘使', '騰', '替', '通過', '同', '同時', '哇', '萬一', '往', '望', '為', '為何', '為了', '為什麼', '為著', '餵', '嗡嗡', '我', '我們', '嗚', '嗚呼', '烏乎', '無論', '無寧', '毋寧', '嘻', '嚇', '相對而言', '像', '向', '向著', '噓', '呀', '焉', '沿', '沿著', '要', '要不', '要不然', '要不是', '要麼', '要是', '也', '也罷', '也好', '一', '一般', '一旦', '一方面', '一來', '一切', '一樣', '一則', '依', '依照', '矣', '以', '以便', '以及', '以免', '以至', '以至於', '以致', '抑或', '因', '因此', '因而', '因為', '喲', '用', '由', '由此可見', '由於', '有', '有的', '有關', '有些', '又', '於', '於是', '於是乎', '與', '與此同時', '與否', '與其', '越是', '雲雲', '哉', '再說', '再者', '在', '在下', '咱', '咱們', '則', '怎', '怎麼', '怎麼辦', '怎麼樣', '怎樣', '咋', '照', '照著', '者', '這', '這邊', '這兒', '這個', '這會兒', '這就是說', '這裏', '這麼', '這麼點兒', '這麼些', '這麼樣', '這時', '這些', '這樣', '正如', '吱', '之', '之類', '之所以', '之一', '只是', '只限', '只要', '只有', '至', '至於', '諸位', '著', '著呢', '自', '自從', '自個兒', '自各兒', '自己', '自家', '自身', '綜上所述', '總的來看', '總的來說', '總的說來', '總而言之', '總之', '縱', '縱令', '縱然', '縱使', '遵照', '作為', '兮', '呃', '唄', '咚', '咦', '喏', '啐', '喔唷', '嗬', '嗯', '噯', '~', '!', '.', ':', '\"', \"'\", '(', ')', '*', 'A', '白', '社會主義', '--', '..', '>>', ' [', ' ]', '', '<', '>', '/', '\\\\', '|', '-', '_', '+', '=', '&', '^', '%', '#', '@', '`', ';', '$', '（', '）', '——', '—', '￥', '·', '...', '‘', '’', '〉', '〈', '…', '\\u3000', '0', '1', '2', '3', '4', '5', '6', '7', '8', '9', '０', '１', '２', '３', '４', '５', '６', '７', '８', '９', '二', '三', '四', '五', '六', '七', '八', '九', '零', '＞', '＜', '＠', '＃', '＄', '％', '︿', '＆', '＊', '＋', '～', '｜', '［', '］', '｛', '｝', '啊哈', '啊呀', '啊喲', '挨次', '挨個', '挨家挨戶', '挨門挨戶', '挨門逐戶', '挨著', '按理', '按期', '按時', '按說', '暗地裏', '暗中', '暗自', '昂然', '八成', '白白', '半', '梆', '保管', '保險', '飽', '背地裏', '背靠背', '倍感', '倍加', '本人', '本身', '甭', '比起', '比如說', '比照', '畢竟', '必', '必定', '必將', '必須', '便', '別人', '並非', '並肩', '並沒', '並沒有', '併排', '並無', '勃然', '不', '不必', '不常', '不大', '不但...而且', '不得', '不得不', '不得了', '不得已', '不迭', '不定', '不對', '不妨', '不管怎樣', '不會', '不僅...而且', '不僅僅', '不僅僅是', '不經意', '不可開交', '不可抗拒', '不力', '不了', '不料', '不滿', '不免', '不能不', '不起', '不巧', '不然的話', '不日', '不少', '不勝', '不時', '不是', '不同', '不能', '不要', '不外', '不外乎', '不下', '不限', '不消', '不已', '不亦樂乎', '不由得', '不再', '不擇手段', '不怎麼', '不曾', '不知不覺', '不止', '不止一次', '不至於', '才', '才能', '策略地', '差不多', '差一點', '常', '常常', '常言道', '常言說', '常言說得好', '長此下去', '長話短說', '長期以來', '長線', '敞開兒', '徹夜', '陳年', '趁便', '趁機', '趁熱', '趁勢', '趁早', '成年', '成年累月', '成心', '乘機', '乘勝', '乘勢', '乘隙', '乘虛', '誠然', '遲早', '充分', '充其極', '充其量', '抽冷子', '臭', '初', '出', '出來', '出去', '除此', '除此而外', '除此以外', '除開', '除去', '除卻', '除外', '處處', '川流不息', '傳', '傳說', '傳聞', '串列', '純', '純粹', '此後', '此中', '次第', '匆匆', '從不', '從此', '從此以後', '從古到今', '從古至今', '從今以後', '從寬', '從來', '從輕', '從速', '從頭', '從未', '從無到有', '從小', '從新', '從嚴', '從優', '從早到晚', '從中', '從重', '湊巧', '粗', '存心', '達旦', '打從', '打開天窗說亮話', '大', '大不了', '大大', '大抵', '大都', '大多', '大凡', '大概', '大家', '大舉', '大略', '大面兒上', '大事', '大體', '大體上', '大約', '大張旗鼓', '大致', '呆呆地', '帶', '殆', '待到', '單', '單純', '單單', '但願', '彈指之間', '當場', '當兒', '當即', '當口兒', '當然', '當庭', '當頭', '當下', '當真', '當中', '倒不如', '倒不如說', '倒是', '到處', '到底', '到了兒', '到目前為止', '到頭', '到頭來', '得起', '得天獨厚', '的確', '等到', '叮噹', '頂多', '定', '動不動', '動輒', '陡然', '都', '獨', '獨自', '斷然', '頓時', '多次', '多多', '多多少少', '多多益善', '多虧', '多年來', '多年前', '而後', '而論', '而又', '爾等', '二話不說', '二話沒說', '反倒', '反倒是', '反而', '反手', '反之亦然', '反之則', '方', '方才', '方能', '放量', '非常', '非得', '分期', '分期分批', '分頭', '奮勇', '憤然', '風雨無阻', '逢', '弗', '甫', '嘎嘎', '該當', '概', '趕快', '趕早不趕晚', '敢', '敢情', '敢於', '剛', '剛才', '剛好', '剛巧', '高低', '格外', '隔日', '隔夜', '個人', '各式', '更', '更加', '更進一步', '更為', '公然', '共', '共總', '夠瞧的', '姑且', '古來', '故而', '故意', '固', '怪', '怪不得', '慣常', '光', '光是', '歸根到底', '歸根結底', '過於', '毫不', '毫無', '毫無保留地', '毫無例外', '好在', '何必', '何嘗', '何妨', '何苦', '何樂而不為', '何須', '何止', '很', '很多', '很少', '轟然', '後來', '呼啦', '忽地', '忽然', '互', '互相', '嘩啦', '話說', '還', '恍然', '會', '豁然', '活', '夥同', '或多或少', '或許', '基本', '基本上', '基於', '極', '極大', '極度', '極端', '極力', '極其', '極為', '急匆匆', '即將', '即刻', '即是說', '幾度', '幾番', '幾乎', '幾經', '既...又', '繼之', '加上', '加以', '間或', '簡而言之', '簡言之', '簡直', '見', '將才', '將近', '將要', '交口', '較比', '較為', '接連不斷', '接下來', '皆可', '截然', '截至', '藉以', '藉此', '藉以', '屆時', '僅', '僅僅', '謹', '進來', '進去', '近', '近幾年來', '近來', '近年來', '儘管如此', '儘可能', '儘快', '儘量', '盡然', '盡如人意', '盡心竭力', '盡心盡力', '儘早', '精光', '經常', '竟', '竟然', '究竟', '就此', '就地', '就算', '居然', '局外', '舉凡', '據稱', '據此', '據實', '據說', '據我所知', '據悉', '具體來說', '決不', '決非', '絕', '絕不', '絕頂', '絕對', '絕非', '均', '喀', '看', '看來', '看起來', '看上去', '看樣子', '可好', '可能', '恐怕', '快', '快要', '來不及', '來得及', '來講', '來看', '攔腰', '牢牢', '老', '老大', '老老實實', '老是', '累次', '累年', '理當', '理該', '理應', '歷', '立', '立地', '立刻', '立馬', '立時', '聯袂', '連連', '連日', '連日來', '連聲', '連袂', '臨到', '另方面', '另行', '另一個', '路經', '屢', '屢次', '屢次三番', '屢屢', '縷縷', '率爾', '率然', '略', '略加', '略微', '略為', '論說', '馬上', '蠻', '滿', '沒', '沒有', '每逢', '每每', '每時每刻', '猛然', '猛然間', '莫', '莫不', '莫非', '莫如', '默默地', '默然', '吶', '那末', '奈', '難道', '難得', '難怪', '難說', '內', '年覆一年', '凝神', '偶而', '偶爾', '怕', '砰', '碰巧', '譬如', '偏偏', '乒', '平素', '頗', '迫於', '撲通', '其後', '其實', '奇', '齊', '起初', '起來', '起首', '起頭', '起先', '豈', '豈非', '豈止', '迄', '恰逢', '恰好', '恰恰', '恰巧', '恰如', '恰似', '千', '千萬', '千萬千萬', '切', '切不可', '切莫', '切切', '切勿', '竊', '親口', '親身', '親手', '親眼', '親自', '頃', '頃刻', '頃刻間', '頃刻之間', '請勿', '窮年累月', '取道', '去', '權時', '全都', '全力', '全年', '全然', '全身心', '然', '人人', '仍', '仍舊', '仍然', '日覆一日', '日見', '日漸', '日益', '日臻', '如常', '如此等等', '如次', '如今', '如期', '如前所述', '如上', '如下', '汝', '三番兩次', '三番五次', '三天兩頭', '瑟瑟', '沙沙', '上', '上來', '上去']\n"
     ]
    }
   ],
   "source": [
    "# 自定停用字\n",
    "with open('dict/stop_words.txt') as f:\n",
    "    stop_words = f.read().splitlines()\n",
    "\n",
    "print(stop_words)"
   ]
  },
  {
   "cell_type": "code",
   "execution_count": 191,
   "id": "bfa96943",
   "metadata": {},
   "outputs": [
    {
     "data": {
      "image/png": "[encoded data removed]",
      "text/plain": [
       "<Figure size 1008x504 with 1 Axes>"
      ]
     },
     "metadata": {},
     "output_type": "display_data"
    }
   ],
   "source": [
    "# 匯入自訂的 stop words (預設只有英文的)\n",
    "stop_words_pos = stop_words\n",
    "stop_words_pos.extend(('時間','營業','餐廳','覺得'))\n",
    "stop_words_pos = set(stop_words_pos)\n",
    "\n",
    "# 設定中文字形\n",
    "font_path = 'TaipeiSansTCBeta-Regular.ttf'\n",
    "\n",
    "# 可以設定字型大小和背景顏色\n",
    "wordcloud = WordCloud(\n",
    "                stopwords=stop_words_pos,font_path=font_path,width=800, height = 400, max_words=100, background_color=\"white\")\n",
    "\n",
    "wordcloud.generate(' '.join(neg_words['word']))\n",
    "# Display the generated image:\n",
    "plt.figure(figsize = (14,7))\n",
    "plt.imshow(wordcloud, interpolation=\"bilinear\")\n",
    "\n",
    "plt.axis(\"off\")\n",
    "plt.show()"
   ]
  },
  {
   "attachments": {},
   "cell_type": "markdown",
   "id": "300ada59",
   "metadata": {},
   "source": [
    "在負面情緒的句子中，民眾多半討論到的是「價位」的部分，另外「人員」「服務」的討論度也不低，店家就可以根據這些方面去改善。"
   ]
  }
 ],
 "metadata": {
  "kernelspec": {
   "display_name": "Python 3",
   "language": "python",
   "name": "python3"
  },
  "language_info": {
   "codemirror_mode": {
    "name": "ipython",
    "version": 3
   },
   "file_extension": ".py",
   "mimetype": "text/x-python",
   "name": "python",
   "nbconvert_exporter": "python",
   "pygments_lexer": "ipython3",
   "version": "3.9.12"
  }
 },
 "nbformat": 4,
 "nbformat_minor": 5
}
