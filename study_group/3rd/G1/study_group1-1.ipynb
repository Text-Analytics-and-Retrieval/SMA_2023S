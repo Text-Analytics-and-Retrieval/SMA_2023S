{
 "cells": [
  {
   "attachments": {},
   "cell_type": "markdown",
   "metadata": {},
   "source": [
    "## 1. 套件說明\n",
    "本次實作過程中使用到的相關套件，在課堂中我們將會簡單的展示這些套件的使用方式，關於各個套件的進階使用請同學參照其官網的說明。\n",
    "+ gensim: 主題模型函式庫\n",
    "+ pyLDAvis: 互動式LDA視覺化套件"
   ]
  },
  {
   "cell_type": "code",
   "execution_count": 2,
   "metadata": {},
   "outputs": [],
   "source": [
    "import time \n",
    "from functools import reduce\n",
    "from collections import Counter\n",
    "from pprint import pprint\n",
    "\n",
    "import numpy as np\n",
    "import pandas as pd\n",
    "import matplotlib.pyplot as plt\n",
    "import jieba\n",
    "from sklearn.feature_extraction.text import TfidfVectorizer, CountVectorizer\n",
    "from gensim.corpora import Dictionary\n",
    "from gensim.models import LdaModel, CoherenceModel\n",
    "from gensim.models.ldamulticore import LdaMulticore\n",
    "from gensim.matutils import corpus2csc, corpus2dense, Sparse2Corpus\n",
    "\n",
    "import pyLDAvis\n",
    "import pyLDAvis.gensim_models"
   ]
  },
  {
   "cell_type": "code",
   "execution_count": 3,
   "metadata": {},
   "outputs": [],
   "source": [
    "import logging\n",
    "logging.basicConfig(format='%(asctime)s : %(levelname)s : %(message)s', level=logging.INFO)"
   ]
  },
  {
   "cell_type": "code",
   "execution_count": 4,
   "metadata": {},
   "outputs": [],
   "source": [
    "from matplotlib import font_manager\n",
    "font_set = {f.name for f in font_manager.fontManager.ttflist}\n",
    "# matplotlib.rcParams['font.family'] = ['Noto Sans Mono CJK TC', 'sans-serif']\n",
    "plt.rcParams[\"font.sans-serif\"] = [\"Noto Sans TC\"]\n",
    "# plt.plot((1, 2, 3), (4, 3, -1))\n",
    "# plt.title(\"聲量圖\")"
   ]
  },
  {
   "attachments": {},
   "cell_type": "markdown",
   "metadata": {},
   "source": [
    "## 2. 資料前處理"
   ]
  },
  {
   "cell_type": "code",
   "execution_count": 5,
   "metadata": {},
   "outputs": [
    {
     "data": {
      "text/html": [
       "<div>\n",
       "<style scoped>\n",
       "    .dataframe tbody tr th:only-of-type {\n",
       "        vertical-align: middle;\n",
       "    }\n",
       "\n",
       "    .dataframe tbody tr th {\n",
       "        vertical-align: top;\n",
       "    }\n",
       "\n",
       "    .dataframe thead th {\n",
       "        text-align: right;\n",
       "    }\n",
       "</style>\n",
       "<table border=\"1\" class=\"dataframe\">\n",
       "  <thead>\n",
       "    <tr style=\"text-align: right;\">\n",
       "      <th></th>\n",
       "      <th>system_id</th>\n",
       "      <th>artTitle</th>\n",
       "      <th>artUrl</th>\n",
       "      <th>artDate</th>\n",
       "      <th>artCatagory</th>\n",
       "      <th>artContent</th>\n",
       "      <th>dataSource</th>\n",
       "    </tr>\n",
       "  </thead>\n",
       "  <tbody>\n",
       "    <tr>\n",
       "      <th>0</th>\n",
       "      <td>877</td>\n",
       "      <td>Selina認愛了！小鮮肉男友首曝光 親密互動全被拍｜東森新聞</td>\n",
       "      <td>https://news.ebc.net.tw/news/article/305059</td>\n",
       "      <td>2022-03-03 12:44:00</td>\n",
       "      <td>娛樂</td>\n",
       "      <td>Selina（任家萱）離婚5年，今（3日）傳出好消息！她被陸媒拍到和神秘男子手勾手回酒店，一...</td>\n",
       "      <td>EBC</td>\n",
       "    </tr>\n",
       "    <tr>\n",
       "      <th>1</th>\n",
       "      <td>4490</td>\n",
       "      <td>算命阿姨發功 阿翰奪「走鐘獎最大獎」哽咽｜東森新聞</td>\n",
       "      <td>https://news.ebc.net.tw/news/article/342619</td>\n",
       "      <td>2022-10-30 11:42:00</td>\n",
       "      <td>娛樂</td>\n",
       "      <td>YouTuber最高榮譽殿堂，「走鐘獎」邁入第四屆，不少YouTuber共襄盛舉。以「九天玄...</td>\n",
       "      <td>EBC</td>\n",
       "    </tr>\n",
       "    <tr>\n",
       "      <th>2</th>\n",
       "      <td>1638</td>\n",
       "      <td>為照顧罹癌母！35歲男星突閃退演藝圈 媽媽2個月後逝世｜東森新聞</td>\n",
       "      <td>https://news.ebc.net.tw/news/article/312350</td>\n",
       "      <td>2022-04-15 06:40:00</td>\n",
       "      <td>娛樂</td>\n",
       "      <td>大陸歌手劉維曾赴韓拜師朴軫永，成為JYP首位中國練習生，後來在中國好聲音演唱范曉萱的歌曲因為...</td>\n",
       "      <td>EBC</td>\n",
       "    </tr>\n",
       "  </tbody>\n",
       "</table>\n",
       "</div>"
      ],
      "text/plain": [
       "   system_id                          artTitle   \n",
       "0        877   Selina認愛了！小鮮肉男友首曝光 親密互動全被拍｜東森新聞  \\\n",
       "1       4490         算命阿姨發功 阿翰奪「走鐘獎最大獎」哽咽｜東森新聞   \n",
       "2       1638  為照顧罹癌母！35歲男星突閃退演藝圈 媽媽2個月後逝世｜東森新聞   \n",
       "\n",
       "                                        artUrl              artDate   \n",
       "0  https://news.ebc.net.tw/news/article/305059  2022-03-03 12:44:00  \\\n",
       "1  https://news.ebc.net.tw/news/article/342619  2022-10-30 11:42:00   \n",
       "2  https://news.ebc.net.tw/news/article/312350  2022-04-15 06:40:00   \n",
       "\n",
       "  artCatagory                                         artContent dataSource  \n",
       "0          娛樂  Selina（任家萱）離婚5年，今（3日）傳出好消息！她被陸媒拍到和神秘男子手勾手回酒店，一...        EBC  \n",
       "1          娛樂  YouTuber最高榮譽殿堂，「走鐘獎」邁入第四屆，不少YouTuber共襄盛舉。以「九天玄...        EBC  \n",
       "2          娛樂  大陸歌手劉維曾赴韓拜師朴軫永，成為JYP首位中國練習生，後來在中國好聲音演唱范曉萱的歌曲因為...        EBC  "
      ]
     },
     "execution_count": 5,
     "metadata": {},
     "output_type": "execute_result"
    }
   ],
   "source": [
    "EBC = pd.read_csv(\"raw_data/raw_data.csv\",index_col=0)  # 匯資料\n",
    "EBC.head(3)"
   ]
  },
  {
   "cell_type": "code",
   "execution_count": 6,
   "metadata": {},
   "outputs": [
    {
     "data": {
      "text/html": [
       "<div>\n",
       "<style scoped>\n",
       "    .dataframe tbody tr th:only-of-type {\n",
       "        vertical-align: middle;\n",
       "    }\n",
       "\n",
       "    .dataframe tbody tr th {\n",
       "        vertical-align: top;\n",
       "    }\n",
       "\n",
       "    .dataframe thead th {\n",
       "        text-align: right;\n",
       "    }\n",
       "</style>\n",
       "<table border=\"1\" class=\"dataframe\">\n",
       "  <thead>\n",
       "    <tr style=\"text-align: right;\">\n",
       "      <th></th>\n",
       "      <th>content</th>\n",
       "      <th>artUrl</th>\n",
       "      <th>artCatagory</th>\n",
       "      <th>artDate</th>\n",
       "    </tr>\n",
       "  </thead>\n",
       "  <tbody>\n",
       "    <tr>\n",
       "      <th>0</th>\n",
       "      <td>任家萱離婚年今日傳出好消息她被陸媒拍到和神秘男子手勾手回酒店一路上還不停跳躍看起來心情非常好...</td>\n",
       "      <td>https://news.ebc.net.tw/news/article/305059</td>\n",
       "      <td>娛樂</td>\n",
       "      <td>2022-03-03 12:44:00</td>\n",
       "    </tr>\n",
       "    <tr>\n",
       "      <th>1</th>\n",
       "      <td>最高榮譽殿堂走鐘獎邁入第四屆不少共襄盛舉以九天玄女紅遍全台的阿翰靠著算命阿姨奪下最佳影片獎在...</td>\n",
       "      <td>https://news.ebc.net.tw/news/article/342619</td>\n",
       "      <td>娛樂</td>\n",
       "      <td>2022-10-30 11:42:00</td>\n",
       "    </tr>\n",
       "    <tr>\n",
       "      <th>2</th>\n",
       "      <td>大陸歌手劉維曾赴韓拜師朴軫永成為首位中國練習生後來在中國好聲音演唱范曉萱的歌曲因為你是范曉萱...</td>\n",
       "      <td>https://news.ebc.net.tw/news/article/312350</td>\n",
       "      <td>娛樂</td>\n",
       "      <td>2022-04-15 06:40:00</td>\n",
       "    </tr>\n",
       "  </tbody>\n",
       "</table>\n",
       "</div>"
      ],
      "text/plain": [
       "                                             content   \n",
       "0  任家萱離婚年今日傳出好消息她被陸媒拍到和神秘男子手勾手回酒店一路上還不停跳躍看起來心情非常好...  \\\n",
       "1  最高榮譽殿堂走鐘獎邁入第四屆不少共襄盛舉以九天玄女紅遍全台的阿翰靠著算命阿姨奪下最佳影片獎在...   \n",
       "2  大陸歌手劉維曾赴韓拜師朴軫永成為首位中國練習生後來在中國好聲音演唱范曉萱的歌曲因為你是范曉萱...   \n",
       "\n",
       "                                        artUrl artCatagory   \n",
       "0  https://news.ebc.net.tw/news/article/305059          娛樂  \\\n",
       "1  https://news.ebc.net.tw/news/article/342619          娛樂   \n",
       "2  https://news.ebc.net.tw/news/article/312350          娛樂   \n",
       "\n",
       "               artDate  \n",
       "0  2022-03-03 12:44:00  \n",
       "1  2022-10-30 11:42:00  \n",
       "2  2022-04-15 06:40:00  "
      ]
     },
     "execution_count": 6,
     "metadata": {},
     "output_type": "execute_result"
    }
   ],
   "source": [
    "# 移除網址格式\n",
    "# 只留下中文字\n",
    "EBC[\"artContent\"] = EBC[\"artContent\"].str.replace(\"(http|https)://.*\", \"\", regex=True)\n",
    "EBC[\"artTitle\"] = EBC[\"artTitle\"].str.replace(\"(http|https)://.*\", \"\", regex=True)\n",
    "EBC[\"artContent\"] = EBC[\"artContent\"].str.replace(\"[^\\u4e00-\\u9fa5]+\", \"\", regex=True)\n",
    "EBC[\"artTitle\"] = EBC[\"artTitle\"].str.replace(\"[^\\u4e00-\\u9fa5]+\", \"\", regex=True)\n",
    "EBC['content'] = EBC['artContent']\n",
    "\n",
    "\n",
    "EBC = EBC.loc[:,[\"content\", \"artUrl\", \"artCatagory\", 'artDate']]  # 文章內容 文章連結\n",
    "EBC.head(3)"
   ]
  },
  {
   "cell_type": "code",
   "execution_count": 7,
   "metadata": {},
   "outputs": [
    {
     "name": "stderr",
     "output_type": "stream",
     "text": [
      "Building prefix dict from d:\\vscode\\sna_group3\\dict\\dict.txt.big ...\n",
      "2023-05-08 17:56:45,880 : DEBUG : Building prefix dict from d:\\vscode\\sna_group3\\dict\\dict.txt.big ...\n",
      "Loading model from cache C:\\Users\\TSH13\\AppData\\Local\\Temp\\jieba.ud39a693a3199c8a92d2c9920519551c6.cache\n",
      "2023-05-08 17:56:45,884 : DEBUG : Loading model from cache C:\\Users\\TSH13\\AppData\\Local\\Temp\\jieba.ud39a693a3199c8a92d2c9920519551c6.cache\n",
      "Loading model cost 0.884 seconds.\n",
      "2023-05-08 17:56:46,765 : DEBUG : Loading model cost 0.884 seconds.\n",
      "Prefix dict has been built successfully.\n",
      "2023-05-08 17:56:46,767 : DEBUG : Prefix dict has been built successfully.\n"
     ]
    },
    {
     "data": {
      "text/html": [
       "<div>\n",
       "<style scoped>\n",
       "    .dataframe tbody tr th:only-of-type {\n",
       "        vertical-align: middle;\n",
       "    }\n",
       "\n",
       "    .dataframe tbody tr th {\n",
       "        vertical-align: top;\n",
       "    }\n",
       "\n",
       "    .dataframe thead th {\n",
       "        text-align: right;\n",
       "    }\n",
       "</style>\n",
       "<table border=\"1\" class=\"dataframe\">\n",
       "  <thead>\n",
       "    <tr style=\"text-align: right;\">\n",
       "      <th></th>\n",
       "      <th>content</th>\n",
       "      <th>artUrl</th>\n",
       "      <th>artCatagory</th>\n",
       "      <th>artDate</th>\n",
       "      <th>words</th>\n",
       "    </tr>\n",
       "  </thead>\n",
       "  <tbody>\n",
       "    <tr>\n",
       "      <th>0</th>\n",
       "      <td>任家萱離婚年今日傳出好消息她被陸媒拍到和神秘男子手勾手回酒店一路上還不停跳躍看起來心情非常好...</td>\n",
       "      <td>https://news.ebc.net.tw/news/article/305059</td>\n",
       "      <td>娛樂</td>\n",
       "      <td>2022-03-03 12:44:00</td>\n",
       "      <td>[任家萱, 離婚, 今日, 傳出, 好消息, 陸媒, 神秘, 男子, 手勾手, 酒店, 一路...</td>\n",
       "    </tr>\n",
       "    <tr>\n",
       "      <th>1</th>\n",
       "      <td>最高榮譽殿堂走鐘獎邁入第四屆不少共襄盛舉以九天玄女紅遍全台的阿翰靠著算命阿姨奪下最佳影片獎在...</td>\n",
       "      <td>https://news.ebc.net.tw/news/article/342619</td>\n",
       "      <td>娛樂</td>\n",
       "      <td>2022-10-30 11:42:00</td>\n",
       "      <td>[最高, 榮譽, 殿堂, 鐘獎, 邁入, 第四屆, 共襄盛舉, 九天, 玄女, 紅遍, 全台...</td>\n",
       "    </tr>\n",
       "    <tr>\n",
       "      <th>2</th>\n",
       "      <td>大陸歌手劉維曾赴韓拜師朴軫永成為首位中國練習生後來在中國好聲音演唱范曉萱的歌曲因為你是范曉萱...</td>\n",
       "      <td>https://news.ebc.net.tw/news/article/312350</td>\n",
       "      <td>娛樂</td>\n",
       "      <td>2022-04-15 06:40:00</td>\n",
       "      <td>[大陸歌手, 劉維, 赴韓, 拜師, 朴軫, 永成, 首位, 中國, 練習生, 中國, 聲音...</td>\n",
       "    </tr>\n",
       "    <tr>\n",
       "      <th>3</th>\n",
       "      <td>華燈初上第三季日上線許多人為了避免被旁人爆雷在最短時間內拚命把劇追完飾演日式酒店小姐花子的劉...</td>\n",
       "      <td>https://news.ebc.net.tw/news/article/308225</td>\n",
       "      <td>娛樂</td>\n",
       "      <td>2022-03-22 13:47:00</td>\n",
       "      <td>[華燈初上, 第三季, 上線, 許多, 人為, 避免, 爆雷, 短時間, 拚命, 把劇, 飾...</td>\n",
       "    </tr>\n",
       "    <tr>\n",
       "      <th>4</th>\n",
       "      <td>年底最受矚目的犯罪懸疑國片由新銳導演陳奕甫執導找來張孝全陳昊森兩大男神攜手主演上映前舉辦多場...</td>\n",
       "      <td>https://news.ebc.net.tw/news/article/342847</td>\n",
       "      <td>娛樂</td>\n",
       "      <td>2022-11-01 11:25:00</td>\n",
       "      <td>[年底, 最受, 矚目, 犯罪, 懸疑, 國片, 新銳, 導演, 執導, 找來, 張孝, 全...</td>\n",
       "    </tr>\n",
       "  </tbody>\n",
       "</table>\n",
       "</div>"
      ],
      "text/plain": [
       "                                             content   \n",
       "0  任家萱離婚年今日傳出好消息她被陸媒拍到和神秘男子手勾手回酒店一路上還不停跳躍看起來心情非常好...  \\\n",
       "1  最高榮譽殿堂走鐘獎邁入第四屆不少共襄盛舉以九天玄女紅遍全台的阿翰靠著算命阿姨奪下最佳影片獎在...   \n",
       "2  大陸歌手劉維曾赴韓拜師朴軫永成為首位中國練習生後來在中國好聲音演唱范曉萱的歌曲因為你是范曉萱...   \n",
       "3  華燈初上第三季日上線許多人為了避免被旁人爆雷在最短時間內拚命把劇追完飾演日式酒店小姐花子的劉...   \n",
       "4  年底最受矚目的犯罪懸疑國片由新銳導演陳奕甫執導找來張孝全陳昊森兩大男神攜手主演上映前舉辦多場...   \n",
       "\n",
       "                                        artUrl artCatagory   \n",
       "0  https://news.ebc.net.tw/news/article/305059          娛樂  \\\n",
       "1  https://news.ebc.net.tw/news/article/342619          娛樂   \n",
       "2  https://news.ebc.net.tw/news/article/312350          娛樂   \n",
       "3  https://news.ebc.net.tw/news/article/308225          娛樂   \n",
       "4  https://news.ebc.net.tw/news/article/342847          娛樂   \n",
       "\n",
       "               artDate                                              words  \n",
       "0  2022-03-03 12:44:00  [任家萱, 離婚, 今日, 傳出, 好消息, 陸媒, 神秘, 男子, 手勾手, 酒店, 一路...  \n",
       "1  2022-10-30 11:42:00  [最高, 榮譽, 殿堂, 鐘獎, 邁入, 第四屆, 共襄盛舉, 九天, 玄女, 紅遍, 全台...  \n",
       "2  2022-04-15 06:40:00  [大陸歌手, 劉維, 赴韓, 拜師, 朴軫, 永成, 首位, 中國, 練習生, 中國, 聲音...  \n",
       "3  2022-03-22 13:47:00  [華燈初上, 第三季, 上線, 許多, 人為, 避免, 爆雷, 短時間, 拚命, 把劇, 飾...  \n",
       "4  2022-11-01 11:25:00  [年底, 最受, 矚目, 犯罪, 懸疑, 國片, 新銳, 導演, 執導, 找來, 張孝, 全...  "
      ]
     },
     "execution_count": 7,
     "metadata": {},
     "output_type": "execute_result"
    }
   ],
   "source": [
    "# 設定繁體中文詞庫\n",
    "jieba.set_dictionary(\"./dict/dict.txt.big\")\n",
    "\n",
    "# 新增stopwords\n",
    "# jieba.analyse.set_stop_words('./dict/stop_words.txt') #jieba.analyse.extract_tags才會作用\n",
    "with open(\"./dict/stop_words.txt\", encoding=\"utf-8\") as f:\n",
    "    stopWords = [line.strip() for line in f.readlines()]\n",
    "\n",
    "# 設定斷詞 function\n",
    "def getToken(row):\n",
    "    seg_list = jieba.cut(row, cut_all=False)\n",
    "    seg_list = [\n",
    "        w for w in seg_list if w not in stopWords and len(w) > 1\n",
    "    ]  # 篩選掉停用字與字元數大於1的詞彙\n",
    "    return seg_list\n",
    "\n",
    "EBC[\"words\"] = EBC[\"content\"].apply(getToken)\n",
    "EBC.head()"
   ]
  },
  {
   "cell_type": "code",
   "execution_count": 8,
   "metadata": {},
   "outputs": [
    {
     "data": {
      "text/plain": [
       "array(['娛樂', '國際', '體育'], dtype=object)"
      ]
     },
     "execution_count": 8,
     "metadata": {},
     "output_type": "execute_result"
    }
   ],
   "source": [
    "EBC['artCatagory'].unique()"
   ]
  },
  {
   "attachments": {},
   "cell_type": "markdown",
   "metadata": {},
   "source": [
    "## 4. LDA 主題模型\n",
    "Latent Dirichlet allocation 簡稱 LDA，是一種主題模型，他可以將資料集中每篇文檔的主題按照機率分佈，他是無監督學習法，訓練時不需要手動標註，只需要給文黨集、主題數，也可以根據一些參數(alpha、Beta)來改變模型訓練的結果，以下使用 gensim 套件來示範如何訓練 LDA 模型。"
   ]
  },
  {
   "attachments": {},
   "cell_type": "markdown",
   "metadata": {},
   "source": [
    "簡單的範例說明 `gensim` bag of word 的方式"
   ]
  },
  {
   "attachments": {},
   "cell_type": "markdown",
   "metadata": {},
   "source": [
    "**4.1 正式處理新聞**"
   ]
  },
  {
   "cell_type": "code",
   "execution_count": 9,
   "metadata": {},
   "outputs": [
    {
     "data": {
      "text/plain": [
       "['任家萱',\n",
       " '離婚',\n",
       " '今日',\n",
       " '傳出',\n",
       " '好消息',\n",
       " '陸媒',\n",
       " '神秘',\n",
       " '男子',\n",
       " '手勾手',\n",
       " '酒店',\n",
       " '一路上',\n",
       " '不停',\n",
       " '跳躍',\n",
       " '心情',\n",
       " '消息',\n",
       " '曝光',\n",
       " '微博',\n",
       " '發文',\n",
       " '寫下',\n",
       " '春暖花開',\n",
       " '春天',\n",
       " '大方',\n",
       " '愛小',\n",
       " '鮮肉',\n",
       " '近日',\n",
       " '大陸',\n",
       " '媒體',\n",
       " '一名',\n",
       " '神秘',\n",
       " '男子',\n",
       " '開車',\n",
       " '下班',\n",
       " '兩人還',\n",
       " '挽手',\n",
       " '酒店',\n",
       " '幾天',\n",
       " '兩人還',\n",
       " '一起',\n",
       " '醫院',\n",
       " '核酸',\n",
       " '檢測',\n",
       " '只見',\n",
       " '挽著',\n",
       " '男子',\n",
       " '手臂',\n",
       " '還在',\n",
       " '街頭',\n",
       " '蹦蹦跳跳',\n",
       " '心情',\n",
       " '陸媒',\n",
       " '搜狐',\n",
       " '娛樂',\n",
       " '報導',\n",
       " '去年',\n",
       " '活動',\n",
       " '現場',\n",
       " '已經',\n",
       " '接觸',\n",
       " '對象',\n",
       " '對方',\n",
       " '還小',\n",
       " '弟弟',\n",
       " '火車',\n",
       " '超夯',\n",
       " '陸上',\n",
       " '郵輪',\n",
       " '玩法',\n",
       " '懶人',\n",
       " '旅遊',\n",
       " '戀情',\n",
       " '隨後',\n",
       " '微博上',\n",
       " '寫下',\n",
       " '女人',\n",
       " '四十',\n",
       " '一枝花',\n",
       " '幸運',\n",
       " '戀情',\n",
       " '萌芽',\n",
       " '珍惜',\n",
       " '步伐',\n",
       " '小情',\n",
       " '請吃',\n",
       " '瓜且',\n",
       " '強調',\n",
       " '春天',\n",
       " '間接',\n",
       " '認愛',\n",
       " '新歡',\n",
       " '此文',\n",
       " '曝光',\n",
       " '粉絲',\n",
       " '留言',\n",
       " '恭喜',\n",
       " '姐姐',\n",
       " '這次',\n",
       " '一定',\n",
       " '獲得',\n",
       " '幸福',\n",
       " '開心',\n",
       " '開心',\n",
       " '寶貝',\n",
       " '春天',\n",
       " '萬物',\n",
       " '復甦',\n",
       " '季節',\n",
       " '希望',\n",
       " '四季如春',\n",
       " '任家萱',\n",
       " '寶貝',\n",
       " '幸福',\n",
       " '啊啊啊',\n",
       " '啊啊啊',\n",
       " '寶貝',\n",
       " '公主',\n",
       " '記得',\n",
       " '幸福',\n",
       " '年歲',\n",
       " '前夫',\n",
       " '張承中',\n",
       " '離婚',\n",
       " '小歲',\n",
       " '華燈初上',\n",
       " '男星',\n",
       " '張軒',\n",
       " '大陸',\n",
       " '真人秀',\n",
       " '實境',\n",
       " '節目',\n",
       " '女兒',\n",
       " '戀愛',\n",
       " '上演',\n",
       " '甜蜜',\n",
       " '弟戀',\n",
       " '還在',\n",
       " '節目',\n",
       " '最後',\n",
       " '一集',\n",
       " '宣布',\n",
       " '交往',\n",
       " '節目',\n",
       " '之後',\n",
       " '兩人',\n",
       " '戀情',\n",
       " '無疾而終',\n",
       " '歷經',\n",
       " '感情',\n",
       " '窗期',\n",
       " '愛小',\n",
       " '鮮肉',\n",
       " '受到',\n",
       " '粉絲',\n",
       " '祝福',\n",
       " '希望',\n",
       " '能夠',\n",
       " '得到',\n",
       " '幸福',\n",
       " '新歡',\n",
       " '長久',\n",
       " '下去']"
      ]
     },
     "execution_count": 9,
     "metadata": {},
     "output_type": "execute_result"
    }
   ],
   "source": [
    "docs = EBC['words'].to_list()\n",
    "docs[0]"
   ]
  },
  {
   "cell_type": "code",
   "execution_count": 10,
   "metadata": {},
   "outputs": [
    {
     "name": "stderr",
     "output_type": "stream",
     "text": [
      "2023-05-08 17:57:06,765 : INFO : adding document #0 to Dictionary<0 unique tokens: []>\n",
      "2023-05-08 17:57:07,380 : INFO : built Dictionary<71997 unique tokens: ['一名', '一定', '一枝花', '一起', '一路上']...> from 4098 documents (total 741105 corpus positions)\n",
      "2023-05-08 17:57:07,382 : INFO : Dictionary lifecycle event {'msg': \"built Dictionary<71997 unique tokens: ['一名', '一定', '一枝花', '一起', '一路上']...> from 4098 documents (total 741105 corpus positions)\", 'datetime': '2023-05-08T17:57:07.382956', 'gensim': '4.3.1', 'python': '3.9.7 (default, Sep 16 2021, 16:59:28) [MSC v.1916 64 bit (AMD64)]', 'platform': 'Windows-10-10.0.19045-SP0', 'event': 'created'}\n",
      "2023-05-08 17:57:07,444 : INFO : discarding 63868 tokens: [('一枝花', 1), ('一集', 9), ('任家萱', 3), ('啊啊啊', 9), ('四十', 1), ('四季如春', 1), ('季節', 4), ('小情', 1), ('弟戀', 5), ('張承中', 2)]...\n",
      "2023-05-08 17:57:07,445 : INFO : keeping 8129 tokens which were in no less than 10 and no more than 4057 (=99.0%) documents\n",
      "2023-05-08 17:57:07,472 : INFO : resulting dictionary: Dictionary<8129 unique tokens: ['一名', '一定', '一起', '一路上', '上演']...>\n"
     ]
    },
    {
     "name": "stdout",
     "output_type": "stream",
     "text": [
      "Dictionary<8129 unique tokens: ['一名', '一定', '一起', '一路上', '上演']...>\n"
     ]
    }
   ],
   "source": [
    "dictionary = Dictionary(docs)\n",
    "# Filter out words that occur less than 20 documents, or more than 99% of the documents.\n",
    "dictionary.filter_extremes(no_below=5, no_above=0.99)\n",
    "print(dictionary)"
   ]
  },
  {
   "cell_type": "code",
   "execution_count": 11,
   "metadata": {},
   "outputs": [
    {
     "name": "stdout",
     "output_type": "stream",
     "text": [
      "一名: 0\n",
      "一定: 1\n",
      "一起: 2\n",
      "一路上: 3\n",
      "上演: 4\n",
      "下去: 5\n",
      "下班: 6\n",
      "不停: 7\n",
      "之後: 8\n",
      "交往: 9\n",
      "今日: 10\n",
      "傳出: 11\n"
     ]
    }
   ],
   "source": [
    "for idx, (k, v) in enumerate(dictionary.token2id.items()):\n",
    "    print(f\"{k}: {v}\")\n",
    "    if idx > 10:\n",
    "        break"
   ]
  },
  {
   "attachments": {},
   "cell_type": "markdown",
   "metadata": {},
   "source": [
    "將斷詞結果建構語料庫(corpus)，利用語料庫把每篇文章數字化。<br>\n",
    "每篇文章、每個詞彙都被賦予一個 ID 及頻率(word_id，word_frequency)。<br>\n",
    "\n"
   ]
  },
  {
   "cell_type": "code",
   "execution_count": 32,
   "metadata": {},
   "outputs": [
    {
     "name": "stdout",
     "output_type": "stream",
     "text": [
      "('藝人 小嫻 去年 南下 墾丁 打工 換宿 努力 享受 生活 因緣際會 金剛 李信 相戀 兩人 一同 經營 雞翅 副業 怎料 嫻突 限時 動態 粉絲 幫忙 '\n",
      " '投票決定 兩人 是否 退出 擺攤 經紀人 公布 背後 原因 限時 夏日 輕鬆 變纖女 今天 明天 藝人 小嫻 男星 金剛 李信 公開 認愛後 交往 至今 '\n",
      " '感情 穩定 小倆口 經營 雞翅 副業 販賣 手工 編織 手環 雞翅 生意 一度 好到 爆單 缺貨 小嫻 突然 思考 退出 擺攤 消息 一出 許多 粉絲 '\n",
      " '感到 小嫻 發出 限時 動態 設置 投票 功能 粉絲 決定 兩人要 退出 擺攤 共有 選項 分別 是否 另尋 出路 消息 一出 引發 外界 好奇 兩人 '\n",
      " '擺攤 是否 遭遇 困難 報導 小嫻 經紀人 表示 近日 本土 疫情 延燒 墾丁 台灣 傳出 確診 雞翅 物料 短缺 嫻動 放棄 念頭 小嫻 透過 三立 '\n",
      " '新聞網 表示 現在 問題 解決 回到 擺攤 繼續 擺攤 想要 光顧 小嫻 雞翅 生意 粉絲 前往 墾丁 大街 支持 了解 日前 金剛 小心 滑倒 把手 '\n",
      " '摔傷 石膏 開刀 治療 受傷 金剛 堅持 陪伴 小嫻 日小嫻 臉書 俏皮 寫下 人手 受傷 擺攤 不來 照片 兩人 露出 燦爛 笑容 樂觀 面對 生活')\n"
     ]
    }
   ],
   "source": [
    "pprint(\" \".join(EBC['words'].iloc[50]))\n"
   ]
  },
  {
   "cell_type": "code",
   "execution_count": 33,
   "metadata": {},
   "outputs": [
    {
     "data": {
      "text/plain": [
       "[(9, 1),\n",
       " (11, 1),\n",
       " (12, 4),\n",
       " (16, 1),\n",
       " (19, 1),\n",
       " (30, 1),\n",
       " (49, 1),\n",
       " (66, 2),\n",
       " (74, 1),\n",
       " (81, 4)]"
      ]
     },
     "execution_count": 33,
     "metadata": {},
     "output_type": "execute_result"
    }
   ],
   "source": [
    "dictionary.doc2bow(EBC['words'].iloc[50])[:10]"
   ]
  },
  {
   "cell_type": "code",
   "execution_count": 14,
   "metadata": {},
   "outputs": [],
   "source": [
    "# Bag-of-words representation of the documents.\n",
    "# 用 gensim ldamodel input 需要將文章轉換成 bag of words \n",
    "corpus = [dictionary.doc2bow(doc) for doc in docs]"
   ]
  },
  {
   "cell_type": "code",
   "execution_count": 15,
   "metadata": {},
   "outputs": [
    {
     "data": {
      "text/plain": [
       "list"
      ]
     },
     "execution_count": 15,
     "metadata": {},
     "output_type": "execute_result"
    }
   ],
   "source": [
    "type(corpus)"
   ]
  },
  {
   "attachments": {},
   "cell_type": "markdown",
   "metadata": {},
   "source": [
    "+ 參數說明：\n",
    "    + corpus = 文檔語料庫\n",
    "    + id2word = 詞彙字典\n",
    "    + num_topics = 生成幾個主題數\n",
    "    + random_state = 固定亂數值，每次的模型結果會一樣\n",
    "    + iteration = 每個文章訓練的次數，可以設定高一點讓模型收斂\n",
    "    + passes(epoch) = 整個 corpus 訓練模型的次數\n",
    "    + alpha = 文章主題分佈\n",
    "    + eta = 主題字分佈\n",
    "\n",
    "模型參數沒有一個絕對的答案，同學們應該**使用相同的資料**，嘗試做參數上的調整，進而比較出較佳的模型結果。"
   ]
  },
  {
   "cell_type": "code",
   "execution_count": 16,
   "metadata": {},
   "outputs": [
    {
     "name": "stderr",
     "output_type": "stream",
     "text": [
      "2023-05-08 17:57:08,099 : INFO : using symmetric alpha at 0.01\n",
      "2023-05-08 17:57:08,100 : INFO : using symmetric eta at 0.01\n",
      "2023-05-08 17:57:08,102 : INFO : using serial LDA version on this node\n",
      "2023-05-08 17:57:08,162 : INFO : running online (single-pass) LDA training, 100 topics, 1 passes over the supplied corpus of 4098 documents, updating model once every 2000 documents, evaluating perplexity every 4098 documents, iterating 50x with a convergence threshold of 0.001000\n",
      "2023-05-08 17:57:08,163 : WARNING : too few updates, training might not converge; consider increasing the number of passes or iterations to improve accuracy\n",
      "2023-05-08 17:57:08,163 : INFO : PROGRESS: pass 0, at document #2000/4098\n",
      "2023-05-08 17:57:21,207 : INFO : merging changes from 2000 documents into a model of 4098 documents\n",
      "2023-05-08 17:57:21,246 : INFO : topic #26 (0.010): 0.010*\"網友\" + 0.009*\"表示\" + 0.007*\"兩人\" + 0.007*\"相當\" + 0.005*\"女兒\" + 0.005*\"余苑\" + 0.004*\"分手\" + 0.004*\"余天\" + 0.004*\"已經\" + 0.004*\"影片\"\n",
      "2023-05-08 17:57:21,247 : INFO : topic #73 (0.010): 0.012*\"表示\" + 0.008*\"網友\" + 0.006*\"已經\" + 0.005*\"離婚\" + 0.004*\"兩人\" + 0.004*\"婚禮\" + 0.004*\"現在\" + 0.004*\"影片\" + 0.003*\"粉絲\" + 0.003*\"日本\"\n",
      "2023-05-08 17:57:21,248 : INFO : topic #24 (0.010): 0.007*\"表示\" + 0.005*\"烏克蘭\" + 0.005*\"網友\" + 0.004*\"對方\" + 0.004*\"已經\" + 0.004*\"目前\" + 0.003*\"進行\" + 0.003*\"美國\" + 0.003*\"女子\" + 0.003*\"報導\"\n",
      "2023-05-08 17:57:21,248 : INFO : topic #49 (0.010): 0.013*\"表示\" + 0.006*\"粉絲\" + 0.005*\"女子\" + 0.004*\"真的\" + 0.004*\"現在\" + 0.004*\"目前\" + 0.004*\"北京\" + 0.004*\"現場\" + 0.003*\"民眾\" + 0.003*\"網友\"\n",
      "2023-05-08 17:57:21,249 : INFO : topic #99 (0.010): 0.010*\"表示\" + 0.009*\"粉絲\" + 0.005*\"分享\" + 0.004*\"已經\" + 0.004*\"真的\" + 0.004*\"網友\" + 0.004*\"來源\" + 0.003*\"相當\" + 0.003*\"公司\" + 0.003*\"台灣\"\n",
      "2023-05-08 17:57:21,252 : INFO : topic diff=50.080910, rho=1.000000\n",
      "2023-05-08 17:57:21,254 : INFO : PROGRESS: pass 0, at document #4000/4098\n",
      "2023-05-08 17:57:32,224 : INFO : merging changes from 2000 documents into a model of 4098 documents\n",
      "2023-05-08 17:57:32,255 : INFO : topic #74 (0.010): 0.009*\"表示\" + 0.008*\"電梯\" + 0.008*\"徵召\" + 0.007*\"俄羅斯\" + 0.006*\"媽媽\" + 0.005*\"網友\" + 0.004*\"烏克蘭\" + 0.004*\"爸爸\" + 0.004*\"報導\" + 0.004*\"一名\"\n",
      "2023-05-08 17:57:32,256 : INFO : topic #90 (0.010): 0.018*\"大陸\" + 0.014*\"中國\" + 0.011*\"表示\" + 0.009*\"碰頭\" + 0.008*\"發現\" + 0.007*\"報導\" + 0.006*\"已經\" + 0.006*\"一名\" + 0.005*\"日本\" + 0.004*\"人民幣\"\n",
      "2023-05-08 17:57:32,257 : INFO : topic #55 (0.010): 0.016*\"終場\" + 0.014*\"板凳\" + 0.007*\"一分\" + 0.007*\"汪小菲\" + 0.007*\"直播\" + 0.006*\"兩人\" + 0.006*\"表示\" + 0.006*\"男方\" + 0.005*\"球賽\" + 0.005*\"網友\"\n",
      "2023-05-08 17:57:32,257 : INFO : topic #1 (0.010): 0.020*\"北一女\" + 0.010*\"表示\" + 0.009*\"隊友\" + 0.009*\"日本\" + 0.008*\"網友\" + 0.006*\"破門\" + 0.006*\"門票\" + 0.006*\"兩隊\" + 0.006*\"冠軍\" + 0.005*\"聯盟\"\n",
      "2023-05-08 17:57:32,258 : INFO : topic #67 (0.010): 0.018*\"安倍晉三\" + 0.017*\"安倍\" + 0.016*\"山上\" + 0.013*\"日本\" + 0.010*\"槍擊\" + 0.008*\"表示\" + 0.007*\"前首相\" + 0.005*\"前夫\" + 0.005*\"蔡天鳳\" + 0.005*\"台灣\"\n",
      "2023-05-08 17:57:32,260 : INFO : topic diff=4.266136, rho=0.707107\n",
      "2023-05-08 17:57:32,873 : INFO : -26.223 per-word bound, 78334985.0 perplexity estimate based on a held-out corpus of 98 documents with 14057 words\n",
      "2023-05-08 17:57:32,874 : INFO : PROGRESS: pass 0, at document #4098/4098\n",
      "2023-05-08 17:57:33,394 : INFO : merging changes from 98 documents into a model of 4098 documents\n",
      "2023-05-08 17:57:33,426 : INFO : topic #8 (0.010): 0.026*\"組合\" + 0.018*\"首輪\" + 0.016*\"隊長\" + 0.013*\"經典\" + 0.013*\"手感\" + 0.010*\"世界\" + 0.008*\"杜拜\" + 0.008*\"今天\" + 0.008*\"當兵\" + 0.008*\"古巴\"\n",
      "2023-05-08 17:57:33,427 : INFO : topic #87 (0.010): 0.032*\"美國\" + 0.030*\"中國\" + 0.020*\"棒球隊\" + 0.014*\"台灣\" + 0.013*\"敗給\" + 0.010*\"統一\" + 0.010*\"上半\" + 0.008*\"舉行\" + 0.008*\"表示\" + 0.007*\"逆轉\"\n",
      "2023-05-08 17:57:33,428 : INFO : topic #11 (0.010): 0.218*\"勇士\" + 0.051*\"聯盟\" + 0.044*\"里程碑\" + 0.032*\"攻勢\" + 0.025*\"職籃\" + 0.014*\"顏色\" + 0.013*\"波士頓\" + 0.011*\"關心\" + 0.011*\"超前\" + 0.008*\"男童\"\n",
      "2023-05-08 17:57:33,428 : INFO : topic #12 (0.010): 0.262*\"分數\" + 0.038*\"右手\" + 0.030*\"適應\" + 0.013*\"上方\" + 0.013*\"雞蛋\" + 0.011*\"輔助\" + 0.007*\"調整\" + 0.007*\"加油\" + 0.007*\"校長\" + 0.006*\"基隆\"\n",
      "2023-05-08 17:57:33,429 : INFO : topic #55 (0.010): 0.066*\"板凳\" + 0.054*\"有驚無險\" + 0.033*\"終場\" + 0.007*\"一分\" + 0.007*\"直播\" + 0.006*\"表示\" + 0.005*\"汪小菲\" + 0.005*\"兩人\" + 0.005*\"還向\" + 0.004*\"男方\"\n",
      "2023-05-08 17:57:33,432 : INFO : topic diff=4.425211, rho=0.577350\n",
      "2023-05-08 17:57:33,433 : INFO : LdaModel lifecycle event {'msg': 'trained LdaModel<num_terms=8129, num_topics=100, decay=0.5, chunksize=2000> in 25.27s', 'datetime': '2023-05-08T17:57:33.433356', 'gensim': '4.3.1', 'python': '3.9.7 (default, Sep 16 2021, 16:59:28) [MSC v.1916 64 bit (AMD64)]', 'platform': 'Windows-10-10.0.19045-SP0', 'event': 'created'}\n"
     ]
    }
   ],
   "source": [
    "ldamodel = LdaModel(\n",
    "    corpus=corpus, \n",
    "    id2word=dictionary, # 字典\n",
    "    num_topics=100, # 生成幾個主題數\n",
    "    random_state=2023, # 亂數\n",
    ")"
   ]
  },
  {
   "attachments": {},
   "cell_type": "markdown",
   "metadata": {},
   "source": [
    "**4.2 查看 LDA 主題代表字** <br>\n",
    "\n",
    "當 LDA 模型訓練好之後，我們可以查看每個主題的單詞分佈。<br>\n",
    "num_words = 選擇要查看每個主題前幾個字。<br>\n",
    "\n"
   ]
  },
  {
   "cell_type": "code",
   "execution_count": 17,
   "metadata": {},
   "outputs": [
    {
     "data": {
      "text/plain": [
       "'0.017*\"這顆\" + 0.010*\"表示\" + 0.010*\"勝出\" + 0.010*\"出生\" + 0.008*\"近藤\" + 0.007*\"壓迫\" + 0.007*\"生下\" + 0.007*\"症狀\" + 0.007*\"醫院\" + 0.007*\"生子\"'"
      ]
     },
     "execution_count": 17,
     "metadata": {},
     "output_type": "execute_result"
    }
   ],
   "source": [
    "ldamodel.print_topic(50)"
   ]
  },
  {
   "attachments": {},
   "cell_type": "markdown",
   "metadata": {},
   "source": [
    "也可以使用 `get_document_topics()` 回去看每篇文章的主題分佈 (`theta`)"
   ]
  },
  {
   "cell_type": "code",
   "execution_count": 18,
   "metadata": {},
   "outputs": [
    {
     "data": {
      "text/plain": [
       "[(16, 0.053044915),\n",
       " (17, 0.01618829),\n",
       " (45, 0.018738361),\n",
       " (63, 0.1997009),\n",
       " (65, 0.010580584),\n",
       " (66, 0.11690966),\n",
       " (68, 0.45235926),\n",
       " (83, 0.060415242),\n",
       " (94, 0.06511583)]"
      ]
     },
     "execution_count": 18,
     "metadata": {},
     "output_type": "execute_result"
    }
   ],
   "source": [
    "ldamodel.get_document_topics(corpus[0])"
   ]
  },
  {
   "attachments": {},
   "cell_type": "markdown",
   "metadata": {},
   "source": [
    "**4.3 查看 LDA 模型指標**\n",
    "+ **Pointwise Mutual Information** : <br>\n",
    "自然語言處理中，想要探討兩個字之間是否存在某種關係。<br>\n",
    "例如：某些字會一起出現，可能帶有某些訊息，因此這個可以用 PMI 來計算，數字越大越好。\n",
    "+ **perplexity** :<br>\n",
    "perplexity 也是評估的指標之一，廣泛用於語言模型的評估，\b意思為複雜度，因此數字要越小越好。"
   ]
  },
  {
   "cell_type": "code",
   "execution_count": 19,
   "metadata": {},
   "outputs": [
    {
     "name": "stderr",
     "output_type": "stream",
     "text": [
      "2023-05-08 17:57:53,894 : INFO : -14.137 per-word bound, 18015.4 perplexity estimate based on a held-out corpus of 4098 documents with 577682 words\n"
     ]
    },
    {
     "data": {
      "text/plain": [
       "-14.136945476803252"
      ]
     },
     "execution_count": 19,
     "metadata": {},
     "output_type": "execute_result"
    }
   ],
   "source": [
    "# perplexity\n",
    "perplexity = ldamodel.log_perplexity(corpus)\n",
    "perplexity"
   ]
  },
  {
   "cell_type": "code",
   "execution_count": 20,
   "metadata": {},
   "outputs": [
    {
     "data": {
      "text/plain": [
       "18015.43012755744"
      ]
     },
     "execution_count": 20,
     "metadata": {},
     "output_type": "execute_result"
    }
   ],
   "source": [
    "np.exp2(-perplexity)"
   ]
  },
  {
   "cell_type": "code",
   "execution_count": 21,
   "metadata": {},
   "outputs": [
    {
     "name": "stderr",
     "output_type": "stream",
     "text": [
      "2023-05-08 17:57:54,049 : INFO : using ParallelWordOccurrenceAccumulator<processes=15, batch_size=64> to estimate probabilities from sliding windows\n",
      "2023-05-08 17:58:07,435 : INFO : 1 batches submitted to accumulate stats from 64 documents (10718 virtual)\n",
      "2023-05-08 17:58:07,438 : INFO : 2 batches submitted to accumulate stats from 128 documents (21505 virtual)\n",
      "2023-05-08 17:58:07,442 : INFO : 3 batches submitted to accumulate stats from 192 documents (32741 virtual)\n",
      "2023-05-08 17:58:07,447 : INFO : 4 batches submitted to accumulate stats from 256 documents (44358 virtual)\n",
      "2023-05-08 17:58:07,452 : INFO : 5 batches submitted to accumulate stats from 320 documents (55805 virtual)\n",
      "2023-05-08 17:58:07,458 : INFO : 6 batches submitted to accumulate stats from 384 documents (66954 virtual)\n",
      "2023-05-08 17:58:07,464 : INFO : 7 batches submitted to accumulate stats from 448 documents (78327 virtual)\n",
      "2023-05-08 17:58:07,468 : INFO : 8 batches submitted to accumulate stats from 512 documents (91007 virtual)\n",
      "2023-05-08 17:58:07,479 : INFO : 9 batches submitted to accumulate stats from 576 documents (101868 virtual)\n",
      "2023-05-08 17:58:07,486 : INFO : 10 batches submitted to accumulate stats from 640 documents (112821 virtual)\n",
      "2023-05-08 17:58:07,494 : INFO : 11 batches submitted to accumulate stats from 704 documents (123495 virtual)\n",
      "2023-05-08 17:58:07,505 : INFO : 12 batches submitted to accumulate stats from 768 documents (137024 virtual)\n",
      "2023-05-08 17:58:07,514 : INFO : 13 batches submitted to accumulate stats from 832 documents (148921 virtual)\n",
      "2023-05-08 17:58:07,526 : INFO : 14 batches submitted to accumulate stats from 896 documents (159693 virtual)\n",
      "2023-05-08 17:58:07,538 : INFO : 15 batches submitted to accumulate stats from 960 documents (172102 virtual)\n",
      "2023-05-08 17:58:07,549 : INFO : 16 batches submitted to accumulate stats from 1024 documents (183015 virtual)\n",
      "2023-05-08 17:58:07,556 : INFO : 17 batches submitted to accumulate stats from 1088 documents (194950 virtual)\n",
      "2023-05-08 17:58:07,563 : INFO : 18 batches submitted to accumulate stats from 1152 documents (206441 virtual)\n",
      "2023-05-08 17:58:07,574 : INFO : 19 batches submitted to accumulate stats from 1216 documents (217506 virtual)\n",
      "2023-05-08 17:58:07,581 : INFO : 20 batches submitted to accumulate stats from 1280 documents (228826 virtual)\n",
      "2023-05-08 17:58:07,587 : INFO : 21 batches submitted to accumulate stats from 1344 documents (239700 virtual)\n",
      "2023-05-08 17:58:07,592 : INFO : 22 batches submitted to accumulate stats from 1408 documents (250458 virtual)\n",
      "2023-05-08 17:58:07,596 : INFO : 23 batches submitted to accumulate stats from 1472 documents (259728 virtual)\n",
      "2023-05-08 17:58:07,603 : INFO : 24 batches submitted to accumulate stats from 1536 documents (271031 virtual)\n",
      "2023-05-08 17:58:07,609 : INFO : 25 batches submitted to accumulate stats from 1600 documents (280918 virtual)\n",
      "2023-05-08 17:58:07,617 : INFO : 26 batches submitted to accumulate stats from 1664 documents (290991 virtual)\n",
      "2023-05-08 17:58:07,632 : INFO : 27 batches submitted to accumulate stats from 1728 documents (301131 virtual)\n",
      "2023-05-08 17:58:07,639 : INFO : 28 batches submitted to accumulate stats from 1792 documents (313273 virtual)\n",
      "2023-05-08 17:58:07,644 : INFO : 29 batches submitted to accumulate stats from 1856 documents (324385 virtual)\n",
      "2023-05-08 17:58:07,648 : INFO : 30 batches submitted to accumulate stats from 1920 documents (334696 virtual)\n",
      "2023-05-08 17:58:07,742 : INFO : 31 batches submitted to accumulate stats from 1984 documents (347175 virtual)\n",
      "2023-05-08 17:58:07,747 : INFO : 32 batches submitted to accumulate stats from 2048 documents (356924 virtual)\n",
      "2023-05-08 17:58:07,752 : INFO : 33 batches submitted to accumulate stats from 2112 documents (366809 virtual)\n",
      "2023-05-08 17:58:07,760 : INFO : 34 batches submitted to accumulate stats from 2176 documents (377673 virtual)\n",
      "2023-05-08 17:58:07,773 : INFO : 35 batches submitted to accumulate stats from 2240 documents (387906 virtual)\n",
      "2023-05-08 17:58:07,783 : INFO : 36 batches submitted to accumulate stats from 2304 documents (398442 virtual)\n",
      "2023-05-08 17:58:07,789 : INFO : 37 batches submitted to accumulate stats from 2368 documents (408144 virtual)\n",
      "2023-05-08 17:58:07,809 : INFO : 38 batches submitted to accumulate stats from 2432 documents (418470 virtual)\n",
      "2023-05-08 17:58:07,815 : INFO : 39 batches submitted to accumulate stats from 2496 documents (428774 virtual)\n",
      "2023-05-08 17:58:07,868 : INFO : 40 batches submitted to accumulate stats from 2560 documents (439666 virtual)\n",
      "2023-05-08 17:58:07,873 : INFO : 41 batches submitted to accumulate stats from 2624 documents (450129 virtual)\n",
      "2023-05-08 17:58:07,888 : INFO : 42 batches submitted to accumulate stats from 2688 documents (461670 virtual)\n",
      "2023-05-08 17:58:07,927 : INFO : 43 batches submitted to accumulate stats from 2752 documents (472222 virtual)\n",
      "2023-05-08 17:58:07,933 : INFO : 44 batches submitted to accumulate stats from 2816 documents (481646 virtual)\n",
      "2023-05-08 17:58:08,062 : INFO : 45 batches submitted to accumulate stats from 2880 documents (491584 virtual)\n",
      "2023-05-08 17:58:08,069 : INFO : 46 batches submitted to accumulate stats from 2944 documents (500417 virtual)\n",
      "2023-05-08 17:58:08,081 : INFO : 47 batches submitted to accumulate stats from 3008 documents (509661 virtual)\n",
      "2023-05-08 17:58:08,088 : INFO : 48 batches submitted to accumulate stats from 3072 documents (520733 virtual)\n",
      "2023-05-08 17:58:08,096 : INFO : 49 batches submitted to accumulate stats from 3136 documents (535560 virtual)\n",
      "2023-05-08 17:58:08,123 : INFO : 50 batches submitted to accumulate stats from 3200 documents (546600 virtual)\n",
      "2023-05-08 17:58:08,159 : INFO : 51 batches submitted to accumulate stats from 3264 documents (557867 virtual)\n",
      "2023-05-08 17:58:08,166 : INFO : 52 batches submitted to accumulate stats from 3328 documents (569015 virtual)\n",
      "2023-05-08 17:58:08,197 : INFO : 53 batches submitted to accumulate stats from 3392 documents (580580 virtual)\n",
      "2023-05-08 17:58:08,206 : INFO : 54 batches submitted to accumulate stats from 3456 documents (592560 virtual)\n",
      "2023-05-08 17:58:08,290 : INFO : 55 batches submitted to accumulate stats from 3520 documents (605258 virtual)\n",
      "2023-05-08 17:58:08,305 : INFO : 56 batches submitted to accumulate stats from 3584 documents (617317 virtual)\n",
      "2023-05-08 17:58:08,312 : INFO : 57 batches submitted to accumulate stats from 3648 documents (628626 virtual)\n",
      "2023-05-08 17:58:08,366 : INFO : 58 batches submitted to accumulate stats from 3712 documents (639927 virtual)\n",
      "2023-05-08 17:58:08,382 : INFO : 59 batches submitted to accumulate stats from 3776 documents (650253 virtual)\n",
      "2023-05-08 17:58:08,390 : INFO : 60 batches submitted to accumulate stats from 3840 documents (661228 virtual)\n",
      "2023-05-08 17:58:08,408 : INFO : 61 batches submitted to accumulate stats from 3904 documents (671658 virtual)\n",
      "2023-05-08 17:58:08,443 : INFO : 62 batches submitted to accumulate stats from 3968 documents (682084 virtual)\n",
      "2023-05-08 17:58:08,451 : INFO : 63 batches submitted to accumulate stats from 4032 documents (693635 virtual)\n",
      "2023-05-08 17:58:08,472 : INFO : 64 batches submitted to accumulate stats from 4096 documents (703990 virtual)\n",
      "2023-05-08 17:58:08,506 : INFO : 65 batches submitted to accumulate stats from 4160 documents (704223 virtual)\n",
      "2023-05-08 17:58:10,141 : INFO : 15 accumulators retrieved from output queue\n",
      "2023-05-08 17:58:10,954 : INFO : accumulated word occurrence stats for 704291 virtual documents\n"
     ]
    },
    {
     "name": "stdout",
     "output_type": "stream",
     "text": [
      "這個主題的 PMI score:  -0.17496484053945363\n"
     ]
    }
   ],
   "source": [
    "# pmi\n",
    "PMI_model_lda = CoherenceModel(model=ldamodel, texts=docs, coherence='c_npmi')\n",
    "PMI_lda = PMI_model_lda.get_coherence()\n",
    "print('這個主題的 PMI score: ', PMI_lda)"
   ]
  },
  {
   "cell_type": "code",
   "execution_count": 22,
   "metadata": {},
   "outputs": [
    {
     "data": {
      "text/plain": [
       "[-0.17149522688054325,\n",
       " -0.2942108816400058,\n",
       " -0.06785389797996856,\n",
       " -0.26742329799112763,\n",
       " -0.0577708843813165,\n",
       " -0.27633531505346204,\n",
       " -0.12188257208724915,\n",
       " -0.02446742846891604,\n",
       " -0.20208797399785386,\n",
       " -0.2903422978007255,\n",
       " -0.21898207857089164,\n",
       " -0.1816457068653516,\n",
       " -0.2894817502418722,\n",
       " -0.08652853014507517,\n",
       " -0.04759828452829636,\n",
       " -0.20273549387941936,\n",
       " -0.20996297210135656,\n",
       " -0.20609592155816128,\n",
       " -0.19329526014883333,\n",
       " -0.1500759230904079,\n",
       " -0.23415921057679148,\n",
       " -0.15482389621300224,\n",
       " -0.21773826185708317,\n",
       " -0.20887620184763414,\n",
       " -0.23293541908591658,\n",
       " 0.06805986920515247,\n",
       " -0.25327936575606874,\n",
       " -0.14773780252084764,\n",
       " -0.14210246661984782,\n",
       " -0.1010005203582348,\n",
       " -0.07873671292314756,\n",
       " -0.12311376107269022,\n",
       " -0.26738997654481095,\n",
       " -0.24145779892913394,\n",
       " -0.25088637793590146,\n",
       " -0.04655060277059856,\n",
       " -0.1418388252445847,\n",
       " -0.22833160371023462,\n",
       " -0.2579599460960044,\n",
       " -0.22450801822817298,\n",
       " -0.13298621781788283,\n",
       " -0.18101666637260874,\n",
       " -0.2472381375380902,\n",
       " -0.19709645902662715,\n",
       " -0.21753228284400278,\n",
       " -0.3030229075127282,\n",
       " -0.26556141799898786,\n",
       " 0.08586986248549824,\n",
       " 0.011328329703646466,\n",
       " -0.1510090977357389,\n",
       " -0.24347785973398328,\n",
       " -0.19062446668014263,\n",
       " -0.2285897425402044,\n",
       " -0.026655432873828027,\n",
       " -0.2958467675570178,\n",
       " -0.20911609207947895,\n",
       " -0.22867010546866823,\n",
       " -0.24652660067472246,\n",
       " -0.2311048481282824,\n",
       " -0.15819888036589944,\n",
       " 0.007182735009038156,\n",
       " -0.21689077753545746,\n",
       " -0.1573082325032233,\n",
       " -0.25951149715473515,\n",
       " -0.2504957662447606,\n",
       " -0.07880670125007037,\n",
       " -0.16706821945665443,\n",
       " -0.10476434315243183,\n",
       " -0.20746644066306666,\n",
       " -0.21395851567482493,\n",
       " -0.24025140650820342,\n",
       " -0.15072911911557596,\n",
       " -0.29365245582424204,\n",
       " -0.17330615098781327,\n",
       " -0.23068956279429792,\n",
       " -0.1205425708309549,\n",
       " -0.10264952324929066,\n",
       " 0.010319017158916585,\n",
       " -0.216734810799272,\n",
       " -0.19253087401763833,\n",
       " -0.19657057613276302,\n",
       " -0.21245066948351343,\n",
       " 0.03302362722125415,\n",
       " -0.22691965632842764,\n",
       " -0.24634116339070267,\n",
       " -0.024452332209487,\n",
       " -0.15700040313277028,\n",
       " -0.14755027990176128,\n",
       " -0.24403932835651568,\n",
       " -0.21644692535562,\n",
       " -0.15938252322358762,\n",
       " 0.035817561231483906,\n",
       " -0.23871402376173795,\n",
       " -0.17633397229731146,\n",
       " -0.1780975104448053,\n",
       " -0.22894020709017915,\n",
       " -0.2745491752515646,\n",
       " -0.13909982690564898,\n",
       " -0.19604103446218002,\n",
       " -0.23982603181882936]"
      ]
     },
     "execution_count": 22,
     "metadata": {},
     "output_type": "execute_result"
    }
   ],
   "source": [
    "PMI_model_lda.get_coherence_per_topic()"
   ]
  },
  {
   "attachments": {},
   "cell_type": "markdown",
   "metadata": {},
   "source": [
    "`npmi` 的值域是[-1,1]，-1 代表兩個字沒一起出現過，0 代表兩個字之間獨立，1 代表兩個字完全相關"
   ]
  },
  {
   "attachments": {},
   "cell_type": "markdown",
   "metadata": {},
   "source": [
    "**4.4 透過指標找出最佳主題數**\n",
    "\n",
    "透過建立不同主題數的模型，並以上述所說的**判斷指標**來找出最佳的主題數。<br>\n",
    "這裡以 perplexity 為指標，因為gensim套件的問題，我們將其進行轉換。<br>\n",
    "\n",
    "* 使用 LdaMulticore()` 減少運算時間\n",
    "\n",
    "**再次強調**：主題數及參數沒有一個絕對正確的答案，同學們應該**使用相同的資料**，嘗試做參數上的調整、主題數的調整，進而比較出較佳的模型結果。"
   ]
  },
  {
   "cell_type": "code",
   "execution_count": 23,
   "metadata": {},
   "outputs": [
    {
     "name": "stderr",
     "output_type": "stream",
     "text": [
      "2023-05-08 17:58:15,731 : INFO : using symmetric alpha at 0.5\n",
      "2023-05-08 17:58:15,732 : INFO : using symmetric eta at 0.5\n",
      "2023-05-08 17:58:15,734 : INFO : using serial LDA version on this node\n",
      "2023-05-08 17:58:15,736 : INFO : running online LDA training, 2 topics, 5 passes over the supplied corpus of 4098 documents, updating every 30000 documents, evaluating every ~4098 documents, iterating 50x with a convergence threshold of 0.001000\n",
      "2023-05-08 17:58:15,736 : WARNING : too few updates, training might not converge; consider increasing the number of passes or iterations to improve accuracy\n",
      "2023-05-08 17:58:15,737 : INFO : training LDA model using 15 processes\n",
      "2023-05-08 17:58:28,336 : INFO : PROGRESS: pass 0, dispatched chunk #0 = documents up to #2000/4098, outstanding queue size 1\n",
      "2023-05-08 17:58:28,383 : INFO : PROGRESS: pass 0, dispatched chunk #1 = documents up to #4000/4098, outstanding queue size 2\n",
      "2023-05-08 17:58:28,445 : INFO : PROGRESS: pass 0, dispatched chunk #2 = documents up to #4098/4098, outstanding queue size 3\n",
      "2023-05-08 17:58:29,404 : INFO : topic #0 (0.500): 0.007*\"表示\" + 0.005*\"台灣\" + 0.004*\"網友\" + 0.004*\"美國\" + 0.003*\"烏克蘭\" + 0.003*\"已經\" + 0.003*\"報導\" + 0.003*\"中國\" + 0.003*\"今天\" + 0.003*\"球員\"\n",
      "2023-05-08 17:58:29,405 : INFO : topic #1 (0.500): 0.007*\"表示\" + 0.005*\"台灣\" + 0.004*\"比賽\" + 0.004*\"經典\" + 0.004*\"今天\" + 0.004*\"中華隊\" + 0.003*\"日本\" + 0.003*\"網友\" + 0.003*\"球迷\" + 0.003*\"已經\"\n",
      "2023-05-08 17:58:29,406 : INFO : topic diff=0.892804, rho=1.000000\n",
      "2023-05-08 17:58:29,476 : INFO : -8.202 per-word bound, 294.5 perplexity estimate based on a held-out corpus of 98 documents with 14057 words\n",
      "2023-05-08 17:58:29,477 : INFO : PROGRESS: pass 1, dispatched chunk #0 = documents up to #2000/4098, outstanding queue size 1\n",
      "2023-05-08 17:58:29,523 : INFO : PROGRESS: pass 1, dispatched chunk #1 = documents up to #4000/4098, outstanding queue size 2\n",
      "2023-05-08 17:58:29,579 : INFO : PROGRESS: pass 1, dispatched chunk #2 = documents up to #4098/4098, outstanding queue size 3\n",
      "2023-05-08 17:58:30,513 : INFO : topic #0 (0.500): 0.008*\"表示\" + 0.005*\"網友\" + 0.004*\"台灣\" + 0.004*\"烏克蘭\" + 0.004*\"美國\" + 0.004*\"報導\" + 0.004*\"中國\" + 0.003*\"已經\" + 0.003*\"影片\" + 0.003*\"俄羅斯\"\n",
      "2023-05-08 17:58:30,514 : INFO : topic #1 (0.500): 0.006*\"表示\" + 0.006*\"台灣\" + 0.005*\"比賽\" + 0.005*\"經典\" + 0.005*\"中華隊\" + 0.004*\"球迷\" + 0.004*\"今天\" + 0.004*\"日本\" + 0.004*\"球員\" + 0.003*\"棒球\"\n",
      "2023-05-08 17:58:30,514 : INFO : topic diff=0.200399, rho=0.496965\n",
      "2023-05-08 17:58:30,571 : INFO : -8.067 per-word bound, 268.2 perplexity estimate based on a held-out corpus of 98 documents with 14057 words\n",
      "2023-05-08 17:58:30,572 : INFO : PROGRESS: pass 2, dispatched chunk #0 = documents up to #2000/4098, outstanding queue size 1\n",
      "2023-05-08 17:58:30,619 : INFO : PROGRESS: pass 2, dispatched chunk #1 = documents up to #4000/4098, outstanding queue size 2\n",
      "2023-05-08 17:58:30,675 : INFO : PROGRESS: pass 2, dispatched chunk #2 = documents up to #4098/4098, outstanding queue size 3\n",
      "2023-05-08 17:58:31,446 : INFO : topic #0 (0.500): 0.009*\"表示\" + 0.005*\"網友\" + 0.004*\"烏克蘭\" + 0.004*\"報導\" + 0.004*\"台灣\" + 0.004*\"美國\" + 0.004*\"中國\" + 0.003*\"已經\" + 0.003*\"影片\" + 0.003*\"一名\"\n",
      "2023-05-08 17:58:31,447 : INFO : topic #1 (0.500): 0.006*\"台灣\" + 0.006*\"經典\" + 0.006*\"比賽\" + 0.006*\"中華隊\" + 0.005*\"表示\" + 0.005*\"球迷\" + 0.005*\"球員\" + 0.005*\"今天\" + 0.004*\"日本\" + 0.004*\"棒球\"\n",
      "2023-05-08 17:58:31,448 : INFO : topic diff=0.181826, rho=0.445038\n",
      "2023-05-08 17:58:31,502 : INFO : -7.972 per-word bound, 251.1 perplexity estimate based on a held-out corpus of 98 documents with 14057 words\n",
      "2023-05-08 17:58:31,503 : INFO : PROGRESS: pass 3, dispatched chunk #0 = documents up to #2000/4098, outstanding queue size 1\n",
      "2023-05-08 17:58:31,548 : INFO : PROGRESS: pass 3, dispatched chunk #1 = documents up to #4000/4098, outstanding queue size 2\n",
      "2023-05-08 17:58:31,630 : INFO : PROGRESS: pass 3, dispatched chunk #2 = documents up to #4098/4098, outstanding queue size 3\n",
      "2023-05-08 17:58:32,252 : INFO : topic #0 (0.500): 0.009*\"表示\" + 0.006*\"網友\" + 0.004*\"烏克蘭\" + 0.004*\"報導\" + 0.004*\"台灣\" + 0.004*\"已經\" + 0.003*\"中國\" + 0.003*\"美國\" + 0.003*\"影片\" + 0.003*\"一名\"\n",
      "2023-05-08 17:58:32,253 : INFO : topic #1 (0.500): 0.007*\"經典\" + 0.007*\"比賽\" + 0.007*\"台灣\" + 0.006*\"中華隊\" + 0.006*\"球迷\" + 0.006*\"球員\" + 0.005*\"表示\" + 0.005*\"今天\" + 0.004*\"日本\" + 0.004*\"棒球\"\n",
      "2023-05-08 17:58:32,254 : INFO : topic diff=0.140563, rho=0.406591\n",
      "2023-05-08 17:58:32,307 : INFO : -7.918 per-word bound, 241.9 perplexity estimate based on a held-out corpus of 98 documents with 14057 words\n",
      "2023-05-08 17:58:32,308 : INFO : PROGRESS: pass 4, dispatched chunk #0 = documents up to #2000/4098, outstanding queue size 1\n",
      "2023-05-08 17:58:32,354 : INFO : PROGRESS: pass 4, dispatched chunk #1 = documents up to #4000/4098, outstanding queue size 2\n",
      "2023-05-08 17:58:32,409 : INFO : PROGRESS: pass 4, dispatched chunk #2 = documents up to #4098/4098, outstanding queue size 3\n",
      "2023-05-08 17:58:32,968 : INFO : topic #0 (0.500): 0.009*\"表示\" + 0.006*\"網友\" + 0.004*\"報導\" + 0.004*\"烏克蘭\" + 0.004*\"台灣\" + 0.004*\"已經\" + 0.003*\"影片\" + 0.003*\"中國\" + 0.003*\"美國\" + 0.003*\"一名\"\n",
      "2023-05-08 17:58:32,969 : INFO : topic #1 (0.500): 0.007*\"經典\" + 0.007*\"比賽\" + 0.007*\"台灣\" + 0.007*\"中華隊\" + 0.006*\"球迷\" + 0.006*\"球員\" + 0.005*\"今天\" + 0.005*\"棒球\" + 0.005*\"表示\" + 0.005*\"日本\"\n",
      "2023-05-08 17:58:32,969 : INFO : topic diff=0.113985, rho=0.376649\n",
      "2023-05-08 17:58:33,023 : INFO : -7.887 per-word bound, 236.7 perplexity estimate based on a held-out corpus of 98 documents with 14057 words\n",
      "2023-05-08 17:58:33,044 : INFO : LdaMulticore lifecycle event {'msg': 'trained LdaMulticore<num_terms=8129, num_topics=2, decay=0.5, chunksize=2000> in 17.31s', 'datetime': '2023-05-08T17:58:33.044842', 'gensim': '4.3.1', 'python': '3.9.7 (default, Sep 16 2021, 16:59:28) [MSC v.1916 64 bit (AMD64)]', 'platform': 'Windows-10-10.0.19045-SP0', 'event': 'created'}\n",
      "2023-05-08 17:58:35,146 : INFO : -7.999 per-word bound, 255.8 perplexity estimate based on a held-out corpus of 4098 documents with 577682 words\n",
      "2023-05-08 17:58:35,148 : INFO : using ParallelWordOccurrenceAccumulator<processes=15, batch_size=64> to estimate probabilities from sliding windows\n",
      "2023-05-08 17:58:46,780 : INFO : 1 batches submitted to accumulate stats from 64 documents (10718 virtual)\n",
      "2023-05-08 17:58:46,782 : INFO : 2 batches submitted to accumulate stats from 128 documents (21505 virtual)\n",
      "2023-05-08 17:58:46,785 : INFO : 3 batches submitted to accumulate stats from 192 documents (32741 virtual)\n",
      "2023-05-08 17:58:46,787 : INFO : 4 batches submitted to accumulate stats from 256 documents (44358 virtual)\n",
      "2023-05-08 17:58:46,790 : INFO : 5 batches submitted to accumulate stats from 320 documents (55805 virtual)\n",
      "2023-05-08 17:58:46,792 : INFO : 6 batches submitted to accumulate stats from 384 documents (66954 virtual)\n",
      "2023-05-08 17:58:46,795 : INFO : 7 batches submitted to accumulate stats from 448 documents (78327 virtual)\n",
      "2023-05-08 17:58:46,799 : INFO : 8 batches submitted to accumulate stats from 512 documents (91007 virtual)\n",
      "2023-05-08 17:58:46,801 : INFO : 9 batches submitted to accumulate stats from 576 documents (101868 virtual)\n",
      "2023-05-08 17:58:46,803 : INFO : 10 batches submitted to accumulate stats from 640 documents (112821 virtual)\n",
      "2023-05-08 17:58:46,807 : INFO : 11 batches submitted to accumulate stats from 704 documents (123495 virtual)\n",
      "2023-05-08 17:58:46,810 : INFO : 12 batches submitted to accumulate stats from 768 documents (137024 virtual)\n",
      "2023-05-08 17:58:46,813 : INFO : 13 batches submitted to accumulate stats from 832 documents (148921 virtual)\n",
      "2023-05-08 17:58:46,819 : INFO : 14 batches submitted to accumulate stats from 896 documents (159693 virtual)\n",
      "2023-05-08 17:58:46,823 : INFO : 15 batches submitted to accumulate stats from 960 documents (172102 virtual)\n",
      "2023-05-08 17:58:46,833 : INFO : 16 batches submitted to accumulate stats from 1024 documents (183015 virtual)\n",
      "2023-05-08 17:58:46,850 : INFO : 17 batches submitted to accumulate stats from 1088 documents (194950 virtual)\n",
      "2023-05-08 17:58:46,860 : INFO : 18 batches submitted to accumulate stats from 1152 documents (206441 virtual)\n",
      "2023-05-08 17:58:46,879 : INFO : 19 batches submitted to accumulate stats from 1216 documents (217506 virtual)\n",
      "2023-05-08 17:58:46,883 : INFO : 20 batches submitted to accumulate stats from 1280 documents (228826 virtual)\n",
      "2023-05-08 17:58:46,889 : INFO : 21 batches submitted to accumulate stats from 1344 documents (239700 virtual)\n",
      "2023-05-08 17:58:46,892 : INFO : 22 batches submitted to accumulate stats from 1408 documents (250458 virtual)\n",
      "2023-05-08 17:58:46,896 : INFO : 23 batches submitted to accumulate stats from 1472 documents (259728 virtual)\n",
      "2023-05-08 17:58:46,904 : INFO : 24 batches submitted to accumulate stats from 1536 documents (271031 virtual)\n",
      "2023-05-08 17:58:46,909 : INFO : 25 batches submitted to accumulate stats from 1600 documents (280918 virtual)\n",
      "2023-05-08 17:58:46,913 : INFO : 26 batches submitted to accumulate stats from 1664 documents (290991 virtual)\n",
      "2023-05-08 17:58:46,916 : INFO : 27 batches submitted to accumulate stats from 1728 documents (301131 virtual)\n",
      "2023-05-08 17:58:46,921 : INFO : 28 batches submitted to accumulate stats from 1792 documents (313273 virtual)\n",
      "2023-05-08 17:58:46,928 : INFO : 29 batches submitted to accumulate stats from 1856 documents (324385 virtual)\n",
      "2023-05-08 17:58:46,936 : INFO : 30 batches submitted to accumulate stats from 1920 documents (334696 virtual)\n",
      "2023-05-08 17:58:46,954 : INFO : 31 batches submitted to accumulate stats from 1984 documents (347175 virtual)\n",
      "2023-05-08 17:58:46,957 : INFO : 32 batches submitted to accumulate stats from 2048 documents (356924 virtual)\n",
      "2023-05-08 17:58:46,981 : INFO : 33 batches submitted to accumulate stats from 2112 documents (366809 virtual)\n",
      "2023-05-08 17:58:46,985 : INFO : 34 batches submitted to accumulate stats from 2176 documents (377673 virtual)\n",
      "2023-05-08 17:58:46,989 : INFO : 35 batches submitted to accumulate stats from 2240 documents (387906 virtual)\n",
      "2023-05-08 17:58:46,993 : INFO : 36 batches submitted to accumulate stats from 2304 documents (398442 virtual)\n",
      "2023-05-08 17:58:46,997 : INFO : 37 batches submitted to accumulate stats from 2368 documents (408144 virtual)\n",
      "2023-05-08 17:58:47,000 : INFO : 38 batches submitted to accumulate stats from 2432 documents (418470 virtual)\n",
      "2023-05-08 17:58:47,004 : INFO : 39 batches submitted to accumulate stats from 2496 documents (428774 virtual)\n",
      "2023-05-08 17:58:47,008 : INFO : 40 batches submitted to accumulate stats from 2560 documents (439666 virtual)\n",
      "2023-05-08 17:58:47,013 : INFO : 41 batches submitted to accumulate stats from 2624 documents (450129 virtual)\n",
      "2023-05-08 17:58:47,017 : INFO : 42 batches submitted to accumulate stats from 2688 documents (461670 virtual)\n",
      "2023-05-08 17:58:47,025 : INFO : 43 batches submitted to accumulate stats from 2752 documents (472222 virtual)\n",
      "2023-05-08 17:58:47,029 : INFO : 44 batches submitted to accumulate stats from 2816 documents (481646 virtual)\n",
      "2023-05-08 17:58:47,033 : INFO : 45 batches submitted to accumulate stats from 2880 documents (491584 virtual)\n",
      "2023-05-08 17:58:47,042 : INFO : 46 batches submitted to accumulate stats from 2944 documents (500417 virtual)\n",
      "2023-05-08 17:58:47,065 : INFO : 47 batches submitted to accumulate stats from 3008 documents (509661 virtual)\n",
      "2023-05-08 17:58:47,070 : INFO : 48 batches submitted to accumulate stats from 3072 documents (520733 virtual)\n",
      "2023-05-08 17:58:47,075 : INFO : 49 batches submitted to accumulate stats from 3136 documents (535560 virtual)\n",
      "2023-05-08 17:58:47,080 : INFO : 50 batches submitted to accumulate stats from 3200 documents (546600 virtual)\n",
      "2023-05-08 17:58:47,085 : INFO : 51 batches submitted to accumulate stats from 3264 documents (557867 virtual)\n",
      "2023-05-08 17:58:47,111 : INFO : 52 batches submitted to accumulate stats from 3328 documents (569015 virtual)\n",
      "2023-05-08 17:58:47,125 : INFO : 53 batches submitted to accumulate stats from 3392 documents (580580 virtual)\n",
      "2023-05-08 17:58:47,138 : INFO : 54 batches submitted to accumulate stats from 3456 documents (592560 virtual)\n",
      "2023-05-08 17:58:47,157 : INFO : 55 batches submitted to accumulate stats from 3520 documents (605258 virtual)\n",
      "2023-05-08 17:58:47,162 : INFO : 56 batches submitted to accumulate stats from 3584 documents (617317 virtual)\n",
      "2023-05-08 17:58:47,178 : INFO : 57 batches submitted to accumulate stats from 3648 documents (628626 virtual)\n",
      "2023-05-08 17:58:47,182 : INFO : 58 batches submitted to accumulate stats from 3712 documents (639927 virtual)\n",
      "2023-05-08 17:58:47,189 : INFO : 59 batches submitted to accumulate stats from 3776 documents (650253 virtual)\n",
      "2023-05-08 17:58:47,205 : INFO : 60 batches submitted to accumulate stats from 3840 documents (661228 virtual)\n",
      "2023-05-08 17:58:47,235 : INFO : 61 batches submitted to accumulate stats from 3904 documents (671658 virtual)\n",
      "2023-05-08 17:58:47,241 : INFO : 62 batches submitted to accumulate stats from 3968 documents (682084 virtual)\n",
      "2023-05-08 17:58:47,247 : INFO : 63 batches submitted to accumulate stats from 4032 documents (693635 virtual)\n",
      "2023-05-08 17:58:47,253 : INFO : 64 batches submitted to accumulate stats from 4096 documents (703990 virtual)\n",
      "2023-05-08 17:58:47,278 : INFO : 65 batches submitted to accumulate stats from 4160 documents (704223 virtual)\n",
      "2023-05-08 17:58:47,639 : INFO : 15 accumulators retrieved from output queue\n",
      "2023-05-08 17:58:47,656 : INFO : accumulated word occurrence stats for 704291 virtual documents\n",
      "2023-05-08 17:58:47,718 : INFO : using symmetric alpha at 0.3333333333333333\n",
      "2023-05-08 17:58:47,718 : INFO : using symmetric eta at 0.3333333333333333\n",
      "2023-05-08 17:58:47,720 : INFO : using serial LDA version on this node\n",
      "2023-05-08 17:58:47,722 : INFO : running online LDA training, 3 topics, 5 passes over the supplied corpus of 4098 documents, updating every 30000 documents, evaluating every ~4098 documents, iterating 50x with a convergence threshold of 0.001000\n",
      "2023-05-08 17:58:47,722 : WARNING : too few updates, training might not converge; consider increasing the number of passes or iterations to improve accuracy\n",
      "2023-05-08 17:58:47,723 : INFO : training LDA model using 15 processes\n",
      "2023-05-08 17:59:00,129 : INFO : PROGRESS: pass 0, dispatched chunk #0 = documents up to #2000/4098, outstanding queue size 1\n",
      "2023-05-08 17:59:00,184 : INFO : PROGRESS: pass 0, dispatched chunk #1 = documents up to #4000/4098, outstanding queue size 2\n",
      "2023-05-08 17:59:00,254 : INFO : PROGRESS: pass 0, dispatched chunk #2 = documents up to #4098/4098, outstanding queue size 3\n",
      "2023-05-08 17:59:01,251 : INFO : topic #0 (0.333): 0.007*\"表示\" + 0.004*\"台灣\" + 0.004*\"烏克蘭\" + 0.004*\"網友\" + 0.004*\"中國\" + 0.003*\"美國\" + 0.003*\"已經\" + 0.003*\"報導\" + 0.003*\"球員\" + 0.003*\"影片\"\n",
      "2023-05-08 17:59:01,252 : INFO : topic #1 (0.333): 0.006*\"表示\" + 0.005*\"台灣\" + 0.004*\"經典\" + 0.004*\"比賽\" + 0.004*\"今天\" + 0.003*\"中華隊\" + 0.003*\"日本\" + 0.003*\"球迷\" + 0.003*\"已經\" + 0.003*\"球員\"\n",
      "2023-05-08 17:59:01,252 : INFO : topic #2 (0.333): 0.008*\"表示\" + 0.005*\"台灣\" + 0.005*\"網友\" + 0.004*\"美國\" + 0.004*\"今天\" + 0.003*\"中華隊\" + 0.003*\"比賽\" + 0.003*\"日本\" + 0.003*\"已經\" + 0.003*\"報導\"\n",
      "2023-05-08 17:59:01,253 : INFO : topic diff=0.898521, rho=1.000000\n",
      "2023-05-08 17:59:01,324 : INFO : -8.220 per-word bound, 298.1 perplexity estimate based on a held-out corpus of 98 documents with 14057 words\n",
      "2023-05-08 17:59:01,325 : INFO : PROGRESS: pass 1, dispatched chunk #0 = documents up to #2000/4098, outstanding queue size 1\n",
      "2023-05-08 17:59:01,381 : INFO : PROGRESS: pass 1, dispatched chunk #1 = documents up to #4000/4098, outstanding queue size 2\n",
      "2023-05-08 17:59:01,453 : INFO : PROGRESS: pass 1, dispatched chunk #2 = documents up to #4098/4098, outstanding queue size 3\n",
      "2023-05-08 17:59:02,415 : INFO : topic #0 (0.333): 0.008*\"表示\" + 0.006*\"烏克蘭\" + 0.005*\"中國\" + 0.004*\"台灣\" + 0.004*\"俄羅斯\" + 0.004*\"美國\" + 0.004*\"報導\" + 0.004*\"網友\" + 0.003*\"已經\" + 0.003*\"影片\"\n",
      "2023-05-08 17:59:02,416 : INFO : topic #1 (0.333): 0.006*\"經典\" + 0.006*\"台灣\" + 0.006*\"比賽\" + 0.005*\"表示\" + 0.005*\"中華隊\" + 0.005*\"球迷\" + 0.005*\"球員\" + 0.004*\"今天\" + 0.004*\"日本\" + 0.004*\"棒球\"\n",
      "2023-05-08 17:59:02,417 : INFO : topic #2 (0.333): 0.009*\"表示\" + 0.006*\"網友\" + 0.004*\"台灣\" + 0.003*\"已經\" + 0.003*\"發生\" + 0.003*\"日本\" + 0.003*\"報導\" + 0.003*\"粉絲\" + 0.003*\"孩子\" + 0.003*\"相當\"\n",
      "2023-05-08 17:59:02,417 : INFO : topic diff=0.257788, rho=0.496965\n",
      "2023-05-08 17:59:02,473 : INFO : -8.027 per-word bound, 260.8 perplexity estimate based on a held-out corpus of 98 documents with 14057 words\n",
      "2023-05-08 17:59:02,474 : INFO : PROGRESS: pass 2, dispatched chunk #0 = documents up to #2000/4098, outstanding queue size 1\n",
      "2023-05-08 17:59:02,535 : INFO : PROGRESS: pass 2, dispatched chunk #1 = documents up to #4000/4098, outstanding queue size 2\n",
      "2023-05-08 17:59:02,612 : INFO : PROGRESS: pass 2, dispatched chunk #2 = documents up to #4098/4098, outstanding queue size 3\n",
      "2023-05-08 17:59:03,394 : INFO : topic #0 (0.333): 0.008*\"表示\" + 0.007*\"烏克蘭\" + 0.005*\"中國\" + 0.005*\"俄羅斯\" + 0.005*\"美國\" + 0.005*\"台灣\" + 0.005*\"報導\" + 0.003*\"已經\" + 0.003*\"指出\" + 0.003*\"大陸\"\n",
      "2023-05-08 17:59:03,395 : INFO : topic #1 (0.333): 0.007*\"經典\" + 0.007*\"比賽\" + 0.007*\"台灣\" + 0.007*\"中華隊\" + 0.006*\"球迷\" + 0.006*\"球員\" + 0.005*\"今天\" + 0.005*\"棒球\" + 0.005*\"表示\" + 0.004*\"日本\"\n",
      "2023-05-08 17:59:03,396 : INFO : topic #2 (0.333): 0.009*\"表示\" + 0.007*\"網友\" + 0.004*\"粉絲\" + 0.003*\"已經\" + 0.003*\"台灣\" + 0.003*\"影片\" + 0.003*\"兩人\" + 0.003*\"孩子\" + 0.003*\"發生\" + 0.003*\"相當\"\n",
      "2023-05-08 17:59:03,397 : INFO : topic diff=0.234671, rho=0.445038\n",
      "2023-05-08 17:59:03,457 : INFO : -7.936 per-word bound, 244.9 perplexity estimate based on a held-out corpus of 98 documents with 14057 words\n",
      "2023-05-08 17:59:03,459 : INFO : PROGRESS: pass 3, dispatched chunk #0 = documents up to #2000/4098, outstanding queue size 1\n",
      "2023-05-08 17:59:03,521 : INFO : PROGRESS: pass 3, dispatched chunk #1 = documents up to #4000/4098, outstanding queue size 2\n",
      "2023-05-08 17:59:03,604 : INFO : PROGRESS: pass 3, dispatched chunk #2 = documents up to #4098/4098, outstanding queue size 3\n",
      "2023-05-08 17:59:04,306 : INFO : topic #0 (0.333): 0.009*\"表示\" + 0.008*\"烏克蘭\" + 0.006*\"俄羅斯\" + 0.006*\"中國\" + 0.006*\"美國\" + 0.005*\"報導\" + 0.005*\"台灣\" + 0.004*\"指出\" + 0.003*\"大陸\" + 0.003*\"目前\"\n",
      "2023-05-08 17:59:04,307 : INFO : topic #1 (0.333): 0.008*\"經典\" + 0.008*\"比賽\" + 0.007*\"中華隊\" + 0.007*\"台灣\" + 0.007*\"球迷\" + 0.007*\"球員\" + 0.005*\"今天\" + 0.005*\"棒球\" + 0.005*\"世界\" + 0.005*\"日本\"\n",
      "2023-05-08 17:59:04,307 : INFO : topic #2 (0.333): 0.009*\"表示\" + 0.007*\"網友\" + 0.004*\"粉絲\" + 0.004*\"影片\" + 0.004*\"兩人\" + 0.003*\"已經\" + 0.003*\"孩子\" + 0.003*\"透露\" + 0.003*\"相當\" + 0.003*\"真的\"\n",
      "2023-05-08 17:59:04,308 : INFO : topic diff=0.190786, rho=0.406591\n",
      "2023-05-08 17:59:04,363 : INFO : -7.894 per-word bound, 237.8 perplexity estimate based on a held-out corpus of 98 documents with 14057 words\n",
      "2023-05-08 17:59:04,364 : INFO : PROGRESS: pass 4, dispatched chunk #0 = documents up to #2000/4098, outstanding queue size 1\n",
      "2023-05-08 17:59:04,426 : INFO : PROGRESS: pass 4, dispatched chunk #1 = documents up to #4000/4098, outstanding queue size 2\n",
      "2023-05-08 17:59:04,501 : INFO : PROGRESS: pass 4, dispatched chunk #2 = documents up to #4098/4098, outstanding queue size 3\n",
      "2023-05-08 17:59:05,146 : INFO : topic #0 (0.333): 0.009*\"表示\" + 0.008*\"烏克蘭\" + 0.006*\"俄羅斯\" + 0.006*\"中國\" + 0.006*\"美國\" + 0.006*\"報導\" + 0.005*\"台灣\" + 0.004*\"指出\" + 0.004*\"目前\" + 0.004*\"大陸\"\n",
      "2023-05-08 17:59:05,147 : INFO : topic #1 (0.333): 0.008*\"經典\" + 0.008*\"比賽\" + 0.008*\"中華隊\" + 0.007*\"球迷\" + 0.007*\"台灣\" + 0.007*\"球員\" + 0.006*\"棒球\" + 0.005*\"今天\" + 0.005*\"世界\" + 0.005*\"日本\"\n",
      "2023-05-08 17:59:05,148 : INFO : topic #2 (0.333): 0.009*\"表示\" + 0.008*\"網友\" + 0.004*\"粉絲\" + 0.004*\"影片\" + 0.004*\"兩人\" + 0.004*\"已經\" + 0.003*\"孩子\" + 0.003*\"透露\" + 0.003*\"相當\" + 0.003*\"真的\"\n",
      "2023-05-08 17:59:05,148 : INFO : topic diff=0.160899, rho=0.376649\n",
      "2023-05-08 17:59:05,202 : INFO : -7.871 per-word bound, 234.1 perplexity estimate based on a held-out corpus of 98 documents with 14057 words\n",
      "2023-05-08 17:59:05,233 : INFO : LdaMulticore lifecycle event {'msg': 'trained LdaMulticore<num_terms=8129, num_topics=3, decay=0.5, chunksize=2000> in 17.51s', 'datetime': '2023-05-08T17:59:05.233879', 'gensim': '4.3.1', 'python': '3.9.7 (default, Sep 16 2021, 16:59:28) [MSC v.1916 64 bit (AMD64)]', 'platform': 'Windows-10-10.0.19045-SP0', 'event': 'created'}\n",
      "2023-05-08 17:59:07,510 : INFO : -7.923 per-word bound, 242.7 perplexity estimate based on a held-out corpus of 4098 documents with 577682 words\n",
      "2023-05-08 17:59:07,512 : INFO : using ParallelWordOccurrenceAccumulator<processes=15, batch_size=64> to estimate probabilities from sliding windows\n",
      "2023-05-08 17:59:20,635 : INFO : 1 batches submitted to accumulate stats from 64 documents (10718 virtual)\n",
      "2023-05-08 17:59:20,637 : INFO : 2 batches submitted to accumulate stats from 128 documents (21505 virtual)\n",
      "2023-05-08 17:59:20,640 : INFO : 3 batches submitted to accumulate stats from 192 documents (32741 virtual)\n",
      "2023-05-08 17:59:20,643 : INFO : 4 batches submitted to accumulate stats from 256 documents (44358 virtual)\n",
      "2023-05-08 17:59:20,646 : INFO : 5 batches submitted to accumulate stats from 320 documents (55805 virtual)\n",
      "2023-05-08 17:59:20,651 : INFO : 6 batches submitted to accumulate stats from 384 documents (66954 virtual)\n",
      "2023-05-08 17:59:20,656 : INFO : 7 batches submitted to accumulate stats from 448 documents (78327 virtual)\n",
      "2023-05-08 17:59:20,662 : INFO : 8 batches submitted to accumulate stats from 512 documents (91007 virtual)\n",
      "2023-05-08 17:59:20,668 : INFO : 9 batches submitted to accumulate stats from 576 documents (101868 virtual)\n",
      "2023-05-08 17:59:20,673 : INFO : 10 batches submitted to accumulate stats from 640 documents (112821 virtual)\n",
      "2023-05-08 17:59:20,691 : INFO : 11 batches submitted to accumulate stats from 704 documents (123495 virtual)\n",
      "2023-05-08 17:59:20,700 : INFO : 12 batches submitted to accumulate stats from 768 documents (137024 virtual)\n",
      "2023-05-08 17:59:20,705 : INFO : 13 batches submitted to accumulate stats from 832 documents (148921 virtual)\n",
      "2023-05-08 17:59:20,713 : INFO : 14 batches submitted to accumulate stats from 896 documents (159693 virtual)\n",
      "2023-05-08 17:59:20,717 : INFO : 15 batches submitted to accumulate stats from 960 documents (172102 virtual)\n",
      "2023-05-08 17:59:20,734 : INFO : 16 batches submitted to accumulate stats from 1024 documents (183015 virtual)\n",
      "2023-05-08 17:59:20,758 : INFO : 17 batches submitted to accumulate stats from 1088 documents (194950 virtual)\n",
      "2023-05-08 17:59:20,787 : INFO : 18 batches submitted to accumulate stats from 1152 documents (206441 virtual)\n",
      "2023-05-08 17:59:20,799 : INFO : 19 batches submitted to accumulate stats from 1216 documents (217506 virtual)\n",
      "2023-05-08 17:59:20,806 : INFO : 20 batches submitted to accumulate stats from 1280 documents (228826 virtual)\n",
      "2023-05-08 17:59:20,816 : INFO : 21 batches submitted to accumulate stats from 1344 documents (239700 virtual)\n",
      "2023-05-08 17:59:20,823 : INFO : 22 batches submitted to accumulate stats from 1408 documents (250458 virtual)\n",
      "2023-05-08 17:59:20,830 : INFO : 23 batches submitted to accumulate stats from 1472 documents (259728 virtual)\n",
      "2023-05-08 17:59:20,841 : INFO : 24 batches submitted to accumulate stats from 1536 documents (271031 virtual)\n",
      "2023-05-08 17:59:20,856 : INFO : 25 batches submitted to accumulate stats from 1600 documents (280918 virtual)\n",
      "2023-05-08 17:59:20,862 : INFO : 26 batches submitted to accumulate stats from 1664 documents (290991 virtual)\n",
      "2023-05-08 17:59:20,867 : INFO : 27 batches submitted to accumulate stats from 1728 documents (301131 virtual)\n",
      "2023-05-08 17:59:20,882 : INFO : 28 batches submitted to accumulate stats from 1792 documents (313273 virtual)\n",
      "2023-05-08 17:59:20,887 : INFO : 29 batches submitted to accumulate stats from 1856 documents (324385 virtual)\n",
      "2023-05-08 17:59:20,892 : INFO : 30 batches submitted to accumulate stats from 1920 documents (334696 virtual)\n",
      "2023-05-08 17:59:20,897 : INFO : 31 batches submitted to accumulate stats from 1984 documents (347175 virtual)\n",
      "2023-05-08 17:59:20,902 : INFO : 32 batches submitted to accumulate stats from 2048 documents (356924 virtual)\n",
      "2023-05-08 17:59:20,910 : INFO : 33 batches submitted to accumulate stats from 2112 documents (366809 virtual)\n",
      "2023-05-08 17:59:20,915 : INFO : 34 batches submitted to accumulate stats from 2176 documents (377673 virtual)\n",
      "2023-05-08 17:59:20,921 : INFO : 35 batches submitted to accumulate stats from 2240 documents (387906 virtual)\n",
      "2023-05-08 17:59:20,927 : INFO : 36 batches submitted to accumulate stats from 2304 documents (398442 virtual)\n",
      "2023-05-08 17:59:20,940 : INFO : 37 batches submitted to accumulate stats from 2368 documents (408144 virtual)\n",
      "2023-05-08 17:59:20,946 : INFO : 38 batches submitted to accumulate stats from 2432 documents (418470 virtual)\n",
      "2023-05-08 17:59:20,951 : INFO : 39 batches submitted to accumulate stats from 2496 documents (428774 virtual)\n",
      "2023-05-08 17:59:20,955 : INFO : 40 batches submitted to accumulate stats from 2560 documents (439666 virtual)\n",
      "2023-05-08 17:59:20,959 : INFO : 41 batches submitted to accumulate stats from 2624 documents (450129 virtual)\n",
      "2023-05-08 17:59:20,964 : INFO : 42 batches submitted to accumulate stats from 2688 documents (461670 virtual)\n",
      "2023-05-08 17:59:20,970 : INFO : 43 batches submitted to accumulate stats from 2752 documents (472222 virtual)\n",
      "2023-05-08 17:59:20,975 : INFO : 44 batches submitted to accumulate stats from 2816 documents (481646 virtual)\n",
      "2023-05-08 17:59:20,980 : INFO : 45 batches submitted to accumulate stats from 2880 documents (491584 virtual)\n",
      "2023-05-08 17:59:20,983 : INFO : 46 batches submitted to accumulate stats from 2944 documents (500417 virtual)\n",
      "2023-05-08 17:59:21,026 : INFO : 47 batches submitted to accumulate stats from 3008 documents (509661 virtual)\n",
      "2023-05-08 17:59:21,030 : INFO : 48 batches submitted to accumulate stats from 3072 documents (520733 virtual)\n",
      "2023-05-08 17:59:21,037 : INFO : 49 batches submitted to accumulate stats from 3136 documents (535560 virtual)\n",
      "2023-05-08 17:59:21,041 : INFO : 50 batches submitted to accumulate stats from 3200 documents (546600 virtual)\n",
      "2023-05-08 17:59:21,047 : INFO : 51 batches submitted to accumulate stats from 3264 documents (557867 virtual)\n",
      "2023-05-08 17:59:21,051 : INFO : 52 batches submitted to accumulate stats from 3328 documents (569015 virtual)\n",
      "2023-05-08 17:59:21,055 : INFO : 53 batches submitted to accumulate stats from 3392 documents (580580 virtual)\n",
      "2023-05-08 17:59:21,059 : INFO : 54 batches submitted to accumulate stats from 3456 documents (592560 virtual)\n",
      "2023-05-08 17:59:21,091 : INFO : 55 batches submitted to accumulate stats from 3520 documents (605258 virtual)\n",
      "2023-05-08 17:59:21,096 : INFO : 56 batches submitted to accumulate stats from 3584 documents (617317 virtual)\n",
      "2023-05-08 17:59:21,101 : INFO : 57 batches submitted to accumulate stats from 3648 documents (628626 virtual)\n",
      "2023-05-08 17:59:21,107 : INFO : 58 batches submitted to accumulate stats from 3712 documents (639927 virtual)\n",
      "2023-05-08 17:59:21,115 : INFO : 59 batches submitted to accumulate stats from 3776 documents (650253 virtual)\n",
      "2023-05-08 17:59:21,130 : INFO : 60 batches submitted to accumulate stats from 3840 documents (661228 virtual)\n",
      "2023-05-08 17:59:21,134 : INFO : 61 batches submitted to accumulate stats from 3904 documents (671658 virtual)\n",
      "2023-05-08 17:59:21,139 : INFO : 62 batches submitted to accumulate stats from 3968 documents (682084 virtual)\n",
      "2023-05-08 17:59:21,144 : INFO : 63 batches submitted to accumulate stats from 4032 documents (693635 virtual)\n",
      "2023-05-08 17:59:21,169 : INFO : 64 batches submitted to accumulate stats from 4096 documents (703990 virtual)\n",
      "2023-05-08 17:59:21,171 : INFO : 65 batches submitted to accumulate stats from 4160 documents (704223 virtual)\n",
      "2023-05-08 17:59:21,635 : INFO : 15 accumulators retrieved from output queue\n",
      "2023-05-08 17:59:21,656 : INFO : accumulated word occurrence stats for 704291 virtual documents\n",
      "2023-05-08 17:59:21,741 : INFO : using symmetric alpha at 0.25\n",
      "2023-05-08 17:59:21,742 : INFO : using symmetric eta at 0.25\n",
      "2023-05-08 17:59:21,744 : INFO : using serial LDA version on this node\n",
      "2023-05-08 17:59:21,747 : INFO : running online LDA training, 4 topics, 5 passes over the supplied corpus of 4098 documents, updating every 30000 documents, evaluating every ~4098 documents, iterating 50x with a convergence threshold of 0.001000\n",
      "2023-05-08 17:59:21,748 : WARNING : too few updates, training might not converge; consider increasing the number of passes or iterations to improve accuracy\n",
      "2023-05-08 17:59:21,750 : INFO : training LDA model using 15 processes\n",
      "2023-05-08 17:59:34,254 : INFO : PROGRESS: pass 0, dispatched chunk #0 = documents up to #2000/4098, outstanding queue size 1\n",
      "2023-05-08 17:59:34,304 : INFO : PROGRESS: pass 0, dispatched chunk #1 = documents up to #4000/4098, outstanding queue size 2\n",
      "2023-05-08 17:59:34,367 : INFO : PROGRESS: pass 0, dispatched chunk #2 = documents up to #4098/4098, outstanding queue size 3\n",
      "2023-05-08 17:59:35,387 : INFO : topic #0 (0.250): 0.007*\"表示\" + 0.005*\"烏克蘭\" + 0.004*\"台灣\" + 0.004*\"網友\" + 0.004*\"中國\" + 0.003*\"球員\" + 0.003*\"美國\" + 0.003*\"報導\" + 0.003*\"已經\" + 0.003*\"俄羅斯\"\n",
      "2023-05-08 17:59:35,388 : INFO : topic #1 (0.250): 0.006*\"表示\" + 0.005*\"台灣\" + 0.005*\"經典\" + 0.004*\"比賽\" + 0.003*\"今天\" + 0.003*\"日本\" + 0.003*\"球員\" + 0.003*\"球迷\" + 0.003*\"中華隊\" + 0.003*\"已經\"\n",
      "2023-05-08 17:59:35,388 : INFO : topic #2 (0.250): 0.008*\"表示\" + 0.005*\"台灣\" + 0.005*\"網友\" + 0.004*\"日本\" + 0.003*\"美國\" + 0.003*\"中華隊\" + 0.003*\"已經\" + 0.003*\"今天\" + 0.003*\"比賽\" + 0.003*\"報導\"\n",
      "2023-05-08 17:59:35,389 : INFO : topic #3 (0.250): 0.007*\"表示\" + 0.005*\"台灣\" + 0.005*\"網友\" + 0.004*\"今天\" + 0.004*\"比賽\" + 0.004*\"美國\" + 0.003*\"中華隊\" + 0.003*\"球迷\" + 0.003*\"最後\" + 0.003*\"中國\"\n",
      "2023-05-08 17:59:35,390 : INFO : topic diff=0.916175, rho=1.000000\n",
      "2023-05-08 17:59:35,483 : INFO : -8.247 per-word bound, 303.9 perplexity estimate based on a held-out corpus of 98 documents with 14057 words\n",
      "2023-05-08 17:59:35,484 : INFO : PROGRESS: pass 1, dispatched chunk #0 = documents up to #2000/4098, outstanding queue size 1\n",
      "2023-05-08 17:59:35,540 : INFO : PROGRESS: pass 1, dispatched chunk #1 = documents up to #4000/4098, outstanding queue size 2\n",
      "2023-05-08 17:59:35,606 : INFO : PROGRESS: pass 1, dispatched chunk #2 = documents up to #4098/4098, outstanding queue size 3\n",
      "2023-05-08 17:59:36,542 : INFO : topic #0 (0.250): 0.008*\"表示\" + 0.007*\"烏克蘭\" + 0.005*\"俄羅斯\" + 0.005*\"中國\" + 0.004*\"報導\" + 0.004*\"美國\" + 0.004*\"台灣\" + 0.004*\"網友\" + 0.003*\"已經\" + 0.003*\"影片\"\n",
      "2023-05-08 17:59:36,543 : INFO : topic #1 (0.250): 0.007*\"經典\" + 0.006*\"台灣\" + 0.006*\"比賽\" + 0.006*\"中華隊\" + 0.005*\"球員\" + 0.005*\"球迷\" + 0.005*\"表示\" + 0.005*\"棒球\" + 0.004*\"日本\" + 0.004*\"今天\"\n",
      "2023-05-08 17:59:36,544 : INFO : topic #2 (0.250): 0.009*\"表示\" + 0.006*\"網友\" + 0.004*\"台灣\" + 0.004*\"發生\" + 0.003*\"已經\" + 0.003*\"粉絲\" + 0.003*\"日本\" + 0.003*\"報導\" + 0.003*\"孩子\" + 0.003*\"相當\"\n",
      "2023-05-08 17:59:36,545 : INFO : topic #3 (0.250): 0.007*\"表示\" + 0.006*\"台灣\" + 0.005*\"今天\" + 0.004*\"網友\" + 0.004*\"比賽\" + 0.004*\"美國\" + 0.003*\"中華隊\" + 0.003*\"最後\" + 0.003*\"球迷\" + 0.003*\"中國\"\n",
      "2023-05-08 17:59:36,546 : INFO : topic diff=0.275104, rho=0.496965\n",
      "2023-05-08 17:59:36,616 : INFO : -8.050 per-word bound, 265.1 perplexity estimate based on a held-out corpus of 98 documents with 14057 words\n",
      "2023-05-08 17:59:36,617 : INFO : PROGRESS: pass 2, dispatched chunk #0 = documents up to #2000/4098, outstanding queue size 1\n",
      "2023-05-08 17:59:36,665 : INFO : PROGRESS: pass 2, dispatched chunk #1 = documents up to #4000/4098, outstanding queue size 2\n",
      "2023-05-08 17:59:36,734 : INFO : PROGRESS: pass 2, dispatched chunk #2 = documents up to #4098/4098, outstanding queue size 3\n",
      "2023-05-08 17:59:37,544 : INFO : topic #0 (0.250): 0.008*\"表示\" + 0.008*\"烏克蘭\" + 0.006*\"俄羅斯\" + 0.006*\"中國\" + 0.005*\"美國\" + 0.005*\"報導\" + 0.005*\"台灣\" + 0.003*\"已經\" + 0.003*\"指出\" + 0.003*\"大陸\"\n",
      "2023-05-08 17:59:37,545 : INFO : topic #1 (0.250): 0.009*\"經典\" + 0.008*\"中華隊\" + 0.007*\"比賽\" + 0.007*\"球迷\" + 0.007*\"球員\" + 0.007*\"台灣\" + 0.006*\"棒球\" + 0.005*\"表示\" + 0.005*\"日本\" + 0.004*\"今天\"\n",
      "2023-05-08 17:59:37,546 : INFO : topic #2 (0.250): 0.009*\"表示\" + 0.007*\"網友\" + 0.004*\"粉絲\" + 0.004*\"已經\" + 0.004*\"發生\" + 0.004*\"孩子\" + 0.003*\"影片\" + 0.003*\"兩人\" + 0.003*\"相當\" + 0.003*\"透露\"\n",
      "2023-05-08 17:59:37,546 : INFO : topic #3 (0.250): 0.006*\"台灣\" + 0.006*\"表示\" + 0.005*\"今天\" + 0.004*\"比賽\" + 0.004*\"網友\" + 0.003*\"阿根廷\" + 0.003*\"美國\" + 0.003*\"最後\" + 0.003*\"選手\" + 0.003*\"世界\"\n",
      "2023-05-08 17:59:37,547 : INFO : topic diff=0.254429, rho=0.445038\n",
      "2023-05-08 17:59:37,608 : INFO : -7.924 per-word bound, 242.9 perplexity estimate based on a held-out corpus of 98 documents with 14057 words\n",
      "2023-05-08 17:59:37,609 : INFO : PROGRESS: pass 3, dispatched chunk #0 = documents up to #2000/4098, outstanding queue size 1\n",
      "2023-05-08 17:59:37,666 : INFO : PROGRESS: pass 3, dispatched chunk #1 = documents up to #4000/4098, outstanding queue size 2\n",
      "2023-05-08 17:59:37,731 : INFO : PROGRESS: pass 3, dispatched chunk #2 = documents up to #4098/4098, outstanding queue size 3\n",
      "2023-05-08 17:59:38,464 : INFO : topic #0 (0.250): 0.009*\"烏克蘭\" + 0.009*\"表示\" + 0.007*\"俄羅斯\" + 0.006*\"中國\" + 0.006*\"美國\" + 0.005*\"報導\" + 0.005*\"台灣\" + 0.004*\"指出\" + 0.004*\"大陸\" + 0.003*\"目前\"\n",
      "2023-05-08 17:59:38,465 : INFO : topic #1 (0.250): 0.010*\"經典\" + 0.009*\"中華隊\" + 0.008*\"球迷\" + 0.008*\"比賽\" + 0.008*\"球員\" + 0.007*\"台灣\" + 0.007*\"棒球\" + 0.005*\"日本\" + 0.005*\"世界\" + 0.005*\"今天\"\n",
      "2023-05-08 17:59:38,466 : INFO : topic #2 (0.250): 0.009*\"表示\" + 0.008*\"網友\" + 0.004*\"粉絲\" + 0.004*\"影片\" + 0.004*\"孩子\" + 0.004*\"已經\" + 0.004*\"兩人\" + 0.003*\"透露\" + 0.003*\"相當\" + 0.003*\"發生\"\n",
      "2023-05-08 17:59:38,466 : INFO : topic #3 (0.250): 0.006*\"台灣\" + 0.006*\"今天\" + 0.005*\"比賽\" + 0.005*\"表示\" + 0.004*\"阿根廷\" + 0.004*\"世界盃\" + 0.004*\"選手\" + 0.003*\"世界\" + 0.003*\"分鐘\" + 0.003*\"最後\"\n",
      "2023-05-08 17:59:38,467 : INFO : topic diff=0.219327, rho=0.406591\n",
      "2023-05-08 17:59:38,525 : INFO : -7.853 per-word bound, 231.1 perplexity estimate based on a held-out corpus of 98 documents with 14057 words\n",
      "2023-05-08 17:59:38,526 : INFO : PROGRESS: pass 4, dispatched chunk #0 = documents up to #2000/4098, outstanding queue size 1\n",
      "2023-05-08 17:59:38,579 : INFO : PROGRESS: pass 4, dispatched chunk #1 = documents up to #4000/4098, outstanding queue size 2\n",
      "2023-05-08 17:59:38,636 : INFO : PROGRESS: pass 4, dispatched chunk #2 = documents up to #4098/4098, outstanding queue size 3\n",
      "2023-05-08 17:59:39,330 : INFO : topic #0 (0.250): 0.009*\"烏克蘭\" + 0.009*\"表示\" + 0.007*\"俄羅斯\" + 0.006*\"美國\" + 0.006*\"中國\" + 0.006*\"報導\" + 0.005*\"台灣\" + 0.004*\"指出\" + 0.004*\"大陸\" + 0.004*\"目前\"\n",
      "2023-05-08 17:59:39,331 : INFO : topic #1 (0.250): 0.011*\"經典\" + 0.010*\"中華隊\" + 0.009*\"球迷\" + 0.008*\"球員\" + 0.008*\"比賽\" + 0.007*\"台灣\" + 0.007*\"棒球\" + 0.005*\"日本\" + 0.005*\"聯盟\" + 0.005*\"投手\"\n",
      "2023-05-08 17:59:39,332 : INFO : topic #2 (0.250): 0.009*\"表示\" + 0.008*\"網友\" + 0.004*\"粉絲\" + 0.004*\"影片\" + 0.004*\"孩子\" + 0.004*\"已經\" + 0.004*\"兩人\" + 0.004*\"透露\" + 0.003*\"相當\" + 0.003*\"真的\"\n",
      "2023-05-08 17:59:39,333 : INFO : topic #3 (0.250): 0.007*\"台灣\" + 0.006*\"今天\" + 0.006*\"比賽\" + 0.006*\"世界盃\" + 0.005*\"阿根廷\" + 0.004*\"選手\" + 0.004*\"表示\" + 0.004*\"分鐘\" + 0.004*\"法國\" + 0.004*\"世界\"\n",
      "2023-05-08 17:59:39,333 : INFO : topic diff=0.196385, rho=0.376649\n",
      "2023-05-08 17:59:39,394 : INFO : -7.810 per-word bound, 224.4 perplexity estimate based on a held-out corpus of 98 documents with 14057 words\n",
      "2023-05-08 17:59:39,417 : INFO : LdaMulticore lifecycle event {'msg': 'trained LdaMulticore<num_terms=8129, num_topics=4, decay=0.5, chunksize=2000> in 17.67s', 'datetime': '2023-05-08T17:59:39.417083', 'gensim': '4.3.1', 'python': '3.9.7 (default, Sep 16 2021, 16:59:28) [MSC v.1916 64 bit (AMD64)]', 'platform': 'Windows-10-10.0.19045-SP0', 'event': 'created'}\n",
      "2023-05-08 17:59:41,738 : INFO : -7.903 per-word bound, 239.4 perplexity estimate based on a held-out corpus of 4098 documents with 577682 words\n",
      "2023-05-08 17:59:41,740 : INFO : using ParallelWordOccurrenceAccumulator<processes=15, batch_size=64> to estimate probabilities from sliding windows\n",
      "2023-05-08 17:59:54,390 : INFO : 1 batches submitted to accumulate stats from 64 documents (10718 virtual)\n",
      "2023-05-08 17:59:54,393 : INFO : 2 batches submitted to accumulate stats from 128 documents (21505 virtual)\n",
      "2023-05-08 17:59:54,395 : INFO : 3 batches submitted to accumulate stats from 192 documents (32741 virtual)\n",
      "2023-05-08 17:59:54,398 : INFO : 4 batches submitted to accumulate stats from 256 documents (44358 virtual)\n",
      "2023-05-08 17:59:54,400 : INFO : 5 batches submitted to accumulate stats from 320 documents (55805 virtual)\n",
      "2023-05-08 17:59:54,403 : INFO : 6 batches submitted to accumulate stats from 384 documents (66954 virtual)\n",
      "2023-05-08 17:59:54,406 : INFO : 7 batches submitted to accumulate stats from 448 documents (78327 virtual)\n",
      "2023-05-08 17:59:54,409 : INFO : 8 batches submitted to accumulate stats from 512 documents (91007 virtual)\n",
      "2023-05-08 17:59:54,413 : INFO : 9 batches submitted to accumulate stats from 576 documents (101868 virtual)\n",
      "2023-05-08 17:59:54,416 : INFO : 10 batches submitted to accumulate stats from 640 documents (112821 virtual)\n",
      "2023-05-08 17:59:54,420 : INFO : 11 batches submitted to accumulate stats from 704 documents (123495 virtual)\n",
      "2023-05-08 17:59:54,425 : INFO : 12 batches submitted to accumulate stats from 768 documents (137024 virtual)\n",
      "2023-05-08 17:59:54,430 : INFO : 13 batches submitted to accumulate stats from 832 documents (148921 virtual)\n",
      "2023-05-08 17:59:54,437 : INFO : 14 batches submitted to accumulate stats from 896 documents (159693 virtual)\n",
      "2023-05-08 17:59:54,447 : INFO : 15 batches submitted to accumulate stats from 960 documents (172102 virtual)\n",
      "2023-05-08 17:59:54,455 : INFO : 16 batches submitted to accumulate stats from 1024 documents (183015 virtual)\n",
      "2023-05-08 17:59:54,462 : INFO : 17 batches submitted to accumulate stats from 1088 documents (194950 virtual)\n",
      "2023-05-08 17:59:54,468 : INFO : 18 batches submitted to accumulate stats from 1152 documents (206441 virtual)\n",
      "2023-05-08 17:59:54,478 : INFO : 19 batches submitted to accumulate stats from 1216 documents (217506 virtual)\n",
      "2023-05-08 17:59:54,482 : INFO : 20 batches submitted to accumulate stats from 1280 documents (228826 virtual)\n",
      "2023-05-08 17:59:54,487 : INFO : 21 batches submitted to accumulate stats from 1344 documents (239700 virtual)\n",
      "2023-05-08 17:59:54,512 : INFO : 22 batches submitted to accumulate stats from 1408 documents (250458 virtual)\n",
      "2023-05-08 17:59:54,516 : INFO : 23 batches submitted to accumulate stats from 1472 documents (259728 virtual)\n",
      "2023-05-08 17:59:54,520 : INFO : 24 batches submitted to accumulate stats from 1536 documents (271031 virtual)\n",
      "2023-05-08 17:59:54,525 : INFO : 25 batches submitted to accumulate stats from 1600 documents (280918 virtual)\n",
      "2023-05-08 17:59:54,531 : INFO : 26 batches submitted to accumulate stats from 1664 documents (290991 virtual)\n",
      "2023-05-08 17:59:54,536 : INFO : 27 batches submitted to accumulate stats from 1728 documents (301131 virtual)\n",
      "2023-05-08 17:59:54,540 : INFO : 28 batches submitted to accumulate stats from 1792 documents (313273 virtual)\n",
      "2023-05-08 17:59:54,545 : INFO : 29 batches submitted to accumulate stats from 1856 documents (324385 virtual)\n",
      "2023-05-08 17:59:54,549 : INFO : 30 batches submitted to accumulate stats from 1920 documents (334696 virtual)\n",
      "2023-05-08 17:59:54,564 : INFO : 31 batches submitted to accumulate stats from 1984 documents (347175 virtual)\n",
      "2023-05-08 17:59:54,578 : INFO : 32 batches submitted to accumulate stats from 2048 documents (356924 virtual)\n",
      "2023-05-08 17:59:54,583 : INFO : 33 batches submitted to accumulate stats from 2112 documents (366809 virtual)\n",
      "2023-05-08 17:59:54,590 : INFO : 34 batches submitted to accumulate stats from 2176 documents (377673 virtual)\n",
      "2023-05-08 17:59:54,595 : INFO : 35 batches submitted to accumulate stats from 2240 documents (387906 virtual)\n",
      "2023-05-08 17:59:54,600 : INFO : 36 batches submitted to accumulate stats from 2304 documents (398442 virtual)\n",
      "2023-05-08 17:59:54,605 : INFO : 37 batches submitted to accumulate stats from 2368 documents (408144 virtual)\n",
      "2023-05-08 17:59:54,610 : INFO : 38 batches submitted to accumulate stats from 2432 documents (418470 virtual)\n",
      "2023-05-08 17:59:54,614 : INFO : 39 batches submitted to accumulate stats from 2496 documents (428774 virtual)\n",
      "2023-05-08 17:59:54,633 : INFO : 40 batches submitted to accumulate stats from 2560 documents (439666 virtual)\n",
      "2023-05-08 17:59:54,637 : INFO : 41 batches submitted to accumulate stats from 2624 documents (450129 virtual)\n",
      "2023-05-08 17:59:54,641 : INFO : 42 batches submitted to accumulate stats from 2688 documents (461670 virtual)\n",
      "2023-05-08 17:59:54,646 : INFO : 43 batches submitted to accumulate stats from 2752 documents (472222 virtual)\n",
      "2023-05-08 17:59:54,650 : INFO : 44 batches submitted to accumulate stats from 2816 documents (481646 virtual)\n",
      "2023-05-08 17:59:54,670 : INFO : 45 batches submitted to accumulate stats from 2880 documents (491584 virtual)\n",
      "2023-05-08 17:59:54,715 : INFO : 46 batches submitted to accumulate stats from 2944 documents (500417 virtual)\n",
      "2023-05-08 17:59:54,720 : INFO : 47 batches submitted to accumulate stats from 3008 documents (509661 virtual)\n",
      "2023-05-08 17:59:54,735 : INFO : 48 batches submitted to accumulate stats from 3072 documents (520733 virtual)\n",
      "2023-05-08 17:59:54,741 : INFO : 49 batches submitted to accumulate stats from 3136 documents (535560 virtual)\n",
      "2023-05-08 17:59:54,746 : INFO : 50 batches submitted to accumulate stats from 3200 documents (546600 virtual)\n",
      "2023-05-08 17:59:54,756 : INFO : 51 batches submitted to accumulate stats from 3264 documents (557867 virtual)\n",
      "2023-05-08 17:59:54,771 : INFO : 52 batches submitted to accumulate stats from 3328 documents (569015 virtual)\n",
      "2023-05-08 17:59:54,794 : INFO : 53 batches submitted to accumulate stats from 3392 documents (580580 virtual)\n",
      "2023-05-08 17:59:54,813 : INFO : 54 batches submitted to accumulate stats from 3456 documents (592560 virtual)\n",
      "2023-05-08 17:59:54,822 : INFO : 55 batches submitted to accumulate stats from 3520 documents (605258 virtual)\n",
      "2023-05-08 17:59:54,829 : INFO : 56 batches submitted to accumulate stats from 3584 documents (617317 virtual)\n",
      "2023-05-08 17:59:54,855 : INFO : 57 batches submitted to accumulate stats from 3648 documents (628626 virtual)\n",
      "2023-05-08 17:59:54,868 : INFO : 58 batches submitted to accumulate stats from 3712 documents (639927 virtual)\n",
      "2023-05-08 17:59:54,878 : INFO : 59 batches submitted to accumulate stats from 3776 documents (650253 virtual)\n",
      "2023-05-08 17:59:54,894 : INFO : 60 batches submitted to accumulate stats from 3840 documents (661228 virtual)\n",
      "2023-05-08 17:59:54,899 : INFO : 61 batches submitted to accumulate stats from 3904 documents (671658 virtual)\n",
      "2023-05-08 17:59:54,918 : INFO : 62 batches submitted to accumulate stats from 3968 documents (682084 virtual)\n",
      "2023-05-08 17:59:54,922 : INFO : 63 batches submitted to accumulate stats from 4032 documents (693635 virtual)\n",
      "2023-05-08 17:59:54,928 : INFO : 64 batches submitted to accumulate stats from 4096 documents (703990 virtual)\n",
      "2023-05-08 17:59:54,930 : INFO : 65 batches submitted to accumulate stats from 4160 documents (704223 virtual)\n",
      "2023-05-08 17:59:55,497 : INFO : 15 accumulators retrieved from output queue\n",
      "2023-05-08 17:59:55,519 : INFO : accumulated word occurrence stats for 704291 virtual documents\n",
      "2023-05-08 17:59:55,617 : INFO : using symmetric alpha at 0.2\n",
      "2023-05-08 17:59:55,618 : INFO : using symmetric eta at 0.2\n",
      "2023-05-08 17:59:55,619 : INFO : using serial LDA version on this node\n",
      "2023-05-08 17:59:55,623 : INFO : running online LDA training, 5 topics, 5 passes over the supplied corpus of 4098 documents, updating every 30000 documents, evaluating every ~4098 documents, iterating 50x with a convergence threshold of 0.001000\n",
      "2023-05-08 17:59:55,623 : WARNING : too few updates, training might not converge; consider increasing the number of passes or iterations to improve accuracy\n",
      "2023-05-08 17:59:55,624 : INFO : training LDA model using 15 processes\n",
      "2023-05-08 18:00:08,579 : INFO : PROGRESS: pass 0, dispatched chunk #0 = documents up to #2000/4098, outstanding queue size 1\n",
      "2023-05-08 18:00:08,634 : INFO : PROGRESS: pass 0, dispatched chunk #1 = documents up to #4000/4098, outstanding queue size 2\n",
      "2023-05-08 18:00:08,698 : INFO : PROGRESS: pass 0, dispatched chunk #2 = documents up to #4098/4098, outstanding queue size 3\n",
      "2023-05-08 18:00:09,729 : INFO : topic #0 (0.200): 0.007*\"表示\" + 0.005*\"烏克蘭\" + 0.004*\"台灣\" + 0.004*\"中國\" + 0.004*\"網友\" + 0.004*\"球員\" + 0.004*\"美國\" + 0.003*\"俄羅斯\" + 0.003*\"報導\" + 0.003*\"已經\"\n",
      "2023-05-08 18:00:09,730 : INFO : topic #1 (0.200): 0.006*\"表示\" + 0.005*\"台灣\" + 0.005*\"經典\" + 0.004*\"比賽\" + 0.004*\"今天\" + 0.003*\"棒球\" + 0.003*\"球員\" + 0.003*\"日本\" + 0.003*\"球迷\" + 0.003*\"中華隊\"\n",
      "2023-05-08 18:00:09,731 : INFO : topic #2 (0.200): 0.008*\"表示\" + 0.005*\"台灣\" + 0.005*\"網友\" + 0.003*\"美國\" + 0.003*\"今天\" + 0.003*\"日本\" + 0.003*\"中華隊\" + 0.003*\"已經\" + 0.003*\"比賽\" + 0.003*\"報導\"\n",
      "2023-05-08 18:00:09,731 : INFO : topic #3 (0.200): 0.008*\"表示\" + 0.005*\"台灣\" + 0.005*\"網友\" + 0.004*\"今天\" + 0.004*\"美國\" + 0.004*\"比賽\" + 0.003*\"中華隊\" + 0.003*\"球迷\" + 0.003*\"最後\" + 0.003*\"中國\"\n",
      "2023-05-08 18:00:09,732 : INFO : topic #4 (0.200): 0.006*\"表示\" + 0.005*\"台灣\" + 0.004*\"網友\" + 0.004*\"日本\" + 0.004*\"已經\" + 0.003*\"比賽\" + 0.003*\"中華隊\" + 0.003*\"球迷\" + 0.003*\"報導\" + 0.003*\"經典\"\n",
      "2023-05-08 18:00:09,732 : INFO : topic diff=0.940518, rho=1.000000\n",
      "2023-05-08 18:00:09,808 : INFO : -8.263 per-word bound, 307.3 perplexity estimate based on a held-out corpus of 98 documents with 14057 words\n",
      "2023-05-08 18:00:09,808 : INFO : PROGRESS: pass 1, dispatched chunk #0 = documents up to #2000/4098, outstanding queue size 1\n",
      "2023-05-08 18:00:09,858 : INFO : PROGRESS: pass 1, dispatched chunk #1 = documents up to #4000/4098, outstanding queue size 2\n",
      "2023-05-08 18:00:09,918 : INFO : PROGRESS: pass 1, dispatched chunk #2 = documents up to #4098/4098, outstanding queue size 3\n",
      "2023-05-08 18:00:10,846 : INFO : topic #0 (0.200): 0.009*\"烏克蘭\" + 0.008*\"表示\" + 0.006*\"俄羅斯\" + 0.005*\"中國\" + 0.005*\"美國\" + 0.005*\"報導\" + 0.004*\"台灣\" + 0.003*\"已經\" + 0.003*\"指出\" + 0.003*\"網友\"\n",
      "2023-05-08 18:00:10,846 : INFO : topic #1 (0.200): 0.008*\"經典\" + 0.006*\"台灣\" + 0.006*\"比賽\" + 0.006*\"中華隊\" + 0.006*\"球員\" + 0.006*\"球迷\" + 0.005*\"棒球\" + 0.005*\"表示\" + 0.004*\"今天\" + 0.004*\"日本\"\n",
      "2023-05-08 18:00:10,847 : INFO : topic #2 (0.200): 0.009*\"表示\" + 0.006*\"網友\" + 0.004*\"發生\" + 0.004*\"台灣\" + 0.003*\"已經\" + 0.003*\"報導\" + 0.003*\"相當\" + 0.003*\"日本\" + 0.003*\"粉絲\" + 0.003*\"孩子\"\n",
      "2023-05-08 18:00:10,848 : INFO : topic #3 (0.200): 0.007*\"表示\" + 0.006*\"台灣\" + 0.005*\"今天\" + 0.004*\"網友\" + 0.004*\"比賽\" + 0.004*\"美國\" + 0.003*\"中國\" + 0.003*\"最後\" + 0.003*\"中華隊\" + 0.003*\"球迷\"\n",
      "2023-05-08 18:00:10,848 : INFO : topic #4 (0.200): 0.006*\"表示\" + 0.005*\"網友\" + 0.004*\"台灣\" + 0.004*\"已經\" + 0.004*\"粉絲\" + 0.003*\"透露\" + 0.003*\"影片\" + 0.003*\"日本\" + 0.003*\"男子\" + 0.003*\"真的\"\n",
      "2023-05-08 18:00:10,849 : INFO : topic diff=0.314093, rho=0.496965\n",
      "2023-05-08 18:00:10,919 : INFO : -8.043 per-word bound, 263.8 perplexity estimate based on a held-out corpus of 98 documents with 14057 words\n",
      "2023-05-08 18:00:10,920 : INFO : PROGRESS: pass 2, dispatched chunk #0 = documents up to #2000/4098, outstanding queue size 1\n",
      "2023-05-08 18:00:10,974 : INFO : PROGRESS: pass 2, dispatched chunk #1 = documents up to #4000/4098, outstanding queue size 2\n",
      "2023-05-08 18:00:11,033 : INFO : PROGRESS: pass 2, dispatched chunk #2 = documents up to #4098/4098, outstanding queue size 3\n",
      "2023-05-08 18:00:11,870 : INFO : topic #0 (0.200): 0.010*\"烏克蘭\" + 0.009*\"表示\" + 0.007*\"俄羅斯\" + 0.006*\"中國\" + 0.006*\"美國\" + 0.005*\"報導\" + 0.005*\"台灣\" + 0.004*\"指出\" + 0.004*\"大陸\" + 0.003*\"總統\"\n",
      "2023-05-08 18:00:11,871 : INFO : topic #1 (0.200): 0.010*\"經典\" + 0.008*\"中華隊\" + 0.008*\"球迷\" + 0.008*\"比賽\" + 0.007*\"球員\" + 0.007*\"台灣\" + 0.006*\"棒球\" + 0.005*\"日本\" + 0.005*\"表示\" + 0.005*\"今天\"\n",
      "2023-05-08 18:00:11,872 : INFO : topic #2 (0.200): 0.010*\"表示\" + 0.008*\"網友\" + 0.004*\"發生\" + 0.003*\"已經\" + 0.003*\"影片\" + 0.003*\"孩子\" + 0.003*\"相當\" + 0.003*\"粉絲\" + 0.003*\"報導\" + 0.003*\"台灣\"\n",
      "2023-05-08 18:00:11,873 : INFO : topic #3 (0.200): 0.007*\"台灣\" + 0.006*\"表示\" + 0.006*\"今天\" + 0.005*\"比賽\" + 0.004*\"阿根廷\" + 0.004*\"美國\" + 0.003*\"網友\" + 0.003*\"選手\" + 0.003*\"最後\" + 0.003*\"中國\"\n",
      "2023-05-08 18:00:11,873 : INFO : topic #4 (0.200): 0.007*\"表示\" + 0.005*\"網友\" + 0.004*\"粉絲\" + 0.004*\"透露\" + 0.004*\"已經\" + 0.003*\"影片\" + 0.003*\"兩人\" + 0.003*\"真的\" + 0.003*\"女兒\" + 0.003*\"媽媽\"\n",
      "2023-05-08 18:00:11,874 : INFO : topic diff=0.285263, rho=0.445038\n",
      "2023-05-08 18:00:11,935 : INFO : -7.919 per-word bound, 241.9 perplexity estimate based on a held-out corpus of 98 documents with 14057 words\n",
      "2023-05-08 18:00:11,936 : INFO : PROGRESS: pass 3, dispatched chunk #0 = documents up to #2000/4098, outstanding queue size 1\n",
      "2023-05-08 18:00:11,986 : INFO : PROGRESS: pass 3, dispatched chunk #1 = documents up to #4000/4098, outstanding queue size 2\n",
      "2023-05-08 18:00:12,044 : INFO : PROGRESS: pass 3, dispatched chunk #2 = documents up to #4098/4098, outstanding queue size 3\n",
      "2023-05-08 18:00:12,840 : INFO : topic #0 (0.200): 0.011*\"烏克蘭\" + 0.009*\"表示\" + 0.008*\"俄羅斯\" + 0.007*\"中國\" + 0.007*\"美國\" + 0.006*\"台灣\" + 0.006*\"報導\" + 0.004*\"指出\" + 0.004*\"總統\" + 0.004*\"大陸\"\n",
      "2023-05-08 18:00:12,841 : INFO : topic #1 (0.200): 0.011*\"經典\" + 0.010*\"中華隊\" + 0.009*\"球迷\" + 0.008*\"球員\" + 0.008*\"比賽\" + 0.007*\"台灣\" + 0.007*\"棒球\" + 0.005*\"日本\" + 0.005*\"世界\" + 0.005*\"投手\"\n",
      "2023-05-08 18:00:12,842 : INFO : topic #2 (0.200): 0.010*\"表示\" + 0.009*\"網友\" + 0.005*\"發生\" + 0.004*\"影片\" + 0.004*\"孩子\" + 0.004*\"已經\" + 0.003*\"一名\" + 0.003*\"粉絲\" + 0.003*\"相當\" + 0.003*\"報導\"\n",
      "2023-05-08 18:00:12,843 : INFO : topic #3 (0.200): 0.007*\"台灣\" + 0.006*\"今天\" + 0.006*\"比賽\" + 0.005*\"阿根廷\" + 0.005*\"表示\" + 0.005*\"世界盃\" + 0.004*\"選手\" + 0.004*\"分鐘\" + 0.004*\"法國\" + 0.004*\"世界\"\n",
      "2023-05-08 18:00:12,843 : INFO : topic #4 (0.200): 0.007*\"表示\" + 0.005*\"網友\" + 0.004*\"透露\" + 0.004*\"粉絲\" + 0.004*\"已經\" + 0.004*\"兩人\" + 0.003*\"真的\" + 0.003*\"影片\" + 0.003*\"女兒\" + 0.003*\"媽媽\"\n",
      "2023-05-08 18:00:12,844 : INFO : topic diff=0.247680, rho=0.406591\n",
      "2023-05-08 18:00:12,903 : INFO : -7.851 per-word bound, 230.8 perplexity estimate based on a held-out corpus of 98 documents with 14057 words\n",
      "2023-05-08 18:00:12,904 : INFO : PROGRESS: pass 4, dispatched chunk #0 = documents up to #2000/4098, outstanding queue size 1\n",
      "2023-05-08 18:00:12,953 : INFO : PROGRESS: pass 4, dispatched chunk #1 = documents up to #4000/4098, outstanding queue size 2\n",
      "2023-05-08 18:00:13,011 : INFO : PROGRESS: pass 4, dispatched chunk #2 = documents up to #4098/4098, outstanding queue size 3\n",
      "2023-05-08 18:00:13,777 : INFO : topic #0 (0.200): 0.011*\"烏克蘭\" + 0.009*\"表示\" + 0.008*\"俄羅斯\" + 0.007*\"中國\" + 0.007*\"美國\" + 0.006*\"台灣\" + 0.006*\"報導\" + 0.004*\"指出\" + 0.004*\"總統\" + 0.004*\"國家\"\n",
      "2023-05-08 18:00:13,779 : INFO : topic #1 (0.200): 0.011*\"經典\" + 0.010*\"中華隊\" + 0.009*\"球迷\" + 0.009*\"球員\" + 0.009*\"比賽\" + 0.008*\"棒球\" + 0.007*\"台灣\" + 0.005*\"日本\" + 0.005*\"投手\" + 0.005*\"聯盟\"\n",
      "2023-05-08 18:00:13,779 : INFO : topic #2 (0.200): 0.010*\"表示\" + 0.009*\"網友\" + 0.005*\"發生\" + 0.005*\"影片\" + 0.004*\"一名\" + 0.004*\"孩子\" + 0.004*\"已經\" + 0.003*\"發現\" + 0.003*\"粉絲\" + 0.003*\"相當\"\n",
      "2023-05-08 18:00:13,780 : INFO : topic #3 (0.200): 0.007*\"台灣\" + 0.007*\"世界盃\" + 0.007*\"比賽\" + 0.006*\"今天\" + 0.006*\"阿根廷\" + 0.005*\"選手\" + 0.005*\"分鐘\" + 0.004*\"法國\" + 0.004*\"表示\" + 0.004*\"世界\"\n",
      "2023-05-08 18:00:13,780 : INFO : topic #4 (0.200): 0.007*\"表示\" + 0.005*\"網友\" + 0.004*\"透露\" + 0.004*\"粉絲\" + 0.004*\"兩人\" + 0.004*\"已經\" + 0.003*\"女兒\" + 0.003*\"真的\" + 0.003*\"媽媽\" + 0.003*\"孩子\"\n",
      "2023-05-08 18:00:13,781 : INFO : topic diff=0.225870, rho=0.376649\n",
      "2023-05-08 18:00:13,844 : INFO : -7.810 per-word bound, 224.4 perplexity estimate based on a held-out corpus of 98 documents with 14057 words\n",
      "2023-05-08 18:00:13,866 : INFO : LdaMulticore lifecycle event {'msg': 'trained LdaMulticore<num_terms=8129, num_topics=5, decay=0.5, chunksize=2000> in 18.24s', 'datetime': '2023-05-08T18:00:13.866649', 'gensim': '4.3.1', 'python': '3.9.7 (default, Sep 16 2021, 16:59:28) [MSC v.1916 64 bit (AMD64)]', 'platform': 'Windows-10-10.0.19045-SP0', 'event': 'created'}\n",
      "2023-05-08 18:00:16,325 : INFO : -7.888 per-word bound, 237.0 perplexity estimate based on a held-out corpus of 4098 documents with 577682 words\n",
      "2023-05-08 18:00:16,328 : INFO : using ParallelWordOccurrenceAccumulator<processes=15, batch_size=64> to estimate probabilities from sliding windows\n",
      "2023-05-08 18:00:28,853 : INFO : 1 batches submitted to accumulate stats from 64 documents (10718 virtual)\n",
      "2023-05-08 18:00:28,856 : INFO : 2 batches submitted to accumulate stats from 128 documents (21505 virtual)\n",
      "2023-05-08 18:00:28,858 : INFO : 3 batches submitted to accumulate stats from 192 documents (32741 virtual)\n",
      "2023-05-08 18:00:28,861 : INFO : 4 batches submitted to accumulate stats from 256 documents (44358 virtual)\n",
      "2023-05-08 18:00:28,864 : INFO : 5 batches submitted to accumulate stats from 320 documents (55805 virtual)\n",
      "2023-05-08 18:00:28,867 : INFO : 6 batches submitted to accumulate stats from 384 documents (66954 virtual)\n",
      "2023-05-08 18:00:28,870 : INFO : 7 batches submitted to accumulate stats from 448 documents (78327 virtual)\n",
      "2023-05-08 18:00:28,873 : INFO : 8 batches submitted to accumulate stats from 512 documents (91007 virtual)\n",
      "2023-05-08 18:00:28,878 : INFO : 9 batches submitted to accumulate stats from 576 documents (101868 virtual)\n",
      "2023-05-08 18:00:28,883 : INFO : 10 batches submitted to accumulate stats from 640 documents (112821 virtual)\n",
      "2023-05-08 18:00:28,888 : INFO : 11 batches submitted to accumulate stats from 704 documents (123495 virtual)\n",
      "2023-05-08 18:00:28,932 : INFO : 12 batches submitted to accumulate stats from 768 documents (137024 virtual)\n",
      "2023-05-08 18:00:28,941 : INFO : 13 batches submitted to accumulate stats from 832 documents (148921 virtual)\n",
      "2023-05-08 18:00:28,956 : INFO : 14 batches submitted to accumulate stats from 896 documents (159693 virtual)\n",
      "2023-05-08 18:00:28,962 : INFO : 15 batches submitted to accumulate stats from 960 documents (172102 virtual)\n",
      "2023-05-08 18:00:28,974 : INFO : 16 batches submitted to accumulate stats from 1024 documents (183015 virtual)\n",
      "2023-05-08 18:00:28,999 : INFO : 17 batches submitted to accumulate stats from 1088 documents (194950 virtual)\n",
      "2023-05-08 18:00:29,009 : INFO : 18 batches submitted to accumulate stats from 1152 documents (206441 virtual)\n",
      "2023-05-08 18:00:29,014 : INFO : 19 batches submitted to accumulate stats from 1216 documents (217506 virtual)\n",
      "2023-05-08 18:00:29,039 : INFO : 20 batches submitted to accumulate stats from 1280 documents (228826 virtual)\n",
      "2023-05-08 18:00:29,045 : INFO : 21 batches submitted to accumulate stats from 1344 documents (239700 virtual)\n",
      "2023-05-08 18:00:29,053 : INFO : 22 batches submitted to accumulate stats from 1408 documents (250458 virtual)\n",
      "2023-05-08 18:00:29,061 : INFO : 23 batches submitted to accumulate stats from 1472 documents (259728 virtual)\n",
      "2023-05-08 18:00:29,069 : INFO : 24 batches submitted to accumulate stats from 1536 documents (271031 virtual)\n",
      "2023-05-08 18:00:29,078 : INFO : 25 batches submitted to accumulate stats from 1600 documents (280918 virtual)\n",
      "2023-05-08 18:00:29,095 : INFO : 26 batches submitted to accumulate stats from 1664 documents (290991 virtual)\n",
      "2023-05-08 18:00:29,105 : INFO : 27 batches submitted to accumulate stats from 1728 documents (301131 virtual)\n",
      "2023-05-08 18:00:29,114 : INFO : 28 batches submitted to accumulate stats from 1792 documents (313273 virtual)\n",
      "2023-05-08 18:00:29,120 : INFO : 29 batches submitted to accumulate stats from 1856 documents (324385 virtual)\n",
      "2023-05-08 18:00:29,126 : INFO : 30 batches submitted to accumulate stats from 1920 documents (334696 virtual)\n",
      "2023-05-08 18:00:29,132 : INFO : 31 batches submitted to accumulate stats from 1984 documents (347175 virtual)\n",
      "2023-05-08 18:00:29,137 : INFO : 32 batches submitted to accumulate stats from 2048 documents (356924 virtual)\n",
      "2023-05-08 18:00:29,142 : INFO : 33 batches submitted to accumulate stats from 2112 documents (366809 virtual)\n",
      "2023-05-08 18:00:29,147 : INFO : 34 batches submitted to accumulate stats from 2176 documents (377673 virtual)\n",
      "2023-05-08 18:00:29,152 : INFO : 35 batches submitted to accumulate stats from 2240 documents (387906 virtual)\n",
      "2023-05-08 18:00:29,164 : INFO : 36 batches submitted to accumulate stats from 2304 documents (398442 virtual)\n",
      "2023-05-08 18:00:29,170 : INFO : 37 batches submitted to accumulate stats from 2368 documents (408144 virtual)\n",
      "2023-05-08 18:00:29,175 : INFO : 38 batches submitted to accumulate stats from 2432 documents (418470 virtual)\n",
      "2023-05-08 18:00:29,179 : INFO : 39 batches submitted to accumulate stats from 2496 documents (428774 virtual)\n",
      "2023-05-08 18:00:29,184 : INFO : 40 batches submitted to accumulate stats from 2560 documents (439666 virtual)\n",
      "2023-05-08 18:00:29,188 : INFO : 41 batches submitted to accumulate stats from 2624 documents (450129 virtual)\n",
      "2023-05-08 18:00:29,194 : INFO : 42 batches submitted to accumulate stats from 2688 documents (461670 virtual)\n",
      "2023-05-08 18:00:29,199 : INFO : 43 batches submitted to accumulate stats from 2752 documents (472222 virtual)\n",
      "2023-05-08 18:00:29,204 : INFO : 44 batches submitted to accumulate stats from 2816 documents (481646 virtual)\n",
      "2023-05-08 18:00:29,229 : INFO : 45 batches submitted to accumulate stats from 2880 documents (491584 virtual)\n",
      "2023-05-08 18:00:29,234 : INFO : 46 batches submitted to accumulate stats from 2944 documents (500417 virtual)\n",
      "2023-05-08 18:00:29,238 : INFO : 47 batches submitted to accumulate stats from 3008 documents (509661 virtual)\n",
      "2023-05-08 18:00:29,244 : INFO : 48 batches submitted to accumulate stats from 3072 documents (520733 virtual)\n",
      "2023-05-08 18:00:29,250 : INFO : 49 batches submitted to accumulate stats from 3136 documents (535560 virtual)\n",
      "2023-05-08 18:00:29,255 : INFO : 50 batches submitted to accumulate stats from 3200 documents (546600 virtual)\n",
      "2023-05-08 18:00:29,261 : INFO : 51 batches submitted to accumulate stats from 3264 documents (557867 virtual)\n",
      "2023-05-08 18:00:29,266 : INFO : 52 batches submitted to accumulate stats from 3328 documents (569015 virtual)\n",
      "2023-05-08 18:00:29,314 : INFO : 53 batches submitted to accumulate stats from 3392 documents (580580 virtual)\n",
      "2023-05-08 18:00:29,319 : INFO : 54 batches submitted to accumulate stats from 3456 documents (592560 virtual)\n",
      "2023-05-08 18:00:29,325 : INFO : 55 batches submitted to accumulate stats from 3520 documents (605258 virtual)\n",
      "2023-05-08 18:00:29,359 : INFO : 56 batches submitted to accumulate stats from 3584 documents (617317 virtual)\n",
      "2023-05-08 18:00:29,365 : INFO : 57 batches submitted to accumulate stats from 3648 documents (628626 virtual)\n",
      "2023-05-08 18:00:29,379 : INFO : 58 batches submitted to accumulate stats from 3712 documents (639927 virtual)\n",
      "2023-05-08 18:00:29,384 : INFO : 59 batches submitted to accumulate stats from 3776 documents (650253 virtual)\n",
      "2023-05-08 18:00:29,393 : INFO : 60 batches submitted to accumulate stats from 3840 documents (661228 virtual)\n",
      "2023-05-08 18:00:29,397 : INFO : 61 batches submitted to accumulate stats from 3904 documents (671658 virtual)\n",
      "2023-05-08 18:00:29,405 : INFO : 62 batches submitted to accumulate stats from 3968 documents (682084 virtual)\n",
      "2023-05-08 18:00:29,419 : INFO : 63 batches submitted to accumulate stats from 4032 documents (693635 virtual)\n",
      "2023-05-08 18:00:29,430 : INFO : 64 batches submitted to accumulate stats from 4096 documents (703990 virtual)\n",
      "2023-05-08 18:00:29,433 : INFO : 65 batches submitted to accumulate stats from 4160 documents (704223 virtual)\n",
      "2023-05-08 18:00:29,932 : INFO : 15 accumulators retrieved from output queue\n",
      "2023-05-08 18:00:29,957 : INFO : accumulated word occurrence stats for 704291 virtual documents\n",
      "2023-05-08 18:00:30,086 : INFO : using symmetric alpha at 0.16666666666666666\n",
      "2023-05-08 18:00:30,087 : INFO : using symmetric eta at 0.16666666666666666\n",
      "2023-05-08 18:00:30,089 : INFO : using serial LDA version on this node\n",
      "2023-05-08 18:00:30,093 : INFO : running online LDA training, 6 topics, 5 passes over the supplied corpus of 4098 documents, updating every 30000 documents, evaluating every ~4098 documents, iterating 50x with a convergence threshold of 0.001000\n",
      "2023-05-08 18:00:30,094 : WARNING : too few updates, training might not converge; consider increasing the number of passes or iterations to improve accuracy\n",
      "2023-05-08 18:00:30,095 : INFO : training LDA model using 15 processes\n",
      "2023-05-08 18:00:42,725 : INFO : PROGRESS: pass 0, dispatched chunk #0 = documents up to #2000/4098, outstanding queue size 1\n",
      "2023-05-08 18:00:42,775 : INFO : PROGRESS: pass 0, dispatched chunk #1 = documents up to #4000/4098, outstanding queue size 2\n",
      "2023-05-08 18:00:42,831 : INFO : PROGRESS: pass 0, dispatched chunk #2 = documents up to #4098/4098, outstanding queue size 3\n",
      "2023-05-08 18:00:43,852 : INFO : topic #5 (0.167): 0.007*\"表示\" + 0.005*\"台灣\" + 0.005*\"網友\" + 0.005*\"今天\" + 0.004*\"中華隊\" + 0.004*\"經典\" + 0.004*\"比賽\" + 0.004*\"已經\" + 0.003*\"報導\" + 0.003*\"球員\"\n",
      "2023-05-08 18:00:43,853 : INFO : topic #3 (0.167): 0.008*\"表示\" + 0.006*\"台灣\" + 0.004*\"網友\" + 0.004*\"美國\" + 0.004*\"今天\" + 0.004*\"球迷\" + 0.003*\"比賽\" + 0.003*\"中華隊\" + 0.003*\"最後\" + 0.003*\"中國\"\n",
      "2023-05-08 18:00:43,854 : INFO : topic #0 (0.167): 0.007*\"表示\" + 0.006*\"烏克蘭\" + 0.004*\"台灣\" + 0.004*\"俄羅斯\" + 0.004*\"中國\" + 0.004*\"美國\" + 0.004*\"網友\" + 0.003*\"球員\" + 0.003*\"報導\" + 0.003*\"已經\"\n",
      "2023-05-08 18:00:43,854 : INFO : topic #1 (0.167): 0.006*\"表示\" + 0.005*\"台灣\" + 0.005*\"經典\" + 0.004*\"比賽\" + 0.003*\"棒球\" + 0.003*\"球迷\" + 0.003*\"日本\" + 0.003*\"球員\" + 0.003*\"今天\" + 0.003*\"希望\"\n",
      "2023-05-08 18:00:43,855 : INFO : topic #2 (0.167): 0.008*\"表示\" + 0.005*\"台灣\" + 0.005*\"網友\" + 0.004*\"美國\" + 0.004*\"日本\" + 0.003*\"相當\" + 0.003*\"發生\" + 0.003*\"今天\" + 0.003*\"已經\" + 0.003*\"報導\"\n",
      "2023-05-08 18:00:43,855 : INFO : topic diff=0.969741, rho=1.000000\n",
      "2023-05-08 18:00:43,943 : INFO : -8.296 per-word bound, 314.4 perplexity estimate based on a held-out corpus of 98 documents with 14057 words\n",
      "2023-05-08 18:00:43,944 : INFO : PROGRESS: pass 1, dispatched chunk #0 = documents up to #2000/4098, outstanding queue size 1\n",
      "2023-05-08 18:00:43,993 : INFO : PROGRESS: pass 1, dispatched chunk #1 = documents up to #4000/4098, outstanding queue size 2\n",
      "2023-05-08 18:00:44,051 : INFO : PROGRESS: pass 1, dispatched chunk #2 = documents up to #4098/4098, outstanding queue size 3\n",
      "2023-05-08 18:00:44,971 : INFO : topic #3 (0.167): 0.007*\"台灣\" + 0.006*\"表示\" + 0.005*\"今天\" + 0.004*\"美國\" + 0.004*\"比賽\" + 0.003*\"網友\" + 0.003*\"中國\" + 0.003*\"球迷\" + 0.003*\"最後\" + 0.003*\"阿根廷\"\n",
      "2023-05-08 18:00:44,972 : INFO : topic #4 (0.167): 0.006*\"表示\" + 0.005*\"網友\" + 0.004*\"粉絲\" + 0.004*\"已經\" + 0.004*\"台灣\" + 0.003*\"真的\" + 0.003*\"男子\" + 0.003*\"透露\" + 0.003*\"影片\" + 0.003*\"日本\"\n",
      "2023-05-08 18:00:44,973 : INFO : topic #2 (0.167): 0.009*\"表示\" + 0.006*\"網友\" + 0.004*\"發生\" + 0.004*\"台灣\" + 0.003*\"相當\" + 0.003*\"已經\" + 0.003*\"粉絲\" + 0.003*\"日本\" + 0.003*\"報導\" + 0.003*\"兩人\"\n",
      "2023-05-08 18:00:44,973 : INFO : topic #1 (0.167): 0.008*\"經典\" + 0.007*\"台灣\" + 0.006*\"球迷\" + 0.006*\"比賽\" + 0.006*\"棒球\" + 0.006*\"球員\" + 0.005*\"中華隊\" + 0.005*\"表示\" + 0.005*\"日本\" + 0.004*\"世界\"\n",
      "2023-05-08 18:00:44,974 : INFO : topic #5 (0.167): 0.007*\"表示\" + 0.005*\"中華隊\" + 0.005*\"台灣\" + 0.005*\"網友\" + 0.004*\"今天\" + 0.004*\"經典\" + 0.004*\"比賽\" + 0.004*\"已經\" + 0.003*\"球員\" + 0.003*\"報導\"\n",
      "2023-05-08 18:00:44,974 : INFO : topic diff=0.328109, rho=0.496965\n",
      "2023-05-08 18:00:45,041 : INFO : -8.064 per-word bound, 267.7 perplexity estimate based on a held-out corpus of 98 documents with 14057 words\n",
      "2023-05-08 18:00:45,042 : INFO : PROGRESS: pass 2, dispatched chunk #0 = documents up to #2000/4098, outstanding queue size 1\n",
      "2023-05-08 18:00:45,090 : INFO : PROGRESS: pass 2, dispatched chunk #1 = documents up to #4000/4098, outstanding queue size 2\n",
      "2023-05-08 18:00:45,151 : INFO : PROGRESS: pass 2, dispatched chunk #2 = documents up to #4098/4098, outstanding queue size 3\n",
      "2023-05-08 18:00:46,023 : INFO : topic #3 (0.167): 0.007*\"台灣\" + 0.006*\"今天\" + 0.005*\"表示\" + 0.005*\"比賽\" + 0.005*\"阿根廷\" + 0.004*\"美國\" + 0.004*\"選手\" + 0.004*\"世界盃\" + 0.003*\"世界\" + 0.003*\"最後\"\n",
      "2023-05-08 18:00:46,024 : INFO : topic #2 (0.167): 0.010*\"表示\" + 0.008*\"網友\" + 0.004*\"發生\" + 0.003*\"影片\" + 0.003*\"已經\" + 0.003*\"粉絲\" + 0.003*\"相當\" + 0.003*\"孩子\" + 0.003*\"兩人\" + 0.003*\"報導\"\n",
      "2023-05-08 18:00:46,025 : INFO : topic #1 (0.167): 0.010*\"經典\" + 0.008*\"中華隊\" + 0.008*\"球迷\" + 0.008*\"比賽\" + 0.007*\"球員\" + 0.007*\"台灣\" + 0.007*\"棒球\" + 0.005*\"日本\" + 0.005*\"世界\" + 0.005*\"表示\"\n",
      "2023-05-08 18:00:46,025 : INFO : topic #4 (0.167): 0.007*\"表示\" + 0.005*\"網友\" + 0.004*\"粉絲\" + 0.004*\"透露\" + 0.004*\"已經\" + 0.004*\"真的\" + 0.004*\"媽媽\" + 0.004*\"女兒\" + 0.003*\"影片\" + 0.003*\"兩人\"\n",
      "2023-05-08 18:00:46,026 : INFO : topic #0 (0.167): 0.011*\"烏克蘭\" + 0.009*\"表示\" + 0.008*\"俄羅斯\" + 0.007*\"中國\" + 0.006*\"美國\" + 0.005*\"報導\" + 0.005*\"台灣\" + 0.004*\"指出\" + 0.004*\"大陸\" + 0.004*\"總統\"\n",
      "2023-05-08 18:00:46,027 : INFO : topic diff=0.300800, rho=0.445038\n",
      "2023-05-08 18:00:46,090 : INFO : -7.930 per-word bound, 243.9 perplexity estimate based on a held-out corpus of 98 documents with 14057 words\n",
      "2023-05-08 18:00:46,091 : INFO : PROGRESS: pass 3, dispatched chunk #0 = documents up to #2000/4098, outstanding queue size 1\n",
      "2023-05-08 18:00:46,146 : INFO : PROGRESS: pass 3, dispatched chunk #1 = documents up to #4000/4098, outstanding queue size 2\n",
      "2023-05-08 18:00:46,235 : INFO : PROGRESS: pass 3, dispatched chunk #2 = documents up to #4098/4098, outstanding queue size 3\n",
      "2023-05-08 18:00:47,037 : INFO : topic #0 (0.167): 0.012*\"烏克蘭\" + 0.009*\"表示\" + 0.008*\"俄羅斯\" + 0.007*\"中國\" + 0.007*\"美國\" + 0.006*\"報導\" + 0.006*\"台灣\" + 0.004*\"指出\" + 0.004*\"總統\" + 0.004*\"大陸\"\n",
      "2023-05-08 18:00:47,038 : INFO : topic #4 (0.167): 0.007*\"表示\" + 0.005*\"網友\" + 0.004*\"粉絲\" + 0.004*\"透露\" + 0.004*\"女兒\" + 0.004*\"已經\" + 0.004*\"媽媽\" + 0.004*\"真的\" + 0.003*\"兩人\" + 0.003*\"影片\"\n",
      "2023-05-08 18:00:47,039 : INFO : topic #2 (0.167): 0.010*\"表示\" + 0.009*\"網友\" + 0.004*\"發生\" + 0.004*\"影片\" + 0.004*\"已經\" + 0.003*\"粉絲\" + 0.003*\"孩子\" + 0.003*\"相當\" + 0.003*\"兩人\" + 0.003*\"當時\"\n",
      "2023-05-08 18:00:47,040 : INFO : topic #5 (0.167): 0.007*\"表示\" + 0.005*\"汪小菲\" + 0.005*\"網友\" + 0.004*\"台灣\" + 0.004*\"今天\" + 0.004*\"確診\" + 0.004*\"中華隊\" + 0.004*\"進行\" + 0.004*\"比賽\" + 0.003*\"報導\"\n",
      "2023-05-08 18:00:47,041 : INFO : topic #3 (0.167): 0.007*\"台灣\" + 0.006*\"今天\" + 0.006*\"比賽\" + 0.006*\"阿根廷\" + 0.006*\"世界盃\" + 0.005*\"選手\" + 0.004*\"表示\" + 0.004*\"法國\" + 0.004*\"世界\" + 0.004*\"對手\"\n",
      "2023-05-08 18:00:47,042 : INFO : topic diff=0.269654, rho=0.406591\n",
      "2023-05-08 18:00:47,102 : INFO : -7.860 per-word bound, 232.3 perplexity estimate based on a held-out corpus of 98 documents with 14057 words\n",
      "2023-05-08 18:00:47,103 : INFO : PROGRESS: pass 4, dispatched chunk #0 = documents up to #2000/4098, outstanding queue size 1\n",
      "2023-05-08 18:00:47,156 : INFO : PROGRESS: pass 4, dispatched chunk #1 = documents up to #4000/4098, outstanding queue size 2\n",
      "2023-05-08 18:00:47,213 : INFO : PROGRESS: pass 4, dispatched chunk #2 = documents up to #4098/4098, outstanding queue size 3\n",
      "2023-05-08 18:00:48,013 : INFO : topic #1 (0.167): 0.012*\"經典\" + 0.011*\"中華隊\" + 0.009*\"球迷\" + 0.009*\"球員\" + 0.009*\"比賽\" + 0.008*\"棒球\" + 0.008*\"台灣\" + 0.006*\"日本\" + 0.005*\"投手\" + 0.005*\"聯盟\"\n",
      "2023-05-08 18:00:48,014 : INFO : topic #0 (0.167): 0.012*\"烏克蘭\" + 0.009*\"表示\" + 0.009*\"俄羅斯\" + 0.008*\"美國\" + 0.008*\"中國\" + 0.006*\"台灣\" + 0.006*\"報導\" + 0.004*\"指出\" + 0.004*\"總統\" + 0.004*\"國家\"\n",
      "2023-05-08 18:00:48,014 : INFO : topic #4 (0.167): 0.007*\"表示\" + 0.005*\"粉絲\" + 0.005*\"透露\" + 0.004*\"網友\" + 0.004*\"女兒\" + 0.004*\"媽媽\" + 0.004*\"已經\" + 0.004*\"真的\" + 0.004*\"兩人\" + 0.003*\"孩子\"\n",
      "2023-05-08 18:00:48,015 : INFO : topic #2 (0.167): 0.010*\"表示\" + 0.009*\"網友\" + 0.005*\"影片\" + 0.004*\"發生\" + 0.004*\"已經\" + 0.003*\"孩子\" + 0.003*\"粉絲\" + 0.003*\"一名\" + 0.003*\"兩人\" + 0.003*\"當時\"\n",
      "2023-05-08 18:00:48,016 : INFO : topic #3 (0.167): 0.008*\"世界盃\" + 0.007*\"台灣\" + 0.007*\"比賽\" + 0.007*\"阿根廷\" + 0.006*\"今天\" + 0.005*\"選手\" + 0.005*\"法國\" + 0.005*\"世界\" + 0.004*\"分鐘\" + 0.004*\"對手\"\n",
      "2023-05-08 18:00:48,017 : INFO : topic diff=0.254470, rho=0.376649\n",
      "2023-05-08 18:00:48,077 : INFO : -7.820 per-word bound, 225.9 perplexity estimate based on a held-out corpus of 98 documents with 14057 words\n",
      "2023-05-08 18:00:48,099 : INFO : LdaMulticore lifecycle event {'msg': 'trained LdaMulticore<num_terms=8129, num_topics=6, decay=0.5, chunksize=2000> in 18.01s', 'datetime': '2023-05-08T18:00:48.099418', 'gensim': '4.3.1', 'python': '3.9.7 (default, Sep 16 2021, 16:59:28) [MSC v.1916 64 bit (AMD64)]', 'platform': 'Windows-10-10.0.19045-SP0', 'event': 'created'}\n",
      "2023-05-08 18:00:50,558 : INFO : -7.895 per-word bound, 238.1 perplexity estimate based on a held-out corpus of 4098 documents with 577682 words\n",
      "2023-05-08 18:00:50,561 : INFO : using ParallelWordOccurrenceAccumulator<processes=15, batch_size=64> to estimate probabilities from sliding windows\n"
     ]
    },
    {
     "ename": "KeyboardInterrupt",
     "evalue": "",
     "output_type": "error",
     "traceback": [
      "\u001b[1;31m---------------------------------------------------------------------------\u001b[0m",
      "\u001b[1;31mKeyboardInterrupt\u001b[0m                         Traceback (most recent call last)",
      "\u001b[1;32m~\\AppData\\Local\\Temp/ipykernel_18324/999645249.py\u001b[0m in \u001b[0;36m<module>\u001b[1;34m\u001b[0m\n\u001b[0;32m     18\u001b[0m \u001b[1;33m\u001b[0m\u001b[0m\n\u001b[0;32m     19\u001b[0m     \u001b[0mloss\u001b[0m \u001b[1;33m=\u001b[0m \u001b[0mmodel\u001b[0m\u001b[1;33m.\u001b[0m\u001b[0mlog_perplexity\u001b[0m\u001b[1;33m(\u001b[0m\u001b[0mcorpus\u001b[0m\u001b[1;33m)\u001b[0m\u001b[1;33m\u001b[0m\u001b[1;33m\u001b[0m\u001b[0m\n\u001b[1;32m---> 20\u001b[1;33m     \u001b[0mpmi\u001b[0m \u001b[1;33m=\u001b[0m \u001b[0mCoherenceModel\u001b[0m\u001b[1;33m(\u001b[0m\u001b[0mmodel\u001b[0m\u001b[1;33m=\u001b[0m\u001b[0mmodel\u001b[0m\u001b[1;33m,\u001b[0m \u001b[0mtexts\u001b[0m\u001b[1;33m=\u001b[0m\u001b[0mdocs\u001b[0m\u001b[1;33m,\u001b[0m \u001b[0mcoherence\u001b[0m\u001b[1;33m=\u001b[0m\u001b[1;34m'c_npmi'\u001b[0m\u001b[1;33m)\u001b[0m\u001b[1;33m.\u001b[0m\u001b[0mget_coherence\u001b[0m\u001b[1;33m(\u001b[0m\u001b[1;33m)\u001b[0m\u001b[1;33m\u001b[0m\u001b[1;33m\u001b[0m\u001b[0m\n\u001b[0m\u001b[0;32m     21\u001b[0m     \u001b[0mperplexity\u001b[0m \u001b[1;33m=\u001b[0m \u001b[0mnp\u001b[0m\u001b[1;33m.\u001b[0m\u001b[0mexp\u001b[0m\u001b[1;33m(\u001b[0m\u001b[1;33m-\u001b[0m\u001b[1;36m1.\u001b[0m \u001b[1;33m*\u001b[0m \u001b[0mloss\u001b[0m\u001b[1;33m)\u001b[0m\u001b[1;33m\u001b[0m\u001b[1;33m\u001b[0m\u001b[0m\n\u001b[0;32m     22\u001b[0m \u001b[1;33m\u001b[0m\u001b[0m\n",
      "\u001b[1;32md:\\anaconda3\\lib\\site-packages\\gensim\\models\\coherencemodel.py\u001b[0m in \u001b[0;36mget_coherence\u001b[1;34m(self)\u001b[0m\n\u001b[0;32m    612\u001b[0m \u001b[1;33m\u001b[0m\u001b[0m\n\u001b[0;32m    613\u001b[0m         \"\"\"\n\u001b[1;32m--> 614\u001b[1;33m         \u001b[0mconfirmed_measures\u001b[0m \u001b[1;33m=\u001b[0m \u001b[0mself\u001b[0m\u001b[1;33m.\u001b[0m\u001b[0mget_coherence_per_topic\u001b[0m\u001b[1;33m(\u001b[0m\u001b[1;33m)\u001b[0m\u001b[1;33m\u001b[0m\u001b[1;33m\u001b[0m\u001b[0m\n\u001b[0m\u001b[0;32m    615\u001b[0m         \u001b[1;32mreturn\u001b[0m \u001b[0mself\u001b[0m\u001b[1;33m.\u001b[0m\u001b[0maggregate_measures\u001b[0m\u001b[1;33m(\u001b[0m\u001b[0mconfirmed_measures\u001b[0m\u001b[1;33m)\u001b[0m\u001b[1;33m\u001b[0m\u001b[1;33m\u001b[0m\u001b[0m\n\u001b[0;32m    616\u001b[0m \u001b[1;33m\u001b[0m\u001b[0m\n",
      "\u001b[1;32md:\\anaconda3\\lib\\site-packages\\gensim\\models\\coherencemodel.py\u001b[0m in \u001b[0;36mget_coherence_per_topic\u001b[1;34m(self, segmented_topics, with_std, with_support)\u001b[0m\n\u001b[0;32m    572\u001b[0m             \u001b[0msegmented_topics\u001b[0m \u001b[1;33m=\u001b[0m \u001b[0mmeasure\u001b[0m\u001b[1;33m.\u001b[0m\u001b[0mseg\u001b[0m\u001b[1;33m(\u001b[0m\u001b[0mself\u001b[0m\u001b[1;33m.\u001b[0m\u001b[0mtopics\u001b[0m\u001b[1;33m)\u001b[0m\u001b[1;33m\u001b[0m\u001b[1;33m\u001b[0m\u001b[0m\n\u001b[0;32m    573\u001b[0m         \u001b[1;32mif\u001b[0m \u001b[0mself\u001b[0m\u001b[1;33m.\u001b[0m\u001b[0m_accumulator\u001b[0m \u001b[1;32mis\u001b[0m \u001b[1;32mNone\u001b[0m\u001b[1;33m:\u001b[0m\u001b[1;33m\u001b[0m\u001b[1;33m\u001b[0m\u001b[0m\n\u001b[1;32m--> 574\u001b[1;33m             \u001b[0mself\u001b[0m\u001b[1;33m.\u001b[0m\u001b[0mestimate_probabilities\u001b[0m\u001b[1;33m(\u001b[0m\u001b[0msegmented_topics\u001b[0m\u001b[1;33m)\u001b[0m\u001b[1;33m\u001b[0m\u001b[1;33m\u001b[0m\u001b[0m\n\u001b[0m\u001b[0;32m    575\u001b[0m \u001b[1;33m\u001b[0m\u001b[0m\n\u001b[0;32m    576\u001b[0m         \u001b[0mkwargs\u001b[0m \u001b[1;33m=\u001b[0m \u001b[0mdict\u001b[0m\u001b[1;33m(\u001b[0m\u001b[0mwith_std\u001b[0m\u001b[1;33m=\u001b[0m\u001b[0mwith_std\u001b[0m\u001b[1;33m,\u001b[0m \u001b[0mwith_support\u001b[0m\u001b[1;33m=\u001b[0m\u001b[0mwith_support\u001b[0m\u001b[1;33m)\u001b[0m\u001b[1;33m\u001b[0m\u001b[1;33m\u001b[0m\u001b[0m\n",
      "\u001b[1;32md:\\anaconda3\\lib\\site-packages\\gensim\\models\\coherencemodel.py\u001b[0m in \u001b[0;36mestimate_probabilities\u001b[1;34m(self, segmented_topics)\u001b[0m\n\u001b[0;32m    544\u001b[0m                 \u001b[0mkwargs\u001b[0m\u001b[1;33m[\u001b[0m\u001b[1;34m'model'\u001b[0m\u001b[1;33m]\u001b[0m \u001b[1;33m=\u001b[0m \u001b[0mself\u001b[0m\u001b[1;33m.\u001b[0m\u001b[0mkeyed_vectors\u001b[0m\u001b[1;33m\u001b[0m\u001b[1;33m\u001b[0m\u001b[0m\n\u001b[0;32m    545\u001b[0m \u001b[1;33m\u001b[0m\u001b[0m\n\u001b[1;32m--> 546\u001b[1;33m             \u001b[0mself\u001b[0m\u001b[1;33m.\u001b[0m\u001b[0m_accumulator\u001b[0m \u001b[1;33m=\u001b[0m \u001b[0mself\u001b[0m\u001b[1;33m.\u001b[0m\u001b[0mmeasure\u001b[0m\u001b[1;33m.\u001b[0m\u001b[0mprob\u001b[0m\u001b[1;33m(\u001b[0m\u001b[1;33m**\u001b[0m\u001b[0mkwargs\u001b[0m\u001b[1;33m)\u001b[0m\u001b[1;33m\u001b[0m\u001b[1;33m\u001b[0m\u001b[0m\n\u001b[0m\u001b[0;32m    547\u001b[0m \u001b[1;33m\u001b[0m\u001b[0m\n\u001b[0;32m    548\u001b[0m         \u001b[1;32mreturn\u001b[0m \u001b[0mself\u001b[0m\u001b[1;33m.\u001b[0m\u001b[0m_accumulator\u001b[0m\u001b[1;33m\u001b[0m\u001b[1;33m\u001b[0m\u001b[0m\n",
      "\u001b[1;32md:\\anaconda3\\lib\\site-packages\\gensim\\topic_coherence\\probability_estimation.py\u001b[0m in \u001b[0;36mp_boolean_sliding_window\u001b[1;34m(texts, segmented_topics, dictionary, window_size, processes)\u001b[0m\n\u001b[0;32m    154\u001b[0m         \u001b[0maccumulator\u001b[0m \u001b[1;33m=\u001b[0m \u001b[0mParallelWordOccurrenceAccumulator\u001b[0m\u001b[1;33m(\u001b[0m\u001b[0mprocesses\u001b[0m\u001b[1;33m,\u001b[0m \u001b[0mtop_ids\u001b[0m\u001b[1;33m,\u001b[0m \u001b[0mdictionary\u001b[0m\u001b[1;33m)\u001b[0m\u001b[1;33m\u001b[0m\u001b[1;33m\u001b[0m\u001b[0m\n\u001b[0;32m    155\u001b[0m     \u001b[0mlogger\u001b[0m\u001b[1;33m.\u001b[0m\u001b[0minfo\u001b[0m\u001b[1;33m(\u001b[0m\u001b[1;34m\"using %s to estimate probabilities from sliding windows\"\u001b[0m\u001b[1;33m,\u001b[0m \u001b[0maccumulator\u001b[0m\u001b[1;33m)\u001b[0m\u001b[1;33m\u001b[0m\u001b[1;33m\u001b[0m\u001b[0m\n\u001b[1;32m--> 156\u001b[1;33m     \u001b[1;32mreturn\u001b[0m \u001b[0maccumulator\u001b[0m\u001b[1;33m.\u001b[0m\u001b[0maccumulate\u001b[0m\u001b[1;33m(\u001b[0m\u001b[0mtexts\u001b[0m\u001b[1;33m,\u001b[0m \u001b[0mwindow_size\u001b[0m\u001b[1;33m)\u001b[0m\u001b[1;33m\u001b[0m\u001b[1;33m\u001b[0m\u001b[0m\n\u001b[0m\u001b[0;32m    157\u001b[0m \u001b[1;33m\u001b[0m\u001b[0m\n\u001b[0;32m    158\u001b[0m \u001b[1;33m\u001b[0m\u001b[0m\n",
      "\u001b[1;32md:\\anaconda3\\lib\\site-packages\\gensim\\topic_coherence\\text_analysis.py\u001b[0m in \u001b[0;36maccumulate\u001b[1;34m(self, texts, window_size)\u001b[0m\n\u001b[0;32m    435\u001b[0m \u001b[1;33m\u001b[0m\u001b[0m\n\u001b[0;32m    436\u001b[0m     \u001b[1;32mdef\u001b[0m \u001b[0maccumulate\u001b[0m\u001b[1;33m(\u001b[0m\u001b[0mself\u001b[0m\u001b[1;33m,\u001b[0m \u001b[0mtexts\u001b[0m\u001b[1;33m,\u001b[0m \u001b[0mwindow_size\u001b[0m\u001b[1;33m)\u001b[0m\u001b[1;33m:\u001b[0m\u001b[1;33m\u001b[0m\u001b[1;33m\u001b[0m\u001b[0m\n\u001b[1;32m--> 437\u001b[1;33m         \u001b[0mworkers\u001b[0m\u001b[1;33m,\u001b[0m \u001b[0minput_q\u001b[0m\u001b[1;33m,\u001b[0m \u001b[0moutput_q\u001b[0m \u001b[1;33m=\u001b[0m \u001b[0mself\u001b[0m\u001b[1;33m.\u001b[0m\u001b[0mstart_workers\u001b[0m\u001b[1;33m(\u001b[0m\u001b[0mwindow_size\u001b[0m\u001b[1;33m)\u001b[0m\u001b[1;33m\u001b[0m\u001b[1;33m\u001b[0m\u001b[0m\n\u001b[0m\u001b[0;32m    438\u001b[0m         \u001b[1;32mtry\u001b[0m\u001b[1;33m:\u001b[0m\u001b[1;33m\u001b[0m\u001b[1;33m\u001b[0m\u001b[0m\n\u001b[0;32m    439\u001b[0m             \u001b[0mself\u001b[0m\u001b[1;33m.\u001b[0m\u001b[0mqueue_all_texts\u001b[0m\u001b[1;33m(\u001b[0m\u001b[0minput_q\u001b[0m\u001b[1;33m,\u001b[0m \u001b[0mtexts\u001b[0m\u001b[1;33m,\u001b[0m \u001b[0mwindow_size\u001b[0m\u001b[1;33m)\u001b[0m\u001b[1;33m\u001b[0m\u001b[1;33m\u001b[0m\u001b[0m\n",
      "\u001b[1;32md:\\anaconda3\\lib\\site-packages\\gensim\\topic_coherence\\text_analysis.py\u001b[0m in \u001b[0;36mstart_workers\u001b[1;34m(self, window_size)\u001b[0m\n\u001b[0;32m    469\u001b[0m             \u001b[0maccumulator\u001b[0m \u001b[1;33m=\u001b[0m \u001b[0mPatchedWordOccurrenceAccumulator\u001b[0m\u001b[1;33m(\u001b[0m\u001b[0mself\u001b[0m\u001b[1;33m.\u001b[0m\u001b[0mrelevant_ids\u001b[0m\u001b[1;33m,\u001b[0m \u001b[0mself\u001b[0m\u001b[1;33m.\u001b[0m\u001b[0mdictionary\u001b[0m\u001b[1;33m)\u001b[0m\u001b[1;33m\u001b[0m\u001b[1;33m\u001b[0m\u001b[0m\n\u001b[0;32m    470\u001b[0m             \u001b[0mworker\u001b[0m \u001b[1;33m=\u001b[0m \u001b[0mAccumulatingWorker\u001b[0m\u001b[1;33m(\u001b[0m\u001b[0minput_q\u001b[0m\u001b[1;33m,\u001b[0m \u001b[0moutput_q\u001b[0m\u001b[1;33m,\u001b[0m \u001b[0maccumulator\u001b[0m\u001b[1;33m,\u001b[0m \u001b[0mwindow_size\u001b[0m\u001b[1;33m)\u001b[0m\u001b[1;33m\u001b[0m\u001b[1;33m\u001b[0m\u001b[0m\n\u001b[1;32m--> 471\u001b[1;33m             \u001b[0mworker\u001b[0m\u001b[1;33m.\u001b[0m\u001b[0mstart\u001b[0m\u001b[1;33m(\u001b[0m\u001b[1;33m)\u001b[0m\u001b[1;33m\u001b[0m\u001b[1;33m\u001b[0m\u001b[0m\n\u001b[0m\u001b[0;32m    472\u001b[0m             \u001b[0mworkers\u001b[0m\u001b[1;33m.\u001b[0m\u001b[0mappend\u001b[0m\u001b[1;33m(\u001b[0m\u001b[0mworker\u001b[0m\u001b[1;33m)\u001b[0m\u001b[1;33m\u001b[0m\u001b[1;33m\u001b[0m\u001b[0m\n\u001b[0;32m    473\u001b[0m \u001b[1;33m\u001b[0m\u001b[0m\n",
      "\u001b[1;32md:\\anaconda3\\lib\\multiprocessing\\process.py\u001b[0m in \u001b[0;36mstart\u001b[1;34m(self)\u001b[0m\n\u001b[0;32m    119\u001b[0m                \u001b[1;34m'daemonic processes are not allowed to have children'\u001b[0m\u001b[1;33m\u001b[0m\u001b[1;33m\u001b[0m\u001b[0m\n\u001b[0;32m    120\u001b[0m         \u001b[0m_cleanup\u001b[0m\u001b[1;33m(\u001b[0m\u001b[1;33m)\u001b[0m\u001b[1;33m\u001b[0m\u001b[1;33m\u001b[0m\u001b[0m\n\u001b[1;32m--> 121\u001b[1;33m         \u001b[0mself\u001b[0m\u001b[1;33m.\u001b[0m\u001b[0m_popen\u001b[0m \u001b[1;33m=\u001b[0m \u001b[0mself\u001b[0m\u001b[1;33m.\u001b[0m\u001b[0m_Popen\u001b[0m\u001b[1;33m(\u001b[0m\u001b[0mself\u001b[0m\u001b[1;33m)\u001b[0m\u001b[1;33m\u001b[0m\u001b[1;33m\u001b[0m\u001b[0m\n\u001b[0m\u001b[0;32m    122\u001b[0m         \u001b[0mself\u001b[0m\u001b[1;33m.\u001b[0m\u001b[0m_sentinel\u001b[0m \u001b[1;33m=\u001b[0m \u001b[0mself\u001b[0m\u001b[1;33m.\u001b[0m\u001b[0m_popen\u001b[0m\u001b[1;33m.\u001b[0m\u001b[0msentinel\u001b[0m\u001b[1;33m\u001b[0m\u001b[1;33m\u001b[0m\u001b[0m\n\u001b[0;32m    123\u001b[0m         \u001b[1;31m# Avoid a refcycle if the target function holds an indirect\u001b[0m\u001b[1;33m\u001b[0m\u001b[1;33m\u001b[0m\u001b[0m\n",
      "\u001b[1;32md:\\anaconda3\\lib\\multiprocessing\\context.py\u001b[0m in \u001b[0;36m_Popen\u001b[1;34m(process_obj)\u001b[0m\n\u001b[0;32m    222\u001b[0m     \u001b[1;33m@\u001b[0m\u001b[0mstaticmethod\u001b[0m\u001b[1;33m\u001b[0m\u001b[1;33m\u001b[0m\u001b[0m\n\u001b[0;32m    223\u001b[0m     \u001b[1;32mdef\u001b[0m \u001b[0m_Popen\u001b[0m\u001b[1;33m(\u001b[0m\u001b[0mprocess_obj\u001b[0m\u001b[1;33m)\u001b[0m\u001b[1;33m:\u001b[0m\u001b[1;33m\u001b[0m\u001b[1;33m\u001b[0m\u001b[0m\n\u001b[1;32m--> 224\u001b[1;33m         \u001b[1;32mreturn\u001b[0m \u001b[0m_default_context\u001b[0m\u001b[1;33m.\u001b[0m\u001b[0mget_context\u001b[0m\u001b[1;33m(\u001b[0m\u001b[1;33m)\u001b[0m\u001b[1;33m.\u001b[0m\u001b[0mProcess\u001b[0m\u001b[1;33m.\u001b[0m\u001b[0m_Popen\u001b[0m\u001b[1;33m(\u001b[0m\u001b[0mprocess_obj\u001b[0m\u001b[1;33m)\u001b[0m\u001b[1;33m\u001b[0m\u001b[1;33m\u001b[0m\u001b[0m\n\u001b[0m\u001b[0;32m    225\u001b[0m \u001b[1;33m\u001b[0m\u001b[0m\n\u001b[0;32m    226\u001b[0m \u001b[1;32mclass\u001b[0m \u001b[0mDefaultContext\u001b[0m\u001b[1;33m(\u001b[0m\u001b[0mBaseContext\u001b[0m\u001b[1;33m)\u001b[0m\u001b[1;33m:\u001b[0m\u001b[1;33m\u001b[0m\u001b[1;33m\u001b[0m\u001b[0m\n",
      "\u001b[1;32md:\\anaconda3\\lib\\multiprocessing\\context.py\u001b[0m in \u001b[0;36m_Popen\u001b[1;34m(process_obj)\u001b[0m\n\u001b[0;32m    325\u001b[0m         \u001b[1;32mdef\u001b[0m \u001b[0m_Popen\u001b[0m\u001b[1;33m(\u001b[0m\u001b[0mprocess_obj\u001b[0m\u001b[1;33m)\u001b[0m\u001b[1;33m:\u001b[0m\u001b[1;33m\u001b[0m\u001b[1;33m\u001b[0m\u001b[0m\n\u001b[0;32m    326\u001b[0m             \u001b[1;32mfrom\u001b[0m \u001b[1;33m.\u001b[0m\u001b[0mpopen_spawn_win32\u001b[0m \u001b[1;32mimport\u001b[0m \u001b[0mPopen\u001b[0m\u001b[1;33m\u001b[0m\u001b[1;33m\u001b[0m\u001b[0m\n\u001b[1;32m--> 327\u001b[1;33m             \u001b[1;32mreturn\u001b[0m \u001b[0mPopen\u001b[0m\u001b[1;33m(\u001b[0m\u001b[0mprocess_obj\u001b[0m\u001b[1;33m)\u001b[0m\u001b[1;33m\u001b[0m\u001b[1;33m\u001b[0m\u001b[0m\n\u001b[0m\u001b[0;32m    328\u001b[0m \u001b[1;33m\u001b[0m\u001b[0m\n\u001b[0;32m    329\u001b[0m     \u001b[1;32mclass\u001b[0m \u001b[0mSpawnContext\u001b[0m\u001b[1;33m(\u001b[0m\u001b[0mBaseContext\u001b[0m\u001b[1;33m)\u001b[0m\u001b[1;33m:\u001b[0m\u001b[1;33m\u001b[0m\u001b[1;33m\u001b[0m\u001b[0m\n",
      "\u001b[1;32md:\\anaconda3\\lib\\multiprocessing\\popen_spawn_win32.py\u001b[0m in \u001b[0;36m__init__\u001b[1;34m(self, process_obj)\u001b[0m\n\u001b[0;32m     91\u001b[0m             \u001b[1;32mtry\u001b[0m\u001b[1;33m:\u001b[0m\u001b[1;33m\u001b[0m\u001b[1;33m\u001b[0m\u001b[0m\n\u001b[0;32m     92\u001b[0m                 \u001b[0mreduction\u001b[0m\u001b[1;33m.\u001b[0m\u001b[0mdump\u001b[0m\u001b[1;33m(\u001b[0m\u001b[0mprep_data\u001b[0m\u001b[1;33m,\u001b[0m \u001b[0mto_child\u001b[0m\u001b[1;33m)\u001b[0m\u001b[1;33m\u001b[0m\u001b[1;33m\u001b[0m\u001b[0m\n\u001b[1;32m---> 93\u001b[1;33m                 \u001b[0mreduction\u001b[0m\u001b[1;33m.\u001b[0m\u001b[0mdump\u001b[0m\u001b[1;33m(\u001b[0m\u001b[0mprocess_obj\u001b[0m\u001b[1;33m,\u001b[0m \u001b[0mto_child\u001b[0m\u001b[1;33m)\u001b[0m\u001b[1;33m\u001b[0m\u001b[1;33m\u001b[0m\u001b[0m\n\u001b[0m\u001b[0;32m     94\u001b[0m             \u001b[1;32mfinally\u001b[0m\u001b[1;33m:\u001b[0m\u001b[1;33m\u001b[0m\u001b[1;33m\u001b[0m\u001b[0m\n\u001b[0;32m     95\u001b[0m                 \u001b[0mset_spawning_popen\u001b[0m\u001b[1;33m(\u001b[0m\u001b[1;32mNone\u001b[0m\u001b[1;33m)\u001b[0m\u001b[1;33m\u001b[0m\u001b[1;33m\u001b[0m\u001b[0m\n",
      "\u001b[1;32md:\\anaconda3\\lib\\multiprocessing\\reduction.py\u001b[0m in \u001b[0;36mdump\u001b[1;34m(obj, file, protocol)\u001b[0m\n\u001b[0;32m     58\u001b[0m \u001b[1;32mdef\u001b[0m \u001b[0mdump\u001b[0m\u001b[1;33m(\u001b[0m\u001b[0mobj\u001b[0m\u001b[1;33m,\u001b[0m \u001b[0mfile\u001b[0m\u001b[1;33m,\u001b[0m \u001b[0mprotocol\u001b[0m\u001b[1;33m=\u001b[0m\u001b[1;32mNone\u001b[0m\u001b[1;33m)\u001b[0m\u001b[1;33m:\u001b[0m\u001b[1;33m\u001b[0m\u001b[1;33m\u001b[0m\u001b[0m\n\u001b[0;32m     59\u001b[0m     \u001b[1;34m'''Replacement for pickle.dump() using ForkingPickler.'''\u001b[0m\u001b[1;33m\u001b[0m\u001b[1;33m\u001b[0m\u001b[0m\n\u001b[1;32m---> 60\u001b[1;33m     \u001b[0mForkingPickler\u001b[0m\u001b[1;33m(\u001b[0m\u001b[0mfile\u001b[0m\u001b[1;33m,\u001b[0m \u001b[0mprotocol\u001b[0m\u001b[1;33m)\u001b[0m\u001b[1;33m.\u001b[0m\u001b[0mdump\u001b[0m\u001b[1;33m(\u001b[0m\u001b[0mobj\u001b[0m\u001b[1;33m)\u001b[0m\u001b[1;33m\u001b[0m\u001b[1;33m\u001b[0m\u001b[0m\n\u001b[0m\u001b[0;32m     61\u001b[0m \u001b[1;33m\u001b[0m\u001b[0m\n\u001b[0;32m     62\u001b[0m \u001b[1;31m#\u001b[0m\u001b[1;33m\u001b[0m\u001b[1;33m\u001b[0m\u001b[0m\n",
      "\u001b[1;31mKeyboardInterrupt\u001b[0m: "
     ]
    }
   ],
   "source": [
    "from gensim.models.ldamulticore import LdaMulticore\n",
    "t0 = time.time()\n",
    "\n",
    "topic_num_list = np.arange(2, 10)\n",
    "result = {\"topic_num\":[], \"perplexity\":[], \"pmi\":[]}\n",
    "model_set = dict()\n",
    "\n",
    "\n",
    "for topic_num in topic_num_list:\n",
    "    # perplexity\n",
    "    model = LdaMulticore(\n",
    "        corpus = corpus,\n",
    "        num_topics = topic_num ,\n",
    "        id2word=dictionary,\n",
    "        random_state = 1500,\n",
    "        passes=5 # 訓練次數\n",
    "        )\n",
    "    \n",
    "    loss = model.log_perplexity(corpus)\n",
    "    pmi = CoherenceModel(model=model, texts=docs, coherence='c_npmi').get_coherence()\n",
    "    perplexity = np.exp(-1. * loss)\n",
    "    \n",
    "    # model_set[f'k_{topic_num}'] = model\n",
    "    \n",
    "    result['topic_num'].append(topic_num)\n",
    "    result['perplexity'].append(perplexity)\n",
    "    result['pmi'].append(pmi)\n",
    "    \n",
    "print(f\"花費時間: {time.time() - t0} sec\")"
   ]
  },
  {
   "cell_type": "code",
   "execution_count": null,
   "metadata": {},
   "outputs": [
    {
     "data": {
      "text/html": [
       "<div>\n",
       "<style scoped>\n",
       "    .dataframe tbody tr th:only-of-type {\n",
       "        vertical-align: middle;\n",
       "    }\n",
       "\n",
       "    .dataframe tbody tr th {\n",
       "        vertical-align: top;\n",
       "    }\n",
       "\n",
       "    .dataframe thead th {\n",
       "        text-align: right;\n",
       "    }\n",
       "</style>\n",
       "<table border=\"1\" class=\"dataframe\">\n",
       "  <thead>\n",
       "    <tr style=\"text-align: right;\">\n",
       "      <th></th>\n",
       "      <th>topic_num</th>\n",
       "      <th>perplexity</th>\n",
       "      <th>pmi</th>\n",
       "    </tr>\n",
       "  </thead>\n",
       "  <tbody>\n",
       "    <tr>\n",
       "      <th>0</th>\n",
       "      <td>2</td>\n",
       "      <td>4556.075092</td>\n",
       "      <td>0.044405</td>\n",
       "    </tr>\n",
       "    <tr>\n",
       "      <th>1</th>\n",
       "      <td>3</td>\n",
       "      <td>4300.309075</td>\n",
       "      <td>0.047495</td>\n",
       "    </tr>\n",
       "    <tr>\n",
       "      <th>2</th>\n",
       "      <td>4</td>\n",
       "      <td>4446.248429</td>\n",
       "      <td>0.055452</td>\n",
       "    </tr>\n",
       "    <tr>\n",
       "      <th>3</th>\n",
       "      <td>5</td>\n",
       "      <td>4423.680874</td>\n",
       "      <td>0.053572</td>\n",
       "    </tr>\n",
       "    <tr>\n",
       "      <th>4</th>\n",
       "      <td>6</td>\n",
       "      <td>4240.490280</td>\n",
       "      <td>0.056774</td>\n",
       "    </tr>\n",
       "    <tr>\n",
       "      <th>5</th>\n",
       "      <td>7</td>\n",
       "      <td>4022.200944</td>\n",
       "      <td>0.045698</td>\n",
       "    </tr>\n",
       "    <tr>\n",
       "      <th>6</th>\n",
       "      <td>8</td>\n",
       "      <td>4094.070114</td>\n",
       "      <td>0.024802</td>\n",
       "    </tr>\n",
       "    <tr>\n",
       "      <th>7</th>\n",
       "      <td>9</td>\n",
       "      <td>4242.770145</td>\n",
       "      <td>0.036930</td>\n",
       "    </tr>\n",
       "  </tbody>\n",
       "</table>\n",
       "</div>"
      ],
      "text/plain": [
       "   topic_num   perplexity       pmi\n",
       "0          2  4556.075092  0.044405\n",
       "1          3  4300.309075  0.047495\n",
       "2          4  4446.248429  0.055452\n",
       "3          5  4423.680874  0.053572\n",
       "4          6  4240.490280  0.056774\n",
       "5          7  4022.200944  0.045698\n",
       "6          8  4094.070114  0.024802\n",
       "7          9  4242.770145  0.036930"
      ]
     },
     "execution_count": 23,
     "metadata": {},
     "output_type": "execute_result"
    }
   ],
   "source": [
    "result = pd.DataFrame(result)\n",
    "result"
   ]
  },
  {
   "cell_type": "code",
   "execution_count": null,
   "metadata": {},
   "outputs": [
    {
     "data": {
      "text/plain": [
       "<AxesSubplot:xlabel='topic_num'>"
      ]
     },
     "execution_count": 24,
     "metadata": {},
     "output_type": "execute_result"
    },
    {
     "data": {
      "image/png": "[encoded data removed]",
      "text/plain": [
       "<Figure size 432x288 with 1 Axes>"
      ]
     },
     "metadata": {
      "needs_background": "light"
     },
     "output_type": "display_data"
    }
   ],
   "source": [
    "result.plot.line(x='topic_num', y='perplexity')"
   ]
  },
  {
   "cell_type": "code",
   "execution_count": null,
   "metadata": {},
   "outputs": [
    {
     "data": {
      "text/plain": [
       "<AxesSubplot:xlabel='topic_num'>"
      ]
     },
     "execution_count": 25,
     "metadata": {},
     "output_type": "execute_result"
    },
    {
     "data": {
      "image/png": "[encoded data removed]",
      "text/plain": [
       "<Figure size 432x288 with 1 Axes>"
      ]
     },
     "metadata": {
      "needs_background": "light"
     },
     "output_type": "display_data"
    }
   ],
   "source": [
    "result.plot.line(x='topic_num', y='pmi')"
   ]
  },
  {
   "attachments": {},
   "cell_type": "markdown",
   "metadata": {},
   "source": [
    "就訓練結果來看，perplexity 7是最低，coherence 最高則是 6"
   ]
  },
  {
   "attachments": {},
   "cell_type": "markdown",
   "metadata": {},
   "source": [
    "## 5. 視覺化呈現\n",
    "\n",
    "**5.1 產生 LDAvis 結果**\n",
    "\n",
    "LDAvis 是我們經常會使用的視覺化工具，目的為幫助我們解釋主題模型中，在我們建構好主題模型得到 θ(文件的主題分佈) 跟 φ(主題的字分佈)，透過 pyLDAvis 將主題降維成二維，以網頁的形式供我們查看。\n",
    "\n",
    "+ 四個主題數，因此有四個圈圈\n",
    "+ 圓越大代表 document 越大\n",
    "+ 右邊可以看到主題的字分佈\n",
    "+ 右上幫有一個 bar 調整 lambda：當 lambda=1 也就是代表本來的字分佈 φ，將 lambda 縮越小可以看到越唯一的字，好的分佈是 φ 高且唯一，因此我們要在這兩者間取平衡\n",
    "+ 圓心越相近，代表主題會越相似；反之，圓心分越開代表主題有唯一性<br>\n",
    "  --> 假設詞彙本來有 100 字，維度應該是 100，假如本來維度接近(相近)的話，降維後也會接近(相近)\n",
    "\n",
    "以下用主題數 8 來做 LDAvis 的結果範例"
   ]
  },
  {
   "cell_type": "code",
   "execution_count": null,
   "metadata": {},
   "outputs": [
    {
     "name": "stderr",
     "output_type": "stream",
     "text": [
      "2023-05-08 17:39:02,771 : INFO : using symmetric alpha at 0.14285714285714285\n",
      "2023-05-08 17:39:02,773 : INFO : using symmetric eta at 0.14285714285714285\n",
      "2023-05-08 17:39:02,775 : INFO : using serial LDA version on this node\n",
      "2023-05-08 17:39:02,784 : INFO : running online (multi-pass) LDA training, 7 topics, 5 passes over the supplied corpus of 4098 documents, updating model once every 2000 documents, evaluating perplexity every 4098 documents, iterating 50x with a convergence threshold of 0.001000\n",
      "2023-05-08 17:39:02,786 : INFO : PROGRESS: pass 0, at document #2000/4098\n",
      "2023-05-08 17:39:03,899 : INFO : merging changes from 2000 documents into a model of 4098 documents\n",
      "2023-05-08 17:39:03,907 : INFO : topic #6 (0.143): 0.006*\"網友\" + 0.006*\"表示\" + 0.004*\"兩人\" + 0.004*\"已經\" + 0.003*\"影片\" + 0.003*\"目前\" + 0.003*\"小姐\" + 0.003*\"當時\" + 0.003*\"相當\" + 0.003*\"時間\"\n",
      "2023-05-08 17:39:03,910 : INFO : topic #1 (0.143): 0.010*\"表示\" + 0.008*\"網友\" + 0.004*\"粉絲\" + 0.004*\"影片\" + 0.004*\"孩子\" + 0.004*\"相當\" + 0.003*\"看到\" + 0.003*\"真的\" + 0.003*\"報導\" + 0.003*\"一起\"\n",
      "2023-05-08 17:39:03,911 : INFO : topic #4 (0.143): 0.010*\"表示\" + 0.004*\"已經\" + 0.004*\"網友\" + 0.003*\"孩子\" + 0.003*\"烏克蘭\" + 0.003*\"直播\" + 0.003*\"粉絲\" + 0.003*\"真的\" + 0.003*\"報導\" + 0.003*\"消息\"\n",
      "2023-05-08 17:39:03,912 : INFO : topic #5 (0.143): 0.008*\"表示\" + 0.004*\"網友\" + 0.004*\"相當\" + 0.003*\"俄羅斯\" + 0.003*\"中國\" + 0.003*\"已經\" + 0.003*\"影片\" + 0.003*\"孩子\" + 0.003*\"烏克蘭\" + 0.003*\"報導\"\n",
      "2023-05-08 17:39:03,914 : INFO : topic #0 (0.143): 0.007*\"表示\" + 0.005*\"台灣\" + 0.004*\"透露\" + 0.003*\"影片\" + 0.003*\"發生\" + 0.003*\"網友\" + 0.003*\"兩人\" + 0.003*\"工作\" + 0.003*\"粉絲\" + 0.003*\"知道\"\n",
      "2023-05-08 17:39:03,915 : INFO : topic diff=2.239391, rho=1.000000\n",
      "2023-05-08 17:39:03,918 : INFO : PROGRESS: pass 0, at document #4000/4098\n",
      "2023-05-08 17:39:05,008 : INFO : merging changes from 2000 documents into a model of 4098 documents\n",
      "2023-05-08 17:39:05,013 : INFO : topic #2 (0.143): 0.009*\"台灣\" + 0.006*\"表示\" + 0.006*\"美國\" + 0.005*\"比賽\" + 0.005*\"今天\" + 0.005*\"經典\" + 0.004*\"高中\" + 0.003*\"拿下\" + 0.003*\"世界\" + 0.003*\"最後\"\n",
      "2023-05-08 17:39:05,013 : INFO : topic #0 (0.143): 0.010*\"台灣\" + 0.007*\"球員\" + 0.006*\"日本\" + 0.005*\"表示\" + 0.004*\"巴拿馬\" + 0.004*\"發生\" + 0.004*\"聯盟\" + 0.004*\"球迷\" + 0.004*\"比賽\" + 0.003*\"經典\"\n",
      "2023-05-08 17:39:05,014 : INFO : topic #4 (0.143): 0.009*\"表示\" + 0.005*\"霍華德\" + 0.004*\"已經\" + 0.004*\"烏克蘭\" + 0.004*\"魔獸\" + 0.004*\"日本隊\" + 0.003*\"台灣\" + 0.003*\"報導\" + 0.003*\"一名\" + 0.003*\"日本\"\n",
      "2023-05-08 17:39:05,015 : INFO : topic #1 (0.143): 0.011*\"中華隊\" + 0.007*\"球員\" + 0.007*\"表示\" + 0.007*\"經典\" + 0.006*\"比賽\" + 0.006*\"投手\" + 0.005*\"今天\" + 0.005*\"網友\" + 0.004*\"台灣\" + 0.003*\"朋友\"\n",
      "2023-05-08 17:39:05,016 : INFO : topic #3 (0.143): 0.005*\"表示\" + 0.005*\"球員\" + 0.004*\"網友\" + 0.004*\"烏克蘭\" + 0.004*\"日本\" + 0.003*\"影片\" + 0.003*\"指出\" + 0.003*\"透露\" + 0.003*\"美國\" + 0.003*\"台灣\"\n",
      "2023-05-08 17:39:05,016 : INFO : topic diff=1.181845, rho=0.707107\n",
      "2023-05-08 17:39:05,113 : INFO : -9.227 per-word bound, 599.3 perplexity estimate based on a held-out corpus of 98 documents with 15089 words\n",
      "2023-05-08 17:39:05,115 : INFO : PROGRESS: pass 0, at document #4098/4098\n",
      "2023-05-08 17:39:05,167 : INFO : merging changes from 98 documents into a model of 4098 documents\n",
      "2023-05-08 17:39:05,171 : INFO : topic #6 (0.143): 0.007*\"首輪\" + 0.007*\"落後\" + 0.007*\"比比\" + 0.006*\"三分\" + 0.006*\"賽事\" + 0.006*\"晉級\" + 0.005*\"世界\" + 0.005*\"球迷\" + 0.005*\"日本\" + 0.005*\"公開賽\"\n",
      "2023-05-08 17:39:05,172 : INFO : topic #1 (0.143): 0.010*\"育成\" + 0.009*\"投手\" + 0.009*\"比賽\" + 0.008*\"經典\" + 0.008*\"球員\" + 0.007*\"球迷\" + 0.006*\"今天\" + 0.006*\"大谷\" + 0.006*\"表示\" + 0.005*\"敲出\"\n",
      "2023-05-08 17:39:05,173 : INFO : topic #5 (0.143): 0.010*\"球迷\" + 0.008*\"中國\" + 0.008*\"比賽\" + 0.007*\"世界盃\" + 0.006*\"表示\" + 0.006*\"台灣\" + 0.005*\"棒球\" + 0.005*\"賽事\" + 0.005*\"世界\" + 0.004*\"俄羅斯\"\n",
      "2023-05-08 17:39:05,174 : INFO : topic #4 (0.143): 0.008*\"表示\" + 0.007*\"霍華德\" + 0.007*\"大谷\" + 0.007*\"日本隊\" + 0.004*\"已經\" + 0.004*\"魔獸\" + 0.004*\"奧運\" + 0.004*\"日本\" + 0.004*\"雲豹\" + 0.003*\"台灣\"\n",
      "2023-05-08 17:39:05,174 : INFO : topic #2 (0.143): 0.011*\"台灣\" + 0.008*\"今天\" + 0.008*\"比賽\" + 0.007*\"拿下\" + 0.006*\"本季\" + 0.006*\"聯盟\" + 0.005*\"美國\" + 0.005*\"選手\" + 0.005*\"世界\" + 0.005*\"表示\"\n",
      "2023-05-08 17:39:05,175 : INFO : topic diff=1.056273, rho=0.577350\n",
      "2023-05-08 17:39:05,176 : INFO : PROGRESS: pass 1, at document #2000/4098\n",
      "2023-05-08 17:39:06,129 : INFO : merging changes from 2000 documents into a model of 4098 documents\n",
      "2023-05-08 17:39:06,134 : INFO : topic #4 (0.143): 0.010*\"表示\" + 0.004*\"孩子\" + 0.004*\"已經\" + 0.004*\"網友\" + 0.003*\"報導\" + 0.003*\"消息\" + 0.003*\"發現\" + 0.003*\"直播\" + 0.003*\"一名\" + 0.003*\"目前\"\n",
      "2023-05-08 17:39:06,135 : INFO : topic #6 (0.143): 0.005*\"日本\" + 0.004*\"首輪\" + 0.004*\"比比\" + 0.004*\"落後\" + 0.004*\"表示\" + 0.004*\"三分\" + 0.004*\"賽事\" + 0.004*\"世界\" + 0.004*\"球迷\" + 0.003*\"晉級\"\n",
      "2023-05-08 17:39:06,136 : INFO : topic #0 (0.143): 0.041*\"大谷\" + 0.020*\"日本\" + 0.018*\"翔平\" + 0.014*\"日本隊\" + 0.008*\"台灣\" + 0.007*\"球迷\" + 0.007*\"球員\" + 0.006*\"聯盟\" + 0.006*\"經典\" + 0.006*\"美國\"\n",
      "2023-05-08 17:39:06,137 : INFO : topic #2 (0.143): 0.011*\"台灣\" + 0.008*\"今天\" + 0.007*\"比賽\" + 0.007*\"拿下\" + 0.006*\"本季\" + 0.006*\"聯盟\" + 0.006*\"美國\" + 0.005*\"選手\" + 0.005*\"世界\" + 0.005*\"表示\"\n",
      "2023-05-08 17:39:06,137 : INFO : topic #1 (0.143): 0.009*\"育成\" + 0.008*\"投手\" + 0.008*\"比賽\" + 0.008*\"經典\" + 0.007*\"球員\" + 0.007*\"球迷\" + 0.006*\"表示\" + 0.006*\"今天\" + 0.006*\"大谷\" + 0.004*\"日本\"\n",
      "2023-05-08 17:39:06,138 : INFO : topic diff=0.676263, rho=0.496965\n",
      "2023-05-08 17:39:06,138 : INFO : PROGRESS: pass 1, at document #4000/4098\n",
      "2023-05-08 17:39:07,026 : INFO : merging changes from 2000 documents into a model of 4098 documents\n",
      "2023-05-08 17:39:07,031 : INFO : topic #1 (0.143): 0.013*\"中華隊\" + 0.012*\"經典\" + 0.012*\"球員\" + 0.010*\"球迷\" + 0.010*\"比賽\" + 0.009*\"投手\" + 0.008*\"育成\" + 0.006*\"棒球\" + 0.006*\"今天\" + 0.005*\"表示\"\n",
      "2023-05-08 17:39:07,032 : INFO : topic #6 (0.143): 0.009*\"東森\" + 0.006*\"賽事\" + 0.006*\"晉級\" + 0.005*\"新聞\" + 0.005*\"世界\" + 0.005*\"棒球\" + 0.005*\"日本\" + 0.004*\"球迷\" + 0.004*\"比比\" + 0.004*\"西亞\"\n",
      "2023-05-08 17:39:07,033 : INFO : topic #2 (0.143): 0.011*\"台灣\" + 0.009*\"比賽\" + 0.009*\"今天\" + 0.007*\"拿下\" + 0.007*\"選手\" + 0.006*\"世界\" + 0.006*\"對手\" + 0.005*\"高中\" + 0.005*\"聯盟\" + 0.005*\"領先\"\n",
      "2023-05-08 17:39:07,034 : INFO : topic #4 (0.143): 0.009*\"表示\" + 0.005*\"孩子\" + 0.004*\"報導\" + 0.004*\"已經\" + 0.004*\"一名\" + 0.004*\"霍華德\" + 0.004*\"發現\" + 0.003*\"網友\" + 0.003*\"發生\" + 0.003*\"大陸\"\n",
      "2023-05-08 17:39:07,034 : INFO : topic #5 (0.143): 0.011*\"烏克蘭\" + 0.009*\"中國\" + 0.009*\"俄羅斯\" + 0.008*\"台灣\" + 0.008*\"美國\" + 0.008*\"表示\" + 0.006*\"世界盃\" + 0.005*\"國家\" + 0.005*\"總統\" + 0.004*\"報導\"\n",
      "2023-05-08 17:39:07,035 : INFO : topic diff=0.779244, rho=0.496965\n",
      "2023-05-08 17:39:07,105 : INFO : -7.718 per-word bound, 210.6 perplexity estimate based on a held-out corpus of 98 documents with 15089 words\n",
      "2023-05-08 17:39:07,106 : INFO : PROGRESS: pass 1, at document #4098/4098\n",
      "2023-05-08 17:39:07,144 : INFO : merging changes from 98 documents into a model of 4098 documents\n",
      "2023-05-08 17:39:07,148 : INFO : topic #1 (0.143): 0.014*\"育成\" + 0.010*\"投手\" + 0.010*\"球迷\" + 0.009*\"比賽\" + 0.009*\"球員\" + 0.009*\"經典\" + 0.006*\"今天\" + 0.006*\"全壘打\" + 0.006*\"敲出\" + 0.006*\"聯盟\"\n",
      "2023-05-08 17:39:07,149 : INFO : topic #0 (0.143): 0.051*\"大谷\" + 0.029*\"日本\" + 0.021*\"翔平\" + 0.017*\"日本隊\" + 0.011*\"經典\" + 0.009*\"美國\" + 0.008*\"球迷\" + 0.008*\"冠軍\" + 0.007*\"墨西哥\" + 0.007*\"球員\"\n",
      "2023-05-08 17:39:07,150 : INFO : topic #6 (0.143): 0.012*\"比比\" + 0.010*\"晉級\" + 0.009*\"東森\" + 0.006*\"賽事\" + 0.005*\"瑞士\" + 0.005*\"新聞\" + 0.005*\"世界\" + 0.005*\"首輪\" + 0.005*\"男單\" + 0.004*\"棒球\"\n",
      "2023-05-08 17:39:07,151 : INFO : topic #3 (0.143): 0.008*\"網友\" + 0.006*\"表示\" + 0.005*\"影片\" + 0.004*\"透露\" + 0.003*\"兩人\" + 0.003*\"真的\" + 0.003*\"一名\" + 0.003*\"粉絲\" + 0.003*\"發現\" + 0.003*\"已經\"\n",
      "2023-05-08 17:39:07,152 : INFO : topic #4 (0.143): 0.009*\"表示\" + 0.006*\"霍華德\" + 0.005*\"已經\" + 0.004*\"孩子\" + 0.004*\"報導\" + 0.004*\"一名\" + 0.003*\"發現\" + 0.003*\"網友\" + 0.003*\"魔獸\" + 0.003*\"爸爸\"\n",
      "2023-05-08 17:39:07,152 : INFO : topic diff=0.764020, rho=0.496965\n",
      "2023-05-08 17:39:07,154 : INFO : PROGRESS: pass 2, at document #2000/4098\n",
      "2023-05-08 17:39:07,939 : INFO : merging changes from 2000 documents into a model of 4098 documents\n",
      "2023-05-08 17:39:07,943 : INFO : topic #3 (0.143): 0.008*\"網友\" + 0.007*\"表示\" + 0.005*\"影片\" + 0.004*\"兩人\" + 0.004*\"粉絲\" + 0.004*\"透露\" + 0.004*\"真的\" + 0.003*\"相當\" + 0.003*\"節目\" + 0.003*\"對方\"\n",
      "2023-05-08 17:39:07,943 : INFO : topic #1 (0.143): 0.013*\"育成\" + 0.010*\"投手\" + 0.010*\"球迷\" + 0.009*\"比賽\" + 0.009*\"經典\" + 0.008*\"球員\" + 0.006*\"今天\" + 0.006*\"全壘打\" + 0.005*\"聯盟\" + 0.005*\"敲出\"\n",
      "2023-05-08 17:39:07,944 : INFO : topic #2 (0.143): 0.011*\"台灣\" + 0.009*\"今天\" + 0.009*\"比賽\" + 0.008*\"拿下\" + 0.007*\"選手\" + 0.007*\"世界\" + 0.006*\"對手\" + 0.006*\"聯盟\" + 0.005*\"羽球\" + 0.005*\"領先\"\n",
      "2023-05-08 17:39:07,945 : INFO : topic #5 (0.143): 0.015*\"烏克蘭\" + 0.011*\"俄羅斯\" + 0.011*\"中國\" + 0.009*\"表示\" + 0.008*\"美國\" + 0.008*\"台灣\" + 0.007*\"總統\" + 0.006*\"國家\" + 0.005*\"報導\" + 0.004*\"今天\"\n",
      "2023-05-08 17:39:07,946 : INFO : topic #0 (0.143): 0.049*\"大谷\" + 0.030*\"日本\" + 0.021*\"翔平\" + 0.017*\"日本隊\" + 0.011*\"經典\" + 0.009*\"美國\" + 0.008*\"球迷\" + 0.008*\"冠軍\" + 0.007*\"墨西哥\" + 0.007*\"球員\"\n",
      "2023-05-08 17:39:07,946 : INFO : topic diff=0.466271, rho=0.445038\n",
      "2023-05-08 17:39:07,947 : INFO : PROGRESS: pass 2, at document #4000/4098\n",
      "2023-05-08 17:39:08,725 : INFO : merging changes from 2000 documents into a model of 4098 documents\n",
      "2023-05-08 17:39:08,729 : INFO : topic #6 (0.143): 0.014*\"東森\" + 0.009*\"新聞\" + 0.008*\"賽事\" + 0.008*\"晉級\" + 0.006*\"棒球\" + 0.006*\"西亞\" + 0.006*\"世界\" + 0.005*\"日本\" + 0.005*\"比比\" + 0.005*\"東京\"\n",
      "2023-05-08 17:39:08,730 : INFO : topic #3 (0.143): 0.009*\"網友\" + 0.007*\"表示\" + 0.005*\"影片\" + 0.004*\"兩人\" + 0.004*\"粉絲\" + 0.004*\"透露\" + 0.004*\"真的\" + 0.003*\"相當\" + 0.003*\"已經\" + 0.003*\"對方\"\n",
      "2023-05-08 17:39:08,730 : INFO : topic #0 (0.143): 0.040*\"大谷\" + 0.034*\"日本\" + 0.018*\"翔平\" + 0.018*\"日本隊\" + 0.013*\"經典\" + 0.009*\"美國\" + 0.008*\"球迷\" + 0.008*\"球員\" + 0.007*\"冠軍\" + 0.007*\"棒球\"\n",
      "2023-05-08 17:39:08,731 : INFO : topic #4 (0.143): 0.009*\"表示\" + 0.005*\"孩子\" + 0.005*\"報導\" + 0.005*\"一名\" + 0.004*\"已經\" + 0.004*\"發現\" + 0.004*\"發生\" + 0.004*\"霍華德\" + 0.003*\"醫院\" + 0.003*\"目前\"\n",
      "2023-05-08 17:39:08,732 : INFO : topic #1 (0.143): 0.013*\"中華隊\" + 0.013*\"經典\" + 0.012*\"球員\" + 0.012*\"球迷\" + 0.010*\"比賽\" + 0.010*\"投手\" + 0.010*\"育成\" + 0.007*\"棒球\" + 0.006*\"今天\" + 0.006*\"聯盟\"\n",
      "2023-05-08 17:39:08,732 : INFO : topic diff=0.580826, rho=0.445038\n",
      "2023-05-08 17:39:08,794 : INFO : -7.462 per-word bound, 176.3 perplexity estimate based on a held-out corpus of 98 documents with 15089 words\n",
      "2023-05-08 17:39:08,795 : INFO : PROGRESS: pass 2, at document #4098/4098\n",
      "2023-05-08 17:39:08,823 : INFO : merging changes from 98 documents into a model of 4098 documents\n",
      "2023-05-08 17:39:08,828 : INFO : topic #2 (0.143): 0.011*\"台灣\" + 0.010*\"今天\" + 0.009*\"比賽\" + 0.008*\"拿下\" + 0.007*\"選手\" + 0.007*\"世界\" + 0.006*\"對手\" + 0.005*\"羽球\" + 0.005*\"賽事\" + 0.005*\"領先\"\n",
      "2023-05-08 17:39:08,829 : INFO : topic #6 (0.143): 0.013*\"比比\" + 0.013*\"東森\" + 0.009*\"晉級\" + 0.008*\"新聞\" + 0.007*\"賽事\" + 0.007*\"世界排名\" + 0.006*\"棒球\" + 0.006*\"世界\" + 0.005*\"西亞\" + 0.005*\"日本\"\n",
      "2023-05-08 17:39:08,829 : INFO : topic #3 (0.143): 0.008*\"網友\" + 0.007*\"表示\" + 0.005*\"影片\" + 0.004*\"兩人\" + 0.004*\"粉絲\" + 0.004*\"透露\" + 0.004*\"真的\" + 0.003*\"相當\" + 0.003*\"已經\" + 0.003*\"對方\"\n",
      "2023-05-08 17:39:08,830 : INFO : topic #0 (0.143): 0.049*\"大谷\" + 0.029*\"日本\" + 0.020*\"翔平\" + 0.016*\"日本隊\" + 0.014*\"經典\" + 0.010*\"美國\" + 0.010*\"冠軍\" + 0.008*\"球迷\" + 0.008*\"墨西哥\" + 0.007*\"棒球\"\n",
      "2023-05-08 17:39:08,831 : INFO : topic #4 (0.143): 0.009*\"表示\" + 0.005*\"已經\" + 0.005*\"報導\" + 0.005*\"孩子\" + 0.004*\"一名\" + 0.004*\"霍華德\" + 0.004*\"發生\" + 0.004*\"發現\" + 0.003*\"醫院\" + 0.003*\"目前\"\n",
      "2023-05-08 17:39:08,831 : INFO : topic diff=0.585330, rho=0.445038\n",
      "2023-05-08 17:39:08,832 : INFO : PROGRESS: pass 3, at document #2000/4098\n",
      "2023-05-08 17:39:09,523 : INFO : merging changes from 2000 documents into a model of 4098 documents\n",
      "2023-05-08 17:39:09,527 : INFO : topic #2 (0.143): 0.011*\"台灣\" + 0.009*\"今天\" + 0.009*\"比賽\" + 0.008*\"拿下\" + 0.007*\"選手\" + 0.007*\"世界\" + 0.006*\"對手\" + 0.005*\"羽球\" + 0.005*\"賽事\" + 0.005*\"領先\"\n",
      "2023-05-08 17:39:09,528 : INFO : topic #4 (0.143): 0.009*\"表示\" + 0.005*\"孩子\" + 0.005*\"已經\" + 0.005*\"報導\" + 0.004*\"一名\" + 0.004*\"發生\" + 0.004*\"發現\" + 0.004*\"目前\" + 0.004*\"醫院\" + 0.003*\"消息\"\n",
      "2023-05-08 17:39:09,529 : INFO : topic #3 (0.143): 0.008*\"網友\" + 0.007*\"表示\" + 0.005*\"影片\" + 0.004*\"兩人\" + 0.004*\"粉絲\" + 0.004*\"透露\" + 0.004*\"真的\" + 0.003*\"相當\" + 0.003*\"節目\" + 0.003*\"對方\"\n",
      "2023-05-08 17:39:09,530 : INFO : topic #1 (0.143): 0.015*\"育成\" + 0.011*\"投手\" + 0.010*\"球迷\" + 0.010*\"比賽\" + 0.009*\"球員\" + 0.008*\"經典\" + 0.007*\"聯盟\" + 0.007*\"今天\" + 0.006*\"全壘打\" + 0.006*\"中華隊\"\n",
      "2023-05-08 17:39:09,530 : INFO : topic #6 (0.143): 0.011*\"東森\" + 0.009*\"比比\" + 0.007*\"新聞\" + 0.007*\"日本\" + 0.006*\"晉級\" + 0.006*\"賽事\" + 0.005*\"世界排名\" + 0.005*\"棒球\" + 0.005*\"安倍\" + 0.004*\"世界\"\n",
      "2023-05-08 17:39:09,531 : INFO : topic diff=0.370764, rho=0.406591\n",
      "2023-05-08 17:39:09,532 : INFO : PROGRESS: pass 3, at document #4000/4098\n",
      "2023-05-08 17:39:10,252 : INFO : merging changes from 2000 documents into a model of 4098 documents\n",
      "2023-05-08 17:39:10,256 : INFO : topic #3 (0.143): 0.009*\"網友\" + 0.007*\"表示\" + 0.005*\"影片\" + 0.004*\"兩人\" + 0.004*\"粉絲\" + 0.004*\"真的\" + 0.004*\"透露\" + 0.003*\"相當\" + 0.003*\"已經\" + 0.003*\"對方\"\n",
      "2023-05-08 17:39:10,257 : INFO : topic #4 (0.143): 0.009*\"表示\" + 0.005*\"一名\" + 0.005*\"報導\" + 0.005*\"孩子\" + 0.005*\"發生\" + 0.005*\"發現\" + 0.004*\"已經\" + 0.004*\"醫院\" + 0.004*\"目前\" + 0.003*\"警方\"\n",
      "2023-05-08 17:39:10,257 : INFO : topic #1 (0.143): 0.013*\"中華隊\" + 0.013*\"球迷\" + 0.013*\"球員\" + 0.012*\"經典\" + 0.011*\"育成\" + 0.011*\"投手\" + 0.011*\"比賽\" + 0.007*\"聯盟\" + 0.007*\"棒球\" + 0.006*\"今天\"\n",
      "2023-05-08 17:39:10,258 : INFO : topic #5 (0.143): 0.013*\"烏克蘭\" + 0.010*\"中國\" + 0.010*\"俄羅斯\" + 0.010*\"美國\" + 0.009*\"台灣\" + 0.009*\"表示\" + 0.006*\"國家\" + 0.006*\"總統\" + 0.005*\"報導\" + 0.005*\"今天\"\n",
      "2023-05-08 17:39:10,259 : INFO : topic #2 (0.143): 0.010*\"台灣\" + 0.010*\"比賽\" + 0.009*\"今天\" + 0.008*\"拿下\" + 0.008*\"選手\" + 0.007*\"世界盃\" + 0.007*\"世界\" + 0.006*\"對手\" + 0.006*\"高中\" + 0.005*\"以比\"\n",
      "2023-05-08 17:39:10,259 : INFO : topic diff=0.421959, rho=0.406591\n",
      "2023-05-08 17:39:10,326 : INFO : -7.360 per-word bound, 164.3 perplexity estimate based on a held-out corpus of 98 documents with 15089 words\n",
      "2023-05-08 17:39:10,327 : INFO : PROGRESS: pass 3, at document #4098/4098\n",
      "2023-05-08 17:39:10,354 : INFO : merging changes from 98 documents into a model of 4098 documents\n",
      "2023-05-08 17:39:10,358 : INFO : topic #4 (0.143): 0.009*\"表示\" + 0.005*\"報導\" + 0.005*\"一名\" + 0.005*\"已經\" + 0.005*\"孩子\" + 0.005*\"發生\" + 0.004*\"發現\" + 0.004*\"醫院\" + 0.004*\"目前\" + 0.004*\"霍華德\"\n",
      "2023-05-08 17:39:10,359 : INFO : topic #3 (0.143): 0.009*\"網友\" + 0.007*\"表示\" + 0.005*\"影片\" + 0.004*\"兩人\" + 0.004*\"粉絲\" + 0.004*\"真的\" + 0.004*\"透露\" + 0.003*\"相當\" + 0.003*\"已經\" + 0.003*\"對方\"\n",
      "2023-05-08 17:39:10,360 : INFO : topic #1 (0.143): 0.016*\"育成\" + 0.012*\"投手\" + 0.011*\"球迷\" + 0.010*\"比賽\" + 0.009*\"球員\" + 0.008*\"聯盟\" + 0.007*\"經典\" + 0.007*\"今天\" + 0.007*\"全壘打\" + 0.006*\"中華隊\"\n",
      "2023-05-08 17:39:10,361 : INFO : topic #5 (0.143): 0.012*\"中國\" + 0.012*\"烏克蘭\" + 0.009*\"俄羅斯\" + 0.009*\"表示\" + 0.009*\"美國\" + 0.009*\"台灣\" + 0.007*\"總統\" + 0.006*\"國家\" + 0.006*\"報導\" + 0.005*\"今天\"\n",
      "2023-05-08 17:39:10,361 : INFO : topic #6 (0.143): 0.015*\"東森\" + 0.013*\"比比\" + 0.009*\"新聞\" + 0.008*\"賽事\" + 0.008*\"棒球\" + 0.006*\"日本\" + 0.006*\"西亞\" + 0.006*\"世界\" + 0.006*\"追蹤\" + 0.006*\"世界排名\"\n",
      "2023-05-08 17:39:10,362 : INFO : topic diff=0.460992, rho=0.406591\n",
      "2023-05-08 17:39:10,363 : INFO : PROGRESS: pass 4, at document #2000/4098\n",
      "2023-05-08 17:39:10,991 : INFO : merging changes from 2000 documents into a model of 4098 documents\n",
      "2023-05-08 17:39:10,995 : INFO : topic #2 (0.143): 0.010*\"台灣\" + 0.009*\"今天\" + 0.009*\"比賽\" + 0.008*\"拿下\" + 0.007*\"選手\" + 0.007*\"世界\" + 0.006*\"對手\" + 0.005*\"羽球\" + 0.005*\"賽事\" + 0.005*\"領先\"\n",
      "2023-05-08 17:39:10,996 : INFO : topic #3 (0.143): 0.008*\"網友\" + 0.007*\"表示\" + 0.005*\"影片\" + 0.004*\"粉絲\" + 0.004*\"兩人\" + 0.004*\"透露\" + 0.004*\"真的\" + 0.003*\"相當\" + 0.003*\"節目\" + 0.003*\"對方\"\n",
      "2023-05-08 17:39:10,997 : INFO : topic #1 (0.143): 0.016*\"育成\" + 0.011*\"投手\" + 0.011*\"球迷\" + 0.010*\"比賽\" + 0.009*\"球員\" + 0.007*\"經典\" + 0.007*\"聯盟\" + 0.007*\"今天\" + 0.007*\"全壘打\" + 0.006*\"中華隊\"\n",
      "2023-05-08 17:39:10,998 : INFO : topic #5 (0.143): 0.016*\"烏克蘭\" + 0.011*\"俄羅斯\" + 0.011*\"中國\" + 0.009*\"表示\" + 0.009*\"美國\" + 0.009*\"台灣\" + 0.007*\"總統\" + 0.006*\"國家\" + 0.006*\"報導\" + 0.005*\"今天\"\n",
      "2023-05-08 17:39:10,998 : INFO : topic #0 (0.143): 0.046*\"大谷\" + 0.029*\"日本\" + 0.019*\"翔平\" + 0.016*\"經典\" + 0.015*\"日本隊\" + 0.010*\"美國\" + 0.010*\"冠軍\" + 0.008*\"球迷\" + 0.008*\"墨西哥\" + 0.007*\"棒球\"\n",
      "2023-05-08 17:39:10,999 : INFO : topic diff=0.328754, rho=0.376649\n",
      "2023-05-08 17:39:11,000 : INFO : PROGRESS: pass 4, at document #4000/4098\n",
      "2023-05-08 17:39:11,670 : INFO : merging changes from 2000 documents into a model of 4098 documents\n",
      "2023-05-08 17:39:11,674 : INFO : topic #0 (0.143): 0.040*\"大谷\" + 0.032*\"日本\" + 0.018*\"經典\" + 0.017*\"翔平\" + 0.016*\"日本隊\" + 0.010*\"美國\" + 0.009*\"冠軍\" + 0.009*\"球迷\" + 0.008*\"棒球\" + 0.008*\"墨西哥\"\n",
      "2023-05-08 17:39:11,675 : INFO : topic #1 (0.143): 0.013*\"中華隊\" + 0.013*\"球迷\" + 0.013*\"球員\" + 0.012*\"育成\" + 0.012*\"投手\" + 0.011*\"經典\" + 0.011*\"比賽\" + 0.008*\"聯盟\" + 0.007*\"今天\" + 0.007*\"台灣\"\n",
      "2023-05-08 17:39:11,676 : INFO : topic #3 (0.143): 0.009*\"網友\" + 0.007*\"表示\" + 0.005*\"影片\" + 0.004*\"兩人\" + 0.004*\"粉絲\" + 0.004*\"真的\" + 0.004*\"透露\" + 0.003*\"相當\" + 0.003*\"已經\" + 0.003*\"對方\"\n",
      "2023-05-08 17:39:11,677 : INFO : topic #5 (0.143): 0.014*\"烏克蘭\" + 0.011*\"中國\" + 0.010*\"俄羅斯\" + 0.010*\"美國\" + 0.009*\"台灣\" + 0.009*\"表示\" + 0.006*\"國家\" + 0.006*\"總統\" + 0.006*\"報導\" + 0.005*\"今天\"\n",
      "2023-05-08 17:39:11,677 : INFO : topic #4 (0.143): 0.009*\"表示\" + 0.006*\"一名\" + 0.006*\"報導\" + 0.006*\"發生\" + 0.005*\"孩子\" + 0.005*\"發現\" + 0.005*\"已經\" + 0.004*\"醫院\" + 0.004*\"目前\" + 0.004*\"警方\"\n",
      "2023-05-08 17:39:11,678 : INFO : topic diff=0.338381, rho=0.376649\n",
      "2023-05-08 17:39:11,737 : INFO : -7.308 per-word bound, 158.4 perplexity estimate based on a held-out corpus of 98 documents with 15089 words\n",
      "2023-05-08 17:39:11,737 : INFO : PROGRESS: pass 4, at document #4098/4098\n",
      "2023-05-08 17:39:11,763 : INFO : merging changes from 98 documents into a model of 4098 documents\n",
      "2023-05-08 17:39:11,767 : INFO : topic #6 (0.143): 0.014*\"東森\" + 0.012*\"比比\" + 0.010*\"新聞\" + 0.009*\"棒球\" + 0.009*\"賽事\" + 0.008*\"日本\" + 0.007*\"追蹤\" + 0.006*\"世界\" + 0.006*\"經典\" + 0.006*\"快來\"\n",
      "2023-05-08 17:39:11,768 : INFO : topic #1 (0.143): 0.016*\"育成\" + 0.012*\"投手\" + 0.011*\"球迷\" + 0.010*\"比賽\" + 0.010*\"球員\" + 0.008*\"聯盟\" + 0.007*\"今天\" + 0.007*\"經典\" + 0.007*\"全壘打\" + 0.007*\"中華隊\"\n",
      "2023-05-08 17:39:11,769 : INFO : topic #4 (0.143): 0.009*\"表示\" + 0.005*\"一名\" + 0.005*\"報導\" + 0.005*\"發生\" + 0.005*\"已經\" + 0.005*\"孩子\" + 0.005*\"發現\" + 0.004*\"醫院\" + 0.004*\"目前\" + 0.003*\"警方\"\n",
      "2023-05-08 17:39:11,769 : INFO : topic #2 (0.143): 0.010*\"台灣\" + 0.010*\"比賽\" + 0.010*\"今天\" + 0.008*\"拿下\" + 0.007*\"選手\" + 0.007*\"世界\" + 0.006*\"對手\" + 0.005*\"羽球\" + 0.005*\"賽事\" + 0.005*\"領先\"\n",
      "2023-05-08 17:39:11,770 : INFO : topic #0 (0.143): 0.046*\"大谷\" + 0.027*\"日本\" + 0.019*\"翔平\" + 0.017*\"經典\" + 0.015*\"日本隊\" + 0.010*\"冠軍\" + 0.010*\"美國\" + 0.009*\"球迷\" + 0.008*\"墨西哥\" + 0.008*\"棒球\"\n",
      "2023-05-08 17:39:11,771 : INFO : topic diff=0.388424, rho=0.376649\n",
      "2023-05-08 17:39:11,772 : INFO : LdaModel lifecycle event {'msg': 'trained LdaModel<num_terms=14437, num_topics=7, decay=0.5, chunksize=2000> in 8.99s', 'datetime': '2023-05-08T17:39:11.772061', 'gensim': '4.3.1', 'python': '3.9.7 (default, Sep 16 2021, 16:59:28) [MSC v.1916 64 bit (AMD64)]', 'platform': 'Windows-10-10.0.19045-SP0', 'event': 'created'}\n"
     ]
    }
   ],
   "source": [
    "best_model = LdaModel(\n",
    "    corpus = corpus,\n",
    "    num_topics = 7,\n",
    "    id2word=dictionary,\n",
    "    random_state = 1500,\n",
    "    passes = 5 # 訓練次數\n",
    "    )"
   ]
  },
  {
   "cell_type": "code",
   "execution_count": null,
   "metadata": {},
   "outputs": [
    {
     "data": {
      "text/html": [
       "\n",
       "<link rel=\"stylesheet\" type=\"text/css\" href=\"https://cdn.jsdelivr.net/gh/bmabey/pyLDAvis@3.4.0/pyLDAvis/js/ldavis.v1.0.0.css\">\n",
       "\n",
       "\n",
       "<div id=\"ldavis_el151619211546455681508491739\" style=\"background-color:white;\"></div>\n",
       "<script type=\"text/javascript\">\n",
       "\n",
       "var ldavis_el151619211546455681508491739_data = {\"mdsDat\": {\"x\": [0.15751833235927507, 0.18861639038052044, 0.14109237405082709, -0.17822899032136624, -0.15104723996017172, 0.07555182710560072, -0.23350269361468537], \"y\": [0.12156831757152917, 0.06770093217825701, -0.0840297140248075, 0.08695676822026398, -0.20801004588586808, -0.10448437110998153, 0.12029811305060725], \"topics\": [1, 2, 3, 4, 5, 6, 7], \"cluster\": [1, 1, 1, 1, 1, 1, 1], \"Freq\": [34.96643601045463, 19.911843160694474, 14.546806461943843, 10.718854920103022, 10.036190665062156, 6.380825234848193, 3.439043546893682]}, \"tinfo\": {\"Term\": [\"\\u5927\\u8c37\", \"\\u65e5\\u672c\", \"\\u80b2\\u6210\", \"\\u7d93\\u5178\", \"\\u70cf\\u514b\\u862d\", \"\\u6bd4\\u8cfd\", \"\\u6295\\u624b\", \"\\u7403\\u8ff7\", \"\\u7f8e\\u570b\", \"\\u6771\\u68ee\", \"\\u4fc4\\u7f85\\u65af\", \"\\u4e2d\\u570b\", \"\\u68d2\\u7403\", \"\\u7403\\u54e1\", \"\\u7fd4\\u5e73\", \"\\u53f0\\u7063\", \"\\u806f\\u76df\", \"\\u6bd4\\u6bd4\", \"\\u4eca\\u5929\", \"\\u7e3d\\u7d71\", \"\\u4e2d\\u83ef\\u968a\", \"\\u65b0\\u805e\", \"\\u8cfd\\u4e8b\", \"\\u4e16\\u754c\", \"\\u7db2\\u53cb\", \"\\u51a0\\u8ecd\", \"\\u65e5\\u672c\\u968a\", \"\\u62ff\\u4e0b\", \"\\u5168\\u58d8\\u6253\", \"\\u9078\\u624b\", \"\\u5468\\u6770\\u502b\", \"\\u5206\\u624b\", \"\\u4ea4\\u5f80\", \"\\u7537\\u65b9\", \"\\u5973\\u751f\", \"\\u5927\\u65b9\", \"\\u5973\\u512a\", \"\\u6200\\u60c5\", \"\\u7028\\u6606\\u59ae\", \"\\u548c\\u5f26\", \"\\u6b63\\u59b9\", \"\\u6027\\u611f\", \"\\u5b8b\\u5148\\u751f\", \"\\u5287\\u7167\", \"\\u52fe\\u60e1\", \"\\u611b\\u60c5\", \"\\u6c6a\\u5c0f\\u83f2\", \"\\u5c08\\u8f2f\", \"\\u8389\\u5a6d\", \"\\u6200\\u611b\", \"\\u60c5\\u4fb6\", \"\\u6c42\\u5a5a\", \"\\u7dcb\\u805e\", \"\\u5f35\\u7a4e\\u7a4e\", \"\\u5973\\u65b9\", \"\\u963f\\u59e8\", \"\\u514b\\u7acb\", \"\\u9020\\u578b\", \"\\u7d04\\u6703\", \"\\u5a5a\\u8b8a\", \"\\u96e2\\u5a5a\", \"\\u5bb6\\u66b4\", \"\\u5a5a\\u79ae\", \"\\u5177\\u4fca\\u66c4\", \"\\u5287\\u4e2d\", \"\\u611f\\u60c5\", \"\\u5973\\u4eba\", \"\\u5a5a\\u5f8c\", \"\\u7d50\\u5a5a\", \"\\u7537\\u53cb\", \"\\u5a5a\\u59fb\", \"\\u5e78\\u798f\", \"\\u7bc0\\u76ee\", \"\\u738b\\u529b\\u5b8f\", \"\\u751c\\u871c\", \"\\u5973\\u661f\", \"\\u5169\\u4eba\", \"\\u7db2\\u53cb\", \"\\u5973\\u53cb\", \"\\u9023\\u5343\\u6bc5\", \"\\u5206\\u4eab\", \"\\u8001\\u516c\", \"\\u5973\\u738b\", \"\\u8001\\u5a46\", \"\\u7559\\u8a00\", \"\\u7a7f\\u8457\", \"\\u5f71\\u7247\", \"\\u5c0d\\u65b9\", \"\\u7c89\\u7d72\", \"\\u76f4\\u64ad\", \"\\u8fd1\\u65e5\", \"\\u7206\\u6599\", \"\\u771f\\u7684\", \"\\u7167\\u7247\", \"\\u89ba\\u5f97\", \"\\u5c0f\\u59d0\", \"\\u77e5\\u9053\", \"\\u900f\\u9732\", \"\\u5de5\\u4f5c\", \"\\u96fb\\u5f71\", \"\\u76f8\\u7576\", \"\\u770b\\u5230\", \"\\u8868\\u793a\", \"\\u904e\\u53bb\", \"\\u767c\\u6587\", \"\\u4e00\\u8d77\", \"\\u751f\\u6d3b\", \"\\u7576\\u6642\", \"\\u73fe\\u5728\", \"\\u66dd\\u5149\", \"\\u8a8d\\u70ba\", \"\\u5df2\\u7d93\", \"\\u5e0c\\u671b\", \"\\u8a31\\u591a\", \"\\u767c\\u73fe\", \"\\u5973\\u7ae5\", \"\\u75c7\\u72c0\", \"\\u5361\\u4f4d\", \"\\u798f\\u539f\", \"\\u967d\\u6027\", \"\\u7537\\u7ae5\", \"\\u67d3\\u75ab\", \"\\u8b8a\\u7570\", \"\\u9670\\u6027\", \"\\u9662\\u65b9\", \"\\u91ab\\u8b77\\u4eba\\u54e1\", \"\\u6cb3\\u5357\", \"\\u4e0d\\u75db\", \"\\u4e0d\\u52d5\", \"\\u50b7\\u75db\", \"\\u78ba\\u8a3a\", \"\\u6cbb\\u7642\", \"\\u6b7b\\u56e0\", \"\\u75c5\\u623f\", \"\\u4e94\\u6708\", \"\\u51fa\\u8840\", \"\\u6c5f\\u5b8f\\u5091\", \"\\u75c5\\u4f8b\", \"\\u5224\\u8655\", \"\\u5c01\\u57ce\", \"\\u75c5\\u6bd2\", \"\\u5b6b\\u5973\", \"\\u75c5\\u60a3\", \"\\u4e0a\\u8a34\", \"\\u80da\\u80ce\", \"\\u75ab\\u82d7\", \"\\u795e\\u7d93\", \"\\u91ab\\u9662\", \"\\u958b\\u5200\", \"\\u9001\\u91ab\", \"\\u5287\\u70c8\", \"\\u9001\\u5f80\", \"\\u4fdd\\u91cd\", \"\\u9694\\u96e2\", \"\\u624b\\u6307\", \"\\u91ab\\u751f\", \"\\u63a5\\u7a2e\", \"\\u6b7b\\u8005\", \"\\u91ab\\u5e2b\", \"\\u970d\\u83ef\\u5fb7\", \"\\u8b66\\u65b9\", \"\\u53cd\\u61c9\", \"\\u7238\\u7238\", \"\\u5bb6\\u9577\", \"\\u9b54\\u7378\", \"\\u5bb6\\u5c6c\", \"\\u56b4\\u91cd\", \"\\u4f59\\u82d1\", \"\\u91ab\\u7642\", \"\\u767c\\u751f\", \"\\u5b69\\u5b50\", \"\\u9020\\u6210\", \"\\u4e00\\u540d\", \"\\u4e00\\u908a\", \"\\u6b7b\\u4ea1\", \"\\u767c\\u73fe\", \"\\u5831\\u5c0e\", \"\\u8eab\\u9ad4\", \"\\u4e8b\\u4ef6\", \"\\u8868\\u793a\", \"\\u6d88\\u606f\", \"\\u5df2\\u7d93\", \"\\u5bb6\\u4eba\", \"\\u76ee\\u524d\", \"\\u81c9\\u66f8\", \"\\u5152\\u5b50\", \"\\u5abd\\u5abd\", \"\\u611f\\u5230\", \"\\u6307\\u51fa\", \"\\u8a31\\u591a\", \"\\u7121\\u6cd5\", \"\\u66dd\\u5149\", \"\\u7537\\u5b50\", \"\\u5927\\u9678\", \"\\u900f\\u9732\", \"\\u7576\\u6642\", \"\\u51fa\\u73fe\", \"\\u6700\\u5f8c\", \"\\u4fc4\\u570b\", \"\\u62dc\\u767b\", \"\\u666e\\u4e01\", \"\\u7e3d\\u7d71\", \"\\u4fc4\\u8ecd\", \"\\u502b\\u65af\\u57fa\", \"\\u5967\\u6703\", \"\\u5236\\u88c1\", \"\\u8ecd\\u4e8b\", \"\\u6b50\\u76df\", \"\\u4fc4\\u7f85\\u65af\", \"\\u57fa\\u8f14\", \"\\u5317\\u7d04\", \"\\u6cd5\\u6848\", \"\\u7acb\\u9676\\u5b9b\", \"\\u7f8e\\u65b9\", \"\\u8996\\u5bdf\", \"\\u53f0\\u6d77\", \"\\u4e2d\\u5171\", \"\\u5916\\u4ea4\", \"\\u70cf\\u514b\\u862d\", \"\\u767d\\u5bae\", \"\\u6230\\u722d\", \"\\u8ecd\\u65b9\", \"\\u98db\\u5f48\", \"\\u4fc4\\u70cf\", \"\\u7537\\u7c43\", \"\\u8ecd\\u6f14\", \"\\u7f8e\\u8ecd\", \"\\u6797\\u80af\", \"\\u535a\\u7269\\u9928\", \"\\u7fd2\\u8fd1\\u5e73\", \"\\u51ac\\u5967\", \"\\u90e8\\u968a\", \"\\u5883\\u5167\", \"\\u6350\\u8d08\", \"\\u6c5f\\u8607\", \"\\u88f4\\u6d1b\\u897f\", \"\\u7e3d\\u7d71\\u5e9c\", \"\\u6ce2\\u862d\", \"\\u5165\\u4fb5\", \"\\u570b\\u5bb6\", \"\\u676d\\u5dde\", \"\\u5b98\\u54e1\", \"\\u4e2d\\u570b\", \"\\u8461\\u8404\\u7259\", \"\\u5317\\u4eac\", \"\\u7d93\\u6fdf\", \"\\u6b50\\u6d32\", \"\\u7db2\\u7403\", \"\\u7f8e\\u570b\", \"\\u53f0\\u7063\", \"\\u5927\\u9678\", \"\\u5b89\\u5168\", \"\\u5831\\u5c0e\", \"\\u8868\\u793a\", \"\\u9032\\u884c\", \"\\u6307\\u51fa\", \"\\u4eca\\u5929\", \"\\u5ba3\\u5e03\", \"\\u5305\\u62ec\", \"\\u60c5\\u6cc1\", \"\\u653b\\u64ca\", \"\\u6301\\u7e8c\", \"\\u76ee\\u524d\", \"\\u9078\\u624b\", \"\\u8209\\u884c\", \"\\u570b\\u969b\", \"\\u7121\\u6cd5\", \"\\u6295\\u624b\", \"\\u4e2d\\u8077\", \"\\u608d\\u5c07\", \"\\u7345\\u968a\", \"\\u6a02\\u5929\", \"\\u68d2\\u7403\\u5834\", \"\\u6797\\u76ca\", \"\\u7d05\\u896a\", \"\\u5473\\u5168\", \"\\u674e\\u591a\\u6167\", \"\\u9032\\u7403\", \"\\u667a\\u52dd\", \"\\u6843\\u733f\\u968a\", \"\\u6797\\u5cb3\\u5e73\", \"\\u738b\\u5a01\\u6668\", \"\\u6355\\u624b\", \"\\u91c0\\u9152\", \"\\u6eff\\u8cab\", \"\\u5f6d\\u653f\\u9594\", \"\\u9f8d\\u968a\", \"\\u5167\\u91ce\", \"\\u5149\\u8292\", \"\\u738b\\u6b63\\u68e0\", \"\\u80cc\\u865f\", \"\\u6843\\u733f\", \"\\u8303\\u570b\\u5bb8\", \"\\u55ae\\u5b63\", \"\\u6ce2\\u58eb\\u9813\", \"\\u6797\\u5b50\", \"\\u7403\\u5834\\u4e0a\", \"\\u80b2\\u6210\", \"\\u5566\\u5566\\u968a\", \"\\u7e3d\\u6559\\u7df4\", \"\\u4e09\\u58d8\", \"\\u653b\\u4e0b\", \"\\u8001\\u9df9\", \"\\u5168\\u58d8\\u6253\", \"\\u7403\\u8cfd\", \"\\u8077\\u68d2\", \"\\u6253\\u9ede\", \"\\u7403\\u5718\", \"\\u6572\\u51fa\", \"\\u5148\\u767c\", \"\\u6253\\u64ca\", \"\\u7403\\u54e1\", \"\\u4e2d\\u83ef\\u968a\", \"\\u5144\\u5f1f\", \"\\u7403\\u8ff7\", \"\\u51fa\\u5c40\", \"\\u806f\\u76df\", \"\\u8868\\u73fe\", \"\\u672c\\u5b63\", \"\\u6bd4\\u8cfd\", \"\\u7d93\\u5178\", \"\\u7403\\u968a\", \"\\u4eca\\u5929\", \"\\u68d2\\u7403\", \"\\u7403\\u5b63\", \"\\u53f0\\u7063\", \"\\u8868\\u793a\", \"\\u751f\\u6daf\", \"\\u7f8e\\u570b\", \"\\u5e0c\\u671b\", \"\\u7fbd\\u7403\", \"\\u6234\\u8cc7\\u7a4e\", \"\\u7a4d\\u5206\", \"\\u8cc7\\u7a4e\", \"\\u62f3\\u64ca\", \"\\u9285\\u724c\", \"\\u5b63\\u5f8c\\u8cfd\", \"\\u6797\\u90c1\\u5a77\", \"\\u4e16\\u9326\\u8cfd\", \"\\u91d1\\u724c\", \"\\u7c43\\u677f\", \"\\u9818\\u822a\", \"\\u4e9e\\u904b\", \"\\u9326\\u6a19\\u8cfd\", \"\\u912d\\u6021\\u975c\", \"\\u4e9e\\u9326\\u8cfd\", \"\\u7a2e\\u5b50\", \"\\u5973\\u55ae\", \"\\u6b62\\u6b65\", \"\\u5916\\u7dda\", \"\\u7279\\u653b\", \"\\u674e\\u6d0b\", \"\\u6ce2\\u6bd4\", \"\\u8cc7\\u683c\\u8cfd\", \"\\u6311\\u6230\\u8cfd\", \"\\u96d9\\u4f4d\\u6578\", \"\\u7981\\u5340\", \"\\u4e0a\\u534a\\u5834\", \"\\u738b\\u9f4a\\u9e9f\", \"\\u5c07\\u53cc\", \"\\u5468\\u5929\", \"\\u5967\\u904b\", \"\\u6392\\u540d\\u7b2c\", \"\\u6797\\u66f8\\u8c6a\", \"\\u5973\\u8db3\", \"\\u9996\\u8f2a\", \"\\u6c7a\\u8cfd\", \"\\u52c7\\u58eb\", \"\\u5f97\\u5206\", \"\\u9818\\u5148\", \"\\u5c0d\\u624b\", \"\\u62ff\\u4e0b\", \"\\u5f37\\u8cfd\", \"\\u516c\\u958b\\u8cfd\", \"\\u4ee5\\u6bd4\", \"\\u9078\\u624b\", \"\\u64ca\\u6557\", \"\\u6bd4\\u8cfd\", \"\\u9ad8\\u4e2d\", \"\\u6649\\u7d1a\", \"\\u4e16\\u754c\\u76c3\", \"\\u4eca\\u5929\", \"\\u53d6\\u5f97\", \"\\u53f0\\u7063\", \"\\u4e16\\u754c\", \"\\u6210\\u7e3e\", \"\\u5206\\u9418\", \"\\u8cfd\\u4e8b\", \"\\u7372\\u5f97\", \"\\u4eca\\u5e74\", \"\\u806f\\u76df\", \"\\u96d9\\u65b9\", \"\\u53c3\\u52a0\", \"\\u6700\\u7d42\", \"\\u51a0\\u8ecd\", \"\\u8868\\u793a\", \"\\u6bd4\\u6bd4\", \"\\u65b0\\u805e\\u983b\\u9053\", \"\\u5b89\\u500d\", \"\\u6709\\u7dda\\u96fb\\u8996\", \"\\u53f0\\u53ca\", \"\\u8f49\\u64ad\\u6b0a\", \"\\u9b42\\u6771\\u68ee\", \"\\u6fc0\\u71d2\", \"\\u65e5\\u4e09\\u5230\", \"\\u7db2\\u6771\\u68ee\", \"\\u96f6\\u6642\", \"\\u5b89\\u500d\\u6649\\u4e09\", \"\\u897f\\u4e9e\", \"\\u65b0\\u805e\\u5b98\", \"\\u8cfd\\u770b\", \"\\u8ca1\\u7d93\\u65b0\\u805e\", \"\\u6771\\u68ee\\u8d85\", \"\\u672a\\u7d66\", \"\\u6d32\\u969b\", \"\\u524d\\u9996\\u76f8\", \"\\u7d0d\\u9054\\u723e\", \"\\u53f0\\u4e2d\\u5e02\", \"\\u63a8\\u64e0\", \"\\u68a8\\u6cf0\\u9662\", \"\\u8089\\u5713\", \"\\u5ba2\\u6a5f\", \"\\u514b\\u7f85\", \"\\u505c\\u99db\", \"\\u570b\\u846c\", \"\\u8cfd\\u5c07\", \"\\u6df7\\u96d9\", \"\\u5167\\u99ac\\u723e\", \"\\u6771\\u68ee\", \"\\u79d1\\u7dad\\u5947\", \"\\u897f\\u73ed\\u7259\", \"\\u5436\\u558a\", \"\\u71b1\\u8840\", \"\\u8de8\\u8d8a\", \"\\u7c89\\u7d72\\u5718\", \"\\u6469\\u6d1b\\u54e5\", \"\\u5bb6\\u65cf\", \"\\u6771\\u4eac\", \"\\u65b0\\u805e\", \"\\u5feb\\u4f86\", \"\\u53e4\\u5df4\", \"\\u7576\\u500b\", \"\\u8ffd\\u8e64\", \"\\u68d2\\u7403\", \"\\u8cfd\\u4e8b\", \"\\u983b\\u9053\", \"\\u8377\\u862d\", \"\\u4e2d\\u83ef\\u968a\", \"\\u65e5\\u672c\", \"\\u96fb\\u8996\", \"\\u670b\\u53cb\", \"\\u7d93\\u5178\", \"\\u4e16\\u754c\", \"\\u958b\\u6253\", \"\\u5b8c\\u6574\", \"\\u5357\\u97d3\", \"\\u7403\\u8ff7\", \"\\u6c11\\u773e\", \"\\u6649\\u7d1a\", \"\\u5361\\u9054\", \"\\u76f8\\u95dc\", \"\\u4e00\\u8d77\", \"\\u65e5\\u672c\\u968a\", \"\\u6751\\u4e0a\", \"\\u5b97\\u9686\", \"\\u5927\\u8c37\", \"\\u7fd4\\u5e73\", \"\\u5967\\u7279\", \"\\u6b66\\u58eb\", \"\\u7530\\u9d3b\\u9b41\", \"\\u4f50\\u4f50\\u6728\", \"\\u6817\\u5c71\", \"\\u4e8c\\u5200\", \"\\u4eca\\u6c38\", \"\\u9054\\u6bd4\", \"\\u5c71\\u7530\", \"\\u52aa\\u7279\", \"\\u82f1\\u6a39\", \"\\u6642\\u901f\", \"\\u4fee\\u6709\", \"\\u6751\\u795e\", \"\\u7f8e\\u570b\\u968a\", \"\\u6717\\u5e0c\", \"\\u4e09\\u632f\\u51fa\\u5c40\", \"\\u5049\\u797a\", \"\\u4e5d\\u5c40\", \"\\u5ca1\\u672c\", \"\\u56db\\u5f37\\u8cfd\", \"\\u5df4\\u723e\", \"\\u74e6\\u723e\", \"\\u5916\\u63f4\", \"\\u5916\\u91ce\\u5b89\\u6253\", \"\\u58a8\\u897f\\u54e5\", \"\\u5409\\u7530\", \"\\u54f2\\u4eba\", \"\\u518d\\u898b\", \"\\u6295\\u6253\", \"\\u5929\\u4f7f\", \"\\u6b63\\u5c1a\", \"\\u4e09\\u632f\", \"\\u5e73\\u548c\", \"\\u65e5\\u672c\", \"\\u51fa\\u6b21\", \"\\u51a0\\u8ecd\", \"\\u6295\\u7403\", \"\\u7403\\u8a55\", \"\\u7d93\\u5178\", \"\\u5c0d\\u6c7a\", \"\\u51a0\\u8ecd\\u8cfd\", \"\\u68d2\\u7403\", \"\\u8ffd\\u5e73\", \"\\u7f8e\\u570b\", \"\\u7403\\u8ff7\", \"\\u7403\\u54e1\", \"\\u596a\\u4e0b\", \"\\u6bd4\\u8cfd\", \"\\u6572\\u51fa\", \"\\u9006\\u8f49\", \"\\u4e8c\\u58d8\", \"\\u6700\\u5f8c\", \"\\u806f\\u76df\", \"\\u4e16\\u754c\", \"\\u53f0\\u7063\"], \"Freq\": [1004.0, 1385.0, 1139.0, 1183.0, 1125.0, 1639.0, 823.0, 1373.0, 1676.0, 634.0, 863.0, 1537.0, 869.0, 986.0, 416.0, 2724.0, 942.0, 487.0, 1957.0, 665.0, 697.0, 658.0, 962.0, 1233.0, 2295.0, 470.0, 323.0, 729.0, 527.0, 917.0, 179.8628124881246, 216.41635096369558, 220.56247404263183, 147.0236558638462, 151.17047231734503, 127.25065494145967, 87.91278744802771, 109.83782398853516, 86.18166871021214, 89.61394983668515, 84.05434419108596, 75.70919612214124, 85.18126403921634, 73.70908015471224, 74.59751125398347, 104.61782421550718, 290.02620151433837, 86.03411475121061, 62.06657651306801, 69.65869412649307, 69.20310851805785, 71.09402441201266, 61.439631085648735, 77.75893331173978, 191.08682606043254, 57.3249666674229, 53.121675497814, 86.57024095119935, 52.104116226528774, 67.9399662489165, 391.4988466132316, 151.3376269480096, 204.05945323799196, 151.07288626779433, 80.83895447987419, 276.1434303414827, 116.52382945134279, 87.97151242139877, 471.9611125217053, 296.86554547763734, 198.94317074328578, 204.96876261575915, 586.3911305577808, 150.32650707196774, 111.96184855835416, 294.68434318694347, 906.555294004565, 1934.962898251873, 251.4243190184289, 185.82026104941832, 536.1599442174557, 461.1026614271221, 121.1098473291681, 294.8542456353191, 563.9815728611193, 207.6144231412356, 1152.1392163600822, 634.0035182167951, 913.4191885634878, 521.1800233617174, 561.8080747322321, 264.5193396465563, 839.6886651584138, 577.103917583121, 569.7726372079292, 446.09634097692646, 583.7165023839113, 792.6019067789265, 514.6599398636854, 279.41202371010417, 735.4475038337677, 633.2710578732992, 1509.9361044280408, 503.01360982167716, 479.3518176649656, 585.8976019524479, 397.3014672027513, 586.6843509561412, 569.2356571300068, 496.4870548277275, 516.1604024171452, 654.1872408453629, 538.2823894341044, 497.90477468338406, 489.6254715173467, 90.41756453127412, 252.86900395726545, 79.5436601362518, 62.73603579876565, 70.06949294937257, 149.99076501180213, 60.77129556702435, 63.19264621942329, 57.14845707531173, 51.60122213131845, 48.069541935670316, 70.71320198875951, 41.987659600236675, 41.09124531571166, 47.88249084472834, 283.1410164572982, 265.8651483592139, 50.21933709128648, 35.72831581894717, 47.64102043731409, 37.86711011979242, 33.92869443229517, 64.73467431081134, 30.05327134290456, 28.60714518635309, 116.48648275225251, 28.927663444026354, 44.16649057791685, 39.58107180977359, 26.89732389784353, 182.78910607845518, 328.828732579695, 522.7856548899101, 240.26735481394147, 131.8989106132757, 77.85021582645487, 83.83430791150218, 56.612358258366534, 137.2051175238751, 91.6576376219179, 184.70810264290046, 85.15803721978243, 84.68233525255991, 179.18095732900562, 365.11024625106876, 432.34864052567445, 305.05372473341373, 404.2577878649002, 190.7443656144818, 210.9624816019377, 109.13941803053979, 390.0859668681321, 115.85740495939042, 142.64487020485402, 650.9235527658061, 573.8235374701862, 372.64762685711344, 690.6832815280857, 163.14097256431432, 241.19234792257558, 566.9892463897994, 687.397692903172, 295.78817528496523, 314.47022243436527, 1095.2202695515587, 402.55228612106055, 626.1634181919902, 301.14477627404995, 483.7593164456917, 324.16208882303545, 274.82204504489073, 291.3749350663189, 289.41611752807347, 398.97863523323224, 372.98681439524125, 328.6702091290912, 321.3944214644119, 302.7363575676863, 322.23731580443996, 319.53095197948164, 312.6847862642341, 300.36701693854127, 303.684134766361, 223.28761815413472, 221.86070729424227, 180.74319608931862, 660.5090456596453, 359.5864084460581, 117.63198430279363, 99.07036972072065, 116.94273806728073, 103.0672799441244, 97.82142742255392, 853.480641324455, 165.66076112065846, 83.3437949679587, 85.3013316265804, 82.75145495402903, 77.63907351191826, 77.6987631718031, 72.92397499310758, 85.1615518404513, 69.31304971281273, 1107.9358986081045, 65.88021051460493, 230.92389892710904, 70.38556189762018, 162.15080185624723, 60.43584473541495, 208.8050712117022, 57.83768856169666, 64.76971254391587, 51.38735383138327, 248.8595359627398, 126.94434046901176, 143.38413561099728, 76.79483394531904, 109.93542626812784, 182.87324195469895, 193.52426187312227, 92.71698394666733, 154.7840593738107, 104.04188698427735, 159.2872473138106, 544.0056414376812, 255.0846963389163, 169.27013192708304, 1089.1803326951654, 157.87892603834624, 276.32556148585775, 196.1744955924122, 177.26682628090845, 145.30520890660003, 823.8002116838624, 810.0491328376668, 465.2789650581942, 271.9863037662396, 523.852779795904, 827.9619709232, 387.24929125806773, 394.25200907945964, 480.27088798129427, 267.4505306351445, 238.55159003003726, 248.84282670409297, 195.99789454034556, 222.61561536072924, 230.6613584399048, 220.56571838177385, 202.39512609284301, 199.95862985979903, 200.75627260313215, 821.1752855810906, 279.19065921273784, 207.941666628125, 204.65111177582705, 242.44322777729187, 222.7041969346416, 147.38977984924068, 390.2760601899484, 143.96882836118542, 120.95826999469803, 116.59433607400645, 102.20919554783089, 96.91405614252842, 93.27325517084637, 75.25276129867966, 76.76816166030777, 73.37894337913113, 79.89798793784985, 69.29275964576078, 69.58360145378138, 69.89091209553807, 107.0206534934881, 64.74307113575931, 58.475888733892866, 61.72075280655215, 60.607673772321554, 59.25710738544617, 130.09234020316887, 98.12085480660028, 72.20726300726606, 1114.1375740295866, 237.09356488133164, 229.72801282182917, 120.87642965267116, 150.99996547943155, 74.74469148008873, 459.031961047246, 156.72285371355002, 276.3968459516186, 176.8388885942597, 196.2235088753431, 393.765091254557, 317.8665029090132, 350.999592144377, 645.1534936067169, 456.9346881345816, 215.82910437773216, 746.2464375868585, 158.7847642929723, 529.7422999609425, 391.3583428199842, 288.66829983743395, 660.4273134990319, 474.2490059735454, 307.0791334093948, 485.520993735493, 308.00318298106777, 173.71286463349324, 417.00774839018425, 387.59079008349124, 214.93715801063647, 249.22349071126405, 226.64651454156515, 328.7206665792152, 246.14749724192635, 256.2890865845249, 254.24492418718256, 155.5971796257973, 147.05723215002544, 202.67210324924824, 130.17764931016958, 123.3245073065542, 183.38758098015884, 139.7735252475237, 161.18575191696806, 119.91122607282765, 122.30341381111256, 122.33735689597873, 106.1072626387464, 118.14833059739792, 129.14384834929706, 104.20432706139006, 79.79187075208009, 116.07031356622488, 76.30199092162627, 81.59560849314356, 107.7683730850954, 70.90099379303402, 72.07099460670933, 71.78722157212471, 83.94806697465788, 65.57747977152385, 68.23141623655842, 216.82123210745812, 254.8302636563229, 163.77477269287857, 95.33986747827456, 77.90116353037911, 170.30778091540668, 147.46326662840485, 147.7516612295934, 295.3314915809241, 319.28199761559085, 393.87759116070146, 502.3693905231636, 176.3045105098084, 145.09471005843284, 252.9626495258023, 470.16778861093013, 241.6306861476891, 610.4770765222066, 207.34107960819276, 277.71080699844435, 305.5959394118069, 603.7459527220384, 272.0679552551662, 653.332428756157, 413.055220353411, 198.53968561337584, 226.70713899015718, 322.5163276626984, 241.83620212863116, 277.982734965194, 284.4975370162521, 248.6681158837309, 228.61762238920798, 224.69122195681203, 215.85716004622378, 218.10201784307446, 486.8585856841938, 144.9444700508146, 115.34148207188163, 104.03730441827429, 100.5468488182667, 103.73785954160672, 101.56562122926965, 98.3653128966882, 98.22728276433091, 105.78373659608809, 90.6702290868162, 53.455273425786395, 253.72901940216187, 105.34978568088862, 46.737591414829026, 45.64457871874409, 54.61270861896903, 41.00136016164947, 230.31803298103742, 30.65920388683056, 29.951924816890166, 49.24574335137234, 30.4687458293783, 26.95830552442612, 29.608395963340516, 33.38286212749721, 234.69212698998868, 24.297931011176896, 23.912972966851644, 138.64908882573502, 93.11619388896754, 83.4185906257743, 583.3039610177082, 60.38151430855843, 199.15274672666666, 105.56451171689768, 143.221366249414, 104.65395522958572, 109.49376386111466, 181.482752834422, 105.33316807888757, 229.33344240562263, 390.1262591364302, 255.7053237213619, 179.71686315984894, 238.22773035583896, 294.4073157604418, 366.24092593737385, 348.40046337891647, 193.53826541708196, 157.96013886686072, 235.65501064705353, 314.8672485064106, 170.1335211408716, 250.6918316252636, 260.48789394599834, 260.5136873135713, 160.96500995357306, 126.13065465230581, 175.93536052377894, 227.01764413285122, 174.56236982037566, 165.37016472565546, 154.9457358561579, 149.11917158093314, 150.31788834659952, 321.0431750670708, 109.86303413018456, 83.44524483958041, 987.2042515277509, 408.4405677916944, 91.033321698874, 46.11840069947519, 35.93134678420282, 32.92023796803722, 29.597522261487427, 100.10183690330273, 26.365071826219204, 59.640329284192575, 26.172773812087954, 21.14742443763224, 19.22762926769715, 19.351397356453525, 37.00416941104075, 17.27510289706426, 104.71657501937113, 16.08317471688845, 18.91518130239727, 14.169320112123605, 17.64092249612795, 13.779831705147345, 37.6348518360304, 17.701449581051325, 21.96335550711447, 13.252329976608504, 13.861572568499675, 175.95572140794272, 103.39935572288893, 25.228458844815066, 83.59309722220621, 37.12839592351243, 156.8979236037011, 72.99475514741319, 141.48029803454577, 29.823804248563263, 590.1499690390684, 35.32201452816899, 213.7427875977082, 50.407332155862164, 88.10520904405801, 360.3977220156181, 100.55589612174894, 68.04659270816272, 169.20349116080456, 59.25330348395143, 213.3800696202555, 187.63907538147484, 148.1094535114391, 58.78652963750052, 160.75521945455912, 100.6427718358628, 76.7175497327755, 69.22227399826302, 118.26873178604325, 106.87063607370483, 91.13931229275335, 86.0844672039872], \"Total\": [1004.0, 1385.0, 1139.0, 1183.0, 1125.0, 1639.0, 823.0, 1373.0, 1676.0, 634.0, 863.0, 1537.0, 869.0, 986.0, 416.0, 2724.0, 942.0, 487.0, 1957.0, 665.0, 697.0, 658.0, 962.0, 1233.0, 2295.0, 470.0, 323.0, 729.0, 527.0, 917.0, 180.8828428625043, 217.72611808166366, 222.04910015894703, 148.46316240134047, 152.708247632868, 128.57037329850024, 88.82791433900944, 111.0708570201437, 87.15823841235402, 90.69630780367979, 85.08884468108798, 76.64903531973326, 86.24134935467667, 74.63087798578646, 75.53398189698704, 106.07074445364213, 294.08977691965094, 87.29503563204639, 62.987129356259175, 70.69223095740587, 70.26131103971454, 72.21097888134943, 62.414657516734565, 79.02260131584305, 194.1923989069784, 58.26544037758783, 54.02571606444201, 88.09401060696732, 53.03827840268035, 69.16525915911153, 401.0661438145231, 154.30567282560065, 208.74424449686657, 154.5182301767301, 82.30376320856973, 285.4664913972996, 119.11207324055734, 89.7372510546145, 500.2593632820438, 310.8255250618222, 206.39165085404443, 215.84015314171495, 645.7031098451138, 156.43866143530417, 115.15475827724339, 315.6441022689808, 1032.718390815639, 2295.255506398504, 268.35589981885886, 195.89027066682823, 607.5369224499104, 523.2809064845542, 125.06220217525572, 326.2144287693859, 667.8532102851699, 225.47515309894922, 1528.142189637699, 783.9828286527714, 1284.2369052765061, 669.9270030561701, 757.1329400218043, 303.78320674762074, 1263.776122133858, 795.9473188552237, 788.7270234145412, 580.935547449291, 818.3406168007161, 1234.306594473773, 740.0606291004735, 325.73669201631543, 1354.1924517331604, 1090.9935307910243, 4151.9286076757, 786.7684580192704, 732.0295314746976, 1007.9065708093054, 548.6704024429059, 1131.8371487810514, 1083.8469563077765, 859.7173880987933, 971.0187249325244, 1748.8600530103097, 1249.0792917509964, 1021.0926098796981, 1113.088179163306, 91.47695030713301, 256.04445299818036, 80.57885148551861, 63.709158985777286, 71.28588980404686, 152.68710660834634, 61.903338192350986, 64.39603852514801, 58.23703993551455, 52.58754794221445, 49.16378656079761, 72.32729074074578, 42.97686736448439, 42.11488933986637, 49.07817355271053, 290.27474068131863, 272.58474641075327, 51.50307192430734, 36.75841115173728, 49.02697503376727, 38.99004234199633, 34.97195699439991, 66.85694717042688, 31.098361236647364, 29.608401680163574, 120.61545083347465, 29.957263205816087, 45.73935994349201, 41.01600364387307, 27.874440985214047, 190.78092096064796, 347.49902799437984, 555.7399175234513, 255.48690005547354, 139.3884249789468, 81.67243251682525, 88.41002499921805, 59.03295875931162, 147.1077199440418, 97.35197695152108, 204.02988692500688, 90.53624084410677, 90.00620397851601, 201.88565947037293, 453.0691863453408, 550.7168797180872, 379.5989763958197, 523.9380729115109, 226.2619390999737, 259.27434680068245, 121.83554587593177, 548.3916488232162, 131.37411533176245, 169.78864743476115, 1171.7379856260027, 1000.3721390178941, 582.5727679656226, 1278.3685997520788, 205.781495652763, 348.4422087262819, 1113.088179163306, 1629.5395087406955, 492.0032444795319, 573.2472207662042, 4151.9286076757, 850.7171600583301, 1748.8600530103097, 546.2502891050533, 1350.6343808824179, 655.4759666689364, 472.63541669702045, 540.990928791902, 546.1157114791324, 1187.20229933263, 1021.0926098796981, 768.9268132183886, 859.7173880987933, 740.4039432176135, 1133.7786263174314, 1234.306594473773, 1131.8371487810514, 881.4816202523488, 1305.6332164063294, 224.49821383222476, 223.14753299781225, 181.93795571050657, 665.1695669923969, 362.8555776582313, 118.72167324224948, 100.06885055171907, 118.1428187442278, 104.12762533756293, 98.94415897371783, 863.3984892545051, 167.63808825019402, 84.35823370916363, 86.37116130272905, 83.7958971090114, 78.66155609230569, 78.75427775621911, 73.94138796283467, 86.35391802668386, 70.33363891866964, 1125.725091906057, 66.93937455568872, 234.73836502206586, 71.56688995731048, 164.89148462198597, 61.552678183944316, 212.70011315705995, 58.92045858525915, 66.0046682040648, 52.39108107558358, 254.8861637765548, 129.98860680482116, 147.03747827451699, 78.35895431471089, 112.75436915529232, 190.40061221102994, 202.79090581719834, 95.04361835661656, 162.4641038333643, 107.22536950551165, 168.85172031991274, 657.304350133967, 287.9275369785296, 184.0962857632127, 1537.7837763370603, 173.79330748531527, 335.1625526734273, 231.92633111033342, 205.46152649196551, 163.97802979766035, 1676.5136129623818, 2724.5961640999008, 1133.7786263174314, 498.79654214798717, 1629.5395087406955, 4151.9286076757, 1128.322206290381, 1187.20229933263, 1957.5828189068254, 736.8765516369087, 574.5659071955147, 727.8041666112364, 320.5467946127084, 576.5235962156876, 1350.6343808824179, 917.5696883768535, 460.02690277860023, 454.9716714533058, 768.9268132183886, 823.5282995272086, 280.6399547855617, 209.10852405342655, 205.84004020319156, 243.93376479252092, 224.38790130599367, 148.55412834989434, 393.5494819745114, 145.21375198810898, 122.1231578427182, 117.84216579326304, 103.37747901716203, 98.08269248884154, 94.46308679060009, 76.41082862441864, 77.97227512455333, 74.5645763554228, 81.2058534128422, 70.44709269166611, 70.77180300197679, 71.16700198452105, 108.97572567699014, 65.94978915753698, 59.63803756911729, 62.95874825367759, 61.83636753826426, 60.471649919487085, 132.7925749825192, 100.20182739513623, 73.84588686683921, 1139.9650365748787, 243.01065909406012, 237.87972440186016, 124.47408070579176, 157.0159662612092, 76.50764959996702, 527.7001165278759, 169.9685461755432, 318.37028954196444, 195.65848220662733, 223.43914801532736, 495.8951718442507, 390.2076584238358, 465.1790830436588, 986.1104812466584, 697.0575176935217, 273.7073066938778, 1373.321020306458, 184.87603589613195, 942.7934901987263, 664.7981176603809, 457.63812467477885, 1639.6173628049098, 1183.0136559236744, 595.0170264255283, 1957.5828189068254, 869.4545801422723, 222.93688472855158, 2724.5961640999008, 4151.9286076757, 422.7389432627788, 1676.5136129623818, 1249.0792917509964, 329.99958432606724, 247.69850856060222, 258.0609533212599, 256.01809685790744, 156.78127051699386, 148.22258542204068, 204.3813935045515, 131.41758840334128, 124.50200662229537, 185.17942595388809, 141.15475286172926, 162.82422448219887, 121.13521681523004, 123.5558308129921, 123.60415540922322, 107.2992760099541, 119.50202553767828, 130.70739735786808, 105.52579217036383, 80.9848386846079, 117.84637962766293, 77.48620001903474, 82.87049111487649, 109.48010358248455, 72.05107827243064, 73.27229042082196, 72.98881671810716, 85.36559627612276, 66.75930651519603, 69.50247053263155, 221.6452529334167, 263.9238076736105, 168.44518015034802, 97.63489626579485, 79.52279894422261, 182.6362278644268, 157.4356673638447, 159.15681641282274, 346.3232494401161, 385.75979784701684, 490.74521141908303, 729.4489290106272, 202.84820835147246, 158.97283524826716, 347.19407138224585, 917.5696883768535, 360.6891695645412, 1639.6173628049098, 290.84055784443655, 480.05717087320613, 566.8880648412247, 1957.5828189068254, 485.8079696010428, 2724.5961640999008, 1233.0102641983253, 295.1250773186659, 408.8360229014493, 962.1582937407185, 546.9323758766112, 858.9433667521115, 942.7934901987263, 632.7196324093135, 574.0667865062179, 560.8515164826283, 470.13594833340665, 4151.9286076757, 487.8566781149083, 146.12502114641237, 116.35202811803686, 105.14140269528522, 101.6916276748983, 104.92799052659365, 102.73873823777096, 99.51312375677402, 99.41000270042224, 107.1284889940815, 91.82544790415258, 54.43284401890663, 258.4297691099793, 107.30677903946919, 47.74797141750047, 46.64315942774726, 55.92742867639777, 42.00570061114379, 236.10810697029152, 31.628907144480156, 30.920437788207312, 50.98518188956077, 31.552261420081166, 27.96162463113833, 30.726439428538875, 34.684756827776354, 244.10220662683565, 25.284300334322328, 24.89993198812796, 144.58932283695324, 97.26181641402037, 87.44155370697598, 634.1189575452769, 63.16110775070073, 226.6360882086458, 117.36703266698302, 167.46542648207037, 120.43746740270332, 131.2435619439806, 239.55823779247, 128.57958932548647, 337.44258801830415, 658.1525352664795, 392.14042564986926, 257.59835599073364, 403.0601279696339, 576.4382084954789, 869.4545801422723, 962.1582937407185, 383.51820189447193, 266.36337560316554, 697.0575176935217, 1385.5888509607457, 359.7094382354308, 1023.3833594530983, 1183.0136559236744, 1233.0102641983253, 345.28294133623274, 181.7560051589894, 483.72690268268207, 1373.321020306458, 571.9365731798541, 480.05717087320613, 377.2490561041631, 589.7961402240164, 1007.9065708093054, 323.30732079347507, 111.40915286301663, 84.83261678534176, 1004.7151179339214, 416.660390622448, 93.38970744979204, 47.48379597000624, 37.236169855947594, 34.20109051503757, 30.806509114214528, 104.63913646194908, 27.574390863145794, 62.633148093316215, 27.648520189662335, 22.365441891792177, 20.422216833180208, 20.554049063831346, 39.53171724684843, 18.472319332850933, 112.05057546917838, 17.319177934787685, 20.49389095736323, 15.36190489649795, 19.16971503469344, 14.975203142652749, 41.0557594231022, 19.31217731360461, 23.976098497273796, 14.470726234457967, 15.147735540623962, 201.45799422244403, 123.40025433408366, 28.285089888194264, 102.43601151492744, 43.02485575328162, 217.90125499300595, 97.19750984649926, 216.4275586424405, 34.99334764344862, 1385.5888509607457, 44.53497585152916, 470.13594833340665, 71.71522236801135, 152.56472282321323, 1183.0136559236744, 247.23090668988033, 153.4123960654395, 869.4545801422723, 120.48383481233452, 1676.5136129623818, 1373.321020306458, 986.1104812466584, 119.02782981105804, 1639.6173628049098, 495.8951718442507, 253.38603676571353, 192.39482062653138, 1305.6332164063294, 942.7934901987263, 1233.0102641983253, 2724.5961640999008], \"Category\": [\"Default\", \"Default\", \"Default\", \"Default\", \"Default\", \"Default\", \"Default\", \"Default\", \"Default\", \"Default\", \"Default\", \"Default\", \"Default\", \"Default\", \"Default\", \"Default\", \"Default\", \"Default\", \"Default\", \"Default\", \"Default\", \"Default\", \"Default\", \"Default\", \"Default\", \"Default\", \"Default\", \"Default\", \"Default\", \"Default\", \"Topic1\", \"Topic1\", \"Topic1\", \"Topic1\", \"Topic1\", \"Topic1\", \"Topic1\", \"Topic1\", \"Topic1\", \"Topic1\", \"Topic1\", \"Topic1\", \"Topic1\", \"Topic1\", \"Topic1\", \"Topic1\", \"Topic1\", \"Topic1\", \"Topic1\", \"Topic1\", \"Topic1\", \"Topic1\", \"Topic1\", \"Topic1\", \"Topic1\", \"Topic1\", \"Topic1\", \"Topic1\", \"Topic1\", \"Topic1\", \"Topic1\", \"Topic1\", \"Topic1\", \"Topic1\", \"Topic1\", \"Topic1\", \"Topic1\", \"Topic1\", \"Topic1\", \"Topic1\", \"Topic1\", \"Topic1\", \"Topic1\", \"Topic1\", \"Topic1\", \"Topic1\", \"Topic1\", \"Topic1\", \"Topic1\", \"Topic1\", \"Topic1\", \"Topic1\", \"Topic1\", \"Topic1\", \"Topic1\", \"Topic1\", \"Topic1\", \"Topic1\", \"Topic1\", \"Topic1\", \"Topic1\", \"Topic1\", \"Topic1\", \"Topic1\", \"Topic1\", \"Topic1\", \"Topic1\", \"Topic1\", \"Topic1\", \"Topic1\", \"Topic1\", \"Topic1\", \"Topic1\", \"Topic1\", \"Topic1\", \"Topic1\", \"Topic1\", \"Topic1\", \"Topic1\", \"Topic1\", \"Topic1\", \"Topic1\", \"Topic1\", \"Topic1\", \"Topic1\", \"Topic2\", \"Topic2\", \"Topic2\", \"Topic2\", \"Topic2\", \"Topic2\", \"Topic2\", \"Topic2\", \"Topic2\", \"Topic2\", \"Topic2\", \"Topic2\", \"Topic2\", \"Topic2\", \"Topic2\", \"Topic2\", \"Topic2\", \"Topic2\", \"Topic2\", \"Topic2\", \"Topic2\", \"Topic2\", \"Topic2\", \"Topic2\", \"Topic2\", \"Topic2\", \"Topic2\", \"Topic2\", \"Topic2\", \"Topic2\", \"Topic2\", \"Topic2\", \"Topic2\", \"Topic2\", \"Topic2\", \"Topic2\", \"Topic2\", \"Topic2\", \"Topic2\", \"Topic2\", \"Topic2\", \"Topic2\", \"Topic2\", \"Topic2\", \"Topic2\", \"Topic2\", \"Topic2\", \"Topic2\", \"Topic2\", \"Topic2\", \"Topic2\", \"Topic2\", \"Topic2\", \"Topic2\", \"Topic2\", \"Topic2\", \"Topic2\", \"Topic2\", \"Topic2\", \"Topic2\", \"Topic2\", \"Topic2\", \"Topic2\", \"Topic2\", \"Topic2\", \"Topic2\", \"Topic2\", \"Topic2\", \"Topic2\", \"Topic2\", \"Topic2\", \"Topic2\", \"Topic2\", \"Topic2\", \"Topic2\", \"Topic2\", \"Topic2\", \"Topic2\", \"Topic2\", \"Topic2\", \"Topic2\", \"Topic2\", \"Topic2\", \"Topic3\", \"Topic3\", \"Topic3\", \"Topic3\", \"Topic3\", \"Topic3\", \"Topic3\", \"Topic3\", \"Topic3\", \"Topic3\", \"Topic3\", \"Topic3\", \"Topic3\", \"Topic3\", \"Topic3\", \"Topic3\", \"Topic3\", \"Topic3\", \"Topic3\", \"Topic3\", \"Topic3\", \"Topic3\", \"Topic3\", \"Topic3\", \"Topic3\", \"Topic3\", \"Topic3\", \"Topic3\", \"Topic3\", \"Topic3\", \"Topic3\", \"Topic3\", \"Topic3\", \"Topic3\", \"Topic3\", \"Topic3\", \"Topic3\", \"Topic3\", \"Topic3\", \"Topic3\", \"Topic3\", \"Topic3\", \"Topic3\", \"Topic3\", \"Topic3\", \"Topic3\", \"Topic3\", \"Topic3\", \"Topic3\", \"Topic3\", \"Topic3\", \"Topic3\", \"Topic3\", \"Topic3\", \"Topic3\", \"Topic3\", \"Topic3\", \"Topic3\", \"Topic3\", \"Topic3\", \"Topic3\", \"Topic3\", \"Topic3\", \"Topic3\", \"Topic3\", \"Topic3\", \"Topic3\", \"Topic3\", \"Topic3\", \"Topic4\", \"Topic4\", \"Topic4\", \"Topic4\", \"Topic4\", \"Topic4\", \"Topic4\", \"Topic4\", \"Topic4\", \"Topic4\", \"Topic4\", \"Topic4\", \"Topic4\", \"Topic4\", \"Topic4\", \"Topic4\", \"Topic4\", \"Topic4\", \"Topic4\", \"Topic4\", \"Topic4\", \"Topic4\", \"Topic4\", \"Topic4\", \"Topic4\", \"Topic4\", \"Topic4\", \"Topic4\", \"Topic4\", \"Topic4\", \"Topic4\", \"Topic4\", \"Topic4\", \"Topic4\", \"Topic4\", \"Topic4\", \"Topic4\", \"Topic4\", \"Topic4\", \"Topic4\", \"Topic4\", \"Topic4\", \"Topic4\", \"Topic4\", \"Topic4\", \"Topic4\", \"Topic4\", \"Topic4\", \"Topic4\", \"Topic4\", \"Topic4\", \"Topic4\", \"Topic4\", \"Topic4\", \"Topic4\", \"Topic4\", \"Topic4\", \"Topic4\", \"Topic4\", \"Topic4\", \"Topic4\", \"Topic4\", \"Topic4\", \"Topic5\", \"Topic5\", \"Topic5\", \"Topic5\", \"Topic5\", \"Topic5\", \"Topic5\", \"Topic5\", \"Topic5\", \"Topic5\", \"Topic5\", \"Topic5\", \"Topic5\", \"Topic5\", \"Topic5\", \"Topic5\", \"Topic5\", \"Topic5\", \"Topic5\", \"Topic5\", \"Topic5\", \"Topic5\", \"Topic5\", \"Topic5\", \"Topic5\", \"Topic5\", \"Topic5\", \"Topic5\", \"Topic5\", \"Topic5\", \"Topic5\", \"Topic5\", \"Topic5\", \"Topic5\", \"Topic5\", \"Topic5\", \"Topic5\", \"Topic5\", \"Topic5\", \"Topic5\", \"Topic5\", \"Topic5\", \"Topic5\", \"Topic5\", \"Topic5\", \"Topic5\", \"Topic5\", \"Topic5\", \"Topic5\", \"Topic5\", \"Topic5\", \"Topic5\", \"Topic5\", \"Topic5\", \"Topic5\", \"Topic5\", \"Topic5\", \"Topic5\", \"Topic5\", \"Topic5\", \"Topic5\", \"Topic5\", \"Topic5\", \"Topic5\", \"Topic5\", \"Topic5\", \"Topic6\", \"Topic6\", \"Topic6\", \"Topic6\", \"Topic6\", \"Topic6\", \"Topic6\", \"Topic6\", \"Topic6\", \"Topic6\", \"Topic6\", \"Topic6\", \"Topic6\", \"Topic6\", \"Topic6\", \"Topic6\", \"Topic6\", \"Topic6\", \"Topic6\", \"Topic6\", \"Topic6\", \"Topic6\", \"Topic6\", \"Topic6\", \"Topic6\", \"Topic6\", \"Topic6\", \"Topic6\", \"Topic6\", \"Topic6\", \"Topic6\", \"Topic6\", \"Topic6\", \"Topic6\", \"Topic6\", \"Topic6\", \"Topic6\", \"Topic6\", \"Topic6\", \"Topic6\", \"Topic6\", \"Topic6\", \"Topic6\", \"Topic6\", \"Topic6\", \"Topic6\", \"Topic6\", \"Topic6\", \"Topic6\", \"Topic6\", \"Topic6\", \"Topic6\", \"Topic6\", \"Topic6\", \"Topic6\", \"Topic6\", \"Topic6\", \"Topic6\", \"Topic6\", \"Topic6\", \"Topic6\", \"Topic6\", \"Topic6\", \"Topic6\", \"Topic6\", \"Topic6\", \"Topic7\", \"Topic7\", \"Topic7\", \"Topic7\", \"Topic7\", \"Topic7\", \"Topic7\", \"Topic7\", \"Topic7\", \"Topic7\", \"Topic7\", \"Topic7\", \"Topic7\", \"Topic7\", \"Topic7\", \"Topic7\", \"Topic7\", \"Topic7\", \"Topic7\", \"Topic7\", \"Topic7\", \"Topic7\", \"Topic7\", \"Topic7\", \"Topic7\", \"Topic7\", \"Topic7\", \"Topic7\", \"Topic7\", \"Topic7\", \"Topic7\", \"Topic7\", \"Topic7\", \"Topic7\", \"Topic7\", \"Topic7\", \"Topic7\", \"Topic7\", \"Topic7\", \"Topic7\", \"Topic7\", \"Topic7\", \"Topic7\", \"Topic7\", \"Topic7\", \"Topic7\", \"Topic7\", \"Topic7\", \"Topic7\", \"Topic7\", \"Topic7\", \"Topic7\", \"Topic7\", \"Topic7\", \"Topic7\", \"Topic7\", \"Topic7\", \"Topic7\", \"Topic7\", \"Topic7\", \"Topic7\"], \"logprob\": [30.0, 29.0, 28.0, 27.0, 26.0, 25.0, 24.0, 23.0, 22.0, 21.0, 20.0, 19.0, 18.0, 17.0, 16.0, 15.0, 14.0, 13.0, 12.0, 11.0, 10.0, 9.0, 8.0, 7.0, 6.0, 5.0, 4.0, 3.0, 2.0, 1.0, -7.1119, -6.9269, -6.9079, -7.3135, -7.2857, -7.4579, -7.8277, -7.6051, -7.8476, -7.8086, -7.8726, -7.9772, -7.8593, -8.004, -7.992, -7.6538, -6.6341, -7.8493, -8.1759, -8.0605, -8.067, -8.0401, -8.186, -7.9505, -7.0514, -8.2553, -8.3315, -7.8431, -8.3508, -8.0855, -6.3341, -7.2846, -6.9857, -7.2863, -7.9116, -6.6832, -7.546, -7.8271, -6.1472, -6.6108, -7.0111, -6.9812, -5.9301, -7.2913, -7.5859, -6.6182, -5.4944, -4.7362, -6.7769, -7.0793, -6.0196, -6.1705, -7.5074, -6.6176, -5.9691, -6.9684, -5.2547, -5.852, -5.4869, -6.048, -5.9729, -6.7262, -5.571, -5.9461, -5.9588, -6.2035, -5.9347, -5.6288, -6.0606, -6.6714, -5.7036, -5.8532, -4.9843, -6.0835, -6.1316, -5.9309, -6.3194, -5.9296, -5.9598, -6.0965, -6.0577, -5.8207, -6.0157, -6.0937, -6.1104, -7.2366, -6.2081, -7.3647, -7.6021, -7.4915, -6.7304, -7.6339, -7.5948, -7.6954, -7.7975, -7.8684, -7.4824, -8.0036, -8.0252, -7.8723, -6.0951, -6.158, -7.8246, -8.1651, -7.8773, -8.1069, -8.2167, -7.5707, -8.338, -8.3873, -6.9832, -8.3762, -7.953, -8.0627, -8.449, -6.5327, -5.9455, -5.4818, -6.2593, -6.859, -7.3862, -7.3122, -7.7048, -6.8195, -7.2229, -6.5222, -7.2965, -7.3021, -6.5526, -5.8408, -5.6718, -6.0205, -5.739, -6.4901, -6.3893, -7.0484, -5.7746, -6.9886, -6.7806, -5.2626, -5.3887, -5.8204, -5.2033, -6.6464, -6.2554, -5.4007, -5.2081, -6.0514, -5.9901, -4.7423, -5.7432, -5.3014, -6.0334, -5.5594, -5.9598, -6.1249, -6.0664, -6.0731, -5.7521, -5.8195, -5.946, -5.9683, -6.0281, -5.9657, -5.9742, -5.9958, -6.036, -6.025, -6.0186, -6.025, -6.23, -4.9341, -5.5421, -6.6595, -6.8312, -6.6654, -6.7917, -6.8439, -4.6777, -6.3171, -7.0041, -6.9809, -7.0112, -7.075, -7.0742, -7.1376, -6.9825, -7.1884, -4.4168, -7.2392, -5.985, -7.1731, -6.3385, -7.3255, -6.0857, -7.3694, -7.2562, -7.4877, -5.9102, -6.5833, -6.4615, -7.0859, -6.7272, -6.2183, -6.1617, -6.8975, -6.385, -6.7823, -6.3564, -5.1281, -5.8855, -6.2956, -4.4339, -6.3652, -5.8055, -6.1481, -6.2494, -6.4482, -4.7131, -4.73, -5.2844, -5.8213, -5.1659, -4.7081, -5.468, -5.4501, -5.2527, -5.8381, -5.9525, -5.9102, -6.149, -6.0216, -5.9861, -6.0309, -6.1168, -6.129, -6.125, -4.411, -5.4898, -5.7844, -5.8004, -5.6309, -5.7159, -6.1286, -5.1548, -6.1521, -6.3262, -6.363, -6.4947, -6.5479, -6.5862, -6.8008, -6.7809, -6.8261, -6.7409, -6.8834, -6.8792, -6.8748, -6.4487, -6.9513, -7.0531, -6.9991, -7.0173, -7.0398, -6.2535, -6.5355, -6.8422, -4.1059, -5.6532, -5.6848, -6.3269, -6.1044, -6.8076, -4.9926, -6.0672, -5.4999, -5.9465, -5.8424, -5.1459, -5.3601, -5.2609, -4.6522, -4.9972, -5.7472, -4.5066, -6.0541, -4.8493, -5.1521, -5.4564, -4.6288, -4.96, -5.3946, -4.9365, -5.3916, -5.9643, -5.0886, -5.1617, -5.7513, -5.6033, -5.6983, -5.2607, -5.55, -5.5096, -5.5176, -6.0086, -6.0651, -5.7443, -6.187, -6.2411, -5.8443, -6.1159, -5.9733, -6.2691, -6.2494, -6.2491, -6.3914, -6.2839, -6.195, -6.4095, -6.6765, -6.3017, -6.7212, -6.6541, -6.3759, -6.7946, -6.7782, -6.7822, -6.6257, -6.8727, -6.833, -5.6768, -5.5153, -5.9574, -6.4984, -6.7004, -5.9183, -6.0623, -6.0604, -5.3678, -5.2898, -5.0798, -4.8366, -5.8837, -6.0785, -5.5226, -4.9028, -5.5685, -4.6416, -5.7215, -5.4293, -5.3336, -4.6527, -5.4498, -4.5738, -5.0323, -5.7649, -5.6322, -5.2797, -5.5676, -5.4283, -5.4052, -5.5398, -5.6238, -5.6412, -5.6813, -5.6709, -4.415, -5.6266, -5.8551, -5.9582, -5.9924, -5.9611, -5.9823, -6.0143, -6.0157, -5.9416, -6.0958, -6.6241, -5.0667, -5.9457, -6.7584, -6.7821, -6.6027, -6.8894, -5.1635, -7.1801, -7.2034, -6.7062, -7.1863, -7.3087, -7.2149, -7.0949, -5.1447, -7.4126, -7.4286, -5.671, -6.0691, -6.1791, -4.2343, -6.5023, -5.3089, -5.9437, -5.6386, -5.9523, -5.9071, -5.4018, -5.9459, -5.1678, -4.6365, -5.059, -5.4116, -5.1298, -4.918, -4.6997, -4.7496, -5.3375, -5.5406, -5.1406, -4.8508, -5.4664, -5.0788, -5.0404, -5.0403, -5.5218, -5.7657, -5.4329, -5.178, -5.4407, -5.4948, -5.5599, -5.5982, -5.5902, -4.2133, -5.2857, -5.5607, -3.09, -3.9725, -5.4737, -6.1537, -6.4033, -6.4908, -6.5972, -5.3787, -6.7128, -5.8966, -6.7202, -6.9334, -7.0285, -7.0221, -6.3739, -7.1356, -5.3336, -7.2071, -7.0449, -7.3338, -7.1147, -7.3617, -6.357, -7.1112, -6.8955, -7.4007, -7.3558, -4.8147, -5.3463, -6.7569, -5.5589, -6.3705, -4.9293, -5.6945, -5.0327, -6.5896, -3.6045, -6.4204, -4.6201, -6.0647, -5.5064, -4.0977, -5.3742, -5.7647, -4.8538, -5.9031, -4.6218, -4.7504, -4.9869, -5.911, -4.905, -5.3733, -5.6448, -5.7476, -5.2119, -5.3133, -5.4725, -5.5296], \"loglift\": [30.0, 29.0, 28.0, 27.0, 26.0, 25.0, 24.0, 23.0, 22.0, 21.0, 20.0, 19.0, 18.0, 17.0, 16.0, 15.0, 14.0, 13.0, 12.0, 11.0, 10.0, 9.0, 8.0, 7.0, 6.0, 5.0, 4.0, 3.0, 2.0, 1.0, 1.0451, 1.0447, 1.0441, 1.041, 1.0407, 1.0405, 1.0404, 1.0396, 1.0395, 1.0388, 1.0385, 1.0384, 1.0384, 1.0384, 1.0383, 1.037, 1.0369, 1.0362, 1.0361, 1.0361, 1.0356, 1.0352, 1.035, 1.0347, 1.0347, 1.0345, 1.0339, 1.0333, 1.033, 1.0329, 1.0266, 1.0314, 1.0281, 1.0282, 1.0328, 1.0176, 1.0288, 1.0309, 0.9926, 1.0048, 1.014, 0.9991, 0.9544, 1.0109, 1.0227, 0.9821, 0.9205, 0.88, 0.9856, 0.998, 0.9258, 0.9243, 1.0187, 0.9497, 0.8817, 0.9683, 0.7683, 0.8384, 0.7101, 0.7997, 0.7524, 0.9124, 0.642, 0.7293, 0.7256, 0.7867, 0.7129, 0.6078, 0.6876, 0.8974, 0.4403, 0.5068, 0.0393, 0.6035, 0.6274, 0.5083, 0.728, 0.3937, 0.4068, 0.5017, 0.4189, 0.0675, 0.209, 0.3326, 0.2295, 1.6022, 1.6014, 1.6009, 1.5985, 1.5966, 1.596, 1.5954, 1.595, 1.595, 1.5949, 1.5913, 1.5913, 1.5906, 1.5892, 1.5892, 1.589, 1.5889, 1.5886, 1.5854, 1.5852, 1.5846, 1.5836, 1.5816, 1.5797, 1.5795, 1.579, 1.5789, 1.5789, 1.5782, 1.5782, 1.5711, 1.5586, 1.5527, 1.5524, 1.5586, 1.5659, 1.5607, 1.572, 1.5442, 1.5536, 1.5144, 1.5526, 1.5529, 1.4946, 1.398, 1.3719, 1.3952, 1.3545, 1.4431, 1.4076, 1.5038, 1.2732, 1.4882, 1.4397, 1.026, 1.0581, 1.167, 0.9982, 1.3817, 1.246, 0.9393, 0.7507, 1.105, 1.0134, 0.2812, 0.8656, 0.5867, 1.0184, 0.5871, 0.9097, 1.0717, 0.9951, 0.9789, 0.5234, 0.6068, 0.7639, 0.6299, 0.7195, 0.3558, 0.2624, 0.3275, 0.5373, 0.1554, 1.9224, 1.922, 1.9212, 1.9208, 1.9187, 1.9186, 1.9178, 1.9176, 1.9176, 1.9164, 1.9162, 1.9159, 1.9157, 1.9153, 1.9153, 1.9147, 1.9143, 1.9139, 1.9139, 1.9132, 1.9119, 1.9118, 1.9114, 1.9112, 1.911, 1.9095, 1.9093, 1.9093, 1.9089, 1.9085, 1.9039, 1.9041, 1.9026, 1.9076, 1.9025, 1.8875, 1.881, 1.903, 1.8794, 1.8977, 1.8695, 1.7386, 1.8067, 1.8438, 1.5829, 1.8318, 1.7348, 1.7604, 1.7802, 1.8069, 1.2173, 0.7148, 1.0371, 1.3214, 0.793, 0.3154, 0.8584, 0.8254, 0.5227, 0.9143, 1.0488, 0.8546, 1.4359, 0.9762, 0.1604, 0.5023, 1.1067, 1.1057, 0.5849, 2.2303, 2.228, 2.2276, 2.2274, 2.227, 2.2256, 2.2253, 2.2248, 2.2246, 2.2236, 2.2225, 2.2218, 2.2212, 2.2205, 2.2179, 2.2176, 2.2171, 2.2169, 2.2166, 2.2162, 2.2151, 2.2151, 2.2147, 2.2135, 2.2133, 2.2131, 2.2129, 2.2126, 2.2122, 2.2107, 2.2102, 2.2085, 2.1983, 2.2038, 2.1941, 2.2099, 2.0938, 2.152, 2.0918, 2.132, 2.1033, 2.0026, 2.0281, 1.9515, 1.8089, 1.8108, 1.9956, 1.6232, 2.081, 1.6567, 1.7033, 1.7724, 1.3238, 1.3191, 1.5717, 0.8389, 1.1954, 1.9837, 0.3562, -0.1382, 1.5568, 0.327, 0.5264, 2.2951, 2.2927, 2.2921, 2.292, 2.2914, 2.2911, 2.2906, 2.2895, 2.2895, 2.2892, 2.2891, 2.2889, 2.2888, 2.2888, 2.2887, 2.2878, 2.2876, 2.2869, 2.2864, 2.2841, 2.2838, 2.2836, 2.2835, 2.2832, 2.2829, 2.2824, 2.2824, 2.2822, 2.2811, 2.2805, 2.277, 2.2639, 2.2709, 2.2752, 2.2784, 2.2291, 2.2335, 2.2246, 2.1397, 2.1098, 2.0791, 1.926, 2.1587, 2.2076, 1.9823, 1.6303, 1.8984, 1.311, 1.9606, 1.7516, 1.6811, 1.1227, 1.7192, 0.871, 1.2053, 1.9026, 1.7093, 1.2059, 1.4829, 1.1708, 1.1008, 1.3651, 1.3783, 1.3842, 1.5206, -0.6474, 2.7498, 2.7438, 2.7431, 2.7413, 2.7406, 2.7405, 2.7404, 2.7403, 2.7399, 2.7392, 2.7392, 2.7338, 2.7335, 2.7335, 2.7305, 2.7302, 2.7281, 2.7277, 2.727, 2.7207, 2.72, 2.7172, 2.7169, 2.7153, 2.7148, 2.7136, 2.7126, 2.7121, 2.7114, 2.7099, 2.7083, 2.7048, 2.6683, 2.7069, 2.6226, 2.6459, 2.5955, 2.6114, 2.5707, 2.4742, 2.5525, 2.3657, 2.2289, 2.3243, 2.3919, 2.226, 2.08, 1.8873, 1.736, 2.068, 2.2294, 1.6674, 1.2701, 2.0032, 1.3452, 1.2386, 1.1973, 1.9887, 2.3865, 1.7405, 0.9519, 1.5651, 1.6862, 1.862, 1.3768, 0.849, 3.3629, 3.356, 3.3535, 3.3524, 3.3501, 3.3444, 3.3408, 3.3343, 3.3318, 3.3299, 3.3256, 3.3251, 3.321, 3.3151, 3.314, 3.3097, 3.3097, 3.3039, 3.303, 3.3023, 3.2959, 3.2898, 3.2892, 3.2869, 3.2868, 3.283, 3.2829, 3.2823, 3.282, 3.2812, 3.2346, 3.1931, 3.2556, 3.1667, 3.2226, 3.0415, 3.0836, 2.9449, 3.2101, 2.5165, 3.1382, 2.5817, 3.0174, 2.8209, 2.1814, 2.4704, 2.557, 1.7332, 2.6603, 1.3086, 1.3795, 1.4742, 2.6645, 1.0476, 1.7752, 2.1752, 2.3477, 0.9685, 1.1927, 0.7652, -0.0848]}, \"token.table\": {\"Topic\": [1, 2, 3, 4, 5, 6, 7, 1, 2, 3, 4, 5, 6, 7, 1, 2, 5, 6, 4, 7, 4, 7, 7, 5, 2, 3, 2, 2, 1, 2, 3, 4, 5, 6, 7, 3, 4, 5, 6, 5, 3, 1, 2, 3, 5, 6, 7, 4, 3, 4, 6, 7, 1, 2, 3, 5, 6, 4, 7, 4, 7, 2, 5, 5, 1, 2, 1, 2, 3, 4, 5, 6, 7, 1, 2, 3, 4, 5, 6, 7, 7, 4, 5, 6, 7, 7, 1, 2, 3, 3, 3, 1, 2, 3, 6, 1, 2, 3, 1, 2, 5, 4, 7, 3, 7, 6, 2, 1, 2, 3, 4, 5, 6, 7, 4, 7, 1, 4, 1, 5, 6, 1, 2, 3, 4, 6, 7, 1, 2, 3, 4, 3, 5, 6, 4, 7, 1, 2, 3, 4, 5, 6, 7, 5, 6, 1, 2, 2, 4, 7, 1, 2, 3, 4, 5, 6, 7, 4, 5, 6, 7, 1, 3, 5, 1, 4, 5, 6, 7, 4, 7, 1, 2, 3, 4, 5, 6, 7, 2, 1, 2, 3, 4, 6, 7, 1, 2, 1, 2, 3, 4, 5, 6, 2, 3, 6, 1, 2, 2, 5, 1, 7, 4, 5, 7, 1, 1, 2, 3, 4, 5, 6, 7, 1, 2, 3, 6, 3, 1, 2, 3, 4, 5, 6, 3, 5, 7, 2, 3, 4, 5, 6, 7, 1, 2, 3, 4, 5, 6, 7, 1, 2, 3, 4, 5, 1, 2, 3, 4, 5, 6, 7, 3, 4, 5, 6, 7, 4, 6, 6, 3, 1, 2, 3, 4, 5, 6, 7, 4, 7, 2, 4, 6, 7, 5, 6, 1, 4, 1, 4, 7, 1, 4, 5, 4, 1, 2, 3, 4, 5, 6, 4, 5, 7, 1, 2, 3, 4, 5, 6, 7, 6, 1, 2, 3, 4, 5, 6, 7, 1, 2, 3, 1, 2, 3, 4, 5, 6, 7, 1, 2, 3, 1, 2, 3, 4, 5, 6, 7, 3, 7, 5, 7, 1, 2, 4, 7, 1, 2, 3, 5, 6, 1, 2, 4, 7, 3, 4, 7, 1, 2, 3, 5, 6, 1, 2, 3, 4, 5, 6, 7, 1, 2, 1, 1, 2, 6, 5, 6, 1, 2, 1, 2, 1, 2, 3, 5, 1, 2, 2, 5, 1, 2, 1, 2, 1, 2, 1, 2, 1, 2, 5, 6, 7, 4, 5, 1, 2, 3, 4, 6, 7, 2, 6, 6, 1, 2, 3, 5, 6, 1, 1, 2, 3, 4, 6, 7, 1, 2, 3, 6, 2, 6, 1, 2, 3, 4, 5, 6, 7, 1, 2, 3, 4, 5, 6, 7, 1, 2, 4, 6, 1, 2, 3, 6, 1, 2, 1, 2, 5, 6, 2, 5, 1, 2, 2, 3, 4, 5, 6, 7, 1, 2, 3, 4, 5, 6, 7, 1, 2, 4, 5, 6, 7, 1, 2, 3, 6, 2, 7, 7, 1, 2, 3, 4, 6, 1, 2, 3, 4, 5, 6, 7, 7, 1, 2, 3, 4, 5, 6, 7, 1, 4, 7, 1, 2, 3, 1, 2, 5, 6, 7, 4, 1, 2, 3, 4, 6, 4, 5, 6, 7, 1, 2, 3, 4, 5, 6, 1, 4, 1, 1, 2, 3, 4, 5, 6, 7, 1, 2, 1, 2, 3, 4, 5, 6, 1, 2, 3, 6, 1, 2, 1, 1, 2, 3, 4, 5, 6, 7, 1, 2, 3, 5, 6, 1, 2, 4, 5, 1, 2, 3, 4, 6, 7, 4, 7, 4, 5, 4, 7, 4, 6, 7, 3, 5, 1, 2, 3, 4, 5, 6, 7, 1, 2, 3, 4, 5, 6, 7, 1, 2, 3, 4, 5, 6, 7, 5, 1, 2, 3, 4, 4, 5, 6, 2, 6, 6, 3, 5, 6, 3, 4, 5, 6, 7, 3, 4, 1, 2, 3, 4, 5, 6, 7, 4, 7, 1, 2, 3, 4, 5, 6, 7, 4, 6, 6, 6, 1, 2, 3, 4, 5, 6, 7, 2, 7, 7, 3, 4, 5, 6, 7, 3, 4, 1, 2, 3, 4, 5, 6, 7, 1, 2, 3, 4, 5, 6, 7, 1, 2, 3, 4, 5, 6, 7, 6, 1, 2, 3, 4, 5, 6, 7, 7, 6, 4, 5, 7, 4, 5, 7, 7, 2, 3, 5, 1, 2, 3, 4, 5, 6, 7, 1, 2, 3, 4, 6, 7, 3, 6, 4, 6, 4, 4, 5, 4, 3, 5, 2, 7, 4, 4, 6, 1, 3, 4, 5, 6, 7, 3, 4, 4, 1, 2, 3, 5, 6, 3, 5, 1, 4, 7, 7, 1, 2, 3, 6, 1, 2, 1, 2, 3, 6, 6, 1, 2, 3, 4, 5, 6, 7, 1, 2, 3, 4, 5, 6, 7, 1, 2, 2, 3, 5, 1, 2, 6, 3, 4, 5, 6, 7, 1, 2, 1, 2, 3, 1, 4, 7, 5, 1, 3, 5, 3, 5, 6, 1, 2, 3, 4, 5, 6, 7, 2, 5, 6, 4, 6, 1, 1, 2, 3, 5, 1, 2, 3, 4, 5, 6, 7, 1, 2, 3, 4, 6, 7, 1, 3, 4, 6, 7, 1, 2, 3, 7, 1, 2, 4, 5, 6, 2, 5, 4, 1, 2, 3, 4, 5, 6, 7, 1, 2, 4, 4, 5, 1, 2, 3, 4, 5, 6, 7, 1, 2, 3, 4, 5, 6, 7, 2, 4, 5, 7, 4, 4, 5, 7, 4, 7, 4, 6, 7, 2, 3, 4, 5, 6, 7, 1, 3, 4, 5, 6, 7, 4, 7, 1, 2, 1, 2, 3, 6, 7, 1, 2, 3, 4, 5, 7, 1, 2, 1, 2, 3, 4, 5, 6, 1, 2, 2, 6, 3, 5, 1, 2, 4, 6, 7, 1, 2, 3, 4, 5, 6, 1, 2, 3, 4, 5, 6, 7, 2, 3, 6, 2, 3, 1, 2, 2, 1, 2, 3, 1, 2, 5, 1, 2, 3, 4, 5, 6, 7, 1, 2, 3, 4, 6, 7, 1, 2, 3, 4, 5, 6, 7, 3, 1, 2, 3, 4, 5, 6, 7, 1, 2, 5, 6, 7, 1, 2, 3, 4, 5, 6, 7, 1, 2, 3, 4, 5, 6, 1, 2, 3, 4, 5, 6, 7, 1, 2, 3, 4, 5, 6, 7, 1, 2, 3, 4, 6, 7, 1, 2, 5, 6, 2, 5, 5, 2, 3, 6, 5, 3, 5, 1, 2, 3, 6, 7, 3, 1, 2, 3, 4, 7, 5, 1, 2, 4, 5, 6, 7, 1, 2, 6, 1, 4, 7, 6, 1, 2, 4, 1, 2, 3, 4, 5, 6, 7, 1, 2, 3, 6, 1, 2, 3, 4, 5, 6, 7, 3, 6, 3, 6, 1, 1, 4, 5, 7, 1, 2, 3, 3, 4, 5, 1, 2, 3, 4, 5, 6, 7, 4, 5, 7, 3, 3, 5, 3, 6, 2, 4, 7, 1, 2, 3, 1, 2, 4, 4, 1, 2, 3, 4, 5, 6, 7, 1, 4, 7, 6, 4, 5, 6, 7, 4, 2, 1, 2, 3, 4, 5, 6, 1, 2, 3, 4, 5, 6, 7, 4, 1, 2, 3, 4, 5, 6, 7, 1, 1, 3, 5, 1, 2, 3, 4, 5, 6, 7, 1, 2, 3, 4, 5, 6, 7, 1, 3, 5, 6, 1, 2, 3, 5, 6, 7, 3, 1, 2, 3, 4, 5, 6, 7, 1, 2, 3, 4, 5, 6, 7, 1, 2, 3, 4, 5, 6, 7, 1, 2, 3, 6, 2, 6, 3, 5, 5, 6, 1, 2, 3, 4, 5, 6, 7, 4, 6, 6, 1, 2, 3, 5, 6, 1, 2, 3, 4, 5, 6, 3, 3, 3, 6, 1, 2, 3, 4, 6, 4, 5, 6, 7, 1, 2, 3, 4, 5, 6, 7, 1, 2, 6, 1, 2, 6, 2, 4, 5, 6, 7, 1, 2, 3, 4, 5, 6, 7, 1, 2, 1, 2, 3, 4, 5, 6, 1, 2, 7, 4, 1, 2, 3, 4, 5, 6, 7, 1, 2, 3, 4, 5, 6, 7, 2, 4, 7, 1, 2, 3, 4, 5, 6, 7, 1, 3, 5, 1, 2, 1, 2, 1, 2, 3, 6, 2, 1, 2, 3, 4, 5, 6, 4, 2, 5, 5, 5, 2, 5, 1, 3, 4, 5, 6, 7, 1, 2, 2, 2, 1, 2, 3, 5, 1, 2, 3, 4, 5, 6, 7, 1, 2, 6, 1, 2, 3, 6, 7, 1, 2, 3, 4, 6, 7, 2, 4, 5, 2, 4, 5, 6, 7, 5, 1, 2, 3, 4, 6, 3, 6, 5, 6, 1, 2, 3, 4, 5, 6, 7, 6, 2, 4, 5, 4], \"Freq\": [0.35826912526545357, 0.5405326758917651, 0.022685162953489418, 0.04693481990377121, 0.0007822469983961868, 0.024249656950281792, 0.007040222985565682, 0.5814030952585886, 0.16271349423619202, 0.01984310905319415, 0.05655286080160333, 0.017858798147874735, 0.14882331789895614, 0.012898020884576198, 0.19924046071267584, 0.7921023194186869, 0.0048595234320164835, 0.0048595234320164835, 0.9720899267856162, 0.01606760209563002, 0.33729530775978095, 0.6514881971798508, 0.9271055476741232, 0.9840029668192604, 0.9752290922174023, 0.024380727305435057, 0.9735274303852673, 0.9772699262559172, 0.08840153497900463, 0.020275581417202898, 0.1524723722573658, 0.11922041873315303, 0.3349526050121919, 0.21167706999559824, 0.07380311635861854, 0.25754643474614697, 0.0035280333526869446, 0.5397891029611025, 0.1975698677504689, 0.9879358842235206, 0.9843212901322498, 0.09038982081804274, 0.09949383154791755, 0.708161977488119, 0.08648810193381068, 0.009104010729874809, 0.0058525783263480916, 0.9941563745375643, 0.004303805530893109, 0.6556130425393836, 0.33856603509692457, 0.9389810942637131, 0.3959897087622876, 0.5477566896535608, 0.04186675334931675, 0.0017444480562215313, 0.012211136393550719, 0.028669961368525995, 0.9556653789508666, 0.6341127042958251, 0.3586375130853437, 0.9790528574716277, 0.9906285154303095, 0.9878911018017161, 0.9952753685639975, 0.004503508455040712, 0.10727515483471114, 0.04750756856965779, 0.24520035390791117, 0.24826535833176008, 0.3085437786674549, 0.030650044238488897, 0.01277085176603704, 0.2398295486918301, 0.08731658326158863, 0.14319919654900534, 0.1618267343114776, 0.3236534686229552, 0.03492663330463545, 0.00931376888123612, 0.9429038751586702, 0.17281401079554312, 0.7286990788545401, 0.03456280215910862, 0.06048490377844009, 0.9648815140993977, 0.10656589362863025, 0.8829745472086507, 0.00761184954490216, 0.9933263886306711, 0.9747748070473183, 0.002316427495404683, 0.009265709981618731, 0.9879563267900972, 0.0011582137477023414, 0.0027559173995718106, 0.005511834799143621, 0.9921302638458518, 0.016939689641462603, 0.9655623095633683, 0.016939689641462603, 0.025296143695344338, 0.9359573167277405, 0.993921301624709, 0.9113453112960995, 0.9492056209845385, 0.978031506173461, 0.16806274028865345, 0.014614151329448126, 0.014614151329448126, 0.7891641717901988, 0.0036535378323620314, 0.0036535378323620314, 0.007307075664724063, 0.8149506887806767, 0.18195439906738378, 0.009176355502913128, 0.9818700388117048, 0.9810142995010278, 0.03277315723831114, 0.9627114938753897, 0.2835166288139167, 0.5818438277897544, 0.002115795737417289, 0.12271615277020276, 0.002115795737417289, 0.008463182949669155, 0.005922356006236495, 0.04737884804989196, 0.9416546049916027, 0.983601922914009, 0.011436210332573507, 0.022872420665147015, 0.9492054576036011, 0.8698122013314984, 0.12696605117475032, 0.8782645957177669, 0.04163768204615654, 0.02033468192951831, 0.0029049545613597585, 0.012588136432558954, 0.02227131830375815, 0.02227131830375815, 0.9121055164774168, 0.0817749773393546, 0.9772309702699408, 0.019415184839800148, 0.04881095940826803, 0.12690849446149688, 0.820024118058903, 0.029778620523763077, 0.002127044323125934, 0.002127044323125934, 0.03403270917001494, 0.45944157379520173, 0.01701635458500747, 0.45518748514894986, 0.006518378081869215, 0.5279886246314065, 0.019555134245607647, 0.4432497095671067, 0.00680098714786861, 0.9725411621452112, 0.01360197429573722, 0.005409029867785705, 0.8600357489779272, 0.07031738828121417, 0.016227089603357118, 0.04327223894228564, 0.1796340931377267, 0.7858991574775545, 0.22348735977456144, 0.34033608087496664, 0.22348735977456144, 0.10210082426249, 0.053319319337078105, 0.032899154484580105, 0.02268907205833111, 0.9746078156747742, 0.8822509055722314, 0.05596367684599975, 0.008229952477352904, 0.042795752882235104, 0.004937971486411743, 0.006583961981882324, 0.9920720669762907, 0.004592926236001346, 0.17610972606823283, 0.10517664195741683, 0.05381130518751558, 0.0024459684176143448, 0.5552348307984563, 0.10517664195741683, 0.9646810573621797, 0.9903268031322163, 0.9801160646617564, 0.9841591300598758, 0.01215011271678859, 0.9550346132268229, 0.036732100508723955, 0.9915466894827821, 0.9389485842310464, 0.043981779466129314, 0.9299004801410198, 0.018849334056912564, 0.9929305739803935, 0.1740444372832789, 0.07657955240464272, 0.4159662051070366, 0.036549331829488566, 0.16882310416478052, 0.05917510867631483, 0.06961777491331156, 0.11039419441363348, 0.05370528376879466, 0.8234810177881848, 0.011934507504176592, 0.9838992158863079, 0.13230605873906312, 0.03927836118815936, 0.2873522213239027, 0.09509497971870161, 0.08269128671191445, 0.3638416615324236, 0.9769066955642406, 0.00392332006250699, 0.01569328025002796, 0.9928163348714067, 0.4559322209477144, 0.0106030749057608, 0.1113322865104884, 0.410869152598231, 0.0106030749057608, 0.2734873427454411, 0.19858316606993814, 0.052258727913141616, 0.02090349116525665, 0.398908289736981, 0.052258727913141616, 0.0034839151942094413, 0.11591179833456618, 0.8034795111827883, 0.055321540114224764, 0.0026343590530583222, 0.021074872424466578, 0.02675954453912296, 0.020584265030094587, 0.10497975165348239, 0.03293482404815134, 0.5598920088185728, 0.2490696068641445, 0.006175279509028376, 0.027174086469138044, 0.17857256822576428, 0.06987622234921212, 0.6987622234921211, 0.027174086469138044, 0.019613541875090384, 0.9610635518794288, 0.9931987746610823, 0.9872684569661062, 0.15855560750329242, 0.06643186332892577, 0.2972917640686733, 0.15305020446498366, 0.23966854560104156, 0.05321889603698473, 0.031564310752970254, 0.15397050923866792, 0.8346822342938314, 0.008520280161102803, 0.06816224128882242, 0.9031496970768971, 0.02556084048330841, 0.9790419471117111, 0.018046856167957807, 0.9951192559308935, 0.991641618156052, 0.9923226444323731, 0.07070863157605758, 0.8838578947007197, 0.01646018333068984, 0.9752658623433731, 0.00411504583267246, 0.9756638040892474, 0.049234885428942644, 0.7111705673069494, 0.1604692562128501, 0.0692935424555489, 0.0036470285502920477, 0.005470542825438072, 0.024357118563913274, 0.04871423712782655, 0.9255705054287044, 0.025863209328426298, 0.021299113564586362, 0.8276226985096415, 0.0015213652546133116, 0.04411959238378604, 0.059333244929919156, 0.021299113564586362, 0.9638580543691028, 0.07253198840839659, 0.02417732946946553, 0.4395878085357369, 0.12528252543268503, 0.29012795363358634, 0.04835465893893106, 0.0021979390426786847, 0.005965231472381949, 0.005965231472381949, 0.9902284244154036, 0.1951471555579218, 0.4215914964411707, 0.32156323746022336, 0.0006136703004966094, 0.007977713906455923, 0.04418426163575588, 0.008591384206952532, 0.0088688359261958, 0.0088688359261958, 0.9755719518815379, 0.004963813939772622, 0.02481906969886311, 0.019855255759090487, 0.014891441819317865, 0.04963813939772622, 0.019855255759090487, 0.8736312533999815, 0.9810383915979125, 0.8983654164532637, 0.9878392215060982, 0.9242305533031054, 0.987785885206584, 0.000995307010067075, 0.0159249121610732, 0.9823680189362031, 0.29900016822603953, 0.2840060594949402, 0.410132974115364, 0.0008820063959470193, 0.006174044771629135, 0.07801698985416883, 0.022946173486520244, 0.17439091849755387, 0.7205098474767356, 0.989318848514537, 0.010707818102306591, 0.9744114473098998, 0.003788972312936167, 0.015155889251744667, 0.011366916938808501, 0.9661879397987225, 0.003788972312936167, 0.2184363105777177, 0.00840139656068145, 0.02520418968204435, 0.14282374153158464, 0.07561256904613305, 0.0336055862427258, 0.49568239708020556, 0.9822681850538205, 0.016790909146219155, 0.9906795702097685, 0.9353250670822808, 0.05216952565399176, 0.00745278937914168, 0.9869372553322798, 0.007650676397924649, 0.9835606392168438, 0.010299064284993128, 0.9345969016351566, 0.06336250180577334, 0.9675185459347408, 0.007996021040782982, 0.007996021040782982, 0.007996021040782982, 0.9888136517879842, 0.006548434780052875, 0.9838543993631821, 0.9808507878942905, 0.9641862893995086, 0.033916100632143516, 0.9806406923078443, 0.011143644230770959, 0.9772724536271572, 0.019162204973081513, 0.9831525367897357, 0.014458125541025525, 0.39926732317370656, 0.5379018103867991, 0.020333058124586908, 0.0018484598295079007, 0.040666116249173816, 0.004892813297986102, 0.9932410994911788, 0.3738608717823459, 0.5737864716659533, 0.03698623597846737, 0.00999627999418037, 0.0009996279994180372, 0.003998511997672149, 0.9680457056694606, 0.9883798491534221, 0.9736768481468845, 0.04611098525453724, 0.26864660974382565, 0.5453125212710491, 0.1323184794260634, 0.006014476337548336, 0.9856061000440579, 0.1925658520574551, 0.06052069636091446, 0.04401505189884688, 0.00550188148735586, 0.6932370674068383, 0.9783972621052235, 0.005431940116848498, 0.04888746105163648, 0.9179978797473961, 0.027159700584242486, 0.02883110886333725, 0.9514265924901292, 0.3474123303711018, 0.16013537103042974, 0.3623402039417351, 0.03256990597229079, 0.06649689136009371, 0.024427429479218096, 0.005428317662048466, 0.3240272884614618, 0.5510294566491525, 0.08237981910037163, 0.025629277053448956, 0.0018306626466749252, 0.009153313233374627, 0.005491987940024776, 0.016415570559651375, 0.894648595501, 0.07387006751843118, 0.008207785279825687, 0.14776839854343746, 0.015554568267730258, 0.015554568267730258, 0.8166148340558386, 0.9785771140809788, 0.012961286279218262, 0.022098281398493423, 0.8441543494224487, 0.12817003211126185, 0.0044196562796986845, 0.9794517216182197, 0.9783824873976799, 0.9851648421623305, 0.011455405141422447, 0.0020377172853267584, 0.006113151855980275, 0.08558412598372385, 0.8028606104187428, 0.014264020997287309, 0.09169727783970413, 0.808691181526886, 0.10969628014402555, 0.007653228847257597, 0.035715067953868786, 0.002551076282419199, 0.012755381412095994, 0.02168414840056319, 0.05258242253791855, 0.004044801733686042, 0.21841929361904627, 0.29527052655908104, 0.024268810402116252, 0.40852497510229024, 0.7677271634663235, 0.12221665606750891, 0.06885445412254024, 0.04131267247352414, 0.03616830098465435, 0.9403758256010132, 0.9348788037555797, 0.695888930919039, 0.20809105895443109, 0.022971090923541094, 0.058103347630133355, 0.01486364706817365, 0.37395788123484835, 0.3579474520688304, 0.1109294020788388, 0.04288507812326243, 0.04174147603997543, 0.04745948645641042, 0.025159245832313958, 0.9320544083509301, 0.43071725194148053, 0.23697454753657665, 0.06724953376037986, 0.18173385909055034, 0.022416511253459954, 0.024818280316330665, 0.03682712563068421, 0.057153720197856965, 0.057153720197856965, 0.8573058029678545, 0.9497769391657279, 0.04633058239832819, 0.004633058239832819, 0.9870593817614806, 0.012654607458480521, 0.867643847733903, 0.10845548096673788, 0.019719178357588706, 0.9794584469511074, 0.7538565506611156, 0.11451813920633265, 0.10470229870293271, 0.02094045974058654, 0.005889504302039965, 0.10972408020955204, 0.8518053595215225, 0.0028874757949882116, 0.031762233744870326, 0.0025501068866918375, 0.005100213773383675, 0.0204008550935347, 0.13515566499466738, 0.18360769584181227, 0.6528273629931104, 0.9915323745820691, 0.9946988098240159, 0.9820482848804003, 0.06320381513365442, 0.37097891491492807, 0.34212499931043366, 0.09617971868164801, 0.07007379503948641, 0.03160190756682721, 0.026105923642161605, 0.989905374388033, 0.00942767023226698, 0.3717160955691655, 0.5291918798989598, 0.03662227542553355, 0.03662227542553355, 0.005493341313830032, 0.018311137712766774, 0.966838519817289, 0.02802430492224026, 0.0035030381152800325, 0.0035030381152800325, 0.9903587939368336, 0.009003261763062122, 0.9902078213117512, 0.07115627106579264, 0.006776787720551679, 0.0033883938602758397, 0.17619648073434366, 0.6742903781948921, 0.020330363161655037, 0.050825907904137595, 0.012780186143487854, 0.004260062047829284, 0.9840743330485647, 0.9931428389679356, 0.004037166012064779, 0.03081601518471399, 0.9450244656645623, 0.01027200506157133, 0.02054401012314266, 0.02794622646173431, 0.006449129183477149, 0.060191872379120055, 0.7545481144668263, 0.002149709727825716, 0.15047968094780012, 0.9046374989921325, 0.09199703379581009, 0.9969299178563019, 0.0012142873542707697, 0.11621189455396691, 0.8599680196993551, 0.26493677872879284, 0.02788808197145188, 0.697202049286297, 0.9948575142982938, 0.9950168121841494, 0.021934366291689898, 0.0027417957864612373, 0.02056346839845928, 0.18095852190644166, 0.6881907424017706, 0.0054835915729224746, 0.07951207780737589, 0.11447926924973292, 0.28793270750690403, 0.3868011673134915, 0.09366485665887239, 0.0797885815982987, 0.013876275060573687, 0.02254894697343224, 0.21647532197711303, 0.33608425474267745, 0.33187267260304487, 0.09012785778813655, 0.0008423164279265098, 0.013477062846824157, 0.011792429990971139, 0.9854120396580821, 0.005252083952816565, 0.03151250371689939, 0.9611313633654314, 0.9875305020534515, 0.01780994859765242, 0.9736105233383323, 0.005936649532550807, 0.9388505553964898, 0.05522650325861704, 0.9508034812651102, 0.1920201134550419, 0.045917853217510025, 0.7555574029426649, 0.019407291903028517, 0.1497133946805057, 0.6709378057904144, 0.019407291903028517, 0.13862351359306083, 0.03184389536336758, 0.9616856399737009, 0.15910313519628017, 0.09047041020964951, 0.6114551862445277, 0.006239338635148242, 0.11230809543266836, 0.009359007952722364, 0.009359007952722364, 0.7945227587812579, 0.20367207775864732, 0.18536736313049892, 0.15649867542984744, 0.03646571077977028, 0.004558213847471285, 0.003038809231647523, 0.592567800171267, 0.02127166462153266, 0.009319075728031903, 0.9785029514433499, 0.9923009684612115, 0.9858162894867696, 0.1847589924114167, 0.025260018493748378, 0.06639776289785287, 0.01659944072446322, 0.05340689624392514, 0.2273401664437354, 0.4258117403231869, 0.003093032343176628, 0.9928633821596976, 0.9243920718976008, 0.004166170450827918, 0.05416021586076293, 0.5790976926650806, 0.3437090621933032, 0.01666468180331167, 0.9948446397188335, 0.9866752504485686, 0.5769337771530599, 0.37337851303655695, 0.004652691751234355, 0.022100285818363184, 0.0023263458756171774, 0.00930538350246871, 0.010468556440277298, 0.36533996991353473, 0.2328372135297999, 0.0765911886611184, 0.066634334135173, 0.12637546129084534, 0.04212515376361512, 0.0903776026201197, 0.13550823661248673, 0.13015922727252016, 0.03922606849308827, 0.1390742428391311, 0.4011757004974936, 0.05527309651298801, 0.10163117745936505, 0.9891441176736706, 0.45730663458325316, 0.12116671514599014, 0.0371317352866744, 0.09966939471686287, 0.03517743342948101, 0.2452648830777704, 0.0029314527857900842, 0.9238313769998312, 0.9760579969739397, 0.6315033307274787, 0.31684423167987685, 0.050258050542325294, 0.9908030723856264, 0.9808198102543466, 0.9873515521229278, 0.9202959137766431, 0.013892384319941845, 0.8856395003962926, 0.09724669023959291, 0.0740866769272286, 0.005926934154178288, 0.002963467077089144, 0.020744269539624008, 0.16595415631699206, 0.678633960653414, 0.05037894031051545, 0.05834867347796987, 0.006307964700321067, 0.0047309735252408, 0.0031539823501605334, 0.9193858550717955, 0.006307964700321067, 0.017880314251279273, 0.98341728382036, 0.9780260754481698, 0.009979857912736426, 0.9845115500635357, 0.010242239591033778, 0.9730127611482089, 0.9895383025220689, 0.9734481318761738, 0.9892130998554738, 0.9854072782061597, 0.9738201718596414, 0.9847718024854221, 0.9889614318146424, 0.965609128803358, 0.003450439009141913, 0.005750731681903188, 0.3542450716052364, 0.01955248771847084, 0.42095355911531335, 0.19437473084832776, 0.004456568264954349, 0.9938147230848199, 0.9920725825136767, 0.01460127378211275, 0.009734182521408499, 0.8614751531446522, 0.09734182521408499, 0.01460127378211275, 0.9904576583043307, 0.9855410498326272, 0.9872034379457265, 0.2366315766352772, 0.751048047581532, 0.9687515300810512, 0.017219498240275733, 0.6916498459844086, 0.19228439701641234, 0.09757715669489582, 0.01941631756392459, 0.9708158781962294, 0.03333103572189405, 0.9443793454536649, 0.011110345240631352, 0.022220690481262705, 0.9982439963347053, 0.003659390377359593, 0.004269288773586192, 0.09392435301889622, 0.40253294150955526, 0.3720380216982253, 0.025005834245290553, 0.09819364179248241, 0.10490673758877121, 0.31821710401927267, 0.23604015957473523, 0.0017484456264795201, 0.017484456264795202, 0.305977984633916, 0.017484456264795202, 0.9832299893989914, 0.9722075320361525, 0.039449500793745824, 0.9566503942483362, 0.004931187599218228, 0.9860934407088611, 0.0102009666280227, 0.0034003222093409004, 0.006351800813273977, 0.006351800813273977, 0.9337147195512746, 0.012703601626547954, 0.03175900406636988, 0.01382603979436281, 0.9816488253997595, 0.018342919278636325, 0.9758433056234525, 0.98412477866399, 0.0075305415241148825, 0.9789703981349348, 0.0075305415241148825, 0.9894957649802051, 0.009326151120874407, 0.9699197165709383, 0.018652302241748814, 0.008470696011516671, 0.012706044017275007, 0.9741300413244173, 0.3432398142526933, 0.47371796282135414, 0.06347585606042959, 0.024685055134611507, 0.08463447474723945, 0.007052872895603287, 0.004701915263735525, 0.020563054174173312, 0.020563054174173312, 0.956182019099059, 0.9851506589468155, 0.9847947315926657, 0.9867110851085094, 0.003553265383138323, 0.0026649490373537423, 0.9842545111293155, 0.008883163457845808, 0.18857451386445212, 0.42786906938899827, 0.26140329163279225, 0.03641438888417006, 0.03251284721800898, 0.02470976388568683, 0.028611305551847908, 0.7249223489186117, 0.1834292252029763, 0.016332739230402, 0.07035641514634706, 0.0037690936685543072, 0.002512729112369538, 0.011942763602098666, 0.005971381801049333, 0.047771054408394666, 0.8539075975500546, 0.07762796341364132, 0.8723326178466431, 0.10863009958090272, 0.0032918211994212945, 0.013167284797685178, 0.17941051597499746, 0.7710834941904146, 0.038172450207446265, 0.003817245020744627, 0.007634490041489254, 0.008485623429073615, 0.9843323177725393, 0.9959189659972747, 0.2175771726975742, 0.0548513880750187, 0.16821092343005736, 0.09141898012503118, 0.44246786380515085, 0.009141898012503117, 0.01645541642250561, 0.9588422620327335, 0.03196140873442445, 0.9815362737217094, 0.9855982988017113, 0.9886262072685972, 0.5249818682319785, 0.25188058001288244, 0.08396019333762748, 0.06089420615696059, 0.0378282189762937, 0.01476223179562681, 0.02491126615512024, 0.001014085154774729, 0.001014085154774729, 0.002028170309549458, 0.6540849248297002, 0.13081698496594002, 0.060845109286483734, 0.15008460290665987, 0.040279423189452115, 0.8771963272369572, 0.06713237198242018, 0.008950982930989358, 0.9750035249740076, 0.7804899589041211, 0.11213936191151165, 0.10316821295859072, 0.41293949763866605, 0.5768043776540097, 0.9237003171036757, 0.01176688302042899, 0.05883441510214495, 0.005097133078497512, 0.07936964365088983, 0.5432087537941634, 0.06990353936225159, 0.16529274411699074, 0.13689443125107603, 0.0016806241764329728, 0.01176436923503081, 0.5159516221649226, 0.2655386198764097, 0.1596592967611324, 0.045376852763690266, 0.041708203697682716, 0.9175804813490198, 0.972604186536104, 0.01736793190243043, 0.7235673698314926, 0.23875900616605927, 0.02369364183327306, 0.00546776349998609, 0.007290351333314787, 0.02128973481964142, 0.014193156546427613, 0.0023655260910712688, 0.5085881095803229, 0.45181548339461236, 0.9668019062989062, 0.9555199816389843, 0.041824106940426924, 0.4362483519419432, 0.40923607008795293, 0.005402456370798059, 0.013506140926995147, 0.09724421467436506, 0.03781719459558641, 0.9901446097626218, 0.006735677617432801, 0.9824012212423479, 0.013098682949897971, 0.982604084679881, 0.01410436485186432, 0.844496951297389, 0.11529479654237403, 0.03294137044067829, 0.0014973350200308316, 0.0059893400801233265, 0.01984815526234019, 0.0074430582233775714, 0.07691160164156824, 0.1265319897974187, 0.1786333973610617, 0.5904826190546206, 0.5186258470418454, 0.27654155046694656, 0.08040025908144452, 0.06626394979239933, 0.004417596652826622, 0.04064188920600492, 0.013252789958479866, 0.9592154135672041, 0.010483228563576, 0.02620807140894, 0.9722250678647758, 0.014957308736381165, 0.02186300816704551, 0.9619723593500024, 0.9793676840762625, 0.008290811774858183, 0.9617341658835493, 0.024872435324574553, 0.003905571818840015, 0.9881096701665237, 0.003905571818840015, 0.6543451860952095, 0.22540074260064627, 0.07923177618689384, 0.021857041706729335, 0.0013660651066705835, 0.005464260426682334, 0.012294585960035251, 0.4402166954718059, 0.5093936047602325, 0.017968028386604322, 0.0062888099353115125, 0.02066323264459497, 0.005390408515981297, 0.1920224510599897, 0.5555849584002368, 0.08022271288728458, 0.005974031810755235, 0.04181822267528664, 0.0972913752037281, 0.02560299347466529, 0.9859667861863988, 0.20730999000415343, 0.35835012557860807, 0.17103074175342659, 0.09402988832331245, 0.10735695910929374, 0.05923142571547241, 0.002221178464330215, 0.77769667086597, 0.15673349412845847, 0.04925909815465837, 0.0014926999440805567, 0.01343429949672501, 0.5427588959451899, 0.17279670972948902, 0.034707031441393095, 0.12184383378361406, 0.05759890324316301, 0.028799451621581505, 0.040614611261204685, 0.14750859503243893, 0.2356746518334369, 0.31705870426512733, 0.02034601310792261, 0.025432516384903264, 0.25262966275670573, 0.5802050902547916, 0.23373190839648, 0.024748084418450826, 0.09532595479699577, 0.005499574315211295, 0.028414467295258355, 0.031164254452864002, 0.664674688252282, 0.17724658353394188, 0.011869190861647894, 0.07675410090532304, 0.014243029033977473, 0.004747676344659157, 0.05143316040047421, 0.7136392695295202, 0.1539701163710951, 0.028105656162977676, 0.03421558141579891, 0.004887940202256987, 0.06476520767990508, 0.010335036362304716, 0.9749384301774116, 0.0034450121207682386, 0.006890024241536477, 0.9467652381615322, 0.05179870603923277, 0.9864524900858976, 0.9888688063527004, 0.03166505577916833, 0.94995167337505, 0.9874309616852084, 0.0038750534985240513, 0.9920136956221571, 0.9224963245006411, 0.03548062786540927, 0.017740313932704636, 0.004435078483176159, 0.022175392415880797, 0.9905019561044139, 0.9075378313425889, 0.05110707923942907, 0.0046460981126753695, 0.0154869937089179, 0.020133091821593268, 0.991819242084888, 0.7109280197826304, 0.1752013192235398, 0.10512079153412388, 0.0015573450597647983, 0.0007786725298823991, 0.006229380239059193, 0.1371495845844464, 0.015238842731605156, 0.830516928872481, 0.9804239799263945, 0.9909808495828707, 0.005081953074783953, 0.9702320583391495, 0.9435105760007308, 0.0359813355254516, 0.0179906677627258, 0.0515632255761007, 0.0016905975598721541, 0.0033811951197443083, 0.4006716216897005, 0.017751274378657617, 0.21977768278338003, 0.30430756077698773, 0.09916942112561725, 0.04742885358181694, 0.8450959365487383, 0.008623427923966717, 0.8430433973933548, 0.09846398336480526, 0.0017427253692885887, 0.025705199197006683, 0.0004356813423221472, 0.008277945504120797, 0.022655429800751654, 0.009334585126606676, 0.9894660234203075, 0.8842648016866761, 0.10977080296800117, 0.9773345304930133, 0.00420380510577126, 0.9668751743273899, 0.00420380510577126, 0.02522283063462756, 0.0030067521114099027, 0.0030067521114099027, 0.9937315728209728, 0.954056904526922, 0.03693123501394537, 0.006155205835657562, 0.05845464017845643, 0.08887491210806131, 0.4914961582351847, 0.1485225041268944, 0.03877093481224151, 0.046525121774689815, 0.12704937100011449, 0.02677362420887527, 0.02677362420887527, 0.9370768473106345, 0.9915898422918384, 0.9847788310826942, 0.9969709527722327, 0.9770087019294809, 0.015385963809913084, 0.0024000361505592174, 0.016800253053914523, 0.9792147494281608, 0.8809799751667557, 0.1165721876034102, 0.0019110194689083639, 0.9043131571857828, 0.061309366588866626, 0.03372015162387664, 0.980294132575631, 0.0010606776673746606, 0.0042427106694986425, 0.013788809675870588, 0.5621591637085701, 0.30123245753440364, 0.003182033002123982, 0.11349251040908868, 0.0031409966094470944, 0.8669150642073981, 0.12563986437788377, 0.9763578389800625, 0.9772229535627752, 0.008772198865015936, 0.0008772198865015935, 0.012281078411022309, 0.9725336775674603, 0.9686292906940127, 0.4683619470598494, 0.4942972991771701, 0.01678169842885454, 0.0030512178961553706, 0.004576826844233056, 0.012204871584621482, 0.07390872097835412, 0.03912814640030512, 0.4391047540478686, 0.06738736324496993, 0.33476303031372157, 0.043475718222561244, 0.9303593314674088, 0.9864745040570709, 0.007508539773800011, 0.0037542698869000054, 0.15017079547600024, 0.16894214491050025, 0.07508539773800012, 0.5931746421302009, 0.0037542698869000054, 0.9843280783495322, 0.005753961498687142, 0.9091259167925685, 0.08055546098161999, 0.08122766681416278, 0.025571672885940134, 0.01955480867748363, 0.588148476376623, 0.21961554360866234, 0.0015042160521141256, 0.06317707418879327, 0.36368640761511467, 0.26373285850235134, 0.19942539437438075, 0.09345054712229436, 0.05250571977489735, 0.013006003980937875, 0.014210263608802494, 0.021042969897207917, 0.978498100220168, 0.015478092999021835, 0.9828589054378866, 0.008824719910267597, 0.017649439820535195, 0.03529887964107039, 0.05294831946160559, 0.878059631071626, 0.004412359955133799, 0.9904223900249083, 0.7226834926136643, 0.08241127547348803, 0.0038035973295456015, 0.10142926212121603, 0.06339328882576002, 0.016482255094697605, 0.010142926212121603, 0.48771286285058196, 0.3652949755888897, 0.07638876165129597, 0.03525635153136737, 0.008814087882841843, 0.017628175765683686, 0.008814087882841843, 0.5314006689581157, 0.14829786110459042, 0.18228278760772573, 0.06796985300627062, 0.030895387730123007, 0.01647754012273227, 0.02265661766875687, 0.14889683432615308, 0.7844321027914406, 0.0036316301055159287, 0.06355352684652875, 0.9783210495999248, 0.9862110664106375, 0.009134079775934625, 0.9864806158009395, 0.9921173663788795, 0.003905973883381415, 0.0010393300213753383, 0.0010393300213753383, 0.14030955288567068, 0.14030955288567068, 0.3357035969042343, 0.36168684743861773, 0.02078660042750677, 0.03458070002608886, 0.9613434607252703, 0.9843350116183924, 0.03321225600522896, 0.00830306400130724, 0.00830306400130724, 0.0830306400130724, 0.8718217201372601, 0.292680996753042, 0.601622048881253, 0.002032506921896125, 0.00406501384379225, 0.0894303045634295, 0.010162534609480625, 0.9891707379870868, 0.9781059375607194, 0.9843779460078841, 0.9911559296815233, 0.7422738733092438, 0.18094576626933523, 0.04622702057975717, 0.025094668314725323, 0.005283088066257963, 0.1410977665715835, 0.3568943507398876, 0.008299868621857852, 0.48969224868961325, 0.1838878798070364, 0.04683936561122625, 0.07980040067097806, 0.07806560935204375, 0.09888310517925541, 0.5100286477666858, 0.0017347913189343055, 0.011310934478401568, 0.9501184961857316, 0.0339328034352047, 0.021522590562689257, 0.9469939847583273, 0.02869678741691901, 0.007893094763738878, 0.2170601060028191, 0.4617460436787243, 0.003946547381869439, 0.3038841484039468, 0.6424659833710789, 0.259254873491482, 0.017823772552539387, 0.0259254873491482, 0.04212891694236583, 0.008911886276269694, 0.0040508573983044065, 0.9875813281807743, 0.011351509519319245, 0.07209399805395368, 0.6402633636696362, 0.17165237631893732, 0.03948004655335558, 0.022314808921461853, 0.05492876042205994, 0.9495111695279156, 0.005104898760902771, 0.045944088848124946, 0.9928534426739875, 0.08951343812691656, 0.2649952277222579, 0.3429871342090763, 0.12230548971796519, 0.1276231197057028, 0.04254103990190094, 0.010635259975475235, 0.6393240538217916, 0.0991397141115303, 0.08770051632943066, 0.019065329636832752, 0.11057891189362996, 0.038130659273665504, 0.00635510987894425, 0.015965986549328712, 0.015965986549328712, 0.9579591929597228, 0.004359341912302978, 0.0032695064342272333, 0.24085364065473952, 0.14058877667177103, 0.5122226746955999, 0.020706874083439145, 0.0784681544214536, 0.01276178336918239, 0.9826573194270439, 0.9870218326891013, 0.10897257416755021, 0.8866404898177949, 0.09312361187056693, 0.9067299050555202, 0.029448376411156572, 0.8422235653590779, 0.11190383036239497, 0.017669025846693942, 0.9763283782188251, 0.019793431519224674, 0.9410876985958639, 0.005398208596152183, 0.017994028653840612, 0.0017994028653840611, 0.01439522292307249, 0.9790171629492667, 0.005400167944407669, 0.9882307338266034, 0.9917516927763771, 0.9874078721922325, 0.9393828018105395, 0.0547973301056148, 0.0028961755137106846, 0.046338808219370954, 0.3562295881864142, 0.08688526541132054, 0.4662842577074202, 0.037650281678238896, 0.9782814586247496, 0.9888272420904646, 0.9787585368884765, 0.9819615100887208, 0.05438191825040259, 0.9312903500381443, 0.006797739781300324, 0.9826361314281994, 0.36351013658955095, 0.03319005594948074, 0.1375016603621345, 0.003160957709474356, 0.3935392348295573, 0.025287661675794847, 0.04425340793264098, 0.9749015368916846, 0.022440188828708855, 0.9910106846958788, 0.8565200262610437, 0.11665864156960452, 0.003069964251831698, 0.006139928503663396, 0.012279857007326792, 0.2585420067269162, 0.08896069048668084, 0.09730075521980718, 0.0027800215777087764, 0.472603668210492, 0.07784060417584573, 0.8056164731577833, 0.0022071684196103654, 0.1898164840864914, 0.002592286717229607, 0.08554546166857702, 0.8269394627962445, 0.00777686015168882, 0.0751763147996586, 0.9887963570040015, 0.37025622069189934, 0.013037190869433075, 0.02607438173886615, 0.08343802156437168, 0.5058430057340033, 0.982464318102207, 0.012129189112372925, 0.9308120408958138, 0.0602290144109056, 0.12034085018747845, 0.0034383100053565273, 0.0034383100053565273, 0.055012960085704436, 0.7117301711088011, 0.05157465008034791, 0.055012960085704436, 0.9928095453531727, 0.8138097833574202, 0.0038569184045375363, 0.1812751650132642, 0.9890944843957807], \"Term\": [\"\\u4e00\\u540d\", \"\\u4e00\\u540d\", \"\\u4e00\\u540d\", \"\\u4e00\\u540d\", \"\\u4e00\\u540d\", \"\\u4e00\\u540d\", \"\\u4e00\\u540d\", \"\\u4e00\\u8d77\", \"\\u4e00\\u8d77\", \"\\u4e00\\u8d77\", \"\\u4e00\\u8d77\", \"\\u4e00\\u8d77\", \"\\u4e00\\u8d77\", \"\\u4e00\\u8d77\", \"\\u4e00\\u908a\", \"\\u4e00\\u908a\", \"\\u4e00\\u908a\", \"\\u4e00\\u908a\", \"\\u4e09\\u58d8\", \"\\u4e09\\u58d8\", \"\\u4e09\\u632f\", \"\\u4e09\\u632f\", \"\\u4e09\\u632f\\u51fa\\u5c40\", \"\\u4e0a\\u534a\\u5834\", \"\\u4e0a\\u8a34\", \"\\u4e0a\\u8a34\", \"\\u4e0d\\u52d5\", \"\\u4e0d\\u75db\", \"\\u4e16\\u754c\", \"\\u4e16\\u754c\", \"\\u4e16\\u754c\", \"\\u4e16\\u754c\", \"\\u4e16\\u754c\", \"\\u4e16\\u754c\", \"\\u4e16\\u754c\", \"\\u4e16\\u754c\\u76c3\", \"\\u4e16\\u754c\\u76c3\", \"\\u4e16\\u754c\\u76c3\", \"\\u4e16\\u754c\\u76c3\", \"\\u4e16\\u9326\\u8cfd\", \"\\u4e2d\\u5171\", \"\\u4e2d\\u570b\", \"\\u4e2d\\u570b\", \"\\u4e2d\\u570b\", \"\\u4e2d\\u570b\", \"\\u4e2d\\u570b\", \"\\u4e2d\\u570b\", \"\\u4e2d\\u8077\", \"\\u4e2d\\u83ef\\u968a\", \"\\u4e2d\\u83ef\\u968a\", \"\\u4e2d\\u83ef\\u968a\", \"\\u4e5d\\u5c40\", \"\\u4e8b\\u4ef6\", \"\\u4e8b\\u4ef6\", \"\\u4e8b\\u4ef6\", \"\\u4e8b\\u4ef6\", \"\\u4e8b\\u4ef6\", \"\\u4e8c\\u5200\", \"\\u4e8c\\u5200\", \"\\u4e8c\\u58d8\", \"\\u4e8c\\u58d8\", \"\\u4e94\\u6708\", \"\\u4e9e\\u904b\", \"\\u4e9e\\u9326\\u8cfd\", \"\\u4ea4\\u5f80\", \"\\u4ea4\\u5f80\", \"\\u4eca\\u5929\", \"\\u4eca\\u5929\", \"\\u4eca\\u5929\", \"\\u4eca\\u5929\", \"\\u4eca\\u5929\", \"\\u4eca\\u5929\", \"\\u4eca\\u5929\", \"\\u4eca\\u5e74\", \"\\u4eca\\u5e74\", \"\\u4eca\\u5e74\", \"\\u4eca\\u5e74\", \"\\u4eca\\u5e74\", \"\\u4eca\\u5e74\", \"\\u4eca\\u5e74\", \"\\u4eca\\u6c38\", \"\\u4ee5\\u6bd4\", \"\\u4ee5\\u6bd4\", \"\\u4ee5\\u6bd4\", \"\\u4ee5\\u6bd4\", \"\\u4f50\\u4f50\\u6728\", \"\\u4f59\\u82d1\", \"\\u4f59\\u82d1\", \"\\u4f59\\u82d1\", \"\\u4fc4\\u570b\", \"\\u4fc4\\u70cf\", \"\\u4fc4\\u7f85\\u65af\", \"\\u4fc4\\u7f85\\u65af\", \"\\u4fc4\\u7f85\\u65af\", \"\\u4fc4\\u7f85\\u65af\", \"\\u4fc4\\u8ecd\", \"\\u4fc4\\u8ecd\", \"\\u4fc4\\u8ecd\", \"\\u4fdd\\u91cd\", \"\\u4fdd\\u91cd\", \"\\u4fdd\\u91cd\", \"\\u4fee\\u6709\", \"\\u4fee\\u6709\", \"\\u502b\\u65af\\u57fa\", \"\\u5049\\u797a\", \"\\u505c\\u99db\", \"\\u50b7\\u75db\", \"\\u5144\\u5f1f\", \"\\u5144\\u5f1f\", \"\\u5144\\u5f1f\", \"\\u5144\\u5f1f\", \"\\u5144\\u5f1f\", \"\\u5144\\u5f1f\", \"\\u5144\\u5f1f\", \"\\u5148\\u767c\", \"\\u5148\\u767c\", \"\\u5149\\u8292\", \"\\u5149\\u8292\", \"\\u514b\\u7acb\", \"\\u514b\\u7f85\", \"\\u514b\\u7f85\", \"\\u5152\\u5b50\", \"\\u5152\\u5b50\", \"\\u5152\\u5b50\", \"\\u5152\\u5b50\", \"\\u5152\\u5b50\", \"\\u5152\\u5b50\", \"\\u5165\\u4fb5\", \"\\u5165\\u4fb5\", \"\\u5165\\u4fb5\", \"\\u5167\\u91ce\", \"\\u5167\\u99ac\\u723e\", \"\\u5167\\u99ac\\u723e\", \"\\u5167\\u99ac\\u723e\", \"\\u5168\\u58d8\\u6253\", \"\\u5168\\u58d8\\u6253\", \"\\u5169\\u4eba\", \"\\u5169\\u4eba\", \"\\u5169\\u4eba\", \"\\u5169\\u4eba\", \"\\u5169\\u4eba\", \"\\u5169\\u4eba\", \"\\u5169\\u4eba\", \"\\u516c\\u958b\\u8cfd\", \"\\u516c\\u958b\\u8cfd\", \"\\u5177\\u4fca\\u66c4\", \"\\u5177\\u4fca\\u66c4\", \"\\u518d\\u898b\", \"\\u518d\\u898b\", \"\\u518d\\u898b\", \"\\u51a0\\u8ecd\", \"\\u51a0\\u8ecd\", \"\\u51a0\\u8ecd\", \"\\u51a0\\u8ecd\", \"\\u51a0\\u8ecd\", \"\\u51a0\\u8ecd\", \"\\u51a0\\u8ecd\", \"\\u51a0\\u8ecd\\u8cfd\", \"\\u51a0\\u8ecd\\u8cfd\", \"\\u51a0\\u8ecd\\u8cfd\", \"\\u51a0\\u8ecd\\u8cfd\", \"\\u51ac\\u5967\", \"\\u51ac\\u5967\", \"\\u51ac\\u5967\", \"\\u51fa\\u5c40\", \"\\u51fa\\u5c40\", \"\\u51fa\\u5c40\", \"\\u51fa\\u5c40\", \"\\u51fa\\u5c40\", \"\\u51fa\\u6b21\", \"\\u51fa\\u6b21\", \"\\u51fa\\u73fe\", \"\\u51fa\\u73fe\", \"\\u51fa\\u73fe\", \"\\u51fa\\u73fe\", \"\\u51fa\\u73fe\", \"\\u51fa\\u73fe\", \"\\u51fa\\u73fe\", \"\\u51fa\\u8840\", \"\\u5206\\u4eab\", \"\\u5206\\u4eab\", \"\\u5206\\u4eab\", \"\\u5206\\u4eab\", \"\\u5206\\u4eab\", \"\\u5206\\u4eab\", \"\\u5206\\u624b\", \"\\u5206\\u624b\", \"\\u5206\\u9418\", \"\\u5206\\u9418\", \"\\u5206\\u9418\", \"\\u5206\\u9418\", \"\\u5206\\u9418\", \"\\u5206\\u9418\", \"\\u5224\\u8655\", \"\\u5236\\u88c1\", \"\\u524d\\u9996\\u76f8\", \"\\u5287\\u4e2d\", \"\\u5287\\u4e2d\", \"\\u5287\\u70c8\", \"\\u5287\\u70c8\", \"\\u5287\\u7167\", \"\\u52aa\\u7279\", \"\\u52c7\\u58eb\", \"\\u52c7\\u58eb\", \"\\u52c7\\u58eb\", \"\\u52fe\\u60e1\", \"\\u5305\\u62ec\", \"\\u5305\\u62ec\", \"\\u5305\\u62ec\", \"\\u5305\\u62ec\", \"\\u5305\\u62ec\", \"\\u5305\\u62ec\", \"\\u5305\\u62ec\", \"\\u5317\\u4eac\", \"\\u5317\\u4eac\", \"\\u5317\\u4eac\", \"\\u5317\\u4eac\", \"\\u5317\\u7d04\", \"\\u5357\\u97d3\", \"\\u5357\\u97d3\", \"\\u5357\\u97d3\", \"\\u5357\\u97d3\", \"\\u5357\\u97d3\", \"\\u5357\\u97d3\", \"\\u535a\\u7269\\u9928\", \"\\u535a\\u7269\\u9928\", \"\\u535a\\u7269\\u9928\", \"\\u5361\\u4f4d\", \"\\u5361\\u9054\", \"\\u5361\\u9054\", \"\\u5361\\u9054\", \"\\u5361\\u9054\", \"\\u5361\\u9054\", \"\\u53c3\\u52a0\", \"\\u53c3\\u52a0\", \"\\u53c3\\u52a0\", \"\\u53c3\\u52a0\", \"\\u53c3\\u52a0\", \"\\u53c3\\u52a0\", \"\\u53c3\\u52a0\", \"\\u53cd\\u61c9\", \"\\u53cd\\u61c9\", \"\\u53cd\\u61c9\", \"\\u53cd\\u61c9\", \"\\u53cd\\u61c9\", \"\\u53d6\\u5f97\", \"\\u53d6\\u5f97\", \"\\u53d6\\u5f97\", \"\\u53d6\\u5f97\", \"\\u53d6\\u5f97\", \"\\u53d6\\u5f97\", \"\\u53d6\\u5f97\", \"\\u53e4\\u5df4\", \"\\u53e4\\u5df4\", \"\\u53e4\\u5df4\", \"\\u53e4\\u5df4\", \"\\u53e4\\u5df4\", \"\\u53f0\\u4e2d\\u5e02\", \"\\u53f0\\u4e2d\\u5e02\", \"\\u53f0\\u53ca\", \"\\u53f0\\u6d77\", \"\\u53f0\\u7063\", \"\\u53f0\\u7063\", \"\\u53f0\\u7063\", \"\\u53f0\\u7063\", \"\\u53f0\\u7063\", \"\\u53f0\\u7063\", \"\\u53f0\\u7063\", \"\\u5409\\u7530\", \"\\u5409\\u7530\", \"\\u5436\\u558a\", \"\\u5436\\u558a\", \"\\u5436\\u558a\", \"\\u5436\\u558a\", \"\\u5468\\u5929\", \"\\u5468\\u5929\", \"\\u5468\\u6770\\u502b\", \"\\u5473\\u5168\", \"\\u548c\\u5f26\", \"\\u54f2\\u4eba\", \"\\u54f2\\u4eba\", \"\\u5566\\u5566\\u968a\", \"\\u5566\\u5566\\u968a\", \"\\u5566\\u5566\\u968a\", \"\\u55ae\\u5b63\", \"\\u56b4\\u91cd\", \"\\u56b4\\u91cd\", \"\\u56b4\\u91cd\", \"\\u56b4\\u91cd\", \"\\u56b4\\u91cd\", \"\\u56b4\\u91cd\", \"\\u56db\\u5f37\\u8cfd\", \"\\u56db\\u5f37\\u8cfd\", \"\\u56db\\u5f37\\u8cfd\", \"\\u570b\\u5bb6\", \"\\u570b\\u5bb6\", \"\\u570b\\u5bb6\", \"\\u570b\\u5bb6\", \"\\u570b\\u5bb6\", \"\\u570b\\u5bb6\", \"\\u570b\\u5bb6\", \"\\u570b\\u846c\", \"\\u570b\\u969b\", \"\\u570b\\u969b\", \"\\u570b\\u969b\", \"\\u570b\\u969b\", \"\\u570b\\u969b\", \"\\u570b\\u969b\", \"\\u570b\\u969b\", \"\\u57fa\\u8f14\", \"\\u57fa\\u8f14\", \"\\u57fa\\u8f14\", \"\\u5831\\u5c0e\", \"\\u5831\\u5c0e\", \"\\u5831\\u5c0e\", \"\\u5831\\u5c0e\", \"\\u5831\\u5c0e\", \"\\u5831\\u5c0e\", \"\\u5831\\u5c0e\", \"\\u5883\\u5167\", \"\\u5883\\u5167\", \"\\u5883\\u5167\", \"\\u58a8\\u897f\\u54e5\", \"\\u58a8\\u897f\\u54e5\", \"\\u58a8\\u897f\\u54e5\", \"\\u58a8\\u897f\\u54e5\", \"\\u58a8\\u897f\\u54e5\", \"\\u58a8\\u897f\\u54e5\", \"\\u58a8\\u897f\\u54e5\", \"\\u5916\\u4ea4\", \"\\u5916\\u63f4\", \"\\u5916\\u7dda\", \"\\u5916\\u91ce\\u5b89\\u6253\", \"\\u5927\\u65b9\", \"\\u5927\\u8c37\", \"\\u5927\\u8c37\", \"\\u5927\\u8c37\", \"\\u5927\\u9678\", \"\\u5927\\u9678\", \"\\u5927\\u9678\", \"\\u5927\\u9678\", \"\\u5927\\u9678\", \"\\u5929\\u4f7f\", \"\\u5929\\u4f7f\", \"\\u5929\\u4f7f\", \"\\u5929\\u4f7f\", \"\\u5967\\u6703\", \"\\u5967\\u7279\", \"\\u5967\\u7279\", \"\\u5967\\u904b\", \"\\u5967\\u904b\", \"\\u5967\\u904b\", \"\\u5967\\u904b\", \"\\u5967\\u904b\", \"\\u596a\\u4e0b\", \"\\u596a\\u4e0b\", \"\\u596a\\u4e0b\", \"\\u596a\\u4e0b\", \"\\u596a\\u4e0b\", \"\\u596a\\u4e0b\", \"\\u596a\\u4e0b\", \"\\u5973\\u4eba\", \"\\u5973\\u4eba\", \"\\u5973\\u512a\", \"\\u5973\\u53cb\", \"\\u5973\\u53cb\", \"\\u5973\\u53cb\", \"\\u5973\\u55ae\", \"\\u5973\\u55ae\", \"\\u5973\\u65b9\", \"\\u5973\\u65b9\", \"\\u5973\\u661f\", \"\\u5973\\u661f\", \"\\u5973\\u738b\", \"\\u5973\\u738b\", \"\\u5973\\u738b\", \"\\u5973\\u738b\", \"\\u5973\\u751f\", \"\\u5973\\u751f\", \"\\u5973\\u7ae5\", \"\\u5973\\u8db3\", \"\\u5a5a\\u59fb\", \"\\u5a5a\\u59fb\", \"\\u5a5a\\u5f8c\", \"\\u5a5a\\u5f8c\", \"\\u5a5a\\u79ae\", \"\\u5a5a\\u79ae\", \"\\u5a5a\\u8b8a\", \"\\u5a5a\\u8b8a\", \"\\u5abd\\u5abd\", \"\\u5abd\\u5abd\", \"\\u5abd\\u5abd\", \"\\u5abd\\u5abd\", \"\\u5abd\\u5abd\", \"\\u5b63\\u5f8c\\u8cfd\", \"\\u5b63\\u5f8c\\u8cfd\", \"\\u5b69\\u5b50\", \"\\u5b69\\u5b50\", \"\\u5b69\\u5b50\", \"\\u5b69\\u5b50\", \"\\u5b69\\u5b50\", \"\\u5b69\\u5b50\", \"\\u5b6b\\u5973\", \"\\u5b89\\u500d\", \"\\u5b89\\u500d\\u6649\\u4e09\", \"\\u5b89\\u5168\", \"\\u5b89\\u5168\", \"\\u5b89\\u5168\", \"\\u5b89\\u5168\", \"\\u5b89\\u5168\", \"\\u5b8b\\u5148\\u751f\", \"\\u5b8c\\u6574\", \"\\u5b8c\\u6574\", \"\\u5b8c\\u6574\", \"\\u5b8c\\u6574\", \"\\u5b8c\\u6574\", \"\\u5b97\\u9686\", \"\\u5b98\\u54e1\", \"\\u5b98\\u54e1\", \"\\u5b98\\u54e1\", \"\\u5b98\\u54e1\", \"\\u5ba2\\u6a5f\", \"\\u5ba2\\u6a5f\", \"\\u5ba3\\u5e03\", \"\\u5ba3\\u5e03\", \"\\u5ba3\\u5e03\", \"\\u5ba3\\u5e03\", \"\\u5ba3\\u5e03\", \"\\u5ba3\\u5e03\", \"\\u5ba3\\u5e03\", \"\\u5bb6\\u4eba\", \"\\u5bb6\\u4eba\", \"\\u5bb6\\u4eba\", \"\\u5bb6\\u4eba\", \"\\u5bb6\\u4eba\", \"\\u5bb6\\u4eba\", \"\\u5bb6\\u4eba\", \"\\u5bb6\\u5c6c\", \"\\u5bb6\\u5c6c\", \"\\u5bb6\\u5c6c\", \"\\u5bb6\\u5c6c\", \"\\u5bb6\\u65cf\", \"\\u5bb6\\u65cf\", \"\\u5bb6\\u65cf\", \"\\u5bb6\\u65cf\", \"\\u5bb6\\u66b4\", \"\\u5bb6\\u66b4\", \"\\u5bb6\\u9577\", \"\\u5bb6\\u9577\", \"\\u5bb6\\u9577\", \"\\u5bb6\\u9577\", \"\\u5c01\\u57ce\", \"\\u5c07\\u53cc\", \"\\u5c08\\u8f2f\", \"\\u5c08\\u8f2f\", \"\\u5c0d\\u624b\", \"\\u5c0d\\u624b\", \"\\u5c0d\\u624b\", \"\\u5c0d\\u624b\", \"\\u5c0d\\u624b\", \"\\u5c0d\\u624b\", \"\\u5c0d\\u65b9\", \"\\u5c0d\\u65b9\", \"\\u5c0d\\u65b9\", \"\\u5c0d\\u65b9\", \"\\u5c0d\\u65b9\", \"\\u5c0d\\u65b9\", \"\\u5c0d\\u65b9\", \"\\u5c0d\\u6c7a\", \"\\u5c0d\\u6c7a\", \"\\u5c0d\\u6c7a\", \"\\u5c0d\\u6c7a\", \"\\u5c0d\\u6c7a\", \"\\u5c0d\\u6c7a\", \"\\u5c0f\\u59d0\", \"\\u5c0f\\u59d0\", \"\\u5c0f\\u59d0\", \"\\u5c0f\\u59d0\", \"\\u5c71\\u7530\", \"\\u5c71\\u7530\", \"\\u5ca1\\u672c\", \"\\u5de5\\u4f5c\", \"\\u5de5\\u4f5c\", \"\\u5de5\\u4f5c\", \"\\u5de5\\u4f5c\", \"\\u5de5\\u4f5c\", \"\\u5df2\\u7d93\", \"\\u5df2\\u7d93\", \"\\u5df2\\u7d93\", \"\\u5df2\\u7d93\", \"\\u5df2\\u7d93\", \"\\u5df2\\u7d93\", \"\\u5df2\\u7d93\", \"\\u5df4\\u723e\", \"\\u5e0c\\u671b\", \"\\u5e0c\\u671b\", \"\\u5e0c\\u671b\", \"\\u5e0c\\u671b\", \"\\u5e0c\\u671b\", \"\\u5e0c\\u671b\", \"\\u5e0c\\u671b\", \"\\u5e73\\u548c\", \"\\u5e73\\u548c\", \"\\u5e73\\u548c\", \"\\u5e78\\u798f\", \"\\u5e78\\u798f\", \"\\u5e78\\u798f\", \"\\u5f35\\u7a4e\\u7a4e\", \"\\u5f35\\u7a4e\\u7a4e\", \"\\u5f37\\u8cfd\", \"\\u5f37\\u8cfd\", \"\\u5f37\\u8cfd\", \"\\u5f6d\\u653f\\u9594\", \"\\u5f71\\u7247\", \"\\u5f71\\u7247\", \"\\u5f71\\u7247\", \"\\u5f71\\u7247\", \"\\u5f71\\u7247\", \"\\u5f97\\u5206\", \"\\u5f97\\u5206\", \"\\u5f97\\u5206\", \"\\u5f97\\u5206\", \"\\u5feb\\u4f86\", \"\\u5feb\\u4f86\", \"\\u5feb\\u4f86\", \"\\u5feb\\u4f86\", \"\\u5feb\\u4f86\", \"\\u5feb\\u4f86\", \"\\u6027\\u611f\", \"\\u608d\\u5c07\", \"\\u60c5\\u4fb6\", \"\\u60c5\\u6cc1\", \"\\u60c5\\u6cc1\", \"\\u60c5\\u6cc1\", \"\\u60c5\\u6cc1\", \"\\u60c5\\u6cc1\", \"\\u60c5\\u6cc1\", \"\\u60c5\\u6cc1\", \"\\u611b\\u60c5\", \"\\u611b\\u60c5\", \"\\u611f\\u5230\", \"\\u611f\\u5230\", \"\\u611f\\u5230\", \"\\u611f\\u5230\", \"\\u611f\\u5230\", \"\\u611f\\u5230\", \"\\u611f\\u60c5\", \"\\u611f\\u60c5\", \"\\u611f\\u60c5\", \"\\u611f\\u60c5\", \"\\u6200\\u60c5\", \"\\u6200\\u60c5\", \"\\u6200\\u611b\", \"\\u6210\\u7e3e\", \"\\u6210\\u7e3e\", \"\\u6210\\u7e3e\", \"\\u6210\\u7e3e\", \"\\u6210\\u7e3e\", \"\\u6210\\u7e3e\", \"\\u6210\\u7e3e\", \"\\u6230\\u722d\", \"\\u6230\\u722d\", \"\\u6230\\u722d\", \"\\u6234\\u8cc7\\u7a4e\", \"\\u6234\\u8cc7\\u7a4e\", \"\\u624b\\u6307\", \"\\u624b\\u6307\", \"\\u624b\\u6307\", \"\\u624b\\u6307\", \"\\u6253\\u64ca\", \"\\u6253\\u64ca\", \"\\u6253\\u64ca\", \"\\u6253\\u64ca\", \"\\u6253\\u64ca\", \"\\u6253\\u64ca\", \"\\u6253\\u9ede\", \"\\u6253\\u9ede\", \"\\u6295\\u624b\", \"\\u6295\\u624b\", \"\\u6295\\u6253\", \"\\u6295\\u6253\", \"\\u6295\\u7403\", \"\\u6295\\u7403\", \"\\u6295\\u7403\", \"\\u62dc\\u767b\", \"\\u62f3\\u64ca\", \"\\u62ff\\u4e0b\", \"\\u62ff\\u4e0b\", \"\\u62ff\\u4e0b\", \"\\u62ff\\u4e0b\", \"\\u62ff\\u4e0b\", \"\\u62ff\\u4e0b\", \"\\u62ff\\u4e0b\", \"\\u6301\\u7e8c\", \"\\u6301\\u7e8c\", \"\\u6301\\u7e8c\", \"\\u6301\\u7e8c\", \"\\u6301\\u7e8c\", \"\\u6301\\u7e8c\", \"\\u6301\\u7e8c\", \"\\u6307\\u51fa\", \"\\u6307\\u51fa\", \"\\u6307\\u51fa\", \"\\u6307\\u51fa\", \"\\u6307\\u51fa\", \"\\u6307\\u51fa\", \"\\u6307\\u51fa\", \"\\u6311\\u6230\\u8cfd\", \"\\u6350\\u8d08\", \"\\u6350\\u8d08\", \"\\u6350\\u8d08\", \"\\u6355\\u624b\", \"\\u6392\\u540d\\u7b2c\", \"\\u6392\\u540d\\u7b2c\", \"\\u6392\\u540d\\u7b2c\", \"\\u63a5\\u7a2e\", \"\\u63a5\\u7a2e\", \"\\u63a8\\u64e0\", \"\\u6469\\u6d1b\\u54e5\", \"\\u6469\\u6d1b\\u54e5\", \"\\u6469\\u6d1b\\u54e5\", \"\\u64ca\\u6557\", \"\\u64ca\\u6557\", \"\\u64ca\\u6557\", \"\\u64ca\\u6557\", \"\\u64ca\\u6557\", \"\\u653b\\u4e0b\", \"\\u653b\\u4e0b\", \"\\u653b\\u64ca\", \"\\u653b\\u64ca\", \"\\u653b\\u64ca\", \"\\u653b\\u64ca\", \"\\u653b\\u64ca\", \"\\u653b\\u64ca\", \"\\u653b\\u64ca\", \"\\u6572\\u51fa\", \"\\u6572\\u51fa\", \"\\u65b0\\u805e\", \"\\u65b0\\u805e\", \"\\u65b0\\u805e\", \"\\u65b0\\u805e\", \"\\u65b0\\u805e\", \"\\u65b0\\u805e\", \"\\u65b0\\u805e\", \"\\u65b0\\u805e\\u5b98\", \"\\u65b0\\u805e\\u5b98\", \"\\u65b0\\u805e\\u983b\\u9053\", \"\\u65e5\\u4e09\\u5230\", \"\\u65e5\\u672c\", \"\\u65e5\\u672c\", \"\\u65e5\\u672c\", \"\\u65e5\\u672c\", \"\\u65e5\\u672c\", \"\\u65e5\\u672c\", \"\\u65e5\\u672c\", \"\\u65e5\\u672c\\u968a\", \"\\u65e5\\u672c\\u968a\", \"\\u6642\\u901f\", \"\\u6649\\u7d1a\", \"\\u6649\\u7d1a\", \"\\u6649\\u7d1a\", \"\\u6649\\u7d1a\", \"\\u6649\\u7d1a\", \"\\u666e\\u4e01\", \"\\u667a\\u52dd\", \"\\u66dd\\u5149\", \"\\u66dd\\u5149\", \"\\u66dd\\u5149\", \"\\u66dd\\u5149\", \"\\u66dd\\u5149\", \"\\u66dd\\u5149\", \"\\u66dd\\u5149\", \"\\u6700\\u5f8c\", \"\\u6700\\u5f8c\", \"\\u6700\\u5f8c\", \"\\u6700\\u5f8c\", \"\\u6700\\u5f8c\", \"\\u6700\\u5f8c\", \"\\u6700\\u5f8c\", \"\\u6700\\u7d42\", \"\\u6700\\u7d42\", \"\\u6700\\u7d42\", \"\\u6700\\u7d42\", \"\\u6700\\u7d42\", \"\\u6700\\u7d42\", \"\\u6700\\u7d42\", \"\\u6709\\u7dda\\u96fb\\u8996\", \"\\u670b\\u53cb\", \"\\u670b\\u53cb\", \"\\u670b\\u53cb\", \"\\u670b\\u53cb\", \"\\u670b\\u53cb\", \"\\u670b\\u53cb\", \"\\u670b\\u53cb\", \"\\u6717\\u5e0c\", \"\\u672a\\u7d66\", \"\\u672c\\u5b63\", \"\\u672c\\u5b63\", \"\\u672c\\u5b63\", \"\\u674e\\u591a\\u6167\", \"\\u674e\\u6d0b\", \"\\u6751\\u4e0a\", \"\\u6751\\u795e\", \"\\u676d\\u5dde\", \"\\u676d\\u5dde\", \"\\u676d\\u5dde\", \"\\u6771\\u4eac\", \"\\u6771\\u4eac\", \"\\u6771\\u4eac\", \"\\u6771\\u4eac\", \"\\u6771\\u4eac\", \"\\u6771\\u4eac\", \"\\u6771\\u4eac\", \"\\u6771\\u68ee\", \"\\u6771\\u68ee\", \"\\u6771\\u68ee\", \"\\u6771\\u68ee\", \"\\u6771\\u68ee\", \"\\u6771\\u68ee\", \"\\u6771\\u68ee\\u8d85\", \"\\u6771\\u68ee\\u8d85\", \"\\u6797\\u5b50\", \"\\u6797\\u5b50\", \"\\u6797\\u5cb3\\u5e73\", \"\\u6797\\u66f8\\u8c6a\", \"\\u6797\\u66f8\\u8c6a\", \"\\u6797\\u76ca\", \"\\u6797\\u80af\", \"\\u6797\\u90c1\\u5a77\", \"\\u67d3\\u75ab\", \"\\u6817\\u5c71\", \"\\u6843\\u733f\", \"\\u6843\\u733f\\u968a\", \"\\u68a8\\u6cf0\\u9662\", \"\\u68d2\\u7403\", \"\\u68d2\\u7403\", \"\\u68d2\\u7403\", \"\\u68d2\\u7403\", \"\\u68d2\\u7403\", \"\\u68d2\\u7403\", \"\\u68d2\\u7403\\u5834\", \"\\u68d2\\u7403\\u5834\", \"\\u6a02\\u5929\", \"\\u6b50\\u6d32\", \"\\u6b50\\u6d32\", \"\\u6b50\\u6d32\", \"\\u6b50\\u6d32\", \"\\u6b50\\u6d32\", \"\\u6b50\\u76df\", \"\\u6b62\\u6b65\", \"\\u6b63\\u59b9\", \"\\u6b63\\u5c1a\", \"\\u6b63\\u5c1a\", \"\\u6b66\\u58eb\", \"\\u6b7b\\u4ea1\", \"\\u6b7b\\u4ea1\", \"\\u6b7b\\u4ea1\", \"\\u6b7b\\u4ea1\", \"\\u6b7b\\u56e0\", \"\\u6b7b\\u56e0\", \"\\u6b7b\\u8005\", \"\\u6b7b\\u8005\", \"\\u6b7b\\u8005\", \"\\u6b7b\\u8005\", \"\\u6bd4\\u6bd4\", \"\\u6bd4\\u8cfd\", \"\\u6bd4\\u8cfd\", \"\\u6bd4\\u8cfd\", \"\\u6bd4\\u8cfd\", \"\\u6bd4\\u8cfd\", \"\\u6bd4\\u8cfd\", \"\\u6bd4\\u8cfd\", \"\\u6c11\\u773e\", \"\\u6c11\\u773e\", \"\\u6c11\\u773e\", \"\\u6c11\\u773e\", \"\\u6c11\\u773e\", \"\\u6c11\\u773e\", \"\\u6c11\\u773e\", \"\\u6c42\\u5a5a\", \"\\u6c5f\\u5b8f\\u5091\", \"\\u6c5f\\u8607\", \"\\u6c5f\\u8607\", \"\\u6c5f\\u8607\", \"\\u6c6a\\u5c0f\\u83f2\", \"\\u6c6a\\u5c0f\\u83f2\", \"\\u6c6a\\u5c0f\\u83f2\", \"\\u6c7a\\u8cfd\", \"\\u6c7a\\u8cfd\", \"\\u6c7a\\u8cfd\", \"\\u6c7a\\u8cfd\", \"\\u6c7a\\u8cfd\", \"\\u6cb3\\u5357\", \"\\u6cb3\\u5357\", \"\\u6cbb\\u7642\", \"\\u6cbb\\u7642\", \"\\u6cd5\\u6848\", \"\\u6ce2\\u58eb\\u9813\", \"\\u6ce2\\u58eb\\u9813\", \"\\u6ce2\\u58eb\\u9813\", \"\\u6ce2\\u6bd4\", \"\\u6ce2\\u862d\", \"\\u6ce2\\u862d\", \"\\u6ce2\\u862d\", \"\\u6d32\\u969b\", \"\\u6d32\\u969b\", \"\\u6d32\\u969b\", \"\\u6d88\\u606f\", \"\\u6d88\\u606f\", \"\\u6d88\\u606f\", \"\\u6d88\\u606f\", \"\\u6d88\\u606f\", \"\\u6d88\\u606f\", \"\\u6d88\\u606f\", \"\\u6df7\\u96d9\", \"\\u6df7\\u96d9\", \"\\u6df7\\u96d9\", \"\\u6eff\\u8cab\", \"\\u6fc0\\u71d2\", \"\\u7028\\u6606\\u59ae\", \"\\u70cf\\u514b\\u862d\", \"\\u70cf\\u514b\\u862d\", \"\\u70cf\\u514b\\u862d\", \"\\u70cf\\u514b\\u862d\", \"\\u7121\\u6cd5\", \"\\u7121\\u6cd5\", \"\\u7121\\u6cd5\", \"\\u7121\\u6cd5\", \"\\u7121\\u6cd5\", \"\\u7121\\u6cd5\", \"\\u7121\\u6cd5\", \"\\u7167\\u7247\", \"\\u7167\\u7247\", \"\\u7167\\u7247\", \"\\u7167\\u7247\", \"\\u7167\\u7247\", \"\\u7167\\u7247\", \"\\u71b1\\u8840\", \"\\u71b1\\u8840\", \"\\u71b1\\u8840\", \"\\u71b1\\u8840\", \"\\u71b1\\u8840\", \"\\u7206\\u6599\", \"\\u7206\\u6599\", \"\\u7206\\u6599\", \"\\u7206\\u6599\", \"\\u7238\\u7238\", \"\\u7238\\u7238\", \"\\u7238\\u7238\", \"\\u7238\\u7238\", \"\\u7238\\u7238\", \"\\u7279\\u653b\", \"\\u7279\\u653b\", \"\\u7345\\u968a\", \"\\u7372\\u5f97\", \"\\u7372\\u5f97\", \"\\u7372\\u5f97\", \"\\u7372\\u5f97\", \"\\u7372\\u5f97\", \"\\u7372\\u5f97\", \"\\u7372\\u5f97\", \"\\u738b\\u529b\\u5b8f\", \"\\u738b\\u529b\\u5b8f\", \"\\u738b\\u5a01\\u6668\", \"\\u738b\\u6b63\\u68e0\", \"\\u738b\\u9f4a\\u9e9f\", \"\\u73fe\\u5728\", \"\\u73fe\\u5728\", \"\\u73fe\\u5728\", \"\\u73fe\\u5728\", \"\\u73fe\\u5728\", \"\\u73fe\\u5728\", \"\\u73fe\\u5728\", \"\\u7403\\u54e1\", \"\\u7403\\u54e1\", \"\\u7403\\u54e1\", \"\\u7403\\u54e1\", \"\\u7403\\u54e1\", \"\\u7403\\u54e1\", \"\\u7403\\u54e1\", \"\\u7403\\u5718\", \"\\u7403\\u5718\", \"\\u7403\\u5718\", \"\\u7403\\u5718\", \"\\u7403\\u5834\\u4e0a\", \"\\u7403\\u5b63\", \"\\u7403\\u5b63\", \"\\u7403\\u5b63\", \"\\u7403\\u8a55\", \"\\u7403\\u8a55\", \"\\u7403\\u8cfd\", \"\\u7403\\u8cfd\", \"\\u7403\\u8cfd\", \"\\u7403\\u8ff7\", \"\\u7403\\u8ff7\", \"\\u7403\\u8ff7\", \"\\u7403\\u8ff7\", \"\\u7403\\u8ff7\", \"\\u7403\\u8ff7\", \"\\u7403\\u968a\", \"\\u7403\\u968a\", \"\\u7403\\u968a\", \"\\u7403\\u968a\", \"\\u7403\\u968a\", \"\\u7403\\u968a\", \"\\u74e6\\u723e\", \"\\u74e6\\u723e\", \"\\u751c\\u871c\", \"\\u751c\\u871c\", \"\\u751f\\u6d3b\", \"\\u751f\\u6d3b\", \"\\u751f\\u6d3b\", \"\\u751f\\u6d3b\", \"\\u751f\\u6d3b\", \"\\u751f\\u6daf\", \"\\u751f\\u6daf\", \"\\u751f\\u6daf\", \"\\u751f\\u6daf\", \"\\u751f\\u6daf\", \"\\u7530\\u9d3b\\u9b41\", \"\\u7537\\u53cb\", \"\\u7537\\u53cb\", \"\\u7537\\u5b50\", \"\\u7537\\u5b50\", \"\\u7537\\u5b50\", \"\\u7537\\u5b50\", \"\\u7537\\u5b50\", \"\\u7537\\u5b50\", \"\\u7537\\u65b9\", \"\\u7537\\u65b9\", \"\\u7537\\u7ae5\", \"\\u7537\\u7ae5\", \"\\u7537\\u7c43\", \"\\u7537\\u7c43\", \"\\u7559\\u8a00\", \"\\u7559\\u8a00\", \"\\u7559\\u8a00\", \"\\u7559\\u8a00\", \"\\u7559\\u8a00\", \"\\u7576\\u500b\", \"\\u7576\\u500b\", \"\\u7576\\u500b\", \"\\u7576\\u500b\", \"\\u7576\\u500b\", \"\\u7576\\u500b\", \"\\u7576\\u6642\", \"\\u7576\\u6642\", \"\\u7576\\u6642\", \"\\u7576\\u6642\", \"\\u7576\\u6642\", \"\\u7576\\u6642\", \"\\u7576\\u6642\", \"\\u75ab\\u82d7\", \"\\u75ab\\u82d7\", \"\\u75ab\\u82d7\", \"\\u75c5\\u4f8b\", \"\\u75c5\\u4f8b\", \"\\u75c5\\u60a3\", \"\\u75c5\\u60a3\", \"\\u75c5\\u623f\", \"\\u75c5\\u6bd2\", \"\\u75c5\\u6bd2\", \"\\u75c5\\u6bd2\", \"\\u75c7\\u72c0\", \"\\u75c7\\u72c0\", \"\\u75c7\\u72c0\", \"\\u767c\\u6587\", \"\\u767c\\u6587\", \"\\u767c\\u6587\", \"\\u767c\\u6587\", \"\\u767c\\u6587\", \"\\u767c\\u6587\", \"\\u767c\\u6587\", \"\\u767c\\u73fe\", \"\\u767c\\u73fe\", \"\\u767c\\u73fe\", \"\\u767c\\u73fe\", \"\\u767c\\u73fe\", \"\\u767c\\u73fe\", \"\\u767c\\u751f\", \"\\u767c\\u751f\", \"\\u767c\\u751f\", \"\\u767c\\u751f\", \"\\u767c\\u751f\", \"\\u767c\\u751f\", \"\\u767c\\u751f\", \"\\u767d\\u5bae\", \"\\u76ee\\u524d\", \"\\u76ee\\u524d\", \"\\u76ee\\u524d\", \"\\u76ee\\u524d\", \"\\u76ee\\u524d\", \"\\u76ee\\u524d\", \"\\u76ee\\u524d\", \"\\u76f4\\u64ad\", \"\\u76f4\\u64ad\", \"\\u76f4\\u64ad\", \"\\u76f4\\u64ad\", \"\\u76f4\\u64ad\", \"\\u76f8\\u7576\", \"\\u76f8\\u7576\", \"\\u76f8\\u7576\", \"\\u76f8\\u7576\", \"\\u76f8\\u7576\", \"\\u76f8\\u7576\", \"\\u76f8\\u7576\", \"\\u76f8\\u95dc\", \"\\u76f8\\u95dc\", \"\\u76f8\\u95dc\", \"\\u76f8\\u95dc\", \"\\u76f8\\u95dc\", \"\\u76f8\\u95dc\", \"\\u770b\\u5230\", \"\\u770b\\u5230\", \"\\u770b\\u5230\", \"\\u770b\\u5230\", \"\\u770b\\u5230\", \"\\u770b\\u5230\", \"\\u770b\\u5230\", \"\\u771f\\u7684\", \"\\u771f\\u7684\", \"\\u771f\\u7684\", \"\\u771f\\u7684\", \"\\u771f\\u7684\", \"\\u771f\\u7684\", \"\\u771f\\u7684\", \"\\u77e5\\u9053\", \"\\u77e5\\u9053\", \"\\u77e5\\u9053\", \"\\u77e5\\u9053\", \"\\u77e5\\u9053\", \"\\u77e5\\u9053\", \"\\u78ba\\u8a3a\", \"\\u78ba\\u8a3a\", \"\\u78ba\\u8a3a\", \"\\u78ba\\u8a3a\", \"\\u795e\\u7d93\", \"\\u795e\\u7d93\", \"\\u7981\\u5340\", \"\\u798f\\u539f\", \"\\u79d1\\u7dad\\u5947\", \"\\u79d1\\u7dad\\u5947\", \"\\u7a2e\\u5b50\", \"\\u7a4d\\u5206\", \"\\u7a4d\\u5206\", \"\\u7a7f\\u8457\", \"\\u7a7f\\u8457\", \"\\u7a7f\\u8457\", \"\\u7a7f\\u8457\", \"\\u7a7f\\u8457\", \"\\u7acb\\u9676\\u5b9b\", \"\\u7bc0\\u76ee\", \"\\u7bc0\\u76ee\", \"\\u7bc0\\u76ee\", \"\\u7bc0\\u76ee\", \"\\u7bc0\\u76ee\", \"\\u7c43\\u677f\", \"\\u7c89\\u7d72\", \"\\u7c89\\u7d72\", \"\\u7c89\\u7d72\", \"\\u7c89\\u7d72\", \"\\u7c89\\u7d72\", \"\\u7c89\\u7d72\", \"\\u7c89\\u7d72\\u5718\", \"\\u7c89\\u7d72\\u5718\", \"\\u7c89\\u7d72\\u5718\", \"\\u7d04\\u6703\", \"\\u7d05\\u896a\", \"\\u7d05\\u896a\", \"\\u7d0d\\u9054\\u723e\", \"\\u7d50\\u5a5a\", \"\\u7d50\\u5a5a\", \"\\u7d50\\u5a5a\", \"\\u7d93\\u5178\", \"\\u7d93\\u5178\", \"\\u7d93\\u5178\", \"\\u7d93\\u5178\", \"\\u7d93\\u5178\", \"\\u7d93\\u5178\", \"\\u7d93\\u5178\", \"\\u7d93\\u6fdf\", \"\\u7d93\\u6fdf\", \"\\u7d93\\u6fdf\", \"\\u7d93\\u6fdf\", \"\\u7db2\\u53cb\", \"\\u7db2\\u53cb\", \"\\u7db2\\u53cb\", \"\\u7db2\\u53cb\", \"\\u7db2\\u53cb\", \"\\u7db2\\u53cb\", \"\\u7db2\\u53cb\", \"\\u7db2\\u6771\\u68ee\", \"\\u7db2\\u6771\\u68ee\", \"\\u7db2\\u7403\", \"\\u7db2\\u7403\", \"\\u7dcb\\u805e\", \"\\u7e3d\\u6559\\u7df4\", \"\\u7e3d\\u6559\\u7df4\", \"\\u7e3d\\u6559\\u7df4\", \"\\u7e3d\\u6559\\u7df4\", \"\\u7e3d\\u7d71\", \"\\u7e3d\\u7d71\", \"\\u7e3d\\u7d71\", \"\\u7e3d\\u7d71\\u5e9c\", \"\\u7e3d\\u7d71\\u5e9c\", \"\\u7e3d\\u7d71\\u5e9c\", \"\\u7f8e\\u570b\", \"\\u7f8e\\u570b\", \"\\u7f8e\\u570b\", \"\\u7f8e\\u570b\", \"\\u7f8e\\u570b\", \"\\u7f8e\\u570b\", \"\\u7f8e\\u570b\", \"\\u7f8e\\u570b\\u968a\", \"\\u7f8e\\u570b\\u968a\", \"\\u7f8e\\u570b\\u968a\", \"\\u7f8e\\u65b9\", \"\\u7f8e\\u8ecd\", \"\\u7fbd\\u7403\", \"\\u7fd2\\u8fd1\\u5e73\", \"\\u7fd2\\u8fd1\\u5e73\", \"\\u7fd4\\u5e73\", \"\\u7fd4\\u5e73\", \"\\u7fd4\\u5e73\", \"\\u8001\\u516c\", \"\\u8001\\u516c\", \"\\u8001\\u516c\", \"\\u8001\\u5a46\", \"\\u8001\\u5a46\", \"\\u8001\\u5a46\", \"\\u8001\\u9df9\", \"\\u806f\\u76df\", \"\\u806f\\u76df\", \"\\u806f\\u76df\", \"\\u806f\\u76df\", \"\\u806f\\u76df\", \"\\u806f\\u76df\", \"\\u806f\\u76df\", \"\\u8077\\u68d2\", \"\\u8077\\u68d2\", \"\\u8077\\u68d2\", \"\\u8089\\u5713\", \"\\u80b2\\u6210\", \"\\u80b2\\u6210\", \"\\u80b2\\u6210\", \"\\u80b2\\u6210\", \"\\u80cc\\u865f\", \"\\u80da\\u80ce\", \"\\u81c9\\u66f8\", \"\\u81c9\\u66f8\", \"\\u81c9\\u66f8\", \"\\u81c9\\u66f8\", \"\\u81c9\\u66f8\", \"\\u81c9\\u66f8\", \"\\u8209\\u884c\", \"\\u8209\\u884c\", \"\\u8209\\u884c\", \"\\u8209\\u884c\", \"\\u8209\\u884c\", \"\\u8209\\u884c\", \"\\u82f1\\u6a39\", \"\\u8303\\u570b\\u5bb8\", \"\\u8377\\u862d\", \"\\u8377\\u862d\", \"\\u8377\\u862d\", \"\\u8377\\u862d\", \"\\u8377\\u862d\", \"\\u8377\\u862d\", \"\\u8377\\u862d\", \"\\u8389\\u5a6d\", \"\\u8461\\u8404\\u7259\", \"\\u8461\\u8404\\u7259\", \"\\u8461\\u8404\\u7259\", \"\\u8868\\u73fe\", \"\\u8868\\u73fe\", \"\\u8868\\u73fe\", \"\\u8868\\u73fe\", \"\\u8868\\u73fe\", \"\\u8868\\u73fe\", \"\\u8868\\u73fe\", \"\\u8868\\u793a\", \"\\u8868\\u793a\", \"\\u8868\\u793a\", \"\\u8868\\u793a\", \"\\u8868\\u793a\", \"\\u8868\\u793a\", \"\\u8868\\u793a\", \"\\u88f4\\u6d1b\\u897f\", \"\\u88f4\\u6d1b\\u897f\", \"\\u897f\\u4e9e\", \"\\u897f\\u4e9e\", \"\\u897f\\u73ed\\u7259\", \"\\u897f\\u73ed\\u7259\", \"\\u897f\\u73ed\\u7259\", \"\\u897f\\u73ed\\u7259\", \"\\u897f\\u73ed\\u7259\", \"\\u897f\\u73ed\\u7259\", \"\\u8996\\u5bdf\", \"\\u89ba\\u5f97\", \"\\u89ba\\u5f97\", \"\\u89ba\\u5f97\", \"\\u89ba\\u5f97\", \"\\u89ba\\u5f97\", \"\\u89ba\\u5f97\", \"\\u89ba\\u5f97\", \"\\u8a31\\u591a\", \"\\u8a31\\u591a\", \"\\u8a31\\u591a\", \"\\u8a31\\u591a\", \"\\u8a31\\u591a\", \"\\u8a31\\u591a\", \"\\u8a31\\u591a\", \"\\u8a8d\\u70ba\", \"\\u8a8d\\u70ba\", \"\\u8a8d\\u70ba\", \"\\u8a8d\\u70ba\", \"\\u8a8d\\u70ba\", \"\\u8a8d\\u70ba\", \"\\u8a8d\\u70ba\", \"\\u8b66\\u65b9\", \"\\u8b66\\u65b9\", \"\\u8b66\\u65b9\", \"\\u8b66\\u65b9\", \"\\u8b8a\\u7570\", \"\\u8ca1\\u7d93\\u65b0\\u805e\", \"\\u8cc7\\u683c\\u8cfd\", \"\\u8cc7\\u683c\\u8cfd\", \"\\u8cc7\\u7a4e\", \"\\u8cc7\\u7a4e\", \"\\u8cfd\\u4e8b\", \"\\u8cfd\\u4e8b\", \"\\u8cfd\\u4e8b\", \"\\u8cfd\\u4e8b\", \"\\u8cfd\\u4e8b\", \"\\u8cfd\\u4e8b\", \"\\u8cfd\\u4e8b\", \"\\u8cfd\\u5c07\", \"\\u8cfd\\u5c07\", \"\\u8cfd\\u770b\", \"\\u8de8\\u8d8a\", \"\\u8de8\\u8d8a\", \"\\u8de8\\u8d8a\", \"\\u8de8\\u8d8a\", \"\\u8de8\\u8d8a\", \"\\u8eab\\u9ad4\", \"\\u8eab\\u9ad4\", \"\\u8eab\\u9ad4\", \"\\u8eab\\u9ad4\", \"\\u8eab\\u9ad4\", \"\\u8eab\\u9ad4\", \"\\u8ecd\\u4e8b\", \"\\u8ecd\\u65b9\", \"\\u8ecd\\u6f14\", \"\\u8f49\\u64ad\\u6b0a\", \"\\u8fd1\\u65e5\", \"\\u8fd1\\u65e5\", \"\\u8fd1\\u65e5\", \"\\u8fd1\\u65e5\", \"\\u8fd1\\u65e5\", \"\\u8ffd\\u5e73\", \"\\u8ffd\\u5e73\", \"\\u8ffd\\u5e73\", \"\\u8ffd\\u5e73\", \"\\u8ffd\\u8e64\", \"\\u8ffd\\u8e64\", \"\\u8ffd\\u8e64\", \"\\u8ffd\\u8e64\", \"\\u8ffd\\u8e64\", \"\\u8ffd\\u8e64\", \"\\u8ffd\\u8e64\", \"\\u9001\\u5f80\", \"\\u9001\\u5f80\", \"\\u9001\\u5f80\", \"\\u9001\\u91ab\", \"\\u9001\\u91ab\", \"\\u9001\\u91ab\", \"\\u9006\\u8f49\", \"\\u9006\\u8f49\", \"\\u9006\\u8f49\", \"\\u9006\\u8f49\", \"\\u9006\\u8f49\", \"\\u900f\\u9732\", \"\\u900f\\u9732\", \"\\u900f\\u9732\", \"\\u900f\\u9732\", \"\\u900f\\u9732\", \"\\u900f\\u9732\", \"\\u900f\\u9732\", \"\\u9020\\u578b\", \"\\u9020\\u578b\", \"\\u9020\\u6210\", \"\\u9020\\u6210\", \"\\u9020\\u6210\", \"\\u9020\\u6210\", \"\\u9020\\u6210\", \"\\u9020\\u6210\", \"\\u9023\\u5343\\u6bc5\", \"\\u9023\\u5343\\u6bc5\", \"\\u9023\\u5343\\u6bc5\", \"\\u9032\\u7403\", \"\\u9032\\u884c\", \"\\u9032\\u884c\", \"\\u9032\\u884c\", \"\\u9032\\u884c\", \"\\u9032\\u884c\", \"\\u9032\\u884c\", \"\\u9032\\u884c\", \"\\u904e\\u53bb\", \"\\u904e\\u53bb\", \"\\u904e\\u53bb\", \"\\u904e\\u53bb\", \"\\u904e\\u53bb\", \"\\u904e\\u53bb\", \"\\u904e\\u53bb\", \"\\u9054\\u6bd4\", \"\\u9054\\u6bd4\", \"\\u9054\\u6bd4\", \"\\u9078\\u624b\", \"\\u9078\\u624b\", \"\\u9078\\u624b\", \"\\u9078\\u624b\", \"\\u9078\\u624b\", \"\\u9078\\u624b\", \"\\u9078\\u624b\", \"\\u90e8\\u968a\", \"\\u90e8\\u968a\", \"\\u912d\\u6021\\u975c\", \"\\u91ab\\u5e2b\", \"\\u91ab\\u5e2b\", \"\\u91ab\\u751f\", \"\\u91ab\\u751f\", \"\\u91ab\\u7642\", \"\\u91ab\\u7642\", \"\\u91ab\\u7642\", \"\\u91ab\\u7642\", \"\\u91ab\\u8b77\\u4eba\\u54e1\", \"\\u91ab\\u9662\", \"\\u91ab\\u9662\", \"\\u91ab\\u9662\", \"\\u91ab\\u9662\", \"\\u91ab\\u9662\", \"\\u91ab\\u9662\", \"\\u91c0\\u9152\", \"\\u91d1\\u724c\", \"\\u91d1\\u724c\", \"\\u9285\\u724c\", \"\\u9326\\u6a19\\u8cfd\", \"\\u958b\\u5200\", \"\\u958b\\u5200\", \"\\u958b\\u6253\", \"\\u958b\\u6253\", \"\\u958b\\u6253\", \"\\u958b\\u6253\", \"\\u958b\\u6253\", \"\\u958b\\u6253\", \"\\u963f\\u59e8\", \"\\u9662\\u65b9\", \"\\u9670\\u6027\", \"\\u967d\\u6027\", \"\\u9694\\u96e2\", \"\\u9694\\u96e2\", \"\\u9694\\u96e2\", \"\\u96d9\\u4f4d\\u6578\", \"\\u96d9\\u65b9\", \"\\u96d9\\u65b9\", \"\\u96d9\\u65b9\", \"\\u96d9\\u65b9\", \"\\u96d9\\u65b9\", \"\\u96d9\\u65b9\", \"\\u96d9\\u65b9\", \"\\u96e2\\u5a5a\", \"\\u96e2\\u5a5a\", \"\\u96f6\\u6642\", \"\\u96fb\\u5f71\", \"\\u96fb\\u5f71\", \"\\u96fb\\u5f71\", \"\\u96fb\\u5f71\", \"\\u96fb\\u5f71\", \"\\u96fb\\u8996\", \"\\u96fb\\u8996\", \"\\u96fb\\u8996\", \"\\u96fb\\u8996\", \"\\u96fb\\u8996\", \"\\u96fb\\u8996\", \"\\u970d\\u83ef\\u5fb7\", \"\\u970d\\u83ef\\u5fb7\", \"\\u970d\\u83ef\\u5fb7\", \"\\u9818\\u5148\", \"\\u9818\\u5148\", \"\\u9818\\u5148\", \"\\u9818\\u5148\", \"\\u9818\\u5148\", \"\\u9818\\u822a\", \"\\u983b\\u9053\", \"\\u983b\\u9053\", \"\\u983b\\u9053\", \"\\u983b\\u9053\", \"\\u983b\\u9053\", \"\\u98db\\u5f48\", \"\\u98db\\u5f48\", \"\\u9996\\u8f2a\", \"\\u9996\\u8f2a\", \"\\u9ad8\\u4e2d\", \"\\u9ad8\\u4e2d\", \"\\u9ad8\\u4e2d\", \"\\u9ad8\\u4e2d\", \"\\u9ad8\\u4e2d\", \"\\u9ad8\\u4e2d\", \"\\u9ad8\\u4e2d\", \"\\u9b42\\u6771\\u68ee\", \"\\u9b54\\u7378\", \"\\u9b54\\u7378\", \"\\u9b54\\u7378\", \"\\u9f8d\\u968a\"]}, \"R\": 30, \"lambda.step\": 0.01, \"plot.opts\": {\"xlab\": \"PC1\", \"ylab\": \"PC2\"}, \"topic.order\": [4, 5, 6, 2, 3, 7, 1]};\n",
       "\n",
       "function LDAvis_load_lib(url, callback){\n",
       "  var s = document.createElement('script');\n",
       "  s.src = url;\n",
       "  s.async = true;\n",
       "  s.onreadystatechange = s.onload = callback;\n",
       "  s.onerror = function(){console.warn(\"failed to load library \" + url);};\n",
       "  document.getElementsByTagName(\"head\")[0].appendChild(s);\n",
       "}\n",
       "\n",
       "if(typeof(LDAvis) !== \"undefined\"){\n",
       "   // already loaded: just create the visualization\n",
       "   !function(LDAvis){\n",
       "       new LDAvis(\"#\" + \"ldavis_el151619211546455681508491739\", ldavis_el151619211546455681508491739_data);\n",
       "   }(LDAvis);\n",
       "}else if(typeof define === \"function\" && define.amd){\n",
       "   // require.js is available: use it to load d3/LDAvis\n",
       "   require.config({paths: {d3: \"https://d3js.org/d3.v5\"}});\n",
       "   require([\"d3\"], function(d3){\n",
       "      window.d3 = d3;\n",
       "      LDAvis_load_lib(\"https://cdn.jsdelivr.net/gh/bmabey/pyLDAvis@3.4.0/pyLDAvis/js/ldavis.v3.0.0.js\", function(){\n",
       "        new LDAvis(\"#\" + \"ldavis_el151619211546455681508491739\", ldavis_el151619211546455681508491739_data);\n",
       "      });\n",
       "    });\n",
       "}else{\n",
       "    // require.js not available: dynamically load d3 & LDAvis\n",
       "    LDAvis_load_lib(\"https://d3js.org/d3.v5.js\", function(){\n",
       "         LDAvis_load_lib(\"https://cdn.jsdelivr.net/gh/bmabey/pyLDAvis@3.4.0/pyLDAvis/js/ldavis.v3.0.0.js\", function(){\n",
       "                 new LDAvis(\"#\" + \"ldavis_el151619211546455681508491739\", ldavis_el151619211546455681508491739_data);\n",
       "            })\n",
       "         });\n",
       "}\n",
       "</script>"
      ],
      "text/plain": [
       "PreparedData(topic_coordinates=              x         y  topics  cluster       Freq\n",
       "topic                                                \n",
       "3      0.157518  0.121568       1        1  34.966436\n",
       "4      0.188616  0.067701       2        1  19.911843\n",
       "5      0.141092 -0.084030       3        1  14.546806\n",
       "1     -0.178229  0.086957       4        1  10.718855\n",
       "2     -0.151047 -0.208010       5        1  10.036191\n",
       "6      0.075552 -0.104484       6        1   6.380825\n",
       "0     -0.233503  0.120298       7        1   3.439044, topic_info=      Term         Freq        Total Category  logprob  loglift\n",
       "10090   大谷  1004.000000  1004.000000  Default  30.0000  30.0000\n",
       "1369    日本  1385.000000  1385.000000  Default  29.0000  29.0000\n",
       "13671   育成  1139.000000  1139.000000  Default  28.0000  28.0000\n",
       "2926    經典  1183.000000  1183.000000  Default  27.0000  27.0000\n",
       "7227   烏克蘭  1125.000000  1125.000000  Default  26.0000  26.0000\n",
       "...    ...          ...          ...      ...      ...      ...\n",
       "13837   二壘    69.222274   192.394821   Topic7  -5.7476   2.3477\n",
       "63      最後   118.268732  1305.633216   Topic7  -5.2119   0.9685\n",
       "5202    聯盟   106.870636   942.793490   Topic7  -5.3133   1.1927\n",
       "979     世界    91.139312  1233.010264   Topic7  -5.4725   0.7652\n",
       "1004    台灣    86.084467  2724.596164   Topic7  -5.5296  -0.0848\n",
       "\n",
       "[523 rows x 6 columns], token_table=       Topic      Freq Term\n",
       "term                       \n",
       "0          1  0.358269   一名\n",
       "0          2  0.540533   一名\n",
       "0          3  0.022685   一名\n",
       "0          4  0.046935   一名\n",
       "0          5  0.000782   一名\n",
       "...      ...       ...  ...\n",
       "11165      6  0.992810  魂東森\n",
       "9100       2  0.813810   魔獸\n",
       "9100       4  0.003857   魔獸\n",
       "9100       5  0.181275   魔獸\n",
       "11534      4  0.989094   龍隊\n",
       "\n",
       "[1414 rows x 3 columns], R=30, lambda_step=0.01, plot_opts={'xlab': 'PC1', 'ylab': 'PC2'}, topic_order=[4, 5, 6, 2, 3, 7, 1])"
      ]
     },
     "execution_count": 70,
     "metadata": {},
     "output_type": "execute_result"
    }
   ],
   "source": [
    "pyLDAvis.enable_notebook()\n",
    "p = pyLDAvis.gensim_models.prepare(best_model, corpus, dictionary)\n",
    "p"
   ]
  },
  {
   "cell_type": "code",
   "execution_count": null,
   "metadata": {},
   "outputs": [],
   "source": [
    "pyLDAvis.save_html(p, \"lda_zh.html\")"
   ]
  },
  {
   "attachments": {},
   "cell_type": "markdown",
   "metadata": {},
   "source": [
    "## 6. GuidedLDA"
   ]
  },
  {
   "attachments": {},
   "cell_type": "markdown",
   "metadata": {},
   "source": [
    "- 原始套件: <https://github.com/vi3k6i5/GuidedLDA>  \n",
    "- 31lab 家銘修改版本: <https://github.com/Text-Analytics-and-Retrieval/GuidedLDA>\n",
    "\n",
    "安裝方式:  \n",
    "`pip install git+https://github.com/Text-Analytics-and-Retrieval/GuidedLDA.git#egg=GuidedLDA`  \n",
    "經測試，在 `python3.7`, `python3.8` 可正常執行"
   ]
  },
  {
   "cell_type": "code",
   "execution_count": null,
   "metadata": {},
   "outputs": [],
   "source": [
    "import guidedlda"
   ]
  },
  {
   "cell_type": "code",
   "execution_count": null,
   "metadata": {},
   "outputs": [
    {
     "data": {
      "text/plain": [
       "('一名', '一定', '一起', '一路上', '一集', '上演', '下去', '下班', '不停', '之後')"
      ]
     },
     "execution_count": 30,
     "metadata": {},
     "output_type": "execute_result"
    }
   ],
   "source": [
    "vocab = tuple(dictionary.token2id.keys())\n",
    "vocab[:10]"
   ]
  },
  {
   "cell_type": "code",
   "execution_count": null,
   "metadata": {},
   "outputs": [],
   "source": [
    "word2id = dictionary.token2id"
   ]
  },
  {
   "cell_type": "code",
   "execution_count": null,
   "metadata": {},
   "outputs": [],
   "source": [
    "X = corpus2dense(corpus, len(dictionary), len(corpus)).T.astype(np.int64)"
   ]
  },
  {
   "cell_type": "code",
   "execution_count": null,
   "metadata": {},
   "outputs": [
    {
     "name": "stderr",
     "output_type": "stream",
     "text": [
      "2023-05-08 17:40:10,840 : INFO : n_documents: 4098\n",
      "2023-05-08 17:40:10,841 : INFO : vocab_size: 14437\n",
      "2023-05-08 17:40:10,842 : INFO : n_words: 630874\n",
      "2023-05-08 17:40:10,842 : INFO : n_topics: 7\n",
      "2023-05-08 17:40:10,843 : INFO : n_iter: 100\n",
      "2023-05-08 17:40:13,109 : INFO : <0> log likelihood: -7044592\n",
      "2023-05-08 17:40:13,717 : INFO : <20> log likelihood: -5574215\n",
      "2023-05-08 17:40:14,294 : INFO : <40> log likelihood: -5461923\n",
      "2023-05-08 17:40:14,877 : INFO : <60> log likelihood: -5417948\n",
      "2023-05-08 17:40:15,471 : INFO : <80> log likelihood: -5393544\n",
      "2023-05-08 17:40:16,051 : INFO : <99> log likelihood: -5377260\n"
     ]
    },
    {
     "data": {
      "text/plain": [
       "<guidedlda.guidedlda.GuidedLDA at 0x1bf545f29d0>"
      ]
     },
     "execution_count": 71,
     "metadata": {},
     "output_type": "execute_result"
    }
   ],
   "source": [
    "model = guidedlda.GuidedLDA(n_topics=7, n_iter=100, random_state=7, refresh=20)\n",
    "model.fit(X, seed_confidence=1)\n"
   ]
  },
  {
   "cell_type": "code",
   "execution_count": null,
   "metadata": {},
   "outputs": [
    {
     "name": "stdout",
     "output_type": "stream",
     "text": [
      "Topic 0: 經典 中華隊 球迷 棒球 球員 比賽 聯盟 投手 台灣 世界\n",
      "Topic 1: 表示 孩子 透露 希望 女兒 媽媽 已經 真的 現在 兩人\n",
      "Topic 2: 網友 表示 直播 萬元 公司 對方 離婚 台幣 影片 認為\n",
      "Topic 3: 世界盃 比賽 阿根廷 選手 卡達 今天 晉級 冠軍 拿下 球員\n",
      "Topic 4: 烏克蘭 俄羅斯 美國 中國 台灣 表示 總統 國家 今天 俄軍\n",
      "Topic 5: 網友 粉絲 台灣 真的 影片 節目 許多 照片 表示 相當\n",
      "Topic 6: 發生 一名 報導 發現 表示 影片 出現 目前 警方 已經\n"
     ]
    },
    {
     "data": {
      "text/html": [
       "\n",
       "<link rel=\"stylesheet\" type=\"text/css\" href=\"https://cdn.jsdelivr.net/gh/bmabey/pyLDAvis@3.4.0/pyLDAvis/js/ldavis.v1.0.0.css\">\n",
       "\n",
       "\n",
       "<div id=\"ldavis_el151619211546912483238327648\" style=\"background-color:white;\"></div>\n",
       "<script type=\"text/javascript\">\n",
       "\n",
       "var ldavis_el151619211546912483238327648_data = {\"mdsDat\": {\"x\": [-0.13477005220846128, -0.04723253415722392, -0.13052859739740882, 0.2631567078521396, -0.03356780842505143, 0.2912851893482834, -0.2083429050122783], \"y\": [0.14203935723553773, -0.20105229682572284, -0.1896846462450744, -0.049828031037639116, 0.19330568555139607, 0.05286017053961739, 0.05235976078188519], \"topics\": [1, 2, 3, 4, 5, 6, 7], \"cluster\": [1, 1, 1, 1, 1, 1, 1], \"Freq\": [16.881989427384358, 16.09180997545311, 16.074299182333586, 16.055371826396588, 13.153883741298007, 10.898995765863736, 10.843650081270614]}, \"tinfo\": {\"Term\": [\"\\u4e2d\\u83ef\\u968a\", \"\\u7d93\\u5178\", \"\\u70cf\\u514b\\u862d\", \"\\u6bd4\\u8cfd\", \"\\u68d2\\u7403\", \"\\u7403\\u8ff7\", \"\\u4fc4\\u7f85\\u65af\", \"\\u7403\\u54e1\", \"\\u4e16\\u754c\\u76c3\", \"\\u7f8e\\u570b\", \"\\u767c\\u751f\", \"\\u4e00\\u540d\", \"\\u7db2\\u53cb\", \"\\u6295\\u624b\", \"\\u53f0\\u7063\", \"\\u7c89\\u7d72\", \"\\u4e2d\\u570b\", \"\\u806f\\u76df\", \"\\u9078\\u624b\", \"\\u5b69\\u5b50\", \"\\u5f71\\u7247\", \"\\u5831\\u5c0e\", \"\\u7e3d\\u7d71\", \"\\u8cfd\\u4e8b\", \"\\u9ad8\\u4e2d\", \"\\u80b2\\u6210\", \"\\u7403\\u968a\", \"\\u963f\\u6839\\u5ef7\", \"\\u76f4\\u64ad\", \"\\u767c\\u73fe\", \"\\u9019\\u8d77\", \"\\u7537\\u7ae5\", \"\\u9001\\u91ab\", \"\\u99d5\\u99db\", \"\\u4e8b\\u767c\", \"\\u98fe\\u6f14\", \"\\u5bb6\\u5c6c\", \"\\u907a\\u9ad4\", \"\\u4e8b\\u6545\", \"\\u8eab\\u4ea1\", \"\\u4e58\\u5ba2\", \"\\u8eca\\u798d\", \"\\u5973\\u7ae5\", \"\\u6b7b\\u8005\", \"\\u9001\\u5f80\", \"\\u98df\\u7269\", \"\\u8eca\\u8f1b\", \"\\u5c4d\\u9ad4\", \"\\u80ba\\u708e\", \"\\u6436\\u6551\", \"\\u96fb\\u8996\\u5287\", \"\\u6797\\u5fd7\\u7a4e\", \"\\u5287\\u7167\", \"\\u91d0\\u6e05\", \"\\u5ec1\\u6240\", \"\\u904a\\u5ba2\", \"\\u51fa\\u6f14\", \"\\u8eca\\u5b50\", \"\\u8eca\\u4e0a\", \"\\u4eba\\u985e\", \"\\u63a5\\u7a2e\", \"\\u8d95\\u7dca\", \"\\u958b\\u8eca\", \"\\u767c\\u751f\", \"\\u91ab\\u9662\", \"\\u6b7b\\u4ea1\", \"\\u8b66\\u65b9\", \"\\u4e00\\u540d\", \"\\u5b78\\u751f\", \"\\u5716\\u7247\", \"\\u5b78\\u6821\", \"\\u56b4\\u91cd\", \"\\u767c\\u73fe\", \"\\u9020\\u6210\", \"\\u5c0e\\u81f4\", \"\\u7dca\\u6025\", \"\\u4eba\\u54e1\", \"\\u7576\\u5730\", \"\\u7537\\u5b50\", \"\\u756b\\u9762\", \"\\u51fa\\u73fe\", \"\\u5831\\u5c0e\", \"\\u9644\\u8fd1\", \"\\u610f\\u5916\", \"\\u60c5\\u6cc1\", \"\\u8abf\\u67e5\", \"\\u65c5\\u904a\", \"\\u4e8b\\u4ef6\", \"\\u5f71\\u7247\", \"\\u6709\\u4eba\", \"\\u6c11\\u773e\", \"\\u706b\\u8eca\", \"\\u76ee\\u524d\", \"\\u61f6\\u4eba\", \"\\u90f5\\u8f2a\", \"\\u9032\\u884c\", \"\\u5927\\u9678\", \"\\u8868\\u793a\", \"\\u7576\\u6642\", \"\\u5df2\\u7d93\", \"\\u770b\\u5230\", \"\\u6307\\u51fa\", \"\\u7db2\\u53cb\", \"\\u970d\\u83ef\\u5fb7\", \"\\u5566\\u5566\\u968a\", \"\\u96f2\\u8c79\", \"\\u9b54\\u7378\", \"\\u97f3\\u6a02\", \"\\u5468\\u6770\\u502b\", \"\\u6f14\\u5531\\u6703\", \"\\u6797\\u8944\", \"\\u5973\\u795e\", \"\\u8868\\u6f14\", \"\\u6b4c\\u66f2\", \"\\u9cf3\\u68a8\", \"\\u5076\\u50cf\", \"\\u6b4c\\u8ff7\", \"\\u7b11\\u5bb9\", \"\\u9a5a\\u559c\", \"\\u5287\\u4e2d\", \"\\u9020\\u578b\", \"\\u5165\\u570d\", \"\\u5275\\u4f5c\", \"\\u751c\\u7f8e\", \"\\u5433\\u5b97\\u61b2\", \"\\u6027\\u611f\", \"\\u65b0\\u5a18\", \"\\u6c38\\u8c50\", \"\\u65b0\\u4eba\", \"\\u7d9c\\u85dd\\u7bc0\\u76ee\", \"\\u4f86\\u8cd3\", \"\\u706b\\u8fa3\", \"\\u674e\\u591a\\u6167\", \"\\u4eba\\u6c23\", \"\\u4f5c\\u54c1\", \"\\u4e3b\\u6301\\u4eba\", \"\\u5c0e\\u6f14\", \"\\u8eab\\u6750\", \"\\u6232\\u5287\", \"\\u5438\\u5f15\", \"\\u9ad8\\u96c4\", \"\\u7c89\\u7d72\", \"\\u5973\\u5b69\", \"\\u96fb\\u5f71\", \"\\u88fd\\u4f5c\", \"\\u52a0\\u76df\", \"\\u7a7f\\u8457\", \"\\u7bc0\\u76ee\", \"\\u89c0\\u773e\", \"\\u63a8\\u51fa\", \"\\u6f14\\u54e1\", \"\\u7db2\\u53cb\", \"\\u559c\\u6b61\", \"\\u7167\\u7247\", \"\\u62cd\\u651d\", \"\\u904b\\u52d5\", \"\\u771f\\u7684\", \"\\u6f14\\u51fa\", \"\\u8a31\\u591a\", \"\\u53f0\\u7063\", \"\\u5206\\u4eab\", \"\\u6d3b\\u52d5\", \"\\u61c9\\u63f4\", \"\\u5f71\\u7247\", \"\\u6210\\u70ba\", \"\\u770b\\u5230\", \"\\u76f8\\u7576\", \"\\u73fe\\u5834\", \"\\u8868\\u793a\", \"\\u4e00\\u8d77\", \"\\u7279\\u5225\", \"\\u64c1\\u6709\", \"\\u66dd\\u5149\", \"\\u904e\\u53bb\", \"\\u89ba\\u5f97\", \"\\u670b\\u53cb\", \"\\u5c0f\\u751c\\u751c\", \"\\u61f7\\u5b55\", \"\\u6559\\u6703\", \"\\u5bb6\\u66b4\", \"\\u7236\\u6bcd\", \"\\u592b\\u59bb\\u5006\", \"\\u59b9\\u59b9\", \"\\u827e\\u6210\", \"\\u5c08\\u7dda\", \"\\u5bf6\\u5bf6\", \"\\u9038\\u6c11\", \"\\u7d0d\\u8c46\", \"\\u751f\\u524d\", \"\\u5e73\\u5b89\", \"\\u4f59\\u5929\", \"\\u5b8b\\u5148\\u751f\", \"\\u798f\\u539f\", \"\\u85dd\\u8d77\", \"\\u5a46\\u5a46\", \"\\u674e\\u4e9e\\u840d\", \"\\u5316\\u7642\", \"\\u75c5\\u60c5\", \"\\u62cd\\u6232\", \"\\u751c\\u751c\", \"\\u4f9d\\u4f9d\", \"\\u592a\\u592a\", \"\\u7238\\u5abd\", \"\\u738b\\u77b3\", \"\\u8a79\\u96c5\\u96ef\", \"\\u514b\\u7acb\", \"\\u5973\\u5152\", \"\\u4f59\\u82d1\", \"\\u5abd\\u5abd\", \"\\u5c0f\\u5b69\", \"\\u7238\\u7238\", \"\\u5148\\u751f\", \"\\u751c\\u871c\", \"\\u5f1f\\u5f1f\", \"\\u611f\\u60c5\", \"\\u8001\\u5a46\", \"\\u7167\\u9867\", \"\\u7d93\\u7d00\\u4eba\", \"\\u7d50\\u5a5a\", \"\\u5b69\\u5b50\", \"\\u8eab\\u908a\", \"\\u5bb6\\u5ead\", \"\\u5152\\u5b50\", \"\\u81c9\\u66f8\", \"\\u5e78\\u798f\", \"\\u5bb6\\u4eba\", \"\\u8001\\u516c\", \"\\u767c\\u6587\", \"\\u900f\\u9732\", \"\\u5206\\u624b\", \"\\u7559\\u8a00\", \"\\u751f\\u6d3b\", \"\\u5e0c\\u671b\", \"\\u4e00\\u76f4\", \"\\u8868\\u793a\", \"\\u5de5\\u4f5c\", \"\\u77e5\\u9053\", \"\\u73fe\\u5728\", \"\\u89ba\\u5f97\", \"\\u5169\\u4eba\", \"\\u771f\\u7684\", \"\\u85dd\\u4eba\", \"\\u6d88\\u606f\", \"\\u5df2\\u7d93\", \"\\u4e00\\u8d77\", \"\\u5c0d\\u65b9\", \"\\u7576\\u6642\", \"\\u76f8\\u7576\", \"\\u6700\\u5f8c\", \"\\u7db2\\u53cb\", \"\\u4e2d\\u83ef\\u968a\", \"\\u6295\\u624b\", \"\\u80b2\\u6210\", \"\\u5927\\u8c37\", \"\\u5df4\\u62ff\\u99ac\", \"\\u6572\\u51fa\", \"\\u71b1\\u8eab\\u8cfd\", \"\\u7fd4\\u5e73\", \"\\u5168\\u58d8\\u6253\", \"\\u53e4\\u5df4\\u968a\", \"\\u68d2\\u7403\\u5834\", \"\\u5149\\u5fa9\", \"\\u7c43\\u677f\", \"\\u6797\\u5cb3\\u5e73\", \"\\u4e8c\\u58d8\", \"\\u4e09\\u632f\", \"\\u5b89\\u6253\", \"\\u6797\\u5b50\", \"\\u8377\\u862d\\u968a\", \"\\u4fdd\\u9001\", \"\\u608d\\u5c07\", \"\\u8cfd\\u5c07\", \"\\u96c6\\u8a13\", \"\\u5357\\u5c71\", \"\\u6253\\u8005\", \"\\u5473\\u5168\", \"\\u6253\\u9ede\", \"\\u65b0\\u805e\\u983b\\u9053\", \"\\u6797\\u66f8\\u8c6a\", \"\\u7403\\u5b63\", \"\\u68d2\\u7403\", \"\\u53e4\\u5df4\", \"\\u7d93\\u5178\", \"\\u9ad8\\u4e2d\", \"\\u806f\\u76df\", \"\\u5148\\u767c\", \"\\u958b\\u6253\", \"\\u4e2d\\u8077\", \"\\u7403\\u8a55\", \"\\u7fa9\\u5927\\u5229\", \"\\u5931\\u5206\", \"\\u8077\\u68d2\", \"\\u53f0\\u7063\\u968a\", \"\\u7e3d\\u6559\\u7df4\", \"\\u7403\\u8ff7\", \"\\u6771\\u68ee\", \"\\u7403\\u54e1\", \"\\u7403\\u968a\", \"\\u6559\\u7df4\", \"\\u6bd4\\u8cfd\", \"\\u65e5\\u672c\\u968a\", \"\\u4e16\\u754c\", \"\\u8cfd\\u4e8b\", \"\\u4eca\\u5929\", \"\\u65e5\\u672c\", \"\\u53f0\\u7063\", \"\\u9078\\u624b\", \"\\u7f8e\\u570b\", \"\\u8868\\u73fe\", \"\\u65b0\\u805e\", \"\\u8868\\u793a\", \"\\u5e0c\\u671b\", \"\\u70cf\\u514b\\u862d\", \"\\u4fc4\\u8ecd\", \"\\u6230\\u722d\", \"\\u4fc4\\u570b\", \"\\u62dc\\u767b\", \"\\u666e\\u4e01\", \"\\u57fa\\u8f14\", \"\\u5317\\u97d3\", \"\\u502b\\u65af\\u57fa\", \"\\u7fd2\\u8fd1\\u5e73\", \"\\u5236\\u88c1\", \"\\u6b50\\u76df\", \"\\u8ecd\\u4e8b\", \"\\u88f4\\u6d1b\\u897f\", \"\\u5317\\u7d04\", \"\\u8ac7\\u5224\", \"\\u4e2d\\u5171\", \"\\u6cd5\\u6848\", \"\\u58eb\\u5175\", \"\\u7acb\\u9676\\u5b9b\", \"\\u7f8e\\u65b9\", \"\\u822a\\u73ed\", \"\\u53f0\\u6d77\", \"\\u5916\\u4ea4\\u90e8\", \"\\u7121\\u4eba\\u6a5f\", \"\\u8ecd\\u65b9\", \"\\u963f\\u5357\\u5fb7\", \"\\u767d\\u5bae\", \"\\u5916\\u4ea4\", \"\\u7e3d\\u7406\", \"\\u4fc4\\u7f85\\u65af\", \"\\u7e3d\\u7d71\", \"\\u98db\\u5f48\", \"\\u653f\\u7b56\", \"\\u767c\\u5c04\", \"\\u8ecd\\u968a\", \"\\u5730\\u9707\", \"\\u5b98\\u54e1\", \"\\u5165\\u4fb5\", \"\\u653f\\u5e9c\", \"\\u7d93\\u6fdf\", \"\\u570b\\u5bb6\", \"\\u4e2d\\u570b\", \"\\u653f\\u6cbb\", \"\\u7f8e\\u570b\", \"\\u5730\\u5340\", \"\\u53f0\\u7063\", \"\\u5b89\\u5168\", \"\\u5168\\u7403\", \"\\u8868\\u793a\", \"\\u6307\\u51fa\", \"\\u75ab\\u60c5\", \"\\u4eca\\u5929\", \"\\u6301\\u7e8c\", \"\\u5831\\u5c0e\", \"\\u5ba3\\u5e03\", \"\\u9032\\u884c\", \"\\u5927\\u9678\", \"\\u5305\\u62ec\", \"\\u570b\\u969b\", \"\\u76ee\\u524d\", \"\\u65e5\\u672c\", \"\\u4e16\\u754c\\u76c3\", \"\\u5361\\u9054\", \"\\u9032\\u7403\", \"\\u6885\\u897f\", \"\\u6469\\u6d1b\\u54e5\", \"\\u897f\\u4e9e\", \"\\u514b\\u7f85\", \"\\u8461\\u8404\\u7259\", \"\\u5c0f\\u7d44\\u8cfd\", \"\\u4e16\\u8db3\", \"\\u59c6\\u5df4\", \"\\u4e0a\\u534a\\u5834\", \"\\u6234\\u8cc7\\u7a4e\", \"\\u4e0b\\u534a\\u5834\", \"\\u5c04\\u9580\", \"\\u6797\\u6600\", \"\\u8db3\\u7403\\u8cfd\", \"\\u8db3\\u8cfd\", \"\\u8ce0\\u7387\", \"\\u7a4d\\u5206\", \"\\u6bd4\\u6bd4\", \"\\u8cc7\\u7a4e\", \"\\u6cd5\\u570b\\u968a\", \"\\u7537\\u55ae\", \"\\u9580\\u5c07\", \"\\u8fe6\\u7d0d\", \"\\u8e22\\u9032\", \"\\u9326\\u6a19\\u8cfd\", \"\\u5468\\u5929\", \"\\u5167\\u99ac\\u723e\", \"\\u963f\\u6839\\u5ef7\", \"\\u7fbd\\u7403\", \"\\u5967\\u904b\", \"\\u516c\\u958b\\u8cfd\", \"\\u6392\\u540d\\u7b2c\", \"\\u524d\\u92d2\", \"\\u6c7a\\u8cfd\", \"\\u8db3\\u7403\", \"\\u897f\\u73ed\\u7259\", \"\\u5df4\\u897f\", \"\\u6cd5\\u570b\", \"\\u6649\\u7d1a\", \"\\u91d1\\u724c\", \"\\u5206\\u9418\", \"\\u51a0\\u8ecd\", \"\\u4ee5\\u6bd4\", \"\\u5c0d\\u624b\", \"\\u672c\\u5c46\", \"\\u5f37\\u8cfd\", \"\\u6bd4\\u8cfd\", \"\\u9078\\u624b\", \"\\u64ca\\u6557\", \"\\u62ff\\u4e0b\", \"\\u5feb\\u4f86\", \"\\u5357\\u97d3\", \"\\u7576\\u500b\", \"\\u8ffd\\u8e64\", \"\\u8cfd\\u4e8b\", \"\\u4eca\\u5929\", \"\\u7403\\u54e1\", \"\\u7403\\u8ff7\", \"\\u670b\\u53cb\", \"\\u6700\\u5f8c\", \"\\u53f0\\u7063\", \"\\u65e5\\u672c\", \"\\u4e16\\u754c\", \"\\u6700\\u7d42\", \"\\u6c6a\\u5c0f\\u83f2\", \"\\u4eba\\u6c11\\u5e63\", \"\\u9023\\u5343\\u6bc5\", \"\\u738b\\u529b\\u5b8f\", \"\\u5177\\u4fca\\u66c4\", \"\\u6cd5\\u9662\", \"\\u4e1f\\u59b9\", \"\\u8ce0\\u511f\", \"\\u548c\\u5f26\", \"\\u63d0\\u544a\", \"\\u7028\\u6606\\u59ae\", \"\\u9928\\u9577\", \"\\u51fa\\u8ecc\", \"\\u674e\\u975a\\u857e\", \"\\u8a50\\u9a19\", \"\\u91d1\\u984d\", \"\\u5f35\\u7a4e\\u7a4e\", \"\\u5f35\\u862d\", \"\\u52fe\\u60e1\", \"\\u8d77\\u8a34\", \"\\u8389\\u5a6d\", \"\\u623f\\u6771\", \"\\u8521\\u5929\\u9cf3\", \"\\u63a7\\u8a34\", \"\\u7dcb\\u805e\", \"\\u6d89\\u5acc\", \"\\u5916\\u6d41\", \"\\u6cd5\\u5b98\", \"\\u5b58\\u6b3e\", \"\\u5973\\u8001\\u5e2b\", \"\\u842c\\u5143\", \"\\u96e2\\u5a5a\", \"\\u5973\\u512a\", \"\\u54e1\\u5de5\", \"\\u53f0\\u5e63\", \"\\u524d\\u59bb\", \"\\u7206\\u6599\", \"\\u5f8b\\u5e2b\", \"\\u6307\\u63a7\", \"\\u7537\\u65b9\", \"\\u516c\\u53f8\", \"\\u76f4\\u64ad\", \"\\u902e\\u6355\", \"\\u524d\\u592b\", \"\\u5c0d\\u65b9\", \"\\u884c\\u70ba\", \"\\u9053\\u6b49\", \"\\u7206\\u51fa\", \"\\u7db2\\u53cb\", \"\\u8a8d\\u70ba\", \"\\u5c0d\\u6b64\", \"\\u5973\\u5b50\", \"\\u5973\\u65b9\", \"\\u8981\\u6c42\", \"\\u5927\\u9678\", \"\\u5f71\\u7247\", \"\\u5973\\u6027\", \"\\u8868\\u793a\", \"\\u4e00\\u540d\", \"\\u96d9\\u65b9\", \"\\u5169\\u4eba\", \"\\u4e8b\\u4ef6\", \"\\u56de\\u61c9\", \"\\u5831\\u5c0e\", \"\\u6307\\u51fa\", \"\\u767c\\u73fe\", \"\\u6c92\\u60f3\\u5230\", \"\\u6700\\u5f8c\"], \"Freq\": [1686.0, 1882.0, 1439.0, 1874.0, 1193.0, 1641.0, 1089.0, 1568.0, 876.0, 1817.0, 1215.0, 1264.0, 2233.0, 827.0, 2877.0, 1163.0, 1420.0, 908.0, 939.0, 1112.0, 1412.0, 1653.0, 595.0, 875.0, 738.0, 612.0, 829.0, 496.0, 693.0, 1170.0, 168.76393415280359, 163.7712137767074, 155.7828611749535, 137.80906782100718, 137.80906782100718, 136.81052374578792, 129.82071521925326, 124.82799484315709, 120.83381854228014, 120.83381854228014, 113.84401001574545, 104.8571133387723, 100.86293703789535, 98.86584888745686, 95.87021666179915, 94.87167258657992, 92.87458443614143, 88.88040813526449, 86.883319984826, 85.88477590960676, 83.88768775916827, 82.88914368394904, 81.8905996087298, 80.89205553351056, 77.89642330785284, 77.89642330785284, 75.89933515741437, 66.91243848044122, 65.91389440522198, 65.91389440522198, 101.86148111311458, 167.76539007758436, 123.82945076793786, 1078.4375866775304, 477.3140533955485, 348.5018676922666, 491.29367044861783, 911.6807261159175, 228.67657866595792, 150.7901407988573, 149.79159672363807, 328.53098618788187, 762.8976589082508, 399.4276155284478, 390.4407188514747, 201.71588863503848, 281.5994146525776, 391.4392629266939, 465.33152449291765, 375.4625577231861, 516.2572723290988, 841.7826408505707, 215.69550568810783, 296.5775757808662, 322.53972173656643, 254.63872462165818, 403.4217918293248, 338.51642694007427, 589.1509898201033, 333.52370656397807, 336.51933878963575, 351.49749991792436, 510.26600787778335, 330.5280743383203, 326.5338980374434, 401.42470367888626, 393.4363510771324, 693.9981177181234, 406.41742405498246, 481.3082296964254, 366.47566104621296, 361.48294067011676, 402.42324775410555, 358.4827064742208, 313.5487999219244, 284.5913934771111, 249.64279949199172, 213.69567425015458, 199.71623665610682, 188.73239283221213, 166.76470518442278, 158.77645513068117, 127.82198617243253, 126.82345491571486, 122.82932988884406, 97.8660484709016, 96.8675172141839, 92.87339218731312, 90.87632967387772, 86.88220464700693, 85.88367339028923, 84.88514213357153, 84.88514213357153, 80.89101710670074, 77.89542333654764, 77.89542333654764, 74.89982956639454, 74.89982956639454, 73.90129830967685, 71.90423579624145, 69.90717328280606, 68.90864202608836, 67.91011076937066, 191.72798660236523, 168.76176769785818, 204.7088929396953, 160.77351764411657, 182.74120529190594, 129.81904868586793, 230.67070561435543, 145.79554879335112, 862.7409911166584, 226.67658058748466, 281.595799706958, 187.73386157549442, 141.80142376648033, 179.74561152175283, 433.37255072804817, 228.67364310092003, 174.75295523816433, 184.7382678053413, 899.6866476152132, 254.6354557755802, 402.4180817697995, 242.65308069496783, 246.64720572183862, 513.2550512654641, 220.68539304717848, 412.40339433697653, 743.9157715672524, 308.55614363833587, 245.64867446512093, 263.6222370860395, 442.3593320385075, 298.5708310711589, 343.50473762345536, 361.4783002443739, 280.59726845024034, 401.41955051308184, 275.60461216665186, 231.66923687107314, 228.67364310092003, 237.66042441137932, 237.66042441137932, 236.66189315466164, 235.66336189794393, 193.72384063580301, 191.7267905802821, 173.7533400805942, 165.76513985851068, 161.77103974746893, 128.8197138313744, 128.8197138313744, 128.8197138313744, 126.82266377585353, 123.8270886925722, 118.83446355377, 118.83446355377, 110.84626333168647, 102.85806310960295, 95.86838791527988, 94.86986288751943, 89.87723774871723, 75.89788736007107, 74.89936233231063, 70.90526222126887, 67.90968713798755, 66.9111621102271, 62.917061999185336, 62.917061999185336, 61.91853697142489, 60.920011943664456, 59.92148691590402, 59.92148691590402, 58.922961888143575, 58.922961888143575, 567.1722010182076, 181.74154030267772, 549.1987505185197, 293.576343411847, 384.4421209380471, 151.7857894698645, 116.83741349824913, 111.84478835944692, 276.60141793991954, 302.563068661691, 221.68254141309532, 249.64124219038763, 440.35952249263175, 843.7636337078496, 154.78136455314583, 160.77251471970848, 382.4450708825262, 394.42737121565153, 193.72384063580301, 362.4745703273174, 389.43474607684925, 456.33592293679885, 683.9996292661791, 197.71794074684476, 398.4214713266933, 350.49226999419216, 613.1043522951879, 395.4258962434119, 1177.2709929798366, 387.4376960213284, 422.3860719929438, 472.3123233809658, 401.41704640997455, 468.3182232699241, 475.3078984642471, 303.56159368945146, 362.4745703273174, 476.3064234920076, 359.47899524403607, 329.52324441122283, 358.48047021627565, 366.46867043835914, 334.5158695500251, 305.5586437449723, 1686.5755508749235, 827.8151091058195, 612.1264400103237, 556.20715543001, 343.51416229417373, 309.56316808469757, 296.581905592839, 291.58911232673955, 287.59487771386, 231.67559313354627, 230.67703448032637, 206.71162680304906, 182.74621912577174, 177.7534258596723, 173.75919124679274, 171.76207394035296, 170.7635152871331, 166.76928067425354, 164.77216336781376, 146.79810760985575, 144.800990303416, 144.800990303416, 142.8038729969762, 138.80963838409664, 138.80963838409664, 137.81107973087677, 134.8154037712171, 133.81684511799722, 132.81828646477734, 121.83414127935858, 1187.2962242649794, 350.504072866713, 1736.503483535918, 700.9981601468937, 847.7862821702172, 308.56460943147766, 412.414709366346, 206.71162680304906, 199.72171623050986, 578.1754458008475, 193.7303643111905, 276.61073252844125, 269.620821955902, 391.4449776487284, 1258.1938886435914, 515.2662506479945, 1177.3106377327804, 628.1033784618419, 475.323904519199, 1064.4735099189331, 305.568933471818, 739.9419476224695, 528.247513139853, 676.0341938163965, 606.1350880910044, 748.9289755014483, 452.3570554951416, 478.31958047885865, 349.5055142134931, 343.51416229417373, 442.3714689629427, 347.5083969070533, 1439.5650994350233, 440.2622759216924, 295.5081206675136, 283.5284664395815, 262.56407154070047, 224.62849981891569, 210.65223655299494, 158.74040156528946, 147.75905185635176, 146.7607473373574, 141.76922474238572, 126.79465695747069, 124.79804791948203, 117.80991628652166, 108.82517561557263, 100.83873946361794, 100.83873946361794, 99.8404349446236, 98.84213042562928, 94.84891234965191, 91.85399879266892, 89.85738975468024, 85.8641716787029, 82.86925812171988, 82.86925812171988, 81.87095360272554, 80.87264908373122, 79.87434456473687, 79.87434456473687, 75.88112648875952, 1075.1839500020903, 590.0079537708428, 189.68784165411387, 137.7760066664084, 120.80482984350468, 105.83026205858962, 211.6505410719893, 212.64884559098363, 194.67936424908555, 233.6132404898647, 239.60306760383074, 544.0859458971034, 926.4365766719343, 149.75566089434042, 980.3450206976285, 170.7200557932215, 919.448445038974, 223.63019529992133, 252.58102635075707, 864.5416964942855, 423.29109909878866, 280.53355288259854, 479.1961521624715, 253.57933086975143, 410.3131403518623, 271.5488122116495, 306.48947037645127, 301.4979477814796, 244.59459019880242, 224.62849981891569, 253.57933086975143, 240.60137212282507, 876.296639435587, 437.1552613742229, 327.36991685888194, 254.51237004415557, 252.51627287114937, 244.5318841791246, 242.5357870061184, 215.58847517053468, 195.62750344047268, 171.67433736439824, 170.67628877789517, 155.70555998034865, 154.70751139384558, 152.71141422083937, 144.72702552881455, 137.74068542329286, 128.75824814476496, 125.76410238525567, 125.76410238525567, 124.76605379875257, 121.77190803924326, 117.77971369323087, 102.80898489568438, 97.81874196316886, 96.82069337666576, 95.82264479016266, 93.82654761715646, 91.83045044415026, 90.83240185764716, 84.84411033862857, 494.04403080489965, 239.5416412466091, 258.504564390168, 209.60018365151606, 143.72897694231145, 130.75434531777114, 245.52993276562768, 187.64311474844789, 229.5611553815781, 260.50066156317416, 376.2742975975338, 415.1981924711547, 136.74263683678976, 389.24892922207414, 400.22746367360827, 379.2684433570431, 349.32698576195014, 286.4499248122548, 213.59237799752847, 770.5034892662584, 484.0635449398686, 294.4343135042796, 395.2372207410927, 361.3035687999873, 317.3894309938509, 356.3133258674718, 366.29381173250283, 347.3308885889439, 436.15721278771986, 391.24502639508034, 373.2801518380245, 346.33284000244083, 362.3016173864904, 377.2723461840369, 329.3660140318881, 280.4616332932362, 262.49675873618037, 327.3658848157578, 273.4719249363306, 209.5976021162687, 174.66633182404735, 171.67222294185694, 141.73113411995294, 122.76844453274708, 108.79593641585853, 99.81360976928734, 98.81557347522386, 95.82146459303347, 95.82146459303347, 89.83324682865266, 89.83324682865266, 89.83324682865266, 86.83913794646227, 86.83913794646227, 85.84110165239879, 82.84699277020839, 73.86466612363719, 68.87448465331987, 68.87448465331987, 68.87448465331987, 66.87841206519292, 63.88430318300252, 61.88823059487558, 52.905903948304385, 50.90983136017745, 48.913758772050514, 48.913758772050514, 462.1007845143258, 397.2284254002005, 92.82735571084307, 212.5917109984591, 395.23235281207354, 99.81360976928734, 267.48370717194973, 130.7527348852548, 192.63098511718974, 132.74880747338173, 425.1734416339776, 465.0948933965162, 120.77237194462015, 112.7880815921124, 398.22646169426395, 228.56029170347455, 175.66436811811081, 133.7468437674452, 625.7787367407344, 360.3010825198522, 283.4522878769653, 305.4090863463615, 138.73702523776254, 222.57207393909377, 340.3403566385828, 381.259844695185, 183.64865847061856, 588.8513938603862, 336.348211462329, 247.52298129068043, 309.4012315226154, 227.56225540941108, 224.56814652722068, 321.377667051377, 235.54654576191885, 228.56029170347455, 200.61527546969748, 203.60938435188788], \"Total\": [1686.0, 1882.0, 1439.0, 1874.0, 1193.0, 1641.0, 1089.0, 1568.0, 876.0, 1817.0, 1215.0, 1264.0, 2233.0, 827.0, 2877.0, 1163.0, 1420.0, 908.0, 939.0, 1112.0, 1412.0, 1653.0, 595.0, 875.0, 738.0, 612.0, 829.0, 496.0, 693.0, 1170.0, 168.8238341961762, 163.83111382008002, 155.8427612183261, 137.86896786437978, 137.86896786437978, 136.87042378916053, 129.88061526262587, 124.88789488652968, 120.89371858565273, 120.89371858565273, 113.90391005911805, 104.91701338214489, 100.92283708126794, 98.92574893082946, 95.93011670517174, 94.93157262995251, 92.93448447951403, 88.94030817863708, 86.9432200281986, 85.94467595297935, 83.94758780254087, 82.94904372732164, 81.9504996521024, 80.95195557688315, 77.95632335122544, 77.95632335122544, 75.95923520078696, 66.97233852381382, 65.97379444859457, 65.97379444859457, 102.91942974299027, 173.81358163997555, 126.88426436829346, 1215.2551129137507, 548.2692304099124, 403.4616061030643, 593.1532724864641, 1264.047634642728, 263.6850726944499, 163.83086620311565, 162.82612839155095, 408.4612014874861, 1170.2440682747801, 538.2535992741581, 527.2873314898563, 237.71805510713938, 361.5267258262037, 548.2289514757819, 698.932704063278, 535.2835974796736, 815.8414169575498, 1653.3654328767689, 267.6710191071097, 436.42337890639226, 495.3089475630622, 357.4963629535679, 758.8316977216408, 581.1031698148323, 1412.8101009216605, 574.1760381839824, 612.1210961001749, 685.9486436349075, 1368.8934213491655, 653.9992094710201, 655.9959331838327, 1039.3882516725173, 1057.2716610355048, 4187.426124158081, 1145.275955852408, 1804.2728620462078, 1069.4857663653452, 1146.1627755186075, 2233.4772249726125, 358.54260664577833, 313.60870009348196, 284.6512936486687, 249.70269966354934, 213.7555744217122, 199.77613682766443, 188.79229300376974, 166.8246053559804, 158.8363553022388, 127.88188634399013, 126.88335508727246, 122.88923006040166, 97.9259486424592, 96.9274173857415, 92.93329235887072, 90.93622984543532, 86.94210481856453, 85.94357356184683, 84.94504230512914, 84.94504230512914, 80.95091727825834, 77.95532350810524, 77.95532350810524, 74.95972973795215, 74.95972973795215, 73.96119848123445, 71.96413596779905, 69.96707345436366, 68.96854219764596, 67.97001094092826, 196.77955903021035, 173.814388245512, 217.74986608910302, 170.8186680932786, 198.77560014260123, 136.86875738396023, 258.68539686987276, 156.83398341644283, 1163.3569246441086, 261.6855233917156, 348.5581529182046, 217.74998876633524, 158.83682104277605, 214.7545543259838, 689.0548580062786, 301.6283249575294, 213.75257673768877, 230.7311954369839, 2233.4772249726125, 373.5115257777816, 744.9745807277498, 353.5513732158609, 367.5085573811138, 1239.2150826636582, 317.59874563603455, 980.5574797379253, 2877.465691788601, 614.1619690228405, 393.473214602459, 458.3856977650076, 1412.8101009216605, 728.8746556167462, 1069.4857663653452, 1397.9008431608443, 663.1005844688127, 4187.426124158081, 1053.4721287284272, 474.34052815190336, 462.3260703085922, 757.9098142976264, 833.723112611234, 822.8423556836515, 1220.0884871144801, 193.78374086965022, 191.78669081412932, 173.8132403144414, 165.82504009235788, 161.83093998131613, 128.8796140652216, 128.8796140652216, 128.8796140652216, 126.8825640097007, 123.88698892641938, 118.89436378761717, 118.89436378761717, 110.90616356553365, 102.91796334345013, 95.92828814912706, 94.9297631213666, 89.93713798256441, 75.95778759391824, 74.9592625661578, 70.96516245511604, 67.96958737183472, 66.97106234407427, 62.97696223303251, 62.97696223303251, 61.978437205272066, 60.97991217751163, 59.98138714975119, 59.98138714975119, 58.98286212199075, 58.98286212199075, 571.2262775529318, 182.79998461174415, 560.2426355797786, 299.6275080970096, 401.4686381709731, 154.84133826686917, 119.89145949160562, 114.90036455295376, 303.62067217983605, 335.5581665996325, 240.71477907610807, 273.6658925854595, 515.2721447812389, 1112.4144025712544, 165.82521115890003, 174.80867821947638, 479.3632509239234, 534.2762056846158, 222.74114731446346, 499.3317186277364, 554.1706348311684, 694.043806510067, 1213.2019554839378, 234.71161837554524, 663.0926416937891, 589.1772306123638, 1395.9338239847311, 717.9571116068607, 4187.426124158081, 725.8986557916505, 856.7287306006325, 1071.4191253657311, 822.8423556836515, 1098.2461300238651, 1239.2150826636582, 530.2554216630368, 833.786986336897, 1804.2728620462078, 1053.4721287284272, 811.6663256603556, 1145.275955852408, 1397.9008431608443, 1499.592361860258, 2233.4772249726125, 1686.6354507725162, 827.8750090034122, 612.1863399079164, 556.2670553276026, 343.57406219176625, 309.6230679822901, 296.6418054904315, 291.64901222433207, 287.6547776114525, 231.73549303113887, 230.73693437791897, 206.77152670064166, 182.80611902336435, 177.8133257572649, 173.81909114438534, 171.82197383794556, 170.8234151847257, 166.82918057184614, 164.83206326540636, 146.85800750744835, 144.8608902010086, 144.8608902010086, 142.8637728945688, 138.86953828168924, 138.86953828168924, 137.87097962846937, 134.8753036688097, 133.87674501558982, 132.87818636236995, 121.89404117695116, 1193.3472743291347, 352.56058180229417, 1882.3489469142946, 738.9913586213659, 908.7518272353988, 318.6049951941012, 435.43382167336966, 210.7656454985552, 203.77381047411484, 634.150203753538, 197.78245855479548, 292.6471325335169, 284.65145065104105, 433.42291817945113, 1641.5092724605206, 602.1941391060321, 1568.6055835395885, 829.7690928330608, 605.1378433856281, 1874.9681688656271, 363.5156513865904, 1337.9574536703815, 875.6283211405245, 1925.9341705104448, 1711.3151276283868, 2877.465691788601, 939.4646287289281, 1817.1595771236712, 635.0631779302638, 633.0919110093455, 4187.426124158081, 1395.9338239847311, 1439.6250018739584, 440.32217836062716, 295.5680231064484, 283.5883688785163, 262.62397397963525, 224.68840225785053, 210.71213899192978, 158.8003040042243, 147.8189542952866, 146.82064977629224, 141.82912718132056, 126.85455939640553, 124.85795035841687, 117.8698187254565, 108.88507805450747, 100.89864190255278, 100.89864190255278, 99.90033738355844, 98.90203286456412, 94.90881478858675, 91.91390123160376, 89.91729219361508, 85.92407411763774, 82.92916056065472, 82.92916056065472, 81.93085604166038, 80.93255152266606, 79.93424700367171, 79.93424700367171, 75.94102892769436, 1089.217009093326, 595.0606494758771, 191.74486139948849, 138.8344531805625, 121.86278086894262, 106.88821308402757, 222.69428733481882, 224.69127693254936, 204.7247074402128, 262.63092111015743, 273.6059787148629, 734.8142320390333, 1420.7038032617452, 165.79206344075845, 1817.1595771236712, 196.74210418785657, 2877.465691788601, 343.51523438549447, 422.38361049789575, 4187.426124158081, 1146.1627755186075, 568.1618394853301, 1925.9341705104448, 519.2431522608204, 1653.3654328767689, 689.9834631184295, 1039.3882516725173, 1057.2716610355048, 599.0907899481234, 516.2068589230529, 1368.8934213491655, 1711.3151276283868, 876.3565444338468, 437.21516637248266, 327.4298218571417, 254.57227504241533, 252.57617786940912, 244.59178917738436, 242.59569200437815, 215.64838016879443, 195.68740843873243, 171.734242362658, 170.73619377615492, 155.7654649786084, 154.76741639210533, 152.77131921909913, 144.7869305270743, 137.8005904215526, 128.81815314302472, 125.82400738351542, 125.82400738351542, 124.82595879701232, 121.83181303750301, 117.83961869149063, 102.86888989394413, 97.87864696142861, 96.88059837492551, 95.88254978842241, 93.88645261541622, 91.89035544241001, 90.89230685590691, 84.90401533688832, 496.10102395359786, 240.6000712726293, 260.5615866948675, 211.6572059562156, 144.7874405937911, 131.8127815727486, 253.57830698964653, 193.69428419802307, 249.59194188422262, 294.511065118888, 465.1833047862895, 569.0361300652772, 139.7966507172399, 533.0985657638304, 577.0310174491897, 539.097732870485, 517.1447445011511, 395.35272301148234, 257.58886373746327, 1874.9681688656271, 939.4646287289281, 449.270809751622, 777.7400339818838, 681.9008014818311, 547.0642304775919, 684.8986990170484, 801.721577432853, 875.6283211405245, 1925.9341705104448, 1568.6055835395885, 1641.5092724605206, 1220.0884871144801, 1499.592361860258, 2877.465691788601, 1711.3151276283868, 1337.9574536703815, 606.0134616158152, 327.42578993694195, 273.53183005751475, 209.65750723745285, 174.7262369452315, 171.7321280630411, 141.7910392411371, 122.82834965393123, 108.85584153704268, 99.87351489047148, 98.875478596408, 95.88136971421761, 95.88136971421761, 89.8931519498368, 89.8931519498368, 89.8931519498368, 86.89904306764642, 86.89904306764642, 85.90100677358294, 82.90689789139253, 73.92457124482134, 68.93438977450401, 68.93438977450401, 68.93438977450401, 66.93831718637706, 63.94420830418667, 61.948135716059724, 52.96580906948853, 50.96973648136159, 48.97366389323466, 48.97366389323466, 488.12296805070736, 435.23228157628137, 95.88283591530853, 232.62249762402803, 470.1586831345134, 104.8661400292737, 323.46113842686367, 143.79346536732467, 224.6366056514248, 146.78806298321203, 601.9588293038827, 693.8184563060532, 134.808540331725, 126.82733710194272, 811.6663256603556, 379.39316549601676, 256.60480048789066, 171.74959739969555, 2233.4772249726125, 986.3668401436955, 647.9621946137336, 741.7708162488358, 185.72760666368737, 448.2737856100694, 1057.2716610355048, 1412.8101009216605, 329.49199682395226, 4187.426124158081, 1264.047634642728, 644.8644786487803, 1098.2461300238651, 581.1031698148323, 572.1037331534689, 1653.3654328767689, 1146.1627755186075, 1170.2440682747801, 779.8052077573467, 1499.592361860258], \"Category\": [\"Default\", \"Default\", \"Default\", \"Default\", \"Default\", \"Default\", \"Default\", \"Default\", \"Default\", \"Default\", \"Default\", \"Default\", \"Default\", \"Default\", \"Default\", \"Default\", \"Default\", \"Default\", \"Default\", \"Default\", \"Default\", \"Default\", \"Default\", \"Default\", \"Default\", \"Default\", \"Default\", \"Default\", \"Default\", \"Default\", \"Topic1\", \"Topic1\", \"Topic1\", \"Topic1\", \"Topic1\", \"Topic1\", \"Topic1\", \"Topic1\", \"Topic1\", \"Topic1\", \"Topic1\", \"Topic1\", \"Topic1\", \"Topic1\", \"Topic1\", \"Topic1\", \"Topic1\", \"Topic1\", \"Topic1\", \"Topic1\", \"Topic1\", \"Topic1\", \"Topic1\", \"Topic1\", \"Topic1\", \"Topic1\", \"Topic1\", \"Topic1\", \"Topic1\", \"Topic1\", \"Topic1\", \"Topic1\", \"Topic1\", \"Topic1\", \"Topic1\", \"Topic1\", \"Topic1\", \"Topic1\", \"Topic1\", \"Topic1\", \"Topic1\", \"Topic1\", \"Topic1\", \"Topic1\", \"Topic1\", \"Topic1\", \"Topic1\", \"Topic1\", \"Topic1\", \"Topic1\", \"Topic1\", \"Topic1\", \"Topic1\", \"Topic1\", \"Topic1\", \"Topic1\", \"Topic1\", \"Topic1\", \"Topic1\", \"Topic1\", \"Topic1\", \"Topic1\", \"Topic1\", \"Topic1\", \"Topic1\", \"Topic1\", \"Topic1\", \"Topic1\", \"Topic1\", \"Topic1\", \"Topic1\", \"Topic1\", \"Topic1\", \"Topic2\", \"Topic2\", \"Topic2\", \"Topic2\", \"Topic2\", \"Topic2\", \"Topic2\", \"Topic2\", \"Topic2\", \"Topic2\", \"Topic2\", \"Topic2\", \"Topic2\", \"Topic2\", \"Topic2\", \"Topic2\", \"Topic2\", \"Topic2\", \"Topic2\", \"Topic2\", \"Topic2\", \"Topic2\", \"Topic2\", \"Topic2\", \"Topic2\", \"Topic2\", \"Topic2\", \"Topic2\", \"Topic2\", \"Topic2\", \"Topic2\", \"Topic2\", \"Topic2\", \"Topic2\", \"Topic2\", \"Topic2\", \"Topic2\", \"Topic2\", \"Topic2\", \"Topic2\", \"Topic2\", \"Topic2\", \"Topic2\", \"Topic2\", \"Topic2\", \"Topic2\", \"Topic2\", \"Topic2\", \"Topic2\", \"Topic2\", \"Topic2\", \"Topic2\", \"Topic2\", \"Topic2\", \"Topic2\", \"Topic2\", \"Topic2\", \"Topic2\", \"Topic2\", \"Topic2\", \"Topic2\", \"Topic2\", \"Topic2\", \"Topic2\", \"Topic2\", \"Topic2\", \"Topic2\", \"Topic2\", \"Topic2\", \"Topic2\", \"Topic2\", \"Topic2\", \"Topic2\", \"Topic3\", \"Topic3\", \"Topic3\", \"Topic3\", \"Topic3\", \"Topic3\", \"Topic3\", \"Topic3\", \"Topic3\", \"Topic3\", \"Topic3\", \"Topic3\", \"Topic3\", \"Topic3\", \"Topic3\", \"Topic3\", \"Topic3\", \"Topic3\", \"Topic3\", \"Topic3\", \"Topic3\", \"Topic3\", \"Topic3\", \"Topic3\", \"Topic3\", \"Topic3\", \"Topic3\", \"Topic3\", \"Topic3\", \"Topic3\", \"Topic3\", \"Topic3\", \"Topic3\", \"Topic3\", \"Topic3\", \"Topic3\", \"Topic3\", \"Topic3\", \"Topic3\", \"Topic3\", \"Topic3\", \"Topic3\", \"Topic3\", \"Topic3\", \"Topic3\", \"Topic3\", \"Topic3\", \"Topic3\", \"Topic3\", \"Topic3\", \"Topic3\", \"Topic3\", \"Topic3\", \"Topic3\", \"Topic3\", \"Topic3\", \"Topic3\", \"Topic3\", \"Topic3\", \"Topic3\", \"Topic3\", \"Topic3\", \"Topic3\", \"Topic3\", \"Topic3\", \"Topic3\", \"Topic3\", \"Topic3\", \"Topic3\", \"Topic3\", \"Topic3\", \"Topic3\", \"Topic3\", \"Topic3\", \"Topic4\", \"Topic4\", \"Topic4\", \"Topic4\", \"Topic4\", \"Topic4\", \"Topic4\", \"Topic4\", \"Topic4\", \"Topic4\", \"Topic4\", \"Topic4\", \"Topic4\", \"Topic4\", \"Topic4\", \"Topic4\", \"Topic4\", \"Topic4\", \"Topic4\", \"Topic4\", \"Topic4\", \"Topic4\", \"Topic4\", \"Topic4\", \"Topic4\", \"Topic4\", \"Topic4\", \"Topic4\", \"Topic4\", \"Topic4\", \"Topic4\", \"Topic4\", \"Topic4\", \"Topic4\", \"Topic4\", \"Topic4\", \"Topic4\", \"Topic4\", \"Topic4\", \"Topic4\", \"Topic4\", \"Topic4\", \"Topic4\", \"Topic4\", \"Topic4\", \"Topic4\", \"Topic4\", \"Topic4\", \"Topic4\", \"Topic4\", \"Topic4\", \"Topic4\", \"Topic4\", \"Topic4\", \"Topic4\", \"Topic4\", \"Topic4\", \"Topic4\", \"Topic4\", \"Topic4\", \"Topic4\", \"Topic4\", \"Topic5\", \"Topic5\", \"Topic5\", \"Topic5\", \"Topic5\", \"Topic5\", \"Topic5\", \"Topic5\", \"Topic5\", \"Topic5\", \"Topic5\", \"Topic5\", \"Topic5\", \"Topic5\", \"Topic5\", \"Topic5\", \"Topic5\", \"Topic5\", \"Topic5\", \"Topic5\", \"Topic5\", \"Topic5\", \"Topic5\", \"Topic5\", \"Topic5\", \"Topic5\", \"Topic5\", \"Topic5\", \"Topic5\", \"Topic5\", \"Topic5\", \"Topic5\", \"Topic5\", \"Topic5\", \"Topic5\", \"Topic5\", \"Topic5\", \"Topic5\", \"Topic5\", \"Topic5\", \"Topic5\", \"Topic5\", \"Topic5\", \"Topic5\", \"Topic5\", \"Topic5\", \"Topic5\", \"Topic5\", \"Topic5\", \"Topic5\", \"Topic5\", \"Topic5\", \"Topic5\", \"Topic5\", \"Topic5\", \"Topic5\", \"Topic5\", \"Topic5\", \"Topic5\", \"Topic5\", \"Topic5\", \"Topic5\", \"Topic6\", \"Topic6\", \"Topic6\", \"Topic6\", \"Topic6\", \"Topic6\", \"Topic6\", \"Topic6\", \"Topic6\", \"Topic6\", \"Topic6\", \"Topic6\", \"Topic6\", \"Topic6\", \"Topic6\", \"Topic6\", \"Topic6\", \"Topic6\", \"Topic6\", \"Topic6\", \"Topic6\", \"Topic6\", \"Topic6\", \"Topic6\", \"Topic6\", \"Topic6\", \"Topic6\", \"Topic6\", \"Topic6\", \"Topic6\", \"Topic6\", \"Topic6\", \"Topic6\", \"Topic6\", \"Topic6\", \"Topic6\", \"Topic6\", \"Topic6\", \"Topic6\", \"Topic6\", \"Topic6\", \"Topic6\", \"Topic6\", \"Topic6\", \"Topic6\", \"Topic6\", \"Topic6\", \"Topic6\", \"Topic6\", \"Topic6\", \"Topic6\", \"Topic6\", \"Topic6\", \"Topic6\", \"Topic6\", \"Topic6\", \"Topic6\", \"Topic6\", \"Topic6\", \"Topic6\", \"Topic6\", \"Topic6\", \"Topic6\", \"Topic6\", \"Topic6\", \"Topic6\", \"Topic6\", \"Topic7\", \"Topic7\", \"Topic7\", \"Topic7\", \"Topic7\", \"Topic7\", \"Topic7\", \"Topic7\", \"Topic7\", \"Topic7\", \"Topic7\", \"Topic7\", \"Topic7\", \"Topic7\", \"Topic7\", \"Topic7\", \"Topic7\", \"Topic7\", \"Topic7\", \"Topic7\", \"Topic7\", \"Topic7\", \"Topic7\", \"Topic7\", \"Topic7\", \"Topic7\", \"Topic7\", \"Topic7\", \"Topic7\", \"Topic7\", \"Topic7\", \"Topic7\", \"Topic7\", \"Topic7\", \"Topic7\", \"Topic7\", \"Topic7\", \"Topic7\", \"Topic7\", \"Topic7\", \"Topic7\", \"Topic7\", \"Topic7\", \"Topic7\", \"Topic7\", \"Topic7\", \"Topic7\", \"Topic7\", \"Topic7\", \"Topic7\", \"Topic7\", \"Topic7\", \"Topic7\", \"Topic7\", \"Topic7\", \"Topic7\", \"Topic7\", \"Topic7\", \"Topic7\", \"Topic7\", \"Topic7\", \"Topic7\", \"Topic7\", \"Topic7\", \"Topic7\", \"Topic7\", \"Topic7\", \"Topic7\"], \"logprob\": [30.0, 29.0, 28.0, 27.0, 26.0, 25.0, 24.0, 23.0, 22.0, 21.0, 20.0, 19.0, 18.0, 17.0, 16.0, 15.0, 14.0, 13.0, 12.0, 11.0, 10.0, 9.0, 8.0, 7.0, 6.0, 5.0, 4.0, 3.0, 2.0, 1.0, -6.4474, -6.4775, -6.5275, -6.6501, -6.6501, -6.6573, -6.7098, -6.749, -6.7815, -6.7815, -6.8411, -6.9233, -6.9622, -6.9822, -7.0129, -7.0234, -7.0447, -7.0886, -7.1114, -7.1229, -7.1465, -7.1584, -7.1706, -7.1828, -7.2206, -7.2206, -7.2465, -7.3726, -7.3876, -7.3876, -6.9523, -6.4534, -6.757, -4.5927, -5.4078, -5.7223, -5.3789, -4.7606, -6.1436, -6.56, -6.5667, -5.7813, -4.9388, -5.5859, -5.6087, -6.2691, -5.9355, -5.6061, -5.4332, -5.6478, -5.3293, -4.8404, -6.2021, -5.8836, -5.7997, -6.0361, -5.576, -5.7514, -5.1973, -5.7662, -5.7573, -5.7137, -5.341, -5.7752, -5.7874, -5.5809, -5.601, -5.0335, -5.5686, -5.3994, -5.672, -5.6857, -5.5784, -5.6461, -5.78, -5.8769, -6.008, -6.1634, -6.2311, -6.2877, -6.4114, -6.4605, -6.6774, -6.6852, -6.7172, -6.9444, -6.9547, -6.9968, -7.0185, -7.0634, -7.075, -7.0867, -7.0867, -7.1349, -7.1726, -7.1726, -7.2119, -7.2119, -7.2253, -7.2527, -7.2808, -7.2952, -7.3098, -6.2719, -6.3995, -6.2064, -6.448, -6.3199, -6.6619, -6.087, -6.5458, -4.7679, -6.1045, -5.8875, -6.293, -6.5736, -6.3365, -5.4564, -6.0957, -6.3646, -6.3091, -4.726, -5.9882, -5.5305, -6.0364, -6.02, -5.2872, -6.1313, -5.506, -4.9161, -5.7961, -6.0241, -5.9535, -5.4359, -5.829, -5.6888, -5.6378, -5.8911, -5.533, -5.909, -6.0827, -6.0957, -6.0572, -6.0572, -6.0614, -6.0656, -6.2605, -6.2708, -6.3693, -6.4163, -6.4407, -6.6685, -6.6685, -6.6685, -6.6841, -6.708, -6.7492, -6.7492, -6.8188, -6.8936, -6.9639, -6.9744, -7.0285, -7.1975, -7.2108, -7.2656, -7.3087, -7.3235, -7.3851, -7.3851, -7.4011, -7.4174, -7.4339, -7.4339, -7.4507, -7.4507, -5.1862, -6.3243, -5.2185, -5.8448, -5.5751, -6.5044, -6.7661, -6.8098, -5.9043, -5.8146, -6.1257, -6.0069, -5.4393, -4.789, -6.4849, -6.4469, -5.5803, -5.5495, -6.2605, -5.634, -5.5622, -5.4037, -4.999, -6.2401, -5.5394, -5.6676, -5.1084, -5.5469, -4.456, -5.5674, -5.481, -5.3693, -5.5319, -5.3778, -5.363, -5.8113, -5.634, -5.3609, -5.6423, -5.7293, -5.645, -5.623, -5.7142, -5.8048, -4.0953, -4.8069, -5.1088, -5.2046, -5.6865, -5.7906, -5.8334, -5.8504, -5.8642, -6.0804, -6.0847, -6.1944, -6.3176, -6.3453, -6.3681, -6.3796, -6.3855, -6.4091, -6.4212, -6.5367, -6.5504, -6.5504, -6.5643, -6.5926, -6.5926, -6.5999, -6.6218, -6.6293, -6.6368, -6.7231, -4.4463, -5.6664, -4.0661, -4.9732, -4.7831, -5.7938, -5.5037, -6.1944, -6.2288, -5.1659, -6.2593, -5.9031, -5.9287, -5.5559, -4.3883, -5.2811, -4.4547, -5.083, -5.3617, -4.5555, -5.8036, -4.9192, -5.2562, -5.0095, -5.1186, -4.9071, -5.4113, -5.3555, -5.6692, -5.6865, -5.4336, -5.6749, -4.0543, -5.239, -5.6377, -5.6791, -5.7559, -5.912, -5.9762, -6.2591, -6.3308, -6.3376, -6.3722, -6.4838, -6.4997, -6.5573, -6.6367, -6.7129, -6.7129, -6.7228, -6.7329, -6.7741, -6.8062, -6.8282, -6.8736, -6.9091, -6.9091, -6.9213, -6.9335, -6.946, -6.946, -6.9972, -4.3462, -4.9463, -6.081, -6.4008, -6.5322, -6.6646, -5.9715, -5.9668, -6.0551, -5.8727, -5.8474, -5.0273, -4.4951, -6.3174, -4.4385, -6.1864, -4.5026, -5.9164, -5.7947, -4.5642, -5.2783, -5.6897, -5.1543, -5.7907, -5.3095, -5.7223, -5.6012, -5.6176, -5.8268, -5.912, -5.7907, -5.8433, -4.3627, -5.0581, -5.3473, -5.599, -5.6069, -5.639, -5.6472, -5.765, -5.8621, -5.9928, -5.9986, -6.0904, -6.0968, -6.1098, -6.1635, -6.213, -6.2804, -6.304, -6.304, -6.3119, -6.3362, -6.3695, -6.5055, -6.5552, -6.5655, -6.5759, -6.5969, -6.6184, -6.6293, -6.6975, -4.9357, -5.6596, -5.5834, -5.7932, -6.1704, -6.265, -5.6349, -5.9038, -5.7022, -5.5758, -5.208, -5.1096, -6.2203, -5.1741, -5.1463, -5.2001, -5.2824, -5.4808, -5.7743, -4.4913, -4.9561, -5.4533, -5.1589, -5.2486, -5.3782, -5.2626, -5.2349, -5.2881, -5.0604, -5.169, -5.216, -5.291, -5.2459, -5.2054, -5.3412, -5.5019, -5.5681, -5.3422, -5.5221, -5.7881, -5.9704, -5.9877, -6.1793, -6.323, -6.4438, -6.53, -6.54, -6.5708, -6.5708, -6.6353, -6.6353, -6.6353, -6.6692, -6.6692, -6.6808, -6.7163, -6.831, -6.901, -6.901, -6.901, -6.9304, -6.9762, -7.0079, -7.1648, -7.2032, -7.2432, -7.2432, -4.9975, -5.1488, -6.6025, -5.7739, -5.1538, -6.53, -5.5442, -6.26, -5.8725, -6.2448, -5.0808, -4.991, -6.3394, -6.4078, -5.1463, -5.7015, -5.9647, -6.2373, -4.6943, -5.2463, -5.4862, -5.4116, -6.2007, -5.728, -5.3033, -5.1898, -5.9202, -4.7551, -5.3151, -5.6218, -5.3986, -5.7058, -5.7191, -5.3607, -5.6714, -5.7015, -5.8319, -5.8171], \"loglift\": [30.0, 29.0, 28.0, 27.0, 26.0, 25.0, 24.0, 23.0, 22.0, 21.0, 20.0, 19.0, 18.0, 17.0, 16.0, 15.0, 14.0, 13.0, 12.0, 11.0, 10.0, 9.0, 8.0, 7.0, 6.0, 5.0, 4.0, 3.0, 2.0, 1.0, 1.7786, 1.7786, 1.7785, 1.7785, 1.7785, 1.7785, 1.7785, 1.7784, 1.7784, 1.7784, 1.7784, 1.7784, 1.7783, 1.7783, 1.7783, 1.7783, 1.7783, 1.7782, 1.7782, 1.7782, 1.7782, 1.7782, 1.7782, 1.7782, 1.7782, 1.7782, 1.7781, 1.778, 1.778, 1.778, 1.7686, 1.7435, 1.7546, 1.6595, 1.6403, 1.6325, 1.5905, 1.4521, 1.6365, 1.696, 1.6955, 1.5612, 1.3511, 1.4806, 1.4785, 1.6147, 1.5291, 1.4421, 1.3721, 1.4243, 1.3213, 1.1039, 1.563, 1.3926, 1.35, 1.4396, 1.1471, 1.2386, 0.9043, 1.2357, 1.1806, 1.1103, 0.7921, 1.0965, 1.0813, 0.8276, 0.7904, -0.0184, 0.7429, 0.4575, 0.7079, 0.625, 0.0651, 1.8267, 1.8267, 1.8266, 1.8266, 1.8266, 1.8266, 1.8265, 1.8265, 1.8265, 1.8264, 1.8264, 1.8264, 1.8262, 1.8262, 1.8262, 1.8262, 1.8262, 1.8262, 1.8262, 1.8262, 1.8261, 1.8261, 1.8261, 1.8261, 1.8261, 1.826, 1.826, 1.826, 1.826, 1.826, 1.8009, 1.7974, 1.7651, 1.7663, 1.7428, 1.774, 1.7122, 1.7539, 1.5279, 1.6832, 1.6135, 1.6785, 1.7134, 1.6489, 1.3631, 1.55, 1.6254, 1.6045, 0.9176, 1.4437, 1.211, 1.4505, 1.4281, 0.9454, 1.4628, 0.9607, 0.4741, 1.1385, 1.3557, 1.2737, 0.6656, 0.9344, 0.6911, 0.4743, 0.9669, -0.518, 0.486, 1.1102, 1.1229, 0.6671, 0.5718, 0.5807, 0.1826, 1.8276, 1.8276, 1.8276, 1.8276, 1.8276, 1.8275, 1.8275, 1.8275, 1.8275, 1.8275, 1.8274, 1.8274, 1.8274, 1.8274, 1.8273, 1.8273, 1.8273, 1.8272, 1.8271, 1.8271, 1.8271, 1.8271, 1.827, 1.827, 1.827, 1.827, 1.8269, 1.8269, 1.8269, 1.8269, 1.8208, 1.8221, 1.808, 1.8075, 1.7846, 1.808, 1.8021, 1.801, 1.7347, 1.7244, 1.7456, 1.7361, 1.6708, 1.5515, 1.759, 1.7442, 1.6021, 1.5245, 1.6884, 1.5076, 1.4752, 1.4086, 1.2549, 1.6564, 1.3185, 1.3086, 1.0052, 1.2315, 0.5591, 1.2001, 1.1207, 1.0088, 1.1102, 0.9756, 0.8697, 1.2702, 0.9949, 0.4961, 0.7528, 0.9265, 0.6664, 0.4891, 0.3277, -0.1612, 1.8291, 1.8291, 1.829, 1.829, 1.829, 1.8289, 1.8289, 1.8289, 1.8289, 1.8289, 1.8289, 1.8288, 1.8288, 1.8288, 1.8288, 1.8288, 1.8288, 1.8288, 1.8288, 1.8287, 1.8287, 1.8287, 1.8287, 1.8287, 1.8287, 1.8287, 1.8287, 1.8287, 1.8287, 1.8286, 1.824, 1.8233, 1.7485, 1.7763, 1.7597, 1.7971, 1.7748, 1.8097, 1.809, 1.7367, 1.8084, 1.7728, 1.7749, 1.7273, 1.5632, 1.6732, 1.5422, 1.5507, 1.5877, 1.263, 1.6555, 1.2368, 1.3237, 0.7822, 0.7912, 0.4831, 1.0983, 0.4944, 1.2319, 1.2177, -0.4186, 0.4386, 2.0284, 2.0283, 2.0283, 2.0282, 2.0282, 2.0282, 2.0282, 2.0281, 2.028, 2.028, 2.028, 2.028, 2.028, 2.0279, 2.0279, 2.0279, 2.0279, 2.0279, 2.0278, 2.0278, 2.0278, 2.0278, 2.0278, 2.0277, 2.0277, 2.0277, 2.0277, 2.0277, 2.0277, 2.0277, 2.0155, 2.0199, 2.0177, 2.0208, 2.0197, 2.0185, 1.9776, 1.9734, 1.9781, 1.9114, 1.8957, 1.7279, 1.6009, 1.9267, 1.4113, 1.8866, 0.8876, 1.5992, 1.5143, 0.4508, 1.0323, 1.3227, 0.6374, 1.3118, 0.6348, 1.0959, 0.8072, 0.7738, 1.1326, 1.1964, 0.3424, 0.0666, 2.2164, 2.2164, 2.2163, 2.2163, 2.2163, 2.2163, 2.2163, 2.2162, 2.2162, 2.2162, 2.2161, 2.2161, 2.2161, 2.2161, 2.2161, 2.2161, 2.216, 2.216, 2.216, 2.216, 2.216, 2.216, 2.2159, 2.2159, 2.2159, 2.2159, 2.2159, 2.2158, 2.2158, 2.2158, 2.2123, 2.2121, 2.2086, 2.2067, 2.2092, 2.2084, 2.1842, 2.1848, 2.1328, 2.0938, 2.0044, 1.9013, 2.1944, 1.902, 1.8506, 1.8648, 1.8242, 1.8943, 2.0292, 1.3272, 1.5534, 1.7939, 1.5396, 1.5813, 1.6721, 1.563, 1.4332, 1.2918, 0.7313, 0.8279, 0.7355, 0.9572, 0.796, 0.1848, 0.5687, 0.654, 1.3798, 2.2214, 2.2214, 2.2213, 2.2212, 2.2212, 2.2212, 2.2211, 2.221, 2.221, 2.221, 2.221, 2.221, 2.2209, 2.2209, 2.2209, 2.2209, 2.2209, 2.2209, 2.2209, 2.2208, 2.2207, 2.2207, 2.2207, 2.2207, 2.2207, 2.2206, 2.2205, 2.2204, 2.2204, 2.2204, 2.1668, 2.1302, 2.1892, 2.1315, 2.048, 2.1722, 2.0316, 2.1265, 2.0679, 2.1211, 1.8739, 1.8216, 2.1116, 2.1043, 1.5095, 1.7148, 1.8426, 1.9715, 0.9493, 1.2145, 1.3948, 1.3342, 1.9299, 1.5214, 1.0881, 0.9117, 1.6371, 0.2599, 0.8977, 1.2641, 0.9548, 1.2841, 1.2864, 0.5836, 0.6393, 0.5884, 0.8639, 0.2248]}, \"token.table\": {\"Topic\": [1, 6, 7, 1, 2, 3, 4, 5, 6, 7, 1, 2, 3, 4, 7, 4, 6, 6, 2, 3, 4, 5, 6, 6, 6, 7, 5, 1, 4, 5, 7, 2, 3, 4, 4, 1, 2, 1, 1, 5, 7, 1, 1, 4, 1, 4, 5, 7, 2, 3, 6, 1, 2, 3, 4, 5, 6, 4, 6, 3, 1, 3, 1, 2, 2, 3, 5, 3, 5, 6, 5, 4, 5, 2, 2, 3, 4, 4, 6, 4, 3, 6, 1, 3, 6, 1, 5, 2, 6, 4, 1, 2, 4, 5, 6, 2, 3, 5, 6, 7, 1, 3, 4, 5, 7, 4, 6, 7, 2, 4, 6, 1, 1, 2, 3, 4, 5, 6, 7, 1, 2, 3, 5, 2, 3, 7, 1, 2, 6, 5, 3, 7, 3, 7, 2, 6, 2, 2, 1, 2, 4, 7, 1, 2, 4, 5, 6, 3, 5, 5, 4, 2, 5, 6, 7, 6, 4, 5, 4, 3, 4, 5, 6, 7, 5, 2, 3, 4, 5, 6, 4, 6, 2, 1, 2, 5, 6, 6, 2, 4, 7, 1, 7, 2, 2, 3, 7, 1, 3, 5, 2, 3, 4, 5, 7, 2, 4, 5, 6, 7, 2, 3, 4, 5, 6, 1, 3, 1, 5, 2, 5, 5, 1, 4, 5, 6, 7, 5, 5, 5, 7, 4, 1, 5, 6, 7, 3, 3, 4, 6, 4, 6, 3, 7, 1, 3, 1, 6, 7, 1, 2, 1, 3, 6, 7, 3, 7, 2, 1, 7, 3, 6, 3, 1, 3, 7, 1, 3, 5, 1, 6, 1, 2, 1, 3, 5, 4, 3, 1, 5, 2, 3, 4, 5, 6, 1, 2, 3, 7, 1, 3, 5, 3, 3, 6, 3, 4, 6, 1, 3, 4, 6, 7, 1, 2, 3, 4, 5, 7, 2, 3, 1, 3, 4, 5, 1, 3, 3, 6, 1, 1, 2, 3, 5, 7, 1, 2, 3, 4, 5, 6, 7, 4, 1, 6, 2, 3, 4, 5, 6, 7, 3, 2, 3, 1, 3, 4, 7, 7, 4, 6, 1, 2, 7, 3, 7, 4, 6, 2, 4, 1, 3, 4, 5, 6, 1, 3, 4, 6, 2, 3, 7, 1, 2, 4, 5, 1, 5, 7, 3, 1, 2, 4, 5, 6, 7, 5, 1, 2, 6, 7, 4, 4, 4, 3, 1, 2, 5, 1, 2, 4, 5, 6, 1, 2, 3, 4, 5, 6, 1, 3, 4, 5, 6, 7, 2, 5, 6, 7, 4, 6, 1, 6, 7, 2, 4, 5, 7, 1, 6, 2, 3, 4, 5, 6, 7, 4, 6, 1, 5, 2, 5, 1, 5, 3, 2, 4, 6, 4, 2, 2, 3, 4, 5, 7, 4, 1, 5, 7, 1, 2, 4, 5, 6, 7, 4, 6, 4, 6, 5, 1, 2, 3, 6, 7, 1, 2, 3, 4, 5, 6, 7, 3, 4, 5, 6, 7, 1, 2, 4, 5, 7, 1, 2, 3, 4, 6, 7, 4, 6, 3, 2, 7, 2, 3, 4, 5, 4, 4, 1, 6, 4, 2, 6, 3, 4, 4, 2, 2, 5, 1, 5, 6, 1, 6, 2, 4, 6, 1, 2, 5, 6, 2, 7, 4, 6, 1, 2, 3, 4, 6, 7, 5, 6, 6, 7, 5, 7, 1, 2, 5, 1, 2, 3, 5, 7, 7, 2, 3, 4, 6, 1, 2, 2, 7, 1, 5, 7, 2, 5, 5, 1, 2, 3, 1, 3, 4, 3, 5, 7, 2, 3, 7, 3, 3, 3, 7, 1, 2, 4, 5, 7, 7, 3, 1, 2, 3, 4, 5, 7, 1, 2, 4, 4, 6, 4, 4, 6, 2, 4, 6, 4, 6, 3, 2, 3, 6, 3, 1, 2, 3, 7, 6, 1, 6, 7, 3, 7, 1, 1, 2, 3, 1, 2, 6, 2, 4, 6, 1, 2, 5, 6, 1, 2, 3, 4, 6, 7, 1, 3, 5, 6, 3, 5, 6, 1, 2, 3, 6, 1, 2, 3, 7, 1, 4, 5, 7, 5, 1, 3, 4, 5, 6, 7, 2, 7, 1, 2, 3, 4, 6, 7, 1, 2, 3, 4, 7, 1, 2, 3, 4, 7, 1, 2, 3, 4, 5, 6, 7, 3, 6, 1, 2, 5, 2, 2, 3, 4, 2, 3, 3, 3, 7, 2, 4, 3, 5, 7, 2, 3, 2, 1, 2, 3, 7, 1, 4, 5, 7, 4, 6, 5, 4, 5, 1, 3, 4, 5, 6, 5, 1, 2, 4, 5, 3, 6, 5, 4, 3, 7, 3, 7, 2, 4, 5, 2, 4, 4, 1, 2, 3, 5, 5, 3, 4, 7, 2, 4, 7, 6, 7, 2, 3, 7, 3, 1, 5, 7, 2, 1, 2, 3, 4, 5, 6, 1, 2, 3, 4, 5, 6, 7, 5, 1, 2, 3, 6, 1, 6, 1, 2, 4, 5, 7, 2, 3, 4, 7, 2, 4, 1, 2, 3, 5, 6, 7, 7, 3, 1, 2, 3, 4, 5, 6, 7, 1, 7, 5, 1, 7, 6, 7, 6, 4, 6, 4, 7, 1, 6, 1, 6, 6, 6, 6, 1, 2, 3, 6, 1, 2, 3, 1, 1, 1, 1, 5, 5, 5, 6, 6, 1, 2, 4, 6, 1, 1, 1, 2, 3, 4, 5, 7, 1, 2, 1, 4, 5, 6, 7, 5, 7, 6, 1, 4, 5, 6, 7, 3, 1, 1, 2, 4, 5, 6, 1, 2, 3, 4, 5, 6, 7, 3, 7, 4, 6, 7, 1, 1, 5, 7, 1, 3, 1, 6, 7, 7, 6, 6, 4, 5, 6, 1, 5, 5, 1, 6, 1, 3, 4, 5, 4, 1, 4, 5, 6, 7, 3, 7, 2, 1, 2, 1, 2, 2, 4, 5, 1, 1, 7, 1, 2, 2, 4, 7, 2, 6, 2, 2], \"Freq\": [0.7214917974651871, 0.01265775083272258, 0.2658127674871742, 0.08914181497103847, 0.05432079349797657, 0.5501721392743781, 0.11839147300841048, 0.04735658920336419, 0.030642498896294477, 0.11003442785487562, 0.13669084930971298, 0.26199079451028323, 0.34077788126518727, 0.1604218995370937, 0.10061965296409428, 1.0010361082350407, 1.00150569332826, 1.0014968829363378, 0.09342599023391288, 0.0500763307653773, 0.5530818621847642, 0.09417339815578418, 0.20927421812396485, 0.9995931513992662, 1.0015474935789497, 1.0013974814979798, 1.0010045536345782, 0.1421830500743611, 0.10346984337094596, 0.6517896255884079, 0.10276596688542933, 0.014233818765404844, 0.004744606255134948, 0.9821334948129343, 1.0002161399058207, 0.05970152925228626, 0.9414471920552834, 1.0008436052882828, 0.58337317297378, 0.02581297225547699, 0.39235717828325023, 1.0008791309886953, 1.000950410651867, 1.0010407881805363, 0.7800253199968555, 0.03319256680837683, 0.1880912119141354, 0.9980556922483101, 0.9757111000056842, 0.015245485937588815, 0.010163657291725877, 1.0003972115235216, 0.0659420254049183, 0.1079995376710473, 0.3509984974309037, 0.24871047377130603, 0.22638364627200297, 0.29679219600509626, 0.7030265142870717, 1.000747556870414, 0.0054704599791074275, 0.9956237161975519, 0.02876631819994973, 0.9723015551583009, 1.0004706005841135, 1.0003479080096278, 1.0014515091825225, 0.0009180906941881205, 0.9869474962522296, 0.011935179024445566, 0.9992683122121473, 1.000966869256649, 1.0012247800397216, 1.0007561974999208, 0.006458223696546068, 0.9816500018750024, 0.012916447393092136, 0.969852967345193, 0.03138682742217453, 1.0011049553243814, 1.0002905569074252, 1.001666591819011, 0.20026566453513045, 0.7968904567960399, 0.002086100672240942, 0.04884608274709769, 0.9524986135684049, 1.0006469794278687, 1.0011305079357062, 1.0012001274284892, 0.007102548312572241, 0.13258090183468182, 0.21307644937716722, 0.598981574360259, 0.04971783818800569, 0.1830190833412108, 0.4261339850929684, 0.021853024876562484, 0.08741209950624994, 0.28135769528574195, 0.08638464537538862, 0.07973967265420488, 0.016612431802959352, 0.11130329307982766, 0.7060283516257724, 0.009449241243474269, 0.9921703305647982, 1.0015598242447712, 0.07798540917076864, 0.2287572002342547, 0.6932036370734991, 1.000536666793778, 0.6324758577767188, 0.007354370439264173, 0.11644419862168273, 0.1152184702151387, 0.06496360554683352, 0.06373787714028949, 1.0011886116778153, 0.011397644844628392, 0.5031246081414533, 0.46567520365196, 0.021167054711452728, 0.055387117561430776, 0.843588405935638, 0.10225314011341066, 0.1800792689480415, 0.09003963447402075, 0.7296962043832098, 1.0012047794559222, 0.11038629620321462, 0.8909751050688037, 0.047679832580890605, 0.953596651617812, 0.007586517696298606, 0.9938338182151173, 1.0006469794278687, 1.0006659049899504, 1.000604027408103, 0.8939992570221375, 0.10702808006603054, 1.0011229718030148, 0.09681337281953933, 0.19696513780526967, 0.141881667063118, 0.4089530403583989, 0.15690443181097755, 1.000447444649015, 1.0010554425596774, 1.0012575290521508, 1.0009394552608515, 0.11698809104029236, 0.23763205992559386, 0.5794566384339481, 0.06580580121016445, 0.9995078707487028, 0.9955735783214436, 0.0056727839220595076, 1.0011414175938322, 0.014888590280480441, 0.02765023909232082, 0.023396356155040692, 0.09358542462016277, 0.8401418801128249, 1.000883639226165, 0.2585608586483399, 0.03058246715195418, 0.26029849882742817, 0.31937826491643057, 0.13101806950325826, 0.9485284525424656, 0.0526960251412481, 1.0005731037969474, 0.06958259035029561, 0.8929765761621271, 0.007731398927810624, 0.030925595711242496, 1.0011848433362334, 1.0011205701336026, 1.0009358051409971, 1.001266452969711, 0.08597620696311431, 0.9156466041571674, 1.0012477329436378, 0.6827098560586606, 0.27308394242346423, 0.04551399040391071, 0.8054620580899394, 0.06610174944811054, 0.12975528595369845, 0.1293471720453697, 0.3495869514739721, 0.03321076039002735, 0.09613641165534233, 0.3932853204082186, 0.03402220440209438, 0.07757062603677518, 0.7403231677895737, 0.14425414666488018, 0.004082664528251325, 0.13754176019304587, 0.003874415780085799, 0.20146962056446155, 0.43587177525965237, 0.22277890735493344, 0.9216822415672997, 0.07935012675744965, 0.13215269861693787, 0.8691581332113991, 0.04939507039739013, 0.9519777203860642, 1.0013661339562465, 0.5092643061582365, 0.009677231470940361, 0.24797905644284673, 0.038708925883761444, 0.194149456385741, 1.0009905472374874, 1.0008225885498774, 1.0008542162837095, 1.0006455283344509, 0.9995199152546517, 0.3717114668666055, 0.28469504205304896, 0.020808275498893945, 0.32158243952836096, 1.0003294170452377, 1.0009340960217143, 0.9808756621672414, 0.020224240457056526, 0.007675728511517372, 0.9940068422414996, 0.03128818595488605, 0.9699337646014675, 0.00700247897757005, 0.9926013950705547, 0.420615091839008, 0.16851566179447436, 0.41117821477851746, 0.1337483233553149, 0.8674534114758995, 0.33688223407534645, 0.08497930228927658, 0.021244825572319145, 0.5584354150438176, 0.2530587716295018, 0.7484078565212926, 1.0010302723041575, 1.0007645734202846, 1.0005377605976706, 1.0009340960217143, 1.0015451101375197, 1.000543460973969, 0.019634350014465472, 0.9799325598128676, 1.0005377605976706, 0.17619333186172537, 0.7587100616902869, 0.06562302666278547, 0.9212280699771493, 0.07983976606468628, 0.8684602342482926, 0.13273409693751195, 0.3260408528907136, 0.023288632349336685, 0.6520817057814272, 1.001033727226934, 1.0007398825860716, 0.05340661268128495, 0.9479673750928079, 0.2826154689544059, 0.24928133671875805, 0.04637792311046661, 0.3942123464389662, 0.028986201944041633, 0.22429979074391357, 0.03805085735834248, 0.7249689665115777, 0.01201606021842394, 1.0009191882647979, 0.9210069067501371, 0.08008755710870757, 1.0010550873833328, 1.0009122109961663, 1.0014716070860128, 1.000925548685242, 0.3248606928453975, 0.6748594154943078, 0.04188913464204429, 0.40657101270219453, 0.03326490103927046, 0.028336767551971134, 0.4903492819862831, 0.054015497031990226, 0.1481567918591732, 0.2299516873647584, 0.03549589804959358, 0.0956845947423827, 0.436753876001521, 0.9425199353040445, 0.05854161088844997, 0.739634686268776, 0.1327549436892675, 0.026550988737853498, 0.1005144573647311, 0.02002486366524597, 0.9812183195970525, 1.0011159818124022, 1.0015974025296852, 1.0006711447552332, 0.09918739954336772, 0.06612493302891181, 0.5331322725456015, 0.03306246651445591, 0.26863254042995427, 0.26658938906530066, 0.11805309744471733, 0.2638181895947674, 0.13135485490327703, 0.08923262295117132, 0.04988159046959887, 0.08147326443367815, 1.0012397263213544, 0.11544557752448081, 0.8862145804085145, 0.14972056440569925, 0.4391325645009266, 0.24929548523054232, 0.06232387130763558, 0.03223648515912185, 0.06805480200259058, 1.0007971072676216, 0.1301959711963687, 0.8709661521412251, 1.000560270763127, 0.9747575687489044, 0.026109577734345652, 1.0011617726592799, 1.0011524105494827, 0.17081483788385032, 0.8307812569805447, 0.4168996241007621, 0.31285167037782147, 0.2696753086288461, 0.09040744631051985, 0.9110288820521615, 0.4707429574836082, 0.5294025160485438, 1.0005731037969474, 1.000960299213945, 0.6521182417341168, 0.03432201272284825, 0.09085238661930421, 0.12517439934215246, 0.09892815431879791, 0.6805318283915835, 0.21309582505191002, 0.06644923576887517, 0.04124435323585355, 0.08233958452338969, 0.9123225965191577, 0.006587166761871174, 0.20943061807572932, 0.5759341997082557, 0.09598903328470927, 0.1199862916058866, 0.5061168197247908, 0.2706425289767008, 0.2247709138959041, 1.0011122210043106, 0.08506263665806564, 0.4102214251735746, 0.10152637278543318, 0.09329450472174941, 0.2126565916451641, 0.09878241676420525, 1.0014615143039207, 0.05114388508958828, 0.9498150088066396, 1.001502794408, 1.0009517778529788, 1.0009394552608515, 1.000924530494452, 1.0001509781008346, 1.0003658126106851, 0.3139572022881917, 0.6873117131173926, 1.0014318038626355, 0.005143106726190687, 0.04371640717262084, 0.423020528229184, 0.02057242690476275, 0.5078817892113303, 0.12518219974011316, 0.09051635981208182, 0.13095983972811837, 0.13481159972012186, 0.48917351898444217, 0.030814079936027854, 0.3149639891564768, 0.034899056970246735, 0.04973115618260159, 0.3690575274603592, 0.02530181630342888, 0.20590443612445572, 0.004451634216516472, 0.13354902649549416, 0.004451634216516472, 0.859165403787679, 0.006906676407144687, 0.994561402628835, 0.991066509547456, 0.009716338328896628, 1.0009214873665138, 0.818703580891823, 0.10760104206006818, 0.07485289882439525, 1.001259375988462, 1.0006437169773137, 1.0016779972448946, 0.4953214077829262, 0.08868199877336233, 0.08435604761368612, 0.08868199877336233, 0.11031175457174339, 0.13410448594996255, 0.34500349596647795, 0.6543937278331905, 0.11042111826518818, 0.8909841956570357, 0.09650642900477073, 0.9047477719197256, 0.007202823053579073, 0.9939895813939121, 1.001074484804614, 0.02644025683550565, 0.784945124804074, 0.18838682995297773, 1.0012173899708645, 1.0005246199299407, 1.000537225283344, 0.225875575904948, 0.5433650217573575, 0.10267071632043091, 0.12952305751192822, 1.0009206601519616, 0.5310795545441631, 0.24116019474337927, 0.2279820420251618, 0.1379056353735731, 0.12446567938377572, 0.3541136230355309, 0.14082736493657252, 0.19224980524536248, 0.05083809439619008, 0.841779435996213, 0.15955296499274624, 0.27063307910225987, 0.729303427450895, 1.0013867994031658, 0.2678418938117658, 0.31402153067586336, 0.29554967593022435, 0.0026388363922341456, 0.12138647404277071, 0.1807157777623127, 0.0333423944210909, 0.22339404262130905, 0.17471414676651634, 0.011336414103170907, 0.24139893560869816, 0.1360369692380509, 0.1336603972196088, 0.2607202809962739, 0.06270487770796461, 0.43233363051280865, 0.11055860016930602, 0.5817031324685424, 0.07663155038507745, 0.1428133438994625, 0.006966504580461586, 0.19332050210780902, 0.02950605663458092, 0.19342859349336378, 0.23031116428658993, 0.2221150374436508, 0.28358598876569435, 0.04180024689898963, 0.2757031725233224, 0.7234046545107358, 1.0004909105211446, 1.0004412101551345, 1.0011886116778153, 0.07472673192536097, 0.039854257026859186, 0.8552059320346868, 0.02989069277014439, 1.0010239181632874, 1.0010498326935853, 1.0006143081389325, 1.001447087982986, 1.000916731639442, 1.0010513715506495, 1.001680171014355, 0.005027874223262483, 0.9946811171687613, 1.001140110588668, 1.000919308231149, 1.0007488347076208, 1.0011465145934564, 0.8650141543105044, 0.0693994163916737, 0.06692086580625678, 1.000750573738112, 1.001380484770798, 0.021333695507055123, 0.5674763004876663, 0.4112069808984875, 0.5505446588053048, 0.12415843937449011, 0.27935648859260276, 0.047376246603423856, 1.000537225283344, 0.9986995833864402, 0.03154843998673213, 0.9701145295920129, 0.3359813417423688, 0.055141975934816255, 0.2692980220072422, 0.028212173734092037, 0.055141975934816255, 0.25775667820693177, 0.19132242942572414, 0.8082835220682278, 1.0012745360253332, 1.0005937546616408, 1.0009976204190274, 1.0014737233042459, 0.16519548875943685, 0.6252013882280225, 0.21094193180051168, 0.2986374266812914, 0.08995103213291909, 0.43416364842822286, 0.0707614786112297, 0.10674189146439733, 1.0008372210614698, 0.69584657696748, 0.24874153656303583, 0.03148627045101719, 0.025189016360813752, 0.19936619282399237, 0.8017988189660562, 1.001100187899228, 1.0012372610668367, 0.5117001152448052, 0.26678382076865914, 0.2215909330974655, 1.0004561181279414, 1.0002604831991342, 1.0008542162837095, 0.1771872536524025, 0.5396157270323167, 0.28323114030800706, 0.0789315889656807, 0.9222533026516376, 1.0012074984137056, 0.1921401883883455, 0.02911214975580993, 0.780205613455706, 0.061831229857376234, 0.11129621374327722, 0.8254469185959727, 1.0010446705599274, 1.0003103104335074, 0.9564881624364049, 0.042344528024528344, 0.07589484318420145, 0.48910010052040936, 0.1981698683143038, 0.1665470169875532, 0.07167846300730137, 1.0015668113704888, 1.0003103104335074, 0.042000370288927925, 0.18480162927128288, 0.44053721725275513, 0.1288011355527123, 0.11200098743714114, 0.09240081463564144, 0.4705168526580814, 0.42376678075936175, 0.10707274531642237, 0.7503479602208715, 0.24926597489070582, 1.0008692699169357, 0.9814803950255706, 0.019629607900511412, 0.006091954622352282, 0.7663678914919171, 0.2272299074137401, 0.7568370591580299, 0.24344121966548096, 1.0003658126106851, 1.0006063269372594, 0.9758826900275739, 0.0250226330776301, 1.0008460885441313, 0.17651734418166018, 0.14257170106980246, 0.5940487544575103, 0.08656138993523721, 1.0012398315908393, 0.665300102995182, 0.09156818621869173, 0.2432279946433999, 0.09537560286221068, 0.9060682271910016, 1.0010308553484257, 0.05730722618627413, 0.34233527221800597, 0.6002177900562395, 0.7005632187603879, 0.2839616246708772, 0.014945348666888274, 0.017520839238302156, 0.4628421698784819, 0.519784897402964, 0.7132056761093408, 0.027360831564296962, 0.20611826445103712, 0.052897607690974124, 0.3544997150471229, 0.08993465677303858, 0.3125884186868719, 0.041038144352745755, 0.05588172848033465, 0.14581638525337323, 0.20592724091780706, 0.26752940700433053, 0.4945773905803742, 0.03344117587554132, 1.0004320919351266, 0.9929200625261416, 0.008205950929968113, 0.1037398494513554, 0.22909216753840986, 0.6570190465252509, 0.010085818696659555, 0.652000741285401, 0.02990829088465142, 0.12305125392542299, 0.1956856746452907, 0.8870565435559767, 0.025509047170904714, 0.032092027085976894, 0.055132456788729536, 1.0008225885498774, 0.372563701487695, 0.15048651471855917, 0.12053531518719544, 0.18555133368210694, 0.07743480854450131, 0.09423670096453463, 0.33005752141448486, 0.6702041373700238, 0.1938621049739351, 0.2582443538582678, 0.261821145462953, 0.11302661470805073, 0.08512764019150657, 0.08798907347525468, 0.34222054328394996, 0.3216499095346415, 0.2197317695948859, 0.08508762141759411, 0.03179097943074945, 0.05568040686826247, 0.41397172062925575, 0.38330714873079236, 0.09280067811377078, 0.05406648203150124, 0.07003383668239467, 0.14006767336478934, 0.4925713179995092, 0.09221121829848632, 0.024511842838838137, 0.01984292039334516, 0.16107782436950774, 1.00069895505734, 1.0013942709085912, 0.1629767532048341, 0.8381661593391468, 1.0009607665169602, 1.0007178013329354, 0.6283969918633889, 0.3715233947275463, 1.0010605825323105, 0.7418187674982094, 0.2587340081308934, 1.0008884879738416, 0.8539176907899881, 0.14555415183920253, 0.07756266458423425, 0.9227832081014719, 0.07309781786911498, 0.8771738144293799, 0.05116847250838049, 0.08769817741356042, 0.9135226813912545, 1.0004983597971218, 0.17998840351055267, 0.4029591123370582, 0.1370060981945998, 0.28028044924777606, 0.8497461411122463, 0.054686632843857434, 0.09675327349297853, 1.000872505849911, 0.9021211929501922, 0.09690304374401042, 1.000776537704826, 0.008402504861317826, 0.9914955736355034, 0.16014003594588835, 0.001650928205627715, 0.2630478940966826, 0.539303213838387, 0.035770111121933824, 1.000936732825422, 0.034692096398900286, 0.031538269453545716, 0.9114559872074712, 0.022076788617482003, 0.00415627474551692, 0.9975059389240607, 1.001221559937114, 1.001203459504255, 0.7019498608375583, 0.2977422288899669, 0.9029731061843627, 0.09834360562403949, 0.04401641768543987, 0.9331480549313251, 0.02310861928485593, 0.05467335306341167, 0.9465324249103146, 0.9996956157042897, 1.0006530695755573, 0.2171161634483775, 0.7374462792987995, 0.044920585541043626, 1.000919820919505, 1.0009340960217143, 1.0010188353604677, 1.0009517778529788, 0.018437976880991715, 0.034827289664095464, 0.9464828132242414, 1.0016305238691352, 1.0009517778529788, 0.30362725852959066, 0.5733086123788544, 0.12446831716119866, 1.0005557350657373, 0.31893036302276345, 0.0790736437246521, 0.603595480431511, 1.0009236152154666, 0.02361969725419531, 0.13541959759071978, 0.02204505077058229, 0.5511262692645572, 0.0015746464836130208, 0.2676899022142135, 0.16573426716621414, 0.09576288347788454, 0.28107958566950153, 0.10555410099058596, 0.20657080849967616, 0.004537393481495776, 0.14065919792636908, 1.0011044496033945, 0.1148105684948034, 0.8633754750809215, 0.022962113698960677, 1.00166894736732, 0.08013079208012787, 0.9215041089214704, 0.10484663950633712, 0.08253884386669093, 0.04684637084325701, 0.269924327239719, 0.49746384276411015, 0.2880260093114563, 0.4873351465565146, 0.17864904375014376, 0.04618138545922083, 0.7592125176978793, 0.24201971088185675, 0.26107597493256735, 0.4201691471571006, 0.128498331412123, 0.07444744597686491, 0.03161466883949058, 0.08464572624766832, 1.0011886116778153, 1.0002905569074252, 0.05373254436683909, 0.11253419669281395, 0.17032202742696165, 0.058801652325974854, 0.15815616832503582, 0.08211954893799936, 0.36497577305777495, 0.7132939700231853, 0.28811481926426696, 1.0010045536345782, 0.827779298834105, 0.17196229833213586, 1.0013610134714477, 1.0013243061733923, 1.0013987204838275, 0.6029955715825509, 0.39628686238474464, 1.000960299213945, 1.0010203475503274, 0.9665527769169536, 0.034519742032748345, 0.03097664974907524, 0.9706016921376909, 1.0014116555201142, 1.0013987204838275, 1.0012094118099115, 1.0008791309886953, 0.9206361337544253, 0.060369582541273795, 0.0201231941804246, 0.04824356890059434, 0.01809133833772288, 0.9347191474490154, 1.0003972115235216, 1.0004130283755337, 1.0007909738866931, 1.0007049645871808, 1.0011376900003193, 1.0008439306224808, 0.9916902616443843, 0.009355568506079097, 1.0012249383421359, 0.0386667901583282, 0.14843058157551792, 0.35673232210586664, 0.45651758703058454, 1.0007284812864665, 1.0010089578780859, 0.1203427008504628, 0.1467191832286464, 0.563797310833675, 0.029673542675456577, 0.006594120594545907, 0.1335309420395546, 1.0010434889401878, 1.0006565521517738, 0.7412862645750193, 0.03715720624436187, 0.19693319309511792, 0.024152184058835218, 1.001633582155297, 0.10385098722640296, 0.8975692467424826, 0.9986872855541875, 0.38580386044842857, 0.1375809277908361, 0.29440394338458636, 0.11064200486675632, 0.07119572487078232, 1.0008884879738416, 1.000560270763127, 0.08163075225725804, 0.6720931935847578, 0.10611997793443545, 0.02993127582766128, 0.11156202808491932, 0.09595511841987771, 0.2854664772991362, 0.2302922842077065, 0.044379242269193445, 0.08995792351863535, 0.11874445904459867, 0.13673604374832574, 0.315660501463699, 0.6858796081186547, 0.48112508569007495, 0.5151870386592838, 0.003193308090863329, 1.0008976459533743, 0.4984787000323725, 0.28506274283196836, 0.21798915628326992, 0.8700105231938182, 0.12949842169132306, 1.0005934930512113, 0.9799948660937767, 0.02145974159329438, 1.0011617726592799, 1.001193210724478, 1.0012324616804327, 0.946182816981663, 0.03674496376627817, 0.0160759216477467, 0.9772685416694256, 0.023643593750066746, 1.000833391213609, 0.004031436952218561, 0.9957649271979846, 0.8069607263443289, 0.003735929288631152, 0.05230301004083614, 0.13822938367935264, 1.0009535454837226, 0.02481141469216241, 0.07908638433126769, 0.1473177747347143, 0.36596836670939553, 0.38457692772851737, 0.08730970014994142, 0.9121566041980722, 1.0012250299194554, 0.19222043564054217, 0.809047206725864, 1.0006243442942329, 0.9984866327300554, 1.001143481656322, 0.010430527240222226, 0.9909000878211115, 1.000720807294684, 1.00094670716472, 1.0012372610668367, 1.000950410651867, 1.0007012623535534, 0.021651132741049895, 0.9485902532172485, 0.029770307518943606, 0.9309206896334754, 0.07013786017786458, 1.0011906172294143, 1.0009013803694913], \"Term\": [\"\\u4e00\\u540d\", \"\\u4e00\\u540d\", \"\\u4e00\\u540d\", \"\\u4e00\\u76f4\", \"\\u4e00\\u76f4\", \"\\u4e00\\u76f4\", \"\\u4e00\\u76f4\", \"\\u4e00\\u76f4\", \"\\u4e00\\u76f4\", \"\\u4e00\\u76f4\", \"\\u4e00\\u8d77\", \"\\u4e00\\u8d77\", \"\\u4e00\\u8d77\", \"\\u4e00\\u8d77\", \"\\u4e00\\u8d77\", \"\\u4e09\\u632f\", \"\\u4e0a\\u534a\\u5834\", \"\\u4e0b\\u534a\\u5834\", \"\\u4e16\\u754c\", \"\\u4e16\\u754c\", \"\\u4e16\\u754c\", \"\\u4e16\\u754c\", \"\\u4e16\\u754c\", \"\\u4e16\\u754c\\u76c3\", \"\\u4e16\\u8db3\", \"\\u4e1f\\u59b9\", \"\\u4e2d\\u5171\", \"\\u4e2d\\u570b\", \"\\u4e2d\\u570b\", \"\\u4e2d\\u570b\", \"\\u4e2d\\u570b\", \"\\u4e2d\\u8077\", \"\\u4e2d\\u8077\", \"\\u4e2d\\u8077\", \"\\u4e2d\\u83ef\\u968a\", \"\\u4e3b\\u6301\\u4eba\", \"\\u4e3b\\u6301\\u4eba\", \"\\u4e58\\u5ba2\", \"\\u4e8b\\u4ef6\", \"\\u4e8b\\u4ef6\", \"\\u4e8b\\u4ef6\", \"\\u4e8b\\u6545\", \"\\u4e8b\\u767c\", \"\\u4e8c\\u58d8\", \"\\u4eba\\u54e1\", \"\\u4eba\\u54e1\", \"\\u4eba\\u54e1\", \"\\u4eba\\u6c11\\u5e63\", \"\\u4eba\\u6c23\", \"\\u4eba\\u6c23\", \"\\u4eba\\u6c23\", \"\\u4eba\\u985e\", \"\\u4eca\\u5929\", \"\\u4eca\\u5929\", \"\\u4eca\\u5929\", \"\\u4eca\\u5929\", \"\\u4eca\\u5929\", \"\\u4ee5\\u6bd4\", \"\\u4ee5\\u6bd4\", \"\\u4f59\\u5929\", \"\\u4f59\\u82d1\", \"\\u4f59\\u82d1\", \"\\u4f5c\\u54c1\", \"\\u4f5c\\u54c1\", \"\\u4f86\\u8cd3\", \"\\u4f9d\\u4f9d\", \"\\u4fc4\\u570b\", \"\\u4fc4\\u7f85\\u65af\", \"\\u4fc4\\u7f85\\u65af\", \"\\u4fc4\\u7f85\\u65af\", \"\\u4fc4\\u8ecd\", \"\\u4fdd\\u9001\", \"\\u502b\\u65af\\u57fa\", \"\\u5076\\u50cf\", \"\\u5148\\u751f\", \"\\u5148\\u751f\", \"\\u5148\\u751f\", \"\\u5148\\u767c\", \"\\u5148\\u767c\", \"\\u5149\\u5fa9\", \"\\u514b\\u7acb\", \"\\u514b\\u7f85\", \"\\u5152\\u5b50\", \"\\u5152\\u5b50\", \"\\u5152\\u5b50\", \"\\u5165\\u4fb5\", \"\\u5165\\u4fb5\", \"\\u5165\\u570d\", \"\\u5167\\u99ac\\u723e\", \"\\u5168\\u58d8\\u6253\", \"\\u5168\\u7403\", \"\\u5168\\u7403\", \"\\u5168\\u7403\", \"\\u5168\\u7403\", \"\\u5168\\u7403\", \"\\u5169\\u4eba\", \"\\u5169\\u4eba\", \"\\u5169\\u4eba\", \"\\u5169\\u4eba\", \"\\u5169\\u4eba\", \"\\u516c\\u53f8\", \"\\u516c\\u53f8\", \"\\u516c\\u53f8\", \"\\u516c\\u53f8\", \"\\u516c\\u53f8\", \"\\u516c\\u958b\\u8cfd\", \"\\u516c\\u958b\\u8cfd\", \"\\u5177\\u4fca\\u66c4\", \"\\u51a0\\u8ecd\", \"\\u51a0\\u8ecd\", \"\\u51a0\\u8ecd\", \"\\u51fa\\u6f14\", \"\\u51fa\\u73fe\", \"\\u51fa\\u73fe\", \"\\u51fa\\u73fe\", \"\\u51fa\\u73fe\", \"\\u51fa\\u73fe\", \"\\u51fa\\u73fe\", \"\\u51fa\\u8ecc\", \"\\u5206\\u4eab\", \"\\u5206\\u4eab\", \"\\u5206\\u4eab\", \"\\u5206\\u4eab\", \"\\u5206\\u624b\", \"\\u5206\\u624b\", \"\\u5206\\u624b\", \"\\u5206\\u9418\", \"\\u5206\\u9418\", \"\\u5206\\u9418\", \"\\u5236\\u88c1\", \"\\u524d\\u592b\", \"\\u524d\\u592b\", \"\\u524d\\u59bb\", \"\\u524d\\u59bb\", \"\\u524d\\u92d2\", \"\\u524d\\u92d2\", \"\\u5275\\u4f5c\", \"\\u5287\\u4e2d\", \"\\u5287\\u7167\", \"\\u52a0\\u76df\", \"\\u52a0\\u76df\", \"\\u52fe\\u60e1\", \"\\u5305\\u62ec\", \"\\u5305\\u62ec\", \"\\u5305\\u62ec\", \"\\u5305\\u62ec\", \"\\u5305\\u62ec\", \"\\u5316\\u7642\", \"\\u5317\\u7d04\", \"\\u5317\\u97d3\", \"\\u5357\\u5c71\", \"\\u5357\\u97d3\", \"\\u5357\\u97d3\", \"\\u5357\\u97d3\", \"\\u5357\\u97d3\", \"\\u5361\\u9054\", \"\\u53e4\\u5df4\", \"\\u53e4\\u5df4\", \"\\u53e4\\u5df4\\u968a\", \"\\u53f0\\u5e63\", \"\\u53f0\\u5e63\", \"\\u53f0\\u5e63\", \"\\u53f0\\u5e63\", \"\\u53f0\\u5e63\", \"\\u53f0\\u6d77\", \"\\u53f0\\u7063\", \"\\u53f0\\u7063\", \"\\u53f0\\u7063\", \"\\u53f0\\u7063\", \"\\u53f0\\u7063\", \"\\u53f0\\u7063\\u968a\", \"\\u53f0\\u7063\\u968a\", \"\\u5433\\u5b97\\u61b2\", \"\\u5438\\u5f15\", \"\\u5438\\u5f15\", \"\\u5438\\u5f15\", \"\\u5438\\u5f15\", \"\\u5468\\u5929\", \"\\u5468\\u6770\\u502b\", \"\\u5473\\u5168\", \"\\u548c\\u5f26\", \"\\u54e1\\u5de5\", \"\\u54e1\\u5de5\", \"\\u5566\\u5566\\u968a\", \"\\u559c\\u6b61\", \"\\u559c\\u6b61\", \"\\u559c\\u6b61\", \"\\u56b4\\u91cd\", \"\\u56b4\\u91cd\", \"\\u56b4\\u91cd\", \"\\u56de\\u61c9\", \"\\u56de\\u61c9\", \"\\u56de\\u61c9\", \"\\u56de\\u61c9\", \"\\u56de\\u61c9\", \"\\u570b\\u5bb6\", \"\\u570b\\u5bb6\", \"\\u570b\\u5bb6\", \"\\u570b\\u5bb6\", \"\\u570b\\u5bb6\", \"\\u570b\\u969b\", \"\\u570b\\u969b\", \"\\u570b\\u969b\", \"\\u570b\\u969b\", \"\\u570b\\u969b\", \"\\u5716\\u7247\", \"\\u5716\\u7247\", \"\\u5730\\u5340\", \"\\u5730\\u5340\", \"\\u5730\\u9707\", \"\\u5730\\u9707\", \"\\u57fa\\u8f14\", \"\\u5831\\u5c0e\", \"\\u5831\\u5c0e\", \"\\u5831\\u5c0e\", \"\\u5831\\u5c0e\", \"\\u5831\\u5c0e\", \"\\u58eb\\u5175\", \"\\u5916\\u4ea4\", \"\\u5916\\u4ea4\\u90e8\", \"\\u5916\\u6d41\", \"\\u5927\\u8c37\", \"\\u5927\\u9678\", \"\\u5927\\u9678\", \"\\u5927\\u9678\", \"\\u5927\\u9678\", \"\\u592a\\u592a\", \"\\u592b\\u59bb\\u5006\", \"\\u5931\\u5206\", \"\\u5931\\u5206\", \"\\u5967\\u904b\", \"\\u5967\\u904b\", \"\\u5973\\u512a\", \"\\u5973\\u512a\", \"\\u5973\\u5152\", \"\\u5973\\u5152\", \"\\u5973\\u5b50\", \"\\u5973\\u5b50\", \"\\u5973\\u5b50\", \"\\u5973\\u5b69\", \"\\u5973\\u5b69\", \"\\u5973\\u6027\", \"\\u5973\\u6027\", \"\\u5973\\u6027\", \"\\u5973\\u6027\", \"\\u5973\\u65b9\", \"\\u5973\\u65b9\", \"\\u5973\\u795e\", \"\\u5973\\u7ae5\", \"\\u5973\\u8001\\u5e2b\", \"\\u59b9\\u59b9\", \"\\u59c6\\u5df4\", \"\\u5a46\\u5a46\", \"\\u5abd\\u5abd\", \"\\u5abd\\u5abd\", \"\\u5b58\\u6b3e\", \"\\u5b69\\u5b50\", \"\\u5b69\\u5b50\", \"\\u5b69\\u5b50\", \"\\u5b78\\u6821\", \"\\u5b78\\u6821\", \"\\u5b78\\u751f\", \"\\u5b78\\u751f\", \"\\u5b89\\u5168\", \"\\u5b89\\u5168\", \"\\u5b89\\u5168\", \"\\u5b89\\u6253\", \"\\u5b8b\\u5148\\u751f\", \"\\u5b98\\u54e1\", \"\\u5b98\\u54e1\", \"\\u5ba3\\u5e03\", \"\\u5ba3\\u5e03\", \"\\u5ba3\\u5e03\", \"\\u5ba3\\u5e03\", \"\\u5ba3\\u5e03\", \"\\u5bb6\\u4eba\", \"\\u5bb6\\u4eba\", \"\\u5bb6\\u4eba\", \"\\u5bb6\\u4eba\", \"\\u5bb6\\u5c6c\", \"\\u5bb6\\u5ead\", \"\\u5bb6\\u5ead\", \"\\u5bb6\\u66b4\", \"\\u5bf6\\u5bf6\", \"\\u5c04\\u9580\", \"\\u5c08\\u7dda\", \"\\u5c0d\\u624b\", \"\\u5c0d\\u624b\", \"\\u5c0d\\u65b9\", \"\\u5c0d\\u65b9\", \"\\u5c0d\\u65b9\", \"\\u5c0d\\u65b9\", \"\\u5c0d\\u65b9\", \"\\u5c0d\\u6b64\", \"\\u5c0d\\u6b64\", \"\\u5c0d\\u6b64\", \"\\u5c0d\\u6b64\", \"\\u5c0d\\u6b64\", \"\\u5c0d\\u6b64\", \"\\u5c0e\\u6f14\", \"\\u5c0e\\u6f14\", \"\\u5c0e\\u81f4\", \"\\u5c0e\\u81f4\", \"\\u5c0e\\u81f4\", \"\\u5c0e\\u81f4\", \"\\u5c0f\\u5b69\", \"\\u5c0f\\u5b69\", \"\\u5c0f\\u751c\\u751c\", \"\\u5c0f\\u7d44\\u8cfd\", \"\\u5c4d\\u9ad4\", \"\\u5de5\\u4f5c\", \"\\u5de5\\u4f5c\", \"\\u5de5\\u4f5c\", \"\\u5de5\\u4f5c\", \"\\u5de5\\u4f5c\", \"\\u5df2\\u7d93\", \"\\u5df2\\u7d93\", \"\\u5df2\\u7d93\", \"\\u5df2\\u7d93\", \"\\u5df2\\u7d93\", \"\\u5df2\\u7d93\", \"\\u5df2\\u7d93\", \"\\u5df4\\u62ff\\u99ac\", \"\\u5df4\\u897f\", \"\\u5df4\\u897f\", \"\\u5e0c\\u671b\", \"\\u5e0c\\u671b\", \"\\u5e0c\\u671b\", \"\\u5e0c\\u671b\", \"\\u5e0c\\u671b\", \"\\u5e0c\\u671b\", \"\\u5e73\\u5b89\", \"\\u5e78\\u798f\", \"\\u5e78\\u798f\", \"\\u5ec1\\u6240\", \"\\u5f1f\\u5f1f\", \"\\u5f1f\\u5f1f\", \"\\u5f35\\u7a4e\\u7a4e\", \"\\u5f35\\u862d\", \"\\u5f37\\u8cfd\", \"\\u5f37\\u8cfd\", \"\\u5f71\\u7247\", \"\\u5f71\\u7247\", \"\\u5f71\\u7247\", \"\\u5f8b\\u5e2b\", \"\\u5f8b\\u5e2b\", \"\\u5feb\\u4f86\", \"\\u5feb\\u4f86\", \"\\u6027\\u611f\", \"\\u608d\\u5c07\", \"\\u60c5\\u6cc1\", \"\\u60c5\\u6cc1\", \"\\u60c5\\u6cc1\", \"\\u60c5\\u6cc1\", \"\\u60c5\\u6cc1\", \"\\u610f\\u5916\", \"\\u610f\\u5916\", \"\\u610f\\u5916\", \"\\u610f\\u5916\", \"\\u611f\\u60c5\", \"\\u611f\\u60c5\", \"\\u611f\\u60c5\", \"\\u61c9\\u63f4\", \"\\u61c9\\u63f4\", \"\\u61c9\\u63f4\", \"\\u61c9\\u63f4\", \"\\u61f6\\u4eba\", \"\\u61f6\\u4eba\", \"\\u61f6\\u4eba\", \"\\u61f7\\u5b55\", \"\\u6210\\u70ba\", \"\\u6210\\u70ba\", \"\\u6210\\u70ba\", \"\\u6210\\u70ba\", \"\\u6210\\u70ba\", \"\\u6210\\u70ba\", \"\\u6230\\u722d\", \"\\u6232\\u5287\", \"\\u6232\\u5287\", \"\\u6234\\u8cc7\\u7a4e\", \"\\u623f\\u6771\", \"\\u6253\\u8005\", \"\\u6253\\u9ede\", \"\\u6295\\u624b\", \"\\u62cd\\u6232\", \"\\u62cd\\u651d\", \"\\u62cd\\u651d\", \"\\u62dc\\u767b\", \"\\u62ff\\u4e0b\", \"\\u62ff\\u4e0b\", \"\\u62ff\\u4e0b\", \"\\u62ff\\u4e0b\", \"\\u62ff\\u4e0b\", \"\\u6301\\u7e8c\", \"\\u6301\\u7e8c\", \"\\u6301\\u7e8c\", \"\\u6301\\u7e8c\", \"\\u6301\\u7e8c\", \"\\u6301\\u7e8c\", \"\\u6307\\u51fa\", \"\\u6307\\u51fa\", \"\\u6307\\u51fa\", \"\\u6307\\u51fa\", \"\\u6307\\u51fa\", \"\\u6307\\u51fa\", \"\\u6307\\u63a7\", \"\\u6307\\u63a7\", \"\\u6307\\u63a7\", \"\\u6307\\u63a7\", \"\\u6392\\u540d\\u7b2c\", \"\\u6392\\u540d\\u7b2c\", \"\\u63a5\\u7a2e\", \"\\u63a5\\u7a2e\", \"\\u63a7\\u8a34\", \"\\u63a8\\u51fa\", \"\\u63a8\\u51fa\", \"\\u63a8\\u51fa\", \"\\u63d0\\u544a\", \"\\u6436\\u6551\", \"\\u6469\\u6d1b\\u54e5\", \"\\u64c1\\u6709\", \"\\u64c1\\u6709\", \"\\u64c1\\u6709\", \"\\u64c1\\u6709\", \"\\u64c1\\u6709\", \"\\u64c1\\u6709\", \"\\u64ca\\u6557\", \"\\u64ca\\u6557\", \"\\u653f\\u5e9c\", \"\\u653f\\u5e9c\", \"\\u653f\\u6cbb\", \"\\u653f\\u6cbb\", \"\\u653f\\u7b56\", \"\\u653f\\u7b56\", \"\\u6559\\u6703\", \"\\u6559\\u7df4\", \"\\u6559\\u7df4\", \"\\u6559\\u7df4\", \"\\u6572\\u51fa\", \"\\u65b0\\u4eba\", \"\\u65b0\\u5a18\", \"\\u65b0\\u805e\", \"\\u65b0\\u805e\", \"\\u65b0\\u805e\", \"\\u65b0\\u805e\", \"\\u65b0\\u805e\\u983b\\u9053\", \"\\u65c5\\u904a\", \"\\u65c5\\u904a\", \"\\u65c5\\u904a\", \"\\u65e5\\u672c\", \"\\u65e5\\u672c\", \"\\u65e5\\u672c\", \"\\u65e5\\u672c\", \"\\u65e5\\u672c\", \"\\u65e5\\u672c\", \"\\u65e5\\u672c\\u968a\", \"\\u65e5\\u672c\\u968a\", \"\\u6649\\u7d1a\", \"\\u6649\\u7d1a\", \"\\u666e\\u4e01\", \"\\u66dd\\u5149\", \"\\u66dd\\u5149\", \"\\u66dd\\u5149\", \"\\u66dd\\u5149\", \"\\u66dd\\u5149\", \"\\u6700\\u5f8c\", \"\\u6700\\u5f8c\", \"\\u6700\\u5f8c\", \"\\u6700\\u5f8c\", \"\\u6700\\u5f8c\", \"\\u6700\\u5f8c\", \"\\u6700\\u5f8c\", \"\\u6700\\u7d42\", \"\\u6700\\u7d42\", \"\\u6700\\u7d42\", \"\\u6700\\u7d42\", \"\\u6700\\u7d42\", \"\\u6709\\u4eba\", \"\\u6709\\u4eba\", \"\\u6709\\u4eba\", \"\\u6709\\u4eba\", \"\\u6709\\u4eba\", \"\\u670b\\u53cb\", \"\\u670b\\u53cb\", \"\\u670b\\u53cb\", \"\\u670b\\u53cb\", \"\\u670b\\u53cb\", \"\\u670b\\u53cb\", \"\\u672c\\u5c46\", \"\\u672c\\u5c46\", \"\\u674e\\u4e9e\\u840d\", \"\\u674e\\u591a\\u6167\", \"\\u674e\\u975a\\u857e\", \"\\u6771\\u68ee\", \"\\u6771\\u68ee\", \"\\u6771\\u68ee\", \"\\u6771\\u68ee\", \"\\u6797\\u5b50\", \"\\u6797\\u5cb3\\u5e73\", \"\\u6797\\u5fd7\\u7a4e\", \"\\u6797\\u6600\", \"\\u6797\\u66f8\\u8c6a\", \"\\u6797\\u8944\", \"\\u6885\\u897f\", \"\\u68d2\\u7403\", \"\\u68d2\\u7403\", \"\\u68d2\\u7403\\u5834\", \"\\u6b4c\\u66f2\", \"\\u6b4c\\u8ff7\", \"\\u6b50\\u76df\", \"\\u6b7b\\u4ea1\", \"\\u6b7b\\u4ea1\", \"\\u6b7b\\u4ea1\", \"\\u6b7b\\u8005\", \"\\u6bd4\\u6bd4\", \"\\u6bd4\\u8cfd\", \"\\u6bd4\\u8cfd\", \"\\u6bd4\\u8cfd\", \"\\u6c11\\u773e\", \"\\u6c11\\u773e\", \"\\u6c11\\u773e\", \"\\u6c11\\u773e\", \"\\u6c38\\u8c50\", \"\\u6c6a\\u5c0f\\u83f2\", \"\\u6c7a\\u8cfd\", \"\\u6c7a\\u8cfd\", \"\\u6c92\\u60f3\\u5230\", \"\\u6c92\\u60f3\\u5230\", \"\\u6c92\\u60f3\\u5230\", \"\\u6c92\\u60f3\\u5230\", \"\\u6c92\\u60f3\\u5230\", \"\\u6c92\\u60f3\\u5230\", \"\\u6cd5\\u570b\", \"\\u6cd5\\u570b\", \"\\u6cd5\\u570b\\u968a\", \"\\u6cd5\\u5b98\", \"\\u6cd5\\u6848\", \"\\u6cd5\\u9662\", \"\\u6d3b\\u52d5\", \"\\u6d3b\\u52d5\", \"\\u6d3b\\u52d5\", \"\\u6d88\\u606f\", \"\\u6d88\\u606f\", \"\\u6d88\\u606f\", \"\\u6d88\\u606f\", \"\\u6d88\\u606f\", \"\\u6d89\\u5acc\", \"\\u6f14\\u51fa\", \"\\u6f14\\u51fa\", \"\\u6f14\\u51fa\", \"\\u6f14\\u51fa\", \"\\u6f14\\u54e1\", \"\\u6f14\\u54e1\", \"\\u6f14\\u5531\\u6703\", \"\\u7028\\u6606\\u59ae\", \"\\u706b\\u8eca\", \"\\u706b\\u8eca\", \"\\u706b\\u8eca\", \"\\u706b\\u8fa3\", \"\\u70cf\\u514b\\u862d\", \"\\u7121\\u4eba\\u6a5f\", \"\\u7167\\u7247\", \"\\u7167\\u7247\", \"\\u7167\\u7247\", \"\\u7167\\u9867\", \"\\u7167\\u9867\", \"\\u71b1\\u8eab\\u8cfd\", \"\\u7206\\u51fa\", \"\\u7206\\u51fa\", \"\\u7206\\u51fa\", \"\\u7206\\u6599\", \"\\u7206\\u6599\", \"\\u7206\\u6599\", \"\\u7236\\u6bcd\", \"\\u7238\\u5abd\", \"\\u7238\\u7238\", \"\\u7238\\u7238\", \"\\u7279\\u5225\", \"\\u7279\\u5225\", \"\\u7279\\u5225\", \"\\u7279\\u5225\", \"\\u7279\\u5225\", \"\\u738b\\u529b\\u5b8f\", \"\\u738b\\u77b3\", \"\\u73fe\\u5728\", \"\\u73fe\\u5728\", \"\\u73fe\\u5728\", \"\\u73fe\\u5728\", \"\\u73fe\\u5728\", \"\\u73fe\\u5728\", \"\\u73fe\\u5834\", \"\\u73fe\\u5834\", \"\\u73fe\\u5834\", \"\\u7403\\u54e1\", \"\\u7403\\u54e1\", \"\\u7403\\u5b63\", \"\\u7403\\u8a55\", \"\\u7403\\u8a55\", \"\\u7403\\u8ff7\", \"\\u7403\\u8ff7\", \"\\u7403\\u8ff7\", \"\\u7403\\u968a\", \"\\u7403\\u968a\", \"\\u751c\\u751c\", \"\\u751c\\u7f8e\", \"\\u751c\\u871c\", \"\\u751c\\u871c\", \"\\u751f\\u524d\", \"\\u751f\\u6d3b\", \"\\u751f\\u6d3b\", \"\\u751f\\u6d3b\", \"\\u751f\\u6d3b\", \"\\u7537\\u55ae\", \"\\u7537\\u5b50\", \"\\u7537\\u5b50\", \"\\u7537\\u5b50\", \"\\u7537\\u65b9\", \"\\u7537\\u65b9\", \"\\u7537\\u7ae5\", \"\\u7559\\u8a00\", \"\\u7559\\u8a00\", \"\\u7559\\u8a00\", \"\\u756b\\u9762\", \"\\u756b\\u9762\", \"\\u756b\\u9762\", \"\\u7576\\u500b\", \"\\u7576\\u500b\", \"\\u7576\\u500b\", \"\\u7576\\u5730\", \"\\u7576\\u5730\", \"\\u7576\\u5730\", \"\\u7576\\u5730\", \"\\u7576\\u6642\", \"\\u7576\\u6642\", \"\\u7576\\u6642\", \"\\u7576\\u6642\", \"\\u7576\\u6642\", \"\\u7576\\u6642\", \"\\u75ab\\u60c5\", \"\\u75ab\\u60c5\", \"\\u75ab\\u60c5\", \"\\u75ab\\u60c5\", \"\\u75c5\\u60c5\", \"\\u767c\\u5c04\", \"\\u767c\\u5c04\", \"\\u767c\\u6587\", \"\\u767c\\u6587\", \"\\u767c\\u6587\", \"\\u767c\\u6587\", \"\\u767c\\u73fe\", \"\\u767c\\u73fe\", \"\\u767c\\u73fe\", \"\\u767c\\u73fe\", \"\\u767c\\u751f\", \"\\u767c\\u751f\", \"\\u767c\\u751f\", \"\\u767c\\u751f\", \"\\u767d\\u5bae\", \"\\u76ee\\u524d\", \"\\u76ee\\u524d\", \"\\u76ee\\u524d\", \"\\u76ee\\u524d\", \"\\u76ee\\u524d\", \"\\u76ee\\u524d\", \"\\u76f4\\u64ad\", \"\\u76f4\\u64ad\", \"\\u76f8\\u7576\", \"\\u76f8\\u7576\", \"\\u76f8\\u7576\", \"\\u76f8\\u7576\", \"\\u76f8\\u7576\", \"\\u76f8\\u7576\", \"\\u770b\\u5230\", \"\\u770b\\u5230\", \"\\u770b\\u5230\", \"\\u770b\\u5230\", \"\\u770b\\u5230\", \"\\u771f\\u7684\", \"\\u771f\\u7684\", \"\\u771f\\u7684\", \"\\u771f\\u7684\", \"\\u771f\\u7684\", \"\\u77e5\\u9053\", \"\\u77e5\\u9053\", \"\\u77e5\\u9053\", \"\\u77e5\\u9053\", \"\\u77e5\\u9053\", \"\\u77e5\\u9053\", \"\\u77e5\\u9053\", \"\\u798f\\u539f\", \"\\u7a4d\\u5206\", \"\\u7a7f\\u8457\", \"\\u7a7f\\u8457\", \"\\u7acb\\u9676\\u5b9b\", \"\\u7b11\\u5bb9\", \"\\u7bc0\\u76ee\", \"\\u7bc0\\u76ee\", \"\\u7c43\\u677f\", \"\\u7c89\\u7d72\", \"\\u7c89\\u7d72\", \"\\u7d0d\\u8c46\", \"\\u7d50\\u5a5a\", \"\\u7d50\\u5a5a\", \"\\u7d93\\u5178\", \"\\u7d93\\u5178\", \"\\u7d93\\u6fdf\", \"\\u7d93\\u6fdf\", \"\\u7d93\\u6fdf\", \"\\u7d93\\u7d00\\u4eba\", \"\\u7d93\\u7d00\\u4eba\", \"\\u7d9c\\u85dd\\u7bc0\\u76ee\", \"\\u7db2\\u53cb\", \"\\u7db2\\u53cb\", \"\\u7db2\\u53cb\", \"\\u7db2\\u53cb\", \"\\u7dca\\u6025\", \"\\u7dca\\u6025\", \"\\u7dca\\u6025\", \"\\u7dcb\\u805e\", \"\\u7e3d\\u6559\\u7df4\", \"\\u7e3d\\u6559\\u7df4\", \"\\u7e3d\\u7406\", \"\\u7e3d\\u7d71\", \"\\u7e3d\\u7d71\", \"\\u7f8e\\u570b\", \"\\u7f8e\\u570b\", \"\\u7f8e\\u570b\", \"\\u7f8e\\u570b\", \"\\u7f8e\\u570b\", \"\\u7f8e\\u65b9\", \"\\u7fa9\\u5927\\u5229\", \"\\u7fa9\\u5927\\u5229\", \"\\u7fa9\\u5927\\u5229\", \"\\u7fa9\\u5927\\u5229\", \"\\u7fbd\\u7403\", \"\\u7fbd\\u7403\", \"\\u7fd2\\u8fd1\\u5e73\", \"\\u7fd4\\u5e73\", \"\\u8001\\u516c\", \"\\u8001\\u516c\", \"\\u8001\\u5a46\", \"\\u8001\\u5a46\", \"\\u806f\\u76df\", \"\\u806f\\u76df\", \"\\u806f\\u76df\", \"\\u8077\\u68d2\", \"\\u8077\\u68d2\", \"\\u80b2\\u6210\", \"\\u80ba\\u708e\", \"\\u81c9\\u66f8\", \"\\u81c9\\u66f8\", \"\\u81c9\\u66f8\", \"\\u822a\\u73ed\", \"\\u827e\\u6210\", \"\\u8377\\u862d\\u968a\", \"\\u8389\\u5a6d\", \"\\u842c\\u5143\", \"\\u842c\\u5143\", \"\\u842c\\u5143\", \"\\u8461\\u8404\\u7259\", \"\\u8521\\u5929\\u9cf3\", \"\\u85dd\\u4eba\", \"\\u85dd\\u4eba\", \"\\u85dd\\u4eba\", \"\\u85dd\\u8d77\", \"\\u884c\\u70ba\", \"\\u884c\\u70ba\", \"\\u884c\\u70ba\", \"\\u8868\\u6f14\", \"\\u8868\\u73fe\", \"\\u8868\\u73fe\", \"\\u8868\\u73fe\", \"\\u8868\\u73fe\", \"\\u8868\\u73fe\", \"\\u8868\\u73fe\", \"\\u8868\\u793a\", \"\\u8868\\u793a\", \"\\u8868\\u793a\", \"\\u8868\\u793a\", \"\\u8868\\u793a\", \"\\u8868\\u793a\", \"\\u8868\\u793a\", \"\\u88f4\\u6d1b\\u897f\", \"\\u88fd\\u4f5c\", \"\\u88fd\\u4f5c\", \"\\u88fd\\u4f5c\", \"\\u897f\\u4e9e\", \"\\u897f\\u73ed\\u7259\", \"\\u897f\\u73ed\\u7259\", \"\\u8981\\u6c42\", \"\\u8981\\u6c42\", \"\\u8981\\u6c42\", \"\\u8981\\u6c42\", \"\\u8981\\u6c42\", \"\\u89ba\\u5f97\", \"\\u89ba\\u5f97\", \"\\u89ba\\u5f97\", \"\\u89ba\\u5f97\", \"\\u89c0\\u773e\", \"\\u89c0\\u773e\", \"\\u8a31\\u591a\", \"\\u8a31\\u591a\", \"\\u8a31\\u591a\", \"\\u8a31\\u591a\", \"\\u8a31\\u591a\", \"\\u8a31\\u591a\", \"\\u8a50\\u9a19\", \"\\u8a79\\u96c5\\u96ef\", \"\\u8a8d\\u70ba\", \"\\u8a8d\\u70ba\", \"\\u8a8d\\u70ba\", \"\\u8a8d\\u70ba\", \"\\u8a8d\\u70ba\", \"\\u8a8d\\u70ba\", \"\\u8a8d\\u70ba\", \"\\u8abf\\u67e5\", \"\\u8abf\\u67e5\", \"\\u8ac7\\u5224\", \"\\u8b66\\u65b9\", \"\\u8b66\\u65b9\", \"\\u8cc7\\u7a4e\", \"\\u8ce0\\u511f\", \"\\u8ce0\\u7387\", \"\\u8cfd\\u4e8b\", \"\\u8cfd\\u4e8b\", \"\\u8cfd\\u5c07\", \"\\u8d77\\u8a34\", \"\\u8d95\\u7dca\", \"\\u8d95\\u7dca\", \"\\u8db3\\u7403\", \"\\u8db3\\u7403\", \"\\u8db3\\u7403\\u8cfd\", \"\\u8db3\\u8cfd\", \"\\u8e22\\u9032\", \"\\u8eab\\u4ea1\", \"\\u8eab\\u6750\", \"\\u8eab\\u6750\", \"\\u8eab\\u6750\", \"\\u8eab\\u908a\", \"\\u8eab\\u908a\", \"\\u8eab\\u908a\", \"\\u8eca\\u4e0a\", \"\\u8eca\\u5b50\", \"\\u8eca\\u798d\", \"\\u8eca\\u8f1b\", \"\\u8ecd\\u4e8b\", \"\\u8ecd\\u65b9\", \"\\u8ecd\\u968a\", \"\\u8ecd\\u968a\", \"\\u8fe6\\u7d0d\", \"\\u8ffd\\u8e64\", \"\\u8ffd\\u8e64\", \"\\u8ffd\\u8e64\", \"\\u8ffd\\u8e64\", \"\\u9001\\u5f80\", \"\\u9001\\u91ab\", \"\\u900f\\u9732\", \"\\u900f\\u9732\", \"\\u900f\\u9732\", \"\\u900f\\u9732\", \"\\u900f\\u9732\", \"\\u900f\\u9732\", \"\\u9019\\u8d77\", \"\\u9020\\u578b\", \"\\u9020\\u6210\", \"\\u9020\\u6210\", \"\\u9020\\u6210\", \"\\u9020\\u6210\", \"\\u9023\\u5343\\u6bc5\", \"\\u902e\\u6355\", \"\\u902e\\u6355\", \"\\u9032\\u7403\", \"\\u9032\\u884c\", \"\\u9032\\u884c\", \"\\u9032\\u884c\", \"\\u9032\\u884c\", \"\\u9032\\u884c\", \"\\u9038\\u6c11\", \"\\u904a\\u5ba2\", \"\\u904b\\u52d5\", \"\\u904b\\u52d5\", \"\\u904b\\u52d5\", \"\\u904b\\u52d5\", \"\\u904b\\u52d5\", \"\\u904e\\u53bb\", \"\\u904e\\u53bb\", \"\\u904e\\u53bb\", \"\\u904e\\u53bb\", \"\\u904e\\u53bb\", \"\\u904e\\u53bb\", \"\\u904e\\u53bb\", \"\\u9053\\u6b49\", \"\\u9053\\u6b49\", \"\\u9078\\u624b\", \"\\u9078\\u624b\", \"\\u9078\\u624b\", \"\\u907a\\u9ad4\", \"\\u90f5\\u8f2a\", \"\\u90f5\\u8f2a\", \"\\u90f5\\u8f2a\", \"\\u91ab\\u9662\", \"\\u91ab\\u9662\", \"\\u91d0\\u6e05\", \"\\u91d1\\u724c\", \"\\u91d1\\u724c\", \"\\u91d1\\u984d\", \"\\u9326\\u6a19\\u8cfd\", \"\\u9580\\u5c07\", \"\\u958b\\u6253\", \"\\u958b\\u6253\", \"\\u958b\\u6253\", \"\\u958b\\u8eca\", \"\\u958b\\u8eca\", \"\\u963f\\u5357\\u5fb7\", \"\\u963f\\u6839\\u5ef7\", \"\\u963f\\u6839\\u5ef7\", \"\\u9644\\u8fd1\", \"\\u9644\\u8fd1\", \"\\u9644\\u8fd1\", \"\\u9644\\u8fd1\", \"\\u96c6\\u8a13\", \"\\u96d9\\u65b9\", \"\\u96d9\\u65b9\", \"\\u96d9\\u65b9\", \"\\u96d9\\u65b9\", \"\\u96d9\\u65b9\", \"\\u96e2\\u5a5a\", \"\\u96e2\\u5a5a\", \"\\u96f2\\u8c79\", \"\\u96fb\\u5f71\", \"\\u96fb\\u5f71\", \"\\u96fb\\u8996\\u5287\", \"\\u970d\\u83ef\\u5fb7\", \"\\u97f3\\u6a02\", \"\\u98db\\u5f48\", \"\\u98db\\u5f48\", \"\\u98df\\u7269\", \"\\u98fe\\u6f14\", \"\\u9928\\u9577\", \"\\u99d5\\u99db\", \"\\u9a5a\\u559c\", \"\\u9ad8\\u4e2d\", \"\\u9ad8\\u4e2d\", \"\\u9ad8\\u4e2d\", \"\\u9ad8\\u96c4\", \"\\u9ad8\\u96c4\", \"\\u9b54\\u7378\", \"\\u9cf3\\u68a8\"]}, \"R\": 30, \"lambda.step\": 0.01, \"plot.opts\": {\"xlab\": \"PC1\", \"ylab\": \"PC2\"}, \"topic.order\": [7, 6, 2, 1, 5, 4, 3]};\n",
       "\n",
       "function LDAvis_load_lib(url, callback){\n",
       "  var s = document.createElement('script');\n",
       "  s.src = url;\n",
       "  s.async = true;\n",
       "  s.onreadystatechange = s.onload = callback;\n",
       "  s.onerror = function(){console.warn(\"failed to load library \" + url);};\n",
       "  document.getElementsByTagName(\"head\")[0].appendChild(s);\n",
       "}\n",
       "\n",
       "if(typeof(LDAvis) !== \"undefined\"){\n",
       "   // already loaded: just create the visualization\n",
       "   !function(LDAvis){\n",
       "       new LDAvis(\"#\" + \"ldavis_el151619211546912483238327648\", ldavis_el151619211546912483238327648_data);\n",
       "   }(LDAvis);\n",
       "}else if(typeof define === \"function\" && define.amd){\n",
       "   // require.js is available: use it to load d3/LDAvis\n",
       "   require.config({paths: {d3: \"https://d3js.org/d3.v5\"}});\n",
       "   require([\"d3\"], function(d3){\n",
       "      window.d3 = d3;\n",
       "      LDAvis_load_lib(\"https://cdn.jsdelivr.net/gh/bmabey/pyLDAvis@3.4.0/pyLDAvis/js/ldavis.v3.0.0.js\", function(){\n",
       "        new LDAvis(\"#\" + \"ldavis_el151619211546912483238327648\", ldavis_el151619211546912483238327648_data);\n",
       "      });\n",
       "    });\n",
       "}else{\n",
       "    // require.js not available: dynamically load d3 & LDAvis\n",
       "    LDAvis_load_lib(\"https://d3js.org/d3.v5.js\", function(){\n",
       "         LDAvis_load_lib(\"https://cdn.jsdelivr.net/gh/bmabey/pyLDAvis@3.4.0/pyLDAvis/js/ldavis.v3.0.0.js\", function(){\n",
       "                 new LDAvis(\"#\" + \"ldavis_el151619211546912483238327648\", ldavis_el151619211546912483238327648_data);\n",
       "            })\n",
       "         });\n",
       "}\n",
       "</script>"
      ],
      "text/plain": [
       "PreparedData(topic_coordinates=              x         y  topics  cluster       Freq\n",
       "topic                                                \n",
       "6     -0.134770  0.142039       1        1  16.881989\n",
       "5     -0.047233 -0.201052       2        1  16.091810\n",
       "1     -0.130529 -0.189685       3        1  16.074299\n",
       "0      0.263157 -0.049828       4        1  16.055372\n",
       "4     -0.033568  0.193306       5        1  13.153884\n",
       "3      0.291285  0.052860       6        1  10.898996\n",
       "2     -0.208343  0.052360       7        1  10.843650, topic_info=     Term         Freq        Total Category  logprob  loglift\n",
       "8472  中華隊  1686.000000  1686.000000  Default  30.0000  30.0000\n",
       "2926   經典  1882.000000  1882.000000  Default  29.0000  29.0000\n",
       "7227  烏克蘭  1439.000000  1439.000000  Default  28.0000  28.0000\n",
       "270    比賽  1874.000000  1874.000000  Default  27.0000  27.0000\n",
       "7597   棒球  1193.000000  1193.000000  Default  26.0000  26.0000\n",
       "...   ...          ...          ...      ...      ...      ...\n",
       "21     報導   321.377667  1653.365433   Topic7  -5.3607   0.5836\n",
       "258    指出   235.546546  1146.162776   Topic7  -5.6714   0.6393\n",
       "377    發現   228.560292  1170.244068   Topic7  -5.7015   0.5884\n",
       "177   沒想到   200.615275   779.805208   Topic7  -5.8319   0.8639\n",
       "63     最後   203.609384  1499.592362   Topic7  -5.8171   0.2248\n",
       "\n",
       "[509 rows x 6 columns], token_table=      Topic      Freq Term\n",
       "term                      \n",
       "0         1  0.721492   一名\n",
       "0         6  0.012658   一名\n",
       "0         7  0.265813   一名\n",
       "522       1  0.089142   一直\n",
       "522       2  0.054321   一直\n",
       "...     ...       ...  ...\n",
       "1581      7  0.029770   高中\n",
       "2711      2  0.930921   高雄\n",
       "2711      6  0.070138   高雄\n",
       "9100      2  1.001191   魔獸\n",
       "6013      2  1.000901   鳳梨\n",
       "\n",
       "[948 rows x 3 columns], R=30, lambda_step=0.01, plot_opts={'xlab': 'PC1', 'ylab': 'PC2'}, topic_order=[7, 6, 2, 1, 5, 4, 3])"
      ]
     },
     "execution_count": 72,
     "metadata": {},
     "output_type": "execute_result"
    }
   ],
   "source": [
    "n_top_words = 10\n",
    "topic_word = model.topic_word_\n",
    "\n",
    "for i, topic_dist in enumerate(topic_word):\n",
    "    topic_words = np.array(vocab)[np.argsort(topic_dist)][: -(n_top_words + 1) : -1]\n",
    "    print(\"Topic {}: {}\".format(i, \" \".join(topic_words)))\n",
    "    \n",
    "\n",
    "doc_topic = model.doc_topic_\n",
    "term_freq = tuple(dictionary.cfs.values())\n",
    "doc_len = [sum(v for k, v in doc) for doc in corpus]\n",
    "\n",
    "## LDAvis\n",
    "pyLDAvis.enable_notebook()\n",
    "p = pyLDAvis.prepare(topic_word, doc_topic, doc_len, vocab = vocab, term_frequency = term_freq)\n",
    "p"
   ]
  },
  {
   "cell_type": "code",
   "execution_count": null,
   "metadata": {},
   "outputs": [
    {
     "name": "stderr",
     "output_type": "stream",
     "text": [
      "2023-05-08 17:40:18,411 : INFO : n_documents: 4098\n",
      "2023-05-08 17:40:18,412 : INFO : vocab_size: 14437\n",
      "2023-05-08 17:40:18,412 : INFO : n_words: 630874\n",
      "2023-05-08 17:40:18,413 : INFO : n_topics: 6\n",
      "2023-05-08 17:40:18,413 : INFO : n_iter: 100\n",
      "2023-05-08 17:40:20,328 : INFO : <0> log likelihood: -6898262\n",
      "2023-05-08 17:40:20,854 : INFO : <20> log likelihood: -5540121\n",
      "2023-05-08 17:40:21,381 : INFO : <40> log likelihood: -5444289\n",
      "2023-05-08 17:40:21,896 : INFO : <60> log likelihood: -5411857\n",
      "2023-05-08 17:40:22,410 : INFO : <80> log likelihood: -5392476\n",
      "2023-05-08 17:40:22,930 : INFO : <99> log likelihood: -5383360\n"
     ]
    },
    {
     "data": {
      "text/plain": [
       "<guidedlda.guidedlda.GuidedLDA at 0x1bf5569b970>"
      ]
     },
     "execution_count": 73,
     "metadata": {},
     "output_type": "execute_result"
    }
   ],
   "source": [
    "model = guidedlda.GuidedLDA(n_topics=6, n_iter=100, random_state=7, refresh=20)\n",
    "model.fit(X, seed_confidence=1)"
   ]
  },
  {
   "cell_type": "code",
   "execution_count": null,
   "metadata": {},
   "outputs": [
    {
     "name": "stdout",
     "output_type": "stream",
     "text": [
      "Topic 0: 中華隊 比賽 經典 今天 日本 球員 投手 世界 棒球 高中\n",
      "Topic 1: 一名 發生 報導 發現 表示 男子 女子 警方 孩子 醫院\n",
      "Topic 2: 烏克蘭 俄羅斯 美國 世界盃 表示 阿根廷 報導 國家 總統 俄軍\n",
      "Topic 3: 台灣 球迷 球員 選手 經典 比賽 聯盟 棒球 賽事 世界\n",
      "Topic 4: 中國 台灣 表示 大陸 指出 認為 公司 對此 汪小菲 問題\n",
      "Topic 5: 網友 表示 粉絲 真的 兩人 透露 相當 希望 節目 照片\n"
     ]
    },
    {
     "data": {
      "text/html": [
       "\n",
       "<link rel=\"stylesheet\" type=\"text/css\" href=\"https://cdn.jsdelivr.net/gh/bmabey/pyLDAvis@3.4.0/pyLDAvis/js/ldavis.v1.0.0.css\">\n",
       "\n",
       "\n",
       "<div id=\"ldavis_el151619211546750883238327648\" style=\"background-color:white;\"></div>\n",
       "<script type=\"text/javascript\">\n",
       "\n",
       "var ldavis_el151619211546750883238327648_data = {\"mdsDat\": {\"x\": [0.03274321228023464, -0.2903953920597138, 0.21510257067570365, 0.16260811231584119, -0.16338301182996381, 0.0433245086178985], \"y\": [-0.1631997414307526, 0.0047738159089997945, 0.062383358841772533, -0.15858650061862417, -0.03902581450523274, 0.29365488180383686], \"topics\": [1, 2, 3, 4, 5, 6], \"cluster\": [1, 1, 1, 1, 1, 1], \"Freq\": [27.989574619764046, 18.175637831276024, 17.801362820205647, 12.280278214397091, 11.88531850151323, 11.867828012843965]}, \"tinfo\": {\"Term\": [\"\\u70cf\\u514b\\u862d\", \"\\u4e2d\\u83ef\\u968a\", \"\\u7403\\u8ff7\", \"\\u4fc4\\u7f85\\u65af\", \"\\u6bd4\\u8cfd\", \"\\u53f0\\u7063\", \"\\u7d93\\u5178\", \"\\u4e2d\\u570b\", \"\\u7403\\u54e1\", \"\\u4e00\\u540d\", \"\\u5927\\u9678\", \"\\u9078\\u624b\", \"\\u68d2\\u7403\", \"\\u6295\\u624b\", \"\\u4e16\\u754c\\u76c3\", \"\\u5831\\u5c0e\", \"\\u767c\\u73fe\", \"\\u767c\\u751f\", \"\\u7f8e\\u570b\", \"\\u7db2\\u53cb\", \"\\u806f\\u76df\", \"\\u7c89\\u7d72\", \"\\u8cfd\\u4e8b\", \"\\u9ad8\\u4e2d\", \"\\u65e5\\u672c\", \"\\u4e16\\u754c\", \"\\u7403\\u968a\", \"\\u80b2\\u6210\", \"\\u963f\\u6839\\u5ef7\", \"\\u8b66\\u65b9\", \"\\u7238\\u7238\", \"\\u96fb\\u5f71\", \"\\u5973\\u661f\", \"\\u8001\\u5a46\", \"\\u611f\\u60c5\", \"\\u7d93\\u7d00\\u4eba\", \"\\u5973\\u53cb\", \"\\u5206\\u624b\", \"\\u6f14\\u54e1\", \"\\u4ea4\\u5f80\", \"\\u5e78\\u798f\", \"\\u6f14\\u85dd\\u5708\", \"\\u9023\\u5343\\u6bc5\", \"\\u5468\\u6770\\u502b\", \"\\u61f7\\u5b55\", \"\\u6f14\\u5531\\u6703\", \"\\u5973\\u65b9\", \"\\u4f59\\u82d1\", \"\\u5177\\u4fca\\u66c4\", \"\\u5c0e\\u6f14\", \"\\u6797\\u8944\", \"\\u7537\\u661f\", \"\\u5716\\u7247\", \"\\u7537\\u65b9\", \"\\u4e8b\\u696d\", \"\\u53ef\\u611b\", \"\\u6232\\u5287\", \"\\u98fe\\u6f14\", \"\\u592b\\u59bb\\u5006\", \"\\u59b9\\u59b9\", \"\\u7d50\\u5a5a\", \"\\u7bc0\\u76ee\", \"\\u597d\\u53cb\", \"\\u7c89\\u7d72\", \"\\u4eba\\u751f\", \"\\u7167\\u7247\", \"\\u5169\\u4eba\", \"\\u7559\\u8a00\", \"\\u5206\\u4eab\", \"\\u85dd\\u4eba\", \"\\u7db2\\u53cb\", \"\\u771f\\u7684\", \"\\u62cd\\u651d\", \"\\u6f14\\u51fa\", \"\\u5abd\\u5abd\", \"\\u900f\\u9732\", \"\\u5766\\u8a00\", \"\\u8001\\u516c\", \"\\u76f4\\u64ad\", \"\\u81c9\\u66f8\", \"\\u89ba\\u5f97\", \"\\u751f\\u6d3b\", \"\\u767c\\u6587\", \"\\u76f8\\u7576\", \"\\u7d1b\\u7d1b\", \"\\u5c0d\\u65b9\", \"\\u8868\\u793a\", \"\\u5e0c\\u671b\", \"\\u73fe\\u5728\", \"\\u904e\\u53bb\", \"\\u770b\\u5230\", \"\\u5f71\\u7247\", \"\\u77e5\\u9053\", \"\\u8a31\\u591a\", \"\\u66dd\\u5149\", \"\\u5df2\\u7d93\", \"\\u4e00\\u8d77\", \"\\u7576\\u6642\", \"\\u6700\\u5f8c\", \"\\u6295\\u624b\", \"\\u80b2\\u6210\", \"\\u6649\\u7d1a\", \"\\u5927\\u8c37\", \"\\u4ee5\\u6bd4\", \"\\u5c0d\\u624b\", \"\\u65e5\\u672c\\u968a\", \"\\u5148\\u767c\", \"\\u6572\\u51fa\", \"\\u71b1\\u8eab\\u8cfd\", \"\\u7fd4\\u5e73\", \"\\u5168\\u58d8\\u6253\", \"\\u5f37\\u8cfd\", \"\\u5f97\\u5206\", \"\\u7fbd\\u7403\", \"\\u53e4\\u5df4\\u968a\", \"\\u516c\\u958b\\u8cfd\", \"\\u5149\\u5fa9\", \"\\u7403\\u8a55\", \"\\u5169\\u968a\", \"\\u5931\\u5206\", \"\\u7d42\\u5834\", \"\\u6797\\u5cb3\\u5e73\", \"\\u4e8c\\u58d8\", \"\\u4e09\\u632f\", \"\\u5b89\\u6253\", \"\\u6797\\u5b50\", \"\\u51a0\\u8ecd\\u8cfd\", \"\\u6bd4\\u6578\", \"\\u6234\\u8cc7\\u7a4e\", \"\\u5df4\\u62ff\\u99ac\", \"\\u4e2d\\u83ef\\u968a\", \"\\u9818\\u5148\", \"\\u53e4\\u5df4\", \"\\u9ad8\\u4e2d\", \"\\u64ca\\u6557\", \"\\u4ea4\\u624b\", \"\\u4e2d\\u8077\", \"\\u8077\\u68d2\", \"\\u7e3d\\u6559\\u7df4\", \"\\u62ff\\u4e0b\", \"\\u6bd4\\u8cfd\", \"\\u7d93\\u5178\", \"\\u6771\\u68ee\", \"\\u8377\\u862d\", \"\\u51a0\\u8ecd\", \"\\u7403\\u54e1\", \"\\u68d2\\u7403\", \"\\u65e5\\u672c\", \"\\u7fa9\\u5927\\u5229\", \"\\u4eca\\u5929\", \"\\u4e16\\u754c\", \"\\u8868\\u73fe\", \"\\u7403\\u968a\", \"\\u6700\\u5f8c\", \"\\u6700\\u7d42\", \"\\u8cfd\\u4e8b\", \"\\u7403\\u8ff7\", \"\\u53f0\\u7063\", \"\\u806f\\u76df\", \"\\u8b66\\u65b9\", \"\\u4e08\\u592b\", \"\\u7537\\u7ae5\", \"\\u9001\\u91ab\", \"\\u99d5\\u99db\", \"\\u75c5\\u6bd2\", \"\\u5bb6\\u5c6c\", \"\\u5c08\\u7dda\", \"\\u4e1f\\u59b9\", \"\\u9678\\u5a92\", \"\\u623f\\u5b50\", \"\\u72af\\u7f6a\", \"\\u8ce0\\u511f\", \"\\u524d\\u59bb\", \"\\u8eca\\u798d\", \"\\u6253\\u96fb\\u8a71\", \"\\u63a5\\u7a2e\", \"\\u5973\\u7ae5\", \"\\u6b7b\\u8005\", \"\\u7028\\u6606\\u59ae\", \"\\u9001\\u5f80\", \"\\u8a50\\u9a19\", \"\\u5c4d\\u9ad4\", \"\\u6436\\u6551\", \"\\u6797\\u5fd7\\u7a4e\", \"\\u52fe\\u60e1\", \"\\u9130\\u5c45\", \"\\u967d\\u6027\", \"\\u4e00\\u8f1b\", \"\\u8d77\\u8a34\", \"\\u91ab\\u9662\", \"\\u958b\\u8eca\", \"\\u78ba\\u8a3a\", \"\\u4e8b\\u767c\", \"\\u5831\\u8b66\", \"\\u4e00\\u540d\", \"\\u9694\\u96e2\", \"\\u7537\\u5b50\", \"\\u75c7\\u72c0\", \"\\u75ab\\u82d7\", \"\\u5973\\u5b50\", \"\\u767c\\u73fe\", \"\\u767c\\u751f\", \"\\u9019\\u8d77\", \"\\u9019\\u540d\", \"\\u6cbb\\u7642\", \"\\u53f0\\u5e63\", \"\\u8abf\\u67e5\", \"\\u5c0e\\u81f4\", \"\\u6a21\\u4eff\", \"\\u842c\\u5143\", \"\\u5831\\u5c0e\", \"\\u56b4\\u91cd\", \"\\u91ab\\u5e2b\", \"\\u6c92\\u60f3\\u5230\", \"\\u4e8b\\u5f8c\", \"\\u4e8b\\u4ef6\", \"\\u5b69\\u5b50\", \"\\u884c\\u70ba\", \"\\u7576\\u5730\", \"\\u9910\\u5ef3\", \"\\u6aa2\\u67e5\", \"\\u60c5\\u6cc1\", \"\\u76ee\\u524d\", \"\\u5f71\\u7247\", \"\\u51fa\\u73fe\", \"\\u8868\\u793a\", \"\\u7a81\\u7136\", \"\\u7576\\u6642\", \"\\u9032\\u884c\", \"\\u75ab\\u60c5\", \"\\u5df2\\u7d93\", \"\\u6c11\\u773e\", \"\\u6307\\u51fa\", \"\\u6700\\u5f8c\", \"\\u5927\\u9678\", \"\\u7db2\\u53cb\", \"\\u6c6a\\u5c0f\\u83f2\", \"\\u5c0f\\u751c\\u751c\", \"\\u738b\\u529b\\u5b8f\", \"\\u6559\\u6703\", \"\\u5bb6\\u66b4\", \"\\u7fd2\\u8fd1\\u5e73\", \"\\u9038\\u6c11\", \"\\u88f4\\u6d1b\\u897f\", \"\\u4e2d\\u5171\", \"\\u548c\\u5f26\", \"\\u6cd5\\u6848\", \"\\u63d0\\u544a\", \"\\u9928\\u9577\", \"\\u5b8b\\u5148\\u751f\", \"\\u7f8e\\u65b9\", \"\\u674e\\u975a\\u857e\", \"\\u5f35\\u7a4e\\u7a4e\", \"\\u53cd\\u5c0d\", \"\\u5f35\\u862d\", \"\\u522a\\u9664\", \"\\u8a55\\u8ad6\", \"\\u85dd\\u8d77\", \"\\u66b4\\u529b\", \"\\u4f01\\u696d\", \"\\u8389\\u5a6d\", \"\\u6587\\u4ef6\", \"\\u99ac\\u65af\\u514b\", \"\\u751c\\u751c\", \"\\u8b70\\u9662\", \"\\u514b\\u7acb\", \"\\u4e2d\\u570b\", \"\\u4e3b\\u5e2d\", \"\\u6295\\u8cc7\", \"\\u793e\\u6703\", \"\\u8072\\u660e\", \"\\u7206\\u6599\", \"\\u5927\\u9678\", \"\\u767c\\u8868\", \"\\u8a00\\u8ad6\", \"\\u5317\\u4eac\", \"\\u6307\\u63a7\", \"\\u516c\\u53f8\", \"\\u5f37\\u8abf\", \"\\u6cd5\\u9662\", \"\\u5167\\u5bb9\", \"\\u9053\\u6b49\", \"\\u8981\\u6c42\", \"\\u5c0d\\u6b64\", \"\\u53f0\\u7063\", \"\\u91dd\\u5c0d\", \"\\u56de\\u61c9\", \"\\u554f\\u984c\", \"\\u63d0\\u51fa\", \"\\u8a8d\\u70ba\", \"\\u6307\\u51fa\", \"\\u505a\\u51fa\", \"\\u8868\\u793a\", \"\\u5a92\\u9ad4\", \"\\u652f\\u6301\", \"\\u95dc\\u4fc2\", \"\\u76f8\\u95dc\", \"\\u5f15\\u767c\", \"\\u4e8b\\u4ef6\", \"\\u96e2\\u5a5a\", \"\\u6c7a\\u5b9a\", \"\\u7f8e\\u570b\", \"\\u6240\\u6709\", \"\\u7db2\\u53cb\", \"\\u906d\\u5230\", \"\\u5e0c\\u671b\", \"\\u970d\\u83ef\\u5fb7\", \"\\u96f2\\u8c79\", \"\\u9b54\\u7378\", \"\\u52a0\\u76df\", \"\\u51ac\\u5967\", \"\\u6797\\u66f8\\u8c6a\", \"\\u7dad\\u62c9\", \"\\u8ce0\\u7387\", \"\\u738b\\u5efa\\u6c11\", \"\\u8077\\u7c43\", \"\\u6ed1\\u51b0\", \"\\u6c38\\u8c50\", \"\\u958b\\u7403\", \"\\u90c1\\u5a77\", \"\\u5165\\u5834\", \"\\u904b\\u5f69\", \"\\u62ab\\u4e0a\", \"\\u4e9e\\u904b\", \"\\u53f0\\u4e2d\\u5e02\", \"\\u4e0b\\u6ce8\", \"\\u62f3\\u64ca\", \"\\u66fc\\u806f\", \"\\u5b63\\u5f8c\\u8cfd\", \"\\u76e7\\u79c0\\u71d5\", \"\\u6597\\u516d\", \"\\u6536\\u8996\", \"\\u653b\\u57ce\", \"\\u7c43\\u58c7\", \"\\u540d\\u4eba\\u5802\", \"\\u7279\\u653b\", \"\\u7403\\u5718\", \"\\u5165\\u9078\", \"\\u6843\\u5712\", \"\\u5f69\\u5238\", \"\\u7403\\u5b63\", \"\\u92fc\\u9435\", \"\\u7c3d\\u540d\", \"\\u5566\\u5566\\u968a\", \"\\u7403\\u8863\", \"\\u9032\\u5834\", \"\\u5834\\u5730\", \"\\u9078\\u624b\", \"\\u7403\\u8ff7\", \"\\u6253\\u7403\", \"\\u9ad8\\u96c4\", \"\\u6230\\u888d\", \"\\u53c3\\u8cfd\", \"\\u7403\\u661f\", \"\\u7c43\\u7403\", \"\\u7403\\u5834\", \"\\u806f\\u76df\", \"\\u53f0\\u7063\", \"\\u904b\\u52d5\", \"\\u6559\\u7df4\", \"\\u8a13\\u7df4\", \"\\u7403\\u54e1\", \"\\u8cfd\\u4e8b\", \"\\u8209\\u8fa6\", \"\\u5967\\u904b\", \"\\u7576\\u500b\", \"\\u68d2\\u7403\", \"\\u53c3\\u52a0\", \"\\u7403\\u968a\", \"\\u7d93\\u5178\", \"\\u8ffd\\u8e64\", \"\\u6bd4\\u8cfd\", \"\\u5feb\\u4f86\", \"\\u52a0\\u6cb9\", \"\\u4e16\\u754c\", \"\\u670b\\u53cb\", \"\\u540d\\u55ae\", \"\\u8868\\u793a\", \"\\u4eca\\u5e74\", \"\\u5e0c\\u671b\", \"\\u7f8e\\u570b\", \"\\u9019\\u6b21\", \"\\u6e96\\u5099\", \"\\u4eca\\u5929\", \"\\u70cf\\u514b\\u862d\", \"\\u4fc4\\u7f85\\u65af\", \"\\u4fc4\\u8ecd\", \"\\u4fc4\\u570b\", \"\\u6885\\u897f\", \"\\u6469\\u6d1b\\u54e5\", \"\\u514b\\u7f85\", \"\\u666e\\u4e01\", \"\\u8461\\u8404\\u7259\", \"\\u57fa\\u8f14\", \"\\u4e16\\u8db3\", \"\\u5317\\u97d3\", \"\\u502b\\u65af\\u57fa\", \"\\u5c04\\u9580\", \"\\u5236\\u88c1\", \"\\u8db3\\u7403\\u8cfd\", \"\\u82f1\\u683c\\u862d\", \"\\u5b89\\u500d\", \"\\u6b50\\u76df\", \"\\u8ecd\\u4e8b\", \"\\u6ce2\\u862d\", \"\\u5317\\u7d04\", \"\\u8def\\u900f\\u793e\", \"\\u6cd5\\u570b\\u968a\", \"\\u4f0a\\u6717\", \"\\u58eb\\u5175\", \"\\u745e\\u58eb\", \"\\u8fe6\\u7d0d\", \"\\u90e8\\u968a\", \"\\u7acb\\u9676\\u5b9b\", \"\\u963f\\u6839\\u5ef7\", \"\\u6230\\u722d\", \"\\u98db\\u5f48\", \"\\u9032\\u7403\", \"\\u5730\\u9707\", \"\\u767c\\u5c04\", \"\\u5165\\u4fb5\", \"\\u6cd5\\u570b\", \"\\u5361\\u9054\", \"\\u6b50\\u6d32\", \"\\u4e16\\u754c\\u76c3\", \"\\u5df4\\u897f\", \"\\u571f\\u8033\\u5176\", \"\\u62dc\\u767b\", \"\\u7e3d\\u7d71\", \"\\u897f\\u73ed\\u7259\", \"\\u570b\\u5bb6\", \"\\u7f8e\\u570b\", \"\\u5b98\\u54e1\", \"\\u5831\\u5c0e\", \"\\u5357\\u97d3\", \"\\u8868\\u793a\", \"\\u4eca\\u5929\", \"\\u65e5\\u672c\", \"\\u76ee\\u524d\", \"\\u6642\\u9593\", \"\\u6307\\u51fa\", \"\\u5df2\\u7d93\", \"\\u9032\\u884c\", \"\\u65c5\\u904a\", \"\\u73a9\\u6cd5\"], \"Freq\": [1439.0, 1686.0, 1641.0, 1089.0, 1875.0, 2877.0, 1882.0, 1420.0, 1568.0, 1264.0, 1057.0, 939.0, 1193.0, 828.0, 876.0, 1653.0, 1170.0, 1215.0, 1817.0, 2234.0, 908.0, 1163.0, 875.0, 739.0, 1711.0, 1338.0, 829.0, 612.0, 496.0, 593.0, 401.6155669207672, 348.6675679983507, 344.6714926079796, 335.6803229796447, 303.71171985667627, 273.7411544288933, 253.76077747703803, 234.77941937277552, 230.78334398240446, 225.78824974444063, 222.79119320166234, 220.79315550647684, 209.80394818295642, 199.81375970702877, 191.82160892628664, 188.82455238350838, 185.82749584073008, 182.83043929795178, 171.8412319744314, 170.8422131268386, 166.84613773646754, 164.84810004128204, 163.84908119368924, 146.86576078461226, 140.8716476990557, 139.8726288514629, 136.87557230868464, 136.87557230868464, 128.88342152794252, 128.88342152794252, 509.5096024607857, 678.3437877039629, 194.81866546906494, 1086.9424963694034, 253.76077747703803, 675.3467311611846, 953.0739707919731, 596.4242422013562, 553.4664317548674, 482.5360935757811, 1664.375390278021, 987.040611610127, 322.6930779609388, 293.7215313807486, 475.5429616426318, 909.1171414978915, 339.67639837001576, 461.556697776333, 553.4664317548674, 435.58220773892117, 585.4350348778358, 453.5645469955909, 503.51548937522915, 800.2240871102802, 444.57337736725606, 527.4919417174555, 1386.6481506472328, 707.315334284153, 605.415411829691, 520.4988097843061, 589.4311102682068, 673.3486934659991, 515.5037155463423, 543.4762432789397, 484.53413127096655, 673.3486934659991, 537.4821301933831, 538.4811490409759, 484.53413127096655, 827.9558131918485, 612.2304834015694, 569.2851631192453, 556.3016941966822, 539.3233117594843, 517.3512874289929, 363.5471171155532, 318.6043400759117, 309.6157846679834, 296.6323157454203, 291.63867385212683, 287.64376033749204, 257.68190897773104, 255.68445222041365, 240.70352654053318, 231.71497113260486, 211.74040355943086, 206.7467616661374, 203.75057653016128, 197.75820625820907, 197.75820625820907, 183.77600895698728, 177.7836386850351, 173.7887251704003, 171.79126841308292, 170.7925400344242, 166.7976265197894, 161.8039846264959, 158.8077994905198, 154.812885975885, 341.5750927850618, 1625.9397877401493, 423.4708198350752, 349.5649198143314, 701.1173091021936, 433.45810362166213, 218.73150221004178, 207.74549004479607, 278.65520492956375, 383.5216846887272, 620.2203104308389, 1268.395028180335, 1215.4624241114238, 471.4097820106927, 339.5776360277444, 436.45428875763827, 870.9011334741725, 706.1109509954872, 874.8960469888074, 458.4263130881297, 884.8833307753944, 708.1084077528045, 416.47972118446427, 449.43775768020134, 543.3182252741192, 388.5153265820207, 432.4593752430035, 517.3512874289929, 505.36654688508855, 387.516598203362, 593.2166071503764, 260.66138050255, 163.79093910663664, 155.80162435233453, 137.82566615515472, 136.82700181086693, 129.83635140085255, 126.8403583679893, 122.84570099083821, 118.85104361368715, 115.85505058082384, 109.86306451509725, 108.86440017080947, 104.86974279365842, 104.86974279365842, 102.87241410508287, 102.87241410508287, 100.87508541650735, 98.87775672793181, 95.88176369506851, 95.88176369506851, 89.8897776293419, 88.89111328505413, 85.89512025219084, 82.89912721932754, 82.89912721932754, 81.90046287503978, 78.90446984217647, 75.90847680931317, 73.91114812073764, 542.2847255917003, 125.8416940237015, 328.5705559141182, 135.82833746657917, 134.8296731222914, 1164.4526120829792, 164.7896034509244, 632.1645165775993, 137.82566615515472, 203.73751287814733, 611.1925653475562, 920.778512076764, 935.7584772410805, 159.79628172948557, 234.69610755106808, 238.69076492821918, 373.5104514070677, 296.6132968969097, 399.47572435854966, 156.80028869662226, 365.52113665276556, 926.7704981424905, 308.59726902836286, 198.7441911567085, 456.39959198295236, 235.69477189535584, 357.5318218984634, 543.283389935988, 264.6560378797011, 325.57456288125485, 175.77491123808986, 185.76155468096752, 296.6132968969097, 534.2954108373982, 529.3020891159593, 386.4930878828087, 872.8426235509511, 326.57322722554267, 436.42630509719703, 395.48106698139856, 306.59994033978734, 457.3982563272401, 309.5959333726506, 360.5278149313267, 359.52915058703894, 329.56922025840595, 316.586583782665, 327.45508728718113, 193.6817825206122, 174.71392587460613, 173.71561763007952, 165.72915167386645, 146.7612950278604, 118.8086641811147, 117.81035593658805, 100.83911577963526, 99.84080753510864, 99.84080753510864, 98.84249929058201, 95.8475745570021, 94.84926631247548, 91.85434157889559, 89.8577250898423, 86.8628003562624, 85.86449211173577, 85.86449211173577, 82.86956737815588, 82.86956737815588, 75.88140966646944, 73.88479317741617, 70.88986844383626, 68.893251954783, 65.89832722120309, 63.90171073214983, 62.90340248762319, 62.90340248762319, 58.91016950951665, 1150.0610807771272, 102.83573226868855, 108.82558173584835, 170.72069289649963, 221.63441336735795, 260.5684349038967, 711.8037614299351, 118.8086641811147, 113.8171229584815, 235.61072879073083, 181.70208358629262, 372.37895829087967, 301.49907292948865, 123.80020540374785, 206.65978969945843, 185.69531656439912, 264.5616678820032, 333.4449367543409, 860.5516898644034, 222.6327216118846, 299.50245644043537, 324.4601625536012, 166.72745991839307, 393.34343142593895, 409.3163633383651, 180.70377534176595, 754.7310159445803, 275.54305857179617, 240.602270013364, 213.64794741114486, 223.6310298564112, 234.6124205462042, 223.6310298564112, 207.6580979439851, 223.6310298564112, 264.5616678820032, 200.66994023229861, 235.61072879073083, 198.67332374324536, 201.66824847682528, 358.37916415099346, 284.5091935452345, 249.57069393440258, 158.73059494623956, 156.73410925419202, 132.77628094962157, 127.78506671950271, 125.7885810274552, 101.83075272288472, 90.85008141662327, 78.87116726433803, 74.87819588024296, 72.88171018819541, 70.88522449614787, 56.90982465181509, 55.91158180579132, 52.916853267720015, 50.92036757567248, 47.925639037601165, 45.92915334555363, 43.93266765350609, 42.93442480748232, 41.93618196145855, 40.93793911543478, 40.93793911543478, 39.939696269411016, 39.939696269411016, 39.939696269411016, 37.94321057736348, 37.94321057736348, 207.64449440140427, 125.7885810274552, 216.6286800156182, 56.90982465181509, 114.80790972119374, 78.87116726433803, 106.82196695300357, 269.53555085487795, 99.83426703083718, 128.78330956552648, 61.901038881933935, 694.7870032610037, 1124.0314270512247, 126.78682387347897, 135.77100948769288, 66.8922531120528, 173.7042376365961, 298.4845933895673, 124.79033818143142, 191.67260886502396, 515.1032909767252, 1167.9541122762705, 246.5759653963313, 357.38092130496966, 191.67260886502396, 697.7817317990751, 443.2298060630139, 222.61813709176081, 185.68315178888136, 344.40376430666066, 487.1524912880597, 303.4758076196861, 380.34050676351643, 622.9135183472923, 366.3651069191836, 598.9556900427218, 323.44066454016155, 245.57772255030753, 413.2825206823008, 385.33172099363526, 219.6234085536895, 387.3282066856828, 249.57069393440258, 275.5250079310206, 265.5425794707829, 237.59177978211738, 226.61110847585587, 230.60407985995096, 1439.4466650645438, 1089.0706070360595, 440.22605513145857, 283.5051402868088, 254.55669104798812, 252.56024627289705, 242.57802239744166, 224.61001942162193, 215.6260179337121, 210.63490599598435, 171.70423288170832, 158.72734184361627, 147.74689558061533, 144.75222841797873, 141.75756125534213, 128.78067021725008, 128.78067021725008, 127.78244782970455, 126.78422544215903, 124.78778066706796, 121.79311350443133, 108.81622246633931, 103.82511052861162, 102.82688814106608, 99.83222097842945, 98.83399859088391, 95.83933142824729, 95.83933142824729, 94.84110904070175, 94.84110904070175, 492.1336192838266, 291.4909193871731, 189.67223585752802, 314.4500343007205, 216.62424032125762, 120.7948911168858, 195.66157018280128, 419.2633849930022, 390.3149357541816, 237.58691045971398, 711.7425445438454, 266.5353596985346, 163.718453781344, 234.59224329707732, 465.181614820097, 219.61890748389422, 470.17272675782476, 820.5487847863093, 186.67756869489142, 487.1425073460989, 268.5318044736257, 549.0322953739224, 399.2989372420914, 382.3291566538172, 319.4411462384482, 268.5318044736257, 269.5300268611712, 276.51758357399, 253.5584686604426, 240.58157762235058, 238.5851328472595], \"Total\": [1439.0, 1686.0, 1641.0, 1089.0, 1875.0, 2877.0, 1882.0, 1420.0, 1568.0, 1264.0, 1057.0, 939.0, 1193.0, 828.0, 876.0, 1653.0, 1170.0, 1215.0, 1817.0, 2234.0, 908.0, 1163.0, 875.0, 739.0, 1711.0, 1338.0, 829.0, 612.0, 496.0, 593.0, 401.66548858277764, 348.71748966036114, 344.72141426999, 335.73024464165513, 303.7616415186867, 273.79107609090374, 253.81069913904847, 234.82934103478595, 230.8332656444149, 225.83817140645107, 222.84111486367277, 220.84307716848727, 209.85386984496685, 199.8636813690392, 191.87153058829708, 188.8744740455188, 185.8774175027405, 182.88036095996222, 171.89115363644183, 170.89213478884903, 166.89605939847797, 164.89802170329247, 163.89900285569968, 146.9156824466227, 140.92156936106613, 139.92255051347334, 136.92549397069507, 136.92549397069507, 128.93334318995295, 128.93334318995295, 515.5515101885228, 689.3751000557663, 195.86682997709914, 1163.8571171752442, 258.80434103234194, 745.2759118015699, 1098.918909568079, 663.3608162466511, 614.4116158761806, 530.50481097507, 2234.5797656033956, 1239.7368344872646, 353.6882370647853, 317.74093413056784, 560.4793525691024, 1213.7192539834564, 379.6754551783742, 554.4816912575835, 694.2763117295673, 534.4713677551814, 823.1391566475581, 589.4144303619006, 694.2485877538076, 1398.4087385071316, 616.3671255972785, 812.1545886019208, 4188.289633606926, 1396.2689631187482, 1071.7032869677325, 834.050252913224, 1069.7876082951602, 1413.3288633477232, 857.0633991465218, 980.8316349522804, 758.2025615361913, 1804.7016687156442, 1053.7493590884767, 1145.6965464939094, 1500.2114643741154, 828.0057377585483, 612.2804079682692, 569.3350876859452, 556.351618763382, 539.3732363261842, 517.4012119956927, 363.59704168225295, 318.65426464261145, 309.66570923468316, 296.6822403121201, 291.6885984188266, 287.6936849041918, 257.7318335444308, 255.73437678711343, 240.75345110723296, 231.76489569930465, 211.79032812613065, 206.79668623283717, 203.80050109686107, 197.80813082490886, 197.80813082490886, 183.82593352368707, 177.8335632517349, 173.8386497371001, 171.8411929797827, 170.842464601124, 166.84755108648918, 161.85390919319568, 158.8577240572196, 154.86281054258478, 343.6214621268527, 1686.882525914299, 428.51185633950263, 352.6095115436678, 739.1242778245385, 449.4795863890905, 220.7786680118799, 210.79247115427412, 292.6913933625622, 433.4837515566154, 778.0061226110151, 1875.3828111420387, 1882.3727138910374, 602.2711370725368, 394.53069208249093, 577.2704226419314, 1568.7228074114873, 1193.3033844217866, 1711.768736674152, 634.1668638502798, 1926.2713735929258, 1338.1383144962522, 635.207007848375, 829.8182065819573, 1500.2114643741154, 606.2710267122628, 875.7291234442569, 1641.4226566184573, 2877.4190394648253, 908.6491656436, 593.2665323574199, 260.7113057095935, 163.84086431368013, 155.85154955937801, 137.8755913621982, 136.87692701791042, 129.88627660789604, 126.89028357503275, 122.89562619788167, 118.90096882073061, 115.9049757878673, 109.91298972214071, 108.91432537785293, 104.91966800070188, 104.91966800070188, 102.92233931212633, 102.92233931212633, 100.9250106235508, 98.92768193497527, 95.93168890211197, 95.93168890211197, 89.93970283638537, 88.94103849209759, 85.9450454592343, 82.949052426371, 82.949052426371, 81.95038808208324, 78.95439504921993, 75.95840201635663, 73.9610733277811, 548.3287638843004, 126.8898416182905, 342.5978230960341, 137.8748791626759, 136.87621481838815, 1264.3596610750587, 168.83393618148952, 699.1042816734589, 140.87177649817428, 214.76882877498377, 742.0210429711423, 1170.558278074684, 1215.328748902444, 168.83020842443892, 264.69280667686894, 275.7023542136565, 470.40071121793386, 357.55865130838026, 527.3102955612317, 168.8384400747789, 488.35881618181213, 1653.5430686464804, 408.4751213522798, 232.76075718190597, 780.1139052050735, 304.66302955805816, 581.2027938794728, 1112.6518345435327, 379.51212181037357, 548.2353894297985, 203.77563613379888, 223.76265228592843, 495.34977214981234, 1369.1019965333937, 1413.3288633477232, 815.9692839481022, 4188.289633606926, 630.3089435817562, 1145.6965464939094, 1039.4538087152218, 568.2006059797715, 1804.7016687156442, 612.110179637584, 1146.2292589372723, 1500.2114643741154, 1057.3925778714786, 2234.5797656033956, 327.50501605522226, 193.73171128865326, 174.7638546426472, 173.7655463981206, 165.77908044190752, 146.81122379590147, 118.85859294915578, 117.86028470462914, 100.88904454767635, 99.89073630314972, 99.89073630314972, 98.8924280586231, 95.89750332504319, 94.89919508051656, 91.90427034693667, 89.90765385788339, 86.91272912430348, 85.91442087977686, 85.91442087977686, 82.91949614619696, 82.91949614619696, 75.93133843451052, 73.93472194545726, 70.93979721187735, 68.94318072282408, 65.94825598924417, 63.951639500190915, 62.953331255664274, 62.953331255664274, 58.960098277557734, 1420.7420497497012, 106.88057455136442, 113.87060474185324, 189.74524420600827, 261.6185411181274, 323.53051040116014, 1057.3925778714786, 129.84780027267618, 124.856259050043, 309.53062816453087, 224.69281133173877, 602.1111487885072, 462.3473595587141, 141.82609236896874, 295.62065308965117, 256.6755835115265, 448.3345347052876, 648.1377072356831, 2877.4190394648253, 352.46903024683206, 572.2791615850638, 657.0591566572501, 228.69036304963572, 986.6322157830068, 1146.2292589372723, 285.63393571462615, 4188.289633606926, 714.0286166283202, 550.1997723625955, 444.44873433704265, 524.2296593830923, 614.1950326224768, 581.2027938794728, 435.48432396317645, 623.1573447362687, 1817.080888654563, 497.29913749002054, 2234.5797656033956, 511.27006554021796, 1396.2689631187482, 358.4290935730196, 284.55912296726063, 249.6206233564287, 158.78052436826567, 156.78403867621813, 132.82621037164768, 127.83499614152882, 125.8385104494813, 101.88068214491084, 90.90001083864938, 78.92109668636414, 74.92812530226907, 72.93163961022152, 70.93515391817398, 56.959754073841204, 55.96151122781743, 52.966782689746125, 50.97029699769859, 47.975568459627276, 45.97908276757974, 43.9825970755322, 42.98435422950843, 41.98611138348466, 40.98786853746089, 40.98786853746089, 39.989625691437126, 39.989625691437126, 39.989625691437126, 37.99313999938959, 37.99313999938959, 209.69188058074778, 128.8346955854574, 231.65999261518078, 57.95841841812897, 121.84893779383074, 81.91708971922743, 113.86386643244278, 313.5423095709857, 106.87529510347419, 142.81543628877438, 63.947413079051124, 939.5253854544113, 1641.4226566184573, 144.81386411136168, 156.80033470916703, 69.9392390768572, 219.6956724769224, 435.3603106878353, 149.80847706992503, 254.64242614254815, 908.6491656436, 2877.4190394648253, 367.4945141870895, 605.1154886343533, 265.60453478622287, 1568.7228074114873, 875.7291234442569, 341.5361766364286, 260.6377096103099, 685.0200708513033, 1193.3033844217866, 563.2272242622363, 829.8182065819573, 1882.3727138910374, 801.8627358997992, 1875.3828111420387, 682.0340819006607, 426.4306019680417, 1338.1383144962522, 1220.4291618547684, 363.4683775277009, 4188.289633606926, 788.943011577869, 1396.2689631187482, 1817.080888654563, 812.9216467844983, 608.132152539818, 1926.2713735929258, 1439.4965946911548, 1089.1205366626705, 440.27598475806946, 283.5550699134197, 254.60662067459901, 252.61017589950794, 242.62795202405255, 224.65994904823282, 215.67594756032298, 210.68483562259524, 171.7541625083192, 158.77727147022716, 147.79682520722622, 144.80215804458962, 141.80749088195302, 128.83059984386097, 128.83059984386097, 127.83237745631544, 126.83415506876992, 124.83771029367885, 121.84304313104222, 108.8661520929502, 103.87504015522251, 102.87681776767697, 99.88215060504034, 98.8839282174948, 95.88926105485818, 95.88926105485818, 94.89103866731264, 94.89103866731264, 496.17652029453257, 295.53408199189056, 191.7187819731922, 327.4814907193548, 222.6682830334251, 121.84348508778446, 204.69627401015188, 465.2548200379133, 437.30509917775134, 256.6138411565764, 876.5642064090143, 294.540725494715, 170.75903381796928, 262.59480377043394, 595.0099812725987, 249.6306884702661, 734.7787525642557, 1817.080888654563, 224.6632116135144, 1653.5430686464804, 547.22358887752, 4188.289633606926, 1926.2713735929258, 1711.768736674152, 1369.1019965333937, 1030.650044883899, 1146.2292589372723, 1804.7016687156442, 1039.4538087152218, 759.0244462374268, 672.1277065689807], \"Category\": [\"Default\", \"Default\", \"Default\", \"Default\", \"Default\", \"Default\", \"Default\", \"Default\", \"Default\", \"Default\", \"Default\", \"Default\", \"Default\", \"Default\", \"Default\", \"Default\", \"Default\", \"Default\", \"Default\", \"Default\", \"Default\", \"Default\", \"Default\", \"Default\", \"Default\", \"Default\", \"Default\", \"Default\", \"Default\", \"Default\", \"Topic1\", \"Topic1\", \"Topic1\", \"Topic1\", \"Topic1\", \"Topic1\", \"Topic1\", \"Topic1\", \"Topic1\", \"Topic1\", \"Topic1\", \"Topic1\", \"Topic1\", \"Topic1\", \"Topic1\", \"Topic1\", \"Topic1\", \"Topic1\", \"Topic1\", \"Topic1\", \"Topic1\", \"Topic1\", \"Topic1\", \"Topic1\", \"Topic1\", \"Topic1\", \"Topic1\", \"Topic1\", \"Topic1\", \"Topic1\", \"Topic1\", \"Topic1\", \"Topic1\", \"Topic1\", \"Topic1\", \"Topic1\", \"Topic1\", \"Topic1\", \"Topic1\", \"Topic1\", \"Topic1\", \"Topic1\", \"Topic1\", \"Topic1\", \"Topic1\", \"Topic1\", \"Topic1\", \"Topic1\", \"Topic1\", \"Topic1\", \"Topic1\", \"Topic1\", \"Topic1\", \"Topic1\", \"Topic1\", \"Topic1\", \"Topic1\", \"Topic1\", \"Topic1\", \"Topic1\", \"Topic1\", \"Topic1\", \"Topic1\", \"Topic1\", \"Topic1\", \"Topic1\", \"Topic1\", \"Topic1\", \"Topic1\", \"Topic2\", \"Topic2\", \"Topic2\", \"Topic2\", \"Topic2\", \"Topic2\", \"Topic2\", \"Topic2\", \"Topic2\", \"Topic2\", \"Topic2\", \"Topic2\", \"Topic2\", \"Topic2\", \"Topic2\", \"Topic2\", \"Topic2\", \"Topic2\", \"Topic2\", \"Topic2\", \"Topic2\", \"Topic2\", \"Topic2\", \"Topic2\", \"Topic2\", \"Topic2\", \"Topic2\", \"Topic2\", \"Topic2\", \"Topic2\", \"Topic2\", \"Topic2\", \"Topic2\", \"Topic2\", \"Topic2\", \"Topic2\", \"Topic2\", \"Topic2\", \"Topic2\", \"Topic2\", \"Topic2\", \"Topic2\", \"Topic2\", \"Topic2\", \"Topic2\", \"Topic2\", \"Topic2\", \"Topic2\", \"Topic2\", \"Topic2\", \"Topic2\", \"Topic2\", \"Topic2\", \"Topic2\", \"Topic2\", \"Topic2\", \"Topic2\", \"Topic2\", \"Topic2\", \"Topic2\", \"Topic3\", \"Topic3\", \"Topic3\", \"Topic3\", \"Topic3\", \"Topic3\", \"Topic3\", \"Topic3\", \"Topic3\", \"Topic3\", \"Topic3\", \"Topic3\", \"Topic3\", \"Topic3\", \"Topic3\", \"Topic3\", \"Topic3\", \"Topic3\", \"Topic3\", \"Topic3\", \"Topic3\", \"Topic3\", \"Topic3\", \"Topic3\", \"Topic3\", \"Topic3\", \"Topic3\", \"Topic3\", \"Topic3\", \"Topic3\", \"Topic3\", \"Topic3\", \"Topic3\", \"Topic3\", \"Topic3\", \"Topic3\", \"Topic3\", \"Topic3\", \"Topic3\", \"Topic3\", \"Topic3\", \"Topic3\", \"Topic3\", \"Topic3\", \"Topic3\", \"Topic3\", \"Topic3\", \"Topic3\", \"Topic3\", \"Topic3\", \"Topic3\", \"Topic3\", \"Topic3\", \"Topic3\", \"Topic3\", \"Topic3\", \"Topic3\", \"Topic3\", \"Topic3\", \"Topic3\", \"Topic3\", \"Topic3\", \"Topic3\", \"Topic3\", \"Topic3\", \"Topic3\", \"Topic3\", \"Topic3\", \"Topic3\", \"Topic3\", \"Topic3\", \"Topic3\", \"Topic3\", \"Topic3\", \"Topic3\", \"Topic3\", \"Topic3\", \"Topic4\", \"Topic4\", \"Topic4\", \"Topic4\", \"Topic4\", \"Topic4\", \"Topic4\", \"Topic4\", \"Topic4\", \"Topic4\", \"Topic4\", \"Topic4\", \"Topic4\", \"Topic4\", \"Topic4\", \"Topic4\", \"Topic4\", \"Topic4\", \"Topic4\", \"Topic4\", \"Topic4\", \"Topic4\", \"Topic4\", \"Topic4\", \"Topic4\", \"Topic4\", \"Topic4\", \"Topic4\", \"Topic4\", \"Topic4\", \"Topic4\", \"Topic4\", \"Topic4\", \"Topic4\", \"Topic4\", \"Topic4\", \"Topic4\", \"Topic4\", \"Topic4\", \"Topic4\", \"Topic4\", \"Topic4\", \"Topic4\", \"Topic4\", \"Topic4\", \"Topic4\", \"Topic4\", \"Topic4\", \"Topic4\", \"Topic4\", \"Topic4\", \"Topic4\", \"Topic4\", \"Topic4\", \"Topic4\", \"Topic4\", \"Topic4\", \"Topic4\", \"Topic4\", \"Topic4\", \"Topic4\", \"Topic4\", \"Topic4\", \"Topic4\", \"Topic4\", \"Topic4\", \"Topic4\", \"Topic4\", \"Topic4\", \"Topic4\", \"Topic5\", \"Topic5\", \"Topic5\", \"Topic5\", \"Topic5\", \"Topic5\", \"Topic5\", \"Topic5\", \"Topic5\", \"Topic5\", \"Topic5\", \"Topic5\", \"Topic5\", \"Topic5\", \"Topic5\", \"Topic5\", \"Topic5\", \"Topic5\", \"Topic5\", \"Topic5\", \"Topic5\", \"Topic5\", \"Topic5\", \"Topic5\", \"Topic5\", \"Topic5\", \"Topic5\", \"Topic5\", \"Topic5\", \"Topic5\", \"Topic5\", \"Topic5\", \"Topic5\", \"Topic5\", \"Topic5\", \"Topic5\", \"Topic5\", \"Topic5\", \"Topic5\", \"Topic5\", \"Topic5\", \"Topic5\", \"Topic5\", \"Topic5\", \"Topic5\", \"Topic5\", \"Topic5\", \"Topic5\", \"Topic5\", \"Topic5\", \"Topic5\", \"Topic5\", \"Topic5\", \"Topic5\", \"Topic5\", \"Topic5\", \"Topic5\", \"Topic5\", \"Topic5\", \"Topic5\", \"Topic5\", \"Topic5\", \"Topic5\", \"Topic5\", \"Topic5\", \"Topic5\", \"Topic5\", \"Topic5\", \"Topic5\", \"Topic5\", \"Topic5\", \"Topic5\", \"Topic5\", \"Topic5\", \"Topic5\", \"Topic5\", \"Topic5\", \"Topic5\", \"Topic6\", \"Topic6\", \"Topic6\", \"Topic6\", \"Topic6\", \"Topic6\", \"Topic6\", \"Topic6\", \"Topic6\", \"Topic6\", \"Topic6\", \"Topic6\", \"Topic6\", \"Topic6\", \"Topic6\", \"Topic6\", \"Topic6\", \"Topic6\", \"Topic6\", \"Topic6\", \"Topic6\", \"Topic6\", \"Topic6\", \"Topic6\", \"Topic6\", \"Topic6\", \"Topic6\", \"Topic6\", \"Topic6\", \"Topic6\", \"Topic6\", \"Topic6\", \"Topic6\", \"Topic6\", \"Topic6\", \"Topic6\", \"Topic6\", \"Topic6\", \"Topic6\", \"Topic6\", \"Topic6\", \"Topic6\", \"Topic6\", \"Topic6\", \"Topic6\", \"Topic6\", \"Topic6\", \"Topic6\", \"Topic6\", \"Topic6\", \"Topic6\", \"Topic6\", \"Topic6\", \"Topic6\", \"Topic6\", \"Topic6\", \"Topic6\", \"Topic6\", \"Topic6\", \"Topic6\", \"Topic6\"], \"logprob\": [30.0, 29.0, 28.0, 27.0, 26.0, 25.0, 24.0, 23.0, 22.0, 21.0, 20.0, 19.0, 18.0, 17.0, 16.0, 15.0, 14.0, 13.0, 12.0, 11.0, 10.0, 9.0, 8.0, 7.0, 6.0, 5.0, 4.0, 3.0, 2.0, 1.0, -6.086, -6.2274, -6.2389, -6.2654, -6.3654, -6.4693, -6.5451, -6.6229, -6.64, -6.6619, -6.6753, -6.6843, -6.7353, -6.7841, -6.825, -6.8407, -6.8567, -6.873, -6.935, -6.9408, -6.9645, -6.9765, -6.9826, -7.092, -7.1337, -7.1408, -7.1625, -7.1625, -7.2226, -7.2226, -5.8481, -5.5619, -6.8095, -5.0904, -6.5451, -5.5663, -5.2218, -5.6906, -5.7653, -5.9025, -4.6643, -5.1868, -6.3048, -6.3989, -5.9171, -5.269, -6.2535, -5.9469, -5.7653, -6.0048, -5.7092, -5.9644, -5.8599, -5.3966, -5.9844, -5.8134, -4.8469, -5.52, -5.6756, -5.8267, -5.7024, -5.5693, -5.8364, -5.7835, -5.8983, -5.5693, -5.7946, -5.7928, -5.8983, -4.9308, -5.2327, -5.3054, -5.3285, -5.3595, -5.4011, -5.7539, -5.8858, -5.9144, -5.9573, -5.9743, -5.9881, -6.098, -6.1058, -6.1662, -6.2043, -6.2944, -6.3183, -6.3329, -6.3627, -6.3627, -6.4361, -6.4692, -6.4919, -6.5035, -6.5093, -6.533, -6.5634, -6.5821, -6.6076, -5.8162, -4.2559, -5.6013, -5.7931, -5.0971, -5.578, -6.2619, -6.3135, -6.0198, -5.7004, -5.2197, -4.5043, -4.5469, -5.494, -5.8221, -5.5711, -4.8802, -5.09, -4.8757, -5.522, -4.8643, -5.0872, -5.6179, -5.5418, -5.3521, -5.6874, -5.5803, -5.4011, -5.4245, -5.69, -5.2434, -6.0657, -6.5304, -6.5804, -6.703, -6.7102, -6.7627, -6.786, -6.818, -6.8511, -6.8766, -6.9297, -6.9389, -6.9762, -6.9762, -6.9955, -6.9955, -7.0151, -7.0351, -7.0659, -7.0659, -7.1304, -7.1416, -7.1758, -7.2113, -7.2113, -7.2235, -7.2607, -7.2994, -7.3261, -5.3332, -6.7939, -5.8342, -6.7176, -6.725, -4.569, -6.5243, -5.1798, -6.703, -6.3121, -5.2136, -4.8037, -4.7876, -6.5551, -6.1707, -6.1538, -5.706, -5.9365, -5.6388, -6.574, -5.7276, -4.7973, -5.8969, -6.3369, -5.5056, -6.1664, -5.7497, -5.3313, -6.0505, -5.8434, -6.4598, -6.4045, -5.9365, -5.348, -5.3574, -5.6719, -4.8572, -5.8403, -5.5503, -5.6489, -5.9034, -5.5034, -5.8937, -5.7414, -5.7442, -5.8312, -5.8714, -5.4663, -5.9915, -6.0945, -6.1003, -6.1473, -6.2689, -6.4802, -6.4886, -6.6442, -6.6541, -6.6541, -6.6642, -6.6949, -6.7054, -6.7375, -6.7595, -6.7934, -6.8049, -6.8049, -6.8404, -6.8404, -6.9285, -6.9552, -6.9966, -7.0251, -7.0696, -7.1003, -7.1161, -7.1161, -7.1817, -4.2101, -6.6246, -6.5679, -6.1177, -5.8567, -5.6948, -4.6899, -6.4802, -6.5231, -5.7955, -6.0553, -5.3378, -5.5489, -6.439, -5.9266, -6.0336, -5.6796, -5.4482, -4.5001, -5.8522, -5.5556, -5.4755, -6.1413, -5.283, -5.2432, -6.0608, -4.6313, -5.6389, -5.7745, -5.8934, -5.8477, -5.7998, -5.8477, -5.9218, -5.8477, -5.6796, -5.956, -5.7955, -5.966, -5.9511, -5.3434, -5.5742, -5.7053, -6.1578, -6.1704, -6.3363, -6.3746, -6.3904, -6.6017, -6.7158, -6.8572, -6.9091, -6.9362, -6.9639, -7.1835, -7.2012, -7.2563, -7.2947, -7.3553, -7.3979, -7.4423, -7.4653, -7.4888, -7.5129, -7.5129, -7.5376, -7.5376, -7.5376, -7.5889, -7.5889, -5.8892, -6.3904, -5.8468, -7.1835, -6.4817, -6.8572, -6.5538, -5.6283, -6.6215, -6.3669, -7.0995, -4.6814, -4.2003, -6.3825, -6.314, -7.0219, -6.0676, -5.5263, -6.3984, -5.9692, -4.9806, -4.162, -5.7173, -5.3462, -5.9692, -4.6771, -5.1309, -5.8195, -6.001, -5.3832, -5.0364, -5.5097, -5.2839, -4.7906, -5.3214, -4.8298, -5.446, -5.7214, -5.2009, -5.2709, -5.8331, -5.2657, -5.7053, -5.6063, -5.6432, -5.7544, -5.8018, -5.7843, -3.9515, -4.2304, -5.1362, -5.5763, -5.684, -5.6919, -5.7322, -5.8092, -5.85, -5.8734, -6.0777, -6.1563, -6.228, -6.2485, -6.2694, -6.3654, -6.3654, -6.3732, -6.381, -6.3969, -6.4212, -6.5339, -6.5808, -6.5905, -6.62, -6.6301, -6.6608, -6.6608, -6.6713, -6.6713, -5.0248, -5.5485, -5.9782, -5.4727, -5.8454, -6.4294, -5.9471, -5.185, -5.2566, -5.753, -4.6558, -5.638, -6.1254, -5.7657, -5.0811, -5.8316, -5.0704, -4.5135, -5.9941, -5.035, -5.6306, -4.9154, -5.2338, -5.2772, -5.4569, -5.6306, -5.6268, -5.6012, -5.6879, -5.7405, -5.7488], \"loglift\": [30.0, 29.0, 28.0, 27.0, 26.0, 25.0, 24.0, 23.0, 22.0, 21.0, 20.0, 19.0, 18.0, 17.0, 16.0, 15.0, 14.0, 13.0, 12.0, 11.0, 10.0, 9.0, 8.0, 7.0, 6.0, 5.0, 4.0, 3.0, 2.0, 1.0, 1.2732, 1.2732, 1.2732, 1.2732, 1.2732, 1.2732, 1.2731, 1.2731, 1.2731, 1.2731, 1.2731, 1.2731, 1.2731, 1.2731, 1.2731, 1.2731, 1.2731, 1.2731, 1.273, 1.273, 1.273, 1.273, 1.273, 1.273, 1.273, 1.273, 1.273, 1.273, 1.273, 1.273, 1.2615, 1.2572, 1.268, 1.205, 1.2537, 1.1748, 1.1309, 1.167, 1.1689, 1.1786, 0.9787, 1.0454, 1.1816, 1.1947, 1.109, 0.9844, 1.162, 1.0899, 1.0467, 1.0687, 0.9326, 1.0113, 0.9521, 0.7151, 0.9466, 0.8418, 0.1679, 0.5933, 0.7022, 0.8018, 0.6773, 0.5319, 0.765, 0.6829, 0.8256, 0.2875, 0.6001, 0.5183, 0.1432, 1.705, 1.705, 1.705, 1.705, 1.705, 1.705, 1.705, 1.7049, 1.7049, 1.7049, 1.7049, 1.7049, 1.7049, 1.7049, 1.7049, 1.7049, 1.7049, 1.7048, 1.7048, 1.7048, 1.7048, 1.7048, 1.7048, 1.7048, 1.7048, 1.7048, 1.7048, 1.7048, 1.7048, 1.7048, 1.6991, 1.6683, 1.6933, 1.6964, 1.6523, 1.6688, 1.6958, 1.6905, 1.6559, 1.5826, 1.4784, 1.314, 1.2677, 1.4601, 1.5551, 1.4255, 1.1166, 1.1804, 1.0339, 1.3806, 0.9272, 1.0687, 1.283, 1.0919, 0.6894, 1.2601, 0.9995, 0.5505, -0.0343, 0.8529, 1.7258, 1.7257, 1.7256, 1.7256, 1.7255, 1.7255, 1.7255, 1.7255, 1.7255, 1.7255, 1.7255, 1.7254, 1.7254, 1.7254, 1.7254, 1.7254, 1.7254, 1.7254, 1.7254, 1.7254, 1.7254, 1.7253, 1.7253, 1.7253, 1.7253, 1.7253, 1.7253, 1.7253, 1.7252, 1.7252, 1.7148, 1.7176, 1.6841, 1.7109, 1.7108, 1.6436, 1.7016, 1.6252, 1.704, 1.6732, 1.5319, 1.4859, 1.4645, 1.6709, 1.6056, 1.5817, 1.4953, 1.539, 1.4483, 1.6519, 1.4362, 1.1469, 1.4455, 1.5679, 1.1898, 1.4692, 1.24, 1.009, 1.3654, 1.2048, 1.5781, 1.5398, 1.2131, 0.7849, 0.7438, 0.9786, 0.1576, 1.0683, 0.7607, 0.7595, 1.109, 0.3533, 1.0443, 0.5692, 0.2973, 0.5601, -0.2283, 2.097, 2.0969, 2.0969, 2.0969, 2.0969, 2.0968, 2.0968, 2.0968, 2.0967, 2.0967, 2.0967, 2.0967, 2.0967, 2.0966, 2.0966, 2.0966, 2.0966, 2.0966, 2.0966, 2.0966, 2.0966, 2.0965, 2.0965, 2.0965, 2.0965, 2.0964, 2.0964, 2.0964, 2.0964, 2.0963, 1.8858, 2.0586, 2.0519, 1.9915, 1.9313, 1.8807, 1.7014, 2.0083, 2.0046, 1.8243, 1.8848, 1.6166, 1.6696, 1.9612, 1.7392, 1.7735, 1.5697, 1.4326, 0.8901, 1.6377, 1.4497, 1.3916, 1.7812, 1.1776, 1.0674, 1.6393, 0.3835, 1.145, 1.27, 1.3647, 1.2452, 1.1348, 1.1421, 1.3566, 1.0724, 0.1703, 1.1896, -0.1525, 1.1519, 0.1622, 2.1297, 2.1297, 2.1297, 2.1296, 2.1295, 2.1295, 2.1295, 2.1295, 2.1294, 2.1293, 2.1292, 2.1292, 2.1292, 2.1292, 2.129, 2.129, 2.1289, 2.1289, 2.1288, 2.1288, 2.1287, 2.1287, 2.1287, 2.1286, 2.1286, 2.1286, 2.1286, 2.1286, 2.1286, 2.1286, 2.1201, 2.1059, 2.0628, 2.1116, 2.0703, 2.092, 2.066, 1.9786, 2.0617, 2.0264, 2.0973, 1.8281, 1.7512, 1.9969, 1.9859, 2.0853, 1.895, 1.7524, 1.9471, 1.8458, 1.5623, 1.2282, 1.7308, 1.6032, 1.8036, 1.3198, 1.4489, 1.7019, 1.7908, 1.4422, 1.234, 1.5115, 1.3497, 1.024, 1.3466, 0.9885, 1.3838, 1.578, 0.955, 0.977, 1.6261, -0.2509, 0.9789, 0.507, 0.2067, 0.8998, 1.1427, 0.0072, 2.1313, 2.1313, 2.1312, 2.1312, 2.1311, 2.1311, 2.1311, 2.1311, 2.1311, 2.1311, 2.131, 2.131, 2.131, 2.131, 2.131, 2.131, 2.131, 2.1309, 2.1309, 2.1309, 2.1309, 2.1309, 2.1309, 2.1309, 2.1308, 2.1308, 2.1308, 2.1308, 2.1308, 2.1308, 2.1232, 2.1176, 2.1206, 2.0907, 2.1038, 2.1227, 2.0862, 2.0273, 2.0177, 2.0543, 1.923, 2.0314, 2.0892, 2.0186, 1.8852, 2.0033, 1.6849, 1.3363, 1.9461, 0.9092, 1.4195, 0.0994, 0.5577, 0.6323, 0.676, 0.7864, 0.6838, 0.2555, 0.7205, 0.9824, 1.0956]}, \"token.table\": {\"Topic\": [1, 2, 3, 6, 1, 2, 3, 4, 5, 3, 3, 2, 5, 1, 2, 5, 6, 2, 5, 6, 6, 3, 4, 2, 3, 4, 6, 1, 2, 2, 5, 2, 4, 3, 4, 1, 3, 5, 1, 3, 4, 2, 5, 1, 1, 2, 6, 1, 2, 1, 2, 4, 5, 6, 1, 2, 3, 5, 6, 2, 4, 6, 1, 6, 6, 6, 6, 1, 2, 3, 4, 6, 2, 2, 4, 6, 4, 6, 5, 2, 5, 1, 2, 4, 2, 1, 2, 4, 2, 3, 4, 5, 2, 1, 1, 2, 5, 2, 5, 1, 2, 3, 5, 6, 1, 3, 4, 5, 1, 4, 6, 3, 1, 2, 5, 5, 3, 4, 5, 6, 6, 1, 2, 5, 6, 2, 6, 1, 2, 3, 5, 6, 2, 5, 4, 2, 6, 2, 1, 5, 2, 3, 5, 6, 1, 2, 4, 5, 6, 5, 2, 4, 5, 1, 4, 1, 2, 3, 4, 5, 6, 1, 5, 2, 3, 4, 6, 1, 2, 4, 6, 2, 4, 5, 6, 1, 3, 6, 1, 6, 1, 2, 6, 3, 4, 5, 6, 3, 4, 5, 6, 6, 2, 2, 3, 4, 1, 2, 2, 5, 1, 2, 3, 5, 1, 1, 3, 1, 5, 1, 1, 2, 3, 4, 5, 6, 1, 3, 5, 1, 3, 4, 6, 2, 4, 4, 6, 3, 4, 6, 3, 2, 1, 2, 3, 4, 1, 3, 4, 5, 1, 2, 3, 4, 6, 4, 3, 1, 2, 3, 4, 5, 6, 2, 6, 3, 5, 6, 1, 2, 4, 5, 1, 1, 3, 4, 5, 6, 4, 4, 1, 3, 4, 5, 2, 3, 5, 1, 3, 4, 6, 2, 2, 5, 2, 3, 4, 6, 1, 1, 4, 6, 1, 5, 1, 2, 3, 1, 2, 3, 4, 5, 6, 2, 5, 3, 2, 1, 4, 5, 1, 4, 6, 4, 6, 5, 1, 2, 5, 6, 2, 3, 4, 5, 6, 3, 4, 6, 3, 3, 4, 5, 4, 3, 6, 2, 6, 1, 2, 4, 5, 5, 5, 4, 2, 5, 2, 4, 5, 1, 3, 6, 1, 2, 3, 6, 2, 1, 2, 3, 5, 6, 2, 6, 4, 1, 3, 5, 6, 5, 1, 2, 3, 5, 6, 1, 2, 3, 6, 1, 2, 3, 5, 4, 1, 2, 5, 6, 2, 2, 3, 5, 1, 1, 3, 5, 6, 2, 5, 1, 3, 2, 3, 6, 1, 2, 6, 6, 3, 2, 1, 2, 5, 3, 4, 5, 6, 5, 4, 1, 3, 4, 5, 6, 1, 2, 3, 1, 2, 3, 2, 6, 6, 4, 3, 4, 6, 1, 2, 3, 5, 6, 5, 1, 2, 1, 1, 1, 3, 6, 1, 4, 6, 2, 1, 3, 4, 5, 1, 5, 3, 4, 5, 1, 3, 6, 1, 2, 3, 4, 5, 6, 2, 5, 2, 5, 2, 5, 2, 5, 2, 5, 2, 5, 2, 2, 5, 2, 5, 6, 4, 1, 2, 3, 4, 1, 2, 3, 5, 1, 1, 3, 1, 4, 2, 5, 2, 3, 5, 6, 1, 2, 3, 6, 2, 3, 4, 5, 6, 3, 4, 3, 2, 3, 3, 6, 1, 2, 4, 1, 3, 4, 2, 3, 5, 6, 1, 4, 5, 1, 2, 3, 5, 6, 1, 4, 5, 1, 2, 3, 5, 6, 2, 3, 4, 5, 6, 1, 2, 3, 5, 6, 1, 2, 3, 4, 1, 2, 3, 4, 2, 3, 5, 3, 4, 1, 2, 3, 6, 6, 1, 4, 1, 2, 5, 5, 2, 5, 1, 5, 1, 2, 3, 5, 6, 2, 1, 3, 1, 2, 5, 1, 5, 1, 2, 3, 4, 2, 5, 4, 5, 6, 2, 3, 4, 5, 6, 4, 2, 4, 5, 6, 2, 4, 2, 1, 3, 4, 1, 2, 5, 6, 3, 4, 6, 1, 2, 5, 2, 1, 2, 4, 1, 5, 6, 6, 2, 5, 6, 4, 2, 3, 5, 6, 1, 4, 4, 1, 3, 4, 1, 2, 3, 5, 6, 1, 2, 3, 4, 5, 6, 4, 2, 6, 3, 4, 5, 6, 1, 2, 3, 5, 1, 4, 1, 5, 6, 1, 3, 4, 5, 6, 3, 4, 1, 2, 3, 4, 5, 6, 3, 4, 6, 3, 4, 3, 5, 2, 5, 3, 6, 6, 3, 6, 6, 1, 2, 5, 6, 3, 3, 1, 2, 3, 4, 5, 3, 5, 6, 1, 2, 4, 5, 6, 3, 6, 1, 2, 5, 2, 5, 6, 2, 3, 4, 5, 6, 4, 1, 2, 4, 5, 5, 1, 2, 4, 5, 6, 1, 4, 2, 3, 4, 6, 2, 5, 5, 6, 3, 1, 3, 1, 3, 3, 4, 5, 6, 3, 5, 5, 3, 6, 1, 3, 4, 5, 5, 6, 3, 3, 2, 3, 6, 1, 4, 5, 1, 5, 2, 6, 4, 6, 1, 3, 5, 4, 4, 3, 1, 2, 3, 1, 5, 5], \"Freq\": [0.026100168342875464, 0.013445541267541905, 0.9206241197305164, 0.03954570961041737, 0.5096088508794163, 0.08256232779610655, 0.181257524242027, 0.04365364458184944, 0.18315550878906395, 1.0005476416372532, 1.0011073332229332, 1.000924149893652, 1.0004549293104865, 0.08743490768668793, 0.5290932875399578, 0.3086377510649754, 0.07473069033050252, 0.14488385342618065, 0.043351074253502875, 0.8122622333814222, 1.0014313335297995, 1.000849288175238, 1.0010997770156425, 0.1076902031772444, 0.056308602968493805, 0.8094361676720985, 0.026746586410034558, 0.014232007355729367, 0.9867525099972362, 0.9639082597756471, 0.0361613799792832, 0.037424948516511666, 0.9636924243001753, 0.615964003907112, 0.385407644902774, 0.16739805966605206, 0.7746263153174173, 0.05908166811743014, 1.000556555247642, 0.9864015898032898, 0.014505905732401321, 1.0009281610455667, 1.000582751211019, 1.0007165688268778, 0.004529423105071867, 0.991943660010739, 0.004529423105071867, 0.9814363970357763, 0.01931961411487749, 0.1110954577499858, 0.4594368229380254, 0.10278925530138873, 0.11992079785162019, 0.20713592356188942, 0.2927968137242321, 0.1964653944902856, 0.05703834033588937, 0.3168796685327187, 0.13815953548026536, 0.9993080184535548, 1.0008486461829436, 1.001179884436266, 1.000654192934713, 1.001569113494307, 0.9998893266093027, 0.9993731550944775, 1.0013746898317262, 0.21005907386279676, 0.10152855236701844, 0.03500984564379946, 0.6336782061527703, 0.02100590738627968, 1.0010849858161361, 1.0009831577616959, 1.000676758072119, 1.0015334093736676, 0.04396758096121303, 0.9575162075997505, 1.0007065677654896, 0.023285652877644815, 0.9779974208610822, 0.2807652277759804, 0.02029628152597449, 0.7002217126461199, 1.0010647265194932, 0.8672159444181089, 0.09099852512257176, 0.04185932155638301, 1.0009699761799022, 0.3404686998612721, 0.6178261285287474, 0.04152057315381367, 1.000989997398486, 1.000633228419587, 0.031181226846200324, 0.7552786058301857, 0.2130717167823689, 1.0009026090721722, 1.001377444576663, 0.1997624214618932, 0.14706435935844897, 0.4730570226030109, 0.006127681639935374, 0.17402615857416462, 0.9000480878138922, 0.0016275733956851578, 0.05045477526623989, 0.047199628474869575, 1.000726736124464, 1.0009708676191313, 1.0013575384265647, 1.0007656524351334, 0.26733541043694514, 0.15711817981820458, 0.5768816751534079, 1.0013822578846339, 1.0006142032023118, 0.7624447422196756, 0.23907165645871184, 1.0012294721956878, 1.001402773380034, 0.1315732754644009, 0.2869028367765408, 0.09137033018361172, 0.4915723763878311, 0.10747645085404302, 0.8918258687888676, 0.273424283071051, 0.07101929430416908, 0.08344767080739868, 0.5379711543540808, 0.03373416479448031, 0.2093805466506492, 0.7920046764611514, 1.0009960972715268, 0.992599429515546, 0.008507995110133252, 1.001014408588436, 1.0005535168294348, 1.0005092496276158, 0.04889448389746213, 0.7950668251152537, 0.11692159192871379, 0.04039109539355567, 0.05595292093081604, 0.17550450354075836, 0.29922649019523356, 0.4059193270011996, 0.0635986616791263, 1.0001805589274937, 0.253116930352458, 0.14306609106878063, 0.6052796160602257, 1.000682058040896, 1.0010938321299252, 0.09892564366758647, 0.06696505109805853, 0.2267680139456982, 0.493106285358431, 0.08370631387257316, 0.030438659590026604, 0.1403319381687416, 0.8611278023990961, 0.017136906592563353, 0.756472019586011, 0.06120323783058341, 0.16647280689918686, 0.45082892636769684, 0.02271618621232581, 0.5242196818229033, 0.0034947978788193554, 0.03674575497151284, 0.17964591319406276, 0.14426111211038373, 0.6396483272818901, 1.0006162157337177, 0.04099343878615561, 0.9604177087042173, 0.026945912180493754, 0.9745438238611908, 0.8955016590162923, 0.10535313635485791, 1.0014959044227052, 0.5606143665546024, 0.10946192054626001, 0.03568095752612895, 0.2945190900885559, 0.9862926161358453, 0.014611742461271782, 0.9695466480146155, 0.03127569832305211, 1.0011738184819063, 0.9993679918391114, 0.015131560722894283, 0.3120884399096946, 0.6733544521687956, 1.000516986594762, 1.0009699761799022, 0.28775575150708455, 0.7136342637375697, 1.0007458348351495, 0.02425807215375701, 0.8234267825525297, 0.15228678629858566, 1.000659480311844, 1.0008081474445094, 1.0007430207436778, 0.9955743911452465, 0.005105509698180751, 1.000516986594762, 0.26749628173435375, 0.08122923738530115, 0.1064383110566015, 0.3865391296266054, 0.06442318827110091, 0.09523427831380134, 0.8492730335526735, 0.15165589884869168, 1.0003307907319277, 0.3577039893735314, 0.4880232819844913, 0.1545856436488628, 1.0013112682954037, 1.0009221091444906, 1.0010622315542077, 0.16914206703931114, 0.8323570141145049, 1.0008755612607734, 1.0013326142086418, 1.0013662914840638, 1.0008646558418508, 0.999224563092643, 0.6488912423768994, 0.0714149754418599, 0.24379595064634932, 0.03570748772092995, 0.33171962933151683, 0.10800173978235432, 0.5137797049646284, 0.04628645990672328, 1.0006311888565511, 0.03792833208142356, 0.7566702250244, 0.04551399849770826, 0.15929899474197892, 1.0013848466498445, 1.0006629280352697, 0.37291482113991464, 0.117470939200092, 0.2532274491247266, 0.030475951207571034, 0.07258817469439646, 0.15348797244540321, 0.99528125479469, 0.005820358215173626, 0.037346278622503684, 0.05771697605296024, 0.9064960356553167, 0.5063494345823054, 0.1518332109355711, 0.14467126702351585, 0.1976696519727246, 1.0007129974036633, 0.3533079697396087, 0.12862363875312943, 0.38261462160741033, 0.034191093845768586, 0.10257328153730574, 1.0010041207608578, 1.0009960972715268, 0.22061335031166515, 0.010814379917238487, 0.651025671017757, 0.11679530310617567, 1.0010404863531264, 0.01725374893403246, 0.9834636892398502, 0.4761807513121034, 0.3742936366182804, 0.10896260876978296, 0.04033031623297161, 1.0010386683879722, 0.5263666575130023, 0.47358337152284047, 0.1453518383333878, 0.5995763331252246, 0.09084489895836736, 0.16553959365746942, 1.000784689206055, 1.00066955952928, 0.013534817957509753, 0.9846580064088345, 0.0428943757409665, 0.9579743915482518, 1.0005441355524405, 1.0008858773577372, 1.0008198458391175, 0.19706448817632746, 0.03217379398797183, 0.0864670713426743, 0.4041832869738961, 0.2030970745490722, 0.07842362284568134, 0.12429749119986207, 0.8769878545768046, 1.0007545561866618, 0.9999930703879374, 0.043909488417446206, 0.9572268475003273, 1.0006271347544071, 0.9132336508574241, 0.011309395057057884, 0.07633841663514071, 0.10662815713778634, 0.894914890263564, 1.0003956775094003, 0.023136064713207376, 0.796908895677143, 0.15166975756435946, 0.02827741242725346, 0.023555497113232897, 0.3149457206621139, 0.35682215997452793, 0.06979406552069006, 0.23555497113232896, 0.17357030591610695, 0.8099947609418324, 0.01780208265806225, 1.0007545561866618, 0.22738168459120311, 0.7302450255140561, 0.04372724703676983, 1.001087767218266, 1.000639414878101, 1.0015431844703166, 0.9633362962676908, 0.035596722263933143, 0.12177395078209033, 0.15085429723751487, 0.4380227184848324, 0.29080346455424555, 1.0002594249979462, 1.0002594249979462, 1.0013492525229497, 0.4098391210571976, 0.5899700250702401, 1.0010795214172825, 1.0007846153014912, 1.0002959769066309, 0.3201477912925987, 0.3636246518385071, 0.3175128300473921, 0.18343599416944617, 0.5111671812046669, 0.0823709400569806, 0.22316098653735172, 1.0011082552153965, 0.3696696098654117, 0.10187745153771188, 0.14359869359601293, 0.12516372617490318, 0.2610003282251857, 0.9994114403043257, 1.0015136251619738, 1.0008829147229485, 0.6396707484307932, 0.3139002847969665, 0.02505926643337128, 0.02242144891406904, 1.0003639875664534, 0.3232877574378095, 0.361948973791197, 0.23996617046930188, 0.028662625917166614, 0.04666008870236426, 0.07422422978717912, 0.6416272308269483, 0.21442555271851743, 0.07092537512997114, 0.32857294182529473, 0.2810486759253768, 0.07538331832400777, 0.315462799508076, 1.0010271221431557, 0.08966061409231421, 0.782039800694074, 0.10460404977436659, 0.023245344394303685, 1.0009137018345076, 1.000935913025763, 1.0006142032023118, 1.0013083986049596, 1.0006227864330448, 0.017266684483775115, 0.04748338233038157, 0.9367176332448001, 1.0015450475103855, 0.5916349599076108, 0.4081108009560998, 0.07107386205822072, 0.9298830285950543, 0.16535377830935188, 0.8312379125821473, 0.004469021035387889, 0.015587623730550627, 0.058453588989564854, 0.9274636119677624, 1.0013075731149876, 1.0007310195044523, 1.0008956186652225, 0.004265795736459958, 0.6761286242289034, 0.3194014557674394, 0.506444771402991, 0.004901078432932172, 0.21401375823803814, 0.27609408505517896, 1.0009592485791015, 0.9984579898613305, 0.3065036488991951, 0.12195956710125042, 0.35945977671947493, 0.1347974162698031, 0.07863182615738513, 0.3371302552681246, 0.07819370939678937, 0.5845300243432123, 0.10881299902412656, 0.025389699772296194, 0.8668768922255415, 0.09887055011327231, 0.9005817499448066, 1.0011973759977804, 1.0010938321299252, 0.12691599760904337, 0.8743102057511876, 1.0012881890087806, 0.10030714499346582, 0.10030714499346582, 0.2631007081795825, 0.3732741297297827, 0.16443794261223907, 1.0009997746730437, 0.9252821038135046, 0.07553323296436773, 1.0007223151096514, 1.0006645998889767, 1.0007105626018469, 1.0007120806343537, 0.9996550219757475, 0.9057048393907021, 0.05769675273155584, 0.036228193575628086, 1.0010710438465937, 0.015454492974403785, 0.13909043676963406, 0.8067245332638776, 0.04018168173344984, 1.000832810950233, 1.0001805589274937, 1.0007916287063, 1.0013512253883141, 1.0011711528876441, 0.3035137489590506, 0.34219687382638053, 0.3555871862804563, 0.5645219225852908, 0.08771084417027658, 0.0037323763476713443, 0.18195334694897802, 0.09237631460486577, 0.0699820565188377, 0.5552287477972075, 0.4449479517364533, 0.009537803726405341, 0.9919315875461555, 0.2474057483442793, 0.7539984711444703, 0.05744818237023985, 0.9437915675110833, 0.31468187760053434, 0.6844905074814543, 0.06549689517322747, 0.9356699310461067, 1.0009788930943015, 0.3149706737112346, 0.6847718322077906, 0.5410823677265924, 0.4579316252474501, 1.0011548628482856, 1.000741322872116, 0.7702559975011876, 0.0033931982268774782, 0.13912112730197662, 0.08822315389881444, 0.008582410603519247, 0.008582410603519247, 0.9040139169040273, 0.07867209719892643, 1.0005739179914162, 1.000618432505461, 1.000971282024094, 0.8984552379385565, 0.10100084050651559, 0.4977956333107509, 0.5021750670348925, 0.025536476247111552, 0.594635089754169, 0.020064374194159077, 0.3611587354948634, 0.4695833304607592, 0.09164730427208125, 0.3805545205964517, 0.0576068769710225, 0.005279825414524115, 0.540302134086301, 0.26927109614072986, 0.15663482063088208, 0.029919010682303317, 0.9498585114217556, 0.051217860909996624, 1.000899150680622, 0.021295962005837842, 0.9796142522685408, 0.008207250467922277, 0.9930773066185955, 0.72596474647598, 0.02160609364511845, 0.25351149876938983, 0.1836730421945575, 0.7868040551683138, 0.029900262682834942, 0.02879879212238523, 0.7701619836157878, 0.01481080737722669, 0.1867807374794699, 0.08471456564454967, 0.9164575737910373, 1.0002959769066309, 0.1614196754950168, 0.09130072143383301, 0.39003668196533464, 0.1241689811500129, 0.23299944109914186, 0.7965128446084779, 0.16996114948246002, 0.03312802066183543, 0.5720788049808945, 0.14373479975144973, 0.1544612773448415, 0.08223632821600359, 0.04791159991714991, 0.12017633659670783, 0.21555438151472991, 0.42729364123273894, 0.18121828534424197, 0.057226826950813256, 0.5505765774747053, 0.07478119897788867, 0.25238654655037424, 0.08225931887567754, 0.04019489445061516, 0.7961367062294374, 0.12421991161026683, 0.021778815671929897, 0.058076841791813064, 0.6020558111731775, 0.11084360864622454, 0.15868137658827935, 0.12951200589190448, 0.011675497421005952, 0.9603096628777397, 0.02918874355251488, 0.10013426201803252, 0.9012083581622927, 0.43946703092286177, 0.01745175935072736, 0.5187932097898044, 0.025384377237421617, 1.0011482784277383, 0.9834994039459125, 0.01595648000502218, 0.02634725215290267, 0.03512966953720356, 0.9397186601201952, 1.0002594249979462, 0.16687974198102906, 0.8343987099051454, 0.9339634427275907, 0.06615932390986613, 0.721972314095729, 0.019468916335165728, 0.15737374037592297, 0.05029470053251146, 0.051917110227108605, 1.000946909247114, 0.9892319000549669, 0.011638022353587844, 0.023374754465627562, 0.6454619699031248, 0.33096527345649934, 1.0007630778624315, 1.0012907565490792, 0.7446590296814382, 0.008055205849919403, 0.14186112524580283, 0.10561269892116551, 0.8858463520745078, 0.11534457709303488, 0.17646762794705986, 0.04201610189215711, 0.7814994951941222, 0.1860126327399042, 0.07099298705162024, 0.14583830673394857, 0.14638863996690685, 0.4518235842587614, 1.001041623557882, 0.7222073969921724, 0.003153744091668875, 0.2554532714251789, 0.01892246455001325, 1.001024072102116, 1.0012858431339076, 1.0010675822876227, 0.8332105591298572, 0.16411723134375975, 0.003606972117445269, 1.0008034884037118, 0.4270074905369863, 0.5667754062539895, 0.0066032086165513345, 0.04586830867840402, 0.8485637105504743, 0.1070260535829427, 0.047831949683118775, 0.953222425827867, 1.0010999906427747, 0.9995420268807887, 0.8157593208991376, 0.02993612186785826, 0.15529363218951472, 0.29279475159801827, 0.6529322960635807, 0.05563100280362347, 1.0013149062128435, 0.8617833968894635, 0.11152491018569528, 0.02788122754642382, 1.0008241464432044, 0.01638139772421281, 0.7494489458827361, 0.23548259228555918, 1.0015024968863826, 0.9104535717824012, 0.09047985806533179, 1.0009042585960564, 0.0026349619485926683, 0.6982649163770571, 0.3003856621395642, 0.12122032510444221, 0.6549046135512723, 0.009445739618527965, 0.2062319816711939, 0.007871449682106638, 0.331161433743904, 0.056825105429739835, 0.20843830689144066, 0.18026451512375452, 0.09240048656012317, 0.13107976000389568, 1.001185431510886, 0.12017753179242362, 0.8813018998111065, 0.24758297968940934, 0.5910764830422836, 0.10483243284146161, 0.057992409656978765, 0.7106939273579939, 0.14213878547159878, 0.044949872328625254, 0.1020483588001222, 0.08810131012808214, 0.9130499413273967, 0.06400493129261814, 0.7228792240107461, 0.21460476962819025, 0.5536118337235505, 0.17638093413291756, 0.07136800803066028, 0.07952435180559288, 0.11928652770838932, 1.0006704176432997, 1.0009708676191313, 0.22095366086033566, 0.08615165675747033, 0.17737105803008596, 0.39832471889042165, 0.03851485831510438, 0.07905681443626689, 0.8306329574552769, 0.12585347840231467, 0.044747903431934105, 0.9995507375810315, 1.000741322872116, 1.0007866239987242, 1.001283307867694, 0.4933032240619531, 0.5058641857857528, 1.0005263129706947, 1.0013149062128435, 1.0012029823968371, 1.0007656524351334, 1.0013000054706176, 1.0011548628482856, 0.0960264101979942, 0.3978236993916902, 0.4564372224995568, 0.04988384945350348, 1.0007120806343537, 1.000952511803968, 0.7489376122333395, 0.03872394694715837, 0.11946749590080774, 0.052730480949322034, 0.04037177447682468, 0.8878216335016718, 0.018889821989397274, 0.09444910994698635, 0.298921797643332, 0.2570973485903555, 0.06519693528846335, 0.29277114337083543, 0.08733929066945091, 0.9476976987303137, 0.05330799555358015, 1.0006963424364825, 0.09802861906112058, 0.9032637042060396, 0.027482469254156486, 0.012214430779625104, 0.9588328162005707, 0.10774889568054345, 0.3800072660162023, 0.10293867712337633, 0.16547151836654886, 0.24435910270408961, 1.0011897082687553, 0.2775551635801353, 0.005442258109414419, 0.046259193930022556, 0.6721188765126807, 1.0006877722087575, 0.6234636320577936, 0.1258916949347468, 0.0779329540072242, 0.057550489113027105, 0.11510097822605421, 0.2766137667972287, 0.7246501496378105, 0.08801610544605643, 0.3559762486929393, 0.38922677741700507, 0.1682085570746856, 0.260769962997331, 0.7397352011556941, 1.0009141600214306, 1.0011482784277383, 1.0006053896641351, 0.14607273327190845, 0.8549551153267583, 0.010942340426383366, 0.9884580851832974, 0.10781089043025657, 0.6326796991038741, 0.09362524695259124, 0.16739059303645099, 0.036622394793108054, 0.9643897295518454, 1.0009373214443529, 0.9929872903382816, 0.007880851510621283, 0.41174602572098684, 0.07874923989199202, 0.48149535248246544, 0.029249717674168462, 0.008061647088067735, 0.9915825918323314, 1.0008328879087496, 1.0005776113001896, 0.017768939514477253, 0.977291673296249, 0.005922979838159085, 0.5235550109474875, 0.47762913279419905, 1.0015493336785062, 1.0008101410110346, 0.998802849487629, 0.9871372139231179, 0.011668288580651512, 0.010431946100511204, 0.9910348795485644, 1.0005441355524405, 0.8636950095664948, 0.13740602424921508, 1.001068814842962, 1.000756204222238, 1.0009023253251184, 0.029764953824480658, 0.9484196650436791, 0.02164723914507684, 0.13392828554193306, 0.8673450873191856, 1.0015198129003533], \"Term\": [\"\\u4e00\\u540d\", \"\\u4e00\\u540d\", \"\\u4e00\\u540d\", \"\\u4e00\\u540d\", \"\\u4e00\\u8d77\", \"\\u4e00\\u8d77\", \"\\u4e00\\u8d77\", \"\\u4e00\\u8d77\", \"\\u4e00\\u8d77\", \"\\u4e00\\u8f1b\", \"\\u4e08\\u592b\", \"\\u4e09\\u632f\", \"\\u4e0b\\u6ce8\", \"\\u4e16\\u754c\", \"\\u4e16\\u754c\", \"\\u4e16\\u754c\", \"\\u4e16\\u754c\", \"\\u4e16\\u754c\\u76c3\", \"\\u4e16\\u754c\\u76c3\", \"\\u4e16\\u754c\\u76c3\", \"\\u4e16\\u8db3\", \"\\u4e1f\\u59b9\", \"\\u4e2d\\u5171\", \"\\u4e2d\\u570b\", \"\\u4e2d\\u570b\", \"\\u4e2d\\u570b\", \"\\u4e2d\\u570b\", \"\\u4e2d\\u8077\", \"\\u4e2d\\u8077\", \"\\u4e2d\\u83ef\\u968a\", \"\\u4e2d\\u83ef\\u968a\", \"\\u4e3b\\u5e2d\", \"\\u4e3b\\u5e2d\", \"\\u4e8b\\u4ef6\", \"\\u4e8b\\u4ef6\", \"\\u4e8b\\u5f8c\", \"\\u4e8b\\u5f8c\", \"\\u4e8b\\u5f8c\", \"\\u4e8b\\u696d\", \"\\u4e8b\\u767c\", \"\\u4e8b\\u767c\", \"\\u4e8c\\u58d8\", \"\\u4e9e\\u904b\", \"\\u4ea4\\u5f80\", \"\\u4ea4\\u624b\", \"\\u4ea4\\u624b\", \"\\u4ea4\\u624b\", \"\\u4eba\\u751f\", \"\\u4eba\\u751f\", \"\\u4eca\\u5929\", \"\\u4eca\\u5929\", \"\\u4eca\\u5929\", \"\\u4eca\\u5929\", \"\\u4eca\\u5929\", \"\\u4eca\\u5e74\", \"\\u4eca\\u5e74\", \"\\u4eca\\u5e74\", \"\\u4eca\\u5e74\", \"\\u4eca\\u5e74\", \"\\u4ee5\\u6bd4\", \"\\u4f01\\u696d\", \"\\u4f0a\\u6717\", \"\\u4f59\\u82d1\", \"\\u4fc4\\u570b\", \"\\u4fc4\\u7f85\\u65af\", \"\\u4fc4\\u8ecd\", \"\\u502b\\u65af\\u57fa\", \"\\u505a\\u51fa\", \"\\u505a\\u51fa\", \"\\u505a\\u51fa\", \"\\u505a\\u51fa\", \"\\u505a\\u51fa\", \"\\u5148\\u767c\", \"\\u5149\\u5fa9\", \"\\u514b\\u7acb\", \"\\u514b\\u7f85\", \"\\u5165\\u4fb5\", \"\\u5165\\u4fb5\", \"\\u5165\\u5834\", \"\\u5165\\u9078\", \"\\u5165\\u9078\", \"\\u5167\\u5bb9\", \"\\u5167\\u5bb9\", \"\\u5167\\u5bb9\", \"\\u5168\\u58d8\\u6253\", \"\\u5169\\u4eba\", \"\\u5169\\u4eba\", \"\\u5169\\u4eba\", \"\\u5169\\u968a\", \"\\u516c\\u53f8\", \"\\u516c\\u53f8\", \"\\u516c\\u53f8\", \"\\u516c\\u958b\\u8cfd\", \"\\u5177\\u4fca\\u66c4\", \"\\u51a0\\u8ecd\", \"\\u51a0\\u8ecd\", \"\\u51a0\\u8ecd\", \"\\u51a0\\u8ecd\\u8cfd\", \"\\u51ac\\u5967\", \"\\u51fa\\u73fe\", \"\\u51fa\\u73fe\", \"\\u51fa\\u73fe\", \"\\u51fa\\u73fe\", \"\\u51fa\\u73fe\", \"\\u5206\\u4eab\", \"\\u5206\\u4eab\", \"\\u5206\\u4eab\", \"\\u5206\\u4eab\", \"\\u5206\\u624b\", \"\\u522a\\u9664\", \"\\u5236\\u88c1\", \"\\u524d\\u59bb\", \"\\u52a0\\u6cb9\", \"\\u52a0\\u6cb9\", \"\\u52a0\\u6cb9\", \"\\u52a0\\u76df\", \"\\u52fe\\u60e1\", \"\\u5317\\u4eac\", \"\\u5317\\u4eac\", \"\\u5317\\u7d04\", \"\\u5317\\u97d3\", \"\\u5357\\u97d3\", \"\\u5357\\u97d3\", \"\\u5357\\u97d3\", \"\\u5357\\u97d3\", \"\\u5361\\u9054\", \"\\u5361\\u9054\", \"\\u53c3\\u52a0\", \"\\u53c3\\u52a0\", \"\\u53c3\\u52a0\", \"\\u53c3\\u52a0\", \"\\u53c3\\u52a0\", \"\\u53c3\\u8cfd\", \"\\u53c3\\u8cfd\", \"\\u53cd\\u5c0d\", \"\\u53e4\\u5df4\", \"\\u53e4\\u5df4\", \"\\u53e4\\u5df4\\u968a\", \"\\u53ef\\u611b\", \"\\u53f0\\u4e2d\\u5e02\", \"\\u53f0\\u5e63\", \"\\u53f0\\u5e63\", \"\\u53f0\\u5e63\", \"\\u53f0\\u5e63\", \"\\u53f0\\u7063\", \"\\u53f0\\u7063\", \"\\u53f0\\u7063\", \"\\u53f0\\u7063\", \"\\u53f0\\u7063\", \"\\u540d\\u4eba\\u5802\", \"\\u540d\\u55ae\", \"\\u540d\\u55ae\", \"\\u540d\\u55ae\", \"\\u5468\\u6770\\u502b\", \"\\u548c\\u5f26\", \"\\u554f\\u984c\", \"\\u554f\\u984c\", \"\\u554f\\u984c\", \"\\u554f\\u984c\", \"\\u554f\\u984c\", \"\\u554f\\u984c\", \"\\u5566\\u5566\\u968a\", \"\\u5566\\u5566\\u968a\", \"\\u56b4\\u91cd\", \"\\u56b4\\u91cd\", \"\\u56b4\\u91cd\", \"\\u56b4\\u91cd\", \"\\u56de\\u61c9\", \"\\u56de\\u61c9\", \"\\u56de\\u61c9\", \"\\u56de\\u61c9\", \"\\u570b\\u5bb6\", \"\\u570b\\u5bb6\", \"\\u570b\\u5bb6\", \"\\u570b\\u5bb6\", \"\\u5716\\u7247\", \"\\u571f\\u8033\\u5176\", \"\\u571f\\u8033\\u5176\", \"\\u5730\\u9707\", \"\\u5730\\u9707\", \"\\u5766\\u8a00\", \"\\u5766\\u8a00\", \"\\u57fa\\u8f14\", \"\\u5831\\u5c0e\", \"\\u5831\\u5c0e\", \"\\u5831\\u5c0e\", \"\\u5831\\u5c0e\", \"\\u5831\\u8b66\", \"\\u5831\\u8b66\", \"\\u5834\\u5730\", \"\\u5834\\u5730\", \"\\u58eb\\u5175\", \"\\u5927\\u8c37\", \"\\u5927\\u9678\", \"\\u5927\\u9678\", \"\\u5927\\u9678\", \"\\u592b\\u59bb\\u5006\", \"\\u5931\\u5206\", \"\\u5967\\u904b\", \"\\u5967\\u904b\", \"\\u5973\\u53cb\", \"\\u5973\\u5b50\", \"\\u5973\\u5b50\", \"\\u5973\\u5b50\", \"\\u5973\\u65b9\", \"\\u5973\\u661f\", \"\\u5973\\u7ae5\", \"\\u597d\\u53cb\", \"\\u597d\\u53cb\", \"\\u59b9\\u59b9\", \"\\u5a92\\u9ad4\", \"\\u5a92\\u9ad4\", \"\\u5a92\\u9ad4\", \"\\u5a92\\u9ad4\", \"\\u5a92\\u9ad4\", \"\\u5a92\\u9ad4\", \"\\u5abd\\u5abd\", \"\\u5abd\\u5abd\", \"\\u5b63\\u5f8c\\u8cfd\", \"\\u5b69\\u5b50\", \"\\u5b69\\u5b50\", \"\\u5b69\\u5b50\", \"\\u5b89\\u500d\", \"\\u5b89\\u6253\", \"\\u5b8b\\u5148\\u751f\", \"\\u5b98\\u54e1\", \"\\u5b98\\u54e1\", \"\\u5bb6\\u5c6c\", \"\\u5bb6\\u66b4\", \"\\u5c04\\u9580\", \"\\u5c08\\u7dda\", \"\\u5c0d\\u624b\", \"\\u5c0d\\u65b9\", \"\\u5c0d\\u65b9\", \"\\u5c0d\\u65b9\", \"\\u5c0d\\u65b9\", \"\\u5c0d\\u6b64\", \"\\u5c0d\\u6b64\", \"\\u5c0d\\u6b64\", \"\\u5c0d\\u6b64\", \"\\u5c0e\\u6f14\", \"\\u5c0e\\u81f4\", \"\\u5c0e\\u81f4\", \"\\u5c0e\\u81f4\", \"\\u5c0e\\u81f4\", \"\\u5c0f\\u751c\\u751c\", \"\\u5c4d\\u9ad4\", \"\\u5df2\\u7d93\", \"\\u5df2\\u7d93\", \"\\u5df2\\u7d93\", \"\\u5df2\\u7d93\", \"\\u5df2\\u7d93\", \"\\u5df2\\u7d93\", \"\\u5df4\\u62ff\\u99ac\", \"\\u5df4\\u62ff\\u99ac\", \"\\u5df4\\u897f\", \"\\u5df4\\u897f\", \"\\u5df4\\u897f\", \"\\u5e0c\\u671b\", \"\\u5e0c\\u671b\", \"\\u5e0c\\u671b\", \"\\u5e0c\\u671b\", \"\\u5e78\\u798f\", \"\\u5f15\\u767c\", \"\\u5f15\\u767c\", \"\\u5f15\\u767c\", \"\\u5f15\\u767c\", \"\\u5f15\\u767c\", \"\\u5f35\\u7a4e\\u7a4e\", \"\\u5f35\\u862d\", \"\\u5f37\\u8abf\", \"\\u5f37\\u8abf\", \"\\u5f37\\u8abf\", \"\\u5f37\\u8abf\", \"\\u5f37\\u8cfd\", \"\\u5f69\\u5238\", \"\\u5f69\\u5238\", \"\\u5f71\\u7247\", \"\\u5f71\\u7247\", \"\\u5f71\\u7247\", \"\\u5f71\\u7247\", \"\\u5f97\\u5206\", \"\\u5feb\\u4f86\", \"\\u5feb\\u4f86\", \"\\u60c5\\u6cc1\", \"\\u60c5\\u6cc1\", \"\\u60c5\\u6cc1\", \"\\u60c5\\u6cc1\", \"\\u611f\\u60c5\", \"\\u61f7\\u5b55\", \"\\u6230\\u722d\", \"\\u6230\\u722d\", \"\\u6230\\u888d\", \"\\u6230\\u888d\", \"\\u6232\\u5287\", \"\\u6234\\u8cc7\\u7a4e\", \"\\u623f\\u5b50\", \"\\u6240\\u6709\", \"\\u6240\\u6709\", \"\\u6240\\u6709\", \"\\u6240\\u6709\", \"\\u6240\\u6709\", \"\\u6240\\u6709\", \"\\u6253\\u7403\", \"\\u6253\\u7403\", \"\\u6253\\u96fb\\u8a71\", \"\\u6295\\u624b\", \"\\u6295\\u8cc7\", \"\\u6295\\u8cc7\", \"\\u62ab\\u4e0a\", \"\\u62cd\\u651d\", \"\\u62cd\\u651d\", \"\\u62cd\\u651d\", \"\\u62dc\\u767b\", \"\\u62dc\\u767b\", \"\\u62f3\\u64ca\", \"\\u62ff\\u4e0b\", \"\\u62ff\\u4e0b\", \"\\u62ff\\u4e0b\", \"\\u62ff\\u4e0b\", \"\\u6307\\u51fa\", \"\\u6307\\u51fa\", \"\\u6307\\u51fa\", \"\\u6307\\u51fa\", \"\\u6307\\u51fa\", \"\\u6307\\u63a7\", \"\\u6307\\u63a7\", \"\\u6307\\u63a7\", \"\\u63a5\\u7a2e\", \"\\u63d0\\u51fa\", \"\\u63d0\\u51fa\", \"\\u63d0\\u51fa\", \"\\u63d0\\u544a\", \"\\u6436\\u6551\", \"\\u6469\\u6d1b\\u54e5\", \"\\u64ca\\u6557\", \"\\u64ca\\u6557\", \"\\u652f\\u6301\", \"\\u652f\\u6301\", \"\\u652f\\u6301\", \"\\u652f\\u6301\", \"\\u6536\\u8996\", \"\\u653b\\u57ce\", \"\\u6559\\u6703\", \"\\u6559\\u7df4\", \"\\u6559\\u7df4\", \"\\u6572\\u51fa\", \"\\u6587\\u4ef6\", \"\\u6597\\u516d\", \"\\u65c5\\u904a\", \"\\u65c5\\u904a\", \"\\u65c5\\u904a\", \"\\u65e5\\u672c\", \"\\u65e5\\u672c\", \"\\u65e5\\u672c\", \"\\u65e5\\u672c\", \"\\u65e5\\u672c\\u968a\", \"\\u6642\\u9593\", \"\\u6642\\u9593\", \"\\u6642\\u9593\", \"\\u6642\\u9593\", \"\\u6642\\u9593\", \"\\u6649\\u7d1a\", \"\\u666e\\u4e01\", \"\\u66b4\\u529b\", \"\\u66dd\\u5149\", \"\\u66dd\\u5149\", \"\\u66dd\\u5149\", \"\\u66dd\\u5149\", \"\\u66fc\\u806f\", \"\\u6700\\u5f8c\", \"\\u6700\\u5f8c\", \"\\u6700\\u5f8c\", \"\\u6700\\u5f8c\", \"\\u6700\\u5f8c\", \"\\u6700\\u7d42\", \"\\u6700\\u7d42\", \"\\u6700\\u7d42\", \"\\u6700\\u7d42\", \"\\u670b\\u53cb\", \"\\u670b\\u53cb\", \"\\u670b\\u53cb\", \"\\u670b\\u53cb\", \"\\u674e\\u975a\\u857e\", \"\\u6771\\u68ee\", \"\\u6771\\u68ee\", \"\\u6771\\u68ee\", \"\\u6771\\u68ee\", \"\\u6797\\u5b50\", \"\\u6797\\u5cb3\\u5e73\", \"\\u6797\\u5fd7\\u7a4e\", \"\\u6797\\u66f8\\u8c6a\", \"\\u6797\\u8944\", \"\\u6843\\u5712\", \"\\u6843\\u5712\", \"\\u6843\\u5712\", \"\\u6885\\u897f\", \"\\u68d2\\u7403\", \"\\u68d2\\u7403\", \"\\u6a21\\u4eff\", \"\\u6a21\\u4eff\", \"\\u6aa2\\u67e5\", \"\\u6aa2\\u67e5\", \"\\u6aa2\\u67e5\", \"\\u6b50\\u6d32\", \"\\u6b50\\u6d32\", \"\\u6b50\\u6d32\", \"\\u6b50\\u76df\", \"\\u6b7b\\u8005\", \"\\u6bd4\\u6578\", \"\\u6bd4\\u8cfd\", \"\\u6bd4\\u8cfd\", \"\\u6bd4\\u8cfd\", \"\\u6c11\\u773e\", \"\\u6c11\\u773e\", \"\\u6c11\\u773e\", \"\\u6c11\\u773e\", \"\\u6c38\\u8c50\", \"\\u6c6a\\u5c0f\\u83f2\", \"\\u6c7a\\u5b9a\", \"\\u6c7a\\u5b9a\", \"\\u6c7a\\u5b9a\", \"\\u6c7a\\u5b9a\", \"\\u6c7a\\u5b9a\", \"\\u6c92\\u60f3\\u5230\", \"\\u6c92\\u60f3\\u5230\", \"\\u6c92\\u60f3\\u5230\", \"\\u6cbb\\u7642\", \"\\u6cbb\\u7642\", \"\\u6cbb\\u7642\", \"\\u6cd5\\u570b\", \"\\u6cd5\\u570b\", \"\\u6cd5\\u570b\\u968a\", \"\\u6cd5\\u6848\", \"\\u6cd5\\u9662\", \"\\u6cd5\\u9662\", \"\\u6ce2\\u862d\", \"\\u6e96\\u5099\", \"\\u6e96\\u5099\", \"\\u6e96\\u5099\", \"\\u6e96\\u5099\", \"\\u6e96\\u5099\", \"\\u6ed1\\u51b0\", \"\\u6f14\\u51fa\", \"\\u6f14\\u51fa\", \"\\u6f14\\u54e1\", \"\\u6f14\\u5531\\u6703\", \"\\u6f14\\u85dd\\u5708\", \"\\u7028\\u6606\\u59ae\", \"\\u70cf\\u514b\\u862d\", \"\\u7167\\u7247\", \"\\u7167\\u7247\", \"\\u7167\\u7247\", \"\\u71b1\\u8eab\\u8cfd\", \"\\u7206\\u6599\", \"\\u7206\\u6599\", \"\\u7206\\u6599\", \"\\u7206\\u6599\", \"\\u7238\\u7238\", \"\\u7279\\u653b\", \"\\u72af\\u7f6a\", \"\\u738b\\u529b\\u5b8f\", \"\\u738b\\u5efa\\u6c11\", \"\\u73a9\\u6cd5\", \"\\u73a9\\u6cd5\", \"\\u73a9\\u6cd5\", \"\\u73fe\\u5728\", \"\\u73fe\\u5728\", \"\\u73fe\\u5728\", \"\\u73fe\\u5728\", \"\\u73fe\\u5728\", \"\\u73fe\\u5728\", \"\\u7403\\u54e1\", \"\\u7403\\u54e1\", \"\\u7403\\u5718\", \"\\u7403\\u5718\", \"\\u7403\\u5834\", \"\\u7403\\u5834\", \"\\u7403\\u5b63\", \"\\u7403\\u5b63\", \"\\u7403\\u661f\", \"\\u7403\\u661f\", \"\\u7403\\u8863\", \"\\u7403\\u8863\", \"\\u7403\\u8a55\", \"\\u7403\\u8ff7\", \"\\u7403\\u8ff7\", \"\\u7403\\u968a\", \"\\u7403\\u968a\", \"\\u745e\\u58eb\", \"\\u751c\\u751c\", \"\\u751f\\u6d3b\", \"\\u751f\\u6d3b\", \"\\u751f\\u6d3b\", \"\\u751f\\u6d3b\", \"\\u7537\\u5b50\", \"\\u7537\\u5b50\", \"\\u7537\\u5b50\", \"\\u7537\\u5b50\", \"\\u7537\\u65b9\", \"\\u7537\\u661f\", \"\\u7537\\u7ae5\", \"\\u7559\\u8a00\", \"\\u7559\\u8a00\", \"\\u7576\\u500b\", \"\\u7576\\u500b\", \"\\u7576\\u5730\", \"\\u7576\\u5730\", \"\\u7576\\u5730\", \"\\u7576\\u5730\", \"\\u7576\\u6642\", \"\\u7576\\u6642\", \"\\u7576\\u6642\", \"\\u7576\\u6642\", \"\\u75ab\\u60c5\", \"\\u75ab\\u60c5\", \"\\u75ab\\u60c5\", \"\\u75ab\\u60c5\", \"\\u75ab\\u60c5\", \"\\u75ab\\u82d7\", \"\\u75ab\\u82d7\", \"\\u75c5\\u6bd2\", \"\\u75c7\\u72c0\", \"\\u75c7\\u72c0\", \"\\u767c\\u5c04\", \"\\u767c\\u5c04\", \"\\u767c\\u6587\", \"\\u767c\\u6587\", \"\\u767c\\u6587\", \"\\u767c\\u73fe\", \"\\u767c\\u73fe\", \"\\u767c\\u73fe\", \"\\u767c\\u751f\", \"\\u767c\\u751f\", \"\\u767c\\u751f\", \"\\u767c\\u751f\", \"\\u767c\\u8868\", \"\\u767c\\u8868\", \"\\u76e7\\u79c0\\u71d5\", \"\\u76ee\\u524d\", \"\\u76ee\\u524d\", \"\\u76ee\\u524d\", \"\\u76ee\\u524d\", \"\\u76ee\\u524d\", \"\\u76f4\\u64ad\", \"\\u76f4\\u64ad\", \"\\u76f4\\u64ad\", \"\\u76f8\\u7576\", \"\\u76f8\\u7576\", \"\\u76f8\\u7576\", \"\\u76f8\\u7576\", \"\\u76f8\\u7576\", \"\\u76f8\\u95dc\", \"\\u76f8\\u95dc\", \"\\u76f8\\u95dc\", \"\\u76f8\\u95dc\", \"\\u76f8\\u95dc\", \"\\u770b\\u5230\", \"\\u770b\\u5230\", \"\\u770b\\u5230\", \"\\u770b\\u5230\", \"\\u770b\\u5230\", \"\\u771f\\u7684\", \"\\u771f\\u7684\", \"\\u771f\\u7684\", \"\\u771f\\u7684\", \"\\u77e5\\u9053\", \"\\u77e5\\u9053\", \"\\u77e5\\u9053\", \"\\u77e5\\u9053\", \"\\u78ba\\u8a3a\", \"\\u78ba\\u8a3a\", \"\\u78ba\\u8a3a\", \"\\u793e\\u6703\", \"\\u793e\\u6703\", \"\\u7a81\\u7136\", \"\\u7a81\\u7136\", \"\\u7a81\\u7136\", \"\\u7a81\\u7136\", \"\\u7acb\\u9676\\u5b9b\", \"\\u7bc0\\u76ee\", \"\\u7bc0\\u76ee\", \"\\u7c3d\\u540d\", \"\\u7c3d\\u540d\", \"\\u7c3d\\u540d\", \"\\u7c43\\u58c7\", \"\\u7c43\\u7403\", \"\\u7c43\\u7403\", \"\\u7c89\\u7d72\", \"\\u7c89\\u7d72\", \"\\u7d1b\\u7d1b\", \"\\u7d1b\\u7d1b\", \"\\u7d1b\\u7d1b\", \"\\u7d1b\\u7d1b\", \"\\u7d1b\\u7d1b\", \"\\u7d42\\u5834\", \"\\u7d50\\u5a5a\", \"\\u7d50\\u5a5a\", \"\\u7d93\\u5178\", \"\\u7d93\\u5178\", \"\\u7d93\\u5178\", \"\\u7d93\\u7d00\\u4eba\", \"\\u7dad\\u62c9\", \"\\u7db2\\u53cb\", \"\\u7db2\\u53cb\", \"\\u7db2\\u53cb\", \"\\u7db2\\u53cb\", \"\\u7e3d\\u6559\\u7df4\", \"\\u7e3d\\u6559\\u7df4\", \"\\u7e3d\\u7d71\", \"\\u7e3d\\u7d71\", \"\\u7e3d\\u7d71\", \"\\u7f8e\\u570b\", \"\\u7f8e\\u570b\", \"\\u7f8e\\u570b\", \"\\u7f8e\\u570b\", \"\\u7f8e\\u570b\", \"\\u7f8e\\u65b9\", \"\\u7fa9\\u5927\\u5229\", \"\\u7fa9\\u5927\\u5229\", \"\\u7fa9\\u5927\\u5229\", \"\\u7fa9\\u5927\\u5229\", \"\\u7fbd\\u7403\", \"\\u7fd2\\u8fd1\\u5e73\", \"\\u7fd4\\u5e73\", \"\\u8001\\u516c\", \"\\u8001\\u516c\", \"\\u8001\\u516c\", \"\\u8001\\u5a46\", \"\\u806f\\u76df\", \"\\u806f\\u76df\", \"\\u806f\\u76df\", \"\\u8072\\u660e\", \"\\u8072\\u660e\", \"\\u8072\\u660e\", \"\\u8077\\u68d2\", \"\\u8077\\u68d2\", \"\\u8077\\u7c43\", \"\\u80b2\\u6210\", \"\\u81c9\\u66f8\", \"\\u81c9\\u66f8\", \"\\u81c9\\u66f8\", \"\\u8209\\u8fa6\", \"\\u8209\\u8fa6\", \"\\u8209\\u8fa6\", \"\\u82f1\\u683c\\u862d\", \"\\u8377\\u862d\", \"\\u8377\\u862d\", \"\\u8377\\u862d\", \"\\u8389\\u5a6d\", \"\\u842c\\u5143\", \"\\u842c\\u5143\", \"\\u842c\\u5143\", \"\\u8461\\u8404\\u7259\", \"\\u85dd\\u4eba\", \"\\u85dd\\u4eba\", \"\\u85dd\\u8d77\", \"\\u884c\\u70ba\", \"\\u884c\\u70ba\", \"\\u884c\\u70ba\", \"\\u8868\\u73fe\", \"\\u8868\\u73fe\", \"\\u8868\\u73fe\", \"\\u8868\\u73fe\", \"\\u8868\\u73fe\", \"\\u8868\\u793a\", \"\\u8868\\u793a\", \"\\u8868\\u793a\", \"\\u8868\\u793a\", \"\\u8868\\u793a\", \"\\u8868\\u793a\", \"\\u88f4\\u6d1b\\u897f\", \"\\u897f\\u73ed\\u7259\", \"\\u897f\\u73ed\\u7259\", \"\\u8981\\u6c42\", \"\\u8981\\u6c42\", \"\\u8981\\u6c42\", \"\\u8981\\u6c42\", \"\\u89ba\\u5f97\", \"\\u89ba\\u5f97\", \"\\u89ba\\u5f97\", \"\\u89ba\\u5f97\", \"\\u8a00\\u8ad6\", \"\\u8a00\\u8ad6\", \"\\u8a13\\u7df4\", \"\\u8a13\\u7df4\", \"\\u8a13\\u7df4\", \"\\u8a31\\u591a\", \"\\u8a31\\u591a\", \"\\u8a31\\u591a\", \"\\u8a31\\u591a\", \"\\u8a31\\u591a\", \"\\u8a50\\u9a19\", \"\\u8a55\\u8ad6\", \"\\u8a8d\\u70ba\", \"\\u8a8d\\u70ba\", \"\\u8a8d\\u70ba\", \"\\u8a8d\\u70ba\", \"\\u8a8d\\u70ba\", \"\\u8a8d\\u70ba\", \"\\u8abf\\u67e5\", \"\\u8abf\\u67e5\", \"\\u8abf\\u67e5\", \"\\u8b66\\u65b9\", \"\\u8b70\\u9662\", \"\\u8ce0\\u511f\", \"\\u8ce0\\u7387\", \"\\u8cfd\\u4e8b\", \"\\u8cfd\\u4e8b\", \"\\u8d77\\u8a34\", \"\\u8db3\\u7403\\u8cfd\", \"\\u8def\\u900f\\u793e\", \"\\u8eca\\u798d\", \"\\u8ecd\\u4e8b\", \"\\u8fe6\\u7d0d\", \"\\u8ffd\\u8e64\", \"\\u8ffd\\u8e64\", \"\\u8ffd\\u8e64\", \"\\u8ffd\\u8e64\", \"\\u9001\\u5f80\", \"\\u9001\\u91ab\", \"\\u900f\\u9732\", \"\\u900f\\u9732\", \"\\u900f\\u9732\", \"\\u900f\\u9732\", \"\\u900f\\u9732\", \"\\u9019\\u540d\", \"\\u9019\\u540d\", \"\\u9019\\u540d\", \"\\u9019\\u6b21\", \"\\u9019\\u6b21\", \"\\u9019\\u6b21\", \"\\u9019\\u6b21\", \"\\u9019\\u6b21\", \"\\u9019\\u8d77\", \"\\u9019\\u8d77\", \"\\u9023\\u5343\\u6bc5\", \"\\u9032\\u5834\", \"\\u9032\\u5834\", \"\\u9032\\u7403\", \"\\u9032\\u7403\", \"\\u9032\\u7403\", \"\\u9032\\u884c\", \"\\u9032\\u884c\", \"\\u9032\\u884c\", \"\\u9032\\u884c\", \"\\u9032\\u884c\", \"\\u9038\\u6c11\", \"\\u904b\\u52d5\", \"\\u904b\\u52d5\", \"\\u904b\\u52d5\", \"\\u904b\\u52d5\", \"\\u904b\\u5f69\", \"\\u904e\\u53bb\", \"\\u904e\\u53bb\", \"\\u904e\\u53bb\", \"\\u904e\\u53bb\", \"\\u904e\\u53bb\", \"\\u9053\\u6b49\", \"\\u9053\\u6b49\", \"\\u906d\\u5230\", \"\\u906d\\u5230\", \"\\u906d\\u5230\", \"\\u906d\\u5230\", \"\\u9078\\u624b\", \"\\u9078\\u624b\", \"\\u90c1\\u5a77\", \"\\u90e8\\u968a\", \"\\u9130\\u5c45\", \"\\u91ab\\u5e2b\", \"\\u91ab\\u5e2b\", \"\\u91ab\\u9662\", \"\\u91ab\\u9662\", \"\\u91dd\\u5c0d\", \"\\u91dd\\u5c0d\", \"\\u91dd\\u5c0d\", \"\\u91dd\\u5c0d\", \"\\u92fc\\u9435\", \"\\u92fc\\u9435\", \"\\u958b\\u7403\", \"\\u958b\\u8eca\", \"\\u958b\\u8eca\", \"\\u95dc\\u4fc2\", \"\\u95dc\\u4fc2\", \"\\u95dc\\u4fc2\", \"\\u95dc\\u4fc2\", \"\\u963f\\u6839\\u5ef7\", \"\\u963f\\u6839\\u5ef7\", \"\\u9678\\u5a92\", \"\\u967d\\u6027\", \"\\u9694\\u96e2\", \"\\u9694\\u96e2\", \"\\u9694\\u96e2\", \"\\u96e2\\u5a5a\", \"\\u96e2\\u5a5a\", \"\\u96f2\\u8c79\", \"\\u96fb\\u5f71\", \"\\u970d\\u83ef\\u5fb7\", \"\\u9818\\u5148\", \"\\u9818\\u5148\", \"\\u98db\\u5f48\", \"\\u98db\\u5f48\", \"\\u98fe\\u6f14\", \"\\u9910\\u5ef3\", \"\\u9910\\u5ef3\", \"\\u9928\\u9577\", \"\\u99ac\\u65af\\u514b\", \"\\u99d5\\u99db\", \"\\u9ad8\\u4e2d\", \"\\u9ad8\\u4e2d\", \"\\u9ad8\\u4e2d\", \"\\u9ad8\\u96c4\", \"\\u9ad8\\u96c4\", \"\\u9b54\\u7378\"]}, \"R\": 30, \"lambda.step\": 0.01, \"plot.opts\": {\"xlab\": \"PC1\", \"ylab\": \"PC2\"}, \"topic.order\": [6, 1, 2, 5, 4, 3]};\n",
       "\n",
       "function LDAvis_load_lib(url, callback){\n",
       "  var s = document.createElement('script');\n",
       "  s.src = url;\n",
       "  s.async = true;\n",
       "  s.onreadystatechange = s.onload = callback;\n",
       "  s.onerror = function(){console.warn(\"failed to load library \" + url);};\n",
       "  document.getElementsByTagName(\"head\")[0].appendChild(s);\n",
       "}\n",
       "\n",
       "if(typeof(LDAvis) !== \"undefined\"){\n",
       "   // already loaded: just create the visualization\n",
       "   !function(LDAvis){\n",
       "       new LDAvis(\"#\" + \"ldavis_el151619211546750883238327648\", ldavis_el151619211546750883238327648_data);\n",
       "   }(LDAvis);\n",
       "}else if(typeof define === \"function\" && define.amd){\n",
       "   // require.js is available: use it to load d3/LDAvis\n",
       "   require.config({paths: {d3: \"https://d3js.org/d3.v5\"}});\n",
       "   require([\"d3\"], function(d3){\n",
       "      window.d3 = d3;\n",
       "      LDAvis_load_lib(\"https://cdn.jsdelivr.net/gh/bmabey/pyLDAvis@3.4.0/pyLDAvis/js/ldavis.v3.0.0.js\", function(){\n",
       "        new LDAvis(\"#\" + \"ldavis_el151619211546750883238327648\", ldavis_el151619211546750883238327648_data);\n",
       "      });\n",
       "    });\n",
       "}else{\n",
       "    // require.js not available: dynamically load d3 & LDAvis\n",
       "    LDAvis_load_lib(\"https://d3js.org/d3.v5.js\", function(){\n",
       "         LDAvis_load_lib(\"https://cdn.jsdelivr.net/gh/bmabey/pyLDAvis@3.4.0/pyLDAvis/js/ldavis.v3.0.0.js\", function(){\n",
       "                 new LDAvis(\"#\" + \"ldavis_el151619211546750883238327648\", ldavis_el151619211546750883238327648_data);\n",
       "            })\n",
       "         });\n",
       "}\n",
       "</script>"
      ],
      "text/plain": [
       "PreparedData(topic_coordinates=              x         y  topics  cluster       Freq\n",
       "topic                                                \n",
       "5      0.032743 -0.163200       1        1  27.989575\n",
       "0     -0.290395  0.004774       2        1  18.175638\n",
       "1      0.215103  0.062383       3        1  17.801363\n",
       "4      0.162608 -0.158587       4        1  12.280278\n",
       "3     -0.163383 -0.039026       5        1  11.885319\n",
       "2      0.043325  0.293655       6        1  11.867828, topic_info=     Term         Freq        Total Category  logprob  loglift\n",
       "7227  烏克蘭  1439.000000  1439.000000  Default  30.0000  30.0000\n",
       "8472  中華隊  1686.000000  1686.000000  Default  29.0000  29.0000\n",
       "4429   球迷  1641.000000  1641.000000  Default  28.0000  28.0000\n",
       "9555  俄羅斯  1089.000000  1089.000000  Default  27.0000  27.0000\n",
       "270    比賽  1875.000000  1875.000000  Default  26.0000  26.0000\n",
       "...   ...          ...          ...      ...      ...      ...\n",
       "258    指出   269.530027  1146.229259   Topic6  -5.6268   0.6838\n",
       "37     已經   276.517584  1804.701669   Topic6  -5.6012   0.2555\n",
       "854    進行   253.558469  1039.453809   Topic6  -5.6879   0.7205\n",
       "60     旅遊   240.581578   759.024446   Topic6  -5.7405   0.9824\n",
       "73     玩法   238.585133   672.127707   Topic6  -5.7488   1.0956\n",
       "\n",
       "[445 rows x 6 columns], token_table=      Topic      Freq Term\n",
       "term                      \n",
       "0         1  0.026100   一名\n",
       "0         2  0.013446   一名\n",
       "0         3  0.920624   一名\n",
       "0         6  0.039546   一名\n",
       "2         1  0.509609   一起\n",
       "...     ...       ...  ...\n",
       "1581      2  0.948420   高中\n",
       "1581      3  0.021647   高中\n",
       "2711      1  0.133928   高雄\n",
       "2711      5  0.867345   高雄\n",
       "9100      5  1.001520   魔獸\n",
       "\n",
       "[814 rows x 3 columns], R=30, lambda_step=0.01, plot_opts={'xlab': 'PC1', 'ylab': 'PC2'}, topic_order=[6, 1, 2, 5, 4, 3])"
      ]
     },
     "execution_count": 74,
     "metadata": {},
     "output_type": "execute_result"
    }
   ],
   "source": [
    "n_top_words = 10\n",
    "topic_word = model.topic_word_\n",
    "\n",
    "for i, topic_dist in enumerate(topic_word):\n",
    "    topic_words = np.array(vocab)[np.argsort(topic_dist)][: -(n_top_words + 1) : -1]\n",
    "    print(\"Topic {}: {}\".format(i, \" \".join(topic_words)))\n",
    "    \n",
    "\n",
    "doc_topic = model.doc_topic_\n",
    "term_freq = tuple(dictionary.cfs.values())\n",
    "doc_len = [sum(v for k, v in doc) for doc in corpus]\n",
    "\n",
    "## LDAvis\n",
    "pyLDAvis.enable_notebook()\n",
    "p = pyLDAvis.prepare(topic_word, doc_topic, doc_len, vocab = vocab, term_frequency = term_freq)\n",
    "p"
   ]
  },
  {
   "cell_type": "code",
   "execution_count": null,
   "metadata": {},
   "outputs": [],
   "source": [
    "# # EBC.loc[EBC['artCatagory']=='兩岸', \"content\"].to_csv(\"tmp.csv\")\n",
    "# EBC.loc[EBC['artCatagory']=='運動', \"words\"].to_csv(\"words.csv\")\n",
    "# EBC.loc[EBC['artCatagory']=='國際', \"words\"].to_csv(\"words_stock.csv\")\n"
   ]
  },
  {
   "cell_type": "code",
   "execution_count": null,
   "metadata": {},
   "outputs": [],
   "source": [
    "# EBC.loc[EBC['artCatagory']=='運動', \"words\"].explode().value_counts().to_csv(\"words_count.csv\")\n",
    "# EBC.loc[EBC['artCatagory']=='國際', \"words\"].explode().value_counts().to_csv(\"words_count_stock.csv\")"
   ]
  },
  {
   "attachments": {},
   "cell_type": "markdown",
   "metadata": {},
   "source": [
    "## 7. 主題分佈的應用，搭配其他文章資訊"
   ]
  },
  {
   "cell_type": "code",
   "execution_count": null,
   "metadata": {},
   "outputs": [],
   "source": [
    "# 取得每條新聞的主題分佈\n",
    "topics_doc = best_model.get_document_topics(corpus)"
   ]
  },
  {
   "cell_type": "code",
   "execution_count": null,
   "metadata": {},
   "outputs": [
    {
     "data": {
      "text/plain": [
       "[(3, 0.9945858)]"
      ]
     },
     "execution_count": 76,
     "metadata": {},
     "output_type": "execute_result"
    }
   ],
   "source": [
    "topics_doc[100]"
   ]
  },
  {
   "cell_type": "code",
   "execution_count": null,
   "metadata": {},
   "outputs": [
    {
     "data": {
      "text/plain": [
       "array([[0.        , 0.        , 0.        , ..., 0.07823034, 0.        ,\n",
       "        0.        ],\n",
       "       [0.        , 0.        , 0.        , ..., 0.        , 0.        ,\n",
       "        0.        ],\n",
       "       [0.        , 0.        , 0.03305633, ..., 0.74106169, 0.        ,\n",
       "        0.        ],\n",
       "       ...,\n",
       "       [0.        , 0.99296522, 0.        , ..., 0.        , 0.        ,\n",
       "        0.        ],\n",
       "       [0.        , 0.        , 0.98954976, ..., 0.        , 0.        ,\n",
       "        0.        ],\n",
       "       [0.        , 0.        , 0.95738012, ..., 0.        , 0.        ,\n",
       "        0.02802438]])"
      ]
     },
     "execution_count": 77,
     "metadata": {},
     "output_type": "execute_result"
    }
   ],
   "source": [
    "m_theta = corpus2csc(topics_doc).T.toarray()\n",
    "m_theta"
   ]
  },
  {
   "cell_type": "code",
   "execution_count": null,
   "metadata": {},
   "outputs": [],
   "source": [
    "EBC['topic_label'] = m_theta.argmax(axis=1) + 1"
   ]
  },
  {
   "cell_type": "code",
   "execution_count": null,
   "metadata": {},
   "outputs": [
    {
     "data": {
      "text/plain": [
       "topic_label\n",
       "4    1483\n",
       "5     837\n",
       "6     575\n",
       "3     477\n",
       "2     436\n",
       "7     193\n",
       "1      97\n",
       "Name: count, dtype: int64"
      ]
     },
     "execution_count": 79,
     "metadata": {},
     "output_type": "execute_result"
    }
   ],
   "source": [
    "EBC['topic_label'].value_counts()"
   ]
  },
  {
   "cell_type": "code",
   "execution_count": null,
   "metadata": {},
   "outputs": [
    {
     "data": {
      "text/html": [
       "<div>\n",
       "<style scoped>\n",
       "    .dataframe tbody tr th:only-of-type {\n",
       "        vertical-align: middle;\n",
       "    }\n",
       "\n",
       "    .dataframe tbody tr th {\n",
       "        vertical-align: top;\n",
       "    }\n",
       "\n",
       "    .dataframe thead th {\n",
       "        text-align: right;\n",
       "    }\n",
       "</style>\n",
       "<table border=\"1\" class=\"dataframe\">\n",
       "  <thead>\n",
       "    <tr style=\"text-align: right;\">\n",
       "      <th></th>\n",
       "      <th>content</th>\n",
       "      <th>artUrl</th>\n",
       "      <th>artCatagory</th>\n",
       "      <th>artDate</th>\n",
       "      <th>words</th>\n",
       "      <th>topic_label</th>\n",
       "    </tr>\n",
       "  </thead>\n",
       "  <tbody>\n",
       "    <tr>\n",
       "      <th>0</th>\n",
       "      <td>任家萱離婚年今日傳出好消息她被陸媒拍到和神秘男子手勾手回酒店一路上還不停跳躍看起來心情非常好...</td>\n",
       "      <td>https://news.ebc.net.tw/news/article/305059</td>\n",
       "      <td>娛樂</td>\n",
       "      <td>2022-03-03 12:44:00</td>\n",
       "      <td>[任家萱, 離婚, 今日, 傳出, 好消息, 陸媒, 神秘, 男子, 手勾手, 酒店, 一路...</td>\n",
       "      <td>4</td>\n",
       "    </tr>\n",
       "    <tr>\n",
       "      <th>1</th>\n",
       "      <td>最高榮譽殿堂走鐘獎邁入第四屆不少共襄盛舉以九天玄女紅遍全台的阿翰靠著算命阿姨奪下最佳影片獎在...</td>\n",
       "      <td>https://news.ebc.net.tw/news/article/342619</td>\n",
       "      <td>娛樂</td>\n",
       "      <td>2022-10-30 11:42:00</td>\n",
       "      <td>[最高, 榮譽, 殿堂, 鐘獎, 邁入, 第四屆, 共襄盛舉, 九天, 玄女, 紅遍, 全台...</td>\n",
       "      <td>4</td>\n",
       "    </tr>\n",
       "    <tr>\n",
       "      <th>2</th>\n",
       "      <td>大陸歌手劉維曾赴韓拜師朴軫永成為首位中國練習生後來在中國好聲音演唱范曉萱的歌曲因為你是范曉萱...</td>\n",
       "      <td>https://news.ebc.net.tw/news/article/312350</td>\n",
       "      <td>娛樂</td>\n",
       "      <td>2022-04-15 06:40:00</td>\n",
       "      <td>[大陸歌手, 劉維, 赴韓, 拜師, 朴軫, 永成, 首位, 中國, 練習生, 中國, 聲音...</td>\n",
       "      <td>5</td>\n",
       "    </tr>\n",
       "    <tr>\n",
       "      <th>3</th>\n",
       "      <td>華燈初上第三季日上線許多人為了避免被旁人爆雷在最短時間內拚命把劇追完飾演日式酒店小姐花子的劉...</td>\n",
       "      <td>https://news.ebc.net.tw/news/article/308225</td>\n",
       "      <td>娛樂</td>\n",
       "      <td>2022-03-22 13:47:00</td>\n",
       "      <td>[華燈初上, 第三季, 上線, 許多, 人為, 避免, 爆雷, 短時間, 拚命, 把劇, 飾...</td>\n",
       "      <td>4</td>\n",
       "    </tr>\n",
       "    <tr>\n",
       "      <th>4</th>\n",
       "      <td>年底最受矚目的犯罪懸疑國片由新銳導演陳奕甫執導找來張孝全陳昊森兩大男神攜手主演上映前舉辦多場...</td>\n",
       "      <td>https://news.ebc.net.tw/news/article/342847</td>\n",
       "      <td>娛樂</td>\n",
       "      <td>2022-11-01 11:25:00</td>\n",
       "      <td>[年底, 最受, 矚目, 犯罪, 懸疑, 國片, 新銳, 導演, 執導, 找來, 張孝, 全...</td>\n",
       "      <td>4</td>\n",
       "    </tr>\n",
       "  </tbody>\n",
       "</table>\n",
       "</div>"
      ],
      "text/plain": [
       "                                             content   \n",
       "0  任家萱離婚年今日傳出好消息她被陸媒拍到和神秘男子手勾手回酒店一路上還不停跳躍看起來心情非常好...  \\\n",
       "1  最高榮譽殿堂走鐘獎邁入第四屆不少共襄盛舉以九天玄女紅遍全台的阿翰靠著算命阿姨奪下最佳影片獎在...   \n",
       "2  大陸歌手劉維曾赴韓拜師朴軫永成為首位中國練習生後來在中國好聲音演唱范曉萱的歌曲因為你是范曉萱...   \n",
       "3  華燈初上第三季日上線許多人為了避免被旁人爆雷在最短時間內拚命把劇追完飾演日式酒店小姐花子的劉...   \n",
       "4  年底最受矚目的犯罪懸疑國片由新銳導演陳奕甫執導找來張孝全陳昊森兩大男神攜手主演上映前舉辦多場...   \n",
       "\n",
       "                                        artUrl artCatagory   \n",
       "0  https://news.ebc.net.tw/news/article/305059          娛樂  \\\n",
       "1  https://news.ebc.net.tw/news/article/342619          娛樂   \n",
       "2  https://news.ebc.net.tw/news/article/312350          娛樂   \n",
       "3  https://news.ebc.net.tw/news/article/308225          娛樂   \n",
       "4  https://news.ebc.net.tw/news/article/342847          娛樂   \n",
       "\n",
       "              artDate                                              words   \n",
       "0 2022-03-03 12:44:00  [任家萱, 離婚, 今日, 傳出, 好消息, 陸媒, 神秘, 男子, 手勾手, 酒店, 一路...  \\\n",
       "1 2022-10-30 11:42:00  [最高, 榮譽, 殿堂, 鐘獎, 邁入, 第四屆, 共襄盛舉, 九天, 玄女, 紅遍, 全台...   \n",
       "2 2022-04-15 06:40:00  [大陸歌手, 劉維, 赴韓, 拜師, 朴軫, 永成, 首位, 中國, 練習生, 中國, 聲音...   \n",
       "3 2022-03-22 13:47:00  [華燈初上, 第三季, 上線, 許多, 人為, 避免, 爆雷, 短時間, 拚命, 把劇, 飾...   \n",
       "4 2022-11-01 11:25:00  [年底, 最受, 矚目, 犯罪, 懸疑, 國片, 新銳, 導演, 執導, 找來, 張孝, 全...   \n",
       "\n",
       "   topic_label  \n",
       "0            4  \n",
       "1            4  \n",
       "2            5  \n",
       "3            4  \n",
       "4            4  "
      ]
     },
     "execution_count": 80,
     "metadata": {},
     "output_type": "execute_result"
    }
   ],
   "source": [
    "EBC.head()"
   ]
  },
  {
   "cell_type": "code",
   "execution_count": null,
   "metadata": {},
   "outputs": [],
   "source": [
    "EBC['artDate'] = pd.to_datetime(EBC['artDate'])\n"
   ]
  },
  {
   "cell_type": "code",
   "execution_count": null,
   "metadata": {},
   "outputs": [
    {
     "data": {
      "text/plain": [
       "0       2022\n",
       "1       2022\n",
       "2       2022\n",
       "3       2022\n",
       "4       2022\n",
       "        ... \n",
       "4093    2023\n",
       "4094    2023\n",
       "4095    2023\n",
       "4096    2023\n",
       "4097    2023\n",
       "Name: artDate, Length: 4098, dtype: int32"
      ]
     },
     "execution_count": 82,
     "metadata": {},
     "output_type": "execute_result"
    }
   ],
   "source": [
    "EBC['artDate'].dt.year"
   ]
  },
  {
   "cell_type": "code",
   "execution_count": null,
   "metadata": {},
   "outputs": [
    {
     "data": {
      "text/plain": [
       "artDate  topic_label\n",
       "2022     4              0.395775\n",
       "         5              0.230282\n",
       "         6              0.169718\n",
       "         3              0.136620\n",
       "         7              0.036972\n",
       "         2              0.026761\n",
       "         1              0.003873\n",
       "2023     2              0.286169\n",
       "         4              0.285374\n",
       "         5              0.145469\n",
       "         6              0.073927\n",
       "         3              0.070747\n",
       "         7              0.069952\n",
       "         1              0.068362\n",
       "Name: proportion, dtype: float64"
      ]
     },
     "execution_count": 83,
     "metadata": {},
     "output_type": "execute_result"
    }
   ],
   "source": [
    "EBC.groupby(EBC['artDate'].dt.year)['topic_label'].value_counts(normalize=True)"
   ]
  },
  {
   "cell_type": "code",
   "execution_count": null,
   "metadata": {},
   "outputs": [
    {
     "data": {
      "text/html": [
       "<div>\n",
       "<style scoped>\n",
       "    .dataframe tbody tr th:only-of-type {\n",
       "        vertical-align: middle;\n",
       "    }\n",
       "\n",
       "    .dataframe tbody tr th {\n",
       "        vertical-align: top;\n",
       "    }\n",
       "\n",
       "    .dataframe thead th {\n",
       "        text-align: right;\n",
       "    }\n",
       "</style>\n",
       "<table border=\"1\" class=\"dataframe\">\n",
       "  <thead>\n",
       "    <tr style=\"text-align: right;\">\n",
       "      <th>topic_label</th>\n",
       "      <th>1</th>\n",
       "      <th>2</th>\n",
       "      <th>3</th>\n",
       "      <th>4</th>\n",
       "      <th>5</th>\n",
       "      <th>6</th>\n",
       "      <th>7</th>\n",
       "    </tr>\n",
       "    <tr>\n",
       "      <th>artDate</th>\n",
       "      <th></th>\n",
       "      <th></th>\n",
       "      <th></th>\n",
       "      <th></th>\n",
       "      <th></th>\n",
       "      <th></th>\n",
       "      <th></th>\n",
       "    </tr>\n",
       "  </thead>\n",
       "  <tbody>\n",
       "    <tr>\n",
       "      <th>2022</th>\n",
       "      <td>0.003873</td>\n",
       "      <td>0.026761</td>\n",
       "      <td>0.136620</td>\n",
       "      <td>0.395775</td>\n",
       "      <td>0.230282</td>\n",
       "      <td>0.169718</td>\n",
       "      <td>0.036972</td>\n",
       "    </tr>\n",
       "    <tr>\n",
       "      <th>2023</th>\n",
       "      <td>0.068362</td>\n",
       "      <td>0.286169</td>\n",
       "      <td>0.070747</td>\n",
       "      <td>0.285374</td>\n",
       "      <td>0.145469</td>\n",
       "      <td>0.073927</td>\n",
       "      <td>0.069952</td>\n",
       "    </tr>\n",
       "  </tbody>\n",
       "</table>\n",
       "</div>"
      ],
      "text/plain": [
       "topic_label         1         2         3         4         5         6   \n",
       "artDate                                                                   \n",
       "2022         0.003873  0.026761  0.136620  0.395775  0.230282  0.169718  \\\n",
       "2023         0.068362  0.286169  0.070747  0.285374  0.145469  0.073927   \n",
       "\n",
       "topic_label         7  \n",
       "artDate                \n",
       "2022         0.036972  \n",
       "2023         0.069952  "
      ]
     },
     "execution_count": 84,
     "metadata": {},
     "output_type": "execute_result"
    }
   ],
   "source": [
    "date_topic = EBC.groupby(EBC['artDate'].dt.year)['topic_label'].value_counts(normalize=True).unstack()\n",
    "date_topic.head()"
   ]
  },
  {
   "cell_type": "code",
   "execution_count": null,
   "metadata": {},
   "outputs": [
    {
     "data": {
      "text/plain": [
       "<AxesSubplot:xlabel='artDate'>"
      ]
     },
     "execution_count": 85,
     "metadata": {},
     "output_type": "execute_result"
    },
    {
     "data": {
      "image/png": "[encoded data removed]",
      "text/plain": [
       "<Figure size 1080x432 with 1 Axes>"
      ]
     },
     "metadata": {
      "needs_background": "light"
     },
     "output_type": "display_data"
    }
   ],
   "source": [
    "fig, ax = plt.subplots(figsize=(15, 6))\n",
    "date_topic.plot.bar(ax=ax, stacked=True, color = plt.cm.Set3.colors)"
   ]
  },
  {
   "attachments": {},
   "cell_type": "markdown",
   "metadata": {},
   "source": [
    "透過搭配文章的資訊（例如日期等），可以讓主題模型的結果做出更多的分析應用"
   ]
  }
 ],
 "metadata": {
  "kernelspec": {
   "display_name": "py37",
   "language": "python",
   "name": "python3"
  },
  "language_info": {
   "codemirror_mode": {
    "name": "ipython",
    "version": 3
   },
   "file_extension": ".py",
   "mimetype": "text/x-python",
   "name": "python",
   "nbconvert_exporter": "python",
   "pygments_lexer": "ipython3",
   "version": "3.9.7"
  },
  "orig_nbformat": 4
 },
 "nbformat": 4,
 "nbformat_minor": 2
}
