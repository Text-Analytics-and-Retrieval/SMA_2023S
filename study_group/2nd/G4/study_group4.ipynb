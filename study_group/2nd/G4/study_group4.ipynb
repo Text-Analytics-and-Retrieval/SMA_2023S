{
 "cells": [
  {
   "attachments": {},
   "cell_type": "markdown",
   "id": "da022ed3",
   "metadata": {},
   "source": [
    "# 第六週: 中文文集的情緒分析2\n",
    "\n",
    "**Author:** 蔡睿澤<br>\n",
    "**Date created:** 2023/03/22<br>\n",
    "**Last modified:** 2023/03/27<br><br>\n",
    "本週課程為「情緒分析2」，與情緒分析1不同，這次會使用中研院提供的CKIP自然語言處理工具包，但其中不像coreNLP有提供情緒分析套件，所以在此介紹一款用於中文情緒分析的套件SnowNLP，是Courpus-base的情緒分析，不是使用情緒字典，而是使用預訓練的情緒分析模型或演算法，給與整個文章一個情緒分數。情緒分析2的步驟會因所要分析之語言不同而有所差異，在這個Jupyter Notebook當中將會展示「中文」的情緒分析，並且搭配python程式碼進行講解。在後面的內容中會介紹CKIP、分析方法、SnowNLP"
   ]
  },
  {
   "attachments": {},
   "cell_type": "markdown",
   "id": "fb0d14e6",
   "metadata": {},
   "source": [
    "## 大綱\n",
    "1. 套件說明\n",
    "2. CKIP 介紹\n",
    "    + 2.1 安裝CKIP\n",
    "    + 2.2 利用CKIP進行自然語言處理\n",
    "3. CKIP 標註\n",
    "    + 3.1 將抓取結果用CKIP進行處理\n",
    "    + 3.2 探索分析 - NER\n",
    "    + 3.3 探索分析 - POS\n",
    "4. 利用SnowNLP進行情緒分析"
   ]
  },
  {
   "attachments": {},
   "cell_type": "markdown",
   "id": "4129b6a6",
   "metadata": {},
   "source": [
    "## 1. 套件說明\n",
    "下面列出在本次實作過程中我們所使用到的相關套件，在這個Jupyter Notebook當中我們將會簡單的展示這些套件的使用方式，關於各個套件的進階使用請同學參照其官網的說明。\n",
    "- pandas: 一個資料分析的函式庫，提供了DataFrame等資料格式，與資料處理的函數。\n",
    "- CKIP: 全名為Chinese Knowledge and Information Processing，中研院開發的中文自然語言處理工具。\n",
    "- wordcloud: 文字雲繪圖工具。\n",
    "- matplotlib: 繪圖工具。\n",
    "- SnowNLP: SnowNLP是一個可以方便的處理中文文本內容的python類庫，是受到了TextBlob的啟發而寫的。SnowNLP主要功能包括斷詞、詞性標註、情緒分析、漢字轉拼音、繁體轉簡體、關鍵詞提取以及文本摘要等等。"
   ]
  },
  {
   "cell_type": "code",
   "execution_count": null,
   "id": "9608a7d1",
   "metadata": {},
   "outputs": [],
   "source": [
    "# 安裝會使用到的套件\n",
    "# 安裝ckiptagger前要先安裝tensorflow，有套件相依的問題\n",
    "# %pip install ckiptagger[tf,gdown] wordcloud SnowNLP"
   ]
  },
  {
   "cell_type": "code",
   "execution_count": 3,
   "id": "18e2b394",
   "metadata": {},
   "outputs": [
    {
     "data": {
      "text/plain": [
       "'c:\\\\Users\\\\grace\\\\Desktop\\\\大四\\\\111-2\\\\社群媒體分析\\\\2nd 讀書會'"
      ]
     },
     "execution_count": 3,
     "metadata": {},
     "output_type": "execute_result"
    }
   ],
   "source": [
    "# 確認當前工作目錄\n",
    "#%pwd"
   ]
  },
  {
   "cell_type": "code",
   "execution_count": 6,
   "id": "8d4b114a",
   "metadata": {},
   "outputs": [],
   "source": [
    "from ckiptagger import data_utils, construct_dictionary, WS, POS, NER\n",
    "import configparser, re, os, io\n",
    "\n",
    "from wordcloud import WordCloud, ImageColorGenerator\n",
    "\n",
    "import pandas as pd\n",
    "import numpy as np\n",
    "import matplotlib.pyplot as plt\n",
    "import time\n",
    "from datetime import datetime, timedelta"
   ]
  },
  {
   "cell_type": "markdown",
   "id": "58dd81c4",
   "metadata": {},
   "source": [
    "如果有重新裝package，記得需要restart kernel 才會使用更新後的套件"
   ]
  },
  {
   "attachments": {},
   "cell_type": "markdown",
   "id": "bd68b0a5",
   "metadata": {},
   "source": [
    "## 2. CKIP 介紹\n",
    "- 是中研院詞庫小組開發的中文自然語言處理套件，其斷詞效果比起`jieba`效果更好，並且提供性命名實體辨識、詞性標註、句法分析\n",
    "- github: https://github.com/ckiplab/ckiptagger\n",
    "\n",
    "### 2.1 CKIP安裝"
   ]
  },
  {
   "cell_type": "code",
   "execution_count": null,
   "id": "fa42cfd1",
   "metadata": {},
   "outputs": [],
   "source": [
    "data_utils.download_data_gdown(\"./\") # gdrive-ckip # 下載ckip model"
   ]
  },
  {
   "attachments": {},
   "cell_type": "markdown",
   "id": "95b76d22",
   "metadata": {},
   "source": [
    "### 2.2 利用CKIP進行自然語言處理\n",
    "透過ckip這個套件可以對文集進行斷詞、命名實體辨識、詞性標記等處理\n",
    "+ CKIP 標註任務\n",
    "    + 斷詞（ws）\n",
    "        + 可以設定自己的辭典\n",
    "            + `recommend_dictionary` 推薦字典\n",
    "            + `coerce_dictionary` 強制字典\n",
    "    + 實體辨識（ner）\n",
    "    + 詞性標註（pos）\n",
    "+ NER與POS名詞對應: https://ckip.iis.sinica.edu.tw/service/corenlp/ （左上角的標記列表）"
   ]
  },
  {
   "cell_type": "code",
   "execution_count": 3,
   "id": "66a409b7",
   "metadata": {},
   "outputs": [
    {
     "name": "stderr",
     "output_type": "stream",
     "text": [
      "c:\\Users\\grace\\AppData\\Local\\Programs\\Python\\Python39\\lib\\site-packages\\ckiptagger\\model_ws.py:106: UserWarning: `tf.nn.rnn_cell.LSTMCell` is deprecated and will be removed in a future version. This class is equivalent as `tf.keras.layers.LSTMCell`, and will be replaced by that in Tensorflow 2.0.\n",
      "  cell = tf.compat.v1.nn.rnn_cell.LSTMCell(hidden_d, name=name)\n",
      "c:\\Users\\grace\\AppData\\Local\\Programs\\Python\\Python39\\lib\\site-packages\\ckiptagger\\model_pos.py:56: UserWarning: `tf.nn.rnn_cell.LSTMCell` is deprecated and will be removed in a future version. This class is equivalent as `tf.keras.layers.LSTMCell`, and will be replaced by that in Tensorflow 2.0.\n",
      "  cell = tf.compat.v1.nn.rnn_cell.LSTMCell(hidden_d, name=name)\n",
      "c:\\Users\\grace\\AppData\\Local\\Programs\\Python\\Python39\\lib\\site-packages\\ckiptagger\\model_ner.py:57: UserWarning: `tf.nn.rnn_cell.LSTMCell` is deprecated and will be removed in a future version. This class is equivalent as `tf.keras.layers.LSTMCell`, and will be replaced by that in Tensorflow 2.0.\n",
      "  cell = tf.compat.v1.nn.rnn_cell.LSTMCell(hidden_d, name=name)\n"
     ]
    }
   ],
   "source": [
    "# 將三份工具的模型路徑指向我們剛才下載的 data.zip\n",
    "ws = WS(\"./data\")\n",
    "pos = POS(\"./data\")\n",
    "ner = NER(\"./data\")"
   ]
  },
  {
   "cell_type": "code",
   "execution_count": 4,
   "id": "fa81605a",
   "metadata": {},
   "outputs": [
    {
     "name": "stdout",
     "output_type": "stream",
     "text": [
      "[(4, {'魔法覺醒': 1.0, '睽違已久': 2.0})]\n"
     ]
    }
   ],
   "source": [
    "# 自定義辭典\n",
    "word_to_weight = {\n",
    "    \"魔法覺醒\": 1,\n",
    "    \"睽違已久\": 2,\n",
    "}\n",
    "dictionary1 = construct_dictionary(word_to_weight)\n",
    "print(dictionary1)"
   ]
  },
  {
   "cell_type": "code",
   "execution_count": 5,
   "id": "cc8896b7",
   "metadata": {},
   "outputs": [
    {
     "name": "stdout",
     "output_type": "stream",
     "text": [
      "\n",
      "sentence 0: 哈利波特魔法覺醒是一個中國網易代理的粉絲睽違已久的手遊app\n",
      "\n",
      "POS: \n",
      "哈利波特(Nb)　魔法覺醒(Nb)　是(SHI)　一(Neu)　個(Nf)　中國(Nc)　網易(Nb)　代理(VC)　的(DE)　粉絲(Na)　睽違已久(VH)　的(DE)　手遊(Na)　app(FW)　\n",
      "\n",
      "NER: \n",
      "(11, 13, 'NORP', '中國')\n",
      "(13, 15, 'ORG', '網易')\n",
      "\n",
      "sentence 1: 很多人滿心期待這款英國出品的遊戲，卻又害怕受傷害\n",
      "\n",
      "POS: \n",
      "很多(Neqa)　人(Na)　滿心(D)　期待(VK)　這(Nep)　款(Nf)　英國(Nc)　出品(VC)　的(DE)　遊戲(Na)　，(COMMACATEGORY)　卻(D)　又(D)　害怕(VK)　受(VJ)　傷害(Na)　\n",
      "\n",
      "NER: \n",
      "(9, 11, 'GPE', '英國')\n"
     ]
    }
   ],
   "source": [
    "sentence_list = [\n",
    "    \"哈利波特魔法覺醒是一個中國網易代理的粉絲睽違已久的手遊app\",\n",
    "     \"很多人滿心期待這款英國出品的遊戲，卻又害怕受傷害\"\n",
    "]\n",
    "\n",
    "word_sentence_list = ws(sentence_list, coerce_dictionary = dictionary1)  # 斷詞\n",
    "pos_sentence_list = pos(word_sentence_list)\n",
    "entity_sentence_list = ner(word_sentence_list, pos_sentence_list)\n",
    "\n",
    "def print_word_pos_sentence(word_sentence, pos_sentence):\n",
    "    assert len(word_sentence) == len(pos_sentence)\n",
    "    for word, pos in zip(word_sentence, pos_sentence):\n",
    "        print(f\"{word}({pos})\", end=\"\\u3000\")\n",
    "    print()\n",
    "    return\n",
    "    \n",
    "for i, sentence in enumerate(sentence_list):\n",
    "    print()\n",
    "    print(f\"sentence {i}: {sentence}\")\n",
    "    print(\"\\nPOS: \")\n",
    "    print_word_pos_sentence(word_sentence_list[i],  pos_sentence_list[i])\n",
    "    print(\"\\nNER: \")\n",
    "    for entity in sorted(entity_sentence_list[i]):\n",
    "        print(entity)"
   ]
  },
  {
   "attachments": {},
   "cell_type": "markdown",
   "id": "fa6b44f4",
   "metadata": {},
   "source": [
    "## 3. CKIP 標註"
   ]
  },
  {
   "attachments": {},
   "cell_type": "markdown",
   "id": "8461310e",
   "metadata": {},
   "source": [
    "### 3.1 將抓取結果用CKIP進行處理\n",
    "資料來源：\n",
    "+ 工作流程平台蒐集PTT 美食版(Food)文章\n",
    "+ 關鍵字:「吃到飽」(1630筆)\n",
    "+ 時間: 2020-01-10 ~ 2022-12-31\n",
    "\n",
    "我們已經介紹過CKIP的使用方式，現在來對PTT的資料使用CKIP進行自然語言處理"
   ]
  },
  {
   "cell_type": "code",
   "execution_count": 19,
   "id": "af3e34be",
   "metadata": {},
   "outputs": [
    {
     "data": {
      "text/html": [
       "<div>\n",
       "<style scoped>\n",
       "    .dataframe tbody tr th:only-of-type {\n",
       "        vertical-align: middle;\n",
       "    }\n",
       "\n",
       "    .dataframe tbody tr th {\n",
       "        vertical-align: top;\n",
       "    }\n",
       "\n",
       "    .dataframe thead th {\n",
       "        text-align: right;\n",
       "    }\n",
       "</style>\n",
       "<table border=\"1\" class=\"dataframe\">\n",
       "  <thead>\n",
       "    <tr style=\"text-align: right;\">\n",
       "      <th></th>\n",
       "      <th>system_id</th>\n",
       "      <th>artUrl</th>\n",
       "      <th>artTitle</th>\n",
       "      <th>artDate</th>\n",
       "      <th>artPoster</th>\n",
       "      <th>artCatagory</th>\n",
       "      <th>artContent</th>\n",
       "      <th>artComment</th>\n",
       "      <th>e_ip</th>\n",
       "      <th>insertedDate</th>\n",
       "      <th>dataSource</th>\n",
       "    </tr>\n",
       "  </thead>\n",
       "  <tbody>\n",
       "    <tr>\n",
       "      <th>0</th>\n",
       "      <td>1</td>\n",
       "      <td>https://www.ptt.cc/bbs/Tech_Job/M.1514831112.A...</td>\n",
       "      <td>[請益]研替offer（類比科/力智/鈺創/瑞鼎）</td>\n",
       "      <td>2018-01-01 18:19:10</td>\n",
       "      <td>elohaxup6xl3</td>\n",
       "      <td>Tech_Job</td>\n",
       "      <td>各位年薪千萬的大大好，新年快樂。\\n小弟是第一次發文的新鮮人\\n目前研替面試一個段落\\n拿到...</td>\n",
       "      <td>[{\"cmtStatus\": \"推\", \"cmtPoster\": \"hsucheng\", \"...</td>\n",
       "      <td>223.141.230.104</td>\n",
       "      <td>2018-04-27 12:51:21</td>\n",
       "      <td>ptt</td>\n",
       "    </tr>\n",
       "    <tr>\n",
       "      <th>1</th>\n",
       "      <td>2</td>\n",
       "      <td>https://www.ptt.cc/bbs/Tech_Job/M.1514853292.A...</td>\n",
       "      <td>[新聞]【掙扎片】年薪百萬的科技人　卻因這幾點</td>\n",
       "      <td>2018-01-02 00:28:49</td>\n",
       "      <td>Angels5566</td>\n",
       "      <td>Tech_Job</td>\n",
       "      <td>有網友在mobile01分享，自己在科技業已工作9年，年薪約百萬，但最近老婆還是希望他\\n去...</td>\n",
       "      <td>[{\"cmtStatus\": \"→\", \"cmtPoster\": \"latin0126\", ...</td>\n",
       "      <td>113.196.174.254</td>\n",
       "      <td>2018-04-27 12:51:21</td>\n",
       "      <td>ptt</td>\n",
       "    </tr>\n",
       "    <tr>\n",
       "      <th>2</th>\n",
       "      <td>3</td>\n",
       "      <td>https://www.ptt.cc/bbs/Tech_Job/M.1515382875.A...</td>\n",
       "      <td>[徵才]高雄昇雷科技股份有限公司誠徵工程師</td>\n",
       "      <td>2018-01-08 03:35:11</td>\n",
       "      <td>qqgreenmoon</td>\n",
       "      <td>Tech_Job</td>\n",
       "      <td>【公司名稱】\\n昇雷科技股份有限公司\\n\\n【工作職缺】\\n1、硬體工程師\\n2、系統工程師...</td>\n",
       "      <td>[{\"cmtStatus\": \"推\", \"cmtPoster\": \"ohmypig\", \"c...</td>\n",
       "      <td>1.173.60.158</td>\n",
       "      <td>2018-04-27 12:51:21</td>\n",
       "      <td>ptt</td>\n",
       "    </tr>\n",
       "  </tbody>\n",
       "</table>\n",
       "</div>"
      ],
      "text/plain": [
       "   system_id                                             artUrl  \\\n",
       "0          1  https://www.ptt.cc/bbs/Tech_Job/M.1514831112.A...   \n",
       "1          2  https://www.ptt.cc/bbs/Tech_Job/M.1514853292.A...   \n",
       "2          3  https://www.ptt.cc/bbs/Tech_Job/M.1515382875.A...   \n",
       "\n",
       "                    artTitle              artDate     artPoster artCatagory  \\\n",
       "0  [請益]研替offer（類比科/力智/鈺創/瑞鼎）  2018-01-01 18:19:10  elohaxup6xl3    Tech_Job   \n",
       "1    [新聞]【掙扎片】年薪百萬的科技人　卻因這幾點  2018-01-02 00:28:49    Angels5566    Tech_Job   \n",
       "2      [徵才]高雄昇雷科技股份有限公司誠徵工程師  2018-01-08 03:35:11   qqgreenmoon    Tech_Job   \n",
       "\n",
       "                                          artContent  \\\n",
       "0  各位年薪千萬的大大好，新年快樂。\\n小弟是第一次發文的新鮮人\\n目前研替面試一個段落\\n拿到...   \n",
       "1  有網友在mobile01分享，自己在科技業已工作9年，年薪約百萬，但最近老婆還是希望他\\n去...   \n",
       "2  【公司名稱】\\n昇雷科技股份有限公司\\n\\n【工作職缺】\\n1、硬體工程師\\n2、系統工程師...   \n",
       "\n",
       "                                          artComment             e_ip  \\\n",
       "0  [{\"cmtStatus\": \"推\", \"cmtPoster\": \"hsucheng\", \"...  223.141.230.104   \n",
       "1  [{\"cmtStatus\": \"→\", \"cmtPoster\": \"latin0126\", ...  113.196.174.254   \n",
       "2  [{\"cmtStatus\": \"推\", \"cmtPoster\": \"ohmypig\", \"c...     1.173.60.158   \n",
       "\n",
       "          insertedDate dataSource  \n",
       "0  2018-04-27 12:51:21        ptt  \n",
       "1  2018-04-27 12:51:21        ptt  \n",
       "2  2018-04-27 12:51:21        ptt  "
      ]
     },
     "execution_count": 19,
     "metadata": {},
     "output_type": "execute_result"
    }
   ],
   "source": [
    "## 讀取文章\n",
    "df = pd.read_csv('Tech_Job_OriginalData.csv')\n",
    "df.head(3)"
   ]
  },
  {
   "attachments": {},
   "cell_type": "markdown",
   "id": "8f0fd904",
   "metadata": {},
   "source": [
    "定義文字清理的相關function"
   ]
  },
  {
   "cell_type": "code",
   "execution_count": 7,
   "id": "6c8e5837",
   "metadata": {},
   "outputs": [],
   "source": [
    "def Segmentation_Core(data, tokenizer):\n",
    "    # 將所有的斷行字元配上 escape 以防失效\n",
    "    regexPattern = '|'.join(map(re.escape, tokenizer))\n",
    "    output_list = re.split(regexPattern, data)\n",
    "    # 過濾空白行\n",
    "    output_list = list(filter(None, output_list))\n",
    "    return output_list\n",
    "\n",
    "def Sentence_Segmentation(article, keep_digits=False, keep_alphabets=False):\n",
    "    \"\"\" Sentence_Segmentation function 用於執行中文斷行任務\n",
    "\n",
    "    順序如下：\n",
    "    1. 去除(\\\\n)\n",
    "    2. 去除特殊符號字元\n",
    "    3. 保留數字\n",
    "    4. 依照斷句字元進行斷句全形的分號、逗號、句號、問號以及驚嘆號\n",
    "    5. 避免空白斷句結果\n",
    "\n",
    "    Args:\n",
    "        article(string): 欲斷行之文章內容\n",
    "        keep_digits(Boolean): 決定是否保留數字於斷行後的結果\n",
    "        keep_alphabets(Boolean): 決定是否保留字母於斷行後的結果\n",
    "    Returns:\n",
    "        List [] 每個 element 就是一行\n",
    "    \"\"\"\n",
    "    final_res = []\n",
    "    sepical_symbols = r'[.＂<>:《》+\\-=#$%&()*@＃＄％＆＇\\(\\)\\[\\]\\{\\}（）＊＋－／：\\\n",
    "    ＜＝＞＠［＼］＾＿｀｛｜｝～｟｠｢｣､、〃》「」『』【】〔〕〖〗〘〙〚〛〜〝〞〟〰〾〿–—一‘’‛“”„‟…‧﹏★→─]+'\n",
    "    segmentation_used_note = (\";\", \"；\", \"！\", \"!\", \"？\", \"?\", \"。\")\n",
    "    \n",
    "#     paragraphs = list(filter(None, article.split(\"\\n\")))\n",
    "    paragraphs = list(filter(lambda x: re.sub(r'\\s+','', x), article.split(\"\\n\")))\n",
    "#     print(len(paragraphs))\n",
    "#     print(paragraphs)\n",
    "    result = []\n",
    "    for paragraph in paragraphs:\n",
    "\n",
    "        clean_paragraph = paragraph\n",
    "        try:\n",
    "            if not keep_digits:\n",
    "                clean_paragraph = re.sub(r'\\d*\\.?\\d+','', clean_paragraph) #remove space & digits\n",
    "            if not keep_alphabets:\n",
    "                clean_paragraph = re.sub('[a-zA-Z]+', '', clean_paragraph)\n",
    "            \n",
    "            clean_paragraph = re.sub(r'[\\s]+','', clean_paragraph) #remove space\n",
    "            \n",
    "            clean_paragraph = re.sub(sepical_symbols,'',clean_paragraph)\n",
    "            \n",
    "        except:\n",
    "            _logger.info(\"error\")\n",
    "            return \"error\"\n",
    "        \n",
    "        res = Segmentation_Core(clean_paragraph, segmentation_used_note)\n",
    "        result.append(res)\n",
    "    \n",
    "    return result"
   ]
  },
  {
   "attachments": {},
   "cell_type": "markdown",
   "id": "6d9ff149",
   "metadata": {},
   "source": [
    "(2) CKIP 處理相關function"
   ]
  },
  {
   "cell_type": "code",
   "execution_count": 8,
   "id": "a8c60143",
   "metadata": {},
   "outputs": [
    {
     "name": "stdout",
     "output_type": "stream",
     "text": [
      "[(2, {'竹科': 500.0, '群暉': 500.0, 'VR': 500.0, '蝦皮': 500.0, '華碩': 500.0, '鴻海': 500.0}), (3, {'責任制': 500.0, '分公司': 500.0, '記憶體': 500.0, '演算法': 500.0, '機器人': 500.0, '富士康': 500.0, 'HTC': 500.0, '台達電': 500.0, '宏達電': 500.0, '聯發科': 500.0}), (4, {'年金改革': 500.0, '結婚禮金': 500.0, '生育津貼': 500.0, '教育訓練': 500.0, '資訊工程': 500.0, '華電聯網': 500.0, '外包人員': 500.0, '金融風暴': 500.0, '專題內容': 500.0, '學科理論': 500.0, '組織架構': 500.0, '產品經理': 500.0, '專案經理': 500.0, '中華電信': 500.0}), (5, {'研發工程師': 500.0, '團體意外險': 500.0, '軟體工程師': 500.0, '天線工程師': 500.0, '系統工程師': 500.0, '硬體工程師': 500.0, '化學工程師': 500.0, '台灣大哥大': 500.0}), (7, {'類比ic工程師': 500.0, 'Mozilla': 500.0})]\n"
     ]
    }
   ],
   "source": [
    "# 自定義辭典\n",
    "with open('dict/user_dict.txt', encoding='utf-8') as f:    \n",
    "    lines = f.read().splitlines()\n",
    "dict = {k.split()[0]: k.split()[1] for v, k in enumerate(lines)}\n",
    "dictionary2 = construct_dictionary(dict)\n",
    "print(dictionary2)"
   ]
  },
  {
   "cell_type": "code",
   "execution_count": 9,
   "id": "093e1777",
   "metadata": {
    "scrolled": true
   },
   "outputs": [],
   "source": [
    "def get_pos(post_id, word_sentence, pos_sentence):\n",
    "    tokens = []\n",
    "#     print(\"\\nPOS: \", end=\"\\u3000\")\n",
    "    assert len(word_sentence) == len(pos_sentence)\n",
    "    for word, pos in zip(word_sentence, pos_sentence): # token level\n",
    "        tokens.append([post_id,word,pos]) \n",
    "#         print(f\"{word}({pos})\", end=\"\\u3000\")\n",
    "    return tokens\n",
    "\n",
    "def get_ner(post_id, entity_sentence):\n",
    "    entities = []\n",
    "#     print(\"\\nNER:___________ \")\n",
    "    for entity in sorted(entity_sentence): # token level\n",
    "        entities.append([post_id, entity[3],entity[2]]) \n",
    "    return entities\n",
    "\n",
    "def get_nlp_result(data_df):\n",
    "    start = time.time()\n",
    "\n",
    "    pos_list = []\n",
    "    entity_list = []\n",
    "    sentence_list = []\n",
    "    \n",
    "    for index, row in data_df.iterrows(): # document level    \n",
    "#         print(f\"\\ndocument {index}\") \n",
    "\n",
    "        # clean data\n",
    "        result = [] \n",
    "        tmp = Sentence_Segmentation(row['artContent']) \n",
    "        flat_list = [item for sublist in tmp for item in sublist]\n",
    "\n",
    "        # ckip\n",
    "        word_sentence_list = ws(flat_list, coerce_dictionary = dictionary2) # set dictionary \n",
    "        pos_sentence_list = pos(word_sentence_list)\n",
    "        entity_sentence_list = ner(word_sentence_list, pos_sentence_list)\n",
    "\n",
    "        for i, sentence in enumerate(flat_list): # sentence level\n",
    "#             print(f\"sentence {i}: {sentence}\")\n",
    "            sentence_list.append([row['system_id'],sentence])            \n",
    "            temp_tokens = get_pos(row['system_id'],word_sentence_list[i],  pos_sentence_list[i])\n",
    "            temp_entites = get_ner(row['system_id'],entity_sentence_list[i])\n",
    "\n",
    "            pos_list.append(temp_tokens)\n",
    "            if len(temp_entites) != 0:\n",
    "                entity_list.append(temp_entites)\n",
    "            \n",
    "    pos_flat = [item for sublist in pos_list for item in sublist]\n",
    "    entity_flat = [item for sublist in entity_list for item in sublist]\n",
    "\n",
    "    pos_table = pd.DataFrame(data=pos_flat, \n",
    "                    columns=['system_id','word','pos'])        \n",
    "    \n",
    "    entity_table = pd.DataFrame(data=entity_flat, \n",
    "                        columns=['system_id','word','ner']) \n",
    "\n",
    "    sentence_table = pd.DataFrame(data=sentence_list, \n",
    "                    columns=['system_id','sentence']) \n",
    "\n",
    "    end = time.time()\n",
    "    print(\"time costing: {}\".format(end - start))\n",
    "\n",
    "    return pos_table, entity_table, sentence_table"
   ]
  },
  {
   "cell_type": "code",
   "execution_count": 50,
   "id": "d5385668",
   "metadata": {},
   "outputs": [
    {
     "name": "stdout",
     "output_type": "stream",
     "text": [
      "[['各位年薪千萬的大大好，新年快樂'], ['小弟是第次發文的新鮮人'], ['目前研替面試個段落'], ['拿到以下幾家豬屎屋的'], ['想請各位提供意見以供小弟參考']]\n",
      "['各位年薪千萬的大大好，新年快樂', '小弟是第次發文的新鮮人', '目前研替面試個段落', '拿到以下幾家豬屎屋的', '想請各位提供意見以供小弟參考']\n"
     ]
    }
   ],
   "source": [
    "# 看看tmp和flat_list有什麼差別\n",
    "tmp = Sentence_Segmentation(df['artContent'][0]) \n",
    "flat_list = [item for sublist in tmp for item in sublist]\n",
    "print(tmp[:5])\n",
    "print(flat_list[:5])"
   ]
  },
  {
   "cell_type": "code",
   "execution_count": 51,
   "id": "b1be4ed2",
   "metadata": {
    "scrolled": true
   },
   "outputs": [
    {
     "name": "stdout",
     "output_type": "stream",
     "text": [
      "time costing: 3336.5328965187073\n"
     ]
    }
   ],
   "source": [
    "pos_table, entity_table, sentence_table = get_nlp_result(df)"
   ]
  },
  {
   "attachments": {},
   "cell_type": "markdown",
   "id": "828b41de",
   "metadata": {},
   "source": [
    "+ 欄位名稱介紹\n",
    "    + pos_table 欄位:\n",
    "        + system_id : ptt 貼文id\n",
    "        + word: 原始斷詞\n",
    "        + pos : part-of-speech,詞性\n",
    "    + entity_table 欄位:\n",
    "        + system_id : ptt 貼文id\n",
    "        + word: 原始斷詞\n",
    "        + ner: 命名實體\n",
    "    + sentence_table 欄位:\n",
    "        + system_id : ptt 貼文id\n",
    "        + text: 原始斷句"
   ]
  },
  {
   "cell_type": "code",
   "execution_count": 52,
   "id": "973b8efd",
   "metadata": {},
   "outputs": [
    {
     "data": {
      "text/html": [
       "<div>\n",
       "<style scoped>\n",
       "    .dataframe tbody tr th:only-of-type {\n",
       "        vertical-align: middle;\n",
       "    }\n",
       "\n",
       "    .dataframe tbody tr th {\n",
       "        vertical-align: top;\n",
       "    }\n",
       "\n",
       "    .dataframe thead th {\n",
       "        text-align: right;\n",
       "    }\n",
       "</style>\n",
       "<table border=\"1\" class=\"dataframe\">\n",
       "  <thead>\n",
       "    <tr style=\"text-align: right;\">\n",
       "      <th></th>\n",
       "      <th>system_id</th>\n",
       "      <th>word</th>\n",
       "      <th>pos</th>\n",
       "    </tr>\n",
       "  </thead>\n",
       "  <tbody>\n",
       "    <tr>\n",
       "      <th>0</th>\n",
       "      <td>1</td>\n",
       "      <td>各位</td>\n",
       "      <td>Nh</td>\n",
       "    </tr>\n",
       "    <tr>\n",
       "      <th>1</th>\n",
       "      <td>1</td>\n",
       "      <td>年薪</td>\n",
       "      <td>Na</td>\n",
       "    </tr>\n",
       "    <tr>\n",
       "      <th>2</th>\n",
       "      <td>1</td>\n",
       "      <td>千萬</td>\n",
       "      <td>Neu</td>\n",
       "    </tr>\n",
       "    <tr>\n",
       "      <th>3</th>\n",
       "      <td>1</td>\n",
       "      <td>的</td>\n",
       "      <td>DE</td>\n",
       "    </tr>\n",
       "    <tr>\n",
       "      <th>4</th>\n",
       "      <td>1</td>\n",
       "      <td>大大</td>\n",
       "      <td>VH</td>\n",
       "    </tr>\n",
       "  </tbody>\n",
       "</table>\n",
       "</div>"
      ],
      "text/plain": [
       "   system_id word  pos\n",
       "0          1   各位   Nh\n",
       "1          1   年薪   Na\n",
       "2          1   千萬  Neu\n",
       "3          1    的   DE\n",
       "4          1   大大   VH"
      ]
     },
     "execution_count": 52,
     "metadata": {},
     "output_type": "execute_result"
    }
   ],
   "source": [
    "pos_table.head() # word pos 列表"
   ]
  },
  {
   "cell_type": "code",
   "execution_count": 53,
   "id": "ac8c2589",
   "metadata": {},
   "outputs": [
    {
     "data": {
      "text/html": [
       "<div>\n",
       "<style scoped>\n",
       "    .dataframe tbody tr th:only-of-type {\n",
       "        vertical-align: middle;\n",
       "    }\n",
       "\n",
       "    .dataframe tbody tr th {\n",
       "        vertical-align: top;\n",
       "    }\n",
       "\n",
       "    .dataframe thead th {\n",
       "        text-align: right;\n",
       "    }\n",
       "</style>\n",
       "<table border=\"1\" class=\"dataframe\">\n",
       "  <thead>\n",
       "    <tr style=\"text-align: right;\">\n",
       "      <th></th>\n",
       "      <th>system_id</th>\n",
       "      <th>word</th>\n",
       "      <th>ner</th>\n",
       "    </tr>\n",
       "  </thead>\n",
       "  <tbody>\n",
       "    <tr>\n",
       "      <th>0</th>\n",
       "      <td>1</td>\n",
       "      <td>千萬</td>\n",
       "      <td>CARDINAL</td>\n",
       "    </tr>\n",
       "    <tr>\n",
       "      <th>1</th>\n",
       "      <td>1</td>\n",
       "      <td>新年</td>\n",
       "      <td>DATE</td>\n",
       "    </tr>\n",
       "    <tr>\n",
       "      <th>2</th>\n",
       "      <td>1</td>\n",
       "      <td>第次</td>\n",
       "      <td>ORDINAL</td>\n",
       "    </tr>\n",
       "    <tr>\n",
       "      <th>3</th>\n",
       "      <td>1</td>\n",
       "      <td>幾</td>\n",
       "      <td>CARDINAL</td>\n",
       "    </tr>\n",
       "    <tr>\n",
       "      <th>4</th>\n",
       "      <td>1</td>\n",
       "      <td>高雄人電機</td>\n",
       "      <td>ORG</td>\n",
       "    </tr>\n",
       "  </tbody>\n",
       "</table>\n",
       "</div>"
      ],
      "text/plain": [
       "   system_id   word       ner\n",
       "0          1     千萬  CARDINAL\n",
       "1          1     新年      DATE\n",
       "2          1     第次   ORDINAL\n",
       "3          1      幾  CARDINAL\n",
       "4          1  高雄人電機       ORG"
      ]
     },
     "execution_count": 53,
     "metadata": {},
     "output_type": "execute_result"
    }
   ],
   "source": [
    "entity_table.head() # word entity 列表"
   ]
  },
  {
   "cell_type": "code",
   "execution_count": 54,
   "id": "2455183b",
   "metadata": {},
   "outputs": [
    {
     "data": {
      "text/html": [
       "<div>\n",
       "<style scoped>\n",
       "    .dataframe tbody tr th:only-of-type {\n",
       "        vertical-align: middle;\n",
       "    }\n",
       "\n",
       "    .dataframe tbody tr th {\n",
       "        vertical-align: top;\n",
       "    }\n",
       "\n",
       "    .dataframe thead th {\n",
       "        text-align: right;\n",
       "    }\n",
       "</style>\n",
       "<table border=\"1\" class=\"dataframe\">\n",
       "  <thead>\n",
       "    <tr style=\"text-align: right;\">\n",
       "      <th></th>\n",
       "      <th>system_id</th>\n",
       "      <th>sentence</th>\n",
       "    </tr>\n",
       "  </thead>\n",
       "  <tbody>\n",
       "    <tr>\n",
       "      <th>0</th>\n",
       "      <td>1</td>\n",
       "      <td>各位年薪千萬的大大好，新年快樂</td>\n",
       "    </tr>\n",
       "    <tr>\n",
       "      <th>1</th>\n",
       "      <td>1</td>\n",
       "      <td>小弟是第次發文的新鮮人</td>\n",
       "    </tr>\n",
       "    <tr>\n",
       "      <th>2</th>\n",
       "      <td>1</td>\n",
       "      <td>目前研替面試個段落</td>\n",
       "    </tr>\n",
       "    <tr>\n",
       "      <th>3</th>\n",
       "      <td>1</td>\n",
       "      <td>拿到以下幾家豬屎屋的</td>\n",
       "    </tr>\n",
       "    <tr>\n",
       "      <th>4</th>\n",
       "      <td>1</td>\n",
       "      <td>想請各位提供意見以供小弟參考</td>\n",
       "    </tr>\n",
       "  </tbody>\n",
       "</table>\n",
       "</div>"
      ],
      "text/plain": [
       "   system_id         sentence\n",
       "0          1  各位年薪千萬的大大好，新年快樂\n",
       "1          1      小弟是第次發文的新鮮人\n",
       "2          1        目前研替面試個段落\n",
       "3          1       拿到以下幾家豬屎屋的\n",
       "4          1   想請各位提供意見以供小弟參考"
      ]
     },
     "execution_count": 54,
     "metadata": {},
     "output_type": "execute_result"
    }
   ],
   "source": [
    "sentence_table.head()"
   ]
  },
  {
   "cell_type": "code",
   "execution_count": 10,
   "id": "fda685c4",
   "metadata": {},
   "outputs": [
    {
     "ename": "NameError",
     "evalue": "name 'pos_table' is not defined",
     "output_type": "error",
     "traceback": [
      "\u001b[1;31m---------------------------------------------------------------------------\u001b[0m",
      "\u001b[1;31mNameError\u001b[0m                                 Traceback (most recent call last)",
      "\u001b[1;32m~\\AppData\\Local\\Temp\\ipykernel_20968\\2231734319.py\u001b[0m in \u001b[0;36m<module>\u001b[1;34m\u001b[0m\n\u001b[0;32m      1\u001b[0m \u001b[1;31m# 檢查筆數\u001b[0m\u001b[1;33m\u001b[0m\u001b[1;33m\u001b[0m\u001b[1;33m\u001b[0m\u001b[0m\n\u001b[1;32m----> 2\u001b[1;33m \u001b[0mprint\u001b[0m\u001b[1;33m(\u001b[0m\u001b[1;34mf\"total posts numbers: {len(pos_table['system_id'].unique())}\"\u001b[0m\u001b[1;33m)\u001b[0m \u001b[1;31m# 1688篇文\u001b[0m\u001b[1;33m\u001b[0m\u001b[1;33m\u001b[0m\u001b[0m\n\u001b[0m\u001b[0;32m      3\u001b[0m \u001b[0mprint\u001b[0m\u001b[1;33m(\u001b[0m\u001b[1;34mf\"posts have NER: {len(entity_table['system_id'].unique())}\"\u001b[0m\u001b[1;33m)\u001b[0m \u001b[1;31m# 1608篇有抓到ner\u001b[0m\u001b[1;33m\u001b[0m\u001b[1;33m\u001b[0m\u001b[0m\n",
      "\u001b[1;31mNameError\u001b[0m: name 'pos_table' is not defined"
     ]
    }
   ],
   "source": [
    "# 檢查筆數\n",
    "print(f\"total posts numbers: {len(pos_table['system_id'].unique())}\") # 1688篇文\n",
    "print(f\"posts have NER: {len(entity_table['system_id'].unique())}\") # 1608篇有抓到ner"
   ]
  },
  {
   "cell_type": "code",
   "execution_count": 56,
   "id": "18783e1e",
   "metadata": {},
   "outputs": [],
   "source": [
    "# 將文章存成csv\n",
    "pos_table.to_csv('raw_data/pos_table_OriginalData.csv', index = False)\n",
    "entity_table.to_csv('raw_data/entity_table_OriginalData.csv', index = False)\n",
    "sentence_table.to_csv('raw_data/sentence_table_OriginalData.csv', index = False)"
   ]
  },
  {
   "attachments": {},
   "cell_type": "markdown",
   "id": "5be6f411",
   "metadata": {},
   "source": [
    "### 3.2 探索分析 - NER"
   ]
  },
  {
   "cell_type": "markdown",
   "id": "3fce95a7",
   "metadata": {},
   "source": [
    "將剛才分析的資料匯入"
   ]
  },
  {
   "cell_type": "code",
   "execution_count": 11,
   "id": "7f7378ec",
   "metadata": {},
   "outputs": [],
   "source": [
    "# 讀取已經執行完畢的結果\n",
    "pos_table = pd.read_csv(\"raw_data/pos_table_OriginalData.csv\") \n",
    "entity_table = pd.read_csv(\"raw_data/entity_table_OriginalData.csv\") \n",
    "sentence_table = pd.read_csv(\"raw_data/sentence_table_OriginalData.csv\") "
   ]
  },
  {
   "attachments": {},
   "cell_type": "markdown",
   "id": "22825a92",
   "metadata": {},
   "source": [
    "### NER 種類分析\n",
    "查看標註這個文集後辨識出哪一些實體種類<br>\n",
    "名詞對應: https://ckip.iis.sinica.edu.tw/service/corenlp/ （左上角的標記列表）"
   ]
  },
  {
   "cell_type": "code",
   "execution_count": 12,
   "id": "b3f4480d",
   "metadata": {
    "tags": []
   },
   "outputs": [
    {
     "data": {
      "text/plain": [
       "array(['CARDINAL', 'DATE', 'ORDINAL', 'ORG', 'GPE', 'FAC', 'LOC',\n",
       "       'PERSON', 'TIME', 'LAW', 'MONEY', 'NORP', 'PRODUCT', 'QUANTITY',\n",
       "       'LANGUAGE', 'EVENT', 'WORK_OF_ART', 'PERCENT'], dtype=object)"
      ]
     },
     "execution_count": 12,
     "metadata": {},
     "output_type": "execute_result"
    }
   ],
   "source": [
    "entity_table['ner'].unique()"
   ]
  },
  {
   "cell_type": "code",
   "execution_count": 14,
   "id": "04d44a36",
   "metadata": {
    "scrolled": true
   },
   "outputs": [
    {
     "data": {
      "text/html": [
       "<div>\n",
       "<style scoped>\n",
       "    .dataframe tbody tr th:only-of-type {\n",
       "        vertical-align: middle;\n",
       "    }\n",
       "\n",
       "    .dataframe tbody tr th {\n",
       "        vertical-align: top;\n",
       "    }\n",
       "\n",
       "    .dataframe thead th {\n",
       "        text-align: right;\n",
       "    }\n",
       "</style>\n",
       "<table border=\"1\" class=\"dataframe\">\n",
       "  <thead>\n",
       "    <tr style=\"text-align: right;\">\n",
       "      <th></th>\n",
       "      <th>ner</th>\n",
       "      <th>count</th>\n",
       "    </tr>\n",
       "  </thead>\n",
       "  <tbody>\n",
       "    <tr>\n",
       "      <th>11</th>\n",
       "      <td>ORG</td>\n",
       "      <td>8668</td>\n",
       "    </tr>\n",
       "    <tr>\n",
       "      <th>4</th>\n",
       "      <td>GPE</td>\n",
       "      <td>6429</td>\n",
       "    </tr>\n",
       "    <tr>\n",
       "      <th>1</th>\n",
       "      <td>DATE</td>\n",
       "      <td>5835</td>\n",
       "    </tr>\n",
       "    <tr>\n",
       "      <th>13</th>\n",
       "      <td>PERSON</td>\n",
       "      <td>3836</td>\n",
       "    </tr>\n",
       "    <tr>\n",
       "      <th>0</th>\n",
       "      <td>CARDINAL</td>\n",
       "      <td>3323</td>\n",
       "    </tr>\n",
       "    <tr>\n",
       "      <th>8</th>\n",
       "      <td>MONEY</td>\n",
       "      <td>1254</td>\n",
       "    </tr>\n",
       "    <tr>\n",
       "      <th>10</th>\n",
       "      <td>ORDINAL</td>\n",
       "      <td>1014</td>\n",
       "    </tr>\n",
       "    <tr>\n",
       "      <th>5</th>\n",
       "      <td>LANGUAGE</td>\n",
       "      <td>958</td>\n",
       "    </tr>\n",
       "  </tbody>\n",
       "</table>\n",
       "</div>"
      ],
      "text/plain": [
       "         ner  count\n",
       "11       ORG   8668\n",
       "4        GPE   6429\n",
       "1       DATE   5835\n",
       "13    PERSON   3836\n",
       "0   CARDINAL   3323\n",
       "8      MONEY   1254\n",
       "10   ORDINAL   1014\n",
       "5   LANGUAGE    958"
      ]
     },
     "execution_count": 14,
     "metadata": {},
     "output_type": "execute_result"
    }
   ],
   "source": [
    "ner_count = entity_table.groupby(['ner'])['ner'].count().reset_index(name='count').sort_values(['count'], ascending=False).head(8)\n",
    "ner_count"
   ]
  },
  {
   "cell_type": "code",
   "execution_count": 16,
   "id": "643de011",
   "metadata": {},
   "outputs": [
    {
     "name": "stderr",
     "output_type": "stream",
     "text": [
      "C:\\Users\\grace\\AppData\\Local\\Temp\\ipykernel_20968\\1824814392.py:10: UserWarning: Matplotlib is currently using module://matplotlib_inline.backend_inline, which is a non-GUI backend, so cannot show the figure.\n",
      "  fig.show()\n"
     ]
    },
    {
     "data": {
      "image/png": "[encoded data removed]",
      "text/plain": [
       "<Figure size 864x504 with 1 Axes>"
      ]
     },
     "metadata": {
      "needs_background": "light"
     },
     "output_type": "display_data"
    }
   ],
   "source": [
    "ner = ner_count['ner']\n",
    "count = ner_count['count']\n",
    "\n",
    "fig, ax = plt.subplots(figsize =(12, 7))\n",
    "ax.barh(ner, count)\n",
    "ax.invert_yaxis()\n",
    "ax.set_title('NER Frequency of PTT Tech_Job',loc ='left', size = 14)\n",
    "ax.set_ylabel('ner', size = 14)\n",
    "ax.set_xlabel('Frequency', size = 14)\n",
    "fig.show()"
   ]
  },
  {
   "attachments": {},
   "cell_type": "markdown",
   "id": "2872e7bf",
   "metadata": {},
   "source": [
    "推論 : 因為是在科技求職版，經常會提到許多不同的公司。"
   ]
  },
  {
   "cell_type": "markdown",
   "id": "d982eedc",
   "metadata": {},
   "source": [
    "### 涉及到的人名(PERSON)"
   ]
  },
  {
   "cell_type": "code",
   "execution_count": 17,
   "id": "42b5491b",
   "metadata": {},
   "outputs": [
    {
     "name": "stderr",
     "output_type": "stream",
     "text": [
      "C:\\Users\\grace\\AppData\\Local\\Temp\\ipykernel_20968\\3272611795.py:24: UserWarning: Matplotlib is currently using module://matplotlib_inline.backend_inline, which is a non-GUI backend, so cannot show the figure.\n",
      "  fig.show()\n"
     ]
    },
    {
     "data": {
      "image/png": "[encoded data removed]",
      "text/plain": [
       "<Figure size 864x504 with 1 Axes>"
      ]
     },
     "metadata": {
      "needs_background": "light"
     },
     "output_type": "display_data"
    }
   ],
   "source": [
    "# 篩選ner為名詞的資料\n",
    "l_noun = [\"PERSON\"]\n",
    "PERSON = entity_table[entity_table.ner.isin(l_noun)]\n",
    "\n",
    "# # 計算每個名詞提到的次數，選出前8個\n",
    "ner_count = PERSON.groupby('word')['word'].agg(['count'])\n",
    "ner_count = ner_count.sort_values(['count'],ascending=False)['count'].nlargest(8).reset_index()\n",
    "ner_count\n",
    "\n",
    "# 設定中文字形\n",
    "\n",
    "plt.rcParams['font.sans-serif'] = ['Microsoft JhengHei'] \n",
    "plt.rcParams['axes.unicode_minus'] = False\n",
    "word = ner_count['word']\n",
    "count = ner_count['count']\n",
    "\n",
    "\n",
    "fig, ax = plt.subplots(figsize =(12, 7))\n",
    "ax.barh(word, count)\n",
    "ax.invert_yaxis()\n",
    "ax.set_title('Word Frequency (NER is PERSON)',loc ='left', size = 14)\n",
    "ax.set_ylabel('NER', size = 14)\n",
    "ax.set_xlabel('Word Frequency', size = 14)\n",
    "fig.show()"
   ]
  },
  {
   "attachments": {},
   "cell_type": "markdown",
   "id": "51d4eb6c",
   "metadata": {},
   "source": [
    "### PERSON 結果\n",
    "\n",
    "從結果可以看到在科技業求職版中最常出現的PERSON類別是馬斯克，其次是楊光宇、楊宗斌。\n",
    "\n",
    "Elon Musk是知名的企業家和科技人物，創辦了多家知名公司，例如特斯拉汽車、太空探索科技公司（SpaceX）等等。他的新聞和動向經常被關注和討論，因此出現在PTT科技業求職版的文章中非常合理。\n",
    "\n",
    "[楊光宇相關新聞](https://technews.tw/2019/06/15/china-technology-spy-taiwan/)  \n",
    "[楊宗斌是誰](https://www.google.com/search?q=%E7%A7%91%E6%8A%80%E6%A5%AD+%E6%A5%8A%E5%AE%97%E6%96%8C+ptt&sxsrf=APwXEddBcOlLVWChApv9nHe9a64tvWHM0Q%3A1681116019184&ei=c8szZLHsCq_l2roPqMSc-AU&ved=0ahUKEwjx8ZiZ9Z7-AhWvslYBHSgiB18Q4dUDCA8&uact=5&oq=%E7%A7%91%E6%8A%80%E6%A5%AD+%E6%A5%8A%E5%AE%97%E6%96%8C+ptt&gs_lcp=Cgxnd3Mtd2l6LXNlcnAQAzIFCAAQogQyBQgAEKIEMgUIABCiBDoHCCMQ6gIQJzoNCC4QxwEQrwEQ6gIQJzoFCAAQgAQ6CAgAEIAEELEDOgUILhCABDoLCC4QgAQQxwEQrwE6CAguEIAEEOoEOg4ILhCABBCxAxDHARCvAToRCC4QgAQQsQMQgwEQxwEQ0QM6CwgAEIAEELEDEIMBOggILhCABBCxAzoHCAAQGBCABDoUCC4QgAQQsQMQgwEQxwEQ0QMQ6gQ6EQguEIAEELEDEIMBEMcBEK8BOgQIABADOggIABCKBRCxAzoLCAAQigUQsQMQgwE6BQghEKABOggIABCJBRCiBEoECEEYAFD4CFi3J2DRKWgBcAB4AIABXogBywuSAQIyNZgBAKABAbABCsABAQ&sclient=gws-wiz-serp)\n",
    "\n",
    "延伸討論 : 在整個文集中，楊光宇被提及的次數非常高，但是僅在3篇貼文中被頻繁地提及，因此我們得到這些分析結果之後要更仔細去檢查他的普遍性。"
   ]
  },
  {
   "cell_type": "markdown",
   "id": "05bc726d",
   "metadata": {},
   "source": [
    "### 涉及到的組織(ORG)"
   ]
  },
  {
   "cell_type": "code",
   "execution_count": 67,
   "id": "1c22c8bd",
   "metadata": {},
   "outputs": [
    {
     "name": "stderr",
     "output_type": "stream",
     "text": [
      "C:\\Users\\grace\\AppData\\Local\\Temp\\ipykernel_25604\\1011022482.py:21: UserWarning: Matplotlib is currently using module://matplotlib_inline.backend_inline, which is a non-GUI backend, so cannot show the figure.\n",
      "  fig.show()\n"
     ]
    },
    {
     "data": {
      "image/png": "[encoded data removed]",
      "text/plain": [
       "<Figure size 720x504 with 1 Axes>"
      ]
     },
     "metadata": {
      "needs_background": "light"
     },
     "output_type": "display_data"
    }
   ],
   "source": [
    "# 篩選ner為名詞的資料\n",
    "l_noun = [\"ORG\"]\n",
    "ORG = entity_table[entity_table.ner.isin(l_noun)]\n",
    "\n",
    "# # 計算每個名詞提到的次數，選出前10個\n",
    "ner_count = ORG.groupby('word')['word'].agg(['count'])\n",
    "ner_count = ner_count.sort_values(['count'],ascending=False)['count'].nlargest(10).reset_index()\n",
    "ner_count\n",
    "\n",
    "# 設定中文字形\n",
    "plt.rcParams['font.sans-serif'] = ['Microsoft JhengHei'] \n",
    "word = ner_count['word']\n",
    "count = ner_count['count']\n",
    "\n",
    "fig, ax = plt.subplots(figsize =(10, 7))\n",
    "ax.barh(word, count)\n",
    "ax.invert_yaxis()\n",
    "ax.set_title('Word Frequency (NER is ORG)',loc ='left', size = 14)\n",
    "ax.set_ylabel('NER', size = 14)\n",
    "ax.set_xlabel('Word Frequency', size = 14)\n",
    "fig.show()"
   ]
  },
  {
   "attachments": {},
   "cell_type": "markdown",
   "id": "e70e82a1",
   "metadata": {},
   "source": [
    "### ORG 結果\n",
    "\n",
    "結果顯示台積電是最常出現的組織，可能有以下含意：\n",
    "1. 台積電是這個行業中非常有影響力的公司，很多人都希望能夠在這家公司工作，因此在求職相關的文章中，台積電會被頻繁提到。\n",
    "2. 台積電是一家知名的公司，能夠為求職者提供很好的發展機會和福利待遇，因此吸引了很多人前來應聘。\n",
    "3. 台積電在行業中處於領先地位，因此求職者希望能夠進入這家公司，從中學習和成長，為自己的職業生涯打下基礎。\n",
    "\n",
    "推論 : 台積電在科技產業中的地位和影響力非常大，也可能顯示出求職者對這家公司的青睞程度高。"
   ]
  },
  {
   "cell_type": "markdown",
   "id": "b5974e0d",
   "metadata": {},
   "source": [
    "### 涉及到的民族、宗教、政治團體(NORP)"
   ]
  },
  {
   "cell_type": "code",
   "execution_count": 68,
   "id": "2d1f8da8",
   "metadata": {},
   "outputs": [
    {
     "name": "stderr",
     "output_type": "stream",
     "text": [
      "C:\\Users\\grace\\AppData\\Local\\Temp\\ipykernel_25604\\1063220245.py:21: UserWarning: Matplotlib is currently using module://matplotlib_inline.backend_inline, which is a non-GUI backend, so cannot show the figure.\n",
      "  fig.show()\n"
     ]
    },
    {
     "data": {
      "image/png": "[encoded data removed]",
      "text/plain": [
       "<Figure size 720x504 with 1 Axes>"
      ]
     },
     "metadata": {
      "needs_background": "light"
     },
     "output_type": "display_data"
    }
   ],
   "source": [
    "# 篩選ner為名詞的資料\n",
    "l_noun = [\"NORP\"]\n",
    "NORP = entity_table[entity_table.ner.isin(l_noun)]\n",
    "\n",
    "# # 計算每個名詞提到的次數，選出前10個\n",
    "ner_count = NORP.groupby('word')['word'].agg(['count'])\n",
    "ner_count = ner_count.sort_values(['count'],ascending=False)['count'].nlargest(10).reset_index()\n",
    "ner_count\n",
    "\n",
    "# 設定中文字形\n",
    "plt.rcParams['font.sans-serif'] = ['Microsoft JhengHei'] \n",
    "word = ner_count['word']\n",
    "count = ner_count['count']\n",
    "\n",
    "fig, ax = plt.subplots(figsize =(10, 7))\n",
    "ax.barh(word, count)\n",
    "ax.invert_yaxis()\n",
    "ax.set_title('Word Frequency (NER is NORP)',loc ='left', size = 14)\n",
    "ax.set_ylabel('NER', size = 14)\n",
    "ax.set_xlabel('Word Frequency', size = 14)\n",
    "fig.show()"
   ]
  },
  {
   "cell_type": "code",
   "execution_count": 20,
   "id": "9a8b7d73",
   "metadata": {
    "scrolled": true
   },
   "outputs": [
    {
     "name": "stdout",
     "output_type": "stream",
     "text": [
      "台積電：188篇相關貼文\n"
     ]
    },
    {
     "data": {
      "text/html": [
       "<div>\n",
       "<style scoped>\n",
       "    .dataframe tbody tr th:only-of-type {\n",
       "        vertical-align: middle;\n",
       "    }\n",
       "\n",
       "    .dataframe tbody tr th {\n",
       "        vertical-align: top;\n",
       "    }\n",
       "\n",
       "    .dataframe thead th {\n",
       "        text-align: right;\n",
       "    }\n",
       "</style>\n",
       "<table border=\"1\" class=\"dataframe\">\n",
       "  <thead>\n",
       "    <tr style=\"text-align: right;\">\n",
       "      <th></th>\n",
       "      <th>system_id</th>\n",
       "      <th>artUrl</th>\n",
       "      <th>artTitle</th>\n",
       "      <th>artDate</th>\n",
       "      <th>artPoster</th>\n",
       "      <th>artCatagory</th>\n",
       "      <th>artContent</th>\n",
       "      <th>artComment</th>\n",
       "      <th>e_ip</th>\n",
       "      <th>insertedDate</th>\n",
       "      <th>dataSource</th>\n",
       "    </tr>\n",
       "  </thead>\n",
       "  <tbody>\n",
       "    <tr>\n",
       "      <th>24</th>\n",
       "      <td>25</td>\n",
       "      <td>https://www.ptt.cc/bbs/Tech_Job/M.1518598511.A...</td>\n",
       "      <td>Re:[聘書]offer請益(長春/康寧/群創/工研院)</td>\n",
       "      <td>2018-02-14 08:49:08</td>\n",
       "      <td>eros01</td>\n",
       "      <td>Tech_Job</td>\n",
       "      <td>看到長春 黑一下。\\n1. 輪班問題~長春非常人治。\\n 1.1   基本上，不同單位會由某...</td>\n",
       "      <td>[{\"cmtStatus\": \"推\", \"cmtPoster\": \"EMU1000\", \"c...</td>\n",
       "      <td>119.77.145.117</td>\n",
       "      <td>2018-05-17 10:40:53</td>\n",
       "      <td>ptt</td>\n",
       "    </tr>\n",
       "    <tr>\n",
       "      <th>36</th>\n",
       "      <td>37</td>\n",
       "      <td>https://www.ptt.cc/bbs/Tech_Job/M.1520165086.A...</td>\n",
       "      <td>[新聞]新鮮人最想進的公司:誠品、台積電、富邦</td>\n",
       "      <td>2018-03-04 11:58:43</td>\n",
       "      <td>LinuxKernel</td>\n",
       "      <td>Tech_Job</td>\n",
       "      <td>台大今天舉辦校園徵才，根據yes123求職網調查，畢業生夢幻企業！台積電、富邦金5連\\n霸，...</td>\n",
       "      <td>[{\"cmtStatus\": \"→\", \"cmtPoster\": \"iouhsu\", \"cm...</td>\n",
       "      <td>1.169.102.36</td>\n",
       "      <td>2018-05-17 10:42:04</td>\n",
       "      <td>ptt</td>\n",
       "    </tr>\n",
       "    <tr>\n",
       "      <th>41</th>\n",
       "      <td>42</td>\n",
       "      <td>https://www.ptt.cc/bbs/Tech_Job/M.1520399680.A...</td>\n",
       "      <td>[新聞]文組生跨領域踏入科技業靠好英文勇闖台</td>\n",
       "      <td>2018-03-07 05:08:37</td>\n",
       "      <td>howard6066</td>\n",
       "      <td>Tech_Job</td>\n",
       "      <td>文組生跨領域踏入科技業 靠好英文勇闖台積電當歐美業務\\nhttps://www.busine...</td>\n",
       "      <td>[{\"cmtStatus\": \"→\", \"cmtPoster\": \"ruthertw\", \"...</td>\n",
       "      <td>59.124.97.2</td>\n",
       "      <td>2018-05-17 10:42:04</td>\n",
       "      <td>ptt</td>\n",
       "    </tr>\n",
       "  </tbody>\n",
       "</table>\n",
       "</div>"
      ],
      "text/plain": [
       "    system_id                                             artUrl  \\\n",
       "24         25  https://www.ptt.cc/bbs/Tech_Job/M.1518598511.A...   \n",
       "36         37  https://www.ptt.cc/bbs/Tech_Job/M.1520165086.A...   \n",
       "41         42  https://www.ptt.cc/bbs/Tech_Job/M.1520399680.A...   \n",
       "\n",
       "                        artTitle              artDate    artPoster  \\\n",
       "24  Re:[聘書]offer請益(長春/康寧/群創/工研院)  2018-02-14 08:49:08       eros01   \n",
       "36       [新聞]新鮮人最想進的公司:誠品、台積電、富邦  2018-03-04 11:58:43  LinuxKernel   \n",
       "41        [新聞]文組生跨領域踏入科技業靠好英文勇闖台  2018-03-07 05:08:37   howard6066   \n",
       "\n",
       "   artCatagory                                         artContent  \\\n",
       "24    Tech_Job  看到長春 黑一下。\\n1. 輪班問題~長春非常人治。\\n 1.1   基本上，不同單位會由某...   \n",
       "36    Tech_Job  台大今天舉辦校園徵才，根據yes123求職網調查，畢業生夢幻企業！台積電、富邦金5連\\n霸，...   \n",
       "41    Tech_Job  文組生跨領域踏入科技業 靠好英文勇闖台積電當歐美業務\\nhttps://www.busine...   \n",
       "\n",
       "                                           artComment            e_ip  \\\n",
       "24  [{\"cmtStatus\": \"推\", \"cmtPoster\": \"EMU1000\", \"c...  119.77.145.117   \n",
       "36  [{\"cmtStatus\": \"→\", \"cmtPoster\": \"iouhsu\", \"cm...    1.169.102.36   \n",
       "41  [{\"cmtStatus\": \"→\", \"cmtPoster\": \"ruthertw\", \"...     59.124.97.2   \n",
       "\n",
       "           insertedDate dataSource  \n",
       "24  2018-05-17 10:40:53        ptt  \n",
       "36  2018-05-17 10:42:04        ptt  \n",
       "41  2018-05-17 10:42:04        ptt  "
      ]
     },
     "execution_count": 20,
     "metadata": {},
     "output_type": "execute_result"
    }
   ],
   "source": [
    "keyword_list = ['台積電']\n",
    "yang_selected = df[df['artContent'].str.contains('|'.join(keyword_list),regex=True)]\n",
    "print(f\"{' '.join(keyword_list)}：{yang_selected.shape[0]}篇相關貼文\")\n",
    "yang_selected.head(3)"
   ]
  },
  {
   "attachments": {},
   "cell_type": "markdown",
   "id": "58994ea3",
   "metadata": {},
   "source": [
    "### 3.3 探索分析 - POS\n",
    "\n",
    "#### POS 種類分析\n",
    "查看辨識出哪幾種POS<br>\n",
    "名詞對應: https://ckip.iis.sinica.edu.tw/service/corenlp/ （左上角的標記列表）"
   ]
  },
  {
   "cell_type": "code",
   "execution_count": 87,
   "id": "59269ee4",
   "metadata": {},
   "outputs": [
    {
     "data": {
      "text/plain": [
       "array(['Nh', 'Na', 'Neu', 'DE', 'VH', 'COMMACATEGORY', 'Nd', 'SHI', 'Nf',\n",
       "       'VC', 'Ncd', 'VE', 'VF', 'VD', 'Cbb', 'VA', 'D', 'Da', 'Nc', 'P',\n",
       "       'Nb', 'VG', 'V_2', 'VJ', 'VK', 'VCL', 'A', 'Caa', 'Nes', 'VB',\n",
       "       'Nep', 'Dfa', 'VL', 'Neqa', 'Ng', 'T', 'VHC', 'FW', 'Di', 'Cab',\n",
       "       'Nv', 'VI', 'DM', 'I', 'Neqb', 'Dk', 'Cba', 'Dfb', 'VAC',\n",
       "       'COLONCATEGORY', 'PARENTHESISCATEGORY', 'PERIODCATEGORY',\n",
       "       'ETCCATEGORY'], dtype=object)"
      ]
     },
     "execution_count": 87,
     "metadata": {},
     "output_type": "execute_result"
    }
   ],
   "source": [
    "pos_table['pos'].unique()"
   ]
  },
  {
   "cell_type": "markdown",
   "id": "e0cd8b6a",
   "metadata": {},
   "source": [
    "看看除了標點符號，大部分的POS都是哪一類"
   ]
  },
  {
   "cell_type": "code",
   "execution_count": 71,
   "id": "679386e9",
   "metadata": {
    "scrolled": true,
    "tags": []
   },
   "outputs": [
    {
     "data": {
      "text/html": [
       "<div>\n",
       "<style scoped>\n",
       "    .dataframe tbody tr th:only-of-type {\n",
       "        vertical-align: middle;\n",
       "    }\n",
       "\n",
       "    .dataframe tbody tr th {\n",
       "        vertical-align: top;\n",
       "    }\n",
       "\n",
       "    .dataframe thead th {\n",
       "        text-align: right;\n",
       "    }\n",
       "</style>\n",
       "<table border=\"1\" class=\"dataframe\">\n",
       "  <thead>\n",
       "    <tr style=\"text-align: right;\">\n",
       "      <th></th>\n",
       "      <th>pos</th>\n",
       "      <th>count</th>\n",
       "    </tr>\n",
       "  </thead>\n",
       "  <tbody>\n",
       "    <tr>\n",
       "      <th>16</th>\n",
       "      <td>Na</td>\n",
       "      <td>148279</td>\n",
       "    </tr>\n",
       "    <tr>\n",
       "      <th>5</th>\n",
       "      <td>D</td>\n",
       "      <td>72289</td>\n",
       "    </tr>\n",
       "    <tr>\n",
       "      <th>36</th>\n",
       "      <td>VC</td>\n",
       "      <td>54336</td>\n",
       "    </tr>\n",
       "    <tr>\n",
       "      <th>42</th>\n",
       "      <td>VH</td>\n",
       "      <td>38174</td>\n",
       "    </tr>\n",
       "    <tr>\n",
       "      <th>6</th>\n",
       "      <td>DE</td>\n",
       "      <td>31022</td>\n",
       "    </tr>\n",
       "    <tr>\n",
       "      <th>18</th>\n",
       "      <td>Nc</td>\n",
       "      <td>30048</td>\n",
       "    </tr>\n",
       "    <tr>\n",
       "      <th>30</th>\n",
       "      <td>P</td>\n",
       "      <td>27113</td>\n",
       "    </tr>\n",
       "    <tr>\n",
       "      <th>39</th>\n",
       "      <td>VE</td>\n",
       "      <td>21169</td>\n",
       "    </tr>\n",
       "    <tr>\n",
       "      <th>28</th>\n",
       "      <td>Nh</td>\n",
       "      <td>20226</td>\n",
       "    </tr>\n",
       "    <tr>\n",
       "      <th>26</th>\n",
       "      <td>Nf</td>\n",
       "      <td>18138</td>\n",
       "    </tr>\n",
       "    <tr>\n",
       "      <th>33</th>\n",
       "      <td>VA</td>\n",
       "      <td>16394</td>\n",
       "    </tr>\n",
       "    <tr>\n",
       "      <th>4</th>\n",
       "      <td>Cbb</td>\n",
       "      <td>15809</td>\n",
       "    </tr>\n",
       "  </tbody>\n",
       "</table>\n",
       "</div>"
      ],
      "text/plain": [
       "    pos   count\n",
       "16   Na  148279\n",
       "5     D   72289\n",
       "36   VC   54336\n",
       "42   VH   38174\n",
       "6    DE   31022\n",
       "18   Nc   30048\n",
       "30    P   27113\n",
       "39   VE   21169\n",
       "28   Nh   20226\n",
       "26   Nf   18138\n",
       "33   VA   16394\n",
       "4   Cbb   15809"
      ]
     },
     "execution_count": 71,
     "metadata": {},
     "output_type": "execute_result"
    }
   ],
   "source": [
    "pos_filter = pos_table[~pos_table.pos.isin(['COMMACATEGORY', 'PARENTHESISCATEGORY', 'PERIODCATEGORY', 'COLONCATEGORY'])]\n",
    "\n",
    "pos_count = pos_filter.groupby(['pos'])['pos'].count().reset_index(name='count').sort_values(['count'], ascending=False).head(12)\n",
    "pos_count"
   ]
  },
  {
   "cell_type": "code",
   "execution_count": 72,
   "id": "92e38d7b",
   "metadata": {},
   "outputs": [
    {
     "name": "stderr",
     "output_type": "stream",
     "text": [
      "C:\\Users\\grace\\AppData\\Local\\Temp\\ipykernel_25604\\2478466374.py:10: UserWarning: Matplotlib is currently using module://matplotlib_inline.backend_inline, which is a non-GUI backend, so cannot show the figure.\n",
      "  fig.show()\n"
     ]
    },
    {
     "data": {
      "image/png": "[encoded data removed]",
      "text/plain": [
       "<Figure size 864x504 with 1 Axes>"
      ]
     },
     "metadata": {
      "needs_background": "light"
     },
     "output_type": "display_data"
    }
   ],
   "source": [
    "pos = pos_count['pos']\n",
    "count = pos_count['count']\n",
    "\n",
    "fig, ax = plt.subplots(figsize =(12, 7))\n",
    "ax.barh(pos, count)\n",
    "ax.invert_yaxis()\n",
    "ax.set_title('ner Frequency',loc ='left', size = 14)\n",
    "ax.set_ylabel('ner', size = 14)\n",
    "ax.set_xlabel('Frequency', size = 14)\n",
    "fig.show()"
   ]
  },
  {
   "attachments": {},
   "cell_type": "markdown",
   "id": "067bffc4",
   "metadata": {},
   "source": [
    "#### POS 常見詞性列表\n",
    "+ 中研院列表: https://ckip.iis.sinica.edu.tw/service/corenlp/\n",
    "    + Na: 普通名詞\n",
    "    + D: 副詞\n",
    "    + VC: 動作及物動詞\n",
    "    + Nb: 專有名詞\n",
    "    + FW: 外文\n",
    "    + VH: 狀態不及物動詞\n",
    "    + Nh: 代名詞\n",
    "    + DE: 的之得地\n",
    "    + P: 介詞\n",
    "    + VA: 動作不及物動詞\n",
    "    + T: 語助詞\n",
    "    + SHI: 是"
   ]
  },
  {
   "attachments": {},
   "cell_type": "markdown",
   "id": "162b3a98",
   "metadata": {},
   "source": [
    "### 涉及到的名詞(Noun)\n",
    "+ 我們可以找出談論科技業求職的時候大部分討論到的專有名詞，探索大家的關注焦點。\n",
    "+ 名詞可以分為「Na: 普通名詞」、「Nb: 專有名詞」等"
   ]
  },
  {
   "cell_type": "code",
   "execution_count": 73,
   "id": "d28c0513",
   "metadata": {
    "scrolled": true,
    "tags": []
   },
   "outputs": [
    {
     "data": {
      "text/html": [
       "<div>\n",
       "<style scoped>\n",
       "    .dataframe tbody tr th:only-of-type {\n",
       "        vertical-align: middle;\n",
       "    }\n",
       "\n",
       "    .dataframe tbody tr th {\n",
       "        vertical-align: top;\n",
       "    }\n",
       "\n",
       "    .dataframe thead th {\n",
       "        text-align: right;\n",
       "    }\n",
       "</style>\n",
       "<table border=\"1\" class=\"dataframe\">\n",
       "  <thead>\n",
       "    <tr style=\"text-align: right;\">\n",
       "      <th></th>\n",
       "      <th>word</th>\n",
       "      <th>count</th>\n",
       "    </tr>\n",
       "  </thead>\n",
       "  <tbody>\n",
       "    <tr>\n",
       "      <th>417</th>\n",
       "      <td>台積電</td>\n",
       "      <td>876</td>\n",
       "    </tr>\n",
       "    <tr>\n",
       "      <th>2869</th>\n",
       "      <td>鴻海</td>\n",
       "      <td>350</td>\n",
       "    </tr>\n",
       "    <tr>\n",
       "      <th>2164</th>\n",
       "      <td>華碩</td>\n",
       "      <td>203</td>\n",
       "    </tr>\n",
       "    <tr>\n",
       "      <th>2049</th>\n",
       "      <td>聯發科</td>\n",
       "      <td>181</td>\n",
       "    </tr>\n",
       "    <tr>\n",
       "      <th>2809</th>\n",
       "      <td>馬斯克</td>\n",
       "      <td>179</td>\n",
       "    </tr>\n",
       "    <tr>\n",
       "      <th>1977</th>\n",
       "      <td>美光</td>\n",
       "      <td>162</td>\n",
       "    </tr>\n",
       "    <tr>\n",
       "      <th>411</th>\n",
       "      <td>台積</td>\n",
       "      <td>159</td>\n",
       "    </tr>\n",
       "    <tr>\n",
       "      <th>2160</th>\n",
       "      <td>華為</td>\n",
       "      <td>157</td>\n",
       "    </tr>\n",
       "    <tr>\n",
       "      <th>2844</th>\n",
       "      <td>高通</td>\n",
       "      <td>137</td>\n",
       "    </tr>\n",
       "    <tr>\n",
       "      <th>1662</th>\n",
       "      <td>特斯拉</td>\n",
       "      <td>134</td>\n",
       "    </tr>\n",
       "  </tbody>\n",
       "</table>\n",
       "</div>"
      ],
      "text/plain": [
       "     word  count\n",
       "417   台積電    876\n",
       "2869   鴻海    350\n",
       "2164   華碩    203\n",
       "2049  聯發科    181\n",
       "2809  馬斯克    179\n",
       "1977   美光    162\n",
       "411    台積    159\n",
       "2160   華為    157\n",
       "2844   高通    137\n",
       "1662  特斯拉    134"
      ]
     },
     "execution_count": 73,
     "metadata": {},
     "output_type": "execute_result"
    }
   ],
   "source": [
    "# 篩選pos為名詞的資料\n",
    "l_noun = [\"Nb\"] #,\"Na\"\n",
    "noun = pos_table[pos_table.pos.isin(l_noun)]\n",
    "\n",
    "# # 計算每個名詞提到的次數，選出前15個\n",
    "noun_count = noun[['word']].groupby(['word'])['word'].count().reset_index(name='count').sort_values(['count'], ascending=False).head(15)\n",
    "noun_count.head(10)"
   ]
  },
  {
   "attachments": {},
   "cell_type": "markdown",
   "id": "e9dcb131",
   "metadata": {},
   "source": [
    "最常討論到的名詞就跟上面的NER分析結果一致，可以看到都是組織名稱，最多的是台積電。"
   ]
  },
  {
   "cell_type": "code",
   "execution_count": 74,
   "id": "265518a8",
   "metadata": {},
   "outputs": [
    {
     "name": "stderr",
     "output_type": "stream",
     "text": [
      "C:\\Users\\grace\\AppData\\Local\\Temp\\ipykernel_25604\\1614676684.py:12: UserWarning: Matplotlib is currently using module://matplotlib_inline.backend_inline, which is a non-GUI backend, so cannot show the figure.\n",
      "  fig.show()\n"
     ]
    },
    {
     "data": {
      "image/png": "[encoded data removed]",
      "text/plain": [
       "<Figure size 864x504 with 1 Axes>"
      ]
     },
     "metadata": {
      "needs_background": "light"
     },
     "output_type": "display_data"
    }
   ],
   "source": [
    "# 設定中文字形\n",
    "plt.rcParams['font.sans-serif'] = ['Microsoft JhengHei'] \n",
    "word = noun_count['word']\n",
    "count = noun_count['count']\n",
    "\n",
    "fig, ax = plt.subplots(figsize =(12, 7))\n",
    "ax.barh(word, count)\n",
    "ax.invert_yaxis()\n",
    "ax.set_title('Word Frequency (POS is NOUN)',loc ='left', size = 14)\n",
    "ax.set_ylabel('POS', size = 14)\n",
    "ax.set_xlabel('Word Frequency', size = 14)\n",
    "fig.show()"
   ]
  },
  {
   "attachments": {},
   "cell_type": "markdown",
   "id": "b4827a03",
   "metadata": {},
   "source": [
    "可以看到台積電依舊是壓倒性地出現最多次的專有名詞，接著是鴻海、華碩、聯發科等知名科技業龍頭。"
   ]
  },
  {
   "attachments": {},
   "cell_type": "markdown",
   "id": "1529614b",
   "metadata": {},
   "source": [
    "### 涉及到的動詞(VERB)\n",
    "+ 我們可以找出談論科技業求職時大部分討論到的動詞，探索相關行為。\n",
    "+ VC: 動作及物動詞、VH: 狀態不及物動詞、VA: 動作不及物動詞"
   ]
  },
  {
   "cell_type": "code",
   "execution_count": 75,
   "id": "f56a032f",
   "metadata": {
    "scrolled": true,
    "tags": []
   },
   "outputs": [
    {
     "data": {
      "text/html": [
       "<div>\n",
       "<style scoped>\n",
       "    .dataframe tbody tr th:only-of-type {\n",
       "        vertical-align: middle;\n",
       "    }\n",
       "\n",
       "    .dataframe tbody tr th {\n",
       "        vertical-align: top;\n",
       "    }\n",
       "\n",
       "    .dataframe thead th {\n",
       "        text-align: right;\n",
       "    }\n",
       "</style>\n",
       "<table border=\"1\" class=\"dataframe\">\n",
       "  <thead>\n",
       "    <tr style=\"text-align: right;\">\n",
       "      <th></th>\n",
       "      <th>word</th>\n",
       "      <th>count</th>\n",
       "    </tr>\n",
       "  </thead>\n",
       "  <tbody>\n",
       "    <tr>\n",
       "      <th>3827</th>\n",
       "      <td>面試</td>\n",
       "      <td>3331</td>\n",
       "    </tr>\n",
       "    <tr>\n",
       "      <th>3026</th>\n",
       "      <td>裁員</td>\n",
       "      <td>1402</td>\n",
       "    </tr>\n",
       "    <tr>\n",
       "      <th>3552</th>\n",
       "      <td>進行</td>\n",
       "      <td>529</td>\n",
       "    </tr>\n",
       "    <tr>\n",
       "      <th>3730</th>\n",
       "      <td>開發</td>\n",
       "      <td>480</td>\n",
       "    </tr>\n",
       "    <tr>\n",
       "      <th>2562</th>\n",
       "      <td>研發</td>\n",
       "      <td>448</td>\n",
       "    </tr>\n",
       "    <tr>\n",
       "      <th>2472</th>\n",
       "      <td>發展</td>\n",
       "      <td>435</td>\n",
       "    </tr>\n",
       "    <tr>\n",
       "      <th>2272</th>\n",
       "      <td>準備</td>\n",
       "      <td>349</td>\n",
       "    </tr>\n",
       "    <tr>\n",
       "      <th>863</th>\n",
       "      <td>學習</td>\n",
       "      <td>349</td>\n",
       "    </tr>\n",
       "    <tr>\n",
       "      <th>3602</th>\n",
       "      <td>選擇</td>\n",
       "      <td>343</td>\n",
       "    </tr>\n",
       "    <tr>\n",
       "      <th>2062</th>\n",
       "      <td>服務</td>\n",
       "      <td>331</td>\n",
       "    </tr>\n",
       "    <tr>\n",
       "      <th>3830</th>\n",
       "      <td>面談</td>\n",
       "      <td>315</td>\n",
       "    </tr>\n",
       "    <tr>\n",
       "      <th>1462</th>\n",
       "      <td>招募</td>\n",
       "      <td>309</td>\n",
       "    </tr>\n",
       "    <tr>\n",
       "      <th>1124</th>\n",
       "      <td>影響</td>\n",
       "      <td>297</td>\n",
       "    </tr>\n",
       "    <tr>\n",
       "      <th>3565</th>\n",
       "      <td>遇到</td>\n",
       "      <td>296</td>\n",
       "    </tr>\n",
       "    <tr>\n",
       "      <th>1295</th>\n",
       "      <td>找到</td>\n",
       "      <td>296</td>\n",
       "    </tr>\n",
       "  </tbody>\n",
       "</table>\n",
       "</div>"
      ],
      "text/plain": [
       "     word  count\n",
       "3827   面試   3331\n",
       "3026   裁員   1402\n",
       "3552   進行    529\n",
       "3730   開發    480\n",
       "2562   研發    448\n",
       "2472   發展    435\n",
       "2272   準備    349\n",
       "863    學習    349\n",
       "3602   選擇    343\n",
       "2062   服務    331\n",
       "3830   面談    315\n",
       "1462   招募    309\n",
       "1124   影響    297\n",
       "3565   遇到    296\n",
       "1295   找到    296"
      ]
     },
     "execution_count": 75,
     "metadata": {},
     "output_type": "execute_result"
    }
   ],
   "source": [
    "l_verb = [\"VC\"] # ,\"VH\",\"VA\"\n",
    "verb = pos_table[pos_table.pos.isin(l_verb)] # 選取特定詞性\n",
    "verb = verb[verb['word'].map(len) > 1] # 把長度為1的字去除掉\n",
    "\n",
    "verb_count = verb[['word']].groupby(['word'])['word'].count().reset_index(name='count').sort_values(['count'], ascending=False).head(15)\n",
    "verb_count"
   ]
  },
  {
   "cell_type": "code",
   "execution_count": 76,
   "id": "f8a3c84c",
   "metadata": {},
   "outputs": [
    {
     "name": "stderr",
     "output_type": "stream",
     "text": [
      "C:\\Users\\grace\\AppData\\Local\\Temp\\ipykernel_25604\\3731725871.py:11: UserWarning: Matplotlib is currently using module://matplotlib_inline.backend_inline, which is a non-GUI backend, so cannot show the figure.\n",
      "  fig.show()\n"
     ]
    },
    {
     "data": {
      "image/png": "[encoded data removed]",
      "text/plain": [
       "<Figure size 720x504 with 1 Axes>"
      ]
     },
     "metadata": {
      "needs_background": "light"
     },
     "output_type": "display_data"
    }
   ],
   "source": [
    "plt.rcParams['font.sans-serif'] = ['Microsoft JhengHei'] \n",
    "word = verb_count['word']\n",
    "count = verb_count['count']\n",
    "\n",
    "fig, ax = plt.subplots(figsize =(10, 7))\n",
    "ax.barh(word, count)\n",
    "ax.invert_yaxis()\n",
    "ax.set_title('Word Frequency (NER is VERB)',loc ='left', size = 14)\n",
    "ax.set_ylabel('organization', size = 14)\n",
    "ax.set_xlabel('Word Frequency', size = 14)\n",
    "fig.show()"
   ]
  },
  {
   "attachments": {},
   "cell_type": "markdown",
   "id": "b5b65a7f",
   "metadata": {},
   "source": [
    "發現在貼文中的動詞，「面試」佔了相當高的頻率，我們可以知道在科技業求職版中有許多面試的相關資訊，例如面試過程還有面試心得分享。\n",
    "其次是「裁員」，在該討論版當中網友們也經常關注各家公司的裁員情況。"
   ]
  },
  {
   "cell_type": "markdown",
   "id": "378cda42",
   "metadata": {},
   "source": [
    "## 4. 利用SnowNLP進行情緒分析"
   ]
  },
  {
   "cell_type": "markdown",
   "id": "e07cf332",
   "metadata": {},
   "source": [
    "+ SnowNLP 針對中文設計，可以提取句子的情緒分類\n",
    "+ 使用文件分類法，套件已預先用文集訓練模型以判斷情緒\n",
    "+ 情緒值在 0~1之間，代表負面到正面\n",
    "+ 官方github: https://github.com/isnowfy/snownlp"
   ]
  },
  {
   "cell_type": "code",
   "execution_count": 23,
   "id": "b6da4ff0",
   "metadata": {},
   "outputs": [
    {
     "data": {
      "text/plain": [
       "0.04180028804608915"
      ]
     },
     "execution_count": 23,
     "metadata": {},
     "output_type": "execute_result"
    }
   ],
   "source": [
    "from snownlp import SnowNLP\n",
    "s = SnowNLP('文華訂位都訂不到')\n",
    "s.sentiments # 範圍在 0~ 1之間 (負面~正面)"
   ]
  },
  {
   "attachments": {},
   "cell_type": "markdown",
   "id": "670ecefa",
   "metadata": {},
   "source": [
    "使用先前NER得到的「台積電」相關文章，看看台積電相關文章的情緒表現。<br>\n",
    "首先將句子和日期合併，方便之後做分析"
   ]
  },
  {
   "cell_type": "code",
   "execution_count": 21,
   "id": "947f4d7c",
   "metadata": {},
   "outputs": [
    {
     "data": {
      "text/html": [
       "<div>\n",
       "<style scoped>\n",
       "    .dataframe tbody tr th:only-of-type {\n",
       "        vertical-align: middle;\n",
       "    }\n",
       "\n",
       "    .dataframe tbody tr th {\n",
       "        vertical-align: top;\n",
       "    }\n",
       "\n",
       "    .dataframe thead th {\n",
       "        text-align: right;\n",
       "    }\n",
       "</style>\n",
       "<table border=\"1\" class=\"dataframe\">\n",
       "  <thead>\n",
       "    <tr style=\"text-align: right;\">\n",
       "      <th></th>\n",
       "      <th>system_id</th>\n",
       "      <th>sentence</th>\n",
       "      <th>artDate</th>\n",
       "      <th>dataSource</th>\n",
       "    </tr>\n",
       "  </thead>\n",
       "  <tbody>\n",
       "    <tr>\n",
       "      <th>1063</th>\n",
       "      <td>25</td>\n",
       "      <td>看到長春黑下</td>\n",
       "      <td>2018-02-14 08:49:08</td>\n",
       "      <td>ptt</td>\n",
       "    </tr>\n",
       "    <tr>\n",
       "      <th>1064</th>\n",
       "      <td>25</td>\n",
       "      <td>輪班問題~長春非常人治</td>\n",
       "      <td>2018-02-14 08:49:08</td>\n",
       "      <td>ptt</td>\n",
       "    </tr>\n",
       "    <tr>\n",
       "      <th>1065</th>\n",
       "      <td>25</td>\n",
       "      <td>基本上，不同單位會由某位大主管塑造種組織文化或氣氛</td>\n",
       "      <td>2018-02-14 08:49:08</td>\n",
       "      <td>ptt</td>\n",
       "    </tr>\n",
       "    <tr>\n",
       "      <th>1066</th>\n",
       "      <td>25</td>\n",
       "      <td>基本上人事，是做門面，基本上到底工作內容如何，都是到了</td>\n",
       "      <td>2018-02-14 08:49:08</td>\n",
       "      <td>ptt</td>\n",
       "    </tr>\n",
       "    <tr>\n",
       "      <th>1067</th>\n",
       "      <td>25</td>\n",
       "      <td>單位，讓單位說了算了</td>\n",
       "      <td>2018-02-14 08:49:08</td>\n",
       "      <td>ptt</td>\n",
       "    </tr>\n",
       "  </tbody>\n",
       "</table>\n",
       "</div>"
      ],
      "text/plain": [
       "      system_id                     sentence              artDate dataSource\n",
       "1063         25                       看到長春黑下  2018-02-14 08:49:08        ptt\n",
       "1064         25                  輪班問題~長春非常人治  2018-02-14 08:49:08        ptt\n",
       "1065         25    基本上，不同單位會由某位大主管塑造種組織文化或氣氛  2018-02-14 08:49:08        ptt\n",
       "1066         25  基本上人事，是做門面，基本上到底工作內容如何，都是到了  2018-02-14 08:49:08        ptt\n",
       "1067         25                   單位，讓單位說了算了  2018-02-14 08:49:08        ptt"
      ]
     },
     "execution_count": 21,
     "metadata": {},
     "output_type": "execute_result"
    }
   ],
   "source": [
    "sentence_table = pd.read_csv(\"raw_data/sentence_table_OriginalData.csv\") #匯資料\n",
    "\n",
    "sentiment_date = pd.merge(sentence_table,yang_selected[['system_id','artDate','dataSource']],on='system_id',how='left').dropna()\n",
    "sentiment_date.head()"
   ]
  },
  {
   "cell_type": "code",
   "execution_count": 24,
   "id": "6d6d54b6",
   "metadata": {
    "scrolled": true
   },
   "outputs": [
    {
     "data": {
      "text/html": [
       "<div>\n",
       "<style scoped>\n",
       "    .dataframe tbody tr th:only-of-type {\n",
       "        vertical-align: middle;\n",
       "    }\n",
       "\n",
       "    .dataframe tbody tr th {\n",
       "        vertical-align: top;\n",
       "    }\n",
       "\n",
       "    .dataframe thead th {\n",
       "        text-align: right;\n",
       "    }\n",
       "</style>\n",
       "<table border=\"1\" class=\"dataframe\">\n",
       "  <thead>\n",
       "    <tr style=\"text-align: right;\">\n",
       "      <th></th>\n",
       "      <th>system_id</th>\n",
       "      <th>sentence</th>\n",
       "      <th>artDate</th>\n",
       "      <th>dataSource</th>\n",
       "      <th>sentimentValue</th>\n",
       "    </tr>\n",
       "  </thead>\n",
       "  <tbody>\n",
       "    <tr>\n",
       "      <th>1063</th>\n",
       "      <td>25</td>\n",
       "      <td>看到長春黑下</td>\n",
       "      <td>2018-02-14 08:49:08</td>\n",
       "      <td>ptt</td>\n",
       "      <td>0.621226</td>\n",
       "    </tr>\n",
       "    <tr>\n",
       "      <th>1064</th>\n",
       "      <td>25</td>\n",
       "      <td>輪班問題~長春非常人治</td>\n",
       "      <td>2018-02-14 08:49:08</td>\n",
       "      <td>ptt</td>\n",
       "      <td>0.299673</td>\n",
       "    </tr>\n",
       "    <tr>\n",
       "      <th>1065</th>\n",
       "      <td>25</td>\n",
       "      <td>基本上，不同單位會由某位大主管塑造種組織文化或氣氛</td>\n",
       "      <td>2018-02-14 08:49:08</td>\n",
       "      <td>ptt</td>\n",
       "      <td>0.036281</td>\n",
       "    </tr>\n",
       "    <tr>\n",
       "      <th>1066</th>\n",
       "      <td>25</td>\n",
       "      <td>基本上人事，是做門面，基本上到底工作內容如何，都是到了</td>\n",
       "      <td>2018-02-14 08:49:08</td>\n",
       "      <td>ptt</td>\n",
       "      <td>0.599656</td>\n",
       "    </tr>\n",
       "    <tr>\n",
       "      <th>1067</th>\n",
       "      <td>25</td>\n",
       "      <td>單位，讓單位說了算了</td>\n",
       "      <td>2018-02-14 08:49:08</td>\n",
       "      <td>ptt</td>\n",
       "      <td>0.342639</td>\n",
       "    </tr>\n",
       "  </tbody>\n",
       "</table>\n",
       "</div>"
      ],
      "text/plain": [
       "      system_id                     sentence              artDate dataSource  \\\n",
       "1063         25                       看到長春黑下  2018-02-14 08:49:08        ptt   \n",
       "1064         25                  輪班問題~長春非常人治  2018-02-14 08:49:08        ptt   \n",
       "1065         25    基本上，不同單位會由某位大主管塑造種組織文化或氣氛  2018-02-14 08:49:08        ptt   \n",
       "1066         25  基本上人事，是做門面，基本上到底工作內容如何，都是到了  2018-02-14 08:49:08        ptt   \n",
       "1067         25                   單位，讓單位說了算了  2018-02-14 08:49:08        ptt   \n",
       "\n",
       "      sentimentValue  \n",
       "1063        0.621226  \n",
       "1064        0.299673  \n",
       "1065        0.036281  \n",
       "1066        0.599656  \n",
       "1067        0.342639  "
      ]
     },
     "execution_count": 24,
     "metadata": {},
     "output_type": "execute_result"
    }
   ],
   "source": [
    "def get_sentiment(sent):\n",
    "    s = SnowNLP(sent)\n",
    "    return s.sentiments\n",
    "\n",
    "# 幫每句話加上情緒分數\n",
    "sentiment_date['sentimentValue'] = sentiment_date.apply(lambda row : get_sentiment(row['sentence'],), axis = 1)\n",
    "sentiment_date.head()"
   ]
  },
  {
   "cell_type": "code",
   "execution_count": 25,
   "id": "148d4964",
   "metadata": {},
   "outputs": [
    {
     "data": {
      "text/plain": [
       "count    1.030100e+04\n",
       "mean     3.907325e-01\n",
       "std      3.378557e-01\n",
       "min      5.619483e-11\n",
       "25%      6.035654e-02\n",
       "50%      3.251433e-01\n",
       "75%      6.711348e-01\n",
       "max      1.000000e+00\n",
       "Name: sentimentValue, dtype: float64"
      ]
     },
     "execution_count": 25,
     "metadata": {},
     "output_type": "execute_result"
    }
   ],
   "source": [
    "# 看一下情緒的分布\n",
    "sentiment_date['sentimentValue'].describe()"
   ]
  },
  {
   "cell_type": "code",
   "execution_count": 26,
   "id": "f0c1d367",
   "metadata": {},
   "outputs": [
    {
     "data": {
      "text/plain": [
       "<Axes: >"
      ]
     },
     "execution_count": 26,
     "metadata": {},
     "output_type": "execute_result"
    },
    {
     "data": {
      "image/png": "[encoded data removed]",
      "text/plain": [
       "<Figure size 432x288 with 1 Axes>"
      ]
     },
     "metadata": {
      "needs_background": "light"
     },
     "output_type": "display_data"
    }
   ],
   "source": [
    "# 情緒分布的盒狀圖\n",
    "boxplot = sentiment_date.boxplot(column=['sentimentValue'], showfliers=False)\n",
    "boxplot"
   ]
  },
  {
   "attachments": {},
   "cell_type": "markdown",
   "id": "dad22fcd",
   "metadata": {},
   "source": [
    "將每個月的情緒分數取平均，並轉換時間格式為年月"
   ]
  },
  {
   "cell_type": "code",
   "execution_count": 30,
   "id": "e4673caa",
   "metadata": {
    "scrolled": true,
    "tags": []
   },
   "outputs": [
    {
     "name": "stdout",
     "output_type": "stream",
     "text": [
      "artDate            2022-12\n",
      "sentimentValue    0.567695\n",
      "dtype: object\n",
      "artDate            2018-02\n",
      "sentimentValue    0.254364\n",
      "dtype: object\n"
     ]
    }
   ],
   "source": [
    "sent_date = sentiment_date.copy()\n",
    "sent_date['artDate'] =  pd.to_datetime(sentiment_date['artDate']).dt.to_period('M')\n",
    "\n",
    "sentiment_count = sent_date.groupby(['artDate'])['sentimentValue'].mean().reset_index()\n",
    "# sentiment_count.head()\n",
    "print(sentiment_count.max())\n",
    "print(sentiment_count.min())"
   ]
  },
  {
   "cell_type": "code",
   "execution_count": 32,
   "id": "f3b56f53",
   "metadata": {},
   "outputs": [
    {
     "name": "stderr",
     "output_type": "stream",
     "text": [
      "C:\\Users\\grace\\AppData\\Local\\Temp\\ipykernel_20968\\3287014777.py:2: MatplotlibDeprecationWarning: The seaborn styles shipped by Matplotlib are deprecated since 3.6, as they no longer correspond to the styles shipped by seaborn. However, they will remain available as 'seaborn-v0_8-<style>'. Alternatively, directly use the seaborn API instead.\n",
      "  plt.style.use('seaborn')\n"
     ]
    },
    {
     "data": {
      "image/png": "[encoded data removed]",
      "text/plain": [
       "<Figure size 576x396 with 1 Axes>"
      ]
     },
     "metadata": {},
     "output_type": "display_data"
    }
   ],
   "source": [
    "# 平均情緒分數時間趨勢\n",
    "plt.style.use('seaborn')\n",
    "\n",
    "months = sentiment_count['artDate']\n",
    "y = sentiment_count['sentimentValue']\n",
    "\n",
    "plt.plot_date(months, y, linestyle='solid')\n",
    "plt.gcf().autofmt_xdate\n",
    "plt.tight_layout()\n",
    "plt.ylim(0,1)\n",
    "\n",
    "plt.show()"
   ]
  },
  {
   "attachments": {},
   "cell_type": "markdown",
   "id": "2a87e107",
   "metadata": {},
   "source": [
    "從上圖中發現大部分天數的情緒值都在0.3~0.5之間，整體分數中間偏低一點。我們挑出分數看起來最低的 2018年2月 來分析。"
   ]
  },
  {
   "attachments": {},
   "cell_type": "markdown",
   "id": "a761b61c",
   "metadata": {},
   "source": [
    "### 詞彙探索\n",
    "從上圖中可以發現 2020年2月 的情緒分數相對低，我們把這個月的負面句子挑出來看看他們都用甚麼詞。"
   ]
  },
  {
   "cell_type": "code",
   "execution_count": 33,
   "id": "f3f6ef55",
   "metadata": {
    "scrolled": true
   },
   "outputs": [
    {
     "data": {
      "text/html": [
       "<div>\n",
       "<style scoped>\n",
       "    .dataframe tbody tr th:only-of-type {\n",
       "        vertical-align: middle;\n",
       "    }\n",
       "\n",
       "    .dataframe tbody tr th {\n",
       "        vertical-align: top;\n",
       "    }\n",
       "\n",
       "    .dataframe thead th {\n",
       "        text-align: right;\n",
       "    }\n",
       "</style>\n",
       "<table border=\"1\" class=\"dataframe\">\n",
       "  <thead>\n",
       "    <tr style=\"text-align: right;\">\n",
       "      <th></th>\n",
       "      <th>system_id</th>\n",
       "      <th>sentence</th>\n",
       "      <th>artDate</th>\n",
       "      <th>dataSource</th>\n",
       "      <th>sentimentValue</th>\n",
       "    </tr>\n",
       "  </thead>\n",
       "  <tbody>\n",
       "    <tr>\n",
       "      <th>1064</th>\n",
       "      <td>25</td>\n",
       "      <td>輪班問題~長春非常人治</td>\n",
       "      <td>2018-02</td>\n",
       "      <td>ptt</td>\n",
       "      <td>0.299673</td>\n",
       "    </tr>\n",
       "    <tr>\n",
       "      <th>1065</th>\n",
       "      <td>25</td>\n",
       "      <td>基本上，不同單位會由某位大主管塑造種組織文化或氣氛</td>\n",
       "      <td>2018-02</td>\n",
       "      <td>ptt</td>\n",
       "      <td>0.036281</td>\n",
       "    </tr>\n",
       "    <tr>\n",
       "      <th>1067</th>\n",
       "      <td>25</td>\n",
       "      <td>單位，讓單位說了算了</td>\n",
       "      <td>2018-02</td>\n",
       "      <td>ptt</td>\n",
       "      <td>0.342639</td>\n",
       "    </tr>\n",
       "    <tr>\n",
       "      <th>1068</th>\n",
       "      <td>25</td>\n",
       "      <td>有時感慨，如果有像我同學在台塑，雖然規定要去大陸，但是</td>\n",
       "      <td>2018-02</td>\n",
       "      <td>ptt</td>\n",
       "      <td>0.117691</td>\n",
       "    </tr>\n",
       "    <tr>\n",
       "      <th>1069</th>\n",
       "      <td>25</td>\n",
       "      <td>每人輪流年，回來就是準備升主辦，很大程度就克服內部矛盾</td>\n",
       "      <td>2018-02</td>\n",
       "      <td>ptt</td>\n",
       "      <td>0.072309</td>\n",
       "    </tr>\n",
       "  </tbody>\n",
       "</table>\n",
       "</div>"
      ],
      "text/plain": [
       "      system_id                     sentence  artDate dataSource  \\\n",
       "1064         25                  輪班問題~長春非常人治  2018-02        ptt   \n",
       "1065         25    基本上，不同單位會由某位大主管塑造種組織文化或氣氛  2018-02        ptt   \n",
       "1067         25                   單位，讓單位說了算了  2018-02        ptt   \n",
       "1068         25  有時感慨，如果有像我同學在台塑，雖然規定要去大陸，但是  2018-02        ptt   \n",
       "1069         25  每人輪流年，回來就是準備升主辦，很大程度就克服內部矛盾  2018-02        ptt   \n",
       "\n",
       "      sentimentValue  \n",
       "1064        0.299673  \n",
       "1065        0.036281  \n",
       "1067        0.342639  \n",
       "1068        0.117691  \n",
       "1069        0.072309  "
      ]
     },
     "execution_count": 33,
     "metadata": {},
     "output_type": "execute_result"
    }
   ],
   "source": [
    "# 篩時間\n",
    "filter_sentiment = sent_date[sent_date['artDate']=='2018-02']\n",
    "filter_sentiment = filter_sentiment.loc[filter_sentiment['sentimentValue'] < 0.5]\n",
    "\n",
    "filter_sentiment.head()"
   ]
  },
  {
   "cell_type": "code",
   "execution_count": 34,
   "id": "f5f3b5b8",
   "metadata": {},
   "outputs": [
    {
     "data": {
      "text/html": [
       "<div>\n",
       "<style scoped>\n",
       "    .dataframe tbody tr th:only-of-type {\n",
       "        vertical-align: middle;\n",
       "    }\n",
       "\n",
       "    .dataframe tbody tr th {\n",
       "        vertical-align: top;\n",
       "    }\n",
       "\n",
       "    .dataframe thead th {\n",
       "        text-align: right;\n",
       "    }\n",
       "</style>\n",
       "<table border=\"1\" class=\"dataframe\">\n",
       "  <thead>\n",
       "    <tr style=\"text-align: right;\">\n",
       "      <th></th>\n",
       "      <th>system_id</th>\n",
       "      <th>sentimentValue</th>\n",
       "      <th>word</th>\n",
       "    </tr>\n",
       "  </thead>\n",
       "  <tbody>\n",
       "    <tr>\n",
       "      <th>0</th>\n",
       "      <td>25</td>\n",
       "      <td>0.299673</td>\n",
       "      <td>看到</td>\n",
       "    </tr>\n",
       "    <tr>\n",
       "      <th>1</th>\n",
       "      <td>25</td>\n",
       "      <td>0.299673</td>\n",
       "      <td>長春</td>\n",
       "    </tr>\n",
       "    <tr>\n",
       "      <th>2</th>\n",
       "      <td>25</td>\n",
       "      <td>0.299673</td>\n",
       "      <td>黑下</td>\n",
       "    </tr>\n",
       "    <tr>\n",
       "      <th>3</th>\n",
       "      <td>25</td>\n",
       "      <td>0.299673</td>\n",
       "      <td>輪班</td>\n",
       "    </tr>\n",
       "    <tr>\n",
       "      <th>4</th>\n",
       "      <td>25</td>\n",
       "      <td>0.299673</td>\n",
       "      <td>問題</td>\n",
       "    </tr>\n",
       "  </tbody>\n",
       "</table>\n",
       "</div>"
      ],
      "text/plain": [
       "   system_id  sentimentValue word\n",
       "0         25        0.299673   看到\n",
       "1         25        0.299673   長春\n",
       "2         25        0.299673   黑下\n",
       "3         25        0.299673   輪班\n",
       "4         25        0.299673   問題"
      ]
     },
     "execution_count": 34,
     "metadata": {},
     "output_type": "execute_result"
    }
   ],
   "source": [
    "# 把時間分數和之前斷詞的token table做 join\n",
    "neg_words = pd.merge(filter_sentiment,pos_table,on='system_id',how='left')\n",
    "neg_words = neg_words[['system_id','sentimentValue','word']]\n",
    "neg_words.head()"
   ]
  },
  {
   "cell_type": "code",
   "execution_count": 35,
   "id": "e31c212f",
   "metadata": {},
   "outputs": [],
   "source": [
    "# 篩選掉只有單個字元的結果\n",
    "neg_words = neg_words[neg_words.apply(lambda x: len(x['word'])>1, axis=1)]"
   ]
  },
  {
   "attachments": {},
   "cell_type": "markdown",
   "id": "ddee5bfb",
   "metadata": {},
   "source": [
    "### 負面詞彙文字雲"
   ]
  },
  {
   "cell_type": "code",
   "execution_count": 36,
   "id": "fae7563b",
   "metadata": {
    "scrolled": true
   },
   "outputs": [
    {
     "name": "stdout",
     "output_type": "stream",
     "text": [
      "['$', '0', '1', '2', '3', '4', '5', '6', '7', '8', '9', '?', '_', '“', '”', '、', '。', '《', '》', '一', '一些', '一何', '一切', '一則', '一方面', '一旦', '一來', '一樣', '一般', '一轉眼', '萬一', '上', '上下', '下', '不', '不僅', '不但', '不光', '不單', '不只', '不外乎', '不如', '不妨', '不盡', '不盡然', '不得', '不怕', '不惟', '不成', '不拘', '不料', '不是', '不比', '不然', '不特', '不獨', '不管', '不至於', '不若', '不論', '不過', '不問', '與', '與其', '與其說', '與否', '與此同時', '且', '且不說', '且說', '兩者', '個', '個別', '臨', '為', '為了', '為什麼', '為何', '為止', '為此', '為著', '乃', '乃至', '乃至於', '麼', '之', '之一', '之所以', '之類', '烏乎', '乎', '乘', '也', '也好', '也罷', '了', '二來', '於', '於是', '於是乎', '云云', '云爾', '些', '亦', '人', '人們', '人家', '什麼', '什麼樣', '今', '介於', '仍', '仍舊', '從', '從此', '從而', '他', '他人', '他們', '以', '以上', '以為', '以便', '以免', '以及', '以故', '以期', '以來', '以至', '以至於', '以致', '們', '任', '任何', '任憑', '似的', '但', '但凡', '但是', '何', '何以', '何況', '何處', '何時', '余外', '作為', '你', '你們', '使', '使得', '例如', '依', '依據', '依照', '便於', '俺', '俺們', '倘', '倘使', '倘或', '倘然', '倘若', '借', '假使', '假如', '假若', '儻然', '像', '兒', '先不先', '光是', '全體', '全部', '兮', '關於', '其', '其一', '其中', '其二', '其他', '其餘', '其它', '其次', '具體地說', '具體說來', '兼之', '內', '再', '再其次', '再則', '再有', '再者', '再者說', '再說', '冒', '沖', '況且', '幾', '幾時', '凡', '凡是', '憑', '憑藉', '出於', '出來', '分別', '則', '則甚', '別', '別人', '別處', '別是', '別的', '別管', '別說', '到', '前後', '前此', '前者', '加之', '加以', '即', '即令', '即使', '即便', '即如', '即或', '即若', '卻', '去', '又', '又及', '及', '及其', '及至', '反之', '反而', '反過來', '反過來說', '受到', '另', '另一方面', '另外', '另悉', '只', '只當', '只怕', '只是', '只有', '只消', '只要', '只限', '叫', '叮咚', '可', '可以', '可是', '可見', '各', '各個', '各位', '各種', '各自', '同', '同時', '後', '後者', '向', '向使', '向著', '嚇', '嗎', '否則', '吧', '吧噠', '吱', '呀', '呃', '嘔', '唄', '嗚', '嗚呼', '呢', '呵', '呵呵', '呸', '呼哧', '咋', '和', '咚', '咦', '咧', '咱', '咱們', '咳', '哇', '哈', '哈哈', '哉', '哎', '哎呀', '哎喲', '嘩', '喲', '哦', '哩', '哪', '哪個', '哪些', '哪兒', '哪天', '哪年', '哪怕', '哪樣', '哪邊', '哪裡', '哼', '哼唷', '唉', '唯有', '啊', '啐', '啥', '啦', '啪達', '啷噹', '喂', '喏', '喔唷', '嘍', '嗡', '嗡嗡', '嗬', '嗯', '噯', '嘎', '嘎登', '噓', '嘛', '嘻', '嘿', '嘿嘿', '因', '因為', '因了', '因此', '因著', '因而', '固然', '在', '在下', '在於', '地', '基於', '處在', '多', '多麼', '多少', '大', '大家', '她', '她們', '好', '如', '如上', '如上所述', '如下', '如何', '如其', '如同', '如是', '如果', '如此', '如若', '始而', '孰料', '孰知', '寧', '寧可', '寧願', '寧肯', '它', '它們', '對', '對於', '對待', '對方', '對比', '將', '小', '爾', '爾後', '爾爾', '尚且', '就', '就是', '就是了', '就是說', '就算', '就要', '盡', '儘管', '儘管如此', '豈但', '己', '已', '已矣', '巴', '巴巴', '並', '並且', '並非', '庶乎', '庶幾', '開外', '開始', '歸', '歸齊', '當', '當地', '當然', '當著', '彼', '彼時', '彼此', '往', '待', '很', '得', '得了', '怎', '怎麼', '怎麼辦', '怎麼樣', '怎奈', '怎樣', '總之', '總的來看', '總的來說', '總的說來', '總而言之', '恰恰相反', '您', '惟其', '慢說', '我', '我們', '或', '或則', '或是', '或曰', '或者', '截至', '所', '所以', '所在', '所幸', '所有', '才', '才能', '打', '打從', '把', '抑或', '拿', '按', '按照', '換句話說', '換言之', '據', '據此', '接著', '故', '故此', '故而', '旁人', '無', '無寧', '無論', '既', '既往', '既是', '既然', '時候', '是', '是以', '是的', '曾', '替', '替代', '最', '有', '有些', '有關', '有及', '有時', '有的', '望', '朝', '朝著', '本', '本人', '本地', '本著', '本身', '來', '來著', '來自', '來說', '極了', '果然', '果真', '某', '某個', '某些', '某某', '根據', '歟', '正值', '正如', '正巧', '正是', '此', '此地', '此處', '此外', '此時', '此次', '此間', '毋寧', '每', '每當', '比', '比及', '比如', '比方', '沒奈何', '沿', '沿著', '漫說', '焉', '然則', '然後', '然而', '照', '照著', '猶且', '猶自', '甚且', '甚麼', '甚或', '甚而', '甚至', '甚至於', '用', '用來', '由', '由於', '由是', '由此', '由此可見', '的', '的確', '的話', '直到', '相對而言', '省得', '看', '眨眼', '著', '著呢', '矣', '矣乎', '矣哉', '離', '竟而', '第', '等', '等到', '等等', '簡言之', '管', '類如', '緊接著', '縱', '縱令', '縱使', '縱然', '經', '經過', '結果', '給', '繼之', '繼後', '繼而', '綜上所述', '罷了', '者', '而', '而且', '而況', '而後', '而外', '而已', '而是', '而言', '能', '能否', '騰', '自', '自個兒', '自從', '自各兒', '自後', '自家', '自己', '自打', '自身', '至', '至於', '至今', '至若', '致', '般的', '若', '若夫', '若是', '若果', '若非', '莫不然', '莫如', '莫若', '雖', '雖則', '雖然', '雖說', '被', '要', '要不', '要不是', '要不然', '要麼', '要是', '譬喻', '譬如', '讓', '許多', '論', '設使', '設或', '設若', '誠如', '誠然', '該', '說來', '諸', '諸位', '諸如', '誰', '誰人', '誰料', '誰知', '賊死', '賴以', '趕', '起', '起見', '趁', '趁著', '越是', '距', '跟', '較', '較之', '邊', '過', '還', '還是', '還有', '還要', '這', '這一來', '這個', '這麼', '這麼些', '這麼樣', '這麼點兒', '這些', '這會兒', '這兒', '這就是說', '這時', '這樣', '這次', '這般', '這邊', '這裡', '進而', '連', '連同', '逐步', '通過', '遵循', '遵照', '那', '那個', '那麼', '那麼些', '那麼樣', '那些', '那會兒', '那兒', '那時', '那樣', '那般', '那邊', '那裡', '都', '鄙人', '鑒於', '針對', '阿', '除', '除了', '除外', '除開', '除此之外', '除非', '隨', '隨後', '隨時', '隨著', '難道說', '非但', '非徒', '非特', '非獨', '靠', '順', '順著', '首先', '！', '，', '：', '；', '？', '「', '」', '（', '）', ',', '?', '、', '。', '“', '”', '《', '》', '！', '，', '：', '；', '？', '人民', '末##末', '啊', '阿', '哎', '哎呀', '哎喲', '唉', '我', '我們', '按', '按照', '依照', '吧', '吧噠', '把', '罷了', '被', '本', '本著', '比', '比方', '比如', '鄙人', '彼', '彼此', '邊', '別', '別的', '別說', '並', '並且', '不比', '不成', '不單', '不但', '不獨', '不管', '不光', '不過', '不僅', '不拘', '不論', '不怕', '不然', '不如', '不特', '不惟', '不問', '不只', '朝', '朝著', '趁', '趁著', '乘', '沖', '除', '除此之外', '除非', '除了', '此', '此間', '此外', '從', '從而', '打', '待', '但', '但是', '當', '當著', '到', '得', '的', '的話', '等', '等等', '地', '第', '叮咚', '對', '對於', '多', '多少', '而', '而況', '而且', '而是', '而外', '而言', '而已', '爾後', '反過來', '反過來說', '反之', '非但', '非徒', '否則', '嘎', '嘎登', '該', '趕', '個', '各', '各個', '各位', '各種', '各自', '給', '根據', '跟', '故', '故此', '固然', '關於', '管', '歸', '果然', '果真', '過', '哈', '哈哈', '呵', '和', '何', '何處', '何況', '何時', '嘿', '哼', '哼唷', '呼哧', '乎', '嘩', '還是', '還有', '換句話說', '換言之', '或', '或是', '或者', '極了', '及', '及其', '及至', '即', '即便', '即或', '即令', '即若', '即使', '幾', '幾時', '己', '既', '既然', '既是', '繼而', '加之', '假如', '假若', '假使', '鑒於', '將', '較', '較之', '叫', '接著', '結果', '借', '緊接著', '進而', '盡', '儘管', '經', '經過', '就', '就是', '就是說', '據', '具體地說', '具體說來', '開始', '開外', '靠', '咳', '可', '可見', '可是', '可以', '況且', '啦', '來', '來著', '離', '例如', '哩', '連', '連同', '兩者', '了', '臨', '另', '另外', '另一方面', '論', '嘛', '嗎', '慢說', '漫說', '冒', '麼', '每', '每當', '們', '莫若', '某', '某個', '某些', '拿', '哪', '哪邊', '哪兒', '哪個', '哪裏', '哪年', '哪怕', '哪天', '哪些', '哪樣', '那', '那邊', '那兒', '那個', '那會兒', '那裏', '那麼', '那麼些', '那麼樣', '那時', '那些', '那樣', '乃', '乃至', '呢', '能', '你', '你們', '您', '寧', '寧可', '寧肯', '寧願', '哦', '嘔', '啪達', '旁人', '呸', '憑', '憑藉', '其', '其次', '其二', '其他', '其它', '其一', '其餘', '其中', '起', '起見', '豈但', '恰恰相反', '前後', '前者', '且', '然而', '然後', '然則', '讓', '人家', '任', '任何', '任憑', '如', '如此', '如果', '如何', '如其', '如若', '如上所述', '若', '若非', '若是', '啥', '上下', '尚且', '設若', '設使', '甚而', '甚麼', '甚至', '省得', '時候', '什麼', '什麼樣', '使得', '是', '是的', '首先', '誰', '誰知', '順', '順著', '似的', '雖', '雖然', '雖說', '雖則', '隨', '隨著', '所', '所以', '他', '他們', '他人', '它', '它們', '她', '她們', '倘', '倘或', '倘然', '倘若', '倘使', '騰', '替', '通過', '同', '同時', '哇', '萬一', '往', '望', '為', '為何', '為了', '為什麼', '為著', '餵', '嗡嗡', '我', '我們', '嗚', '嗚呼', '烏乎', '無論', '無寧', '毋寧', '嘻', '嚇', '相對而言', '像', '向', '向著', '噓', '呀', '焉', '沿', '沿著', '要', '要不', '要不然', '要不是', '要麼', '要是', '也', '也罷', '也好', '一', '一般', '一旦', '一方面', '一來', '一切', '一樣', '一則', '依', '依照', '矣', '以', '以便', '以及', '以免', '以至', '以至於', '以致', '抑或', '因', '因此', '因而', '因為', '喲', '用', '由', '由此可見', '由於', '有', '有的', '有關', '有些', '又', '於', '於是', '於是乎', '與', '與此同時', '與否', '與其', '越是', '雲雲', '哉', '再說', '再者', '在', '在下', '咱', '咱們', '則', '怎', '怎麼', '怎麼辦', '怎麼樣', '怎樣', '咋', '照', '照著', '者', '這', '這邊', '這兒', '這個', '這會兒', '這就是說', '這裏', '這麼', '這麼點兒', '這麼些', '這麼樣', '這時', '這些', '這樣', '正如', '吱', '之', '之類', '之所以', '之一', '只是', '只限', '只要', '只有', '至', '至於', '諸位', '著', '著呢', '自', '自從', '自個兒', '自各兒', '自己', '自家', '自身', '綜上所述', '總的來看', '總的來說', '總的說來', '總而言之', '總之', '縱', '縱令', '縱然', '縱使', '遵照', '作為', '兮', '呃', '唄', '咚', '咦', '喏', '啐', '喔唷', '嗬', '嗯', '噯', '~', '!', '.', ':', '\"', \"'\", '(', ')', '*', 'A', '白', '社會主義', '--', '..', '>>', ' [', ' ]', '', '<', '>', '/', '\\\\', '|', '-', '_', '+', '=', '&', '^', '%', '#', '@', '`', ';', '$', '（', '）', '——', '—', '￥', '·', '...', '‘', '’', '〉', '〈', '…', '\\u3000', '0', '1', '2', '3', '4', '5', '6', '7', '8', '9', '０', '１', '２', '３', '４', '５', '６', '７', '８', '９', '二', '三', '四', '五', '六', '七', '八', '九', '零', '＞', '＜', '＠', '＃', '＄', '％', '︿', '＆', '＊', '＋', '～', '｜', '［', '］', '｛', '｝', '啊哈', '啊呀', '啊喲', '挨次', '挨個', '挨家挨戶', '挨門挨戶', '挨門逐戶', '挨著', '按理', '按期', '按時', '按說', '暗地裏', '暗中', '暗自', '昂然', '八成', '白白', '半', '梆', '保管', '保險', '飽', '背地裏', '背靠背', '倍感', '倍加', '本人', '本身', '甭', '比起', '比如說', '比照', '畢竟', '必', '必定', '必將', '必須', '便', '別人', '並非', '並肩', '並沒', '並沒有', '併排', '並無', '勃然', '不', '不必', '不常', '不大', '不但...而且', '不得', '不得不', '不得了', '不得已', '不迭', '不定', '不對', '不妨', '不管怎樣', '不會', '不僅...而且', '不僅僅', '不僅僅是', '不經意', '不可開交', '不可抗拒', '不力', '不了', '不料', '不滿', '不免', '不能不', '不起', '不巧', '不然的話', '不日', '不少', '不勝', '不時', '不是', '不同', '不能', '不要', '不外', '不外乎', '不下', '不限', '不消', '不已', '不亦樂乎', '不由得', '不再', '不擇手段', '不怎麼', '不曾', '不知不覺', '不止', '不止一次', '不至於', '才', '才能', '策略地', '差不多', '差一點', '常', '常常', '常言道', '常言說', '常言說得好', '長此下去', '長話短說', '長期以來', '長線', '敞開兒', '徹夜', '陳年', '趁便', '趁機', '趁熱', '趁勢', '趁早', '成年', '成年累月', '成心', '乘機', '乘勝', '乘勢', '乘隙', '乘虛', '誠然', '遲早', '充分', '充其極', '充其量', '抽冷子', '臭', '初', '出', '出來', '出去', '除此', '除此而外', '除此以外', '除開', '除去', '除卻', '除外', '處處', '川流不息', '傳', '傳說', '傳聞', '串列', '純', '純粹', '此後', '此中', '次第', '匆匆', '從不', '從此', '從此以後', '從古到今', '從古至今', '從今以後', '從寬', '從來', '從輕', '從速', '從頭', '從未', '從無到有', '從小', '從新', '從嚴', '從優', '從早到晚', '從中', '從重', '湊巧', '粗', '存心', '達旦', '打從', '打開天窗說亮話', '大', '大不了', '大大', '大抵', '大都', '大多', '大凡', '大概', '大家', '大舉', '大略', '大面兒上', '大事', '大體', '大體上', '大約', '大張旗鼓', '大致', '呆呆地', '帶', '殆', '待到', '單', '單純', '單單', '但願', '彈指之間', '當場', '當兒', '當即', '當口兒', '當然', '當庭', '當頭', '當下', '當真', '當中', '倒不如', '倒不如說', '倒是', '到處', '到底', '到了兒', '到目前為止', '到頭', '到頭來', '得起', '得天獨厚', '的確', '等到', '叮噹', '頂多', '定', '動不動', '動輒', '陡然', '都', '獨', '獨自', '斷然', '頓時', '多次', '多多', '多多少少', '多多益善', '多虧', '多年來', '多年前', '而後', '而論', '而又', '爾等', '二話不說', '二話沒說', '反倒', '反倒是', '反而', '反手', '反之亦然', '反之則', '方', '方才', '方能', '放量', '非常', '非得', '分期', '分期分批', '分頭', '奮勇', '憤然', '風雨無阻', '逢', '弗', '甫', '嘎嘎', '該當', '概', '趕快', '趕早不趕晚', '敢', '敢情', '敢於', '剛', '剛才', '剛好', '剛巧', '高低', '格外', '隔日', '隔夜', '個人', '各式', '更', '更加', '更進一步', '更為', '公然', '共', '共總', '夠瞧的', '姑且', '古來', '故而', '故意', '固', '怪', '怪不得', '慣常', '光', '光是', '歸根到底', '歸根結底', '過於', '毫不', '毫無', '毫無保留地', '毫無例外', '好在', '何必', '何嘗', '何妨', '何苦', '何樂而不為', '何須', '何止', '很', '很多', '很少', '轟然', '後來', '呼啦', '忽地', '忽然', '互', '互相', '嘩啦', '話說', '還', '恍然', '會', '豁然', '活', '夥同', '或多或少', '或許', '基本', '基本上', '基於', '極', '極大', '極度', '極端', '極力', '極其', '極為', '急匆匆', '即將', '即刻', '即是說', '幾度', '幾番', '幾乎', '幾經', '既...又', '繼之', '加上', '加以', '間或', '簡而言之', '簡言之', '簡直', '見', '將才', '將近', '將要', '交口', '較比', '較為', '接連不斷', '接下來', '皆可', '截然', '截至', '藉以', '藉此', '藉以', '屆時', '僅', '僅僅', '謹', '進來', '進去', '近', '近幾年來', '近來', '近年來', '儘管如此', '儘可能', '儘快', '儘量', '盡然', '盡如人意', '盡心竭力', '盡心盡力', '儘早', '精光', '經常', '竟', '竟然', '究竟', '就此', '就地', '就算', '居然', '局外', '舉凡', '據稱', '據此', '據實', '據說', '據我所知', '據悉', '具體來說', '決不', '決非', '絕', '絕不', '絕頂', '絕對', '絕非', '均', '喀', '看', '看來', '看起來', '看上去', '看樣子', '可好', '可能', '恐怕', '快', '快要', '來不及', '來得及', '來講', '來看', '攔腰', '牢牢', '老', '老大', '老老實實', '老是', '累次', '累年', '理當', '理該', '理應', '歷', '立', '立地', '立刻', '立馬', '立時', '聯袂', '連連', '連日', '連日來', '連聲', '連袂', '臨到', '另方面', '另行', '另一個', '路經', '屢', '屢次', '屢次三番', '屢屢', '縷縷', '率爾', '率然', '略', '略加', '略微', '略為', '論說', '馬上', '蠻', '滿', '沒', '沒有', '每逢', '每每', '每時每刻', '猛然', '猛然間', '莫', '莫不', '莫非', '莫如', '默默地', '默然', '吶', '那末', '奈', '難道', '難得', '難怪', '難說', '內', '年覆一年', '凝神', '偶而', '偶爾', '怕', '砰', '碰巧', '譬如', '偏偏', '乒', '平素', '頗', '迫於', '撲通', '其後', '其實', '奇', '齊', '起初', '起來', '起首', '起頭', '起先', '豈', '豈非', '豈止', '迄', '恰逢', '恰好', '恰恰', '恰巧', '恰如', '恰似', '千', '千萬', '千萬千萬', '切', '切不可', '切莫', '切切', '切勿', '竊', '親口', '親身', '親手', '親眼', '親自', '頃', '頃刻', '頃刻間', '頃刻之間', '請勿', '窮年累月', '取道', '去', '權時', '全都', '全力', '全年', '全然', '全身心', '然', '人人', '仍', '仍舊', '仍然', '日覆一日', '日見', '日漸', '日益', '日臻', '如常', '如此等等', '如次', '如今', '如期', '如前所述', '如上', '如下', '汝', '三番兩次', '三番五次', '三天兩頭', '瑟瑟', '沙沙', '上', '上來', '上去', '一個', '一起', '一家', '一定', '整體', '有點', '比較', '這家', '這是', '覺得', '真的', '超級', '應該', '最好', '好好', '相當', '每次', '已經', '之前', '原本', '當時', '是否', '不算', '還會', '第一', '第一次', ',', '?', '、', '。', '“', '”', '《', '》', '！', '，', '：', '；', '？', '人民', '末##末', '啊', '阿', '哎', '哎呀', '哎喲', '唉', '我', '我們', '按', '按照', '依照', '吧', '吧噠', '把', '罷了', '被', '本', '本著', '比', '比方', '比如', '鄙人', '彼', '彼此', '邊', '別', '別的', '別說', '並', '並且', '不比', '不成', '不單', '不但', '不獨', '不管', '不光', '不過', '不僅', '不拘', '不論', '不怕', '不然', '不如', '不特', '不惟', '不問', '不只', '朝', '朝著', '趁', '趁著', '乘', '沖', '除', '除此之外', '除非', '除了', '此', '此間', '此外', '從', '從而', '打', '待', '但', '但是', '當', '當著', '到', '得', '的', '的話', '等', '等等', '地', '第', '叮咚', '對', '對於', '多', '多少', '而', '而況', '而且', '而是', '而外', '而言', '而已', '爾後', '反過來', '反過來說', '反之', '非但', '非徒', '否則', '嘎', '嘎登', '該', '趕', '個', '各', '各個', '各位', '各種', '各自', '給', '根據', '跟', '故', '故此', '固然', '關於', '管', '歸', '果然', '果真', '過', '哈', '哈哈', '呵', '和', '何', '何處', '何況', '何時', '嘿', '哼', '哼唷', '呼哧', '乎', '嘩', '還是', '還有', '換句話說', '換言之', '或', '或是', '或者', '極了', '及', '及其', '及至', '即', '即便', '即或', '即令', '即若', '即使', '幾', '幾時', '己', '既', '既然', '既是', '繼而', '加之', '假如', '假若', '假使', '鑒於', '將', '較', '較之', '叫', '接著', '結果', '借', '緊接著', '進而', '盡', '儘管', '經', '經過', '就', '就是', '就是說', '據', '具體地說', '具體說來', '開始', '開外', '靠', '咳', '可', '可見', '可是', '可以', '況且', '啦', '來', '來著', '離', '例如', '哩', '連', '連同', '兩者', '了', '臨', '另', '另外', '另一方面', '論', '嘛', '嗎', '慢說', '漫說', '冒', '麼', '每', '每當', '們', '莫若', '某', '某個', '某些', '拿', '哪', '哪邊', '哪兒', '哪個', '哪裏', '哪年', '哪怕', '哪天', '哪些', '哪樣', '那', '那邊', '那兒', '那個', '那會兒', '那裏', '那麼', '那麼些', '那麼樣', '那時', '那些', '那樣', '乃', '乃至', '呢', '能', '你', '你們', '您', '寧', '寧可', '寧肯', '寧願', '哦', '嘔', '啪達', '旁人', '呸', '憑', '憑藉', '其', '其次', '其二', '其他', '其它', '其一', '其餘', '其中', '起', '起見', '豈但', '恰恰相反', '前後', '前者', '且', '然而', '然後', '然則', '讓', '人家', '任', '任何', '任憑', '如', '如此', '如果', '如何', '如其', '如若', '如上所述', '若', '若非', '若是', '啥', '上下', '尚且', '設若', '設使', '甚而', '甚麼', '甚至', '省得', '時候', '什麼', '什麼樣', '使得', '是', '是的', '首先', '誰', '誰知', '順', '順著', '似的', '雖', '雖然', '雖說', '雖則', '隨', '隨著', '所', '所以', '他', '他們', '他人', '它', '它們', '她', '她們', '倘', '倘或', '倘然', '倘若', '倘使', '騰', '替', '通過', '同', '同時', '哇', '萬一', '往', '望', '為', '為何', '為了', '為什麼', '為著', '餵', '嗡嗡', '我', '我們', '嗚', '嗚呼', '烏乎', '無論', '無寧', '毋寧', '嘻', '嚇', '相對而言', '像', '向', '向著', '噓', '呀', '焉', '沿', '沿著', '要', '要不', '要不然', '要不是', '要麼', '要是', '也', '也罷', '也好', '一', '一般', '一旦', '一方面', '一來', '一切', '一樣', '一則', '依', '依照', '矣', '以', '以便', '以及', '以免', '以至', '以至於', '以致', '抑或', '因', '因此', '因而', '因為', '喲', '用', '由', '由此可見', '由於', '有', '有的', '有關', '有些', '又', '於', '於是', '於是乎', '與', '與此同時', '與否', '與其', '越是', '雲雲', '哉', '再說', '再者', '在', '在下', '咱', '咱們', '則', '怎', '怎麼', '怎麼辦', '怎麼樣', '怎樣', '咋', '照', '照著', '者', '這', '這邊', '這兒', '這個', '這會兒', '這就是說', '這裏', '這麼', '這麼點兒', '這麼些', '這麼樣', '這時', '這些', '這樣', '正如', '吱', '之', '之類', '之所以', '之一', '只是', '只限', '只要', '只有', '至', '至於', '諸位', '著', '著呢', '自', '自從', '自個兒', '自各兒', '自己', '自家', '自身', '綜上所述', '總的來看', '總的來說', '總的說來', '總而言之', '總之', '縱', '縱令', '縱然', '縱使', '遵照', '作為', '兮', '呃', '唄', '咚', '咦', '喏', '啐', '喔唷', '嗬', '嗯', '噯', '~', '!', '.', ':', '\"', \"'\", '(', ')', '*', 'A', '白', '社會主義', '--', '..', '>>', ' [', ' ]', '', '<', '>', '/', '\\\\', '|', '-', '_', '+', '=', '&', '^', '%', '#', '@', '`', ';', '$', '（', '）', '——', '—', '￥', '·', '...', '‘', '’', '〉', '〈', '…', '\\u3000', '0', '1', '2', '3', '4', '5', '6', '7', '8', '9', '０', '１', '２', '３', '４', '５', '６', '７', '８', '９', '二', '三', '四', '五', '六', '七', '八', '九', '零', '＞', '＜', '＠', '＃', '＄', '％', '︿', '＆', '＊', '＋', '～', '｜', '［', '］', '｛', '｝', '啊哈', '啊呀', '啊喲', '挨次', '挨個', '挨家挨戶', '挨門挨戶', '挨門逐戶', '挨著', '按理', '按期', '按時', '按說', '暗地裏', '暗中', '暗自', '昂然', '八成', '白白', '半', '梆', '保管', '保險', '飽', '背地裏', '背靠背', '倍感', '倍加', '本人', '本身', '甭', '比起', '比如說', '比照', '畢竟', '必', '必定', '必將', '必須', '便', '別人', '並非', '並肩', '並沒', '並沒有', '併排', '並無', '勃然', '不', '不必', '不常', '不大', '不但...而且', '不得', '不得不', '不得了', '不得已', '不迭', '不定', '不對', '不妨', '不管怎樣', '不會', '不僅...而且', '不僅僅', '不僅僅是', '不經意', '不可開交', '不可抗拒', '不力', '不了', '不料', '不滿', '不免', '不能不', '不起', '不巧', '不然的話', '不日', '不少', '不勝', '不時', '不是', '不同', '不能', '不要', '不外', '不外乎', '不下', '不限', '不消', '不已', '不亦樂乎', '不由得', '不再', '不擇手段', '不怎麼', '不曾', '不知不覺', '不止', '不止一次', '不至於', '才', '才能', '策略地', '差不多', '差一點', '常', '常常', '常言道', '常言說', '常言說得好', '長此下去', '長話短說', '長期以來', '長線', '敞開兒', '徹夜', '陳年', '趁便', '趁機', '趁熱', '趁勢', '趁早', '成年', '成年累月', '成心', '乘機', '乘勝', '乘勢', '乘隙', '乘虛', '誠然', '遲早', '充分', '充其極', '充其量', '抽冷子', '臭', '初', '出', '出來', '出去', '除此', '除此而外', '除此以外', '除開', '除去', '除卻', '除外', '處處', '川流不息', '傳', '傳說', '傳聞', '串列', '純', '純粹', '此後', '此中', '次第', '匆匆', '從不', '從此', '從此以後', '從古到今', '從古至今', '從今以後', '從寬', '從來', '從輕', '從速', '從頭', '從未', '從無到有', '從小', '從新', '從嚴', '從優', '從早到晚', '從中', '從重', '湊巧', '粗', '存心', '達旦', '打從', '打開天窗說亮話', '大', '大不了', '大大', '大抵', '大都', '大多', '大凡', '大概', '大家', '大舉', '大略', '大面兒上', '大事', '大體', '大體上', '大約', '大張旗鼓', '大致', '呆呆地', '帶', '殆', '待到', '單', '單純', '單單', '但願', '彈指之間', '當場', '當兒', '當即', '當口兒', '當然', '當庭', '當頭', '當下', '當真', '當中', '倒不如', '倒不如說', '倒是', '到處', '到底', '到了兒', '到目前為止', '到頭', '到頭來', '得起', '得天獨厚', '的確', '等到', '叮噹', '頂多', '定', '動不動', '動輒', '陡然', '都', '獨', '獨自', '斷然', '頓時', '多次', '多多', '多多少少', '多多益善', '多虧', '多年來', '多年前', '而後', '而論', '而又', '爾等', '二話不說', '二話沒說', '反倒', '反倒是', '反而', '反手', '反之亦然', '反之則', '方', '方才', '方能', '放量', '非常', '非得', '分期', '分期分批', '分頭', '奮勇', '憤然', '風雨無阻', '逢', '弗', '甫', '嘎嘎', '該當', '概', '趕快', '趕早不趕晚', '敢', '敢情', '敢於', '剛', '剛才', '剛好', '剛巧', '高低', '格外', '隔日', '隔夜', '個人', '各式', '更', '更加', '更進一步', '更為', '公然', '共', '共總', '夠瞧的', '姑且', '古來', '故而', '故意', '固', '怪', '怪不得', '慣常', '光', '光是', '歸根到底', '歸根結底', '過於', '毫不', '毫無', '毫無保留地', '毫無例外', '好在', '何必', '何嘗', '何妨', '何苦', '何樂而不為', '何須', '何止', '很', '很多', '很少', '轟然', '後來', '呼啦', '忽地', '忽然', '互', '互相', '嘩啦', '話說', '還', '恍然', '會', '豁然', '活', '夥同', '或多或少', '或許', '基本', '基本上', '基於', '極', '極大', '極度', '極端', '極力', '極其', '極為', '急匆匆', '即將', '即刻', '即是說', '幾度', '幾番', '幾乎', '幾經', '既...又', '繼之', '加上', '加以', '間或', '簡而言之', '簡言之', '簡直', '見', '將才', '將近', '將要', '交口', '較比', '較為', '接連不斷', '接下來', '皆可', '截然', '截至', '藉以', '藉此', '藉以', '屆時', '僅', '僅僅', '謹', '進來', '進去', '近', '近幾年來', '近來', '近年來', '儘管如此', '儘可能', '儘快', '儘量', '盡然', '盡如人意', '盡心竭力', '盡心盡力', '儘早', '精光', '經常', '竟', '竟然', '究竟', '就此', '就地', '就算', '居然', '局外', '舉凡', '據稱', '據此', '據實', '據說', '據我所知', '據悉', '具體來說', '決不', '決非', '絕', '絕不', '絕頂', '絕對', '絕非', '均', '喀', '看', '看來', '看起來', '看上去', '看樣子', '可好', '可能', '恐怕', '快', '快要', '來不及', '來得及', '來講', '來看', '攔腰', '牢牢', '老', '老大', '老老實實', '老是', '累次', '累年', '理當', '理該', '理應', '歷', '立', '立地', '立刻', '立馬', '立時', '聯袂', '連連', '連日', '連日來', '連聲', '連袂', '臨到', '另方面', '另行', '另一個', '路經', '屢', '屢次', '屢次三番', '屢屢', '縷縷', '率爾', '率然', '略', '略加', '略微', '略為', '論說', '馬上', '蠻', '滿', '沒', '沒有', '每逢', '每每', '每時每刻', '猛然', '猛然間', '莫', '莫不', '莫非', '莫如', '默默地', '默然', '吶', '那末', '奈', '難道', '難得', '難怪', '難說', '內', '年覆一年', '凝神', '偶而', '偶爾', '怕', '砰', '碰巧', '譬如', '偏偏', '乒', '平素', '頗', '迫於', '撲通', '其後', '其實', '奇', '齊', '起初', '起來', '起首', '起頭', '起先', '豈', '豈非', '豈止', '迄', '恰逢', '恰好', '恰恰', '恰巧', '恰如', '恰似', '千', '千萬', '千萬千萬', '切', '切不可', '切莫', '切切', '切勿', '竊', '親口', '親身', '親手', '親眼', '親自', '頃', '頃刻', '頃刻間', '頃刻之間', '請勿', '窮年累月', '取道', '去', '權時', '全都', '全力', '全年', '全然', '全身心', '然', '人人', '仍', '仍舊', '仍然', '日覆一日', '日見', '日漸', '日益', '日臻', '如常', '如此等等', '如次', '如今', '如期', '如前所述', '如上', '如下', '汝', '三番兩次', '三番五次', '三天兩頭', '瑟瑟', '沙沙', '上', '上來', '上去', '情況', '詢問', '知道', '今年', '超過', '一年', '之後', '發現', '透過', '事情', '指出', '完全', '重要', '單位', '目前', '需要', '小弟', '最後', '20', '表示', '調查', '回答', '前輩', '一點', '心得', '小時', '手機', '000', '去年', '一下', '看到', '10', '無法', '拿到', '認為', '解決', '狀況', '30', '兩個', '電話', '方式', '主要', '朋友', '一直', '11', '12', '15', '14', '最近', '感覺', '領域', '歡迎', '選擇', '萬元', '從前', '分攤', '至少', '一堆', '地方', '接受', '特別', '每個', '網友', '方面', '網站', '直接', '通知', '資料', '想要', '一次', '更多', '謝謝', '成為', '以下']\n"
     ]
    }
   ],
   "source": [
    "# 自定停用字\n",
    "with open('dict/stopwords.txt', encoding='utf-8') as f:\n",
    "    stop_words = f.read().splitlines()\n",
    "\n",
    "print(stop_words)"
   ]
  },
  {
   "cell_type": "code",
   "execution_count": 37,
   "id": "bfa96943",
   "metadata": {},
   "outputs": [
    {
     "data": {
      "image/png": "[encoded data removed]",
      "text/plain": [
       "<Figure size 1008x504 with 1 Axes>"
      ]
     },
     "metadata": {},
     "output_type": "display_data"
    }
   ],
   "source": [
    "# 匯入自訂的 stop words (預設只有英文的)\n",
    "stop_words_pos = stop_words\n",
    "stop_words_pos.extend(('時間','營業','餐廳','覺得'))\n",
    "stop_words_pos = set(stop_words_pos)\n",
    "\n",
    "# 設定中文字形\n",
    "font_path = 'font/msjh.ttc'\n",
    "\n",
    "# 可以設定字型大小和背景顏色\n",
    "wordcloud = WordCloud(\n",
    "                stopwords=stop_words_pos,font_path=font_path,width=800, height = 400, max_words=100, background_color=\"white\")\n",
    "\n",
    "wordcloud.generate(' '.join(neg_words['word']))\n",
    "# Display the generated image:\n",
    "plt.figure(figsize = (14,7))\n",
    "plt.imshow(wordcloud, interpolation=\"bilinear\")\n",
    "\n",
    "plt.axis(\"off\")\n",
    "plt.show()"
   ]
  }
 ],
 "metadata": {
  "kernelspec": {
   "display_name": "Python 3",
   "language": "python",
   "name": "python3"
  },
  "language_info": {
   "codemirror_mode": {
    "name": "ipython",
    "version": 3
   },
   "file_extension": ".py",
   "mimetype": "text/x-python",
   "name": "python",
   "nbconvert_exporter": "python",
   "pygments_lexer": "ipython3",
   "version": "3.9.5"
  }
 },
 "nbformat": 4,
 "nbformat_minor": 5
}
