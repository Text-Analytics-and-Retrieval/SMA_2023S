{
 "cells": [
  {
   "attachments": {},
   "cell_type": "markdown",
   "metadata": {},
   "source": [
    "# TechJob - 社群網路分析\n",
    "**Group4 - Study4** <br>\n",
    "資料來源: PTT TechJob(科技工作)版<br>\n",
    "資料筆數: 1647筆"
   ]
  },
  {
   "cell_type": "code",
   "execution_count": 34,
   "metadata": {},
   "outputs": [],
   "source": [
    "#! pip install pyvis networkx pandas numpy"
   ]
  },
  {
   "cell_type": "code",
   "execution_count": 35,
   "metadata": {},
   "outputs": [],
   "source": [
    "import pandas as pd\n",
    "import numpy as np\n",
    "import pyvis\n",
    "import networkx as nx\n",
    "import IPython"
   ]
  },
  {
   "cell_type": "code",
   "execution_count": 36,
   "metadata": {},
   "outputs": [
    {
     "name": "stdout",
     "output_type": "stream",
     "text": [
      "(818, 11)\n"
     ]
    },
    {
     "data": {
      "text/html": [
       "<div>\n",
       "<style scoped>\n",
       "    .dataframe tbody tr th:only-of-type {\n",
       "        vertical-align: middle;\n",
       "    }\n",
       "\n",
       "    .dataframe tbody tr th {\n",
       "        vertical-align: top;\n",
       "    }\n",
       "\n",
       "    .dataframe thead th {\n",
       "        text-align: right;\n",
       "    }\n",
       "</style>\n",
       "<table border=\"1\" class=\"dataframe\">\n",
       "  <thead>\n",
       "    <tr style=\"text-align: right;\">\n",
       "      <th></th>\n",
       "      <th>system_id</th>\n",
       "      <th>artUrl</th>\n",
       "      <th>artTitle</th>\n",
       "      <th>artDate</th>\n",
       "      <th>artPoster</th>\n",
       "      <th>artCatagory</th>\n",
       "      <th>artContent</th>\n",
       "      <th>artComment</th>\n",
       "      <th>e_ip</th>\n",
       "      <th>insertedDate</th>\n",
       "      <th>dataSource</th>\n",
       "    </tr>\n",
       "  </thead>\n",
       "  <tbody>\n",
       "    <tr>\n",
       "      <th>1348</th>\n",
       "      <td>1349</td>\n",
       "      <td>https://www.ptt.cc/bbs/Tech_Job/M.1648989020.A...</td>\n",
       "      <td>[新聞]月薪沒4萬不做被罵眼高手低　名校理工生</td>\n",
       "      <td>2022-04-03 20:30:17</td>\n",
       "      <td>zzzz8931</td>\n",
       "      <td>Tech_Job</td>\n",
       "      <td>月薪沒4萬不做被罵眼高手低　名校理工生不服：這社會奴啊\\nhttps://www.setn....</td>\n",
       "      <td>[{\"cmtStatus\": \"→\", \"cmtPoster\": \"IBIZA\", \"cmt...</td>\n",
       "      <td>NaN</td>\n",
       "      <td>2022-04-04 02:15:14</td>\n",
       "      <td>ptt</td>\n",
       "    </tr>\n",
       "    <tr>\n",
       "      <th>243</th>\n",
       "      <td>244</td>\n",
       "      <td>https://www.ptt.cc/bbs/Tech_Job/M.1537842083.A...</td>\n",
       "      <td>[請益]廣達產品工程師？</td>\n",
       "      <td>2018-09-25 02:15:21</td>\n",
       "      <td>jp956956</td>\n",
       "      <td>Tech_Job</td>\n",
       "      <td>大家好\\n最近在104上收到廣達的通知\\n職缺是 產品工程師\\n\\n接到人資打電話來要我決定...</td>\n",
       "      <td>[{\"cmtStatus\": \"推\", \"cmtPoster\": \"aaabbb111\", ...</td>\n",
       "      <td>110.50.167.238</td>\n",
       "      <td>2018-10-08 01:02:52</td>\n",
       "      <td>ptt</td>\n",
       "    </tr>\n",
       "    <tr>\n",
       "      <th>1334</th>\n",
       "      <td>1335</td>\n",
       "      <td>https://www.ptt.cc/bbs/Tech_Job/M.1647956730.A...</td>\n",
       "      <td>[問卷]受僱者/求職者經驗訪談(車馬費500)</td>\n",
       "      <td>2022-03-22 21:45:27</td>\n",
       "      <td>karaslavi</td>\n",
       "      <td>Tech_Job</td>\n",
       "      <td>*經版主同意貼文*\\n\\n大家好，本人正在研發一款關於「受僱者與求職者相關之app」\\n目前...</td>\n",
       "      <td>[{\"cmtStatus\": \"推\", \"cmtPoster\": \"gaea0127\", \"...</td>\n",
       "      <td>150.116.211.109</td>\n",
       "      <td>2022-03-23 01:14:08</td>\n",
       "      <td>ptt</td>\n",
       "    </tr>\n",
       "    <tr>\n",
       "      <th>1296</th>\n",
       "      <td>1297</td>\n",
       "      <td>https://www.ptt.cc/bbs/Tech_Job/M.1644281277.A...</td>\n",
       "      <td>公益:履歷健檢&amp;面試建議</td>\n",
       "      <td>2022-02-08 08:47:55</td>\n",
       "      <td>olaola</td>\n",
       "      <td>Tech_Job</td>\n",
       "      <td>感謝PTT科技版在求職過程中指點迷津。\\n新年新希望，希望自己在有點經驗的時候，在履歷修改及...</td>\n",
       "      <td>[{\"cmtStatus\": \"推\", \"cmtPoster\": \"asz142536\", ...</td>\n",
       "      <td>114.136.1.180</td>\n",
       "      <td>2022-02-09 01:36:09</td>\n",
       "      <td>ptt</td>\n",
       "    </tr>\n",
       "    <tr>\n",
       "      <th>1396</th>\n",
       "      <td>1397</td>\n",
       "      <td>https://www.ptt.cc/bbs/Tech_Job/M.1652748579.A...</td>\n",
       "      <td>Re:[請益]該辭職嗎？</td>\n",
       "      <td>2022-05-17 08:49:37</td>\n",
       "      <td>hidog</td>\n",
       "      <td>Tech_Job</td>\n",
       "      <td>到哪都會遇到垃圾系統\\n還沒聽過哪家公司沒有垃圾code, legacy code, 歷史包...</td>\n",
       "      <td>[{\"cmtStatus\": \"推\", \"cmtPoster\": \"KaoZen\", \"cm...</td>\n",
       "      <td>36.227.209.27</td>\n",
       "      <td>2022-05-18 02:40:20</td>\n",
       "      <td>ptt</td>\n",
       "    </tr>\n",
       "  </tbody>\n",
       "</table>\n",
       "</div>"
      ],
      "text/plain": [
       "      system_id                                             artUrl   \n",
       "1348       1349  https://www.ptt.cc/bbs/Tech_Job/M.1648989020.A...  \\\n",
       "243         244  https://www.ptt.cc/bbs/Tech_Job/M.1537842083.A...   \n",
       "1334       1335  https://www.ptt.cc/bbs/Tech_Job/M.1647956730.A...   \n",
       "1296       1297  https://www.ptt.cc/bbs/Tech_Job/M.1644281277.A...   \n",
       "1396       1397  https://www.ptt.cc/bbs/Tech_Job/M.1652748579.A...   \n",
       "\n",
       "                     artTitle              artDate  artPoster artCatagory   \n",
       "1348  [新聞]月薪沒4萬不做被罵眼高手低　名校理工生  2022-04-03 20:30:17   zzzz8931    Tech_Job  \\\n",
       "243              [請益]廣達產品工程師？  2018-09-25 02:15:21   jp956956    Tech_Job   \n",
       "1334  [問卷]受僱者/求職者經驗訪談(車馬費500)  2022-03-22 21:45:27  karaslavi    Tech_Job   \n",
       "1296             公益:履歷健檢&面試建議  2022-02-08 08:47:55     olaola    Tech_Job   \n",
       "1396             Re:[請益]該辭職嗎？  2022-05-17 08:49:37      hidog    Tech_Job   \n",
       "\n",
       "                                             artContent   \n",
       "1348  月薪沒4萬不做被罵眼高手低　名校理工生不服：這社會奴啊\\nhttps://www.setn....  \\\n",
       "243   大家好\\n最近在104上收到廣達的通知\\n職缺是 產品工程師\\n\\n接到人資打電話來要我決定...   \n",
       "1334  *經版主同意貼文*\\n\\n大家好，本人正在研發一款關於「受僱者與求職者相關之app」\\n目前...   \n",
       "1296  感謝PTT科技版在求職過程中指點迷津。\\n新年新希望，希望自己在有點經驗的時候，在履歷修改及...   \n",
       "1396  到哪都會遇到垃圾系統\\n還沒聽過哪家公司沒有垃圾code, legacy code, 歷史包...   \n",
       "\n",
       "                                             artComment             e_ip   \n",
       "1348  [{\"cmtStatus\": \"→\", \"cmtPoster\": \"IBIZA\", \"cmt...              NaN  \\\n",
       "243   [{\"cmtStatus\": \"推\", \"cmtPoster\": \"aaabbb111\", ...   110.50.167.238   \n",
       "1334  [{\"cmtStatus\": \"推\", \"cmtPoster\": \"gaea0127\", \"...  150.116.211.109   \n",
       "1296  [{\"cmtStatus\": \"推\", \"cmtPoster\": \"asz142536\", ...    114.136.1.180   \n",
       "1396  [{\"cmtStatus\": \"推\", \"cmtPoster\": \"KaoZen\", \"cm...    36.227.209.27   \n",
       "\n",
       "             insertedDate dataSource  \n",
       "1348  2022-04-04 02:15:14        ptt  \n",
       "243   2018-10-08 01:02:52        ptt  \n",
       "1334  2022-03-23 01:14:08        ptt  \n",
       "1296  2022-02-09 01:36:09        ptt  \n",
       "1396  2022-05-18 02:40:20        ptt  "
      ]
     },
     "execution_count": 36,
     "metadata": {},
     "output_type": "execute_result"
    }
   ],
   "source": [
    "raw_data = pd.read_csv('./data/Tech_Job_OriginalData.csv')\n",
    "raw_data = raw_data[raw_data.artComment != '[]'] # 刪除沒有comment的文章\n",
    "raw_data = raw_data.sample(round(raw_data.shape[0]/2)) # 只取資料集的1/10，以利後續畫圖\n",
    "print(raw_data.shape)\n",
    "raw_data.head()\n"
   ]
  },
  {
   "cell_type": "code",
   "execution_count": 37,
   "metadata": {},
   "outputs": [],
   "source": [
    "# 取出 commenter\n",
    "def getComtInfo(com):\n",
    "    cmters, cmt_statuss = [],[]\n",
    "    com = eval(com)\n",
    "    for i in com:\n",
    "        # print(i)\n",
    "        cmters.append(i['cmtPoster'])\n",
    "        cmt_statuss.append(i['cmtStatus'])\n",
    "        return pd.Series([cmters, cmt_statuss])\n",
    "\n",
    "\n",
    "raw_data[['artComter','artStatus']] = raw_data['artComment'].apply(lambda r: getComtInfo(r))"
   ]
  },
  {
   "cell_type": "code",
   "execution_count": 38,
   "metadata": {},
   "outputs": [
    {
     "data": {
      "text/html": [
       "<div>\n",
       "<style scoped>\n",
       "    .dataframe tbody tr th:only-of-type {\n",
       "        vertical-align: middle;\n",
       "    }\n",
       "\n",
       "    .dataframe tbody tr th {\n",
       "        vertical-align: top;\n",
       "    }\n",
       "\n",
       "    .dataframe thead th {\n",
       "        text-align: right;\n",
       "    }\n",
       "</style>\n",
       "<table border=\"1\" class=\"dataframe\">\n",
       "  <thead>\n",
       "    <tr style=\"text-align: right;\">\n",
       "      <th></th>\n",
       "      <th>artUrl</th>\n",
       "      <th>artPoster</th>\n",
       "      <th>artComter</th>\n",
       "      <th>artStatus</th>\n",
       "    </tr>\n",
       "  </thead>\n",
       "  <tbody>\n",
       "    <tr>\n",
       "      <th>1348</th>\n",
       "      <td>https://www.ptt.cc/bbs/Tech_Job/M.1648989020.A...</td>\n",
       "      <td>zzzz8931</td>\n",
       "      <td>IBIZA</td>\n",
       "      <td>→</td>\n",
       "    </tr>\n",
       "    <tr>\n",
       "      <th>243</th>\n",
       "      <td>https://www.ptt.cc/bbs/Tech_Job/M.1537842083.A...</td>\n",
       "      <td>jp956956</td>\n",
       "      <td>aaabbb111</td>\n",
       "      <td>推</td>\n",
       "    </tr>\n",
       "    <tr>\n",
       "      <th>1334</th>\n",
       "      <td>https://www.ptt.cc/bbs/Tech_Job/M.1647956730.A...</td>\n",
       "      <td>karaslavi</td>\n",
       "      <td>gaea0127</td>\n",
       "      <td>推</td>\n",
       "    </tr>\n",
       "    <tr>\n",
       "      <th>1296</th>\n",
       "      <td>https://www.ptt.cc/bbs/Tech_Job/M.1644281277.A...</td>\n",
       "      <td>olaola</td>\n",
       "      <td>asz142536</td>\n",
       "      <td>推</td>\n",
       "    </tr>\n",
       "    <tr>\n",
       "      <th>1396</th>\n",
       "      <td>https://www.ptt.cc/bbs/Tech_Job/M.1652748579.A...</td>\n",
       "      <td>hidog</td>\n",
       "      <td>KaoZen</td>\n",
       "      <td>推</td>\n",
       "    </tr>\n",
       "    <tr>\n",
       "      <th>485</th>\n",
       "      <td>https://www.ptt.cc/bbs/Tech_Job/M.1555418927.A...</td>\n",
       "      <td>moonth66</td>\n",
       "      <td>moonth66</td>\n",
       "      <td>→</td>\n",
       "    </tr>\n",
       "    <tr>\n",
       "      <th>852</th>\n",
       "      <td>https://www.ptt.cc/bbs/Tech_Job/M.1594338574.A...</td>\n",
       "      <td>YenFuOne</td>\n",
       "      <td>pttccbbs</td>\n",
       "      <td>→</td>\n",
       "    </tr>\n",
       "    <tr>\n",
       "      <th>1206</th>\n",
       "      <td>https://www.ptt.cc/bbs/Tech_Job/M.1634019273.A...</td>\n",
       "      <td>mile022</td>\n",
       "      <td>goodga</td>\n",
       "      <td>推</td>\n",
       "    </tr>\n",
       "    <tr>\n",
       "      <th>961</th>\n",
       "      <td>https://www.ptt.cc/bbs/Tech_Job/M.1609296515.A...</td>\n",
       "      <td>njpp</td>\n",
       "      <td>wulouise</td>\n",
       "      <td>推</td>\n",
       "    </tr>\n",
       "    <tr>\n",
       "      <th>977</th>\n",
       "      <td>https://www.ptt.cc/bbs/Tech_Job/M.1611797588.A...</td>\n",
       "      <td>howardfang</td>\n",
       "      <td>RTA</td>\n",
       "      <td>推</td>\n",
       "    </tr>\n",
       "  </tbody>\n",
       "</table>\n",
       "</div>"
      ],
      "text/plain": [
       "                                                 artUrl   artPoster   \n",
       "1348  https://www.ptt.cc/bbs/Tech_Job/M.1648989020.A...    zzzz8931  \\\n",
       "243   https://www.ptt.cc/bbs/Tech_Job/M.1537842083.A...    jp956956   \n",
       "1334  https://www.ptt.cc/bbs/Tech_Job/M.1647956730.A...   karaslavi   \n",
       "1296  https://www.ptt.cc/bbs/Tech_Job/M.1644281277.A...      olaola   \n",
       "1396  https://www.ptt.cc/bbs/Tech_Job/M.1652748579.A...       hidog   \n",
       "485   https://www.ptt.cc/bbs/Tech_Job/M.1555418927.A...    moonth66   \n",
       "852   https://www.ptt.cc/bbs/Tech_Job/M.1594338574.A...    YenFuOne   \n",
       "1206  https://www.ptt.cc/bbs/Tech_Job/M.1634019273.A...     mile022   \n",
       "961   https://www.ptt.cc/bbs/Tech_Job/M.1609296515.A...        njpp   \n",
       "977   https://www.ptt.cc/bbs/Tech_Job/M.1611797588.A...  howardfang   \n",
       "\n",
       "      artComter artStatus  \n",
       "1348      IBIZA         →  \n",
       "243   aaabbb111         推  \n",
       "1334   gaea0127         推  \n",
       "1296  asz142536         推  \n",
       "1396     KaoZen         推  \n",
       "485    moonth66         →  \n",
       "852    pttccbbs         →  \n",
       "1206     goodga         推  \n",
       "961    wulouise         推  \n",
       "977         RTA         推  "
      ]
     },
     "execution_count": 38,
     "metadata": {},
     "output_type": "execute_result"
    }
   ],
   "source": [
    "raw_data = raw_data.explode(['artComter', 'artStatus'])\n",
    "\n",
    "socail_data = raw_data[['artUrl', 'artPoster', 'artComter', 'artStatus']]\n",
    "socail_data.head(10)\n"
   ]
  },
  {
   "cell_type": "code",
   "execution_count": 39,
   "metadata": {},
   "outputs": [
    {
     "data": {
      "text/plain": [
       "array(['→', '推', '噓'], dtype=object)"
      ]
     },
     "execution_count": 39,
     "metadata": {},
     "output_type": "execute_result"
    }
   ],
   "source": [
    "socail_data.artStatus.unique()"
   ]
  },
  {
   "attachments": {},
   "cell_type": "markdown",
   "metadata": {},
   "source": [
    "### 簡單劃出文章、發文者、評論者的網路"
   ]
  },
  {
   "cell_type": "code",
   "execution_count": 40,
   "metadata": {},
   "outputs": [],
   "source": [
    "# 建立邊的資料\n",
    "import random\n",
    "\n",
    "po_df = socail_data[['artPoster','artUrl']].drop_duplicates().rename(columns = {'artPoster':'src','artUrl':'dis'})\n",
    "sample_url = random.choices(po_df.dis.unique().tolist(),k=300)\n",
    "po_df = po_df[po_df.dis.isin(sample_url)]\n",
    "re_df = socail_data[['artComter','artUrl','artStatus']].rename(columns = {'artComter':'src','artUrl':'dis','artStatus':'weight'})\n",
    "re_df = re_df[re_df.dis.isin(sample_url)]\n",
    "re_df = re_df[~re_df['src'].isna()]\n",
    "\n",
    "\n",
    "\n",
    "def convertStatus(s):\n",
    "  if s == '推':\n",
    "    return 2\n",
    "  elif s == '→': # '→' 也算是推\n",
    "    return 1\n",
    "  else :\n",
    "    return -1\n",
    "re_df['weight'] = re_df['weight'].map(convertStatus)\n",
    "re_df = re_df.groupby(['src','dis']).sum().reset_index()\n",
    "\n",
    "# 設定分數低的為紅色\n",
    "def getColor(w):\n",
    "  if w>0:\n",
    "    return 'green'\n",
    "  else:\n",
    "    return 'red'\n",
    "re_df['color'] = re_df.weight.map(getColor)\n",
    "\n"
   ]
  },
  {
   "cell_type": "code",
   "execution_count": 41,
   "metadata": {},
   "outputs": [
    {
     "data": {
      "text/html": [
       "<div>\n",
       "<style scoped>\n",
       "    .dataframe tbody tr th:only-of-type {\n",
       "        vertical-align: middle;\n",
       "    }\n",
       "\n",
       "    .dataframe tbody tr th {\n",
       "        vertical-align: top;\n",
       "    }\n",
       "\n",
       "    .dataframe thead th {\n",
       "        text-align: right;\n",
       "    }\n",
       "</style>\n",
       "<table border=\"1\" class=\"dataframe\">\n",
       "  <thead>\n",
       "    <tr style=\"text-align: right;\">\n",
       "      <th></th>\n",
       "      <th>src</th>\n",
       "      <th>dis</th>\n",
       "      <th>weight</th>\n",
       "      <th>color</th>\n",
       "    </tr>\n",
       "  </thead>\n",
       "  <tbody>\n",
       "    <tr>\n",
       "      <th>0</th>\n",
       "      <td>AGODC</td>\n",
       "      <td>https://www.ptt.cc/bbs/Tech_Job/M.1667705715.A...</td>\n",
       "      <td>2</td>\n",
       "      <td>green</td>\n",
       "    </tr>\n",
       "    <tr>\n",
       "      <th>1</th>\n",
       "      <td>Agclean</td>\n",
       "      <td>https://www.ptt.cc/bbs/Tech_Job/M.1599020209.A...</td>\n",
       "      <td>2</td>\n",
       "      <td>green</td>\n",
       "    </tr>\n",
       "    <tr>\n",
       "      <th>2</th>\n",
       "      <td>Ayanami5566</td>\n",
       "      <td>https://www.ptt.cc/bbs/Tech_Job/M.1615349659.A...</td>\n",
       "      <td>2</td>\n",
       "      <td>green</td>\n",
       "    </tr>\n",
       "    <tr>\n",
       "      <th>3</th>\n",
       "      <td>BlueBird5566</td>\n",
       "      <td>https://www.ptt.cc/bbs/Tech_Job/M.1594009552.A...</td>\n",
       "      <td>1</td>\n",
       "      <td>green</td>\n",
       "    </tr>\n",
       "    <tr>\n",
       "      <th>4</th>\n",
       "      <td>BlueBird5566</td>\n",
       "      <td>https://www.ptt.cc/bbs/Tech_Job/M.1665070387.A...</td>\n",
       "      <td>-1</td>\n",
       "      <td>red</td>\n",
       "    </tr>\n",
       "    <tr>\n",
       "      <th>...</th>\n",
       "      <td>...</td>\n",
       "      <td>...</td>\n",
       "      <td>...</td>\n",
       "      <td>...</td>\n",
       "    </tr>\n",
       "    <tr>\n",
       "      <th>246</th>\n",
       "      <td>zinn</td>\n",
       "      <td>https://www.ptt.cc/bbs/Tech_Job/M.1624071419.A...</td>\n",
       "      <td>2</td>\n",
       "      <td>green</td>\n",
       "    </tr>\n",
       "    <tr>\n",
       "      <th>247</th>\n",
       "      <td>zombiechen</td>\n",
       "      <td>https://www.ptt.cc/bbs/Tech_Job/M.1671691925.A...</td>\n",
       "      <td>-1</td>\n",
       "      <td>red</td>\n",
       "    </tr>\n",
       "    <tr>\n",
       "      <th>248</th>\n",
       "      <td>zxcv1478</td>\n",
       "      <td>https://www.ptt.cc/bbs/Tech_Job/M.1636471042.A...</td>\n",
       "      <td>2</td>\n",
       "      <td>green</td>\n",
       "    </tr>\n",
       "    <tr>\n",
       "      <th>249</th>\n",
       "      <td>zxp9505007</td>\n",
       "      <td>https://www.ptt.cc/bbs/Tech_Job/M.1668618080.A...</td>\n",
       "      <td>2</td>\n",
       "      <td>green</td>\n",
       "    </tr>\n",
       "    <tr>\n",
       "      <th>250</th>\n",
       "      <td>zzzxxx382</td>\n",
       "      <td>https://www.ptt.cc/bbs/Tech_Job/M.1568353659.A...</td>\n",
       "      <td>2</td>\n",
       "      <td>green</td>\n",
       "    </tr>\n",
       "  </tbody>\n",
       "</table>\n",
       "<p>251 rows × 4 columns</p>\n",
       "</div>"
      ],
      "text/plain": [
       "              src                                                dis  weight   \n",
       "0           AGODC  https://www.ptt.cc/bbs/Tech_Job/M.1667705715.A...       2  \\\n",
       "1         Agclean  https://www.ptt.cc/bbs/Tech_Job/M.1599020209.A...       2   \n",
       "2     Ayanami5566  https://www.ptt.cc/bbs/Tech_Job/M.1615349659.A...       2   \n",
       "3    BlueBird5566  https://www.ptt.cc/bbs/Tech_Job/M.1594009552.A...       1   \n",
       "4    BlueBird5566  https://www.ptt.cc/bbs/Tech_Job/M.1665070387.A...      -1   \n",
       "..            ...                                                ...     ...   \n",
       "246          zinn  https://www.ptt.cc/bbs/Tech_Job/M.1624071419.A...       2   \n",
       "247    zombiechen  https://www.ptt.cc/bbs/Tech_Job/M.1671691925.A...      -1   \n",
       "248      zxcv1478  https://www.ptt.cc/bbs/Tech_Job/M.1636471042.A...       2   \n",
       "249    zxp9505007  https://www.ptt.cc/bbs/Tech_Job/M.1668618080.A...       2   \n",
       "250     zzzxxx382  https://www.ptt.cc/bbs/Tech_Job/M.1568353659.A...       2   \n",
       "\n",
       "     color  \n",
       "0    green  \n",
       "1    green  \n",
       "2    green  \n",
       "3    green  \n",
       "4      red  \n",
       "..     ...  \n",
       "246  green  \n",
       "247    red  \n",
       "248  green  \n",
       "249  green  \n",
       "250  green  \n",
       "\n",
       "[251 rows x 4 columns]"
      ]
     },
     "execution_count": 41,
     "metadata": {},
     "output_type": "execute_result"
    }
   ],
   "source": [
    "re_df"
   ]
  },
  {
   "cell_type": "code",
   "execution_count": 42,
   "metadata": {},
   "outputs": [
    {
     "data": {
      "text/plain": [
       "<function __main__.<lambda>(*args)>"
      ]
     },
     "execution_count": 42,
     "metadata": {},
     "output_type": "execute_result"
    }
   ],
   "source": [
    "# 編碼設定  \n",
    "import _locale\n",
    "_locale._getdefaultlocale = (lambda *args: ['en_US', 'utf8'])\n",
    "_locale._getdefaultlocale"
   ]
  },
  {
   "cell_type": "code",
   "execution_count": 43,
   "metadata": {},
   "outputs": [
    {
     "name": "stdout",
     "output_type": "stream",
     "text": [
      "./week14/basic_netWork.html\n"
     ]
    },
    {
     "data": {
      "text/html": [
       "\n",
       "        <iframe\n",
       "            width=\"100%\"\n",
       "            height=\"600px\"\n",
       "            src=\"./week14/basic_netWork.html\"\n",
       "            frameborder=\"0\"\n",
       "            allowfullscreen\n",
       "            \n",
       "        ></iframe>\n",
       "        "
      ],
      "text/plain": [
       "<IPython.lib.display.IFrame at 0x1e83151a4f0>"
      ]
     },
     "execution_count": 43,
     "metadata": {},
     "output_type": "execute_result"
    }
   ],
   "source": [
    "# 人為綠色節點\n",
    "# po文為橘色節點\n",
    "\n",
    "netWork = pyvis.network.Network(notebook=True, cdn_resources='in_line',directed=True)\n",
    "person = list(set(po_df.src.unique().tolist()+re_df.src.unique().tolist()))\n",
    "url = po_df.dis.unique().tolist()\n",
    "netWork.add_nodes(\n",
    "    nodes = person,\n",
    "    value = [1 for i in range(len(person))],\n",
    "    color = ['#66CDAA' for i in range(len(person))],\n",
    "    title = person\n",
    ")\n",
    "netWork.add_nodes(\n",
    "    nodes = url,\n",
    "    value = [2 for i in range(len(url))],\n",
    "    color = ['#FFB366' for i in range(len(url))],\n",
    "    title = url\n",
    ")\n",
    "for i in po_df.to_numpy():\n",
    "  netWork.add_edge(i[0],i[1],width = 2,color='grey')\n",
    "for i in re_df.to_numpy():\n",
    "  netWork.add_edge(i[0],i[1],width = 2,color=i[3])\n",
    "\n",
    "# 設定layout\n",
    "netWork.repulsion()\n",
    "\n",
    "netWork.show(\"./week14/basic_netWork.html\")\n",
    "# IPython.display.HTML('./week14/basic_netWork.html')"
   ]
  },
  {
   "attachments": {},
   "cell_type": "markdown",
   "metadata": {},
   "source": [
    "以上可以看出多數的文章留言偏少，不過大多都是'推'"
   ]
  },
  {
   "cell_type": "code",
   "execution_count": 44,
   "metadata": {},
   "outputs": [
    {
     "name": "stdout",
     "output_type": "stream",
     "text": [
      "./week14/basic_netWork.html\n"
     ]
    },
    {
     "data": {
      "text/html": [
       "\n",
       "        <iframe\n",
       "            width=\"100%\"\n",
       "            height=\"600px\"\n",
       "            src=\"./week14/basic_netWork.html\"\n",
       "            frameborder=\"0\"\n",
       "            allowfullscreen\n",
       "            \n",
       "        ></iframe>\n",
       "        "
      ],
      "text/plain": [
       "<IPython.lib.display.IFrame at 0x1e83356ef40>"
      ]
     },
     "execution_count": 44,
     "metadata": {},
     "output_type": "execute_result"
    }
   ],
   "source": [
    "# 人為綠色節點\n",
    "# po文為橘色節點\n",
    "\n",
    "netWork = pyvis.network.Network(notebook=True, cdn_resources='in_line',directed=True)\n",
    "person = list(set(po_df.src.unique().tolist()+re_df.src.unique().tolist()))\n",
    "url = po_df.dis.unique().tolist()\n",
    "netWork.add_nodes(\n",
    "    nodes = person,\n",
    "    value = [1 for i in range(len(person))],\n",
    "    color = ['#66CDAA' for i in range(len(person))],\n",
    "    title = person\n",
    ")\n",
    "netWork.add_nodes(\n",
    "    nodes = url,\n",
    "    value = [2 for i in range(len(url))],\n",
    "    color = ['#FFB366' for i in range(len(url))],\n",
    "    title = url\n",
    ")\n",
    "for i in po_df.to_numpy():\n",
    "  netWork.add_edge(i[0],i[1],width = 2,color='grey')\n",
    "for i in re_df.to_numpy():\n",
    "  netWork.add_edge(i[0],i[1],width = 2,color=i[3])\n",
    "\n",
    "# 設定layout\n",
    "netWork.repulsion()\n",
    "\n",
    "netWork.show(\"./week14/basic_netWork.html\")\n",
    "# IPython.display.HTML('./week14/basic_netWork.html')"
   ]
  },
  {
   "attachments": {},
   "cell_type": "markdown",
   "metadata": {},
   "source": [
    "### 計算網友之間的關係"
   ]
  },
  {
   "cell_type": "code",
   "execution_count": 45,
   "metadata": {},
   "outputs": [
    {
     "data": {
      "text/html": [
       "<div>\n",
       "<style scoped>\n",
       "    .dataframe tbody tr th:only-of-type {\n",
       "        vertical-align: middle;\n",
       "    }\n",
       "\n",
       "    .dataframe tbody tr th {\n",
       "        vertical-align: top;\n",
       "    }\n",
       "\n",
       "    .dataframe thead th {\n",
       "        text-align: right;\n",
       "    }\n",
       "</style>\n",
       "<table border=\"1\" class=\"dataframe\">\n",
       "  <thead>\n",
       "    <tr style=\"text-align: right;\">\n",
       "      <th></th>\n",
       "      <th>artUrl</th>\n",
       "      <th>artPoster</th>\n",
       "      <th>artComter</th>\n",
       "      <th>artStatus</th>\n",
       "    </tr>\n",
       "  </thead>\n",
       "  <tbody>\n",
       "    <tr>\n",
       "      <th>1348</th>\n",
       "      <td>https://www.ptt.cc/bbs/Tech_Job/M.1648989020.A...</td>\n",
       "      <td>zzzz8931</td>\n",
       "      <td>IBIZA</td>\n",
       "      <td>→</td>\n",
       "    </tr>\n",
       "    <tr>\n",
       "      <th>243</th>\n",
       "      <td>https://www.ptt.cc/bbs/Tech_Job/M.1537842083.A...</td>\n",
       "      <td>jp956956</td>\n",
       "      <td>aaabbb111</td>\n",
       "      <td>推</td>\n",
       "    </tr>\n",
       "    <tr>\n",
       "      <th>1334</th>\n",
       "      <td>https://www.ptt.cc/bbs/Tech_Job/M.1647956730.A...</td>\n",
       "      <td>karaslavi</td>\n",
       "      <td>gaea0127</td>\n",
       "      <td>推</td>\n",
       "    </tr>\n",
       "    <tr>\n",
       "      <th>1296</th>\n",
       "      <td>https://www.ptt.cc/bbs/Tech_Job/M.1644281277.A...</td>\n",
       "      <td>olaola</td>\n",
       "      <td>asz142536</td>\n",
       "      <td>推</td>\n",
       "    </tr>\n",
       "    <tr>\n",
       "      <th>1396</th>\n",
       "      <td>https://www.ptt.cc/bbs/Tech_Job/M.1652748579.A...</td>\n",
       "      <td>hidog</td>\n",
       "      <td>KaoZen</td>\n",
       "      <td>推</td>\n",
       "    </tr>\n",
       "    <tr>\n",
       "      <th>485</th>\n",
       "      <td>https://www.ptt.cc/bbs/Tech_Job/M.1555418927.A...</td>\n",
       "      <td>moonth66</td>\n",
       "      <td>moonth66</td>\n",
       "      <td>→</td>\n",
       "    </tr>\n",
       "    <tr>\n",
       "      <th>852</th>\n",
       "      <td>https://www.ptt.cc/bbs/Tech_Job/M.1594338574.A...</td>\n",
       "      <td>YenFuOne</td>\n",
       "      <td>pttccbbs</td>\n",
       "      <td>→</td>\n",
       "    </tr>\n",
       "    <tr>\n",
       "      <th>1206</th>\n",
       "      <td>https://www.ptt.cc/bbs/Tech_Job/M.1634019273.A...</td>\n",
       "      <td>mile022</td>\n",
       "      <td>goodga</td>\n",
       "      <td>推</td>\n",
       "    </tr>\n",
       "    <tr>\n",
       "      <th>961</th>\n",
       "      <td>https://www.ptt.cc/bbs/Tech_Job/M.1609296515.A...</td>\n",
       "      <td>njpp</td>\n",
       "      <td>wulouise</td>\n",
       "      <td>推</td>\n",
       "    </tr>\n",
       "    <tr>\n",
       "      <th>977</th>\n",
       "      <td>https://www.ptt.cc/bbs/Tech_Job/M.1611797588.A...</td>\n",
       "      <td>howardfang</td>\n",
       "      <td>RTA</td>\n",
       "      <td>推</td>\n",
       "    </tr>\n",
       "  </tbody>\n",
       "</table>\n",
       "</div>"
      ],
      "text/plain": [
       "                                                 artUrl   artPoster   \n",
       "1348  https://www.ptt.cc/bbs/Tech_Job/M.1648989020.A...    zzzz8931  \\\n",
       "243   https://www.ptt.cc/bbs/Tech_Job/M.1537842083.A...    jp956956   \n",
       "1334  https://www.ptt.cc/bbs/Tech_Job/M.1647956730.A...   karaslavi   \n",
       "1296  https://www.ptt.cc/bbs/Tech_Job/M.1644281277.A...      olaola   \n",
       "1396  https://www.ptt.cc/bbs/Tech_Job/M.1652748579.A...       hidog   \n",
       "485   https://www.ptt.cc/bbs/Tech_Job/M.1555418927.A...    moonth66   \n",
       "852   https://www.ptt.cc/bbs/Tech_Job/M.1594338574.A...    YenFuOne   \n",
       "1206  https://www.ptt.cc/bbs/Tech_Job/M.1634019273.A...     mile022   \n",
       "961   https://www.ptt.cc/bbs/Tech_Job/M.1609296515.A...        njpp   \n",
       "977   https://www.ptt.cc/bbs/Tech_Job/M.1611797588.A...  howardfang   \n",
       "\n",
       "      artComter artStatus  \n",
       "1348      IBIZA         →  \n",
       "243   aaabbb111         推  \n",
       "1334   gaea0127         推  \n",
       "1296  asz142536         推  \n",
       "1396     KaoZen         推  \n",
       "485    moonth66         →  \n",
       "852    pttccbbs         →  \n",
       "1206     goodga         推  \n",
       "961    wulouise         推  \n",
       "977         RTA         推  "
      ]
     },
     "execution_count": 45,
     "metadata": {},
     "output_type": "execute_result"
    }
   ],
   "source": [
    "pos_cmt = socail_data.copy()\n",
    "pos_cmt = pos_cmt[~pos_cmt.artComter.isna()]\n",
    "pos_cmt.head(10)"
   ]
  },
  {
   "attachments": {},
   "cell_type": "markdown",
   "metadata": {},
   "source": [
    "該網友針對該篇文章有多少次評論 <br>\n",
    "if 正面回覆則 +1"
   ]
  },
  {
   "cell_type": "code",
   "execution_count": 46,
   "metadata": {},
   "outputs": [
    {
     "data": {
      "text/html": [
       "<div>\n",
       "<style scoped>\n",
       "    .dataframe tbody tr th:only-of-type {\n",
       "        vertical-align: middle;\n",
       "    }\n",
       "\n",
       "    .dataframe tbody tr th {\n",
       "        vertical-align: top;\n",
       "    }\n",
       "\n",
       "    .dataframe thead th {\n",
       "        text-align: right;\n",
       "    }\n",
       "</style>\n",
       "<table border=\"1\" class=\"dataframe\">\n",
       "  <thead>\n",
       "    <tr style=\"text-align: right;\">\n",
       "      <th></th>\n",
       "      <th>artComter</th>\n",
       "      <th>artPoster</th>\n",
       "      <th>score</th>\n",
       "    </tr>\n",
       "  </thead>\n",
       "  <tbody>\n",
       "    <tr>\n",
       "      <th>0</th>\n",
       "      <td>AGODC</td>\n",
       "      <td>sxy67230</td>\n",
       "      <td>2</td>\n",
       "    </tr>\n",
       "    <tr>\n",
       "      <th>1</th>\n",
       "      <td>ASEglobal</td>\n",
       "      <td>shueisha26</td>\n",
       "      <td>2</td>\n",
       "    </tr>\n",
       "    <tr>\n",
       "      <th>2</th>\n",
       "      <td>AboveTheRim</td>\n",
       "      <td>kaube</td>\n",
       "      <td>2</td>\n",
       "    </tr>\n",
       "    <tr>\n",
       "      <th>3</th>\n",
       "      <td>Agclean</td>\n",
       "      <td>catcatcatcat</td>\n",
       "      <td>2</td>\n",
       "    </tr>\n",
       "    <tr>\n",
       "      <th>4</th>\n",
       "      <td>AgentSkye56</td>\n",
       "      <td>dnol</td>\n",
       "      <td>2</td>\n",
       "    </tr>\n",
       "    <tr>\n",
       "      <th>...</th>\n",
       "      <td>...</td>\n",
       "      <td>...</td>\n",
       "      <td>...</td>\n",
       "    </tr>\n",
       "    <tr>\n",
       "      <th>803</th>\n",
       "      <td>zombiechen</td>\n",
       "      <td>ks32437</td>\n",
       "      <td>2</td>\n",
       "    </tr>\n",
       "    <tr>\n",
       "      <th>806</th>\n",
       "      <td>zxcasd840510</td>\n",
       "      <td>berna09f</td>\n",
       "      <td>2</td>\n",
       "    </tr>\n",
       "    <tr>\n",
       "      <th>807</th>\n",
       "      <td>zxcv1478</td>\n",
       "      <td>KAINTS</td>\n",
       "      <td>2</td>\n",
       "    </tr>\n",
       "    <tr>\n",
       "      <th>808</th>\n",
       "      <td>zxp9505007</td>\n",
       "      <td>AAAB</td>\n",
       "      <td>2</td>\n",
       "    </tr>\n",
       "    <tr>\n",
       "      <th>809</th>\n",
       "      <td>zzzxxx382</td>\n",
       "      <td>l88</td>\n",
       "      <td>2</td>\n",
       "    </tr>\n",
       "  </tbody>\n",
       "</table>\n",
       "<p>728 rows × 3 columns</p>\n",
       "</div>"
      ],
      "text/plain": [
       "        artComter     artPoster  score\n",
       "0           AGODC      sxy67230      2\n",
       "1       ASEglobal    shueisha26      2\n",
       "2     AboveTheRim         kaube      2\n",
       "3         Agclean  catcatcatcat      2\n",
       "4     AgentSkye56          dnol      2\n",
       "..            ...           ...    ...\n",
       "803    zombiechen       ks32437      2\n",
       "806  zxcasd840510      berna09f      2\n",
       "807      zxcv1478        KAINTS      2\n",
       "808    zxp9505007          AAAB      2\n",
       "809     zzzxxx382           l88      2\n",
       "\n",
       "[728 rows x 3 columns]"
      ]
     },
     "execution_count": 46,
     "metadata": {},
     "output_type": "execute_result"
    }
   ],
   "source": [
    "pos_cmt['score'] = pos_cmt['artStatus'].apply(lambda r: convertStatus(r))\n",
    "pos_cmt = pos_cmt.groupby(['artComter','artPoster']).sum('score').reset_index()\n",
    "pos_cmt = pos_cmt[pos_cmt.score>=0]\n",
    "pos_cmt = pos_cmt[pos_cmt.artComter != pos_cmt.artPoster]\n",
    "# pos_cmt.score = 1\n",
    "pos_cmt"
   ]
  },
  {
   "attachments": {},
   "cell_type": "markdown",
   "metadata": {},
   "source": [
    "計算 matrix"
   ]
  },
  {
   "cell_type": "code",
   "execution_count": 47,
   "metadata": {},
   "outputs": [
    {
     "name": "stdout",
     "output_type": "stream",
     "text": [
      "(994, 994)\n"
     ]
    }
   ],
   "source": [
    "pers = np.unique(pos_cmt[['artComter', 'artPoster']])\n",
    "mat = pd.pivot_table(pos_cmt,index = 'artComter', columns = 'artPoster' ,values='score' ).fillna(0)\\\n",
    "  .reindex(columns=pers, index=pers, fill_value=0).to_numpy() # 有向圖\n",
    "print(mat.shape)\n",
    "tri = (np.tril(mat,-1).T + np.triu(mat,1))\n",
    "mat_s = tri+tri.T # 無向圖\n"
   ]
  },
  {
   "cell_type": "code",
   "execution_count": 48,
   "metadata": {},
   "outputs": [],
   "source": [
    "def random_color():\n",
    "  r = lambda: random.randint(0,255)\n",
    "  return '#%02X%02X%02X' % (r(),r(),r())\n",
    "\n",
    "# input matrix, output graph\n",
    "def matPresentGraph(mat:np.array,node_id:list,node_type:list=None,node_value:list = None,directed = True,edge_color=None) -> pyvis.network.Network:\n",
    "\n",
    "  if directed != True:\n",
    "    if (mat == mat.transpose()).all():\n",
    "      print('matrix is Symmetric')\n",
    "    else:\n",
    "      print('matrix is not Symmetric')\n",
    "  if node_type == None:\n",
    "    c = random_color()\n",
    "    node_colors = [c for i in range(len(node_id))]\n",
    "    node_type = [\" \" for i in range(len(node_id))]\n",
    "  else:\n",
    "    node_color_map = {}\n",
    "    for i in set(node_type):\n",
    "      while True:\n",
    "        c = random_color()\n",
    "        if c not in node_color_map.values():\n",
    "          break\n",
    "      node_color_map[i] = c\n",
    "    node_colors = [node_color_map[i] for i in node_type]\n",
    "  # print(node_colors)\n",
    "  if edge_color == None:\n",
    "    edge_color = random_color()\n",
    "  edge_color = random_color()\n",
    "  if node_value == None:\n",
    "    node_value = [1 for i in range(len(node_id))]\n",
    "\n",
    "  net = pyvis.network.Network(notebook=True, directed = directed, cdn_resources='in_line')\n",
    "  \n",
    "  titles_list = []\n",
    "  for i ,j in zip(node_id,node_type):\n",
    "    titles_list.append(str(i)+\":\"+str(j))\n",
    "\n",
    "  net.add_nodes(\n",
    "      nodes = node_id,\n",
    "      value = node_value,\n",
    "      label = node_id,\n",
    "      title = titles_list,\n",
    "      color = node_colors\n",
    "  )\n",
    "\n",
    "  for row in range(len(node_id)):\n",
    "    for col in range(len(node_id)):\n",
    "      if mat[row][col]>0.:\n",
    "        net.add_edge(\n",
    "            node_id[row],node_id[col],width = mat[row][col],color = edge_color,title = mat[row][col]\n",
    "        )\n",
    "  net.repulsion()\n",
    "  return net\n"
   ]
  },
  {
   "cell_type": "code",
   "execution_count": 49,
   "metadata": {},
   "outputs": [],
   "source": [
    "# 定義發文者（po）、評論者(cmt)、兩者兼具(both)\n",
    "node_type = []\n",
    "\n",
    "cmt_list = pos_cmt['artComter'].unique().tolist()\n",
    "po_list = pos_cmt['artPoster'].unique().tolist()\n",
    "both_list = list(set(cmt_list) & set(po_list))\n",
    "for p in pers:\n",
    "  if p in both_list:\n",
    "    node_type.append('both')\n",
    "\n",
    "  elif p in cmt_list:\n",
    "    node_type.append('cmt')\n",
    "\n",
    "  elif p in po_list:\n",
    "    node_type.append('po')"
   ]
  },
  {
   "cell_type": "code",
   "execution_count": 50,
   "metadata": {},
   "outputs": [
    {
     "name": "stdout",
     "output_type": "stream",
     "text": [
      "./week14/pers_netWork.html\n"
     ]
    },
    {
     "data": {
      "text/html": [
       "\n",
       "        <iframe\n",
       "            width=\"100%\"\n",
       "            height=\"600px\"\n",
       "            src=\"./week14/pers_netWork.html\"\n",
       "            frameborder=\"0\"\n",
       "            allowfullscreen\n",
       "            \n",
       "        ></iframe>\n",
       "        "
      ],
      "text/plain": [
       "<IPython.lib.display.IFrame at 0x1e83353e7c0>"
      ]
     },
     "execution_count": 50,
     "metadata": {},
     "output_type": "execute_result"
    }
   ],
   "source": [
    "net = matPresentGraph(mat = mat,node_id = pers,node_type = node_type)\n",
    "net.show(\"./week14/pers_netWork.html\")\n",
    "# IPython.display.HTML('/week14/pers_netWork.html')"
   ]
  },
  {
   "attachments": {},
   "cell_type": "markdown",
   "metadata": {},
   "source": [
    "### 計算eigenvector centrality （無向圖）"
   ]
  },
  {
   "cell_type": "code",
   "execution_count": 51,
   "metadata": {},
   "outputs": [],
   "source": [
    "# networkx.eigenvector_centrality(nx_Graph) 將nx.Graph轉為無向圖\n",
    "# 每個人都會有各自的eigenvalue，代表每個人的重要程度\n",
    "eigenvec = np.array(list(nx.eigenvector_centrality(nx.Graph(mat_s),max_iter = 10000).values()))\n",
    "# 進行normalize，讓eigenvalue不要太零散\n",
    "eigenvec = (eigenvec-np.min(eigenvec))/(np.max(eigenvec)-np.min(eigenvec))"
   ]
  },
  {
   "cell_type": "code",
   "execution_count": 52,
   "metadata": {},
   "outputs": [
    {
     "data": {
      "text/plain": [
       "array([0.00000000e+00, 0.00000000e+00, 3.50562894e-21, 9.27422472e-03])"
      ]
     },
     "execution_count": 52,
     "metadata": {},
     "output_type": "execute_result"
    }
   ],
   "source": [
    "q = np.quantile(eigenvec,[.2,.4,.6,.8]) # 根據不同的quantile給他不同的value => node size\n",
    "q"
   ]
  },
  {
   "cell_type": "code",
   "execution_count": 53,
   "metadata": {},
   "outputs": [
    {
     "name": "stdout",
     "output_type": "stream",
     "text": [
      "matrix is not Symmetric\n",
      "./week14/pers_eig_netWork.html\n"
     ]
    },
    {
     "data": {
      "text/html": [
       "\n",
       "        <iframe\n",
       "            width=\"100%\"\n",
       "            height=\"600px\"\n",
       "            src=\"./week14/pers_eig_netWork.html\"\n",
       "            frameborder=\"0\"\n",
       "            allowfullscreen\n",
       "            \n",
       "        ></iframe>\n",
       "        "
      ],
      "text/plain": [
       "<IPython.lib.display.IFrame at 0x1e8347ab3d0>"
      ]
     },
     "execution_count": 53,
     "metadata": {},
     "output_type": "execute_result"
    }
   ],
   "source": [
    "node_value = []\n",
    "\n",
    "\n",
    "for i in eigenvec:\n",
    "\n",
    "  if i > q[3]:\n",
    "    node_value.append(25)\n",
    "  elif i >q[2]:\n",
    "    node_value.append(20)\n",
    "  elif i>q[1]:\n",
    "    node_value.append(15)\n",
    "  elif i>q[0]:\n",
    "    node_value.append(10)\n",
    "  else:\n",
    "    node_value.append(5)\n",
    "net = matPresentGraph(mat = mat,node_id = pers,node_type = node_type,node_value = node_value,directed=False)\n",
    "net.show(\"./week14/pers_eig_netWork.html\")\n",
    "# IPython.display.HTML('./week14/pers_eig_netWork.html')"
   ]
  },
  {
   "attachments": {},
   "cell_type": "markdown",
   "metadata": {},
   "source": [
    "我們可以發現有多次評論的人，或是評論的文章同時有多人評論的，重要程度愈高"
   ]
  },
  {
   "attachments": {},
   "cell_type": "markdown",
   "metadata": {},
   "source": [
    "### betweeness centrality (無向圖)"
   ]
  },
  {
   "cell_type": "code",
   "execution_count": 54,
   "metadata": {},
   "outputs": [],
   "source": [
    "bet = np.array(list(nx.betweenness_centrality(nx.Graph(mat_s)).values()))\n",
    "bet = (bet-np.min(bet))/(np.max(bet)-np.min(bet))\n",
    "bet_q = np.quantile(bet,[.2,.4,.6,.8])"
   ]
  },
  {
   "cell_type": "code",
   "execution_count": 55,
   "metadata": {},
   "outputs": [
    {
     "name": "stdout",
     "output_type": "stream",
     "text": [
      "./week14/pers_bet_netWork.html\n"
     ]
    },
    {
     "data": {
      "text/html": [
       "\n",
       "        <iframe\n",
       "            width=\"100%\"\n",
       "            height=\"600px\"\n",
       "            src=\"./week14/pers_bet_netWork.html\"\n",
       "            frameborder=\"0\"\n",
       "            allowfullscreen\n",
       "            \n",
       "        ></iframe>\n",
       "        "
      ],
      "text/plain": [
       "<IPython.lib.display.IFrame at 0x1e8347abb50>"
      ]
     },
     "execution_count": 55,
     "metadata": {},
     "output_type": "execute_result"
    }
   ],
   "source": [
    "node_value = []\n",
    "for i in bet:\n",
    "  if i > bet_q[3]:\n",
    "    node_value.append(25)\n",
    "  elif i > bet_q[2]:\n",
    "    node_value.append(20)\n",
    "  elif i>bet_q[1]:\n",
    "    node_value.append(15)\n",
    "  elif i>bet_q[0]:\n",
    "    node_value.append(10)\n",
    "  else:\n",
    "    node_value.append(5)\n",
    "\n",
    "net = matPresentGraph(mat = mat,node_id = pers,node_type = node_type,node_value=node_value)\n",
    "net.show(\"./week14/pers_bet_netWork.html\")\n",
    "# IPython.display.HTML('./week14/pers_bet_netWork.html')"
   ]
  },
  {
   "attachments": {},
   "cell_type": "markdown",
   "metadata": {},
   "source": [
    "`評論較多人或被較多人評論會有比較大的重要程度`"
   ]
  },
  {
   "attachments": {},
   "cell_type": "markdown",
   "metadata": {},
   "source": [
    "### 重新整理 graph"
   ]
  },
  {
   "attachments": {},
   "cell_type": "markdown",
   "metadata": {},
   "source": [
    "Transitivity/Density/Distance/Diameter/Clustering\n",
    "\n",
    "計算最大的subgraph 的 measure"
   ]
  },
  {
   "cell_type": "code",
   "execution_count": 56,
   "metadata": {},
   "outputs": [],
   "source": [
    "# 計算max subgraph\n",
    "G = nx.Graph(mat_s)\n",
    "G_sub = sorted(nx.connected_components(G), key=len, reverse=True)\n",
    "G_max_sub = G.subgraph(G_sub[0])\n",
    "# # 重新定義 mat\n",
    "sub_mat = nx.adjacency_matrix(G_max_sub).todense()\n",
    "node_idx = list(G_max_sub.nodes)\n",
    "sub_pers = pers[node_idx]\n"
   ]
  },
  {
   "attachments": {},
   "cell_type": "markdown",
   "metadata": {},
   "source": [
    "畫出最大subgraph"
   ]
  },
  {
   "cell_type": "code",
   "execution_count": 57,
   "metadata": {},
   "outputs": [
    {
     "name": "stdout",
     "output_type": "stream",
     "text": [
      "matrix is Symmetric\n",
      "./week14/max_sub.html\n"
     ]
    },
    {
     "data": {
      "text/html": [
       "\n",
       "        <iframe\n",
       "            width=\"100%\"\n",
       "            height=\"600px\"\n",
       "            src=\"./week14/max_sub.html\"\n",
       "            frameborder=\"0\"\n",
       "            allowfullscreen\n",
       "            \n",
       "        ></iframe>\n",
       "        "
      ],
      "text/plain": [
       "<IPython.lib.display.IFrame at 0x1e83353e9d0>"
      ]
     },
     "execution_count": 57,
     "metadata": {},
     "output_type": "execute_result"
    }
   ],
   "source": [
    "net = matPresentGraph(mat=sub_mat,node_id=sub_pers,directed=False)\n",
    "net.show(\"./week14/max_sub.html\")\n",
    "# IPython.display.HTML('./week14/max_sub.html')"
   ]
  },
  {
   "attachments": {},
   "cell_type": "markdown",
   "metadata": {},
   "source": [
    "計算transitivity"
   ]
  },
  {
   "cell_type": "code",
   "execution_count": 58,
   "metadata": {},
   "outputs": [
    {
     "data": {
      "text/plain": [
       "0.010752688172043012"
      ]
     },
     "execution_count": 58,
     "metadata": {},
     "output_type": "execute_result"
    }
   ],
   "source": [
    "nx.transitivity(nx.Graph(sub_mat))"
   ]
  },
  {
   "attachments": {},
   "cell_type": "markdown",
   "metadata": {},
   "source": [
    "計算density 及 distance"
   ]
  },
  {
   "cell_type": "code",
   "execution_count": 59,
   "metadata": {},
   "outputs": [
    {
     "data": {
      "text/plain": [
       "0.007194742303701141"
      ]
     },
     "execution_count": 59,
     "metadata": {},
     "output_type": "execute_result"
    }
   ],
   "source": [
    "nx.density(nx.Graph(sub_mat))"
   ]
  },
  {
   "cell_type": "code",
   "execution_count": 60,
   "metadata": {},
   "outputs": [
    {
     "data": {
      "text/plain": [
       "5.272408624466736"
      ]
     },
     "execution_count": 60,
     "metadata": {},
     "output_type": "execute_result"
    }
   ],
   "source": [
    "nx.average_shortest_path_length(nx.Graph(sub_mat))"
   ]
  },
  {
   "attachments": {},
   "cell_type": "markdown",
   "metadata": {},
   "source": [
    "計算diameter"
   ]
  },
  {
   "cell_type": "code",
   "execution_count": 61,
   "metadata": {},
   "outputs": [
    {
     "data": {
      "text/plain": [
       "13"
      ]
     },
     "execution_count": 61,
     "metadata": {},
     "output_type": "execute_result"
    }
   ],
   "source": [
    "nx.diameter(nx.Graph(sub_mat))"
   ]
  },
  {
   "attachments": {},
   "cell_type": "markdown",
   "metadata": {},
   "source": [
    "計算clustering"
   ]
  },
  {
   "cell_type": "code",
   "execution_count": 62,
   "metadata": {},
   "outputs": [
    {
     "data": {
      "text/plain": [
       "0.005843532223550064"
      ]
     },
     "execution_count": 62,
     "metadata": {},
     "output_type": "execute_result"
    }
   ],
   "source": [
    "nx.average_clustering(nx.Graph(sub_mat))"
   ]
  },
  {
   "attachments": {},
   "cell_type": "markdown",
   "metadata": {},
   "source": [
    "# 結果分析"
   ]
  },
  {
   "attachments": {},
   "cell_type": "markdown",
   "metadata": {},
   "source": [
    "從 basic_network 發現\n",
    "- 直覺可見最多連線的三個中心節點分別為`qazxc1156892`、`zzzz8931`、`orz44444`"
   ]
  },
  {
   "attachments": {},
   "cell_type": "markdown",
   "metadata": {},
   "source": [
    "接著從網友之間的關係得出 (pers_Network) :\n",
    "- `qazxc1156892`既是poster也是commenter\n",
    "- `zzzz8931`及`orz44444`為poster\n",
    "<br>\n",
    "\n",
    "又在圖中發現，至少有10個input edge的節點除了上述三個還有 :<br>\n",
    "`jeff0025`、`dakkk`、`keel90135`、`dolinian`、`waitrop`"
   ]
  },
  {
   "attachments": {},
   "cell_type": "markdown",
   "metadata": {},
   "source": [
    "從max_subgraph看出\n",
    "- edge最大為6，其為節點 `qazxc1156892` 和 `jeff0025` 所連接，又與 `zzzz8931` 形成一個較大的三角關係\n",
    "- edge第二大為4，為節點 `orz44444` 與 `dakkk` 連結成\n",
    "<br><br>\n",
    "而`jeff0025` 與 `dakkk` 既是poster也是commenter"
   ]
  },
  {
   "cell_type": "code",
   "execution_count": 63,
   "metadata": {},
   "outputs": [
    {
     "data": {
      "text/html": [
       "<div>\n",
       "<style scoped>\n",
       "    .dataframe tbody tr th:only-of-type {\n",
       "        vertical-align: middle;\n",
       "    }\n",
       "\n",
       "    .dataframe tbody tr th {\n",
       "        vertical-align: top;\n",
       "    }\n",
       "\n",
       "    .dataframe thead th {\n",
       "        text-align: right;\n",
       "    }\n",
       "</style>\n",
       "<table border=\"1\" class=\"dataframe\">\n",
       "  <thead>\n",
       "    <tr style=\"text-align: right;\">\n",
       "      <th></th>\n",
       "      <th>system_id</th>\n",
       "      <th>artUrl</th>\n",
       "      <th>artTitle</th>\n",
       "      <th>artDate</th>\n",
       "      <th>artPoster</th>\n",
       "      <th>artCatagory</th>\n",
       "      <th>artContent</th>\n",
       "      <th>artComment</th>\n",
       "      <th>e_ip</th>\n",
       "      <th>insertedDate</th>\n",
       "      <th>dataSource</th>\n",
       "      <th>artComter</th>\n",
       "      <th>artStatus</th>\n",
       "    </tr>\n",
       "  </thead>\n",
       "  <tbody>\n",
       "    <tr>\n",
       "      <th>1348</th>\n",
       "      <td>1349</td>\n",
       "      <td>https://www.ptt.cc/bbs/Tech_Job/M.1648989020.A...</td>\n",
       "      <td>[新聞]月薪沒4萬不做被罵眼高手低　名校理工生</td>\n",
       "      <td>2022-04-03 20:30:17</td>\n",
       "      <td>zzzz8931</td>\n",
       "      <td>Tech_Job</td>\n",
       "      <td>月薪沒4萬不做被罵眼高手低　名校理工生不服：這社會奴啊\\nhttps://www.setn....</td>\n",
       "      <td>[{\"cmtStatus\": \"→\", \"cmtPoster\": \"IBIZA\", \"cmt...</td>\n",
       "      <td>NaN</td>\n",
       "      <td>2022-04-04 02:15:14</td>\n",
       "      <td>ptt</td>\n",
       "      <td>IBIZA</td>\n",
       "      <td>→</td>\n",
       "    </tr>\n",
       "    <tr>\n",
       "      <th>1432</th>\n",
       "      <td>1433</td>\n",
       "      <td>https://www.ptt.cc/bbs/Tech_Job/M.1656566491.A...</td>\n",
       "      <td>[新聞]馬斯克發通牒「不進辦公室就滾蛋」台灣</td>\n",
       "      <td>2022-06-30 13:21:29</td>\n",
       "      <td>zzzz8931</td>\n",
       "      <td>Tech_Job</td>\n",
       "      <td>馬斯克發通牒「不進辦公室就滾蛋」　台灣調查：上班族僅5%青睞WFH\\nhttps://www...</td>\n",
       "      <td>[{\"cmtStatus\": \"推\", \"cmtPoster\": \"qazxc1156892...</td>\n",
       "      <td>114.37.137.92</td>\n",
       "      <td>2022-07-01 02:10:42</td>\n",
       "      <td>ptt</td>\n",
       "      <td>qazxc1156892</td>\n",
       "      <td>推</td>\n",
       "    </tr>\n",
       "    <tr>\n",
       "      <th>1683</th>\n",
       "      <td>1684</td>\n",
       "      <td>https://www.ptt.cc/bbs/Tech_Job/M.1672102664.A...</td>\n",
       "      <td>[新聞]凜冬將至！　科技大咖掀裁員潮</td>\n",
       "      <td>2022-12-27 08:57:40</td>\n",
       "      <td>jeff0025</td>\n",
       "      <td>Tech_Job</td>\n",
       "      <td>凜冬將至！　科技大咖掀裁員潮\\n\\n\\n「如果手上有現金，2023年是最好的投資時機，因為股...</td>\n",
       "      <td>[{\"cmtStatus\": \"推\", \"cmtPoster\": \"moonth66\", \"...</td>\n",
       "      <td>61.218.53.138</td>\n",
       "      <td>2022-12-28 02:08:06</td>\n",
       "      <td>ptt</td>\n",
       "      <td>moonth66</td>\n",
       "      <td>推</td>\n",
       "    </tr>\n",
       "    <tr>\n",
       "      <th>1401</th>\n",
       "      <td>1402</td>\n",
       "      <td>https://www.ptt.cc/bbs/Tech_Job/M.1653380613.A...</td>\n",
       "      <td>[新聞]醫師、工程師平均薪資出爐「畢業生致詞」</td>\n",
       "      <td>2022-05-24 16:23:29</td>\n",
       "      <td>qazxc1156892</td>\n",
       "      <td>Tech_Job</td>\n",
       "      <td>新聞標題: 醫師、工程師平均薪資出爐「畢業生致詞」再掀搶才效應\\n\\n2022-05-24 ...</td>\n",
       "      <td>[{\"cmtStatus\": \"噓\", \"cmtPoster\": \"Tigerman001\"...</td>\n",
       "      <td>223.140.218.161</td>\n",
       "      <td>2022-05-25 02:16:18</td>\n",
       "      <td>ptt</td>\n",
       "      <td>Tigerman001</td>\n",
       "      <td>噓</td>\n",
       "    </tr>\n",
       "    <tr>\n",
       "      <th>1518</th>\n",
       "      <td>1519</td>\n",
       "      <td>https://www.ptt.cc/bbs/Tech_Job/M.1665374405.A...</td>\n",
       "      <td>[新聞]陽明交大校園就博會12日登場逾80家廠商</td>\n",
       "      <td>2022-10-10 12:00:01</td>\n",
       "      <td>qazxc1156892</td>\n",
       "      <td>Tech_Job</td>\n",
       "      <td>新聞標題: 陽明交大校園就博會12日登場 逾80家廠商釋5000職缺\\nhttps://i....</td>\n",
       "      <td>[{\"cmtStatus\": \"噓\", \"cmtPoster\": \"ijk1\", \"cmtC...</td>\n",
       "      <td>119.14.52.53</td>\n",
       "      <td>2022-10-11 02:03:54</td>\n",
       "      <td>ptt</td>\n",
       "      <td>ijk1</td>\n",
       "      <td>噓</td>\n",
       "    </tr>\n",
       "  </tbody>\n",
       "</table>\n",
       "</div>"
      ],
      "text/plain": [
       "      system_id                                             artUrl   \n",
       "1348       1349  https://www.ptt.cc/bbs/Tech_Job/M.1648989020.A...  \\\n",
       "1432       1433  https://www.ptt.cc/bbs/Tech_Job/M.1656566491.A...   \n",
       "1683       1684  https://www.ptt.cc/bbs/Tech_Job/M.1672102664.A...   \n",
       "1401       1402  https://www.ptt.cc/bbs/Tech_Job/M.1653380613.A...   \n",
       "1518       1519  https://www.ptt.cc/bbs/Tech_Job/M.1665374405.A...   \n",
       "\n",
       "                      artTitle              artDate     artPoster artCatagory   \n",
       "1348   [新聞]月薪沒4萬不做被罵眼高手低　名校理工生  2022-04-03 20:30:17      zzzz8931    Tech_Job  \\\n",
       "1432    [新聞]馬斯克發通牒「不進辦公室就滾蛋」台灣  2022-06-30 13:21:29      zzzz8931    Tech_Job   \n",
       "1683        [新聞]凜冬將至！　科技大咖掀裁員潮  2022-12-27 08:57:40      jeff0025    Tech_Job   \n",
       "1401   [新聞]醫師、工程師平均薪資出爐「畢業生致詞」  2022-05-24 16:23:29  qazxc1156892    Tech_Job   \n",
       "1518  [新聞]陽明交大校園就博會12日登場逾80家廠商  2022-10-10 12:00:01  qazxc1156892    Tech_Job   \n",
       "\n",
       "                                             artContent   \n",
       "1348  月薪沒4萬不做被罵眼高手低　名校理工生不服：這社會奴啊\\nhttps://www.setn....  \\\n",
       "1432  馬斯克發通牒「不進辦公室就滾蛋」　台灣調查：上班族僅5%青睞WFH\\nhttps://www...   \n",
       "1683  凜冬將至！　科技大咖掀裁員潮\\n\\n\\n「如果手上有現金，2023年是最好的投資時機，因為股...   \n",
       "1401  新聞標題: 醫師、工程師平均薪資出爐「畢業生致詞」再掀搶才效應\\n\\n2022-05-24 ...   \n",
       "1518  新聞標題: 陽明交大校園就博會12日登場 逾80家廠商釋5000職缺\\nhttps://i....   \n",
       "\n",
       "                                             artComment             e_ip   \n",
       "1348  [{\"cmtStatus\": \"→\", \"cmtPoster\": \"IBIZA\", \"cmt...              NaN  \\\n",
       "1432  [{\"cmtStatus\": \"推\", \"cmtPoster\": \"qazxc1156892...    114.37.137.92   \n",
       "1683  [{\"cmtStatus\": \"推\", \"cmtPoster\": \"moonth66\", \"...    61.218.53.138   \n",
       "1401  [{\"cmtStatus\": \"噓\", \"cmtPoster\": \"Tigerman001\"...  223.140.218.161   \n",
       "1518  [{\"cmtStatus\": \"噓\", \"cmtPoster\": \"ijk1\", \"cmtC...     119.14.52.53   \n",
       "\n",
       "             insertedDate dataSource     artComter artStatus  \n",
       "1348  2022-04-04 02:15:14        ptt         IBIZA         →  \n",
       "1432  2022-07-01 02:10:42        ptt  qazxc1156892         推  \n",
       "1683  2022-12-28 02:08:06        ptt      moonth66         推  \n",
       "1401  2022-05-25 02:16:18        ptt   Tigerman001         噓  \n",
       "1518  2022-10-11 02:03:54        ptt          ijk1         噓  "
      ]
     },
     "execution_count": 63,
     "metadata": {},
     "output_type": "execute_result"
    }
   ],
   "source": [
    "max_edge_node = raw_data[raw_data['artPoster'].isin(['qazxc1156892', 'jeff0025', 'zzzz8931'])]\n",
    "max_edge_node.head()"
   ]
  },
  {
   "cell_type": "code",
   "execution_count": 64,
   "metadata": {},
   "outputs": [
    {
     "data": {
      "text/html": [
       "<div>\n",
       "<style scoped>\n",
       "    .dataframe tbody tr th:only-of-type {\n",
       "        vertical-align: middle;\n",
       "    }\n",
       "\n",
       "    .dataframe tbody tr th {\n",
       "        vertical-align: top;\n",
       "    }\n",
       "\n",
       "    .dataframe thead th {\n",
       "        text-align: right;\n",
       "    }\n",
       "</style>\n",
       "<table border=\"1\" class=\"dataframe\">\n",
       "  <thead>\n",
       "    <tr style=\"text-align: right;\">\n",
       "      <th></th>\n",
       "      <th>system_id</th>\n",
       "      <th>artUrl</th>\n",
       "      <th>artTitle</th>\n",
       "      <th>artDate</th>\n",
       "      <th>artPoster</th>\n",
       "      <th>artCatagory</th>\n",
       "      <th>artContent</th>\n",
       "      <th>artComment</th>\n",
       "      <th>e_ip</th>\n",
       "      <th>insertedDate</th>\n",
       "      <th>dataSource</th>\n",
       "      <th>artComter</th>\n",
       "      <th>artStatus</th>\n",
       "    </tr>\n",
       "  </thead>\n",
       "  <tbody>\n",
       "    <tr>\n",
       "      <th>423</th>\n",
       "      <td>424</td>\n",
       "      <td>https://www.ptt.cc/bbs/Tech_Job/M.1551209967.A...</td>\n",
       "      <td>[新聞]「電子零組件業」好缺人才！職缺成長2成3</td>\n",
       "      <td>2019-02-26 19:33:22</td>\n",
       "      <td>orz44444</td>\n",
       "      <td>Tech_Job</td>\n",
       "      <td>https://udn.com/news/story/7269/3666701\\n2019-...</td>\n",
       "      <td>[{\"cmtStatus\": \"→\", \"cmtPoster\": \"j320015566\",...</td>\n",
       "      <td>36.233.67.13</td>\n",
       "      <td>2019-02-27 12:32:12</td>\n",
       "      <td>ptt</td>\n",
       "      <td>j320015566</td>\n",
       "      <td>→</td>\n",
       "    </tr>\n",
       "    <tr>\n",
       "      <th>832</th>\n",
       "      <td>833</td>\n",
       "      <td>https://www.ptt.cc/bbs/Tech_Job/M.1592850386.A...</td>\n",
       "      <td>[新聞]企業先雇後訓最高補助10.8萬</td>\n",
       "      <td>2020-06-23 02:26:20</td>\n",
       "      <td>orz44444</td>\n",
       "      <td>Tech_Job</td>\n",
       "      <td>https://udn.com/news/story/7269/4653771\\n2020-...</td>\n",
       "      <td>[{\"cmtStatus\": \"推\", \"cmtPoster\": \"wdszfefx\", \"...</td>\n",
       "      <td>114.26.224.97</td>\n",
       "      <td>2020-06-24 00:43:43</td>\n",
       "      <td>ptt</td>\n",
       "      <td>wdszfefx</td>\n",
       "      <td>推</td>\n",
       "    </tr>\n",
       "    <tr>\n",
       "      <th>489</th>\n",
       "      <td>490</td>\n",
       "      <td>https://www.ptt.cc/bbs/Tech_Job/M.1555768499.A...</td>\n",
       "      <td>[新聞]發大財！中科大廠紛擴廠徵才1300人薪上看7萬</td>\n",
       "      <td>2019-04-20 13:48:48</td>\n",
       "      <td>orz44444</td>\n",
       "      <td>Tech_Job</td>\n",
       "      <td>https://udn.com/news/story/7240/3766934\\n2019-...</td>\n",
       "      <td>[{\"cmtStatus\": \"→\", \"cmtPoster\": \"luche\", \"cmt...</td>\n",
       "      <td>1.165.108.247</td>\n",
       "      <td>2019-04-24 12:34:27</td>\n",
       "      <td>ptt</td>\n",
       "      <td>luche</td>\n",
       "      <td>→</td>\n",
       "    </tr>\n",
       "    <tr>\n",
       "      <th>429</th>\n",
       "      <td>430</td>\n",
       "      <td>https://www.ptt.cc/bbs/Tech_Job/M.1551759500.A...</td>\n",
       "      <td>[新聞]群創將招募500名工程師博士起薪6.1萬元</td>\n",
       "      <td>2019-03-05 04:12:15</td>\n",
       "      <td>orz44444</td>\n",
       "      <td>Tech_Job</td>\n",
       "      <td>https://udn.com/news/story/7240/3677945\\n2019-...</td>\n",
       "      <td>[{\"cmtStatus\": \"推\", \"cmtPoster\": \"dakkk\", \"cmt...</td>\n",
       "      <td>36.235.112.143</td>\n",
       "      <td>2019-03-06 12:54:43</td>\n",
       "      <td>ptt</td>\n",
       "      <td>dakkk</td>\n",
       "      <td>推</td>\n",
       "    </tr>\n",
       "    <tr>\n",
       "      <th>885</th>\n",
       "      <td>886</td>\n",
       "      <td>https://www.ptt.cc/bbs/Tech_Job/M.1597405957.A...</td>\n",
       "      <td>[新聞]「5G應用新領域」論壇產官學精英與談為人才找方向</td>\n",
       "      <td>2020-08-14 19:52:30</td>\n",
       "      <td>orz44444</td>\n",
       "      <td>Tech_Job</td>\n",
       "      <td>https://udn.com/news/story/7240/4781960\\n2020-...</td>\n",
       "      <td>[{\"cmtStatus\": \"噓\", \"cmtPoster\": \"wellkom\", \"c...</td>\n",
       "      <td>36.233.95.105</td>\n",
       "      <td>2020-08-15 00:51:43</td>\n",
       "      <td>ptt</td>\n",
       "      <td>wellkom</td>\n",
       "      <td>噓</td>\n",
       "    </tr>\n",
       "  </tbody>\n",
       "</table>\n",
       "</div>"
      ],
      "text/plain": [
       "     system_id                                             artUrl   \n",
       "423        424  https://www.ptt.cc/bbs/Tech_Job/M.1551209967.A...  \\\n",
       "832        833  https://www.ptt.cc/bbs/Tech_Job/M.1592850386.A...   \n",
       "489        490  https://www.ptt.cc/bbs/Tech_Job/M.1555768499.A...   \n",
       "429        430  https://www.ptt.cc/bbs/Tech_Job/M.1551759500.A...   \n",
       "885        886  https://www.ptt.cc/bbs/Tech_Job/M.1597405957.A...   \n",
       "\n",
       "                         artTitle              artDate artPoster artCatagory   \n",
       "423      [新聞]「電子零組件業」好缺人才！職缺成長2成3  2019-02-26 19:33:22  orz44444    Tech_Job  \\\n",
       "832           [新聞]企業先雇後訓最高補助10.8萬  2020-06-23 02:26:20  orz44444    Tech_Job   \n",
       "489   [新聞]發大財！中科大廠紛擴廠徵才1300人薪上看7萬  2019-04-20 13:48:48  orz44444    Tech_Job   \n",
       "429     [新聞]群創將招募500名工程師博士起薪6.1萬元  2019-03-05 04:12:15  orz44444    Tech_Job   \n",
       "885  [新聞]「5G應用新領域」論壇產官學精英與談為人才找方向  2020-08-14 19:52:30  orz44444    Tech_Job   \n",
       "\n",
       "                                            artContent   \n",
       "423  https://udn.com/news/story/7269/3666701\\n2019-...  \\\n",
       "832  https://udn.com/news/story/7269/4653771\\n2020-...   \n",
       "489  https://udn.com/news/story/7240/3766934\\n2019-...   \n",
       "429  https://udn.com/news/story/7240/3677945\\n2019-...   \n",
       "885  https://udn.com/news/story/7240/4781960\\n2020-...   \n",
       "\n",
       "                                            artComment            e_ip   \n",
       "423  [{\"cmtStatus\": \"→\", \"cmtPoster\": \"j320015566\",...    36.233.67.13  \\\n",
       "832  [{\"cmtStatus\": \"推\", \"cmtPoster\": \"wdszfefx\", \"...   114.26.224.97   \n",
       "489  [{\"cmtStatus\": \"→\", \"cmtPoster\": \"luche\", \"cmt...   1.165.108.247   \n",
       "429  [{\"cmtStatus\": \"推\", \"cmtPoster\": \"dakkk\", \"cmt...  36.235.112.143   \n",
       "885  [{\"cmtStatus\": \"噓\", \"cmtPoster\": \"wellkom\", \"c...   36.233.95.105   \n",
       "\n",
       "            insertedDate dataSource   artComter artStatus  \n",
       "423  2019-02-27 12:32:12        ptt  j320015566         →  \n",
       "832  2020-06-24 00:43:43        ptt    wdszfefx         推  \n",
       "489  2019-04-24 12:34:27        ptt       luche         →  \n",
       "429  2019-03-06 12:54:43        ptt       dakkk         推  \n",
       "885  2020-08-15 00:51:43        ptt     wellkom         噓  "
      ]
     },
     "execution_count": 64,
     "metadata": {},
     "output_type": "execute_result"
    }
   ],
   "source": [
    "second_edge_node = raw_data[raw_data['artPoster'].isin(['orz44444', 'dakkk'])]\n",
    "second_edge_node.head()"
   ]
  },
  {
   "attachments": {},
   "cell_type": "markdown",
   "metadata": {},
   "source": [
    "從上列分析看出 edge 前兩大相關的 artPoster 都是發布`新聞相關`的文章，也因此在版中被最多人評論 (per_bet_netWork)\n"
   ]
  },
  {
   "attachments": {},
   "cell_type": "markdown",
   "metadata": {},
   "source": [
    "而另外發現，`waitrop`的文章title都有 `RE:...`，表示該用戶是在PPT上有較活躍的發文紀錄，且文章都有較高的討論度"
   ]
  },
  {
   "cell_type": "code",
   "execution_count": 65,
   "metadata": {},
   "outputs": [
    {
     "data": {
      "text/html": [
       "<div>\n",
       "<style scoped>\n",
       "    .dataframe tbody tr th:only-of-type {\n",
       "        vertical-align: middle;\n",
       "    }\n",
       "\n",
       "    .dataframe tbody tr th {\n",
       "        vertical-align: top;\n",
       "    }\n",
       "\n",
       "    .dataframe thead th {\n",
       "        text-align: right;\n",
       "    }\n",
       "</style>\n",
       "<table border=\"1\" class=\"dataframe\">\n",
       "  <thead>\n",
       "    <tr style=\"text-align: right;\">\n",
       "      <th></th>\n",
       "      <th>system_id</th>\n",
       "      <th>artUrl</th>\n",
       "      <th>artTitle</th>\n",
       "      <th>artDate</th>\n",
       "      <th>artPoster</th>\n",
       "      <th>artCatagory</th>\n",
       "      <th>artContent</th>\n",
       "      <th>artComment</th>\n",
       "      <th>e_ip</th>\n",
       "      <th>insertedDate</th>\n",
       "      <th>dataSource</th>\n",
       "      <th>artComter</th>\n",
       "      <th>artStatus</th>\n",
       "    </tr>\n",
       "  </thead>\n",
       "  <tbody>\n",
       "    <tr>\n",
       "      <th>1676</th>\n",
       "      <td>1677</td>\n",
       "      <td>https://www.ptt.cc/bbs/Tech_Job/M.1671766268.A...</td>\n",
       "      <td>Re:[討論]在科技業一輩子能賺十億嗎?</td>\n",
       "      <td>2022-12-23 11:31:06</td>\n",
       "      <td>waitrop</td>\n",
       "      <td>Tech_Job</td>\n",
       "      <td>現在怎麼鼓吹炒房的文章在每個版到處發文,\\n開始急了?\\n其實用數學算一下就知道,\\n炒房不...</td>\n",
       "      <td>[{\"cmtStatus\": \"推\", \"cmtPoster\": \"verilogTire\"...</td>\n",
       "      <td>24.5.140.41</td>\n",
       "      <td>2022-12-25 02:05:57</td>\n",
       "      <td>ptt</td>\n",
       "      <td>verilogTire</td>\n",
       "      <td>推</td>\n",
       "    </tr>\n",
       "    <tr>\n",
       "      <th>729</th>\n",
       "      <td>730</td>\n",
       "      <td>https://www.ptt.cc/bbs/Tech_Job/M.1583559781.A...</td>\n",
       "      <td>Re:[討論]工程師似乎還算穩定職業</td>\n",
       "      <td>2020-03-07 13:42:59</td>\n",
       "      <td>waitrop</td>\n",
       "      <td>Tech_Job</td>\n",
       "      <td>我很像太晚加入這場戰爭了，\\n但是還是來分享一下魯蛇工程師的看法,\\n工程師絕對不是穩定職業...</td>\n",
       "      <td>[{\"cmtStatus\": \"→\", \"cmtPoster\": \"twflash\", \"c...</td>\n",
       "      <td>24.4.131.164</td>\n",
       "      <td>2020-03-08 02:24:46</td>\n",
       "      <td>ptt</td>\n",
       "      <td>twflash</td>\n",
       "      <td>→</td>\n",
       "    </tr>\n",
       "    <tr>\n",
       "      <th>1024</th>\n",
       "      <td>1025</td>\n",
       "      <td>https://www.ptt.cc/bbs/Tech_Job/M.1617173153.A...</td>\n",
       "      <td>Re:[討論]外商在台灣的薪資越來越\"神奇\"</td>\n",
       "      <td>2021-03-31 14:45:51</td>\n",
       "      <td>waitrop</td>\n",
       "      <td>Tech_Job</td>\n",
       "      <td>在這邊提供一下相反的意見，\\n其實，我之前就說過，\\n硬體公司薪資最高的就在台灣的台商，\\n...</td>\n",
       "      <td>[{\"cmtStatus\": \"推\", \"cmtPoster\": \"softseaweed\"...</td>\n",
       "      <td>24.4.131.164</td>\n",
       "      <td>2021-04-01 01:39:48</td>\n",
       "      <td>ptt</td>\n",
       "      <td>softseaweed</td>\n",
       "      <td>推</td>\n",
       "    </tr>\n",
       "    <tr>\n",
       "      <th>1659</th>\n",
       "      <td>1660</td>\n",
       "      <td>https://www.ptt.cc/bbs/Tech_Job/M.1670819164.A...</td>\n",
       "      <td>Re:[新聞]台積電最先進製程會留台灣因為薪水低</td>\n",
       "      <td>2022-12-12 12:26:02</td>\n",
       "      <td>waitrop</td>\n",
       "      <td>Tech_Job</td>\n",
       "      <td>很多訊息都是錯誤或是故意誤導,\\n剛好我曾經在Chandler AZ 工作一陣子,\\n就在台...</td>\n",
       "      <td>[{\"cmtStatus\": \"推\", \"cmtPoster\": \"marsonele\", ...</td>\n",
       "      <td>24.5.140.41</td>\n",
       "      <td>2022-12-13 02:06:37</td>\n",
       "      <td>ptt</td>\n",
       "      <td>marsonele</td>\n",
       "      <td>推</td>\n",
       "    </tr>\n",
       "    <tr>\n",
       "      <th>1095</th>\n",
       "      <td>1096</td>\n",
       "      <td>https://www.ptt.cc/bbs/Tech_Job/M.1623622171.A...</td>\n",
       "      <td>Re:[請益]IC設計真的比較好嗎</td>\n",
       "      <td>2021-06-14 06:09:29</td>\n",
       "      <td>waitrop</td>\n",
       "      <td>Tech_Job</td>\n",
       "      <td>爽不爽這種事情很難說，\\n即使同公司甚至同個組，\\n光是做的項目不同就有天堂跟地獄的差別，\\...</td>\n",
       "      <td>[{\"cmtStatus\": \"推\", \"cmtPoster\": \"expiate\", \"c...</td>\n",
       "      <td>24.4.131.164</td>\n",
       "      <td>2021-06-15 02:15:03</td>\n",
       "      <td>ptt</td>\n",
       "      <td>expiate</td>\n",
       "      <td>推</td>\n",
       "    </tr>\n",
       "    <tr>\n",
       "      <th>1556</th>\n",
       "      <td>1557</td>\n",
       "      <td>https://www.ptt.cc/bbs/Tech_Job/M.1667463859.A...</td>\n",
       "      <td>Re:[新聞]安謀告高通燒到手機晶片廠</td>\n",
       "      <td>2022-11-03 16:24:17</td>\n",
       "      <td>waitrop</td>\n",
       "      <td>Tech_Job</td>\n",
       "      <td>哎！\\n看到一堆前公司的名字,\\n身為一輩子在這些公司跟手機CPU業界打轉的社畜,\\n還是有...</td>\n",
       "      <td>[{\"cmtStatus\": \"→\", \"cmtPoster\": \"baiya\", \"cmt...</td>\n",
       "      <td>76.132.71.160</td>\n",
       "      <td>2022-11-04 02:06:37</td>\n",
       "      <td>ptt</td>\n",
       "      <td>baiya</td>\n",
       "      <td>→</td>\n",
       "    </tr>\n",
       "    <tr>\n",
       "      <th>528</th>\n",
       "      <td>529</td>\n",
       "      <td>https://www.ptt.cc/bbs/Tech_Job/M.1559628584.A...</td>\n",
       "      <td>[面試]Microsoft面試心得</td>\n",
       "      <td>2019-06-04 06:03:42</td>\n",
       "      <td>waitrop</td>\n",
       "      <td>Tech_Job</td>\n",
       "      <td>很久沒有分享面試心得，\\n因為很久沒有換工作了，\\n但是2018, 2019年是個非常特殊的...</td>\n",
       "      <td>[{\"cmtStatus\": \"推\", \"cmtPoster\": \"southpeace\",...</td>\n",
       "      <td>73.222.35.14</td>\n",
       "      <td>2019-06-06 13:02:32</td>\n",
       "      <td>ptt</td>\n",
       "      <td>southpeace</td>\n",
       "      <td>推</td>\n",
       "    </tr>\n",
       "  </tbody>\n",
       "</table>\n",
       "</div>"
      ],
      "text/plain": [
       "      system_id                                             artUrl   \n",
       "1676       1677  https://www.ptt.cc/bbs/Tech_Job/M.1671766268.A...  \\\n",
       "729         730  https://www.ptt.cc/bbs/Tech_Job/M.1583559781.A...   \n",
       "1024       1025  https://www.ptt.cc/bbs/Tech_Job/M.1617173153.A...   \n",
       "1659       1660  https://www.ptt.cc/bbs/Tech_Job/M.1670819164.A...   \n",
       "1095       1096  https://www.ptt.cc/bbs/Tech_Job/M.1623622171.A...   \n",
       "1556       1557  https://www.ptt.cc/bbs/Tech_Job/M.1667463859.A...   \n",
       "528         529  https://www.ptt.cc/bbs/Tech_Job/M.1559628584.A...   \n",
       "\n",
       "                      artTitle              artDate artPoster artCatagory   \n",
       "1676      Re:[討論]在科技業一輩子能賺十億嗎?  2022-12-23 11:31:06   waitrop    Tech_Job  \\\n",
       "729         Re:[討論]工程師似乎還算穩定職業  2020-03-07 13:42:59   waitrop    Tech_Job   \n",
       "1024    Re:[討論]外商在台灣的薪資越來越\"神奇\"  2021-03-31 14:45:51   waitrop    Tech_Job   \n",
       "1659  Re:[新聞]台積電最先進製程會留台灣因為薪水低  2022-12-12 12:26:02   waitrop    Tech_Job   \n",
       "1095         Re:[請益]IC設計真的比較好嗎  2021-06-14 06:09:29   waitrop    Tech_Job   \n",
       "1556       Re:[新聞]安謀告高通燒到手機晶片廠  2022-11-03 16:24:17   waitrop    Tech_Job   \n",
       "528          [面試]Microsoft面試心得  2019-06-04 06:03:42   waitrop    Tech_Job   \n",
       "\n",
       "                                             artContent   \n",
       "1676  現在怎麼鼓吹炒房的文章在每個版到處發文,\\n開始急了?\\n其實用數學算一下就知道,\\n炒房不...  \\\n",
       "729   我很像太晚加入這場戰爭了，\\n但是還是來分享一下魯蛇工程師的看法,\\n工程師絕對不是穩定職業...   \n",
       "1024  在這邊提供一下相反的意見，\\n其實，我之前就說過，\\n硬體公司薪資最高的就在台灣的台商，\\n...   \n",
       "1659  很多訊息都是錯誤或是故意誤導,\\n剛好我曾經在Chandler AZ 工作一陣子,\\n就在台...   \n",
       "1095  爽不爽這種事情很難說，\\n即使同公司甚至同個組，\\n光是做的項目不同就有天堂跟地獄的差別，\\...   \n",
       "1556  哎！\\n看到一堆前公司的名字,\\n身為一輩子在這些公司跟手機CPU業界打轉的社畜,\\n還是有...   \n",
       "528   很久沒有分享面試心得，\\n因為很久沒有換工作了，\\n但是2018, 2019年是個非常特殊的...   \n",
       "\n",
       "                                             artComment           e_ip   \n",
       "1676  [{\"cmtStatus\": \"推\", \"cmtPoster\": \"verilogTire\"...    24.5.140.41  \\\n",
       "729   [{\"cmtStatus\": \"→\", \"cmtPoster\": \"twflash\", \"c...   24.4.131.164   \n",
       "1024  [{\"cmtStatus\": \"推\", \"cmtPoster\": \"softseaweed\"...   24.4.131.164   \n",
       "1659  [{\"cmtStatus\": \"推\", \"cmtPoster\": \"marsonele\", ...    24.5.140.41   \n",
       "1095  [{\"cmtStatus\": \"推\", \"cmtPoster\": \"expiate\", \"c...   24.4.131.164   \n",
       "1556  [{\"cmtStatus\": \"→\", \"cmtPoster\": \"baiya\", \"cmt...  76.132.71.160   \n",
       "528   [{\"cmtStatus\": \"推\", \"cmtPoster\": \"southpeace\",...   73.222.35.14   \n",
       "\n",
       "             insertedDate dataSource    artComter artStatus  \n",
       "1676  2022-12-25 02:05:57        ptt  verilogTire         推  \n",
       "729   2020-03-08 02:24:46        ptt      twflash         →  \n",
       "1024  2021-04-01 01:39:48        ptt  softseaweed         推  \n",
       "1659  2022-12-13 02:06:37        ptt    marsonele         推  \n",
       "1095  2021-06-15 02:15:03        ptt      expiate         推  \n",
       "1556  2022-11-04 02:06:37        ptt        baiya         →  \n",
       "528   2019-06-06 13:02:32        ptt   southpeace         推  "
      ]
     },
     "execution_count": 65,
     "metadata": {},
     "output_type": "execute_result"
    }
   ],
   "source": [
    "edge_node = raw_data[raw_data['artPoster'].isin(['waitrop'])]\n",
    "edge_node"
   ]
  },
  {
   "attachments": {},
   "cell_type": "markdown",
   "metadata": {},
   "source": [
    "`dolinian`則都是`徵才`相關的文章，且都有固定發文格式，因此推測該帳號是用來協助企業發布徵才相關資訊的"
   ]
  },
  {
   "cell_type": "code",
   "execution_count": 66,
   "metadata": {},
   "outputs": [
    {
     "data": {
      "text/html": [
       "<div>\n",
       "<style scoped>\n",
       "    .dataframe tbody tr th:only-of-type {\n",
       "        vertical-align: middle;\n",
       "    }\n",
       "\n",
       "    .dataframe tbody tr th {\n",
       "        vertical-align: top;\n",
       "    }\n",
       "\n",
       "    .dataframe thead th {\n",
       "        text-align: right;\n",
       "    }\n",
       "</style>\n",
       "<table border=\"1\" class=\"dataframe\">\n",
       "  <thead>\n",
       "    <tr style=\"text-align: right;\">\n",
       "      <th></th>\n",
       "      <th>system_id</th>\n",
       "      <th>artUrl</th>\n",
       "      <th>artTitle</th>\n",
       "      <th>artDate</th>\n",
       "      <th>artPoster</th>\n",
       "      <th>artCatagory</th>\n",
       "      <th>artContent</th>\n",
       "      <th>artComment</th>\n",
       "      <th>e_ip</th>\n",
       "      <th>insertedDate</th>\n",
       "      <th>dataSource</th>\n",
       "      <th>artComter</th>\n",
       "      <th>artStatus</th>\n",
       "    </tr>\n",
       "  </thead>\n",
       "  <tbody>\n",
       "    <tr>\n",
       "      <th>872</th>\n",
       "      <td>873</td>\n",
       "      <td>https://www.ptt.cc/bbs/Tech_Job/M.1596454040.A...</td>\n",
       "      <td>[徵才]華碩電腦誠徵軟體工程師</td>\n",
       "      <td>2020-08-03 19:27:17</td>\n",
       "      <td>dolinian</td>\n",
       "      <td>Tech_Job</td>\n",
       "      <td>【公司名稱】\\n華碩電腦\\n\\n【公司地址】\\n台北市北投區立德路15號\\n\\n【職缺】\\n...</td>\n",
       "      <td>[{\"cmtStatus\": \"推\", \"cmtPoster\": \"PauFrank5566...</td>\n",
       "      <td>220.135.205.37</td>\n",
       "      <td>2020-08-04 02:14:30</td>\n",
       "      <td>ptt</td>\n",
       "      <td>PauFrank5566</td>\n",
       "      <td>推</td>\n",
       "    </tr>\n",
       "    <tr>\n",
       "      <th>254</th>\n",
       "      <td>255</td>\n",
       "      <td>https://www.ptt.cc/bbs/Tech_Job/M.1538462860.A...</td>\n",
       "      <td>Fw:[徵才]快速面試_WeMo徵才中</td>\n",
       "      <td>2018-10-02 06:41:38</td>\n",
       "      <td>dolinian</td>\n",
       "      <td>Tech_Job</td>\n",
       "      <td>作者: dolinian (杜麗娘) 看板: Soft_Job\\n標題: [徵才] 快速面試...</td>\n",
       "      <td>[{\"cmtStatus\": \"→\", \"cmtPoster\": \"holsety\", \"c...</td>\n",
       "      <td>NaN</td>\n",
       "      <td>2018-10-08 01:03:11</td>\n",
       "      <td>ptt</td>\n",
       "      <td>holsety</td>\n",
       "      <td>→</td>\n",
       "    </tr>\n",
       "    <tr>\n",
       "      <th>936</th>\n",
       "      <td>937</td>\n",
       "      <td>https://www.ptt.cc/bbs/Tech_Job/M.1605077259.A...</td>\n",
       "      <td>[徵才]植茁科技誠徵夥伴（歡迎新鮮人）</td>\n",
       "      <td>2020-11-11 14:47:35</td>\n",
       "      <td>dolinian</td>\n",
       "      <td>Tech_Job</td>\n",
       "      <td>[徵才公司]\\n    植茁科技\\n    　\\n    [關於植茁科技]\\n房屋新創 ap...</td>\n",
       "      <td>[{\"cmtStatus\": \"推\", \"cmtPoster\": \"j835111\", \"c...</td>\n",
       "      <td>220.135.205.37</td>\n",
       "      <td>2020-11-12 01:04:54</td>\n",
       "      <td>ptt</td>\n",
       "      <td>j835111</td>\n",
       "      <td>推</td>\n",
       "    </tr>\n",
       "    <tr>\n",
       "      <th>1047</th>\n",
       "      <td>1048</td>\n",
       "      <td>https://www.ptt.cc/bbs/Tech_Job/M.1618827868.A...</td>\n",
       "      <td>[徵才]Grab在台招募前/後端/軟體及測試工程師</td>\n",
       "      <td>2021-04-19 18:24:25</td>\n",
       "      <td>dolinian</td>\n",
       "      <td>Tech_Job</td>\n",
       "      <td>[公司名稱]\\nGrab\\n\\n[公司網址]\\nhttps://grab.careers\\n...</td>\n",
       "      <td>[{\"cmtStatus\": \"推\", \"cmtPoster\": \"gaea0127\", \"...</td>\n",
       "      <td>220.135.205.37</td>\n",
       "      <td>2021-04-20 02:16:29</td>\n",
       "      <td>ptt</td>\n",
       "      <td>gaea0127</td>\n",
       "      <td>推</td>\n",
       "    </tr>\n",
       "    <tr>\n",
       "      <th>276</th>\n",
       "      <td>277</td>\n",
       "      <td>https://www.ptt.cc/bbs/Tech_Job/M.1540742201.A...</td>\n",
       "      <td>Fw:[徵才]港商Wisers徵Java/Node/React工程師</td>\n",
       "      <td>2018-10-28 15:50:40</td>\n",
       "      <td>dolinian</td>\n",
       "      <td>Tech_Job</td>\n",
       "      <td>作者: dolinian (杜麗娘) 看板: Soft_Job\\n標題: [徵才] 港商Wi...</td>\n",
       "      <td>[{\"cmtStatus\": \"推\", \"cmtPoster\": \"diabloevagto...</td>\n",
       "      <td>36.225.21.131</td>\n",
       "      <td>2018-10-28 12:34:36</td>\n",
       "      <td>ptt</td>\n",
       "      <td>diabloevagto</td>\n",
       "      <td>推</td>\n",
       "    </tr>\n",
       "  </tbody>\n",
       "</table>\n",
       "</div>"
      ],
      "text/plain": [
       "      system_id                                             artUrl   \n",
       "872         873  https://www.ptt.cc/bbs/Tech_Job/M.1596454040.A...  \\\n",
       "254         255  https://www.ptt.cc/bbs/Tech_Job/M.1538462860.A...   \n",
       "936         937  https://www.ptt.cc/bbs/Tech_Job/M.1605077259.A...   \n",
       "1047       1048  https://www.ptt.cc/bbs/Tech_Job/M.1618827868.A...   \n",
       "276         277  https://www.ptt.cc/bbs/Tech_Job/M.1540742201.A...   \n",
       "\n",
       "                                artTitle              artDate artPoster   \n",
       "872                      [徵才]華碩電腦誠徵軟體工程師  2020-08-03 19:27:17  dolinian  \\\n",
       "254                  Fw:[徵才]快速面試_WeMo徵才中  2018-10-02 06:41:38  dolinian   \n",
       "936                  [徵才]植茁科技誠徵夥伴（歡迎新鮮人）  2020-11-11 14:47:35  dolinian   \n",
       "1047           [徵才]Grab在台招募前/後端/軟體及測試工程師  2021-04-19 18:24:25  dolinian   \n",
       "276   Fw:[徵才]港商Wisers徵Java/Node/React工程師  2018-10-28 15:50:40  dolinian   \n",
       "\n",
       "     artCatagory                                         artContent   \n",
       "872     Tech_Job  【公司名稱】\\n華碩電腦\\n\\n【公司地址】\\n台北市北投區立德路15號\\n\\n【職缺】\\n...  \\\n",
       "254     Tech_Job  作者: dolinian (杜麗娘) 看板: Soft_Job\\n標題: [徵才] 快速面試...   \n",
       "936     Tech_Job  [徵才公司]\\n    植茁科技\\n    　\\n    [關於植茁科技]\\n房屋新創 ap...   \n",
       "1047    Tech_Job  [公司名稱]\\nGrab\\n\\n[公司網址]\\nhttps://grab.careers\\n...   \n",
       "276     Tech_Job  作者: dolinian (杜麗娘) 看板: Soft_Job\\n標題: [徵才] 港商Wi...   \n",
       "\n",
       "                                             artComment            e_ip   \n",
       "872   [{\"cmtStatus\": \"推\", \"cmtPoster\": \"PauFrank5566...  220.135.205.37  \\\n",
       "254   [{\"cmtStatus\": \"→\", \"cmtPoster\": \"holsety\", \"c...             NaN   \n",
       "936   [{\"cmtStatus\": \"推\", \"cmtPoster\": \"j835111\", \"c...  220.135.205.37   \n",
       "1047  [{\"cmtStatus\": \"推\", \"cmtPoster\": \"gaea0127\", \"...  220.135.205.37   \n",
       "276   [{\"cmtStatus\": \"推\", \"cmtPoster\": \"diabloevagto...   36.225.21.131   \n",
       "\n",
       "             insertedDate dataSource     artComter artStatus  \n",
       "872   2020-08-04 02:14:30        ptt  PauFrank5566         推  \n",
       "254   2018-10-08 01:03:11        ptt       holsety         →  \n",
       "936   2020-11-12 01:04:54        ptt       j835111         推  \n",
       "1047  2021-04-20 02:16:29        ptt      gaea0127         推  \n",
       "276   2018-10-28 12:34:36        ptt  diabloevagto         推  "
      ]
     },
     "execution_count": 66,
     "metadata": {},
     "output_type": "execute_result"
    }
   ],
   "source": [
    "edge_node2 = raw_data[raw_data['artPoster'].isin(['dolinian'])]\n",
    "edge_node2.head()"
   ]
  }
 ],
 "metadata": {
  "kernelspec": {
   "display_name": "Python 3",
   "language": "python",
   "name": "python3"
  },
  "language_info": {
   "codemirror_mode": {
    "name": "ipython",
    "version": 3
   },
   "file_extension": ".py",
   "mimetype": "text/x-python",
   "name": "python",
   "nbconvert_exporter": "python",
   "pygments_lexer": "ipython3",
   "version": "3.9.13"
  },
  "orig_nbformat": 4
 },
 "nbformat": 4,
 "nbformat_minor": 2
}
