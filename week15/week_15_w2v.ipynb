{
 "cells": [
  {
   "cell_type": "markdown",
   "metadata": {},
   "source": [
    "# 第十五週 word2vec\n",
    "\n",
    "大綱：使用PTT的美食版，計算出word2vec的模型"
   ]
  },
  {
   "cell_type": "code",
   "execution_count": 1,
   "metadata": {},
   "outputs": [],
   "source": [
    "%matplotlib inline\n",
    "\n",
    "import pandas as pd\n",
    "import re\n",
    "import numpy as np\n",
    "from collections import defaultdict\n",
    "import multiprocessing\n",
    "\n",
    "# import spacy\n",
    "from gensim.models.phrases import Phrases, Phraser\n",
    "from gensim.models import Word2Vec, KeyedVectors   \n",
    "\n",
    "from gensim.test.utils import common_texts, get_tmpfile\n",
    "from gensim.models import Word2Vec\n",
    "from gensim.models.callbacks import CallbackAny2Vec\n",
    "\n",
    "import matplotlib.pyplot as plt\n",
    "\n",
    "from sklearn import manifold\n",
    "from sklearn.decomposition import PCA\n",
    "from sklearn.manifold import TSNE\n",
    "from sklearn.decomposition import TruncatedSVD\n",
    "\n",
    "import seaborn as sns\n",
    "sns.set_style(\"darkgrid\")\n"
   ]
  },
  {
   "cell_type": "code",
   "execution_count": 2,
   "metadata": {},
   "outputs": [
    {
     "data": {
      "text/html": [
       "<div>\n",
       "<style scoped>\n",
       "    .dataframe tbody tr th:only-of-type {\n",
       "        vertical-align: middle;\n",
       "    }\n",
       "\n",
       "    .dataframe tbody tr th {\n",
       "        vertical-align: top;\n",
       "    }\n",
       "\n",
       "    .dataframe thead th {\n",
       "        text-align: right;\n",
       "    }\n",
       "</style>\n",
       "<table border=\"1\" class=\"dataframe\">\n",
       "  <thead>\n",
       "    <tr style=\"text-align: right;\">\n",
       "      <th></th>\n",
       "      <th>artTitle</th>\n",
       "      <th>artDate</th>\n",
       "      <th>artTime</th>\n",
       "      <th>artUrl</th>\n",
       "      <th>artPoster</th>\n",
       "      <th>artCat</th>\n",
       "      <th>commentNum</th>\n",
       "      <th>push</th>\n",
       "      <th>boo</th>\n",
       "      <th>sentence</th>\n",
       "      <th>word</th>\n",
       "    </tr>\n",
       "  </thead>\n",
       "  <tbody>\n",
       "    <tr>\n",
       "      <th>0</th>\n",
       "      <td>[食記]台北中山徐淮人家重口味北方菜不吃辣不要來好下飯</td>\n",
       "      <td>2023/01/31</td>\n",
       "      <td>19:11:08</td>\n",
       "      <td>https://www.ptt.cc/bbs/Food/M.1675192271.A.E0C...</td>\n",
       "      <td>AlphaD</td>\n",
       "      <td>Food</td>\n",
       "      <td>13</td>\n",
       "      <td>7</td>\n",
       "      <td>0</td>\n",
       "      <td>餐廳名稱徐淮人家   消費時間2023年1月10491台北市中山區遼寧街45巷2號11am2pm</td>\n",
       "      <td>餐廳</td>\n",
       "    </tr>\n",
       "    <tr>\n",
       "      <th>1</th>\n",
       "      <td>[食記]台北中山徐淮人家重口味北方菜不吃辣不要來好下飯</td>\n",
       "      <td>2023/01/31</td>\n",
       "      <td>19:11:08</td>\n",
       "      <td>https://www.ptt.cc/bbs/Food/M.1675192271.A.E0C...</td>\n",
       "      <td>AlphaD</td>\n",
       "      <td>Food</td>\n",
       "      <td>13</td>\n",
       "      <td>7</td>\n",
       "      <td>0</td>\n",
       "      <td>餐廳名稱徐淮人家   消費時間2023年1月10491台北市中山區遼寧街45巷2號11am2pm</td>\n",
       "      <td>徐淮</td>\n",
       "    </tr>\n",
       "    <tr>\n",
       "      <th>2</th>\n",
       "      <td>[食記]台北中山徐淮人家重口味北方菜不吃辣不要來好下飯</td>\n",
       "      <td>2023/01/31</td>\n",
       "      <td>19:11:08</td>\n",
       "      <td>https://www.ptt.cc/bbs/Food/M.1675192271.A.E0C...</td>\n",
       "      <td>AlphaD</td>\n",
       "      <td>Food</td>\n",
       "      <td>13</td>\n",
       "      <td>7</td>\n",
       "      <td>0</td>\n",
       "      <td>餐廳名稱徐淮人家   消費時間2023年1月10491台北市中山區遼寧街45巷2號11am2pm</td>\n",
       "      <td>消費</td>\n",
       "    </tr>\n",
       "  </tbody>\n",
       "</table>\n",
       "</div>"
      ],
      "text/plain": [
       "                      artTitle     artDate   artTime   \n",
       "0  [食記]台北中山徐淮人家重口味北方菜不吃辣不要來好下飯  2023/01/31  19:11:08  \\\n",
       "1  [食記]台北中山徐淮人家重口味北方菜不吃辣不要來好下飯  2023/01/31  19:11:08   \n",
       "2  [食記]台北中山徐淮人家重口味北方菜不吃辣不要來好下飯  2023/01/31  19:11:08   \n",
       "\n",
       "                                              artUrl artPoster artCat   \n",
       "0  https://www.ptt.cc/bbs/Food/M.1675192271.A.E0C...    AlphaD   Food  \\\n",
       "1  https://www.ptt.cc/bbs/Food/M.1675192271.A.E0C...    AlphaD   Food   \n",
       "2  https://www.ptt.cc/bbs/Food/M.1675192271.A.E0C...    AlphaD   Food   \n",
       "\n",
       "   commentNum  push  boo                                          sentence   \n",
       "0          13     7    0  餐廳名稱徐淮人家   消費時間2023年1月10491台北市中山區遼寧街45巷2號11am2pm  \\\n",
       "1          13     7    0  餐廳名稱徐淮人家   消費時間2023年1月10491台北市中山區遼寧街45巷2號11am2pm   \n",
       "2          13     7    0  餐廳名稱徐淮人家   消費時間2023年1月10491台北市中山區遼寧街45巷2號11am2pm   \n",
       "\n",
       "  word  \n",
       "0   餐廳  \n",
       "1   徐淮  \n",
       "2   消費  "
      ]
     },
     "execution_count": 2,
     "metadata": {},
     "output_type": "execute_result"
    }
   ],
   "source": [
    "# 前幾週有處理完的資料\n",
    "metaData = pd.read_csv('./raw_data/clean_zh_data.csv')\n",
    "metaData.word = metaData.word.astype(str)\n",
    "metaData = metaData[~metaData.word.str.isdecimal()]\n",
    "metaData.head(3)"
   ]
  },
  {
   "cell_type": "code",
   "execution_count": 3,
   "metadata": {},
   "outputs": [
    {
     "data": {
      "text/html": [
       "<div>\n",
       "<style scoped>\n",
       "    .dataframe tbody tr th:only-of-type {\n",
       "        vertical-align: middle;\n",
       "    }\n",
       "\n",
       "    .dataframe tbody tr th {\n",
       "        vertical-align: top;\n",
       "    }\n",
       "\n",
       "    .dataframe thead th {\n",
       "        text-align: right;\n",
       "    }\n",
       "</style>\n",
       "<table border=\"1\" class=\"dataframe\">\n",
       "  <thead>\n",
       "    <tr style=\"text-align: right;\">\n",
       "      <th></th>\n",
       "      <th>sentence</th>\n",
       "      <th>word</th>\n",
       "    </tr>\n",
       "  </thead>\n",
       "  <tbody>\n",
       "    <tr>\n",
       "      <th>0</th>\n",
       "      <td>中午11301430             ...</td>\n",
       "      <td>[中午, 晚餐, 每人, 平均, 價位, 可否, 刷卡, 包廂, 推薦, 菜色, 版上, 發...</td>\n",
       "    </tr>\n",
       "    <tr>\n",
       "      <th>1</th>\n",
       "      <td>再加水資80元與10服務費</td>\n",
       "      <td>[再加, 水資, 服務費]</td>\n",
       "    </tr>\n",
       "    <tr>\n",
       "      <th>2</th>\n",
       "      <td>2只開放轉讓</td>\n",
       "      <td>[開放, 轉讓, 開放, 轉讓, 開放, 轉讓, 開放, 轉讓]</td>\n",
       "    </tr>\n",
       "    <tr>\n",
       "      <th>3</th>\n",
       "      <td>以下優先順序             1 214 2位 1945之...</td>\n",
       "      <td>[以下, 優先, 順序, 之後, 涮涮鍋, 訂位, 之後, 餐廳, 訂位, 無條件, 轉讓,...</td>\n",
       "    </tr>\n",
       "    <tr>\n",
       "      <th>4</th>\n",
       "      <td>各項均為必填資料</td>\n",
       "      <td>[各項, 必填, 資料]</td>\n",
       "    </tr>\n",
       "    <tr>\n",
       "      <th>...</th>\n",
       "      <td>...</td>\n",
       "      <td>...</td>\n",
       "    </tr>\n",
       "    <tr>\n",
       "      <th>40671</th>\n",
       "      <td>Ｄ組合 160套餐裡有海苔豆皮大蝦小卷丁龍蝦沙拉魚子醬水果壽司</td>\n",
       "      <td>[組合, 套餐, 裡有, 海苔, 豆皮, 大蝦, 小卷, 龍蝦, 沙拉, 魚子醬, 水果, 壽司]</td>\n",
       "    </tr>\n",
       "    <tr>\n",
       "      <th>40672</th>\n",
       "      <td>ＰＳ　　仙迪排骨是遷移過來的</td>\n",
       "      <td>[仙迪, 排骨, 遷移, 過來]</td>\n",
       "    </tr>\n",
       "    <tr>\n",
       "      <th>40673</th>\n",
       "      <td>Ｑ彈多汁   阿基里斯腱覺得較雞蠔肉口感再軟嫩一點   雞火腿風乾並煎至半生熟</td>\n",
       "      <td>[多汁, 阿基里斯, 較雞, 蠔肉, 口感, 軟嫩, 一點, 火腿, 風乾, 並煎, 半生]</td>\n",
       "    </tr>\n",
       "    <tr>\n",
       "      <th>40674</th>\n",
       "      <td>Ｑ彈的糰子本身沒有太多的味道</td>\n",
       "      <td>[彈的, 糰子, 太多, 味道]</td>\n",
       "    </tr>\n",
       "    <tr>\n",
       "      <th>40675</th>\n",
       "      <td>Ｑ彈的鹼粽跟冰品超級搭</td>\n",
       "      <td>[彈的, 鹼粽, 冰品]</td>\n",
       "    </tr>\n",
       "  </tbody>\n",
       "</table>\n",
       "<p>40676 rows × 2 columns</p>\n",
       "</div>"
      ],
      "text/plain": [
       "                                                sentence   \n",
       "0                             中午11301430             ...  \\\n",
       "1                                          再加水資80元與10服務費   \n",
       "2                                                 2只開放轉讓   \n",
       "3                   以下優先順序             1 214 2位 1945之...   \n",
       "4                                               各項均為必填資料   \n",
       "...                                                  ...   \n",
       "40671                    Ｄ組合 160套餐裡有海苔豆皮大蝦小卷丁龍蝦沙拉魚子醬水果壽司   \n",
       "40672                                     ＰＳ　　仙迪排骨是遷移過來的   \n",
       "40673            Ｑ彈多汁   阿基里斯腱覺得較雞蠔肉口感再軟嫩一點   雞火腿風乾並煎至半生熟   \n",
       "40674                                     Ｑ彈的糰子本身沒有太多的味道   \n",
       "40675                                        Ｑ彈的鹼粽跟冰品超級搭   \n",
       "\n",
       "                                                    word  \n",
       "0      [中午, 晚餐, 每人, 平均, 價位, 可否, 刷卡, 包廂, 推薦, 菜色, 版上, 發...  \n",
       "1                                          [再加, 水資, 服務費]  \n",
       "2                       [開放, 轉讓, 開放, 轉讓, 開放, 轉讓, 開放, 轉讓]  \n",
       "3      [以下, 優先, 順序, 之後, 涮涮鍋, 訂位, 之後, 餐廳, 訂位, 無條件, 轉讓,...  \n",
       "4                                           [各項, 必填, 資料]  \n",
       "...                                                  ...  \n",
       "40671  [組合, 套餐, 裡有, 海苔, 豆皮, 大蝦, 小卷, 龍蝦, 沙拉, 魚子醬, 水果, 壽司]  \n",
       "40672                                   [仙迪, 排骨, 遷移, 過來]  \n",
       "40673     [多汁, 阿基里斯, 較雞, 蠔肉, 口感, 軟嫩, 一點, 火腿, 風乾, 並煎, 半生]  \n",
       "40674                                   [彈的, 糰子, 太多, 味道]  \n",
       "40675                                       [彈的, 鹼粽, 冰品]  \n",
       "\n",
       "[40676 rows x 2 columns]"
      ]
     },
     "execution_count": 3,
     "metadata": {},
     "output_type": "execute_result"
    }
   ],
   "source": [
    "# 把斷詞重新拼回\n",
    "metaData = metaData.groupby('sentence')['word'].apply(list)\n",
    "metaData = metaData.reset_index()\n",
    "metaData"
   ]
  },
  {
   "cell_type": "markdown",
   "metadata": {},
   "source": [
    "建立bigram"
   ]
  },
  {
   "cell_type": "code",
   "execution_count": 4,
   "metadata": {},
   "outputs": [
    {
     "name": "stdout",
     "output_type": "stream",
     "text": [
      "['new', 'york', 'is', 'united', 'states']\n",
      "=>  ['new_york', 'is', 'united', 'states']\n",
      "['new', 'york', 'is', 'most', 'populated', 'city', 'in', 'the', 'world']\n",
      "=>  ['new_york', 'is', 'most', 'populated', 'city', 'in', 'the', 'world']\n",
      "['i', 'love', 'to', 'stay', 'in', 'new', 'york']\n",
      "=>  ['i', 'love', 'to', 'stay', 'in', 'new_york']\n"
     ]
    }
   ],
   "source": [
    "docs = ['new york is united states', 'new york is most populated city in the world','i love to stay in new york']\n",
    "\n",
    "token_ = [doc.split(\" \") for doc in docs]\n",
    "# Phrases 建立bigram,\n",
    "# 少於min_count的字的字或bigrams會被忽略,\n",
    "# 大於threshold的bigrams會被加入\n",
    "bigram = Phrases(token_, min_count=1, threshold=2)\n",
    "bigram_phraser = Phraser(bigram) \n",
    "\n",
    "for sent in token_:\n",
    "    print(sent)  #處理前\n",
    "    print(\"=> \",bigram_phraser[sent]) # 處理後，還是原本的句子，只是有抓出的bigram片語會被合併"
   ]
  },
  {
   "cell_type": "code",
   "execution_count": 5,
   "metadata": {},
   "outputs": [
    {
     "data": {
      "text/html": [
       "<div>\n",
       "<style scoped>\n",
       "    .dataframe tbody tr th:only-of-type {\n",
       "        vertical-align: middle;\n",
       "    }\n",
       "\n",
       "    .dataframe tbody tr th {\n",
       "        vertical-align: top;\n",
       "    }\n",
       "\n",
       "    .dataframe thead th {\n",
       "        text-align: right;\n",
       "    }\n",
       "</style>\n",
       "<table border=\"1\" class=\"dataframe\">\n",
       "  <thead>\n",
       "    <tr style=\"text-align: right;\">\n",
       "      <th></th>\n",
       "      <th>sentence</th>\n",
       "      <th>word</th>\n",
       "      <th>word_list_bigrams</th>\n",
       "    </tr>\n",
       "  </thead>\n",
       "  <tbody>\n",
       "    <tr>\n",
       "      <th>0</th>\n",
       "      <td>中午11301430             ...</td>\n",
       "      <td>[中午, 晚餐, 每人, 平均, 價位, 可否, 刷卡, 包廂, 推薦, 菜色, 版上, 發...</td>\n",
       "      <td>[中午, 晚餐, 每人, 平均, 價位, 可否, 刷卡, 包廂, 推薦, 菜色, 版上, 發...</td>\n",
       "    </tr>\n",
       "    <tr>\n",
       "      <th>1</th>\n",
       "      <td>再加水資80元與10服務費</td>\n",
       "      <td>[再加, 水資, 服務費]</td>\n",
       "      <td>[再加, 水資, 服務費]</td>\n",
       "    </tr>\n",
       "    <tr>\n",
       "      <th>2</th>\n",
       "      <td>2只開放轉讓</td>\n",
       "      <td>[開放, 轉讓, 開放, 轉讓, 開放, 轉讓, 開放, 轉讓]</td>\n",
       "      <td>[開放, 轉讓, 開放, 轉讓, 開放, 轉讓, 開放, 轉讓]</td>\n",
       "    </tr>\n",
       "    <tr>\n",
       "      <th>3</th>\n",
       "      <td>以下優先順序             1 214 2位 1945之...</td>\n",
       "      <td>[以下, 優先, 順序, 之後, 涮涮鍋, 訂位, 之後, 餐廳, 訂位, 無條件, 轉讓,...</td>\n",
       "      <td>[以下, 優先, 順序, 之後, 涮涮鍋, 訂位, 之後, 餐廳, 訂位, 無條件, 轉讓,...</td>\n",
       "    </tr>\n",
       "    <tr>\n",
       "      <th>4</th>\n",
       "      <td>各項均為必填資料</td>\n",
       "      <td>[各項, 必填, 資料]</td>\n",
       "      <td>[各項, 必填, 資料]</td>\n",
       "    </tr>\n",
       "  </tbody>\n",
       "</table>\n",
       "</div>"
      ],
      "text/plain": [
       "                                            sentence   \n",
       "0                         中午11301430             ...  \\\n",
       "1                                      再加水資80元與10服務費   \n",
       "2                                             2只開放轉讓   \n",
       "3               以下優先順序             1 214 2位 1945之...   \n",
       "4                                           各項均為必填資料   \n",
       "\n",
       "                                                word   \n",
       "0  [中午, 晚餐, 每人, 平均, 價位, 可否, 刷卡, 包廂, 推薦, 菜色, 版上, 發...  \\\n",
       "1                                      [再加, 水資, 服務費]   \n",
       "2                   [開放, 轉讓, 開放, 轉讓, 開放, 轉讓, 開放, 轉讓]   \n",
       "3  [以下, 優先, 順序, 之後, 涮涮鍋, 訂位, 之後, 餐廳, 訂位, 無條件, 轉讓,...   \n",
       "4                                       [各項, 必填, 資料]   \n",
       "\n",
       "                                   word_list_bigrams  \n",
       "0  [中午, 晚餐, 每人, 平均, 價位, 可否, 刷卡, 包廂, 推薦, 菜色, 版上, 發...  \n",
       "1                                      [再加, 水資, 服務費]  \n",
       "2                   [開放, 轉讓, 開放, 轉讓, 開放, 轉讓, 開放, 轉讓]  \n",
       "3  [以下, 優先, 順序, 之後, 涮涮鍋, 訂位, 之後, 餐廳, 訂位, 無條件, 轉讓,...  \n",
       "4                                       [各項, 必填, 資料]  "
      ]
     },
     "execution_count": 5,
     "metadata": {},
     "output_type": "execute_result"
    }
   ],
   "source": [
    "sents = metaData['word'].to_list()\n",
    "bigrams = Phrases(sents,min_count=1, threshold=1000)\n",
    "bigram_phrasers = Phraser(bigrams)\n",
    "metaData['word_list_bigrams'] = list(bigram_phrasers[sents])\n",
    "\n",
    "metaData.head()"
   ]
  },
  {
   "cell_type": "code",
   "execution_count": 6,
   "metadata": {},
   "outputs": [],
   "source": [
    "word_freq = defaultdict(int)\n",
    "# 計算詞頻\n",
    "sents = metaData['word_list_bigrams'].tolist()\n",
    "for sent in sents: # sent 中的每個句子\n",
    "    for i in sent: # i 是句子中的每個字\n",
    "        word_freq[i] += 1"
   ]
  },
  {
   "cell_type": "code",
   "execution_count": 7,
   "metadata": {},
   "outputs": [
    {
     "name": "stdout",
     "output_type": "stream",
     "text": [
      "total unique words in sentences: 32438\n"
     ]
    },
    {
     "data": {
      "text/plain": [
       "['時間', '餐廳', '地址', '消費', '電話', '口感', '價位', '好吃', '圖文', '推薦']"
      ]
     },
     "execution_count": 7,
     "metadata": {},
     "output_type": "execute_result"
    }
   ],
   "source": [
    "print(f\"total unique words in sentences: {len(word_freq)}\")\n",
    "sorted(word_freq, key=word_freq.get, reverse=True)[:10]"
   ]
  },
  {
   "cell_type": "code",
   "execution_count": 8,
   "metadata": {},
   "outputs": [
    {
     "name": "stdout",
     "output_type": "stream",
     "text": [
      "sentence number of corpus: 40676\n",
      "average length of sentences: 5.670518241715016\n"
     ]
    }
   ],
   "source": [
    "print(f\"sentence number of corpus: {len(sents)}\")\n",
    "i= 0\n",
    "for sent in sents:\n",
    "    i = i + len(sent)\n",
    "print(f\"average length of sentences: {i/len(sents)}\")"
   ]
  },
  {
   "cell_type": "markdown",
   "metadata": {},
   "source": [
    "Word2Vec 計算"
   ]
  },
  {
   "cell_type": "code",
   "execution_count": 9,
   "metadata": {},
   "outputs": [
    {
     "name": "stdout",
     "output_type": "stream",
     "text": [
      "env: PYTHONHASHSEED=8787\n"
     ]
    }
   ],
   "source": [
    "# 環境變數設定\n",
    "%env PYTHONHASHSEED=8787"
   ]
  },
  {
   "cell_type": "code",
   "execution_count": 10,
   "metadata": {},
   "outputs": [
    {
     "name": "stdout",
     "output_type": "stream",
     "text": [
      "number of cores: 16\n"
     ]
    }
   ],
   "source": [
    "# 查看機器的core\n",
    "cores = multiprocessing.cpu_count()\n",
    "print(f\"number of cores: {cores}\")"
   ]
  },
  {
   "cell_type": "code",
   "execution_count": 11,
   "metadata": {},
   "outputs": [],
   "source": [
    "# 建立模型\n",
    "w2v_model = Word2Vec(sents,\n",
    "                     min_count=30,# 小於30次tf的字會被刪除\n",
    "                     window=2,# 往左右各2的距離\n",
    "                     vector_size=128,# vector 的維度\n",
    "                     sample=0.005,# 愈小的話，高tf的字會不容易被選到\n",
    "                     alpha=0.001,# learning rate\n",
    "                     min_alpha=0.0005, # 迭代到最小的learning rate，learning rate會慢慢下降至min_alpha\n",
    "                    #  negative=20,\n",
    "                     workers=cores-1, # 用的cpu資源\n",
    "                     seed=8787,\n",
    "                     sg = 1,# 0/1 是否使用skip gram\n",
    "                     epochs= 30,\n",
    "                     hs=1 , # hierarchical softmax \n",
    "                     )"
   ]
  },
  {
   "cell_type": "markdown",
   "metadata": {},
   "source": [
    "查看結果"
   ]
  },
  {
   "cell_type": "code",
   "execution_count": 12,
   "metadata": {},
   "outputs": [
    {
     "data": {
      "text/plain": [
       "[('料理', 0.8275566101074219),\n",
       " ('鍋物', 0.8146036863327026),\n",
       " ('燒肉', 0.8129338026046753),\n",
       " ('早午餐', 0.8109743595123291),\n",
       " ('鐵板燒', 0.809908390045166),\n",
       " ('專賣店', 0.8042067289352417),\n",
       " ('咖啡廳', 0.7990747094154358),\n",
       " ('高雄', 0.7870111465454102),\n",
       " ('拉麵', 0.785632312297821),\n",
       " ('小吃', 0.7842945456504822)]"
      ]
     },
     "execution_count": 12,
     "metadata": {},
     "output_type": "execute_result"
    }
   ],
   "source": [
    "# 檢查最相關的字\n",
    "w2v_model.wv.most_similar('餐廳',topn=10)"
   ]
  },
  {
   "cell_type": "code",
   "execution_count": 13,
   "metadata": {},
   "outputs": [
    {
     "data": {
      "text/plain": [
       "[('鍋物', 0.9373326301574707),\n",
       " ('酒館', 0.936203122138977),\n",
       " ('廚房', 0.9223772883415222),\n",
       " ('居酒屋', 0.9193955063819885),\n",
       " ('Coffee', 0.9181528687477112),\n",
       " ('吃飯', 0.9102323651313782),\n",
       " ('燒肉', 0.9091059565544128),\n",
       " ('早餐', 0.9088218212127686),\n",
       " ('飯店', 0.9079596996307373),\n",
       " ('來到', 0.9077345132827759)]"
      ]
     },
     "execution_count": 13,
     "metadata": {},
     "output_type": "execute_result"
    }
   ],
   "source": [
    "w2v_model.wv.most_similar('咖啡廳',topn=10)"
   ]
  },
  {
   "cell_type": "code",
   "execution_count": 14,
   "metadata": {},
   "outputs": [
    {
     "data": {
      "text/plain": [
       "[('鍋物', 0.9235889315605164),\n",
       " ('燒肉', 0.9078280329704285),\n",
       " ('專賣店', 0.8982645273208618),\n",
       " ('早午餐', 0.8973844647407532),\n",
       " ('鐵板燒', 0.896811306476593),\n",
       " ('小吃', 0.8909664154052734),\n",
       " ('廚房', 0.8907731771469116),\n",
       " ('酒館', 0.8897709250450134),\n",
       " ('高雄', 0.8823962211608887),\n",
       " ('食堂', 0.8804399967193604)]"
      ]
     },
     "execution_count": 14,
     "metadata": {},
     "output_type": "execute_result"
    }
   ],
   "source": [
    "w2v_model.wv.most_similar(['咖啡廳','餐廳'],topn=10)"
   ]
  },
  {
   "cell_type": "code",
   "execution_count": 15,
   "metadata": {},
   "outputs": [
    {
     "data": {
      "text/plain": [
       "[('口感', -0.09432462602853775),\n",
       " ('酥脆', -0.13178667426109314),\n",
       " ('吃起來', -0.13989874720573425),\n",
       " ('香氣', -0.14996957778930664),\n",
       " ('肉質', -0.1940537989139557),\n",
       " ('一口', -0.19832998514175415),\n",
       " ('軟嫩', -0.20483270287513733),\n",
       " ('清爽', -0.2056044638156891),\n",
       " ('新鮮', -0.20612512528896332),\n",
       " ('帶有', -0.2074534296989441)]"
      ]
     },
     "execution_count": 15,
     "metadata": {},
     "output_type": "execute_result"
    }
   ],
   "source": [
    "w2v_model.wv.most_similar(negative=['咖啡廳','餐廳'],topn=10)"
   ]
  },
  {
   "cell_type": "code",
   "execution_count": 16,
   "metadata": {},
   "outputs": [
    {
     "data": {
      "text/plain": [
       "0.95705456"
      ]
     },
     "execution_count": 16,
     "metadata": {},
     "output_type": "execute_result"
    }
   ],
   "source": [
    "# 計算兩個字之間的關係\n",
    "w2v_model.wv.similarity(\"台北\",\"台南\")"
   ]
  },
  {
   "cell_type": "code",
   "execution_count": 17,
   "metadata": {},
   "outputs": [
    {
     "data": {
      "text/plain": [
       "0.910524"
      ]
     },
     "execution_count": 17,
     "metadata": {},
     "output_type": "execute_result"
    }
   ],
   "source": [
    "w2v_model.wv.similarity(\"口感\",\"香氣\")"
   ]
  },
  {
   "cell_type": "code",
   "execution_count": 18,
   "metadata": {},
   "outputs": [
    {
     "data": {
      "text/plain": [
       "'台北'"
      ]
     },
     "execution_count": 18,
     "metadata": {},
     "output_type": "execute_result"
    }
   ],
   "source": [
    "# 比較字詞間，誰最不相關（邊緣）\n",
    "w2v_model.wv.doesnt_match([\"口感\", \"香氣\", '台北'])"
   ]
  },
  {
   "cell_type": "code",
   "execution_count": 19,
   "metadata": {},
   "outputs": [
    {
     "data": {
      "text/plain": [
       "[('台南', 0.901310920715332),\n",
       " ('鐵板燒', 0.8821651935577393),\n",
       " ('食堂', 0.8756908774375916),\n",
       " ('店名', 0.8752586245536804),\n",
       " ('台中', 0.8645978569984436)]"
      ]
     },
     "execution_count": 19,
     "metadata": {},
     "output_type": "execute_result"
    }
   ],
   "source": [
    "# 相對關係\n",
    "w2v_model.wv.most_similar(positive=[\"台北\", \"口感\"], negative=[\"香氣\"], topn=5)"
   ]
  },
  {
   "cell_type": "code",
   "execution_count": 20,
   "metadata": {},
   "outputs": [],
   "source": [
    "# 取得所有的字\n",
    "words = w2v_model.wv.key_to_index.keys()"
   ]
  },
  {
   "cell_type": "markdown",
   "metadata": {},
   "source": [
    "視覺化字的關係及將自分群"
   ]
  },
  {
   "cell_type": "code",
   "execution_count": 70,
   "metadata": {},
   "outputs": [],
   "source": [
    "# 降維：利用PCA tSNE\n",
    "\n",
    "def reduceDim(mat,method:str='PCA',dim:str=2,perplexity = 25,learning_rate = 400):\n",
    "\n",
    "    method_dict = {\n",
    "        \"PCA\":PCA(n_components=dim,iterated_power = 1000,random_state=0),\n",
    "        \"TSEN\":TSNE(n_components=dim,random_state=0,perplexity=perplexity,learning_rate=learning_rate),\n",
    "    }\n",
    "    new_feat = method_dict[method].fit_transform(mat)\n",
    "    \n",
    "    return new_feat\n"
   ]
  },
  {
   "cell_type": "code",
   "execution_count": 71,
   "metadata": {},
   "outputs": [],
   "source": [
    "# 拿到list of words 的vector\n",
    "def getVecs(model,words:list):\n",
    "    vecs = []\n",
    "    for i in words:\n",
    "        vecs.append(model.wv[i])\n",
    "    return np.vstack(vecs)\n",
    "    "
   ]
  },
  {
   "cell_type": "code",
   "execution_count": 72,
   "metadata": {},
   "outputs": [
    {
     "data": {
      "text/plain": [
       "array([[-1.08974643e-01,  4.18679178e-01, -3.70367169e-01,\n",
       "         5.21069229e-01,  8.37716639e-01,  2.19686612e-01,\n",
       "         2.51884013e-01, -3.71761769e-01,  2.03503162e-01,\n",
       "        -3.68694097e-01,  4.86964583e-01, -3.54530573e-01,\n",
       "        -4.76362020e-01,  2.11047903e-01, -4.27896649e-01,\n",
       "         3.13590884e-01,  4.30471987e-01, -1.61063015e-01,\n",
       "         2.99921989e-01, -2.12335452e-01,  2.84610949e-02,\n",
       "         4.60236043e-01, -2.97347754e-01,  2.35425264e-01,\n",
       "        -4.88157749e-01,  6.13276139e-02,  6.95500756e-03,\n",
       "         4.12658930e-01, -2.33490933e-02, -8.89830664e-02,\n",
       "         4.16503549e-01,  3.18048686e-01,  3.44423890e-01,\n",
       "        -3.02581549e-01, -3.48727219e-02, -5.37953293e-03,\n",
       "         2.25675479e-01, -8.63607883e-01, -7.71734238e-01,\n",
       "        -3.41899306e-01,  1.22931615e-01,  9.99026895e-02,\n",
       "         2.66099632e-01,  2.35230803e-01, -3.41368645e-01,\n",
       "        -3.47375333e-01,  2.82305837e-01,  6.40308380e-01,\n",
       "         2.67963648e-01, -4.51743484e-01,  4.04515743e-01,\n",
       "        -4.17698354e-01,  1.21841714e-01,  9.45197940e-02,\n",
       "        -5.98787427e-01,  4.30604555e-02, -1.06705524e-01,\n",
       "         1.00526899e-01, -3.23045313e-01,  4.43717055e-02,\n",
       "         1.10658621e-02, -3.95225406e-01,  3.41027319e-01,\n",
       "         1.81207806e-02,  1.90959021e-01,  1.69268072e-01,\n",
       "        -3.58363390e-02, -4.41854224e-02,  3.05725038e-01,\n",
       "        -3.93329382e-01,  4.26932573e-02,  1.57156736e-01,\n",
       "        -4.09738757e-02,  2.14993075e-01,  1.92166120e-01,\n",
       "        -6.73869848e-01,  8.58588889e-03, -1.49540618e-01,\n",
       "         2.71689035e-02,  1.79092243e-01, -5.16795993e-01,\n",
       "        -2.01220885e-01,  5.11937678e-01,  4.08884138e-01,\n",
       "         2.67546117e-01, -1.67093575e-01, -6.68555379e-01,\n",
       "         2.35329643e-01,  2.85503775e-01, -1.50242418e-01,\n",
       "         4.31815743e-01,  1.75755545e-01, -2.90388346e-01,\n",
       "        -7.09157810e-02,  2.04248458e-01,  8.65788460e-02,\n",
       "        -2.40109302e-02, -1.35065615e-01,  1.03159145e-01,\n",
       "         1.11354537e-01,  3.08198810e-01,  3.39477330e-01,\n",
       "         5.45473099e-02, -2.16256291e-01,  3.30610067e-01,\n",
       "        -5.12185931e-01,  2.48128518e-01, -8.97076726e-03,\n",
       "         4.81550813e-01,  2.40111444e-02, -3.82193655e-01,\n",
       "        -3.81631911e-01, -1.20737098e-01, -2.04014927e-01,\n",
       "         1.94851346e-02, -2.61179097e-02,  6.87877685e-02,\n",
       "        -3.61044481e-02,  1.60306036e-01, -6.01203024e-01,\n",
       "        -4.69275385e-01,  3.23161572e-01, -5.51983789e-02,\n",
       "        -1.49870887e-01,  4.07821596e-01, -2.33055472e-01,\n",
       "        -3.73218209e-01,  5.53018332e-01],\n",
       "       [ 1.44175753e-01,  1.63839802e-01, -2.10732356e-01,\n",
       "         2.36297876e-01,  3.27931911e-01, -5.38144186e-02,\n",
       "         2.21256778e-01, -2.40610987e-01,  1.74571946e-01,\n",
       "        -2.16924906e-01,  6.28280789e-02, -3.38773549e-01,\n",
       "        -2.95189559e-01,  8.38679373e-02, -1.81135997e-01,\n",
       "         1.08181514e-01, -3.96314822e-02, -1.40484914e-01,\n",
       "         6.97243512e-02,  3.96617863e-04, -1.71100795e-01,\n",
       "         1.82762414e-01, -2.75552496e-02,  1.73364192e-01,\n",
       "        -8.92511159e-02,  1.68953851e-01, -5.73670082e-02,\n",
       "         9.73200947e-02,  1.10426843e-01, -1.47314802e-01,\n",
       "         8.63951370e-02,  1.67171225e-01,  1.58398170e-02,\n",
       "        -4.86633405e-02,  4.15033698e-02,  1.46109715e-01,\n",
       "         1.99023142e-01, -3.36953074e-01, -1.62043288e-01,\n",
       "        -1.72273830e-01,  1.76867381e-01,  1.02718644e-01,\n",
       "         5.75965717e-02, -3.26748602e-02, -1.02630161e-01,\n",
       "        -3.14284086e-01,  1.60792824e-02,  1.67113975e-01,\n",
       "         1.75522253e-01, -1.75114423e-01, -4.37128916e-02,\n",
       "        -1.09709665e-01, -2.05496266e-01, -1.42013341e-01,\n",
       "        -4.09628630e-01, -1.69854596e-01, -2.38537923e-01,\n",
       "        -7.07718283e-02, -7.20832869e-02, -1.12088598e-01,\n",
       "        -1.98094994e-01, -2.26657912e-01, -7.77417701e-03,\n",
       "        -1.79719999e-02,  3.45522016e-02, -4.95153181e-02,\n",
       "         9.29426104e-02, -2.89070532e-02,  2.33266875e-01,\n",
       "        -1.64291084e-01,  8.84729326e-02,  1.25221983e-01,\n",
       "         5.52800819e-02,  1.32716656e-01, -6.10545576e-02,\n",
       "        -2.22779751e-01, -7.66765624e-02, -3.13362241e-01,\n",
       "        -1.65000632e-01, -7.14098737e-02, -1.95406705e-01,\n",
       "         6.35025441e-04,  1.86778307e-01, -2.72642653e-02,\n",
       "         1.53038442e-01,  9.25210714e-02, -1.42396510e-01,\n",
       "        -1.45891076e-03,  1.46967530e-01,  1.61075622e-01,\n",
       "        -7.51154050e-02, -1.47606492e-01, -2.14023277e-01,\n",
       "         4.41444442e-02,  2.81119257e-01, -4.15895768e-02,\n",
       "        -1.38437957e-01,  5.84356673e-03,  1.17362782e-01,\n",
       "         2.37152070e-01,  1.17873430e-01,  4.16771024e-02,\n",
       "         2.32140645e-01, -1.82129323e-01,  1.28410295e-01,\n",
       "         2.22447868e-02,  6.34014532e-02,  4.00817282e-02,\n",
       "         2.63597310e-01, -1.73710778e-01, -6.96877241e-02,\n",
       "        -7.10850507e-02,  1.75316655e-03, -4.96960897e-03,\n",
       "         5.62913716e-02,  9.85176302e-03,  1.40544400e-02,\n",
       "        -1.92636028e-01,  3.68211977e-02, -2.01936767e-01,\n",
       "        -2.99301088e-01,  4.21611160e-01, -8.03612024e-02,\n",
       "        -1.85524914e-02,  4.54187617e-02, -2.31705960e-02,\n",
       "        -3.10817629e-01,  1.21228613e-01]], dtype=float32)"
      ]
     },
     "execution_count": 72,
     "metadata": {},
     "output_type": "execute_result"
    }
   ],
   "source": [
    "getVecs(w2v_model,['餐廳','美食'])"
   ]
  },
  {
   "cell_type": "code",
   "execution_count": 73,
   "metadata": {},
   "outputs": [],
   "source": [
    "# 擴展相似的字詞\n",
    "def expandPosWord(model,words:list,top_n:int,split = True):\n",
    "    \n",
    "    if split == False:\n",
    "        wp = model.wv.most_similar(words,topn = top_n)\n",
    "        return wp\n",
    "    expand = []\n",
    "    \n",
    "    for w in words:\n",
    "        wp = model.wv.most_similar(w,topn = top_n)\n",
    "        for i in wp:\n",
    "            expand.append(i[0])\n",
    "    return list(set(expand))\n"
   ]
  },
  {
   "cell_type": "code",
   "execution_count": 74,
   "metadata": {},
   "outputs": [
    {
     "data": {
      "text/plain": [
       "['高雄',\n",
       " '咖啡廳',\n",
       " '廚房',\n",
       " '鍋物',\n",
       " '來到',\n",
       " '專賣店',\n",
       " '小吃',\n",
       " '酒館',\n",
       " '居酒屋',\n",
       " '早午餐',\n",
       " 'Coffee',\n",
       " '拉麵',\n",
       " '鐵板燒',\n",
       " '料理',\n",
       " '吃飯',\n",
       " '飯店',\n",
       " '燒肉',\n",
       " '早餐']"
      ]
     },
     "execution_count": 74,
     "metadata": {},
     "output_type": "execute_result"
    }
   ],
   "source": [
    "expandPosWord(w2v_model,['餐廳','咖啡廳'],top_n = 10)"
   ]
  },
  {
   "cell_type": "code",
   "execution_count": 100,
   "metadata": {},
   "outputs": [],
   "source": [
    "from matplotlib.font_manager import fontManager\n",
    "import plotly.express as px\n",
    "# 畫出兩維的散佈圖\n",
    "def plotScatter(vec_df):\n",
    "    \"\"\"\n",
    "    vec_df: 字詞及其兩個維度的值\n",
    "    \"\"\"\n",
    "    plt.figure(figsize=(15,15))\n",
    "    fontManager.addfont('./raw_data/TaipeiSansTCBeta-Regular.ttf')\n",
    "    plt.rcParams['font.sans-serif'] = ['Taipei Sans TC Beta']\n",
    "    plt.rcParams['font.size'] = '16'\n",
    "    \n",
    "    p = sns.scatterplot(x=\"dim1\", y=\"dim2\", \n",
    "                  data=vec_df)\n",
    "    for line in range(0, vec_df.shape[0]):\n",
    "         p.text(vec_df[\"dim1\"][line],\n",
    "                 vec_df['dim2'][line],\n",
    "                 '  ' + vec_df[\"word\"][line].title(),\n",
    "                 horizontalalignment='left',\n",
    "                 verticalalignment='bottom', size='medium',\n",
    "                 weight='normal'\n",
    "                ).set_size(15)\n",
    "    plt.show()\n",
    "# 畫出三維的散佈圖\n",
    "def plotScatter3D(vec_df):\n",
    "    vec_df['size'] = .5\n",
    "    if 'color' not in vec_df.columns:\n",
    "        vec_df['color'] = 'blue'\n",
    "    fig = px.scatter_3d(\n",
    "        vec_df,'dim1','dim2','dim3',text = 'word',width=800, height=800,color = 'color',size = 'size'\n",
    "\n",
    "    )\n",
    "\n",
    "    fig.show()"
   ]
  },
  {
   "cell_type": "code",
   "execution_count": 76,
   "metadata": {},
   "outputs": [
    {
     "name": "stdout",
     "output_type": "stream",
     "text": [
      "(300, 128)\n",
      "(300, 2)\n"
     ]
    }
   ],
   "source": [
    "sample_words = np.random.choice(list(words),300,replace=False).tolist()\n",
    "\n",
    "feat = getVecs(model=w2v_model,words=sample_words)\n",
    "print(feat.shape)\n",
    "new_feat = reduceDim(feat,method='TSEN',perplexity=20,learning_rate = 800)\n",
    "print(new_feat.shape)"
   ]
  },
  {
   "cell_type": "code",
   "execution_count": 77,
   "metadata": {},
   "outputs": [],
   "source": [
    "word_df = pd.DataFrame({\n",
    "    \"word\":sample_words,\n",
    "    \"dim1\":new_feat[:,0],\n",
    "    \"dim2\":new_feat[:,1], \n",
    "})"
   ]
  },
  {
   "cell_type": "code",
   "execution_count": 78,
   "metadata": {},
   "outputs": [
    {
     "data": {
      "image/png": "[encoded data removed]",
      "text/plain": [
       "<Figure size 1500x1500 with 1 Axes>"
      ]
     },
     "metadata": {},
     "output_type": "display_data"
    }
   ],
   "source": [
    "plotScatter(word_df)"
   ]
  },
  {
   "cell_type": "code",
   "execution_count": 101,
   "metadata": {},
   "outputs": [
    {
     "name": "stdout",
     "output_type": "stream",
     "text": [
      "(300, 3)\n"
     ]
    },
    {
     "data": {
      "application/vnd.plotly.v1+json": {
       "config": {
        "plotlyServerURL": "https://plot.ly"
       },
       "data": [
        {
         "hovertemplate": "color=blue<br>dim1=%{x}<br>dim2=%{y}<br>dim3=%{z}<br>size=%{marker.size}<br>word=%{text}<extra></extra>",
         "legendgroup": "blue",
         "marker": {
          "color": "#636efa",
          "size": [
           0.5,
           0.5,
           0.5,
           0.5,
           0.5,
           0.5,
           0.5,
           0.5,
           0.5,
           0.5,
           0.5,
           0.5,
           0.5,
           0.5,
           0.5,
           0.5,
           0.5,
           0.5,
           0.5,
           0.5,
           0.5,
           0.5,
           0.5,
           0.5,
           0.5,
           0.5,
           0.5,
           0.5,
           0.5,
           0.5,
           0.5,
           0.5,
           0.5,
           0.5,
           0.5,
           0.5,
           0.5,
           0.5,
           0.5,
           0.5,
           0.5,
           0.5,
           0.5,
           0.5,
           0.5,
           0.5,
           0.5,
           0.5,
           0.5,
           0.5,
           0.5,
           0.5,
           0.5,
           0.5,
           0.5,
           0.5,
           0.5,
           0.5,
           0.5,
           0.5,
           0.5,
           0.5,
           0.5,
           0.5,
           0.5,
           0.5,
           0.5,
           0.5,
           0.5,
           0.5,
           0.5,
           0.5,
           0.5,
           0.5,
           0.5,
           0.5,
           0.5,
           0.5,
           0.5,
           0.5,
           0.5,
           0.5,
           0.5,
           0.5,
           0.5,
           0.5,
           0.5,
           0.5,
           0.5,
           0.5,
           0.5,
           0.5,
           0.5,
           0.5,
           0.5,
           0.5,
           0.5,
           0.5,
           0.5,
           0.5,
           0.5,
           0.5,
           0.5,
           0.5,
           0.5,
           0.5,
           0.5,
           0.5,
           0.5,
           0.5,
           0.5,
           0.5,
           0.5,
           0.5,
           0.5,
           0.5,
           0.5,
           0.5,
           0.5,
           0.5,
           0.5,
           0.5,
           0.5,
           0.5,
           0.5,
           0.5,
           0.5,
           0.5,
           0.5,
           0.5,
           0.5,
           0.5,
           0.5,
           0.5,
           0.5,
           0.5,
           0.5,
           0.5,
           0.5,
           0.5,
           0.5,
           0.5,
           0.5,
           0.5,
           0.5,
           0.5,
           0.5,
           0.5,
           0.5,
           0.5,
           0.5,
           0.5,
           0.5,
           0.5,
           0.5,
           0.5,
           0.5,
           0.5,
           0.5,
           0.5,
           0.5,
           0.5,
           0.5,
           0.5,
           0.5,
           0.5,
           0.5,
           0.5,
           0.5,
           0.5,
           0.5,
           0.5,
           0.5,
           0.5,
           0.5,
           0.5,
           0.5,
           0.5,
           0.5,
           0.5,
           0.5,
           0.5,
           0.5,
           0.5,
           0.5,
           0.5,
           0.5,
           0.5,
           0.5,
           0.5,
           0.5,
           0.5,
           0.5,
           0.5,
           0.5,
           0.5,
           0.5,
           0.5,
           0.5,
           0.5,
           0.5,
           0.5,
           0.5,
           0.5,
           0.5,
           0.5,
           0.5,
           0.5,
           0.5,
           0.5,
           0.5,
           0.5,
           0.5,
           0.5,
           0.5,
           0.5,
           0.5,
           0.5,
           0.5,
           0.5,
           0.5,
           0.5,
           0.5,
           0.5,
           0.5,
           0.5,
           0.5,
           0.5,
           0.5,
           0.5,
           0.5,
           0.5,
           0.5,
           0.5,
           0.5,
           0.5,
           0.5,
           0.5,
           0.5,
           0.5,
           0.5,
           0.5,
           0.5,
           0.5,
           0.5,
           0.5,
           0.5,
           0.5,
           0.5,
           0.5,
           0.5,
           0.5,
           0.5,
           0.5,
           0.5,
           0.5,
           0.5,
           0.5,
           0.5,
           0.5,
           0.5,
           0.5,
           0.5,
           0.5,
           0.5,
           0.5,
           0.5,
           0.5,
           0.5,
           0.5,
           0.5,
           0.5,
           0.5,
           0.5,
           0.5,
           0.5,
           0.5,
           0.5,
           0.5,
           0.5,
           0.5,
           0.5,
           0.5,
           0.5,
           0.5,
           0.5,
           0.5,
           0.5,
           0.5,
           0.5,
           0.5,
           0.5,
           0.5,
           0.5,
           0.5,
           0.5,
           0.5,
           0.5,
           0.5,
           0.5
          ],
          "sizemode": "area",
          "sizeref": 0.00125,
          "symbol": "circle"
         },
         "mode": "markers+text",
         "name": "blue",
         "scene": "scene",
         "showlegend": true,
         "text": [
          "剛剛",
          "可口",
          "Sent_from",
          "還蠻",
          "通常",
          "友人",
          "經典",
          "需求",
          "主打",
          "則是",
          "官網",
          "金沙",
          "一直",
          "台北",
          "中規中矩",
          "興趣",
          "桌子",
          "吐司",
          "感覺",
          "炸物",
          "之後",
          "壽星",
          "上菜",
          "前來",
          "這間",
          "四段",
          "風味",
          "菜盤",
          "冬粉",
          "濃湯",
          "厚度",
          "網誌",
          "肉醬",
          "排隊",
          "大腸",
          "鮮美",
          "週五",
          "適中",
          "工作",
          "一同",
          "行程",
          "小評",
          "吧檯",
          "親民",
          "魚肉",
          "真是",
          "風格",
          "自助餐",
          "感受",
          "豆漿",
          "誘人",
          "呈現",
          "豆干",
          "更換",
          "依然",
          "厚實",
          "可頌",
          "店員",
          "不到",
          "吸收",
          "冰品",
          "辣味",
          "北市",
          "取餐",
          "障礙",
          "市場",
          "產品",
          "古早味",
          "幾個",
          "拿到",
          "停車",
          "蘿蔔",
          "櫻桃",
          "自製",
          "蛋黃",
          "蕃茄",
          "相較",
          "人均",
          "出爐",
          "台南市_中西區",
          "差別",
          "拉麵",
          "注意_事項",
          "每個",
          "夜市",
          "食堂",
          "吃到飽",
          "很棒",
          "吃吃",
          "熱情",
          "清淡",
          "完全",
          "漂亮",
          "盤子",
          "香濃",
          "豬五花",
          "點餐",
          "下面",
          "種類",
          "濃郁",
          "帶有",
          "胡椒",
          "問題",
          "為主",
          "配菜",
          "滿足",
          "原來",
          "等候",
          "水餃",
          "北海道",
          "過癮",
          "微甜",
          "準備",
          "喝到",
          "丼飯",
          "飲料",
          "正常",
          "打卡",
          "台南",
          "詳細",
          "還算",
          "加點",
          "小吃",
          "十足",
          "伯爵",
          "時蔬",
          "主角",
          "價位",
          "火腿",
          "脆脆",
          "顆星",
          "花枝",
          "鮮蝦",
          "接近",
          "肉品",
          "不膩",
          "千層",
          "彈性",
          "胡麻",
          "清香",
          "高麗菜",
          "搭配",
          "奶香",
          "開車",
          "打包",
          "柴魚",
          "不用",
          "當天",
          "造型",
          "現烤",
          "做法",
          "服務費",
          "鴨血",
          "酸酸甜甜",
          "感到",
          "能夠",
          "牛排",
          "點心",
          "搭配上",
          "熱炒",
          "薯條",
          "JPTT_on",
          "老店",
          "人來",
          "爽脆",
          "附近",
          "即化",
          "也許",
          "濕潤",
          "明顯",
          "假日",
          "每日",
          "炙燒",
          "吸引",
          "不多",
          "好喝",
          "東京",
          "停車場",
          "南洋",
          "決定",
          "油花",
          "今天",
          "野菇",
          "櫃台",
          "鮮嫩",
          "雞腿肉",
          "找到",
          "師傅",
          "美乃滋",
          "主食",
          "午餐",
          "生食",
          "預算",
          "鴨肉",
          "經營",
          "幾次",
          "包廂",
          "內信",
          "親切",
          "披薩",
          "部位",
          "中文",
          "鵝肉",
          "沾醬",
          "六日",
          "法式",
          "考慮",
          "偏重",
          "三個",
          "甜甜圈",
          "宜蘭",
          "聊天",
          "開幕",
          "普通",
          "獨特",
          "只能",
          "特製",
          "選擇",
          "有加",
          "豐盛",
          "這份",
          "地瓜",
          "冷盤",
          "建築",
          "牛小排",
          "精緻",
          "清甜",
          "總共",
          "美味",
          "季節",
          "泡菜",
          "透過",
          "捲餅",
          "玉子燒",
          "中山北路",
          "西西里",
          "美食",
          "臭豆腐",
          "奶味",
          "生日",
          "依舊",
          "滷肉飯",
          "機會",
          "黑胡椒",
          "茶碗",
          "貓咪",
          "配料",
          "便宜",
          "本來",
          "品質",
          "容易",
          "便當",
          "洋蔥",
          "水準",
          "保留",
          "搭上",
          "要不要",
          "松阪豬",
          "No",
          "錯過",
          "果汁",
          "部分",
          "飲品",
          "吃來",
          "限時",
          "廚房",
          "焦糖",
          "變得",
          "東西",
          "類型",
          "香料",
          "週日",
          "影響",
          "過來",
          "一杯",
          "裡面",
          "小黃瓜",
          "老闆娘",
          "完美",
          "印象",
          "麻糬",
          "版請點",
          "歡迎",
          "質地",
          "爽口",
          "天然",
          "CP",
          "雞排",
          "提醒",
          "回訪",
          "苦味",
          "系列",
          "開胃",
          "放鬆",
          "肉圓",
          "香菇",
          "雞腿",
          "順便",
          "主菜",
          "美國"
         ],
         "type": "scatter3d",
         "x": [
          -0.12792053818702698,
          -0.7049791216850281,
          -0.2261171042919159,
          -0.8183930516242981,
          0.04134830832481384,
          0.13602782785892487,
          -0.3628784418106079,
          -0.046583544462919235,
          0.2555726170539856,
          -0.35424646735191345,
          1.0065315961837769,
          -0.24434472620487213,
          0.18282288312911987,
          0.9870116114616394,
          -0.3875156342983246,
          0.35270604491233826,
          0.08451556414365768,
          -0.27400296926498413,
          -0.4837994873523712,
          -0.10456660389900208,
          0.17707382142543793,
          0.3463234305381775,
          0.026834949851036072,
          0.2982610762119293,
          0.5406157374382019,
          1.9714936017990112,
          -0.9232237935066223,
          -0.17687280476093292,
          -0.08810584247112274,
          -0.4667847454547882,
          -0.737369954586029,
          2.1147704124450684,
          -0.4163798689842224,
          0.6672927737236023,
          -0.0267857126891613,
          -0.6699314713478088,
          2.723424196243286,
          -0.9405211806297302,
          0.32091519236564636,
          -0.48258376121520996,
          0.18015466630458832,
          0.15481780469417572,
          0.21077075600624084,
          0.2188728153705597,
          -0.4403318464756012,
          -0.24077646434307098,
          -0.046474143862724304,
          0.16408468782901764,
          -0.21329140663146973,
          0.3987152874469757,
          -0.4101639986038208,
          -0.3590606153011322,
          -0.27284348011016846,
          -0.031492769718170166,
          -0.37284162640571594,
          -0.7223882675170898,
          -0.41616812348365784,
          0.24985331296920776,
          0.14919687807559967,
          -0.6526309251785278,
          0.05268339812755585,
          -0.309747576713562,
          1.9621362686157227,
          0.19153718650341034,
          -0.06592299044132233,
          0.6237678527832031,
          0.026841457933187485,
          -0.07034322619438171,
          -0.04630933329463005,
          0.11172845214605331,
          0.9517833590507507,
          -0.6910843253135681,
          -0.2832936942577362,
          -0.2941448986530304,
          -0.5810315012931824,
          -0.5402421355247498,
          -0.2228764444589615,
          1.5960750579833984,
          -0.044115085154771805,
          1.548845648765564,
          -0.07009853422641754,
          0.05590367317199707,
          0.9470180869102478,
          0.26523667573928833,
          1.1057418584823608,
          0.5944273471832275,
          0.5590716004371643,
          -0.5500710010528564,
          0.049181729555130005,
          -0.06548455357551575,
          -0.7536075711250305,
          -0.5712858438491821,
          -0.3152165114879608,
          -0.14670489728450775,
          -0.5672203302383423,
          -0.142521932721138,
          0.8928087949752808,
          -0.26618221402168274,
          -0.14433209598064423,
          -1.5104484558105469,
          -1.4013667106628418,
          -0.4396352767944336,
          -0.06329797208309174,
          0.3254772126674652,
          -0.3075791299343109,
          -0.18181630969047546,
          0.06638392806053162,
          0.3300168216228485,
          -0.11616776883602142,
          -0.03950147330760956,
          -0.6873921751976013,
          -0.6032781600952148,
          0.175310879945755,
          -0.130305215716362,
          0.14525021612644196,
          -0.05157243087887764,
          -0.21229515969753265,
          0.09153987467288971,
          0.5675286054611206,
          1.5351852178573608,
          -0.38685280084609985,
          -0.07398712635040283,
          0.3400137424468994,
          -1.0709224939346313,
          -0.41307684779167175,
          -0.32807019352912903,
          -0.1387944370508194,
          2.8230440616607666,
          -0.4506770372390747,
          -0.7218920588493347,
          -0.2316741794347763,
          -0.5627796649932861,
          -0.33917543292045593,
          -0.07737310230731964,
          -0.40544864535331726,
          -0.5746843814849854,
          -0.41260889172554016,
          -1.2429877519607544,
          -0.39530059695243835,
          -0.8082097172737122,
          -0.7387722134590149,
          -0.8401608467102051,
          -0.6738957166671753,
          0.5953640937805176,
          -0.0792604312300682,
          -0.3500301241874695,
          -0.08413463085889816,
          0.4298282861709595,
          -0.12676051259040833,
          -0.06286607682704926,
          -0.3465414047241211,
          2.2785747051239014,
          -0.21819207072257996,
          -0.4602431058883667,
          -0.04294660687446594,
          -0.1337416172027588,
          0.2730218470096588,
          0.007983343675732613,
          -0.7435232400894165,
          0.1343938559293747,
          -0.3877992331981659,
          -0.12488123029470444,
          -0.036821648478507996,
          -0.00506499782204628,
          -0.8212625980377197,
          0.8379355669021606,
          -0.7360575199127197,
          -0.04178847745060921,
          -0.8469379544258118,
          -0.923141360282898,
          1.8063974380493164,
          1.2568726539611816,
          -0.4501691162586212,
          0.08125957101583481,
          0.2576751112937927,
          -0.5157939195632935,
          0.2488962858915329,
          1.3462164402008057,
          -0.1590331792831421,
          0.30163681507110596,
          -0.5345905423164368,
          0.14326660335063934,
          -0.2363050878047943,
          0.3015333414077759,
          -0.7283561825752258,
          -0.2804778814315796,
          0.2608744502067566,
          0.0785616859793663,
          -0.4070698618888855,
          -0.08420226722955704,
          1.4639889001846313,
          -0.20099565386772156,
          0.49058789014816284,
          -0.2999759316444397,
          0.1438625454902649,
          0.006245994009077549,
          2.682366371154785,
          0.32347390055656433,
          0.22452692687511444,
          -0.09860170632600784,
          -0.3450319468975067,
          0.8406182527542114,
          0.03560666739940643,
          -0.6410511136054993,
          1.6602907180786133,
          -0.15613338351249695,
          0.06354501843452454,
          -0.6227220892906189,
          0.3279305100440979,
          0.029997924342751503,
          0.4545280635356903,
          0.10675684362649918,
          0.3316044211387634,
          -0.5186952352523804,
          -0.6848579049110413,
          0.1827937662601471,
          -0.1651388257741928,
          -0.06860020756721497,
          -0.3216116428375244,
          -0.1954021006822586,
          -0.22002342343330383,
          -0.36031556129455566,
          -0.22276045382022858,
          -0.0053030564449727535,
          -0.20748023688793182,
          -0.03861374408006668,
          -0.8110403418540955,
          0.08502055704593658,
          -0.6033912301063538,
          -0.24759669601917267,
          -0.6171042919158936,
          0.3991013765335083,
          0.27165287733078003,
          -0.23806414008140564,
          1.3263911008834839,
          0.04108967259526253,
          0.8522553443908691,
          0.05813099443912506,
          -0.6247029900550842,
          0.23796865344047546,
          -0.20736369490623474,
          0.01176538411527872,
          0.26770588755607605,
          -0.34266674518585205,
          -0.23430265486240387,
          0.0561915747821331,
          -0.6311955451965332,
          0.2563125193119049,
          -0.06058809161186218,
          -0.41251593828201294,
          -0.31453654170036316,
          0.5922874808311462,
          -0.6037861108779907,
          -0.2809498906135559,
          -0.13406223058700562,
          -0.41436856985092163,
          -0.07979677617549896,
          -0.3438633978366852,
          1.4750031232833862,
          0.07154656201601028,
          -0.048124995082616806,
          -0.5542111396789551,
          0.3829393982887268,
          -0.37663519382476807,
          1.145738959312439,
          0.45248883962631226,
          -0.8849446773529053,
          -0.4224100410938263,
          -0.07649607956409454,
          -0.16427555680274963,
          -0.7411909103393555,
          3.9295761585235596,
          -0.3155538737773895,
          0.5251559615135193,
          0.7072991728782654,
          -0.6452908515930176,
          -0.4131094813346863,
          0.12722259759902954,
          -0.5446124076843262,
          -0.41452667117118835,
          -0.2712623178958893,
          2.4140236377716064,
          0.13112872838974,
          -0.5116406083106995,
          -0.5543458461761475,
          -0.5044577121734619,
          0.06886415928602219,
          0.32971319556236267,
          0.15521928668022156,
          0.04975828155875206,
          -0.439033180475235,
          0.04240487143397331,
          -0.9470669627189636,
          0.08571149408817291,
          0.2772636413574219,
          -0.38534900546073914,
          -0.35105013847351074,
          0.3226192593574524,
          -0.11756383627653122,
          -0.21055905520915985
         ],
         "y": [
          -0.0086174001917243,
          -0.11451591551303864,
          0.7230667471885681,
          -0.09132993966341019,
          -0.0500980019569397,
          -0.0764114186167717,
          0.06130553036928177,
          0.046944040805101395,
          -0.023286402225494385,
          0.3120536506175995,
          0.750910222530365,
          -0.07277385890483856,
          -0.07172133773565292,
          -1.1101675033569336,
          0.20099611580371857,
          0.038296107202768326,
          0.0007485635578632355,
          0.02333199791610241,
          -0.06423858553171158,
          0.15425071120262146,
          0.031073447316884995,
          0.008215729147195816,
          -0.12204261869192123,
          -0.08532572537660599,
          -0.41299712657928467,
          -1.3797876834869385,
          -0.05423058569431305,
          0.11856644600629807,
          -0.04938158020377159,
          0.32494455575942993,
          -0.023740801960229874,
          -0.011033251881599426,
          0.02563660405576229,
          -0.05907260254025459,
          -0.2774656414985657,
          -0.10782782733440399,
          0.13071885704994202,
          0.1158672645688057,
          -0.047193482518196106,
          -0.011008919216692448,
          0.004662793595343828,
          -0.7260604500770569,
          -0.0251629501581192,
          0.17931920289993286,
          -0.039553530514240265,
          -0.05336973816156387,
          -0.3606208562850952,
          -0.21544302999973297,
          -0.09597698599100113,
          0.10941263288259506,
          -0.058003079146146774,
          0.1957688182592392,
          0.20868945121765137,
          0.08987943828105927,
          -0.09674108773469925,
          -0.05423722788691521,
          -0.18544898927211761,
          0.3355988562107086,
          0.07368721812963486,
          0.026993360370397568,
          -0.03210802376270294,
          0.04906746372580528,
          -1.400863766670227,
          -0.03768383711576462,
          -0.06442318856716156,
          -0.8240731358528137,
          0.015389058738946915,
          -0.32403141260147095,
          0.026314925402402878,
          0.05085797980427742,
          0.24506036937236786,
          -0.0021073182579129934,
          -0.03153974935412407,
          -0.05267692729830742,
          0.16203007102012634,
          0.04312095791101456,
          -0.059437669813632965,
          -0.8514388203620911,
          -0.12294300645589828,
          -1.3247498273849487,
          0.061135463416576385,
          -0.5630536079406738,
          -0.13275910913944244,
          0.2278750091791153,
          -0.6352980136871338,
          -0.7721810340881348,
          -0.24477094411849976,
          -0.026218675076961517,
          0.11515761911869049,
          0.11688049882650375,
          0.2880506217479706,
          -0.06939076632261276,
          0.031159033998847008,
          -0.04451747611165047,
          0.0021683652885258198,
          -0.0494263730943203,
          0.6432210803031921,
          0.041427966207265854,
          0.30707284808158875,
          0.10589364171028137,
          -0.05804609879851341,
          0.05399836227297783,
          -0.13318096101284027,
          0.2068907618522644,
          0.14025545120239258,
          0.006398968864232302,
          -0.24666157364845276,
          0.039705000817775726,
          0.2490086555480957,
          -0.0007575195049867034,
          0.04881782829761505,
          0.04698772728443146,
          -0.12327810376882553,
          0.3189815878868103,
          -0.3206804394721985,
          0.6118789315223694,
          0.044878046959638596,
          -0.06280305236577988,
          -0.8337290287017822,
          -0.27083083987236023,
          0.2282460778951645,
          0.5508770942687988,
          -0.5411841869354248,
          -0.1414491981267929,
          0.1917593628168106,
          0.15263478457927704,
          -0.09186551719903946,
          2.050567865371704,
          0.007391204591840506,
          -0.11516249179840088,
          0.09437330067157745,
          0.3395001292228699,
          0.3801937997341156,
          -0.1629968285560608,
          0.21512621641159058,
          -0.06994669884443283,
          -0.09717883914709091,
          0.24703292548656464,
          -0.03868691623210907,
          0.2034296691417694,
          0.18671447038650513,
          0.25280940532684326,
          -0.04704566299915314,
          -0.11624862998723984,
          -0.025057485327124596,
          -0.028127288445830345,
          0.018512750044465065,
          0.22151221334934235,
          0.03446612507104874,
          -0.0562102273106575,
          -0.061069466173648834,
          1.3776347637176514,
          -0.5702179670333862,
          0.07829158008098602,
          -0.03037586435675621,
          0.08362717926502228,
          -0.5260297656059265,
          0.026866793632507324,
          0.2598433792591095,
          -0.2451208084821701,
          0.16281139850616455,
          0.7624871134757996,
          -0.3725084960460663,
          -0.03963776305317879,
          0.14999127388000488,
          -0.37885570526123047,
          -0.47513073682785034,
          0.08897291868925095,
          -0.027932744473218918,
          0.2694832980632782,
          0.10944060236215591,
          -0.02249780483543873,
          -0.0523066520690918,
          0.01180175505578518,
          0.10236857831478119,
          0.24962708353996277,
          -0.19620740413665771,
          0.06483560800552368,
          -0.20325765013694763,
          0.1802598237991333,
          -0.03776075690984726,
          0.0841769129037857,
          0.18961955606937408,
          0.032480258494615555,
          -0.2896919548511505,
          0.06341564655303955,
          -0.28120577335357666,
          -0.06366851925849915,
          -0.07876226305961609,
          0.328647643327713,
          -0.12880556285381317,
          0.05205676704645157,
          0.13717684149742126,
          -0.2353113889694214,
          -0.23280267417430878,
          -0.0746045708656311,
          1.7165699005126953,
          0.022166088223457336,
          0.3370499312877655,
          -0.3598329424858093,
          -0.02438211813569069,
          1.1534785032272339,
          -0.19441071152687073,
          -0.06762630492448807,
          -0.33674880862236023,
          -0.4863731563091278,
          -0.04149974137544632,
          0.21435298025608063,
          0.11814258247613907,
          -0.10284480452537537,
          -0.4197436571121216,
          0.0823342576622963,
          -0.1167396828532219,
          0.202877476811409,
          -0.0057862019166350365,
          0.22288431227207184,
          -0.07624039053916931,
          0.39057525992393494,
          0.08948074281215668,
          0.1216590628027916,
          -0.13493959605693817,
          0.07253902405500412,
          -0.03888092562556267,
          -0.12050733715295792,
          -0.08749991655349731,
          -0.1543985903263092,
          0.2767314612865448,
          0.11327920854091644,
          -0.12200651317834854,
          0.2584667205810547,
          0.0744316428899765,
          0.436550498008728,
          -0.11579753458499908,
          -0.10416244715452194,
          -1.332890510559082,
          0.12499944865703583,
          -0.5450669527053833,
          -1.0096291303634644,
          0.03497454896569252,
          -0.03168446570634842,
          0.021113451570272446,
          -0.32116439938545227,
          0.07098808884620667,
          0.021738838404417038,
          -0.012444188818335533,
          -0.13021981716156006,
          -0.042288560420274734,
          0.13812294602394104,
          0.15001393854618073,
          0.30672740936279297,
          -0.1742999106645584,
          -0.3309582471847534,
          0.12021523714065552,
          -0.048755764961242676,
          0.07193732261657715,
          -0.025781141594052315,
          -0.012193185277283192,
          -0.06581014394760132,
          1.9493513107299805,
          -0.021544963121414185,
          0.35318058729171753,
          0.3125297427177429,
          0.9876208305358887,
          -0.1705458015203476,
          1.1950170993804932,
          -0.7457061409950256,
          0.17578409612178802,
          -0.08182467520236969,
          -0.03910490870475769,
          0.01358823198825121,
          0.09340457618236542,
          0.3361312747001648,
          0.06406960636377335,
          0.0143983019515872,
          1.2464137077331543,
          0.09503839910030365,
          -0.002052248688414693,
          0.22991524636745453,
          0.035837940871715546,
          -0.013867676258087158,
          -0.21913699805736542,
          -1.345163345336914,
          -0.12834006547927856,
          -0.01115252636373043,
          -0.05980238690972328,
          0.10940273106098175,
          -0.17459961771965027,
          -0.01829725131392479,
          -0.11146954447031021,
          -0.19870787858963013,
          -0.04344158619642258,
          -0.019738629460334778,
          0.13429071009159088,
          0.009689966216683388,
          -0.531988799571991,
          -0.0586455762386322,
          -0.07994803041219711,
          0.10265742987394333,
          0.08877439051866531,
          0.030965911224484444
         ],
         "z": [
          0.012939372099936008,
          -0.025449516251683235,
          -0.5496358871459961,
          -0.15923288464546204,
          0.011134931817650795,
          0.07051879167556763,
          0.35512372851371765,
          0.06631715595722198,
          0.36191239953041077,
          0.010893958620727062,
          1.531903862953186,
          0.1429092288017273,
          0.08533947169780731,
          -0.09873168915510178,
          -0.2318529635667801,
          0.050027038902044296,
          -0.17580890655517578,
          0.260185569524765,
          -0.43053457140922546,
          0.18717125058174133,
          -0.01129149366170168,
          -0.20508356392383575,
          -0.10630268603563309,
          -0.20536266267299652,
          0.22015602886676788,
          -0.4551260471343994,
          -0.2968166768550873,
          -0.036098334938287735,
          0.04925798997282982,
          0.19187702238559723,
          -0.06904788315296173,
          1.2908207178115845,
          -0.0064645796082913876,
          -0.3332432806491852,
          0.2618439793586731,
          0.001624102471396327,
          -1.332431435585022,
          -0.22505883872509003,
          -0.47099292278289795,
          0.060869380831718445,
          -0.2702995240688324,
          -0.24243950843811035,
          0.05765048786997795,
          0.02379143051803112,
          -0.021725330501794815,
          -0.14334845542907715,
          -0.2178526371717453,
          -0.03171485289931297,
          -0.10780549049377441,
          0.08539538085460663,
          -0.06337141990661621,
          -0.06363256275653839,
          0.20229971408843994,
          0.00638685654848814,
          -0.012257246300578117,
          -0.010967188514769077,
          0.30466896295547485,
          0.14502079784870148,
          -0.058817166835069656,
          -0.09823045879602432,
          0.05656728893518448,
          0.0074632554315030575,
          -0.236240416765213,
          -0.22872842848300934,
          0.10183530300855637,
          -0.11309253424406052,
          0.16152212023735046,
          0.13046331703662872,
          0.012532788328826427,
          -0.042439185082912445,
          0.08182358741760254,
          0.11451840400695801,
          0.07384539395570755,
          0.00343438982963562,
          -0.23323433101177216,
          0.16129755973815918,
          0.08771254867315292,
          0.0038053200114518404,
          0.026895910501480103,
          -0.22432783246040344,
          0.04294370859861374,
          0.42785727977752686,
          -0.05206923931837082,
          -0.25357306003570557,
          -0.06139848753809929,
          0.04553082957863808,
          0.18460871279239655,
          -0.12881046533584595,
          0.1606292575597763,
          -0.01895825006067753,
          -0.26112034916877747,
          -0.8624416589736938,
          -0.2667571008205414,
          -0.01271054521203041,
          -0.0777713879942894,
          0.03945721313357353,
          -0.10674002766609192,
          -0.02056172303855419,
          0.0945056602358818,
          -0.23795728385448456,
          -0.20762062072753906,
          -0.08418341726064682,
          -0.011412524618208408,
          0.05642160028219223,
          0.16818886995315552,
          0.10370238870382309,
          -0.06464548408985138,
          -0.07959713786840439,
          0.2722409665584564,
          0.2495882213115692,
          -0.1368994563817978,
          -0.05558103695511818,
          0.07331959903240204,
          -0.1664309799671173,
          0.3886089324951172,
          -0.0655587837100029,
          0.12910784780979156,
          -0.08025091886520386,
          -0.0440860316157341,
          0.9413806200027466,
          -0.15030215680599213,
          0.21890147030353546,
          0.10631100833415985,
          -0.1673215627670288,
          0.0011195490369573236,
          0.0921621173620224,
          -0.012194686569273472,
          0.9932644367218018,
          0.216453418135643,
          -0.11924091726541519,
          0.2715078294277191,
          0.10519172996282578,
          0.3837973177433014,
          -0.20637451112270355,
          0.13167975842952728,
          0.03946477919816971,
          0.07671783119440079,
          -0.07284651696681976,
          -0.05885876342654228,
          -0.2639923691749573,
          0.3169315755367279,
          0.0034190185833722353,
          -0.12397383898496628,
          -0.07846109569072723,
          -0.03350939229130745,
          -0.007623205427080393,
          -0.22165167331695557,
          0.18051987886428833,
          0.2287282943725586,
          0.2133135199546814,
          0.017417114228010178,
          -0.620149552822113,
          0.10205195844173431,
          -0.15499620139598846,
          -0.1358107477426529,
          -0.16519704461097717,
          0.39162999391555786,
          -0.05630050599575043,
          0.037708427757024765,
          0.29173269867897034,
          0.2331656813621521,
          -0.3217427432537079,
          0.08332018554210663,
          -0.08588190376758575,
          -0.06744866818189621,
          0.06291968375444412,
          -0.12875908613204956,
          -0.12061819434165955,
          -0.1418427675962448,
          -0.2624552249908447,
          -0.9729364514350891,
          -0.2974698543548584,
          0.1865663081407547,
          0.031137272715568542,
          -0.18178732693195343,
          -0.2376936674118042,
          0.10253401100635529,
          0.044565752148628235,
          0.14943304657936096,
          0.007245110813528299,
          -0.009583069011569023,
          0.014464068226516247,
          -0.03952749818563461,
          -0.16452951729297638,
          -0.06520739942789078,
          0.07176512479782104,
          0.04816082864999771,
          -0.016948368400335312,
          0.0026680966839194298,
          0.11049410700798035,
          -0.9423154592514038,
          0.2359488159418106,
          -0.03137332946062088,
          0.31680184602737427,
          0.07111676782369614,
          -0.07983826100826263,
          2.5314078330993652,
          0.08877235651016235,
          -0.12063198536634445,
          0.24347497522830963,
          0.09118589013814926,
          0.9214504957199097,
          0.14764952659606934,
          0.028202731162309647,
          -0.3308298587799072,
          0.19832202792167664,
          0.02183247171342373,
          -0.147123783826828,
          -0.10403832048177719,
          0.32521748542785645,
          -0.010115659795701504,
          -0.14645521342754364,
          -0.0386001281440258,
          0.1123715192079544,
          -0.11393003910779953,
          -0.05214524269104004,
          0.23557382822036743,
          0.08605258166790009,
          -0.05288051441311836,
          -0.004201126750558615,
          0.29284292459487915,
          0.08380191773176193,
          -0.008116480894386768,
          -0.1067860871553421,
          0.14666520059108734,
          -0.012153821997344494,
          -0.1683831810951233,
          -0.06771570444107056,
          0.030755558982491493,
          0.30829644203186035,
          0.39023059606552124,
          0.2634128928184509,
          0.3138028383255005,
          0.07771923393011093,
          -0.4078175127506256,
          -0.19149775803089142,
          0.376990407705307,
          0.20333008468151093,
          -0.1512279361486435,
          -0.1771213412284851,
          -0.05945173650979996,
          0.1571538895368576,
          -0.16364260017871857,
          -0.04341745749115944,
          0.03407025337219238,
          -0.15866371989250183,
          -0.06376513838768005,
          -0.08186736702919006,
          0.004916122183203697,
          -0.17841805517673492,
          -0.14684684574604034,
          0.12401578575372696,
          0.15226352214813232,
          0.012684140354394913,
          0.16596359014511108,
          -0.042760975658893585,
          -0.08852564543485641,
          0.0771971046924591,
          -1.4520236253738403,
          0.004356412682682276,
          -0.06584060937166214,
          0.21612702310085297,
          -0.3596062958240509,
          -0.10126350820064545,
          -1.0692706108093262,
          -0.03842674568295479,
          0.08884482085704803,
          -0.14010092616081238,
          -0.17485873401165009,
          -0.07775438576936722,
          0.01735573261976242,
          -1.3600269556045532,
          -0.20928239822387695,
          -0.15088719129562378,
          -1.0333360433578491,
          -0.0016139446524903178,
          -0.019776083528995514,
          -0.08387819677591324,
          -0.10304874181747437,
          0.16933786869049072,
          0.425933837890625,
          0.9707729816436768,
          -0.22056061029434204,
          -0.14022351801395416,
          -0.11279469728469849,
          -0.06893974542617798,
          0.11090980470180511,
          0.3784479796886444,
          -0.013307958841323853,
          0.008276699110865593,
          -0.12144830077886581,
          0.358658105134964,
          -0.03986383602023125,
          -0.2742065489292145,
          0.16306880116462708,
          0.04381091520190239,
          0.38175690174102783,
          0.0449875183403492,
          0.17119738459587097,
          0.4468105435371399
         ]
        }
       ],
       "layout": {
        "height": 800,
        "legend": {
         "itemsizing": "constant",
         "title": {
          "text": "color"
         },
         "tracegroupgap": 0
        },
        "margin": {
         "t": 60
        },
        "scene": {
         "domain": {
          "x": [
           0,
           1
          ],
          "y": [
           0,
           1
          ]
         },
         "xaxis": {
          "title": {
           "text": "dim1"
          }
         },
         "yaxis": {
          "title": {
           "text": "dim2"
          }
         },
         "zaxis": {
          "title": {
           "text": "dim3"
          }
         }
        },
        "template": {
         "data": {
          "bar": [
           {
            "error_x": {
             "color": "#2a3f5f"
            },
            "error_y": {
             "color": "#2a3f5f"
            },
            "marker": {
             "line": {
              "color": "#E5ECF6",
              "width": 0.5
             },
             "pattern": {
              "fillmode": "overlay",
              "size": 10,
              "solidity": 0.2
             }
            },
            "type": "bar"
           }
          ],
          "barpolar": [
           {
            "marker": {
             "line": {
              "color": "#E5ECF6",
              "width": 0.5
             },
             "pattern": {
              "fillmode": "overlay",
              "size": 10,
              "solidity": 0.2
             }
            },
            "type": "barpolar"
           }
          ],
          "carpet": [
           {
            "aaxis": {
             "endlinecolor": "#2a3f5f",
             "gridcolor": "white",
             "linecolor": "white",
             "minorgridcolor": "white",
             "startlinecolor": "#2a3f5f"
            },
            "baxis": {
             "endlinecolor": "#2a3f5f",
             "gridcolor": "white",
             "linecolor": "white",
             "minorgridcolor": "white",
             "startlinecolor": "#2a3f5f"
            },
            "type": "carpet"
           }
          ],
          "choropleth": [
           {
            "colorbar": {
             "outlinewidth": 0,
             "ticks": ""
            },
            "type": "choropleth"
           }
          ],
          "contour": [
           {
            "colorbar": {
             "outlinewidth": 0,
             "ticks": ""
            },
            "colorscale": [
             [
              0,
              "#0d0887"
             ],
             [
              0.1111111111111111,
              "#46039f"
             ],
             [
              0.2222222222222222,
              "#7201a8"
             ],
             [
              0.3333333333333333,
              "#9c179e"
             ],
             [
              0.4444444444444444,
              "#bd3786"
             ],
             [
              0.5555555555555556,
              "#d8576b"
             ],
             [
              0.6666666666666666,
              "#ed7953"
             ],
             [
              0.7777777777777778,
              "#fb9f3a"
             ],
             [
              0.8888888888888888,
              "#fdca26"
             ],
             [
              1,
              "#f0f921"
             ]
            ],
            "type": "contour"
           }
          ],
          "contourcarpet": [
           {
            "colorbar": {
             "outlinewidth": 0,
             "ticks": ""
            },
            "type": "contourcarpet"
           }
          ],
          "heatmap": [
           {
            "colorbar": {
             "outlinewidth": 0,
             "ticks": ""
            },
            "colorscale": [
             [
              0,
              "#0d0887"
             ],
             [
              0.1111111111111111,
              "#46039f"
             ],
             [
              0.2222222222222222,
              "#7201a8"
             ],
             [
              0.3333333333333333,
              "#9c179e"
             ],
             [
              0.4444444444444444,
              "#bd3786"
             ],
             [
              0.5555555555555556,
              "#d8576b"
             ],
             [
              0.6666666666666666,
              "#ed7953"
             ],
             [
              0.7777777777777778,
              "#fb9f3a"
             ],
             [
              0.8888888888888888,
              "#fdca26"
             ],
             [
              1,
              "#f0f921"
             ]
            ],
            "type": "heatmap"
           }
          ],
          "heatmapgl": [
           {
            "colorbar": {
             "outlinewidth": 0,
             "ticks": ""
            },
            "colorscale": [
             [
              0,
              "#0d0887"
             ],
             [
              0.1111111111111111,
              "#46039f"
             ],
             [
              0.2222222222222222,
              "#7201a8"
             ],
             [
              0.3333333333333333,
              "#9c179e"
             ],
             [
              0.4444444444444444,
              "#bd3786"
             ],
             [
              0.5555555555555556,
              "#d8576b"
             ],
             [
              0.6666666666666666,
              "#ed7953"
             ],
             [
              0.7777777777777778,
              "#fb9f3a"
             ],
             [
              0.8888888888888888,
              "#fdca26"
             ],
             [
              1,
              "#f0f921"
             ]
            ],
            "type": "heatmapgl"
           }
          ],
          "histogram": [
           {
            "marker": {
             "pattern": {
              "fillmode": "overlay",
              "size": 10,
              "solidity": 0.2
             }
            },
            "type": "histogram"
           }
          ],
          "histogram2d": [
           {
            "colorbar": {
             "outlinewidth": 0,
             "ticks": ""
            },
            "colorscale": [
             [
              0,
              "#0d0887"
             ],
             [
              0.1111111111111111,
              "#46039f"
             ],
             [
              0.2222222222222222,
              "#7201a8"
             ],
             [
              0.3333333333333333,
              "#9c179e"
             ],
             [
              0.4444444444444444,
              "#bd3786"
             ],
             [
              0.5555555555555556,
              "#d8576b"
             ],
             [
              0.6666666666666666,
              "#ed7953"
             ],
             [
              0.7777777777777778,
              "#fb9f3a"
             ],
             [
              0.8888888888888888,
              "#fdca26"
             ],
             [
              1,
              "#f0f921"
             ]
            ],
            "type": "histogram2d"
           }
          ],
          "histogram2dcontour": [
           {
            "colorbar": {
             "outlinewidth": 0,
             "ticks": ""
            },
            "colorscale": [
             [
              0,
              "#0d0887"
             ],
             [
              0.1111111111111111,
              "#46039f"
             ],
             [
              0.2222222222222222,
              "#7201a8"
             ],
             [
              0.3333333333333333,
              "#9c179e"
             ],
             [
              0.4444444444444444,
              "#bd3786"
             ],
             [
              0.5555555555555556,
              "#d8576b"
             ],
             [
              0.6666666666666666,
              "#ed7953"
             ],
             [
              0.7777777777777778,
              "#fb9f3a"
             ],
             [
              0.8888888888888888,
              "#fdca26"
             ],
             [
              1,
              "#f0f921"
             ]
            ],
            "type": "histogram2dcontour"
           }
          ],
          "mesh3d": [
           {
            "colorbar": {
             "outlinewidth": 0,
             "ticks": ""
            },
            "type": "mesh3d"
           }
          ],
          "parcoords": [
           {
            "line": {
             "colorbar": {
              "outlinewidth": 0,
              "ticks": ""
             }
            },
            "type": "parcoords"
           }
          ],
          "pie": [
           {
            "automargin": true,
            "type": "pie"
           }
          ],
          "scatter": [
           {
            "fillpattern": {
             "fillmode": "overlay",
             "size": 10,
             "solidity": 0.2
            },
            "type": "scatter"
           }
          ],
          "scatter3d": [
           {
            "line": {
             "colorbar": {
              "outlinewidth": 0,
              "ticks": ""
             }
            },
            "marker": {
             "colorbar": {
              "outlinewidth": 0,
              "ticks": ""
             }
            },
            "type": "scatter3d"
           }
          ],
          "scattercarpet": [
           {
            "marker": {
             "colorbar": {
              "outlinewidth": 0,
              "ticks": ""
             }
            },
            "type": "scattercarpet"
           }
          ],
          "scattergeo": [
           {
            "marker": {
             "colorbar": {
              "outlinewidth": 0,
              "ticks": ""
             }
            },
            "type": "scattergeo"
           }
          ],
          "scattergl": [
           {
            "marker": {
             "colorbar": {
              "outlinewidth": 0,
              "ticks": ""
             }
            },
            "type": "scattergl"
           }
          ],
          "scattermapbox": [
           {
            "marker": {
             "colorbar": {
              "outlinewidth": 0,
              "ticks": ""
             }
            },
            "type": "scattermapbox"
           }
          ],
          "scatterpolar": [
           {
            "marker": {
             "colorbar": {
              "outlinewidth": 0,
              "ticks": ""
             }
            },
            "type": "scatterpolar"
           }
          ],
          "scatterpolargl": [
           {
            "marker": {
             "colorbar": {
              "outlinewidth": 0,
              "ticks": ""
             }
            },
            "type": "scatterpolargl"
           }
          ],
          "scatterternary": [
           {
            "marker": {
             "colorbar": {
              "outlinewidth": 0,
              "ticks": ""
             }
            },
            "type": "scatterternary"
           }
          ],
          "surface": [
           {
            "colorbar": {
             "outlinewidth": 0,
             "ticks": ""
            },
            "colorscale": [
             [
              0,
              "#0d0887"
             ],
             [
              0.1111111111111111,
              "#46039f"
             ],
             [
              0.2222222222222222,
              "#7201a8"
             ],
             [
              0.3333333333333333,
              "#9c179e"
             ],
             [
              0.4444444444444444,
              "#bd3786"
             ],
             [
              0.5555555555555556,
              "#d8576b"
             ],
             [
              0.6666666666666666,
              "#ed7953"
             ],
             [
              0.7777777777777778,
              "#fb9f3a"
             ],
             [
              0.8888888888888888,
              "#fdca26"
             ],
             [
              1,
              "#f0f921"
             ]
            ],
            "type": "surface"
           }
          ],
          "table": [
           {
            "cells": {
             "fill": {
              "color": "#EBF0F8"
             },
             "line": {
              "color": "white"
             }
            },
            "header": {
             "fill": {
              "color": "#C8D4E3"
             },
             "line": {
              "color": "white"
             }
            },
            "type": "table"
           }
          ]
         },
         "layout": {
          "annotationdefaults": {
           "arrowcolor": "#2a3f5f",
           "arrowhead": 0,
           "arrowwidth": 1
          },
          "autotypenumbers": "strict",
          "coloraxis": {
           "colorbar": {
            "outlinewidth": 0,
            "ticks": ""
           }
          },
          "colorscale": {
           "diverging": [
            [
             0,
             "#8e0152"
            ],
            [
             0.1,
             "#c51b7d"
            ],
            [
             0.2,
             "#de77ae"
            ],
            [
             0.3,
             "#f1b6da"
            ],
            [
             0.4,
             "#fde0ef"
            ],
            [
             0.5,
             "#f7f7f7"
            ],
            [
             0.6,
             "#e6f5d0"
            ],
            [
             0.7,
             "#b8e186"
            ],
            [
             0.8,
             "#7fbc41"
            ],
            [
             0.9,
             "#4d9221"
            ],
            [
             1,
             "#276419"
            ]
           ],
           "sequential": [
            [
             0,
             "#0d0887"
            ],
            [
             0.1111111111111111,
             "#46039f"
            ],
            [
             0.2222222222222222,
             "#7201a8"
            ],
            [
             0.3333333333333333,
             "#9c179e"
            ],
            [
             0.4444444444444444,
             "#bd3786"
            ],
            [
             0.5555555555555556,
             "#d8576b"
            ],
            [
             0.6666666666666666,
             "#ed7953"
            ],
            [
             0.7777777777777778,
             "#fb9f3a"
            ],
            [
             0.8888888888888888,
             "#fdca26"
            ],
            [
             1,
             "#f0f921"
            ]
           ],
           "sequentialminus": [
            [
             0,
             "#0d0887"
            ],
            [
             0.1111111111111111,
             "#46039f"
            ],
            [
             0.2222222222222222,
             "#7201a8"
            ],
            [
             0.3333333333333333,
             "#9c179e"
            ],
            [
             0.4444444444444444,
             "#bd3786"
            ],
            [
             0.5555555555555556,
             "#d8576b"
            ],
            [
             0.6666666666666666,
             "#ed7953"
            ],
            [
             0.7777777777777778,
             "#fb9f3a"
            ],
            [
             0.8888888888888888,
             "#fdca26"
            ],
            [
             1,
             "#f0f921"
            ]
           ]
          },
          "colorway": [
           "#636efa",
           "#EF553B",
           "#00cc96",
           "#ab63fa",
           "#FFA15A",
           "#19d3f3",
           "#FF6692",
           "#B6E880",
           "#FF97FF",
           "#FECB52"
          ],
          "font": {
           "color": "#2a3f5f"
          },
          "geo": {
           "bgcolor": "white",
           "lakecolor": "white",
           "landcolor": "#E5ECF6",
           "showlakes": true,
           "showland": true,
           "subunitcolor": "white"
          },
          "hoverlabel": {
           "align": "left"
          },
          "hovermode": "closest",
          "mapbox": {
           "style": "light"
          },
          "paper_bgcolor": "white",
          "plot_bgcolor": "#E5ECF6",
          "polar": {
           "angularaxis": {
            "gridcolor": "white",
            "linecolor": "white",
            "ticks": ""
           },
           "bgcolor": "#E5ECF6",
           "radialaxis": {
            "gridcolor": "white",
            "linecolor": "white",
            "ticks": ""
           }
          },
          "scene": {
           "xaxis": {
            "backgroundcolor": "#E5ECF6",
            "gridcolor": "white",
            "gridwidth": 2,
            "linecolor": "white",
            "showbackground": true,
            "ticks": "",
            "zerolinecolor": "white"
           },
           "yaxis": {
            "backgroundcolor": "#E5ECF6",
            "gridcolor": "white",
            "gridwidth": 2,
            "linecolor": "white",
            "showbackground": true,
            "ticks": "",
            "zerolinecolor": "white"
           },
           "zaxis": {
            "backgroundcolor": "#E5ECF6",
            "gridcolor": "white",
            "gridwidth": 2,
            "linecolor": "white",
            "showbackground": true,
            "ticks": "",
            "zerolinecolor": "white"
           }
          },
          "shapedefaults": {
           "line": {
            "color": "#2a3f5f"
           }
          },
          "ternary": {
           "aaxis": {
            "gridcolor": "white",
            "linecolor": "white",
            "ticks": ""
           },
           "baxis": {
            "gridcolor": "white",
            "linecolor": "white",
            "ticks": ""
           },
           "bgcolor": "#E5ECF6",
           "caxis": {
            "gridcolor": "white",
            "linecolor": "white",
            "ticks": ""
           }
          },
          "title": {
           "x": 0.05
          },
          "xaxis": {
           "automargin": true,
           "gridcolor": "white",
           "linecolor": "white",
           "ticks": "",
           "title": {
            "standoff": 15
           },
           "zerolinecolor": "white",
           "zerolinewidth": 2
          },
          "yaxis": {
           "automargin": true,
           "gridcolor": "white",
           "linecolor": "white",
           "ticks": "",
           "title": {
            "standoff": 15
           },
           "zerolinecolor": "white",
           "zerolinewidth": 2
          }
         }
        },
        "width": 800
       }
      },
      "text/html": [
       "<div>                            <div id=\"80f9ff43-b3da-4d76-b4ba-4ecda2fa29f0\" class=\"plotly-graph-div\" style=\"height:800px; width:800px;\"></div>            <script type=\"text/javascript\">                require([\"plotly\"], function(Plotly) {                    window.PLOTLYENV=window.PLOTLYENV || {};                                    if (document.getElementById(\"80f9ff43-b3da-4d76-b4ba-4ecda2fa29f0\")) {                    Plotly.newPlot(                        \"80f9ff43-b3da-4d76-b4ba-4ecda2fa29f0\",                        [{\"hovertemplate\":\"color=blue<br>dim1=%{x}<br>dim2=%{y}<br>dim3=%{z}<br>size=%{marker.size}<br>word=%{text}<extra></extra>\",\"legendgroup\":\"blue\",\"marker\":{\"color\":\"#636efa\",\"size\":[0.5,0.5,0.5,0.5,0.5,0.5,0.5,0.5,0.5,0.5,0.5,0.5,0.5,0.5,0.5,0.5,0.5,0.5,0.5,0.5,0.5,0.5,0.5,0.5,0.5,0.5,0.5,0.5,0.5,0.5,0.5,0.5,0.5,0.5,0.5,0.5,0.5,0.5,0.5,0.5,0.5,0.5,0.5,0.5,0.5,0.5,0.5,0.5,0.5,0.5,0.5,0.5,0.5,0.5,0.5,0.5,0.5,0.5,0.5,0.5,0.5,0.5,0.5,0.5,0.5,0.5,0.5,0.5,0.5,0.5,0.5,0.5,0.5,0.5,0.5,0.5,0.5,0.5,0.5,0.5,0.5,0.5,0.5,0.5,0.5,0.5,0.5,0.5,0.5,0.5,0.5,0.5,0.5,0.5,0.5,0.5,0.5,0.5,0.5,0.5,0.5,0.5,0.5,0.5,0.5,0.5,0.5,0.5,0.5,0.5,0.5,0.5,0.5,0.5,0.5,0.5,0.5,0.5,0.5,0.5,0.5,0.5,0.5,0.5,0.5,0.5,0.5,0.5,0.5,0.5,0.5,0.5,0.5,0.5,0.5,0.5,0.5,0.5,0.5,0.5,0.5,0.5,0.5,0.5,0.5,0.5,0.5,0.5,0.5,0.5,0.5,0.5,0.5,0.5,0.5,0.5,0.5,0.5,0.5,0.5,0.5,0.5,0.5,0.5,0.5,0.5,0.5,0.5,0.5,0.5,0.5,0.5,0.5,0.5,0.5,0.5,0.5,0.5,0.5,0.5,0.5,0.5,0.5,0.5,0.5,0.5,0.5,0.5,0.5,0.5,0.5,0.5,0.5,0.5,0.5,0.5,0.5,0.5,0.5,0.5,0.5,0.5,0.5,0.5,0.5,0.5,0.5,0.5,0.5,0.5,0.5,0.5,0.5,0.5,0.5,0.5,0.5,0.5,0.5,0.5,0.5,0.5,0.5,0.5,0.5,0.5,0.5,0.5,0.5,0.5,0.5,0.5,0.5,0.5,0.5,0.5,0.5,0.5,0.5,0.5,0.5,0.5,0.5,0.5,0.5,0.5,0.5,0.5,0.5,0.5,0.5,0.5,0.5,0.5,0.5,0.5,0.5,0.5,0.5,0.5,0.5,0.5,0.5,0.5,0.5,0.5,0.5,0.5,0.5,0.5,0.5,0.5,0.5,0.5,0.5,0.5,0.5,0.5,0.5,0.5,0.5,0.5,0.5,0.5,0.5,0.5,0.5,0.5,0.5,0.5,0.5,0.5,0.5,0.5,0.5,0.5,0.5,0.5,0.5,0.5],\"sizemode\":\"area\",\"sizeref\":0.00125,\"symbol\":\"circle\"},\"mode\":\"markers+text\",\"name\":\"blue\",\"scene\":\"scene\",\"showlegend\":true,\"text\":[\"\\u525b\\u525b\",\"\\u53ef\\u53e3\",\"Sent_from\",\"\\u9084\\u883b\",\"\\u901a\\u5e38\",\"\\u53cb\\u4eba\",\"\\u7d93\\u5178\",\"\\u9700\\u6c42\",\"\\u4e3b\\u6253\",\"\\u5247\\u662f\",\"\\u5b98\\u7db2\",\"\\u91d1\\u6c99\",\"\\u4e00\\u76f4\",\"\\u53f0\\u5317\",\"\\u4e2d\\u898f\\u4e2d\\u77e9\",\"\\u8208\\u8da3\",\"\\u684c\\u5b50\",\"\\u5410\\u53f8\",\"\\u611f\\u89ba\",\"\\u70b8\\u7269\",\"\\u4e4b\\u5f8c\",\"\\u58fd\\u661f\",\"\\u4e0a\\u83dc\",\"\\u524d\\u4f86\",\"\\u9019\\u9593\",\"\\u56db\\u6bb5\",\"\\u98a8\\u5473\",\"\\u83dc\\u76e4\",\"\\u51ac\\u7c89\",\"\\u6fc3\\u6e6f\",\"\\u539a\\u5ea6\",\"\\u7db2\\u8a8c\",\"\\u8089\\u91ac\",\"\\u6392\\u968a\",\"\\u5927\\u8178\",\"\\u9bae\\u7f8e\",\"\\u9031\\u4e94\",\"\\u9069\\u4e2d\",\"\\u5de5\\u4f5c\",\"\\u4e00\\u540c\",\"\\u884c\\u7a0b\",\"\\u5c0f\\u8a55\",\"\\u5427\\u6aaf\",\"\\u89aa\\u6c11\",\"\\u9b5a\\u8089\",\"\\u771f\\u662f\",\"\\u98a8\\u683c\",\"\\u81ea\\u52a9\\u9910\",\"\\u611f\\u53d7\",\"\\u8c46\\u6f3f\",\"\\u8a98\\u4eba\",\"\\u5448\\u73fe\",\"\\u8c46\\u5e72\",\"\\u66f4\\u63db\",\"\\u4f9d\\u7136\",\"\\u539a\\u5be6\",\"\\u53ef\\u980c\",\"\\u5e97\\u54e1\",\"\\u4e0d\\u5230\",\"\\u5438\\u6536\",\"\\u51b0\\u54c1\",\"\\u8fa3\\u5473\",\"\\u5317\\u5e02\",\"\\u53d6\\u9910\",\"\\u969c\\u7919\",\"\\u5e02\\u5834\",\"\\u7522\\u54c1\",\"\\u53e4\\u65e9\\u5473\",\"\\u5e7e\\u500b\",\"\\u62ff\\u5230\",\"\\u505c\\u8eca\",\"\\u863f\\u8514\",\"\\u6afb\\u6843\",\"\\u81ea\\u88fd\",\"\\u86cb\\u9ec3\",\"\\u8543\\u8304\",\"\\u76f8\\u8f03\",\"\\u4eba\\u5747\",\"\\u51fa\\u7210\",\"\\u53f0\\u5357\\u5e02_\\u4e2d\\u897f\\u5340\",\"\\u5dee\\u5225\",\"\\u62c9\\u9eb5\",\"\\u6ce8\\u610f_\\u4e8b\\u9805\",\"\\u6bcf\\u500b\",\"\\u591c\\u5e02\",\"\\u98df\\u5802\",\"\\u5403\\u5230\\u98fd\",\"\\u5f88\\u68d2\",\"\\u5403\\u5403\",\"\\u71b1\\u60c5\",\"\\u6e05\\u6de1\",\"\\u5b8c\\u5168\",\"\\u6f02\\u4eae\",\"\\u76e4\\u5b50\",\"\\u9999\\u6fc3\",\"\\u8c6c\\u4e94\\u82b1\",\"\\u9ede\\u9910\",\"\\u4e0b\\u9762\",\"\\u7a2e\\u985e\",\"\\u6fc3\\u90c1\",\"\\u5e36\\u6709\",\"\\u80e1\\u6912\",\"\\u554f\\u984c\",\"\\u70ba\\u4e3b\",\"\\u914d\\u83dc\",\"\\u6eff\\u8db3\",\"\\u539f\\u4f86\",\"\\u7b49\\u5019\",\"\\u6c34\\u9903\",\"\\u5317\\u6d77\\u9053\",\"\\u904e\\u766e\",\"\\u5fae\\u751c\",\"\\u6e96\\u5099\",\"\\u559d\\u5230\",\"\\u4e3c\\u98ef\",\"\\u98f2\\u6599\",\"\\u6b63\\u5e38\",\"\\u6253\\u5361\",\"\\u53f0\\u5357\",\"\\u8a73\\u7d30\",\"\\u9084\\u7b97\",\"\\u52a0\\u9ede\",\"\\u5c0f\\u5403\",\"\\u5341\\u8db3\",\"\\u4f2f\\u7235\",\"\\u6642\\u852c\",\"\\u4e3b\\u89d2\",\"\\u50f9\\u4f4d\",\"\\u706b\\u817f\",\"\\u8106\\u8106\",\"\\u9846\\u661f\",\"\\u82b1\\u679d\",\"\\u9bae\\u8766\",\"\\u63a5\\u8fd1\",\"\\u8089\\u54c1\",\"\\u4e0d\\u81a9\",\"\\u5343\\u5c64\",\"\\u5f48\\u6027\",\"\\u80e1\\u9ebb\",\"\\u6e05\\u9999\",\"\\u9ad8\\u9e97\\u83dc\",\"\\u642d\\u914d\",\"\\u5976\\u9999\",\"\\u958b\\u8eca\",\"\\u6253\\u5305\",\"\\u67f4\\u9b5a\",\"\\u4e0d\\u7528\",\"\\u7576\\u5929\",\"\\u9020\\u578b\",\"\\u73fe\\u70e4\",\"\\u505a\\u6cd5\",\"\\u670d\\u52d9\\u8cbb\",\"\\u9d28\\u8840\",\"\\u9178\\u9178\\u751c\\u751c\",\"\\u611f\\u5230\",\"\\u80fd\\u5920\",\"\\u725b\\u6392\",\"\\u9ede\\u5fc3\",\"\\u642d\\u914d\\u4e0a\",\"\\u71b1\\u7092\",\"\\u85af\\u689d\",\"JPTT_on\",\"\\u8001\\u5e97\",\"\\u4eba\\u4f86\",\"\\u723d\\u8106\",\"\\u9644\\u8fd1\",\"\\u5373\\u5316\",\"\\u4e5f\\u8a31\",\"\\u6fd5\\u6f64\",\"\\u660e\\u986f\",\"\\u5047\\u65e5\",\"\\u6bcf\\u65e5\",\"\\u7099\\u71d2\",\"\\u5438\\u5f15\",\"\\u4e0d\\u591a\",\"\\u597d\\u559d\",\"\\u6771\\u4eac\",\"\\u505c\\u8eca\\u5834\",\"\\u5357\\u6d0b\",\"\\u6c7a\\u5b9a\",\"\\u6cb9\\u82b1\",\"\\u4eca\\u5929\",\"\\u91ce\\u83c7\",\"\\u6ac3\\u53f0\",\"\\u9bae\\u5ae9\",\"\\u96de\\u817f\\u8089\",\"\\u627e\\u5230\",\"\\u5e2b\\u5085\",\"\\u7f8e\\u4e43\\u6ecb\",\"\\u4e3b\\u98df\",\"\\u5348\\u9910\",\"\\u751f\\u98df\",\"\\u9810\\u7b97\",\"\\u9d28\\u8089\",\"\\u7d93\\u71df\",\"\\u5e7e\\u6b21\",\"\\u5305\\u5ec2\",\"\\u5167\\u4fe1\",\"\\u89aa\\u5207\",\"\\u62ab\\u85a9\",\"\\u90e8\\u4f4d\",\"\\u4e2d\\u6587\",\"\\u9d5d\\u8089\",\"\\u6cbe\\u91ac\",\"\\u516d\\u65e5\",\"\\u6cd5\\u5f0f\",\"\\u8003\\u616e\",\"\\u504f\\u91cd\",\"\\u4e09\\u500b\",\"\\u751c\\u751c\\u5708\",\"\\u5b9c\\u862d\",\"\\u804a\\u5929\",\"\\u958b\\u5e55\",\"\\u666e\\u901a\",\"\\u7368\\u7279\",\"\\u53ea\\u80fd\",\"\\u7279\\u88fd\",\"\\u9078\\u64c7\",\"\\u6709\\u52a0\",\"\\u8c50\\u76db\",\"\\u9019\\u4efd\",\"\\u5730\\u74dc\",\"\\u51b7\\u76e4\",\"\\u5efa\\u7bc9\",\"\\u725b\\u5c0f\\u6392\",\"\\u7cbe\\u7dfb\",\"\\u6e05\\u751c\",\"\\u7e3d\\u5171\",\"\\u7f8e\\u5473\",\"\\u5b63\\u7bc0\",\"\\u6ce1\\u83dc\",\"\\u900f\\u904e\",\"\\u6372\\u9905\",\"\\u7389\\u5b50\\u71d2\",\"\\u4e2d\\u5c71\\u5317\\u8def\",\"\\u897f\\u897f\\u91cc\",\"\\u7f8e\\u98df\",\"\\u81ed\\u8c46\\u8150\",\"\\u5976\\u5473\",\"\\u751f\\u65e5\",\"\\u4f9d\\u820a\",\"\\u6ef7\\u8089\\u98ef\",\"\\u6a5f\\u6703\",\"\\u9ed1\\u80e1\\u6912\",\"\\u8336\\u7897\",\"\\u8c93\\u54aa\",\"\\u914d\\u6599\",\"\\u4fbf\\u5b9c\",\"\\u672c\\u4f86\",\"\\u54c1\\u8cea\",\"\\u5bb9\\u6613\",\"\\u4fbf\\u7576\",\"\\u6d0b\\u8525\",\"\\u6c34\\u6e96\",\"\\u4fdd\\u7559\",\"\\u642d\\u4e0a\",\"\\u8981\\u4e0d\\u8981\",\"\\u677e\\u962a\\u8c6c\",\"No\",\"\\u932f\\u904e\",\"\\u679c\\u6c41\",\"\\u90e8\\u5206\",\"\\u98f2\\u54c1\",\"\\u5403\\u4f86\",\"\\u9650\\u6642\",\"\\u5eda\\u623f\",\"\\u7126\\u7cd6\",\"\\u8b8a\\u5f97\",\"\\u6771\\u897f\",\"\\u985e\\u578b\",\"\\u9999\\u6599\",\"\\u9031\\u65e5\",\"\\u5f71\\u97ff\",\"\\u904e\\u4f86\",\"\\u4e00\\u676f\",\"\\u88e1\\u9762\",\"\\u5c0f\\u9ec3\\u74dc\",\"\\u8001\\u95c6\\u5a18\",\"\\u5b8c\\u7f8e\",\"\\u5370\\u8c61\",\"\\u9ebb\\u7cec\",\"\\u7248\\u8acb\\u9ede\",\"\\u6b61\\u8fce\",\"\\u8cea\\u5730\",\"\\u723d\\u53e3\",\"\\u5929\\u7136\",\"CP\",\"\\u96de\\u6392\",\"\\u63d0\\u9192\",\"\\u56de\\u8a2a\",\"\\u82e6\\u5473\",\"\\u7cfb\\u5217\",\"\\u958b\\u80c3\",\"\\u653e\\u9b06\",\"\\u8089\\u5713\",\"\\u9999\\u83c7\",\"\\u96de\\u817f\",\"\\u9806\\u4fbf\",\"\\u4e3b\\u83dc\",\"\\u7f8e\\u570b\"],\"x\":[-0.12792053818702698,-0.7049791216850281,-0.2261171042919159,-0.8183930516242981,0.04134830832481384,0.13602782785892487,-0.3628784418106079,-0.046583544462919235,0.2555726170539856,-0.35424646735191345,1.0065315961837769,-0.24434472620487213,0.18282288312911987,0.9870116114616394,-0.3875156342983246,0.35270604491233826,0.08451556414365768,-0.27400296926498413,-0.4837994873523712,-0.10456660389900208,0.17707382142543793,0.3463234305381775,0.026834949851036072,0.2982610762119293,0.5406157374382019,1.9714936017990112,-0.9232237935066223,-0.17687280476093292,-0.08810584247112274,-0.4667847454547882,-0.737369954586029,2.1147704124450684,-0.4163798689842224,0.6672927737236023,-0.0267857126891613,-0.6699314713478088,2.723424196243286,-0.9405211806297302,0.32091519236564636,-0.48258376121520996,0.18015466630458832,0.15481780469417572,0.21077075600624084,0.2188728153705597,-0.4403318464756012,-0.24077646434307098,-0.046474143862724304,0.16408468782901764,-0.21329140663146973,0.3987152874469757,-0.4101639986038208,-0.3590606153011322,-0.27284348011016846,-0.031492769718170166,-0.37284162640571594,-0.7223882675170898,-0.41616812348365784,0.24985331296920776,0.14919687807559967,-0.6526309251785278,0.05268339812755585,-0.309747576713562,1.9621362686157227,0.19153718650341034,-0.06592299044132233,0.6237678527832031,0.026841457933187485,-0.07034322619438171,-0.04630933329463005,0.11172845214605331,0.9517833590507507,-0.6910843253135681,-0.2832936942577362,-0.2941448986530304,-0.5810315012931824,-0.5402421355247498,-0.2228764444589615,1.5960750579833984,-0.044115085154771805,1.548845648765564,-0.07009853422641754,0.05590367317199707,0.9470180869102478,0.26523667573928833,1.1057418584823608,0.5944273471832275,0.5590716004371643,-0.5500710010528564,0.049181729555130005,-0.06548455357551575,-0.7536075711250305,-0.5712858438491821,-0.3152165114879608,-0.14670489728450775,-0.5672203302383423,-0.142521932721138,0.8928087949752808,-0.26618221402168274,-0.14433209598064423,-1.5104484558105469,-1.4013667106628418,-0.4396352767944336,-0.06329797208309174,0.3254772126674652,-0.3075791299343109,-0.18181630969047546,0.06638392806053162,0.3300168216228485,-0.11616776883602142,-0.03950147330760956,-0.6873921751976013,-0.6032781600952148,0.175310879945755,-0.130305215716362,0.14525021612644196,-0.05157243087887764,-0.21229515969753265,0.09153987467288971,0.5675286054611206,1.5351852178573608,-0.38685280084609985,-0.07398712635040283,0.3400137424468994,-1.0709224939346313,-0.41307684779167175,-0.32807019352912903,-0.1387944370508194,2.8230440616607666,-0.4506770372390747,-0.7218920588493347,-0.2316741794347763,-0.5627796649932861,-0.33917543292045593,-0.07737310230731964,-0.40544864535331726,-0.5746843814849854,-0.41260889172554016,-1.2429877519607544,-0.39530059695243835,-0.8082097172737122,-0.7387722134590149,-0.8401608467102051,-0.6738957166671753,0.5953640937805176,-0.0792604312300682,-0.3500301241874695,-0.08413463085889816,0.4298282861709595,-0.12676051259040833,-0.06286607682704926,-0.3465414047241211,2.2785747051239014,-0.21819207072257996,-0.4602431058883667,-0.04294660687446594,-0.1337416172027588,0.2730218470096588,0.007983343675732613,-0.7435232400894165,0.1343938559293747,-0.3877992331981659,-0.12488123029470444,-0.036821648478507996,-0.00506499782204628,-0.8212625980377197,0.8379355669021606,-0.7360575199127197,-0.04178847745060921,-0.8469379544258118,-0.923141360282898,1.8063974380493164,1.2568726539611816,-0.4501691162586212,0.08125957101583481,0.2576751112937927,-0.5157939195632935,0.2488962858915329,1.3462164402008057,-0.1590331792831421,0.30163681507110596,-0.5345905423164368,0.14326660335063934,-0.2363050878047943,0.3015333414077759,-0.7283561825752258,-0.2804778814315796,0.2608744502067566,0.0785616859793663,-0.4070698618888855,-0.08420226722955704,1.4639889001846313,-0.20099565386772156,0.49058789014816284,-0.2999759316444397,0.1438625454902649,0.006245994009077549,2.682366371154785,0.32347390055656433,0.22452692687511444,-0.09860170632600784,-0.3450319468975067,0.8406182527542114,0.03560666739940643,-0.6410511136054993,1.6602907180786133,-0.15613338351249695,0.06354501843452454,-0.6227220892906189,0.3279305100440979,0.029997924342751503,0.4545280635356903,0.10675684362649918,0.3316044211387634,-0.5186952352523804,-0.6848579049110413,0.1827937662601471,-0.1651388257741928,-0.06860020756721497,-0.3216116428375244,-0.1954021006822586,-0.22002342343330383,-0.36031556129455566,-0.22276045382022858,-0.0053030564449727535,-0.20748023688793182,-0.03861374408006668,-0.8110403418540955,0.08502055704593658,-0.6033912301063538,-0.24759669601917267,-0.6171042919158936,0.3991013765335083,0.27165287733078003,-0.23806414008140564,1.3263911008834839,0.04108967259526253,0.8522553443908691,0.05813099443912506,-0.6247029900550842,0.23796865344047546,-0.20736369490623474,0.01176538411527872,0.26770588755607605,-0.34266674518585205,-0.23430265486240387,0.0561915747821331,-0.6311955451965332,0.2563125193119049,-0.06058809161186218,-0.41251593828201294,-0.31453654170036316,0.5922874808311462,-0.6037861108779907,-0.2809498906135559,-0.13406223058700562,-0.41436856985092163,-0.07979677617549896,-0.3438633978366852,1.4750031232833862,0.07154656201601028,-0.048124995082616806,-0.5542111396789551,0.3829393982887268,-0.37663519382476807,1.145738959312439,0.45248883962631226,-0.8849446773529053,-0.4224100410938263,-0.07649607956409454,-0.16427555680274963,-0.7411909103393555,3.9295761585235596,-0.3155538737773895,0.5251559615135193,0.7072991728782654,-0.6452908515930176,-0.4131094813346863,0.12722259759902954,-0.5446124076843262,-0.41452667117118835,-0.2712623178958893,2.4140236377716064,0.13112872838974,-0.5116406083106995,-0.5543458461761475,-0.5044577121734619,0.06886415928602219,0.32971319556236267,0.15521928668022156,0.04975828155875206,-0.439033180475235,0.04240487143397331,-0.9470669627189636,0.08571149408817291,0.2772636413574219,-0.38534900546073914,-0.35105013847351074,0.3226192593574524,-0.11756383627653122,-0.21055905520915985],\"y\":[-0.0086174001917243,-0.11451591551303864,0.7230667471885681,-0.09132993966341019,-0.0500980019569397,-0.0764114186167717,0.06130553036928177,0.046944040805101395,-0.023286402225494385,0.3120536506175995,0.750910222530365,-0.07277385890483856,-0.07172133773565292,-1.1101675033569336,0.20099611580371857,0.038296107202768326,0.0007485635578632355,0.02333199791610241,-0.06423858553171158,0.15425071120262146,0.031073447316884995,0.008215729147195816,-0.12204261869192123,-0.08532572537660599,-0.41299712657928467,-1.3797876834869385,-0.05423058569431305,0.11856644600629807,-0.04938158020377159,0.32494455575942993,-0.023740801960229874,-0.011033251881599426,0.02563660405576229,-0.05907260254025459,-0.2774656414985657,-0.10782782733440399,0.13071885704994202,0.1158672645688057,-0.047193482518196106,-0.011008919216692448,0.004662793595343828,-0.7260604500770569,-0.0251629501581192,0.17931920289993286,-0.039553530514240265,-0.05336973816156387,-0.3606208562850952,-0.21544302999973297,-0.09597698599100113,0.10941263288259506,-0.058003079146146774,0.1957688182592392,0.20868945121765137,0.08987943828105927,-0.09674108773469925,-0.05423722788691521,-0.18544898927211761,0.3355988562107086,0.07368721812963486,0.026993360370397568,-0.03210802376270294,0.04906746372580528,-1.400863766670227,-0.03768383711576462,-0.06442318856716156,-0.8240731358528137,0.015389058738946915,-0.32403141260147095,0.026314925402402878,0.05085797980427742,0.24506036937236786,-0.0021073182579129934,-0.03153974935412407,-0.05267692729830742,0.16203007102012634,0.04312095791101456,-0.059437669813632965,-0.8514388203620911,-0.12294300645589828,-1.3247498273849487,0.061135463416576385,-0.5630536079406738,-0.13275910913944244,0.2278750091791153,-0.6352980136871338,-0.7721810340881348,-0.24477094411849976,-0.026218675076961517,0.11515761911869049,0.11688049882650375,0.2880506217479706,-0.06939076632261276,0.031159033998847008,-0.04451747611165047,0.0021683652885258198,-0.0494263730943203,0.6432210803031921,0.041427966207265854,0.30707284808158875,0.10589364171028137,-0.05804609879851341,0.05399836227297783,-0.13318096101284027,0.2068907618522644,0.14025545120239258,0.006398968864232302,-0.24666157364845276,0.039705000817775726,0.2490086555480957,-0.0007575195049867034,0.04881782829761505,0.04698772728443146,-0.12327810376882553,0.3189815878868103,-0.3206804394721985,0.6118789315223694,0.044878046959638596,-0.06280305236577988,-0.8337290287017822,-0.27083083987236023,0.2282460778951645,0.5508770942687988,-0.5411841869354248,-0.1414491981267929,0.1917593628168106,0.15263478457927704,-0.09186551719903946,2.050567865371704,0.007391204591840506,-0.11516249179840088,0.09437330067157745,0.3395001292228699,0.3801937997341156,-0.1629968285560608,0.21512621641159058,-0.06994669884443283,-0.09717883914709091,0.24703292548656464,-0.03868691623210907,0.2034296691417694,0.18671447038650513,0.25280940532684326,-0.04704566299915314,-0.11624862998723984,-0.025057485327124596,-0.028127288445830345,0.018512750044465065,0.22151221334934235,0.03446612507104874,-0.0562102273106575,-0.061069466173648834,1.3776347637176514,-0.5702179670333862,0.07829158008098602,-0.03037586435675621,0.08362717926502228,-0.5260297656059265,0.026866793632507324,0.2598433792591095,-0.2451208084821701,0.16281139850616455,0.7624871134757996,-0.3725084960460663,-0.03963776305317879,0.14999127388000488,-0.37885570526123047,-0.47513073682785034,0.08897291868925095,-0.027932744473218918,0.2694832980632782,0.10944060236215591,-0.02249780483543873,-0.0523066520690918,0.01180175505578518,0.10236857831478119,0.24962708353996277,-0.19620740413665771,0.06483560800552368,-0.20325765013694763,0.1802598237991333,-0.03776075690984726,0.0841769129037857,0.18961955606937408,0.032480258494615555,-0.2896919548511505,0.06341564655303955,-0.28120577335357666,-0.06366851925849915,-0.07876226305961609,0.328647643327713,-0.12880556285381317,0.05205676704645157,0.13717684149742126,-0.2353113889694214,-0.23280267417430878,-0.0746045708656311,1.7165699005126953,0.022166088223457336,0.3370499312877655,-0.3598329424858093,-0.02438211813569069,1.1534785032272339,-0.19441071152687073,-0.06762630492448807,-0.33674880862236023,-0.4863731563091278,-0.04149974137544632,0.21435298025608063,0.11814258247613907,-0.10284480452537537,-0.4197436571121216,0.0823342576622963,-0.1167396828532219,0.202877476811409,-0.0057862019166350365,0.22288431227207184,-0.07624039053916931,0.39057525992393494,0.08948074281215668,0.1216590628027916,-0.13493959605693817,0.07253902405500412,-0.03888092562556267,-0.12050733715295792,-0.08749991655349731,-0.1543985903263092,0.2767314612865448,0.11327920854091644,-0.12200651317834854,0.2584667205810547,0.0744316428899765,0.436550498008728,-0.11579753458499908,-0.10416244715452194,-1.332890510559082,0.12499944865703583,-0.5450669527053833,-1.0096291303634644,0.03497454896569252,-0.03168446570634842,0.021113451570272446,-0.32116439938545227,0.07098808884620667,0.021738838404417038,-0.012444188818335533,-0.13021981716156006,-0.042288560420274734,0.13812294602394104,0.15001393854618073,0.30672740936279297,-0.1742999106645584,-0.3309582471847534,0.12021523714065552,-0.048755764961242676,0.07193732261657715,-0.025781141594052315,-0.012193185277283192,-0.06581014394760132,1.9493513107299805,-0.021544963121414185,0.35318058729171753,0.3125297427177429,0.9876208305358887,-0.1705458015203476,1.1950170993804932,-0.7457061409950256,0.17578409612178802,-0.08182467520236969,-0.03910490870475769,0.01358823198825121,0.09340457618236542,0.3361312747001648,0.06406960636377335,0.0143983019515872,1.2464137077331543,0.09503839910030365,-0.002052248688414693,0.22991524636745453,0.035837940871715546,-0.013867676258087158,-0.21913699805736542,-1.345163345336914,-0.12834006547927856,-0.01115252636373043,-0.05980238690972328,0.10940273106098175,-0.17459961771965027,-0.01829725131392479,-0.11146954447031021,-0.19870787858963013,-0.04344158619642258,-0.019738629460334778,0.13429071009159088,0.009689966216683388,-0.531988799571991,-0.0586455762386322,-0.07994803041219711,0.10265742987394333,0.08877439051866531,0.030965911224484444],\"z\":[0.012939372099936008,-0.025449516251683235,-0.5496358871459961,-0.15923288464546204,0.011134931817650795,0.07051879167556763,0.35512372851371765,0.06631715595722198,0.36191239953041077,0.010893958620727062,1.531903862953186,0.1429092288017273,0.08533947169780731,-0.09873168915510178,-0.2318529635667801,0.050027038902044296,-0.17580890655517578,0.260185569524765,-0.43053457140922546,0.18717125058174133,-0.01129149366170168,-0.20508356392383575,-0.10630268603563309,-0.20536266267299652,0.22015602886676788,-0.4551260471343994,-0.2968166768550873,-0.036098334938287735,0.04925798997282982,0.19187702238559723,-0.06904788315296173,1.2908207178115845,-0.0064645796082913876,-0.3332432806491852,0.2618439793586731,0.001624102471396327,-1.332431435585022,-0.22505883872509003,-0.47099292278289795,0.060869380831718445,-0.2702995240688324,-0.24243950843811035,0.05765048786997795,0.02379143051803112,-0.021725330501794815,-0.14334845542907715,-0.2178526371717453,-0.03171485289931297,-0.10780549049377441,0.08539538085460663,-0.06337141990661621,-0.06363256275653839,0.20229971408843994,0.00638685654848814,-0.012257246300578117,-0.010967188514769077,0.30466896295547485,0.14502079784870148,-0.058817166835069656,-0.09823045879602432,0.05656728893518448,0.0074632554315030575,-0.236240416765213,-0.22872842848300934,0.10183530300855637,-0.11309253424406052,0.16152212023735046,0.13046331703662872,0.012532788328826427,-0.042439185082912445,0.08182358741760254,0.11451840400695801,0.07384539395570755,0.00343438982963562,-0.23323433101177216,0.16129755973815918,0.08771254867315292,0.0038053200114518404,0.026895910501480103,-0.22432783246040344,0.04294370859861374,0.42785727977752686,-0.05206923931837082,-0.25357306003570557,-0.06139848753809929,0.04553082957863808,0.18460871279239655,-0.12881046533584595,0.1606292575597763,-0.01895825006067753,-0.26112034916877747,-0.8624416589736938,-0.2667571008205414,-0.01271054521203041,-0.0777713879942894,0.03945721313357353,-0.10674002766609192,-0.02056172303855419,0.0945056602358818,-0.23795728385448456,-0.20762062072753906,-0.08418341726064682,-0.011412524618208408,0.05642160028219223,0.16818886995315552,0.10370238870382309,-0.06464548408985138,-0.07959713786840439,0.2722409665584564,0.2495882213115692,-0.1368994563817978,-0.05558103695511818,0.07331959903240204,-0.1664309799671173,0.3886089324951172,-0.0655587837100029,0.12910784780979156,-0.08025091886520386,-0.0440860316157341,0.9413806200027466,-0.15030215680599213,0.21890147030353546,0.10631100833415985,-0.1673215627670288,0.0011195490369573236,0.0921621173620224,-0.012194686569273472,0.9932644367218018,0.216453418135643,-0.11924091726541519,0.2715078294277191,0.10519172996282578,0.3837973177433014,-0.20637451112270355,0.13167975842952728,0.03946477919816971,0.07671783119440079,-0.07284651696681976,-0.05885876342654228,-0.2639923691749573,0.3169315755367279,0.0034190185833722353,-0.12397383898496628,-0.07846109569072723,-0.03350939229130745,-0.007623205427080393,-0.22165167331695557,0.18051987886428833,0.2287282943725586,0.2133135199546814,0.017417114228010178,-0.620149552822113,0.10205195844173431,-0.15499620139598846,-0.1358107477426529,-0.16519704461097717,0.39162999391555786,-0.05630050599575043,0.037708427757024765,0.29173269867897034,0.2331656813621521,-0.3217427432537079,0.08332018554210663,-0.08588190376758575,-0.06744866818189621,0.06291968375444412,-0.12875908613204956,-0.12061819434165955,-0.1418427675962448,-0.2624552249908447,-0.9729364514350891,-0.2974698543548584,0.1865663081407547,0.031137272715568542,-0.18178732693195343,-0.2376936674118042,0.10253401100635529,0.044565752148628235,0.14943304657936096,0.007245110813528299,-0.009583069011569023,0.014464068226516247,-0.03952749818563461,-0.16452951729297638,-0.06520739942789078,0.07176512479782104,0.04816082864999771,-0.016948368400335312,0.0026680966839194298,0.11049410700798035,-0.9423154592514038,0.2359488159418106,-0.03137332946062088,0.31680184602737427,0.07111676782369614,-0.07983826100826263,2.5314078330993652,0.08877235651016235,-0.12063198536634445,0.24347497522830963,0.09118589013814926,0.9214504957199097,0.14764952659606934,0.028202731162309647,-0.3308298587799072,0.19832202792167664,0.02183247171342373,-0.147123783826828,-0.10403832048177719,0.32521748542785645,-0.010115659795701504,-0.14645521342754364,-0.0386001281440258,0.1123715192079544,-0.11393003910779953,-0.05214524269104004,0.23557382822036743,0.08605258166790009,-0.05288051441311836,-0.004201126750558615,0.29284292459487915,0.08380191773176193,-0.008116480894386768,-0.1067860871553421,0.14666520059108734,-0.012153821997344494,-0.1683831810951233,-0.06771570444107056,0.030755558982491493,0.30829644203186035,0.39023059606552124,0.2634128928184509,0.3138028383255005,0.07771923393011093,-0.4078175127506256,-0.19149775803089142,0.376990407705307,0.20333008468151093,-0.1512279361486435,-0.1771213412284851,-0.05945173650979996,0.1571538895368576,-0.16364260017871857,-0.04341745749115944,0.03407025337219238,-0.15866371989250183,-0.06376513838768005,-0.08186736702919006,0.004916122183203697,-0.17841805517673492,-0.14684684574604034,0.12401578575372696,0.15226352214813232,0.012684140354394913,0.16596359014511108,-0.042760975658893585,-0.08852564543485641,0.0771971046924591,-1.4520236253738403,0.004356412682682276,-0.06584060937166214,0.21612702310085297,-0.3596062958240509,-0.10126350820064545,-1.0692706108093262,-0.03842674568295479,0.08884482085704803,-0.14010092616081238,-0.17485873401165009,-0.07775438576936722,0.01735573261976242,-1.3600269556045532,-0.20928239822387695,-0.15088719129562378,-1.0333360433578491,-0.0016139446524903178,-0.019776083528995514,-0.08387819677591324,-0.10304874181747437,0.16933786869049072,0.425933837890625,0.9707729816436768,-0.22056061029434204,-0.14022351801395416,-0.11279469728469849,-0.06893974542617798,0.11090980470180511,0.3784479796886444,-0.013307958841323853,0.008276699110865593,-0.12144830077886581,0.358658105134964,-0.03986383602023125,-0.2742065489292145,0.16306880116462708,0.04381091520190239,0.38175690174102783,0.0449875183403492,0.17119738459587097,0.4468105435371399],\"type\":\"scatter3d\"}],                        {\"template\":{\"data\":{\"histogram2dcontour\":[{\"type\":\"histogram2dcontour\",\"colorbar\":{\"outlinewidth\":0,\"ticks\":\"\"},\"colorscale\":[[0.0,\"#0d0887\"],[0.1111111111111111,\"#46039f\"],[0.2222222222222222,\"#7201a8\"],[0.3333333333333333,\"#9c179e\"],[0.4444444444444444,\"#bd3786\"],[0.5555555555555556,\"#d8576b\"],[0.6666666666666666,\"#ed7953\"],[0.7777777777777778,\"#fb9f3a\"],[0.8888888888888888,\"#fdca26\"],[1.0,\"#f0f921\"]]}],\"choropleth\":[{\"type\":\"choropleth\",\"colorbar\":{\"outlinewidth\":0,\"ticks\":\"\"}}],\"histogram2d\":[{\"type\":\"histogram2d\",\"colorbar\":{\"outlinewidth\":0,\"ticks\":\"\"},\"colorscale\":[[0.0,\"#0d0887\"],[0.1111111111111111,\"#46039f\"],[0.2222222222222222,\"#7201a8\"],[0.3333333333333333,\"#9c179e\"],[0.4444444444444444,\"#bd3786\"],[0.5555555555555556,\"#d8576b\"],[0.6666666666666666,\"#ed7953\"],[0.7777777777777778,\"#fb9f3a\"],[0.8888888888888888,\"#fdca26\"],[1.0,\"#f0f921\"]]}],\"heatmap\":[{\"type\":\"heatmap\",\"colorbar\":{\"outlinewidth\":0,\"ticks\":\"\"},\"colorscale\":[[0.0,\"#0d0887\"],[0.1111111111111111,\"#46039f\"],[0.2222222222222222,\"#7201a8\"],[0.3333333333333333,\"#9c179e\"],[0.4444444444444444,\"#bd3786\"],[0.5555555555555556,\"#d8576b\"],[0.6666666666666666,\"#ed7953\"],[0.7777777777777778,\"#fb9f3a\"],[0.8888888888888888,\"#fdca26\"],[1.0,\"#f0f921\"]]}],\"heatmapgl\":[{\"type\":\"heatmapgl\",\"colorbar\":{\"outlinewidth\":0,\"ticks\":\"\"},\"colorscale\":[[0.0,\"#0d0887\"],[0.1111111111111111,\"#46039f\"],[0.2222222222222222,\"#7201a8\"],[0.3333333333333333,\"#9c179e\"],[0.4444444444444444,\"#bd3786\"],[0.5555555555555556,\"#d8576b\"],[0.6666666666666666,\"#ed7953\"],[0.7777777777777778,\"#fb9f3a\"],[0.8888888888888888,\"#fdca26\"],[1.0,\"#f0f921\"]]}],\"contourcarpet\":[{\"type\":\"contourcarpet\",\"colorbar\":{\"outlinewidth\":0,\"ticks\":\"\"}}],\"contour\":[{\"type\":\"contour\",\"colorbar\":{\"outlinewidth\":0,\"ticks\":\"\"},\"colorscale\":[[0.0,\"#0d0887\"],[0.1111111111111111,\"#46039f\"],[0.2222222222222222,\"#7201a8\"],[0.3333333333333333,\"#9c179e\"],[0.4444444444444444,\"#bd3786\"],[0.5555555555555556,\"#d8576b\"],[0.6666666666666666,\"#ed7953\"],[0.7777777777777778,\"#fb9f3a\"],[0.8888888888888888,\"#fdca26\"],[1.0,\"#f0f921\"]]}],\"surface\":[{\"type\":\"surface\",\"colorbar\":{\"outlinewidth\":0,\"ticks\":\"\"},\"colorscale\":[[0.0,\"#0d0887\"],[0.1111111111111111,\"#46039f\"],[0.2222222222222222,\"#7201a8\"],[0.3333333333333333,\"#9c179e\"],[0.4444444444444444,\"#bd3786\"],[0.5555555555555556,\"#d8576b\"],[0.6666666666666666,\"#ed7953\"],[0.7777777777777778,\"#fb9f3a\"],[0.8888888888888888,\"#fdca26\"],[1.0,\"#f0f921\"]]}],\"mesh3d\":[{\"type\":\"mesh3d\",\"colorbar\":{\"outlinewidth\":0,\"ticks\":\"\"}}],\"scatter\":[{\"fillpattern\":{\"fillmode\":\"overlay\",\"size\":10,\"solidity\":0.2},\"type\":\"scatter\"}],\"parcoords\":[{\"type\":\"parcoords\",\"line\":{\"colorbar\":{\"outlinewidth\":0,\"ticks\":\"\"}}}],\"scatterpolargl\":[{\"type\":\"scatterpolargl\",\"marker\":{\"colorbar\":{\"outlinewidth\":0,\"ticks\":\"\"}}}],\"bar\":[{\"error_x\":{\"color\":\"#2a3f5f\"},\"error_y\":{\"color\":\"#2a3f5f\"},\"marker\":{\"line\":{\"color\":\"#E5ECF6\",\"width\":0.5},\"pattern\":{\"fillmode\":\"overlay\",\"size\":10,\"solidity\":0.2}},\"type\":\"bar\"}],\"scattergeo\":[{\"type\":\"scattergeo\",\"marker\":{\"colorbar\":{\"outlinewidth\":0,\"ticks\":\"\"}}}],\"scatterpolar\":[{\"type\":\"scatterpolar\",\"marker\":{\"colorbar\":{\"outlinewidth\":0,\"ticks\":\"\"}}}],\"histogram\":[{\"marker\":{\"pattern\":{\"fillmode\":\"overlay\",\"size\":10,\"solidity\":0.2}},\"type\":\"histogram\"}],\"scattergl\":[{\"type\":\"scattergl\",\"marker\":{\"colorbar\":{\"outlinewidth\":0,\"ticks\":\"\"}}}],\"scatter3d\":[{\"type\":\"scatter3d\",\"line\":{\"colorbar\":{\"outlinewidth\":0,\"ticks\":\"\"}},\"marker\":{\"colorbar\":{\"outlinewidth\":0,\"ticks\":\"\"}}}],\"scattermapbox\":[{\"type\":\"scattermapbox\",\"marker\":{\"colorbar\":{\"outlinewidth\":0,\"ticks\":\"\"}}}],\"scatterternary\":[{\"type\":\"scatterternary\",\"marker\":{\"colorbar\":{\"outlinewidth\":0,\"ticks\":\"\"}}}],\"scattercarpet\":[{\"type\":\"scattercarpet\",\"marker\":{\"colorbar\":{\"outlinewidth\":0,\"ticks\":\"\"}}}],\"carpet\":[{\"aaxis\":{\"endlinecolor\":\"#2a3f5f\",\"gridcolor\":\"white\",\"linecolor\":\"white\",\"minorgridcolor\":\"white\",\"startlinecolor\":\"#2a3f5f\"},\"baxis\":{\"endlinecolor\":\"#2a3f5f\",\"gridcolor\":\"white\",\"linecolor\":\"white\",\"minorgridcolor\":\"white\",\"startlinecolor\":\"#2a3f5f\"},\"type\":\"carpet\"}],\"table\":[{\"cells\":{\"fill\":{\"color\":\"#EBF0F8\"},\"line\":{\"color\":\"white\"}},\"header\":{\"fill\":{\"color\":\"#C8D4E3\"},\"line\":{\"color\":\"white\"}},\"type\":\"table\"}],\"barpolar\":[{\"marker\":{\"line\":{\"color\":\"#E5ECF6\",\"width\":0.5},\"pattern\":{\"fillmode\":\"overlay\",\"size\":10,\"solidity\":0.2}},\"type\":\"barpolar\"}],\"pie\":[{\"automargin\":true,\"type\":\"pie\"}]},\"layout\":{\"autotypenumbers\":\"strict\",\"colorway\":[\"#636efa\",\"#EF553B\",\"#00cc96\",\"#ab63fa\",\"#FFA15A\",\"#19d3f3\",\"#FF6692\",\"#B6E880\",\"#FF97FF\",\"#FECB52\"],\"font\":{\"color\":\"#2a3f5f\"},\"hovermode\":\"closest\",\"hoverlabel\":{\"align\":\"left\"},\"paper_bgcolor\":\"white\",\"plot_bgcolor\":\"#E5ECF6\",\"polar\":{\"bgcolor\":\"#E5ECF6\",\"angularaxis\":{\"gridcolor\":\"white\",\"linecolor\":\"white\",\"ticks\":\"\"},\"radialaxis\":{\"gridcolor\":\"white\",\"linecolor\":\"white\",\"ticks\":\"\"}},\"ternary\":{\"bgcolor\":\"#E5ECF6\",\"aaxis\":{\"gridcolor\":\"white\",\"linecolor\":\"white\",\"ticks\":\"\"},\"baxis\":{\"gridcolor\":\"white\",\"linecolor\":\"white\",\"ticks\":\"\"},\"caxis\":{\"gridcolor\":\"white\",\"linecolor\":\"white\",\"ticks\":\"\"}},\"coloraxis\":{\"colorbar\":{\"outlinewidth\":0,\"ticks\":\"\"}},\"colorscale\":{\"sequential\":[[0.0,\"#0d0887\"],[0.1111111111111111,\"#46039f\"],[0.2222222222222222,\"#7201a8\"],[0.3333333333333333,\"#9c179e\"],[0.4444444444444444,\"#bd3786\"],[0.5555555555555556,\"#d8576b\"],[0.6666666666666666,\"#ed7953\"],[0.7777777777777778,\"#fb9f3a\"],[0.8888888888888888,\"#fdca26\"],[1.0,\"#f0f921\"]],\"sequentialminus\":[[0.0,\"#0d0887\"],[0.1111111111111111,\"#46039f\"],[0.2222222222222222,\"#7201a8\"],[0.3333333333333333,\"#9c179e\"],[0.4444444444444444,\"#bd3786\"],[0.5555555555555556,\"#d8576b\"],[0.6666666666666666,\"#ed7953\"],[0.7777777777777778,\"#fb9f3a\"],[0.8888888888888888,\"#fdca26\"],[1.0,\"#f0f921\"]],\"diverging\":[[0,\"#8e0152\"],[0.1,\"#c51b7d\"],[0.2,\"#de77ae\"],[0.3,\"#f1b6da\"],[0.4,\"#fde0ef\"],[0.5,\"#f7f7f7\"],[0.6,\"#e6f5d0\"],[0.7,\"#b8e186\"],[0.8,\"#7fbc41\"],[0.9,\"#4d9221\"],[1,\"#276419\"]]},\"xaxis\":{\"gridcolor\":\"white\",\"linecolor\":\"white\",\"ticks\":\"\",\"title\":{\"standoff\":15},\"zerolinecolor\":\"white\",\"automargin\":true,\"zerolinewidth\":2},\"yaxis\":{\"gridcolor\":\"white\",\"linecolor\":\"white\",\"ticks\":\"\",\"title\":{\"standoff\":15},\"zerolinecolor\":\"white\",\"automargin\":true,\"zerolinewidth\":2},\"scene\":{\"xaxis\":{\"backgroundcolor\":\"#E5ECF6\",\"gridcolor\":\"white\",\"linecolor\":\"white\",\"showbackground\":true,\"ticks\":\"\",\"zerolinecolor\":\"white\",\"gridwidth\":2},\"yaxis\":{\"backgroundcolor\":\"#E5ECF6\",\"gridcolor\":\"white\",\"linecolor\":\"white\",\"showbackground\":true,\"ticks\":\"\",\"zerolinecolor\":\"white\",\"gridwidth\":2},\"zaxis\":{\"backgroundcolor\":\"#E5ECF6\",\"gridcolor\":\"white\",\"linecolor\":\"white\",\"showbackground\":true,\"ticks\":\"\",\"zerolinecolor\":\"white\",\"gridwidth\":2}},\"shapedefaults\":{\"line\":{\"color\":\"#2a3f5f\"}},\"annotationdefaults\":{\"arrowcolor\":\"#2a3f5f\",\"arrowhead\":0,\"arrowwidth\":1},\"geo\":{\"bgcolor\":\"white\",\"landcolor\":\"#E5ECF6\",\"subunitcolor\":\"white\",\"showland\":true,\"showlakes\":true,\"lakecolor\":\"white\"},\"title\":{\"x\":0.05},\"mapbox\":{\"style\":\"light\"}}},\"scene\":{\"domain\":{\"x\":[0.0,1.0],\"y\":[0.0,1.0]},\"xaxis\":{\"title\":{\"text\":\"dim1\"}},\"yaxis\":{\"title\":{\"text\":\"dim2\"}},\"zaxis\":{\"title\":{\"text\":\"dim3\"}}},\"legend\":{\"title\":{\"text\":\"color\"},\"tracegroupgap\":0,\"itemsizing\":\"constant\"},\"margin\":{\"t\":60},\"height\":800,\"width\":800},                        {\"responsive\": true}                    ).then(function(){\n",
       "                            \n",
       "var gd = document.getElementById('80f9ff43-b3da-4d76-b4ba-4ecda2fa29f0');\n",
       "var x = new MutationObserver(function (mutations, observer) {{\n",
       "        var display = window.getComputedStyle(gd).display;\n",
       "        if (!display || display === 'none') {{\n",
       "            console.log([gd, 'removed!']);\n",
       "            Plotly.purge(gd);\n",
       "            observer.disconnect();\n",
       "        }}\n",
       "}});\n",
       "\n",
       "// Listen for the removal of the full notebook cells\n",
       "var notebookContainer = gd.closest('#notebook-container');\n",
       "if (notebookContainer) {{\n",
       "    x.observe(notebookContainer, {childList: true});\n",
       "}}\n",
       "\n",
       "// Listen for the clearing of the current output cell\n",
       "var outputEl = gd.closest('.output');\n",
       "if (outputEl) {{\n",
       "    x.observe(outputEl, {childList: true});\n",
       "}}\n",
       "\n",
       "                        })                };                });            </script>        </div>"
      ]
     },
     "metadata": {},
     "output_type": "display_data"
    }
   ],
   "source": [
    "new_feat = reduceDim(feat,dim = 3,method = 'PCA' )\n",
    "print(new_feat.shape)\n",
    "word_df = pd.DataFrame({\n",
    "    \"word\":sample_words,\n",
    "    \"dim1\":new_feat[:,0],\n",
    "    \"dim2\":new_feat[:,1],\n",
    "    \"dim3\":new_feat[:,2], \n",
    "})\n",
    "plotScatter3D(word_df)"
   ]
  },
  {
   "cell_type": "code",
   "execution_count": 81,
   "metadata": {},
   "outputs": [],
   "source": [
    "# 分群\n",
    "from sklearn.cluster import KMeans\n",
    "from sklearn_extra.cluster import KMedoids\n",
    "# 只使用word vector 去分群\n",
    "def cluster(X,method = 'kmeans',n = 2):\n",
    "    \n",
    "    method_dict = {\n",
    "        'kmeans':KMeans(n_clusters=n, random_state=0),\n",
    "        'kmedos':KMedoids(n_clusters=n, random_state=0)\n",
    "    }\n",
    "    method_dict[method].fit(X)\n",
    "    result = method_dict[method].predict(X)\n",
    "    return result\n"
   ]
  },
  {
   "cell_type": "code",
   "execution_count": 104,
   "metadata": {},
   "outputs": [
    {
     "name": "stderr",
     "output_type": "stream",
     "text": [
      "/home/junhong/.conda/envs/SMA/lib/python3.8/site-packages/sklearn/cluster/_kmeans.py:870: FutureWarning:\n",
      "\n",
      "The default value of `n_init` will change from 10 to 'auto' in 1.4. Set the value of `n_init` explicitly to suppress the warning\n",
      "\n"
     ]
    },
    {
     "data": {
      "application/vnd.plotly.v1+json": {
       "config": {
        "plotlyServerURL": "https://plot.ly"
       },
       "data": [
        {
         "hovertemplate": "dim1=%{x}<br>dim2=%{y}<br>dim3=%{z}<br>size=%{marker.size}<br>word=%{text}<br>color=%{marker.color}<extra></extra>",
         "legendgroup": "",
         "marker": {
          "color": [
           1,
           0,
           1,
           0,
           1,
           1,
           0,
           1,
           1,
           0,
           1,
           0,
           1,
           1,
           0,
           1,
           1,
           0,
           0,
           1,
           1,
           1,
           1,
           1,
           1,
           2,
           0,
           1,
           1,
           0,
           0,
           2,
           0,
           1,
           1,
           0,
           2,
           0,
           1,
           0,
           1,
           1,
           1,
           1,
           0,
           0,
           1,
           1,
           0,
           1,
           0,
           0,
           0,
           1,
           0,
           0,
           0,
           1,
           1,
           0,
           1,
           0,
           2,
           1,
           1,
           1,
           1,
           1,
           1,
           1,
           1,
           0,
           0,
           0,
           0,
           0,
           0,
           2,
           1,
           2,
           1,
           1,
           1,
           1,
           2,
           1,
           1,
           0,
           1,
           1,
           0,
           0,
           0,
           1,
           0,
           1,
           1,
           0,
           1,
           0,
           0,
           0,
           1,
           1,
           0,
           0,
           1,
           1,
           1,
           1,
           0,
           0,
           1,
           1,
           1,
           1,
           1,
           1,
           1,
           2,
           0,
           1,
           1,
           0,
           0,
           0,
           1,
           3,
           0,
           0,
           0,
           0,
           0,
           1,
           0,
           0,
           0,
           0,
           0,
           0,
           0,
           0,
           0,
           1,
           1,
           0,
           1,
           1,
           1,
           1,
           0,
           2,
           0,
           0,
           1,
           1,
           1,
           1,
           0,
           1,
           0,
           1,
           1,
           1,
           0,
           1,
           0,
           1,
           0,
           0,
           2,
           2,
           0,
           1,
           1,
           0,
           1,
           2,
           1,
           1,
           0,
           1,
           0,
           1,
           0,
           0,
           1,
           1,
           0,
           1,
           2,
           1,
           1,
           0,
           1,
           1,
           3,
           1,
           1,
           1,
           0,
           1,
           1,
           0,
           2,
           1,
           1,
           0,
           1,
           1,
           1,
           1,
           1,
           0,
           0,
           1,
           0,
           1,
           0,
           1,
           0,
           0,
           0,
           1,
           1,
           1,
           0,
           1,
           0,
           0,
           0,
           1,
           1,
           0,
           2,
           1,
           1,
           1,
           0,
           1,
           0,
           1,
           1,
           0,
           1,
           1,
           0,
           1,
           1,
           0,
           0,
           1,
           0,
           0,
           1,
           0,
           1,
           0,
           2,
           1,
           1,
           0,
           1,
           0,
           2,
           1,
           0,
           0,
           1,
           1,
           0,
           2,
           0,
           1,
           1,
           0,
           0,
           1,
           0,
           0,
           0,
           2,
           1,
           0,
           0,
           0,
           1,
           1,
           1,
           1,
           0,
           1,
           0,
           1,
           1,
           0,
           0,
           1,
           1,
           0
          ],
          "coloraxis": "coloraxis",
          "size": [
           0.5,
           0.5,
           0.5,
           0.5,
           0.5,
           0.5,
           0.5,
           0.5,
           0.5,
           0.5,
           0.5,
           0.5,
           0.5,
           0.5,
           0.5,
           0.5,
           0.5,
           0.5,
           0.5,
           0.5,
           0.5,
           0.5,
           0.5,
           0.5,
           0.5,
           0.5,
           0.5,
           0.5,
           0.5,
           0.5,
           0.5,
           0.5,
           0.5,
           0.5,
           0.5,
           0.5,
           0.5,
           0.5,
           0.5,
           0.5,
           0.5,
           0.5,
           0.5,
           0.5,
           0.5,
           0.5,
           0.5,
           0.5,
           0.5,
           0.5,
           0.5,
           0.5,
           0.5,
           0.5,
           0.5,
           0.5,
           0.5,
           0.5,
           0.5,
           0.5,
           0.5,
           0.5,
           0.5,
           0.5,
           0.5,
           0.5,
           0.5,
           0.5,
           0.5,
           0.5,
           0.5,
           0.5,
           0.5,
           0.5,
           0.5,
           0.5,
           0.5,
           0.5,
           0.5,
           0.5,
           0.5,
           0.5,
           0.5,
           0.5,
           0.5,
           0.5,
           0.5,
           0.5,
           0.5,
           0.5,
           0.5,
           0.5,
           0.5,
           0.5,
           0.5,
           0.5,
           0.5,
           0.5,
           0.5,
           0.5,
           0.5,
           0.5,
           0.5,
           0.5,
           0.5,
           0.5,
           0.5,
           0.5,
           0.5,
           0.5,
           0.5,
           0.5,
           0.5,
           0.5,
           0.5,
           0.5,
           0.5,
           0.5,
           0.5,
           0.5,
           0.5,
           0.5,
           0.5,
           0.5,
           0.5,
           0.5,
           0.5,
           0.5,
           0.5,
           0.5,
           0.5,
           0.5,
           0.5,
           0.5,
           0.5,
           0.5,
           0.5,
           0.5,
           0.5,
           0.5,
           0.5,
           0.5,
           0.5,
           0.5,
           0.5,
           0.5,
           0.5,
           0.5,
           0.5,
           0.5,
           0.5,
           0.5,
           0.5,
           0.5,
           0.5,
           0.5,
           0.5,
           0.5,
           0.5,
           0.5,
           0.5,
           0.5,
           0.5,
           0.5,
           0.5,
           0.5,
           0.5,
           0.5,
           0.5,
           0.5,
           0.5,
           0.5,
           0.5,
           0.5,
           0.5,
           0.5,
           0.5,
           0.5,
           0.5,
           0.5,
           0.5,
           0.5,
           0.5,
           0.5,
           0.5,
           0.5,
           0.5,
           0.5,
           0.5,
           0.5,
           0.5,
           0.5,
           0.5,
           0.5,
           0.5,
           0.5,
           0.5,
           0.5,
           0.5,
           0.5,
           0.5,
           0.5,
           0.5,
           0.5,
           0.5,
           0.5,
           0.5,
           0.5,
           0.5,
           0.5,
           0.5,
           0.5,
           0.5,
           0.5,
           0.5,
           0.5,
           0.5,
           0.5,
           0.5,
           0.5,
           0.5,
           0.5,
           0.5,
           0.5,
           0.5,
           0.5,
           0.5,
           0.5,
           0.5,
           0.5,
           0.5,
           0.5,
           0.5,
           0.5,
           0.5,
           0.5,
           0.5,
           0.5,
           0.5,
           0.5,
           0.5,
           0.5,
           0.5,
           0.5,
           0.5,
           0.5,
           0.5,
           0.5,
           0.5,
           0.5,
           0.5,
           0.5,
           0.5,
           0.5,
           0.5,
           0.5,
           0.5,
           0.5,
           0.5,
           0.5,
           0.5,
           0.5,
           0.5,
           0.5,
           0.5,
           0.5,
           0.5,
           0.5,
           0.5,
           0.5,
           0.5,
           0.5,
           0.5,
           0.5,
           0.5,
           0.5,
           0.5,
           0.5,
           0.5,
           0.5,
           0.5,
           0.5,
           0.5,
           0.5,
           0.5,
           0.5,
           0.5,
           0.5,
           0.5,
           0.5,
           0.5,
           0.5,
           0.5,
           0.5,
           0.5,
           0.5,
           0.5,
           0.5,
           0.5,
           0.5
          ],
          "sizemode": "area",
          "sizeref": 0.00125,
          "symbol": "circle"
         },
         "mode": "markers+text",
         "name": "",
         "scene": "scene",
         "showlegend": false,
         "text": [
          "剛剛",
          "可口",
          "Sent_from",
          "還蠻",
          "通常",
          "友人",
          "經典",
          "需求",
          "主打",
          "則是",
          "官網",
          "金沙",
          "一直",
          "台北",
          "中規中矩",
          "興趣",
          "桌子",
          "吐司",
          "感覺",
          "炸物",
          "之後",
          "壽星",
          "上菜",
          "前來",
          "這間",
          "四段",
          "風味",
          "菜盤",
          "冬粉",
          "濃湯",
          "厚度",
          "網誌",
          "肉醬",
          "排隊",
          "大腸",
          "鮮美",
          "週五",
          "適中",
          "工作",
          "一同",
          "行程",
          "小評",
          "吧檯",
          "親民",
          "魚肉",
          "真是",
          "風格",
          "自助餐",
          "感受",
          "豆漿",
          "誘人",
          "呈現",
          "豆干",
          "更換",
          "依然",
          "厚實",
          "可頌",
          "店員",
          "不到",
          "吸收",
          "冰品",
          "辣味",
          "北市",
          "取餐",
          "障礙",
          "市場",
          "產品",
          "古早味",
          "幾個",
          "拿到",
          "停車",
          "蘿蔔",
          "櫻桃",
          "自製",
          "蛋黃",
          "蕃茄",
          "相較",
          "人均",
          "出爐",
          "台南市_中西區",
          "差別",
          "拉麵",
          "注意_事項",
          "每個",
          "夜市",
          "食堂",
          "吃到飽",
          "很棒",
          "吃吃",
          "熱情",
          "清淡",
          "完全",
          "漂亮",
          "盤子",
          "香濃",
          "豬五花",
          "點餐",
          "下面",
          "種類",
          "濃郁",
          "帶有",
          "胡椒",
          "問題",
          "為主",
          "配菜",
          "滿足",
          "原來",
          "等候",
          "水餃",
          "北海道",
          "過癮",
          "微甜",
          "準備",
          "喝到",
          "丼飯",
          "飲料",
          "正常",
          "打卡",
          "台南",
          "詳細",
          "還算",
          "加點",
          "小吃",
          "十足",
          "伯爵",
          "時蔬",
          "主角",
          "價位",
          "火腿",
          "脆脆",
          "顆星",
          "花枝",
          "鮮蝦",
          "接近",
          "肉品",
          "不膩",
          "千層",
          "彈性",
          "胡麻",
          "清香",
          "高麗菜",
          "搭配",
          "奶香",
          "開車",
          "打包",
          "柴魚",
          "不用",
          "當天",
          "造型",
          "現烤",
          "做法",
          "服務費",
          "鴨血",
          "酸酸甜甜",
          "感到",
          "能夠",
          "牛排",
          "點心",
          "搭配上",
          "熱炒",
          "薯條",
          "JPTT_on",
          "老店",
          "人來",
          "爽脆",
          "附近",
          "即化",
          "也許",
          "濕潤",
          "明顯",
          "假日",
          "每日",
          "炙燒",
          "吸引",
          "不多",
          "好喝",
          "東京",
          "停車場",
          "南洋",
          "決定",
          "油花",
          "今天",
          "野菇",
          "櫃台",
          "鮮嫩",
          "雞腿肉",
          "找到",
          "師傅",
          "美乃滋",
          "主食",
          "午餐",
          "生食",
          "預算",
          "鴨肉",
          "經營",
          "幾次",
          "包廂",
          "內信",
          "親切",
          "披薩",
          "部位",
          "中文",
          "鵝肉",
          "沾醬",
          "六日",
          "法式",
          "考慮",
          "偏重",
          "三個",
          "甜甜圈",
          "宜蘭",
          "聊天",
          "開幕",
          "普通",
          "獨特",
          "只能",
          "特製",
          "選擇",
          "有加",
          "豐盛",
          "這份",
          "地瓜",
          "冷盤",
          "建築",
          "牛小排",
          "精緻",
          "清甜",
          "總共",
          "美味",
          "季節",
          "泡菜",
          "透過",
          "捲餅",
          "玉子燒",
          "中山北路",
          "西西里",
          "美食",
          "臭豆腐",
          "奶味",
          "生日",
          "依舊",
          "滷肉飯",
          "機會",
          "黑胡椒",
          "茶碗",
          "貓咪",
          "配料",
          "便宜",
          "本來",
          "品質",
          "容易",
          "便當",
          "洋蔥",
          "水準",
          "保留",
          "搭上",
          "要不要",
          "松阪豬",
          "No",
          "錯過",
          "果汁",
          "部分",
          "飲品",
          "吃來",
          "限時",
          "廚房",
          "焦糖",
          "變得",
          "東西",
          "類型",
          "香料",
          "週日",
          "影響",
          "過來",
          "一杯",
          "裡面",
          "小黃瓜",
          "老闆娘",
          "完美",
          "印象",
          "麻糬",
          "版請點",
          "歡迎",
          "質地",
          "爽口",
          "天然",
          "CP",
          "雞排",
          "提醒",
          "回訪",
          "苦味",
          "系列",
          "開胃",
          "放鬆",
          "肉圓",
          "香菇",
          "雞腿",
          "順便",
          "主菜",
          "美國"
         ],
         "type": "scatter3d",
         "x": [
          -0.12792053818702698,
          -0.7049791216850281,
          -0.2261171042919159,
          -0.8183930516242981,
          0.04134830832481384,
          0.13602782785892487,
          -0.3628784418106079,
          -0.046583544462919235,
          0.2555726170539856,
          -0.35424646735191345,
          1.0065315961837769,
          -0.24434472620487213,
          0.18282288312911987,
          0.9870116114616394,
          -0.3875156342983246,
          0.35270604491233826,
          0.08451556414365768,
          -0.27400296926498413,
          -0.4837994873523712,
          -0.10456660389900208,
          0.17707382142543793,
          0.3463234305381775,
          0.026834949851036072,
          0.2982610762119293,
          0.5406157374382019,
          1.9714936017990112,
          -0.9232237935066223,
          -0.17687280476093292,
          -0.08810584247112274,
          -0.4667847454547882,
          -0.737369954586029,
          2.1147704124450684,
          -0.4163798689842224,
          0.6672927737236023,
          -0.0267857126891613,
          -0.6699314713478088,
          2.723424196243286,
          -0.9405211806297302,
          0.32091519236564636,
          -0.48258376121520996,
          0.18015466630458832,
          0.15481780469417572,
          0.21077075600624084,
          0.2188728153705597,
          -0.4403318464756012,
          -0.24077646434307098,
          -0.046474143862724304,
          0.16408468782901764,
          -0.21329140663146973,
          0.3987152874469757,
          -0.4101639986038208,
          -0.3590606153011322,
          -0.27284348011016846,
          -0.031492769718170166,
          -0.37284162640571594,
          -0.7223882675170898,
          -0.41616812348365784,
          0.24985331296920776,
          0.14919687807559967,
          -0.6526309251785278,
          0.05268339812755585,
          -0.309747576713562,
          1.9621362686157227,
          0.19153718650341034,
          -0.06592299044132233,
          0.6237678527832031,
          0.026841457933187485,
          -0.07034322619438171,
          -0.04630933329463005,
          0.11172845214605331,
          0.9517833590507507,
          -0.6910843253135681,
          -0.2832936942577362,
          -0.2941448986530304,
          -0.5810315012931824,
          -0.5402421355247498,
          -0.2228764444589615,
          1.5960750579833984,
          -0.044115085154771805,
          1.548845648765564,
          -0.07009853422641754,
          0.05590367317199707,
          0.9470180869102478,
          0.26523667573928833,
          1.1057418584823608,
          0.5944273471832275,
          0.5590716004371643,
          -0.5500710010528564,
          0.049181729555130005,
          -0.06548455357551575,
          -0.7536075711250305,
          -0.5712858438491821,
          -0.3152165114879608,
          -0.14670489728450775,
          -0.5672203302383423,
          -0.142521932721138,
          0.8928087949752808,
          -0.26618221402168274,
          -0.14433209598064423,
          -1.5104484558105469,
          -1.4013667106628418,
          -0.4396352767944336,
          -0.06329797208309174,
          0.3254772126674652,
          -0.3075791299343109,
          -0.18181630969047546,
          0.06638392806053162,
          0.3300168216228485,
          -0.11616776883602142,
          -0.03950147330760956,
          -0.6873921751976013,
          -0.6032781600952148,
          0.175310879945755,
          -0.130305215716362,
          0.14525021612644196,
          -0.05157243087887764,
          -0.21229515969753265,
          0.09153987467288971,
          0.5675286054611206,
          1.5351852178573608,
          -0.38685280084609985,
          -0.07398712635040283,
          0.3400137424468994,
          -1.0709224939346313,
          -0.41307684779167175,
          -0.32807019352912903,
          -0.1387944370508194,
          2.8230440616607666,
          -0.4506770372390747,
          -0.7218920588493347,
          -0.2316741794347763,
          -0.5627796649932861,
          -0.33917543292045593,
          -0.07737310230731964,
          -0.40544864535331726,
          -0.5746843814849854,
          -0.41260889172554016,
          -1.2429877519607544,
          -0.39530059695243835,
          -0.8082097172737122,
          -0.7387722134590149,
          -0.8401608467102051,
          -0.6738957166671753,
          0.5953640937805176,
          -0.0792604312300682,
          -0.3500301241874695,
          -0.08413463085889816,
          0.4298282861709595,
          -0.12676051259040833,
          -0.06286607682704926,
          -0.3465414047241211,
          2.2785747051239014,
          -0.21819207072257996,
          -0.4602431058883667,
          -0.04294660687446594,
          -0.1337416172027588,
          0.2730218470096588,
          0.007983343675732613,
          -0.7435232400894165,
          0.1343938559293747,
          -0.3877992331981659,
          -0.12488123029470444,
          -0.036821648478507996,
          -0.00506499782204628,
          -0.8212625980377197,
          0.8379355669021606,
          -0.7360575199127197,
          -0.04178847745060921,
          -0.8469379544258118,
          -0.923141360282898,
          1.8063974380493164,
          1.2568726539611816,
          -0.4501691162586212,
          0.08125957101583481,
          0.2576751112937927,
          -0.5157939195632935,
          0.2488962858915329,
          1.3462164402008057,
          -0.1590331792831421,
          0.30163681507110596,
          -0.5345905423164368,
          0.14326660335063934,
          -0.2363050878047943,
          0.3015333414077759,
          -0.7283561825752258,
          -0.2804778814315796,
          0.2608744502067566,
          0.0785616859793663,
          -0.4070698618888855,
          -0.08420226722955704,
          1.4639889001846313,
          -0.20099565386772156,
          0.49058789014816284,
          -0.2999759316444397,
          0.1438625454902649,
          0.006245994009077549,
          2.682366371154785,
          0.32347390055656433,
          0.22452692687511444,
          -0.09860170632600784,
          -0.3450319468975067,
          0.8406182527542114,
          0.03560666739940643,
          -0.6410511136054993,
          1.6602907180786133,
          -0.15613338351249695,
          0.06354501843452454,
          -0.6227220892906189,
          0.3279305100440979,
          0.029997924342751503,
          0.4545280635356903,
          0.10675684362649918,
          0.3316044211387634,
          -0.5186952352523804,
          -0.6848579049110413,
          0.1827937662601471,
          -0.1651388257741928,
          -0.06860020756721497,
          -0.3216116428375244,
          -0.1954021006822586,
          -0.22002342343330383,
          -0.36031556129455566,
          -0.22276045382022858,
          -0.0053030564449727535,
          -0.20748023688793182,
          -0.03861374408006668,
          -0.8110403418540955,
          0.08502055704593658,
          -0.6033912301063538,
          -0.24759669601917267,
          -0.6171042919158936,
          0.3991013765335083,
          0.27165287733078003,
          -0.23806414008140564,
          1.3263911008834839,
          0.04108967259526253,
          0.8522553443908691,
          0.05813099443912506,
          -0.6247029900550842,
          0.23796865344047546,
          -0.20736369490623474,
          0.01176538411527872,
          0.26770588755607605,
          -0.34266674518585205,
          -0.23430265486240387,
          0.0561915747821331,
          -0.6311955451965332,
          0.2563125193119049,
          -0.06058809161186218,
          -0.41251593828201294,
          -0.31453654170036316,
          0.5922874808311462,
          -0.6037861108779907,
          -0.2809498906135559,
          -0.13406223058700562,
          -0.41436856985092163,
          -0.07979677617549896,
          -0.3438633978366852,
          1.4750031232833862,
          0.07154656201601028,
          -0.048124995082616806,
          -0.5542111396789551,
          0.3829393982887268,
          -0.37663519382476807,
          1.145738959312439,
          0.45248883962631226,
          -0.8849446773529053,
          -0.4224100410938263,
          -0.07649607956409454,
          -0.16427555680274963,
          -0.7411909103393555,
          3.9295761585235596,
          -0.3155538737773895,
          0.5251559615135193,
          0.7072991728782654,
          -0.6452908515930176,
          -0.4131094813346863,
          0.12722259759902954,
          -0.5446124076843262,
          -0.41452667117118835,
          -0.2712623178958893,
          2.4140236377716064,
          0.13112872838974,
          -0.5116406083106995,
          -0.5543458461761475,
          -0.5044577121734619,
          0.06886415928602219,
          0.32971319556236267,
          0.15521928668022156,
          0.04975828155875206,
          -0.439033180475235,
          0.04240487143397331,
          -0.9470669627189636,
          0.08571149408817291,
          0.2772636413574219,
          -0.38534900546073914,
          -0.35105013847351074,
          0.3226192593574524,
          -0.11756383627653122,
          -0.21055905520915985
         ],
         "y": [
          -0.0086174001917243,
          -0.11451591551303864,
          0.7230667471885681,
          -0.09132993966341019,
          -0.0500980019569397,
          -0.0764114186167717,
          0.06130553036928177,
          0.046944040805101395,
          -0.023286402225494385,
          0.3120536506175995,
          0.750910222530365,
          -0.07277385890483856,
          -0.07172133773565292,
          -1.1101675033569336,
          0.20099611580371857,
          0.038296107202768326,
          0.0007485635578632355,
          0.02333199791610241,
          -0.06423858553171158,
          0.15425071120262146,
          0.031073447316884995,
          0.008215729147195816,
          -0.12204261869192123,
          -0.08532572537660599,
          -0.41299712657928467,
          -1.3797876834869385,
          -0.05423058569431305,
          0.11856644600629807,
          -0.04938158020377159,
          0.32494455575942993,
          -0.023740801960229874,
          -0.011033251881599426,
          0.02563660405576229,
          -0.05907260254025459,
          -0.2774656414985657,
          -0.10782782733440399,
          0.13071885704994202,
          0.1158672645688057,
          -0.047193482518196106,
          -0.011008919216692448,
          0.004662793595343828,
          -0.7260604500770569,
          -0.0251629501581192,
          0.17931920289993286,
          -0.039553530514240265,
          -0.05336973816156387,
          -0.3606208562850952,
          -0.21544302999973297,
          -0.09597698599100113,
          0.10941263288259506,
          -0.058003079146146774,
          0.1957688182592392,
          0.20868945121765137,
          0.08987943828105927,
          -0.09674108773469925,
          -0.05423722788691521,
          -0.18544898927211761,
          0.3355988562107086,
          0.07368721812963486,
          0.026993360370397568,
          -0.03210802376270294,
          0.04906746372580528,
          -1.400863766670227,
          -0.03768383711576462,
          -0.06442318856716156,
          -0.8240731358528137,
          0.015389058738946915,
          -0.32403141260147095,
          0.026314925402402878,
          0.05085797980427742,
          0.24506036937236786,
          -0.0021073182579129934,
          -0.03153974935412407,
          -0.05267692729830742,
          0.16203007102012634,
          0.04312095791101456,
          -0.059437669813632965,
          -0.8514388203620911,
          -0.12294300645589828,
          -1.3247498273849487,
          0.061135463416576385,
          -0.5630536079406738,
          -0.13275910913944244,
          0.2278750091791153,
          -0.6352980136871338,
          -0.7721810340881348,
          -0.24477094411849976,
          -0.026218675076961517,
          0.11515761911869049,
          0.11688049882650375,
          0.2880506217479706,
          -0.06939076632261276,
          0.031159033998847008,
          -0.04451747611165047,
          0.0021683652885258198,
          -0.0494263730943203,
          0.6432210803031921,
          0.041427966207265854,
          0.30707284808158875,
          0.10589364171028137,
          -0.05804609879851341,
          0.05399836227297783,
          -0.13318096101284027,
          0.2068907618522644,
          0.14025545120239258,
          0.006398968864232302,
          -0.24666157364845276,
          0.039705000817775726,
          0.2490086555480957,
          -0.0007575195049867034,
          0.04881782829761505,
          0.04698772728443146,
          -0.12327810376882553,
          0.3189815878868103,
          -0.3206804394721985,
          0.6118789315223694,
          0.044878046959638596,
          -0.06280305236577988,
          -0.8337290287017822,
          -0.27083083987236023,
          0.2282460778951645,
          0.5508770942687988,
          -0.5411841869354248,
          -0.1414491981267929,
          0.1917593628168106,
          0.15263478457927704,
          -0.09186551719903946,
          2.050567865371704,
          0.007391204591840506,
          -0.11516249179840088,
          0.09437330067157745,
          0.3395001292228699,
          0.3801937997341156,
          -0.1629968285560608,
          0.21512621641159058,
          -0.06994669884443283,
          -0.09717883914709091,
          0.24703292548656464,
          -0.03868691623210907,
          0.2034296691417694,
          0.18671447038650513,
          0.25280940532684326,
          -0.04704566299915314,
          -0.11624862998723984,
          -0.025057485327124596,
          -0.028127288445830345,
          0.018512750044465065,
          0.22151221334934235,
          0.03446612507104874,
          -0.0562102273106575,
          -0.061069466173648834,
          1.3776347637176514,
          -0.5702179670333862,
          0.07829158008098602,
          -0.03037586435675621,
          0.08362717926502228,
          -0.5260297656059265,
          0.026866793632507324,
          0.2598433792591095,
          -0.2451208084821701,
          0.16281139850616455,
          0.7624871134757996,
          -0.3725084960460663,
          -0.03963776305317879,
          0.14999127388000488,
          -0.37885570526123047,
          -0.47513073682785034,
          0.08897291868925095,
          -0.027932744473218918,
          0.2694832980632782,
          0.10944060236215591,
          -0.02249780483543873,
          -0.0523066520690918,
          0.01180175505578518,
          0.10236857831478119,
          0.24962708353996277,
          -0.19620740413665771,
          0.06483560800552368,
          -0.20325765013694763,
          0.1802598237991333,
          -0.03776075690984726,
          0.0841769129037857,
          0.18961955606937408,
          0.032480258494615555,
          -0.2896919548511505,
          0.06341564655303955,
          -0.28120577335357666,
          -0.06366851925849915,
          -0.07876226305961609,
          0.328647643327713,
          -0.12880556285381317,
          0.05205676704645157,
          0.13717684149742126,
          -0.2353113889694214,
          -0.23280267417430878,
          -0.0746045708656311,
          1.7165699005126953,
          0.022166088223457336,
          0.3370499312877655,
          -0.3598329424858093,
          -0.02438211813569069,
          1.1534785032272339,
          -0.19441071152687073,
          -0.06762630492448807,
          -0.33674880862236023,
          -0.4863731563091278,
          -0.04149974137544632,
          0.21435298025608063,
          0.11814258247613907,
          -0.10284480452537537,
          -0.4197436571121216,
          0.0823342576622963,
          -0.1167396828532219,
          0.202877476811409,
          -0.0057862019166350365,
          0.22288431227207184,
          -0.07624039053916931,
          0.39057525992393494,
          0.08948074281215668,
          0.1216590628027916,
          -0.13493959605693817,
          0.07253902405500412,
          -0.03888092562556267,
          -0.12050733715295792,
          -0.08749991655349731,
          -0.1543985903263092,
          0.2767314612865448,
          0.11327920854091644,
          -0.12200651317834854,
          0.2584667205810547,
          0.0744316428899765,
          0.436550498008728,
          -0.11579753458499908,
          -0.10416244715452194,
          -1.332890510559082,
          0.12499944865703583,
          -0.5450669527053833,
          -1.0096291303634644,
          0.03497454896569252,
          -0.03168446570634842,
          0.021113451570272446,
          -0.32116439938545227,
          0.07098808884620667,
          0.021738838404417038,
          -0.012444188818335533,
          -0.13021981716156006,
          -0.042288560420274734,
          0.13812294602394104,
          0.15001393854618073,
          0.30672740936279297,
          -0.1742999106645584,
          -0.3309582471847534,
          0.12021523714065552,
          -0.048755764961242676,
          0.07193732261657715,
          -0.025781141594052315,
          -0.012193185277283192,
          -0.06581014394760132,
          1.9493513107299805,
          -0.021544963121414185,
          0.35318058729171753,
          0.3125297427177429,
          0.9876208305358887,
          -0.1705458015203476,
          1.1950170993804932,
          -0.7457061409950256,
          0.17578409612178802,
          -0.08182467520236969,
          -0.03910490870475769,
          0.01358823198825121,
          0.09340457618236542,
          0.3361312747001648,
          0.06406960636377335,
          0.0143983019515872,
          1.2464137077331543,
          0.09503839910030365,
          -0.002052248688414693,
          0.22991524636745453,
          0.035837940871715546,
          -0.013867676258087158,
          -0.21913699805736542,
          -1.345163345336914,
          -0.12834006547927856,
          -0.01115252636373043,
          -0.05980238690972328,
          0.10940273106098175,
          -0.17459961771965027,
          -0.01829725131392479,
          -0.11146954447031021,
          -0.19870787858963013,
          -0.04344158619642258,
          -0.019738629460334778,
          0.13429071009159088,
          0.009689966216683388,
          -0.531988799571991,
          -0.0586455762386322,
          -0.07994803041219711,
          0.10265742987394333,
          0.08877439051866531,
          0.030965911224484444
         ],
         "z": [
          0.012939372099936008,
          -0.025449516251683235,
          -0.5496358871459961,
          -0.15923288464546204,
          0.011134931817650795,
          0.07051879167556763,
          0.35512372851371765,
          0.06631715595722198,
          0.36191239953041077,
          0.010893958620727062,
          1.531903862953186,
          0.1429092288017273,
          0.08533947169780731,
          -0.09873168915510178,
          -0.2318529635667801,
          0.050027038902044296,
          -0.17580890655517578,
          0.260185569524765,
          -0.43053457140922546,
          0.18717125058174133,
          -0.01129149366170168,
          -0.20508356392383575,
          -0.10630268603563309,
          -0.20536266267299652,
          0.22015602886676788,
          -0.4551260471343994,
          -0.2968166768550873,
          -0.036098334938287735,
          0.04925798997282982,
          0.19187702238559723,
          -0.06904788315296173,
          1.2908207178115845,
          -0.0064645796082913876,
          -0.3332432806491852,
          0.2618439793586731,
          0.001624102471396327,
          -1.332431435585022,
          -0.22505883872509003,
          -0.47099292278289795,
          0.060869380831718445,
          -0.2702995240688324,
          -0.24243950843811035,
          0.05765048786997795,
          0.02379143051803112,
          -0.021725330501794815,
          -0.14334845542907715,
          -0.2178526371717453,
          -0.03171485289931297,
          -0.10780549049377441,
          0.08539538085460663,
          -0.06337141990661621,
          -0.06363256275653839,
          0.20229971408843994,
          0.00638685654848814,
          -0.012257246300578117,
          -0.010967188514769077,
          0.30466896295547485,
          0.14502079784870148,
          -0.058817166835069656,
          -0.09823045879602432,
          0.05656728893518448,
          0.0074632554315030575,
          -0.236240416765213,
          -0.22872842848300934,
          0.10183530300855637,
          -0.11309253424406052,
          0.16152212023735046,
          0.13046331703662872,
          0.012532788328826427,
          -0.042439185082912445,
          0.08182358741760254,
          0.11451840400695801,
          0.07384539395570755,
          0.00343438982963562,
          -0.23323433101177216,
          0.16129755973815918,
          0.08771254867315292,
          0.0038053200114518404,
          0.026895910501480103,
          -0.22432783246040344,
          0.04294370859861374,
          0.42785727977752686,
          -0.05206923931837082,
          -0.25357306003570557,
          -0.06139848753809929,
          0.04553082957863808,
          0.18460871279239655,
          -0.12881046533584595,
          0.1606292575597763,
          -0.01895825006067753,
          -0.26112034916877747,
          -0.8624416589736938,
          -0.2667571008205414,
          -0.01271054521203041,
          -0.0777713879942894,
          0.03945721313357353,
          -0.10674002766609192,
          -0.02056172303855419,
          0.0945056602358818,
          -0.23795728385448456,
          -0.20762062072753906,
          -0.08418341726064682,
          -0.011412524618208408,
          0.05642160028219223,
          0.16818886995315552,
          0.10370238870382309,
          -0.06464548408985138,
          -0.07959713786840439,
          0.2722409665584564,
          0.2495882213115692,
          -0.1368994563817978,
          -0.05558103695511818,
          0.07331959903240204,
          -0.1664309799671173,
          0.3886089324951172,
          -0.0655587837100029,
          0.12910784780979156,
          -0.08025091886520386,
          -0.0440860316157341,
          0.9413806200027466,
          -0.15030215680599213,
          0.21890147030353546,
          0.10631100833415985,
          -0.1673215627670288,
          0.0011195490369573236,
          0.0921621173620224,
          -0.012194686569273472,
          0.9932644367218018,
          0.216453418135643,
          -0.11924091726541519,
          0.2715078294277191,
          0.10519172996282578,
          0.3837973177433014,
          -0.20637451112270355,
          0.13167975842952728,
          0.03946477919816971,
          0.07671783119440079,
          -0.07284651696681976,
          -0.05885876342654228,
          -0.2639923691749573,
          0.3169315755367279,
          0.0034190185833722353,
          -0.12397383898496628,
          -0.07846109569072723,
          -0.03350939229130745,
          -0.007623205427080393,
          -0.22165167331695557,
          0.18051987886428833,
          0.2287282943725586,
          0.2133135199546814,
          0.017417114228010178,
          -0.620149552822113,
          0.10205195844173431,
          -0.15499620139598846,
          -0.1358107477426529,
          -0.16519704461097717,
          0.39162999391555786,
          -0.05630050599575043,
          0.037708427757024765,
          0.29173269867897034,
          0.2331656813621521,
          -0.3217427432537079,
          0.08332018554210663,
          -0.08588190376758575,
          -0.06744866818189621,
          0.06291968375444412,
          -0.12875908613204956,
          -0.12061819434165955,
          -0.1418427675962448,
          -0.2624552249908447,
          -0.9729364514350891,
          -0.2974698543548584,
          0.1865663081407547,
          0.031137272715568542,
          -0.18178732693195343,
          -0.2376936674118042,
          0.10253401100635529,
          0.044565752148628235,
          0.14943304657936096,
          0.007245110813528299,
          -0.009583069011569023,
          0.014464068226516247,
          -0.03952749818563461,
          -0.16452951729297638,
          -0.06520739942789078,
          0.07176512479782104,
          0.04816082864999771,
          -0.016948368400335312,
          0.0026680966839194298,
          0.11049410700798035,
          -0.9423154592514038,
          0.2359488159418106,
          -0.03137332946062088,
          0.31680184602737427,
          0.07111676782369614,
          -0.07983826100826263,
          2.5314078330993652,
          0.08877235651016235,
          -0.12063198536634445,
          0.24347497522830963,
          0.09118589013814926,
          0.9214504957199097,
          0.14764952659606934,
          0.028202731162309647,
          -0.3308298587799072,
          0.19832202792167664,
          0.02183247171342373,
          -0.147123783826828,
          -0.10403832048177719,
          0.32521748542785645,
          -0.010115659795701504,
          -0.14645521342754364,
          -0.0386001281440258,
          0.1123715192079544,
          -0.11393003910779953,
          -0.05214524269104004,
          0.23557382822036743,
          0.08605258166790009,
          -0.05288051441311836,
          -0.004201126750558615,
          0.29284292459487915,
          0.08380191773176193,
          -0.008116480894386768,
          -0.1067860871553421,
          0.14666520059108734,
          -0.012153821997344494,
          -0.1683831810951233,
          -0.06771570444107056,
          0.030755558982491493,
          0.30829644203186035,
          0.39023059606552124,
          0.2634128928184509,
          0.3138028383255005,
          0.07771923393011093,
          -0.4078175127506256,
          -0.19149775803089142,
          0.376990407705307,
          0.20333008468151093,
          -0.1512279361486435,
          -0.1771213412284851,
          -0.05945173650979996,
          0.1571538895368576,
          -0.16364260017871857,
          -0.04341745749115944,
          0.03407025337219238,
          -0.15866371989250183,
          -0.06376513838768005,
          -0.08186736702919006,
          0.004916122183203697,
          -0.17841805517673492,
          -0.14684684574604034,
          0.12401578575372696,
          0.15226352214813232,
          0.012684140354394913,
          0.16596359014511108,
          -0.042760975658893585,
          -0.08852564543485641,
          0.0771971046924591,
          -1.4520236253738403,
          0.004356412682682276,
          -0.06584060937166214,
          0.21612702310085297,
          -0.3596062958240509,
          -0.10126350820064545,
          -1.0692706108093262,
          -0.03842674568295479,
          0.08884482085704803,
          -0.14010092616081238,
          -0.17485873401165009,
          -0.07775438576936722,
          0.01735573261976242,
          -1.3600269556045532,
          -0.20928239822387695,
          -0.15088719129562378,
          -1.0333360433578491,
          -0.0016139446524903178,
          -0.019776083528995514,
          -0.08387819677591324,
          -0.10304874181747437,
          0.16933786869049072,
          0.425933837890625,
          0.9707729816436768,
          -0.22056061029434204,
          -0.14022351801395416,
          -0.11279469728469849,
          -0.06893974542617798,
          0.11090980470180511,
          0.3784479796886444,
          -0.013307958841323853,
          0.008276699110865593,
          -0.12144830077886581,
          0.358658105134964,
          -0.03986383602023125,
          -0.2742065489292145,
          0.16306880116462708,
          0.04381091520190239,
          0.38175690174102783,
          0.0449875183403492,
          0.17119738459587097,
          0.4468105435371399
         ]
        }
       ],
       "layout": {
        "coloraxis": {
         "colorbar": {
          "title": {
           "text": "color"
          }
         },
         "colorscale": [
          [
           0,
           "#0d0887"
          ],
          [
           0.1111111111111111,
           "#46039f"
          ],
          [
           0.2222222222222222,
           "#7201a8"
          ],
          [
           0.3333333333333333,
           "#9c179e"
          ],
          [
           0.4444444444444444,
           "#bd3786"
          ],
          [
           0.5555555555555556,
           "#d8576b"
          ],
          [
           0.6666666666666666,
           "#ed7953"
          ],
          [
           0.7777777777777778,
           "#fb9f3a"
          ],
          [
           0.8888888888888888,
           "#fdca26"
          ],
          [
           1,
           "#f0f921"
          ]
         ]
        },
        "height": 800,
        "legend": {
         "itemsizing": "constant",
         "tracegroupgap": 0
        },
        "margin": {
         "t": 60
        },
        "scene": {
         "domain": {
          "x": [
           0,
           1
          ],
          "y": [
           0,
           1
          ]
         },
         "xaxis": {
          "title": {
           "text": "dim1"
          }
         },
         "yaxis": {
          "title": {
           "text": "dim2"
          }
         },
         "zaxis": {
          "title": {
           "text": "dim3"
          }
         }
        },
        "template": {
         "data": {
          "bar": [
           {
            "error_x": {
             "color": "#2a3f5f"
            },
            "error_y": {
             "color": "#2a3f5f"
            },
            "marker": {
             "line": {
              "color": "#E5ECF6",
              "width": 0.5
             },
             "pattern": {
              "fillmode": "overlay",
              "size": 10,
              "solidity": 0.2
             }
            },
            "type": "bar"
           }
          ],
          "barpolar": [
           {
            "marker": {
             "line": {
              "color": "#E5ECF6",
              "width": 0.5
             },
             "pattern": {
              "fillmode": "overlay",
              "size": 10,
              "solidity": 0.2
             }
            },
            "type": "barpolar"
           }
          ],
          "carpet": [
           {
            "aaxis": {
             "endlinecolor": "#2a3f5f",
             "gridcolor": "white",
             "linecolor": "white",
             "minorgridcolor": "white",
             "startlinecolor": "#2a3f5f"
            },
            "baxis": {
             "endlinecolor": "#2a3f5f",
             "gridcolor": "white",
             "linecolor": "white",
             "minorgridcolor": "white",
             "startlinecolor": "#2a3f5f"
            },
            "type": "carpet"
           }
          ],
          "choropleth": [
           {
            "colorbar": {
             "outlinewidth": 0,
             "ticks": ""
            },
            "type": "choropleth"
           }
          ],
          "contour": [
           {
            "colorbar": {
             "outlinewidth": 0,
             "ticks": ""
            },
            "colorscale": [
             [
              0,
              "#0d0887"
             ],
             [
              0.1111111111111111,
              "#46039f"
             ],
             [
              0.2222222222222222,
              "#7201a8"
             ],
             [
              0.3333333333333333,
              "#9c179e"
             ],
             [
              0.4444444444444444,
              "#bd3786"
             ],
             [
              0.5555555555555556,
              "#d8576b"
             ],
             [
              0.6666666666666666,
              "#ed7953"
             ],
             [
              0.7777777777777778,
              "#fb9f3a"
             ],
             [
              0.8888888888888888,
              "#fdca26"
             ],
             [
              1,
              "#f0f921"
             ]
            ],
            "type": "contour"
           }
          ],
          "contourcarpet": [
           {
            "colorbar": {
             "outlinewidth": 0,
             "ticks": ""
            },
            "type": "contourcarpet"
           }
          ],
          "heatmap": [
           {
            "colorbar": {
             "outlinewidth": 0,
             "ticks": ""
            },
            "colorscale": [
             [
              0,
              "#0d0887"
             ],
             [
              0.1111111111111111,
              "#46039f"
             ],
             [
              0.2222222222222222,
              "#7201a8"
             ],
             [
              0.3333333333333333,
              "#9c179e"
             ],
             [
              0.4444444444444444,
              "#bd3786"
             ],
             [
              0.5555555555555556,
              "#d8576b"
             ],
             [
              0.6666666666666666,
              "#ed7953"
             ],
             [
              0.7777777777777778,
              "#fb9f3a"
             ],
             [
              0.8888888888888888,
              "#fdca26"
             ],
             [
              1,
              "#f0f921"
             ]
            ],
            "type": "heatmap"
           }
          ],
          "heatmapgl": [
           {
            "colorbar": {
             "outlinewidth": 0,
             "ticks": ""
            },
            "colorscale": [
             [
              0,
              "#0d0887"
             ],
             [
              0.1111111111111111,
              "#46039f"
             ],
             [
              0.2222222222222222,
              "#7201a8"
             ],
             [
              0.3333333333333333,
              "#9c179e"
             ],
             [
              0.4444444444444444,
              "#bd3786"
             ],
             [
              0.5555555555555556,
              "#d8576b"
             ],
             [
              0.6666666666666666,
              "#ed7953"
             ],
             [
              0.7777777777777778,
              "#fb9f3a"
             ],
             [
              0.8888888888888888,
              "#fdca26"
             ],
             [
              1,
              "#f0f921"
             ]
            ],
            "type": "heatmapgl"
           }
          ],
          "histogram": [
           {
            "marker": {
             "pattern": {
              "fillmode": "overlay",
              "size": 10,
              "solidity": 0.2
             }
            },
            "type": "histogram"
           }
          ],
          "histogram2d": [
           {
            "colorbar": {
             "outlinewidth": 0,
             "ticks": ""
            },
            "colorscale": [
             [
              0,
              "#0d0887"
             ],
             [
              0.1111111111111111,
              "#46039f"
             ],
             [
              0.2222222222222222,
              "#7201a8"
             ],
             [
              0.3333333333333333,
              "#9c179e"
             ],
             [
              0.4444444444444444,
              "#bd3786"
             ],
             [
              0.5555555555555556,
              "#d8576b"
             ],
             [
              0.6666666666666666,
              "#ed7953"
             ],
             [
              0.7777777777777778,
              "#fb9f3a"
             ],
             [
              0.8888888888888888,
              "#fdca26"
             ],
             [
              1,
              "#f0f921"
             ]
            ],
            "type": "histogram2d"
           }
          ],
          "histogram2dcontour": [
           {
            "colorbar": {
             "outlinewidth": 0,
             "ticks": ""
            },
            "colorscale": [
             [
              0,
              "#0d0887"
             ],
             [
              0.1111111111111111,
              "#46039f"
             ],
             [
              0.2222222222222222,
              "#7201a8"
             ],
             [
              0.3333333333333333,
              "#9c179e"
             ],
             [
              0.4444444444444444,
              "#bd3786"
             ],
             [
              0.5555555555555556,
              "#d8576b"
             ],
             [
              0.6666666666666666,
              "#ed7953"
             ],
             [
              0.7777777777777778,
              "#fb9f3a"
             ],
             [
              0.8888888888888888,
              "#fdca26"
             ],
             [
              1,
              "#f0f921"
             ]
            ],
            "type": "histogram2dcontour"
           }
          ],
          "mesh3d": [
           {
            "colorbar": {
             "outlinewidth": 0,
             "ticks": ""
            },
            "type": "mesh3d"
           }
          ],
          "parcoords": [
           {
            "line": {
             "colorbar": {
              "outlinewidth": 0,
              "ticks": ""
             }
            },
            "type": "parcoords"
           }
          ],
          "pie": [
           {
            "automargin": true,
            "type": "pie"
           }
          ],
          "scatter": [
           {
            "fillpattern": {
             "fillmode": "overlay",
             "size": 10,
             "solidity": 0.2
            },
            "type": "scatter"
           }
          ],
          "scatter3d": [
           {
            "line": {
             "colorbar": {
              "outlinewidth": 0,
              "ticks": ""
             }
            },
            "marker": {
             "colorbar": {
              "outlinewidth": 0,
              "ticks": ""
             }
            },
            "type": "scatter3d"
           }
          ],
          "scattercarpet": [
           {
            "marker": {
             "colorbar": {
              "outlinewidth": 0,
              "ticks": ""
             }
            },
            "type": "scattercarpet"
           }
          ],
          "scattergeo": [
           {
            "marker": {
             "colorbar": {
              "outlinewidth": 0,
              "ticks": ""
             }
            },
            "type": "scattergeo"
           }
          ],
          "scattergl": [
           {
            "marker": {
             "colorbar": {
              "outlinewidth": 0,
              "ticks": ""
             }
            },
            "type": "scattergl"
           }
          ],
          "scattermapbox": [
           {
            "marker": {
             "colorbar": {
              "outlinewidth": 0,
              "ticks": ""
             }
            },
            "type": "scattermapbox"
           }
          ],
          "scatterpolar": [
           {
            "marker": {
             "colorbar": {
              "outlinewidth": 0,
              "ticks": ""
             }
            },
            "type": "scatterpolar"
           }
          ],
          "scatterpolargl": [
           {
            "marker": {
             "colorbar": {
              "outlinewidth": 0,
              "ticks": ""
             }
            },
            "type": "scatterpolargl"
           }
          ],
          "scatterternary": [
           {
            "marker": {
             "colorbar": {
              "outlinewidth": 0,
              "ticks": ""
             }
            },
            "type": "scatterternary"
           }
          ],
          "surface": [
           {
            "colorbar": {
             "outlinewidth": 0,
             "ticks": ""
            },
            "colorscale": [
             [
              0,
              "#0d0887"
             ],
             [
              0.1111111111111111,
              "#46039f"
             ],
             [
              0.2222222222222222,
              "#7201a8"
             ],
             [
              0.3333333333333333,
              "#9c179e"
             ],
             [
              0.4444444444444444,
              "#bd3786"
             ],
             [
              0.5555555555555556,
              "#d8576b"
             ],
             [
              0.6666666666666666,
              "#ed7953"
             ],
             [
              0.7777777777777778,
              "#fb9f3a"
             ],
             [
              0.8888888888888888,
              "#fdca26"
             ],
             [
              1,
              "#f0f921"
             ]
            ],
            "type": "surface"
           }
          ],
          "table": [
           {
            "cells": {
             "fill": {
              "color": "#EBF0F8"
             },
             "line": {
              "color": "white"
             }
            },
            "header": {
             "fill": {
              "color": "#C8D4E3"
             },
             "line": {
              "color": "white"
             }
            },
            "type": "table"
           }
          ]
         },
         "layout": {
          "annotationdefaults": {
           "arrowcolor": "#2a3f5f",
           "arrowhead": 0,
           "arrowwidth": 1
          },
          "autotypenumbers": "strict",
          "coloraxis": {
           "colorbar": {
            "outlinewidth": 0,
            "ticks": ""
           }
          },
          "colorscale": {
           "diverging": [
            [
             0,
             "#8e0152"
            ],
            [
             0.1,
             "#c51b7d"
            ],
            [
             0.2,
             "#de77ae"
            ],
            [
             0.3,
             "#f1b6da"
            ],
            [
             0.4,
             "#fde0ef"
            ],
            [
             0.5,
             "#f7f7f7"
            ],
            [
             0.6,
             "#e6f5d0"
            ],
            [
             0.7,
             "#b8e186"
            ],
            [
             0.8,
             "#7fbc41"
            ],
            [
             0.9,
             "#4d9221"
            ],
            [
             1,
             "#276419"
            ]
           ],
           "sequential": [
            [
             0,
             "#0d0887"
            ],
            [
             0.1111111111111111,
             "#46039f"
            ],
            [
             0.2222222222222222,
             "#7201a8"
            ],
            [
             0.3333333333333333,
             "#9c179e"
            ],
            [
             0.4444444444444444,
             "#bd3786"
            ],
            [
             0.5555555555555556,
             "#d8576b"
            ],
            [
             0.6666666666666666,
             "#ed7953"
            ],
            [
             0.7777777777777778,
             "#fb9f3a"
            ],
            [
             0.8888888888888888,
             "#fdca26"
            ],
            [
             1,
             "#f0f921"
            ]
           ],
           "sequentialminus": [
            [
             0,
             "#0d0887"
            ],
            [
             0.1111111111111111,
             "#46039f"
            ],
            [
             0.2222222222222222,
             "#7201a8"
            ],
            [
             0.3333333333333333,
             "#9c179e"
            ],
            [
             0.4444444444444444,
             "#bd3786"
            ],
            [
             0.5555555555555556,
             "#d8576b"
            ],
            [
             0.6666666666666666,
             "#ed7953"
            ],
            [
             0.7777777777777778,
             "#fb9f3a"
            ],
            [
             0.8888888888888888,
             "#fdca26"
            ],
            [
             1,
             "#f0f921"
            ]
           ]
          },
          "colorway": [
           "#636efa",
           "#EF553B",
           "#00cc96",
           "#ab63fa",
           "#FFA15A",
           "#19d3f3",
           "#FF6692",
           "#B6E880",
           "#FF97FF",
           "#FECB52"
          ],
          "font": {
           "color": "#2a3f5f"
          },
          "geo": {
           "bgcolor": "white",
           "lakecolor": "white",
           "landcolor": "#E5ECF6",
           "showlakes": true,
           "showland": true,
           "subunitcolor": "white"
          },
          "hoverlabel": {
           "align": "left"
          },
          "hovermode": "closest",
          "mapbox": {
           "style": "light"
          },
          "paper_bgcolor": "white",
          "plot_bgcolor": "#E5ECF6",
          "polar": {
           "angularaxis": {
            "gridcolor": "white",
            "linecolor": "white",
            "ticks": ""
           },
           "bgcolor": "#E5ECF6",
           "radialaxis": {
            "gridcolor": "white",
            "linecolor": "white",
            "ticks": ""
           }
          },
          "scene": {
           "xaxis": {
            "backgroundcolor": "#E5ECF6",
            "gridcolor": "white",
            "gridwidth": 2,
            "linecolor": "white",
            "showbackground": true,
            "ticks": "",
            "zerolinecolor": "white"
           },
           "yaxis": {
            "backgroundcolor": "#E5ECF6",
            "gridcolor": "white",
            "gridwidth": 2,
            "linecolor": "white",
            "showbackground": true,
            "ticks": "",
            "zerolinecolor": "white"
           },
           "zaxis": {
            "backgroundcolor": "#E5ECF6",
            "gridcolor": "white",
            "gridwidth": 2,
            "linecolor": "white",
            "showbackground": true,
            "ticks": "",
            "zerolinecolor": "white"
           }
          },
          "shapedefaults": {
           "line": {
            "color": "#2a3f5f"
           }
          },
          "ternary": {
           "aaxis": {
            "gridcolor": "white",
            "linecolor": "white",
            "ticks": ""
           },
           "baxis": {
            "gridcolor": "white",
            "linecolor": "white",
            "ticks": ""
           },
           "bgcolor": "#E5ECF6",
           "caxis": {
            "gridcolor": "white",
            "linecolor": "white",
            "ticks": ""
           }
          },
          "title": {
           "x": 0.05
          },
          "xaxis": {
           "automargin": true,
           "gridcolor": "white",
           "linecolor": "white",
           "ticks": "",
           "title": {
            "standoff": 15
           },
           "zerolinecolor": "white",
           "zerolinewidth": 2
          },
          "yaxis": {
           "automargin": true,
           "gridcolor": "white",
           "linecolor": "white",
           "ticks": "",
           "title": {
            "standoff": 15
           },
           "zerolinecolor": "white",
           "zerolinewidth": 2
          }
         }
        },
        "width": 800
       }
      },
      "text/html": [
       "<div>                            <div id=\"7d82b8db-126a-4e2b-a768-a4908b86e193\" class=\"plotly-graph-div\" style=\"height:800px; width:800px;\"></div>            <script type=\"text/javascript\">                require([\"plotly\"], function(Plotly) {                    window.PLOTLYENV=window.PLOTLYENV || {};                                    if (document.getElementById(\"7d82b8db-126a-4e2b-a768-a4908b86e193\")) {                    Plotly.newPlot(                        \"7d82b8db-126a-4e2b-a768-a4908b86e193\",                        [{\"hovertemplate\":\"dim1=%{x}<br>dim2=%{y}<br>dim3=%{z}<br>size=%{marker.size}<br>word=%{text}<br>color=%{marker.color}<extra></extra>\",\"legendgroup\":\"\",\"marker\":{\"color\":[1,0,1,0,1,1,0,1,1,0,1,0,1,1,0,1,1,0,0,1,1,1,1,1,1,2,0,1,1,0,0,2,0,1,1,0,2,0,1,0,1,1,1,1,0,0,1,1,0,1,0,0,0,1,0,0,0,1,1,0,1,0,2,1,1,1,1,1,1,1,1,0,0,0,0,0,0,2,1,2,1,1,1,1,2,1,1,0,1,1,0,0,0,1,0,1,1,0,1,0,0,0,1,1,0,0,1,1,1,1,0,0,1,1,1,1,1,1,1,2,0,1,1,0,0,0,1,3,0,0,0,0,0,1,0,0,0,0,0,0,0,0,0,1,1,0,1,1,1,1,0,2,0,0,1,1,1,1,0,1,0,1,1,1,0,1,0,1,0,0,2,2,0,1,1,0,1,2,1,1,0,1,0,1,0,0,1,1,0,1,2,1,1,0,1,1,3,1,1,1,0,1,1,0,2,1,1,0,1,1,1,1,1,0,0,1,0,1,0,1,0,0,0,1,1,1,0,1,0,0,0,1,1,0,2,1,1,1,0,1,0,1,1,0,1,1,0,1,1,0,0,1,0,0,1,0,1,0,2,1,1,0,1,0,2,1,0,0,1,1,0,2,0,1,1,0,0,1,0,0,0,2,1,0,0,0,1,1,1,1,0,1,0,1,1,0,0,1,1,0],\"coloraxis\":\"coloraxis\",\"size\":[0.5,0.5,0.5,0.5,0.5,0.5,0.5,0.5,0.5,0.5,0.5,0.5,0.5,0.5,0.5,0.5,0.5,0.5,0.5,0.5,0.5,0.5,0.5,0.5,0.5,0.5,0.5,0.5,0.5,0.5,0.5,0.5,0.5,0.5,0.5,0.5,0.5,0.5,0.5,0.5,0.5,0.5,0.5,0.5,0.5,0.5,0.5,0.5,0.5,0.5,0.5,0.5,0.5,0.5,0.5,0.5,0.5,0.5,0.5,0.5,0.5,0.5,0.5,0.5,0.5,0.5,0.5,0.5,0.5,0.5,0.5,0.5,0.5,0.5,0.5,0.5,0.5,0.5,0.5,0.5,0.5,0.5,0.5,0.5,0.5,0.5,0.5,0.5,0.5,0.5,0.5,0.5,0.5,0.5,0.5,0.5,0.5,0.5,0.5,0.5,0.5,0.5,0.5,0.5,0.5,0.5,0.5,0.5,0.5,0.5,0.5,0.5,0.5,0.5,0.5,0.5,0.5,0.5,0.5,0.5,0.5,0.5,0.5,0.5,0.5,0.5,0.5,0.5,0.5,0.5,0.5,0.5,0.5,0.5,0.5,0.5,0.5,0.5,0.5,0.5,0.5,0.5,0.5,0.5,0.5,0.5,0.5,0.5,0.5,0.5,0.5,0.5,0.5,0.5,0.5,0.5,0.5,0.5,0.5,0.5,0.5,0.5,0.5,0.5,0.5,0.5,0.5,0.5,0.5,0.5,0.5,0.5,0.5,0.5,0.5,0.5,0.5,0.5,0.5,0.5,0.5,0.5,0.5,0.5,0.5,0.5,0.5,0.5,0.5,0.5,0.5,0.5,0.5,0.5,0.5,0.5,0.5,0.5,0.5,0.5,0.5,0.5,0.5,0.5,0.5,0.5,0.5,0.5,0.5,0.5,0.5,0.5,0.5,0.5,0.5,0.5,0.5,0.5,0.5,0.5,0.5,0.5,0.5,0.5,0.5,0.5,0.5,0.5,0.5,0.5,0.5,0.5,0.5,0.5,0.5,0.5,0.5,0.5,0.5,0.5,0.5,0.5,0.5,0.5,0.5,0.5,0.5,0.5,0.5,0.5,0.5,0.5,0.5,0.5,0.5,0.5,0.5,0.5,0.5,0.5,0.5,0.5,0.5,0.5,0.5,0.5,0.5,0.5,0.5,0.5,0.5,0.5,0.5,0.5,0.5,0.5,0.5,0.5,0.5,0.5,0.5,0.5,0.5,0.5,0.5,0.5,0.5,0.5,0.5,0.5,0.5,0.5,0.5,0.5,0.5,0.5,0.5,0.5,0.5,0.5],\"sizemode\":\"area\",\"sizeref\":0.00125,\"symbol\":\"circle\"},\"mode\":\"markers+text\",\"name\":\"\",\"scene\":\"scene\",\"showlegend\":false,\"text\":[\"\\u525b\\u525b\",\"\\u53ef\\u53e3\",\"Sent_from\",\"\\u9084\\u883b\",\"\\u901a\\u5e38\",\"\\u53cb\\u4eba\",\"\\u7d93\\u5178\",\"\\u9700\\u6c42\",\"\\u4e3b\\u6253\",\"\\u5247\\u662f\",\"\\u5b98\\u7db2\",\"\\u91d1\\u6c99\",\"\\u4e00\\u76f4\",\"\\u53f0\\u5317\",\"\\u4e2d\\u898f\\u4e2d\\u77e9\",\"\\u8208\\u8da3\",\"\\u684c\\u5b50\",\"\\u5410\\u53f8\",\"\\u611f\\u89ba\",\"\\u70b8\\u7269\",\"\\u4e4b\\u5f8c\",\"\\u58fd\\u661f\",\"\\u4e0a\\u83dc\",\"\\u524d\\u4f86\",\"\\u9019\\u9593\",\"\\u56db\\u6bb5\",\"\\u98a8\\u5473\",\"\\u83dc\\u76e4\",\"\\u51ac\\u7c89\",\"\\u6fc3\\u6e6f\",\"\\u539a\\u5ea6\",\"\\u7db2\\u8a8c\",\"\\u8089\\u91ac\",\"\\u6392\\u968a\",\"\\u5927\\u8178\",\"\\u9bae\\u7f8e\",\"\\u9031\\u4e94\",\"\\u9069\\u4e2d\",\"\\u5de5\\u4f5c\",\"\\u4e00\\u540c\",\"\\u884c\\u7a0b\",\"\\u5c0f\\u8a55\",\"\\u5427\\u6aaf\",\"\\u89aa\\u6c11\",\"\\u9b5a\\u8089\",\"\\u771f\\u662f\",\"\\u98a8\\u683c\",\"\\u81ea\\u52a9\\u9910\",\"\\u611f\\u53d7\",\"\\u8c46\\u6f3f\",\"\\u8a98\\u4eba\",\"\\u5448\\u73fe\",\"\\u8c46\\u5e72\",\"\\u66f4\\u63db\",\"\\u4f9d\\u7136\",\"\\u539a\\u5be6\",\"\\u53ef\\u980c\",\"\\u5e97\\u54e1\",\"\\u4e0d\\u5230\",\"\\u5438\\u6536\",\"\\u51b0\\u54c1\",\"\\u8fa3\\u5473\",\"\\u5317\\u5e02\",\"\\u53d6\\u9910\",\"\\u969c\\u7919\",\"\\u5e02\\u5834\",\"\\u7522\\u54c1\",\"\\u53e4\\u65e9\\u5473\",\"\\u5e7e\\u500b\",\"\\u62ff\\u5230\",\"\\u505c\\u8eca\",\"\\u863f\\u8514\",\"\\u6afb\\u6843\",\"\\u81ea\\u88fd\",\"\\u86cb\\u9ec3\",\"\\u8543\\u8304\",\"\\u76f8\\u8f03\",\"\\u4eba\\u5747\",\"\\u51fa\\u7210\",\"\\u53f0\\u5357\\u5e02_\\u4e2d\\u897f\\u5340\",\"\\u5dee\\u5225\",\"\\u62c9\\u9eb5\",\"\\u6ce8\\u610f_\\u4e8b\\u9805\",\"\\u6bcf\\u500b\",\"\\u591c\\u5e02\",\"\\u98df\\u5802\",\"\\u5403\\u5230\\u98fd\",\"\\u5f88\\u68d2\",\"\\u5403\\u5403\",\"\\u71b1\\u60c5\",\"\\u6e05\\u6de1\",\"\\u5b8c\\u5168\",\"\\u6f02\\u4eae\",\"\\u76e4\\u5b50\",\"\\u9999\\u6fc3\",\"\\u8c6c\\u4e94\\u82b1\",\"\\u9ede\\u9910\",\"\\u4e0b\\u9762\",\"\\u7a2e\\u985e\",\"\\u6fc3\\u90c1\",\"\\u5e36\\u6709\",\"\\u80e1\\u6912\",\"\\u554f\\u984c\",\"\\u70ba\\u4e3b\",\"\\u914d\\u83dc\",\"\\u6eff\\u8db3\",\"\\u539f\\u4f86\",\"\\u7b49\\u5019\",\"\\u6c34\\u9903\",\"\\u5317\\u6d77\\u9053\",\"\\u904e\\u766e\",\"\\u5fae\\u751c\",\"\\u6e96\\u5099\",\"\\u559d\\u5230\",\"\\u4e3c\\u98ef\",\"\\u98f2\\u6599\",\"\\u6b63\\u5e38\",\"\\u6253\\u5361\",\"\\u53f0\\u5357\",\"\\u8a73\\u7d30\",\"\\u9084\\u7b97\",\"\\u52a0\\u9ede\",\"\\u5c0f\\u5403\",\"\\u5341\\u8db3\",\"\\u4f2f\\u7235\",\"\\u6642\\u852c\",\"\\u4e3b\\u89d2\",\"\\u50f9\\u4f4d\",\"\\u706b\\u817f\",\"\\u8106\\u8106\",\"\\u9846\\u661f\",\"\\u82b1\\u679d\",\"\\u9bae\\u8766\",\"\\u63a5\\u8fd1\",\"\\u8089\\u54c1\",\"\\u4e0d\\u81a9\",\"\\u5343\\u5c64\",\"\\u5f48\\u6027\",\"\\u80e1\\u9ebb\",\"\\u6e05\\u9999\",\"\\u9ad8\\u9e97\\u83dc\",\"\\u642d\\u914d\",\"\\u5976\\u9999\",\"\\u958b\\u8eca\",\"\\u6253\\u5305\",\"\\u67f4\\u9b5a\",\"\\u4e0d\\u7528\",\"\\u7576\\u5929\",\"\\u9020\\u578b\",\"\\u73fe\\u70e4\",\"\\u505a\\u6cd5\",\"\\u670d\\u52d9\\u8cbb\",\"\\u9d28\\u8840\",\"\\u9178\\u9178\\u751c\\u751c\",\"\\u611f\\u5230\",\"\\u80fd\\u5920\",\"\\u725b\\u6392\",\"\\u9ede\\u5fc3\",\"\\u642d\\u914d\\u4e0a\",\"\\u71b1\\u7092\",\"\\u85af\\u689d\",\"JPTT_on\",\"\\u8001\\u5e97\",\"\\u4eba\\u4f86\",\"\\u723d\\u8106\",\"\\u9644\\u8fd1\",\"\\u5373\\u5316\",\"\\u4e5f\\u8a31\",\"\\u6fd5\\u6f64\",\"\\u660e\\u986f\",\"\\u5047\\u65e5\",\"\\u6bcf\\u65e5\",\"\\u7099\\u71d2\",\"\\u5438\\u5f15\",\"\\u4e0d\\u591a\",\"\\u597d\\u559d\",\"\\u6771\\u4eac\",\"\\u505c\\u8eca\\u5834\",\"\\u5357\\u6d0b\",\"\\u6c7a\\u5b9a\",\"\\u6cb9\\u82b1\",\"\\u4eca\\u5929\",\"\\u91ce\\u83c7\",\"\\u6ac3\\u53f0\",\"\\u9bae\\u5ae9\",\"\\u96de\\u817f\\u8089\",\"\\u627e\\u5230\",\"\\u5e2b\\u5085\",\"\\u7f8e\\u4e43\\u6ecb\",\"\\u4e3b\\u98df\",\"\\u5348\\u9910\",\"\\u751f\\u98df\",\"\\u9810\\u7b97\",\"\\u9d28\\u8089\",\"\\u7d93\\u71df\",\"\\u5e7e\\u6b21\",\"\\u5305\\u5ec2\",\"\\u5167\\u4fe1\",\"\\u89aa\\u5207\",\"\\u62ab\\u85a9\",\"\\u90e8\\u4f4d\",\"\\u4e2d\\u6587\",\"\\u9d5d\\u8089\",\"\\u6cbe\\u91ac\",\"\\u516d\\u65e5\",\"\\u6cd5\\u5f0f\",\"\\u8003\\u616e\",\"\\u504f\\u91cd\",\"\\u4e09\\u500b\",\"\\u751c\\u751c\\u5708\",\"\\u5b9c\\u862d\",\"\\u804a\\u5929\",\"\\u958b\\u5e55\",\"\\u666e\\u901a\",\"\\u7368\\u7279\",\"\\u53ea\\u80fd\",\"\\u7279\\u88fd\",\"\\u9078\\u64c7\",\"\\u6709\\u52a0\",\"\\u8c50\\u76db\",\"\\u9019\\u4efd\",\"\\u5730\\u74dc\",\"\\u51b7\\u76e4\",\"\\u5efa\\u7bc9\",\"\\u725b\\u5c0f\\u6392\",\"\\u7cbe\\u7dfb\",\"\\u6e05\\u751c\",\"\\u7e3d\\u5171\",\"\\u7f8e\\u5473\",\"\\u5b63\\u7bc0\",\"\\u6ce1\\u83dc\",\"\\u900f\\u904e\",\"\\u6372\\u9905\",\"\\u7389\\u5b50\\u71d2\",\"\\u4e2d\\u5c71\\u5317\\u8def\",\"\\u897f\\u897f\\u91cc\",\"\\u7f8e\\u98df\",\"\\u81ed\\u8c46\\u8150\",\"\\u5976\\u5473\",\"\\u751f\\u65e5\",\"\\u4f9d\\u820a\",\"\\u6ef7\\u8089\\u98ef\",\"\\u6a5f\\u6703\",\"\\u9ed1\\u80e1\\u6912\",\"\\u8336\\u7897\",\"\\u8c93\\u54aa\",\"\\u914d\\u6599\",\"\\u4fbf\\u5b9c\",\"\\u672c\\u4f86\",\"\\u54c1\\u8cea\",\"\\u5bb9\\u6613\",\"\\u4fbf\\u7576\",\"\\u6d0b\\u8525\",\"\\u6c34\\u6e96\",\"\\u4fdd\\u7559\",\"\\u642d\\u4e0a\",\"\\u8981\\u4e0d\\u8981\",\"\\u677e\\u962a\\u8c6c\",\"No\",\"\\u932f\\u904e\",\"\\u679c\\u6c41\",\"\\u90e8\\u5206\",\"\\u98f2\\u54c1\",\"\\u5403\\u4f86\",\"\\u9650\\u6642\",\"\\u5eda\\u623f\",\"\\u7126\\u7cd6\",\"\\u8b8a\\u5f97\",\"\\u6771\\u897f\",\"\\u985e\\u578b\",\"\\u9999\\u6599\",\"\\u9031\\u65e5\",\"\\u5f71\\u97ff\",\"\\u904e\\u4f86\",\"\\u4e00\\u676f\",\"\\u88e1\\u9762\",\"\\u5c0f\\u9ec3\\u74dc\",\"\\u8001\\u95c6\\u5a18\",\"\\u5b8c\\u7f8e\",\"\\u5370\\u8c61\",\"\\u9ebb\\u7cec\",\"\\u7248\\u8acb\\u9ede\",\"\\u6b61\\u8fce\",\"\\u8cea\\u5730\",\"\\u723d\\u53e3\",\"\\u5929\\u7136\",\"CP\",\"\\u96de\\u6392\",\"\\u63d0\\u9192\",\"\\u56de\\u8a2a\",\"\\u82e6\\u5473\",\"\\u7cfb\\u5217\",\"\\u958b\\u80c3\",\"\\u653e\\u9b06\",\"\\u8089\\u5713\",\"\\u9999\\u83c7\",\"\\u96de\\u817f\",\"\\u9806\\u4fbf\",\"\\u4e3b\\u83dc\",\"\\u7f8e\\u570b\"],\"x\":[-0.12792053818702698,-0.7049791216850281,-0.2261171042919159,-0.8183930516242981,0.04134830832481384,0.13602782785892487,-0.3628784418106079,-0.046583544462919235,0.2555726170539856,-0.35424646735191345,1.0065315961837769,-0.24434472620487213,0.18282288312911987,0.9870116114616394,-0.3875156342983246,0.35270604491233826,0.08451556414365768,-0.27400296926498413,-0.4837994873523712,-0.10456660389900208,0.17707382142543793,0.3463234305381775,0.026834949851036072,0.2982610762119293,0.5406157374382019,1.9714936017990112,-0.9232237935066223,-0.17687280476093292,-0.08810584247112274,-0.4667847454547882,-0.737369954586029,2.1147704124450684,-0.4163798689842224,0.6672927737236023,-0.0267857126891613,-0.6699314713478088,2.723424196243286,-0.9405211806297302,0.32091519236564636,-0.48258376121520996,0.18015466630458832,0.15481780469417572,0.21077075600624084,0.2188728153705597,-0.4403318464756012,-0.24077646434307098,-0.046474143862724304,0.16408468782901764,-0.21329140663146973,0.3987152874469757,-0.4101639986038208,-0.3590606153011322,-0.27284348011016846,-0.031492769718170166,-0.37284162640571594,-0.7223882675170898,-0.41616812348365784,0.24985331296920776,0.14919687807559967,-0.6526309251785278,0.05268339812755585,-0.309747576713562,1.9621362686157227,0.19153718650341034,-0.06592299044132233,0.6237678527832031,0.026841457933187485,-0.07034322619438171,-0.04630933329463005,0.11172845214605331,0.9517833590507507,-0.6910843253135681,-0.2832936942577362,-0.2941448986530304,-0.5810315012931824,-0.5402421355247498,-0.2228764444589615,1.5960750579833984,-0.044115085154771805,1.548845648765564,-0.07009853422641754,0.05590367317199707,0.9470180869102478,0.26523667573928833,1.1057418584823608,0.5944273471832275,0.5590716004371643,-0.5500710010528564,0.049181729555130005,-0.06548455357551575,-0.7536075711250305,-0.5712858438491821,-0.3152165114879608,-0.14670489728450775,-0.5672203302383423,-0.142521932721138,0.8928087949752808,-0.26618221402168274,-0.14433209598064423,-1.5104484558105469,-1.4013667106628418,-0.4396352767944336,-0.06329797208309174,0.3254772126674652,-0.3075791299343109,-0.18181630969047546,0.06638392806053162,0.3300168216228485,-0.11616776883602142,-0.03950147330760956,-0.6873921751976013,-0.6032781600952148,0.175310879945755,-0.130305215716362,0.14525021612644196,-0.05157243087887764,-0.21229515969753265,0.09153987467288971,0.5675286054611206,1.5351852178573608,-0.38685280084609985,-0.07398712635040283,0.3400137424468994,-1.0709224939346313,-0.41307684779167175,-0.32807019352912903,-0.1387944370508194,2.8230440616607666,-0.4506770372390747,-0.7218920588493347,-0.2316741794347763,-0.5627796649932861,-0.33917543292045593,-0.07737310230731964,-0.40544864535331726,-0.5746843814849854,-0.41260889172554016,-1.2429877519607544,-0.39530059695243835,-0.8082097172737122,-0.7387722134590149,-0.8401608467102051,-0.6738957166671753,0.5953640937805176,-0.0792604312300682,-0.3500301241874695,-0.08413463085889816,0.4298282861709595,-0.12676051259040833,-0.06286607682704926,-0.3465414047241211,2.2785747051239014,-0.21819207072257996,-0.4602431058883667,-0.04294660687446594,-0.1337416172027588,0.2730218470096588,0.007983343675732613,-0.7435232400894165,0.1343938559293747,-0.3877992331981659,-0.12488123029470444,-0.036821648478507996,-0.00506499782204628,-0.8212625980377197,0.8379355669021606,-0.7360575199127197,-0.04178847745060921,-0.8469379544258118,-0.923141360282898,1.8063974380493164,1.2568726539611816,-0.4501691162586212,0.08125957101583481,0.2576751112937927,-0.5157939195632935,0.2488962858915329,1.3462164402008057,-0.1590331792831421,0.30163681507110596,-0.5345905423164368,0.14326660335063934,-0.2363050878047943,0.3015333414077759,-0.7283561825752258,-0.2804778814315796,0.2608744502067566,0.0785616859793663,-0.4070698618888855,-0.08420226722955704,1.4639889001846313,-0.20099565386772156,0.49058789014816284,-0.2999759316444397,0.1438625454902649,0.006245994009077549,2.682366371154785,0.32347390055656433,0.22452692687511444,-0.09860170632600784,-0.3450319468975067,0.8406182527542114,0.03560666739940643,-0.6410511136054993,1.6602907180786133,-0.15613338351249695,0.06354501843452454,-0.6227220892906189,0.3279305100440979,0.029997924342751503,0.4545280635356903,0.10675684362649918,0.3316044211387634,-0.5186952352523804,-0.6848579049110413,0.1827937662601471,-0.1651388257741928,-0.06860020756721497,-0.3216116428375244,-0.1954021006822586,-0.22002342343330383,-0.36031556129455566,-0.22276045382022858,-0.0053030564449727535,-0.20748023688793182,-0.03861374408006668,-0.8110403418540955,0.08502055704593658,-0.6033912301063538,-0.24759669601917267,-0.6171042919158936,0.3991013765335083,0.27165287733078003,-0.23806414008140564,1.3263911008834839,0.04108967259526253,0.8522553443908691,0.05813099443912506,-0.6247029900550842,0.23796865344047546,-0.20736369490623474,0.01176538411527872,0.26770588755607605,-0.34266674518585205,-0.23430265486240387,0.0561915747821331,-0.6311955451965332,0.2563125193119049,-0.06058809161186218,-0.41251593828201294,-0.31453654170036316,0.5922874808311462,-0.6037861108779907,-0.2809498906135559,-0.13406223058700562,-0.41436856985092163,-0.07979677617549896,-0.3438633978366852,1.4750031232833862,0.07154656201601028,-0.048124995082616806,-0.5542111396789551,0.3829393982887268,-0.37663519382476807,1.145738959312439,0.45248883962631226,-0.8849446773529053,-0.4224100410938263,-0.07649607956409454,-0.16427555680274963,-0.7411909103393555,3.9295761585235596,-0.3155538737773895,0.5251559615135193,0.7072991728782654,-0.6452908515930176,-0.4131094813346863,0.12722259759902954,-0.5446124076843262,-0.41452667117118835,-0.2712623178958893,2.4140236377716064,0.13112872838974,-0.5116406083106995,-0.5543458461761475,-0.5044577121734619,0.06886415928602219,0.32971319556236267,0.15521928668022156,0.04975828155875206,-0.439033180475235,0.04240487143397331,-0.9470669627189636,0.08571149408817291,0.2772636413574219,-0.38534900546073914,-0.35105013847351074,0.3226192593574524,-0.11756383627653122,-0.21055905520915985],\"y\":[-0.0086174001917243,-0.11451591551303864,0.7230667471885681,-0.09132993966341019,-0.0500980019569397,-0.0764114186167717,0.06130553036928177,0.046944040805101395,-0.023286402225494385,0.3120536506175995,0.750910222530365,-0.07277385890483856,-0.07172133773565292,-1.1101675033569336,0.20099611580371857,0.038296107202768326,0.0007485635578632355,0.02333199791610241,-0.06423858553171158,0.15425071120262146,0.031073447316884995,0.008215729147195816,-0.12204261869192123,-0.08532572537660599,-0.41299712657928467,-1.3797876834869385,-0.05423058569431305,0.11856644600629807,-0.04938158020377159,0.32494455575942993,-0.023740801960229874,-0.011033251881599426,0.02563660405576229,-0.05907260254025459,-0.2774656414985657,-0.10782782733440399,0.13071885704994202,0.1158672645688057,-0.047193482518196106,-0.011008919216692448,0.004662793595343828,-0.7260604500770569,-0.0251629501581192,0.17931920289993286,-0.039553530514240265,-0.05336973816156387,-0.3606208562850952,-0.21544302999973297,-0.09597698599100113,0.10941263288259506,-0.058003079146146774,0.1957688182592392,0.20868945121765137,0.08987943828105927,-0.09674108773469925,-0.05423722788691521,-0.18544898927211761,0.3355988562107086,0.07368721812963486,0.026993360370397568,-0.03210802376270294,0.04906746372580528,-1.400863766670227,-0.03768383711576462,-0.06442318856716156,-0.8240731358528137,0.015389058738946915,-0.32403141260147095,0.026314925402402878,0.05085797980427742,0.24506036937236786,-0.0021073182579129934,-0.03153974935412407,-0.05267692729830742,0.16203007102012634,0.04312095791101456,-0.059437669813632965,-0.8514388203620911,-0.12294300645589828,-1.3247498273849487,0.061135463416576385,-0.5630536079406738,-0.13275910913944244,0.2278750091791153,-0.6352980136871338,-0.7721810340881348,-0.24477094411849976,-0.026218675076961517,0.11515761911869049,0.11688049882650375,0.2880506217479706,-0.06939076632261276,0.031159033998847008,-0.04451747611165047,0.0021683652885258198,-0.0494263730943203,0.6432210803031921,0.041427966207265854,0.30707284808158875,0.10589364171028137,-0.05804609879851341,0.05399836227297783,-0.13318096101284027,0.2068907618522644,0.14025545120239258,0.006398968864232302,-0.24666157364845276,0.039705000817775726,0.2490086555480957,-0.0007575195049867034,0.04881782829761505,0.04698772728443146,-0.12327810376882553,0.3189815878868103,-0.3206804394721985,0.6118789315223694,0.044878046959638596,-0.06280305236577988,-0.8337290287017822,-0.27083083987236023,0.2282460778951645,0.5508770942687988,-0.5411841869354248,-0.1414491981267929,0.1917593628168106,0.15263478457927704,-0.09186551719903946,2.050567865371704,0.007391204591840506,-0.11516249179840088,0.09437330067157745,0.3395001292228699,0.3801937997341156,-0.1629968285560608,0.21512621641159058,-0.06994669884443283,-0.09717883914709091,0.24703292548656464,-0.03868691623210907,0.2034296691417694,0.18671447038650513,0.25280940532684326,-0.04704566299915314,-0.11624862998723984,-0.025057485327124596,-0.028127288445830345,0.018512750044465065,0.22151221334934235,0.03446612507104874,-0.0562102273106575,-0.061069466173648834,1.3776347637176514,-0.5702179670333862,0.07829158008098602,-0.03037586435675621,0.08362717926502228,-0.5260297656059265,0.026866793632507324,0.2598433792591095,-0.2451208084821701,0.16281139850616455,0.7624871134757996,-0.3725084960460663,-0.03963776305317879,0.14999127388000488,-0.37885570526123047,-0.47513073682785034,0.08897291868925095,-0.027932744473218918,0.2694832980632782,0.10944060236215591,-0.02249780483543873,-0.0523066520690918,0.01180175505578518,0.10236857831478119,0.24962708353996277,-0.19620740413665771,0.06483560800552368,-0.20325765013694763,0.1802598237991333,-0.03776075690984726,0.0841769129037857,0.18961955606937408,0.032480258494615555,-0.2896919548511505,0.06341564655303955,-0.28120577335357666,-0.06366851925849915,-0.07876226305961609,0.328647643327713,-0.12880556285381317,0.05205676704645157,0.13717684149742126,-0.2353113889694214,-0.23280267417430878,-0.0746045708656311,1.7165699005126953,0.022166088223457336,0.3370499312877655,-0.3598329424858093,-0.02438211813569069,1.1534785032272339,-0.19441071152687073,-0.06762630492448807,-0.33674880862236023,-0.4863731563091278,-0.04149974137544632,0.21435298025608063,0.11814258247613907,-0.10284480452537537,-0.4197436571121216,0.0823342576622963,-0.1167396828532219,0.202877476811409,-0.0057862019166350365,0.22288431227207184,-0.07624039053916931,0.39057525992393494,0.08948074281215668,0.1216590628027916,-0.13493959605693817,0.07253902405500412,-0.03888092562556267,-0.12050733715295792,-0.08749991655349731,-0.1543985903263092,0.2767314612865448,0.11327920854091644,-0.12200651317834854,0.2584667205810547,0.0744316428899765,0.436550498008728,-0.11579753458499908,-0.10416244715452194,-1.332890510559082,0.12499944865703583,-0.5450669527053833,-1.0096291303634644,0.03497454896569252,-0.03168446570634842,0.021113451570272446,-0.32116439938545227,0.07098808884620667,0.021738838404417038,-0.012444188818335533,-0.13021981716156006,-0.042288560420274734,0.13812294602394104,0.15001393854618073,0.30672740936279297,-0.1742999106645584,-0.3309582471847534,0.12021523714065552,-0.048755764961242676,0.07193732261657715,-0.025781141594052315,-0.012193185277283192,-0.06581014394760132,1.9493513107299805,-0.021544963121414185,0.35318058729171753,0.3125297427177429,0.9876208305358887,-0.1705458015203476,1.1950170993804932,-0.7457061409950256,0.17578409612178802,-0.08182467520236969,-0.03910490870475769,0.01358823198825121,0.09340457618236542,0.3361312747001648,0.06406960636377335,0.0143983019515872,1.2464137077331543,0.09503839910030365,-0.002052248688414693,0.22991524636745453,0.035837940871715546,-0.013867676258087158,-0.21913699805736542,-1.345163345336914,-0.12834006547927856,-0.01115252636373043,-0.05980238690972328,0.10940273106098175,-0.17459961771965027,-0.01829725131392479,-0.11146954447031021,-0.19870787858963013,-0.04344158619642258,-0.019738629460334778,0.13429071009159088,0.009689966216683388,-0.531988799571991,-0.0586455762386322,-0.07994803041219711,0.10265742987394333,0.08877439051866531,0.030965911224484444],\"z\":[0.012939372099936008,-0.025449516251683235,-0.5496358871459961,-0.15923288464546204,0.011134931817650795,0.07051879167556763,0.35512372851371765,0.06631715595722198,0.36191239953041077,0.010893958620727062,1.531903862953186,0.1429092288017273,0.08533947169780731,-0.09873168915510178,-0.2318529635667801,0.050027038902044296,-0.17580890655517578,0.260185569524765,-0.43053457140922546,0.18717125058174133,-0.01129149366170168,-0.20508356392383575,-0.10630268603563309,-0.20536266267299652,0.22015602886676788,-0.4551260471343994,-0.2968166768550873,-0.036098334938287735,0.04925798997282982,0.19187702238559723,-0.06904788315296173,1.2908207178115845,-0.0064645796082913876,-0.3332432806491852,0.2618439793586731,0.001624102471396327,-1.332431435585022,-0.22505883872509003,-0.47099292278289795,0.060869380831718445,-0.2702995240688324,-0.24243950843811035,0.05765048786997795,0.02379143051803112,-0.021725330501794815,-0.14334845542907715,-0.2178526371717453,-0.03171485289931297,-0.10780549049377441,0.08539538085460663,-0.06337141990661621,-0.06363256275653839,0.20229971408843994,0.00638685654848814,-0.012257246300578117,-0.010967188514769077,0.30466896295547485,0.14502079784870148,-0.058817166835069656,-0.09823045879602432,0.05656728893518448,0.0074632554315030575,-0.236240416765213,-0.22872842848300934,0.10183530300855637,-0.11309253424406052,0.16152212023735046,0.13046331703662872,0.012532788328826427,-0.042439185082912445,0.08182358741760254,0.11451840400695801,0.07384539395570755,0.00343438982963562,-0.23323433101177216,0.16129755973815918,0.08771254867315292,0.0038053200114518404,0.026895910501480103,-0.22432783246040344,0.04294370859861374,0.42785727977752686,-0.05206923931837082,-0.25357306003570557,-0.06139848753809929,0.04553082957863808,0.18460871279239655,-0.12881046533584595,0.1606292575597763,-0.01895825006067753,-0.26112034916877747,-0.8624416589736938,-0.2667571008205414,-0.01271054521203041,-0.0777713879942894,0.03945721313357353,-0.10674002766609192,-0.02056172303855419,0.0945056602358818,-0.23795728385448456,-0.20762062072753906,-0.08418341726064682,-0.011412524618208408,0.05642160028219223,0.16818886995315552,0.10370238870382309,-0.06464548408985138,-0.07959713786840439,0.2722409665584564,0.2495882213115692,-0.1368994563817978,-0.05558103695511818,0.07331959903240204,-0.1664309799671173,0.3886089324951172,-0.0655587837100029,0.12910784780979156,-0.08025091886520386,-0.0440860316157341,0.9413806200027466,-0.15030215680599213,0.21890147030353546,0.10631100833415985,-0.1673215627670288,0.0011195490369573236,0.0921621173620224,-0.012194686569273472,0.9932644367218018,0.216453418135643,-0.11924091726541519,0.2715078294277191,0.10519172996282578,0.3837973177433014,-0.20637451112270355,0.13167975842952728,0.03946477919816971,0.07671783119440079,-0.07284651696681976,-0.05885876342654228,-0.2639923691749573,0.3169315755367279,0.0034190185833722353,-0.12397383898496628,-0.07846109569072723,-0.03350939229130745,-0.007623205427080393,-0.22165167331695557,0.18051987886428833,0.2287282943725586,0.2133135199546814,0.017417114228010178,-0.620149552822113,0.10205195844173431,-0.15499620139598846,-0.1358107477426529,-0.16519704461097717,0.39162999391555786,-0.05630050599575043,0.037708427757024765,0.29173269867897034,0.2331656813621521,-0.3217427432537079,0.08332018554210663,-0.08588190376758575,-0.06744866818189621,0.06291968375444412,-0.12875908613204956,-0.12061819434165955,-0.1418427675962448,-0.2624552249908447,-0.9729364514350891,-0.2974698543548584,0.1865663081407547,0.031137272715568542,-0.18178732693195343,-0.2376936674118042,0.10253401100635529,0.044565752148628235,0.14943304657936096,0.007245110813528299,-0.009583069011569023,0.014464068226516247,-0.03952749818563461,-0.16452951729297638,-0.06520739942789078,0.07176512479782104,0.04816082864999771,-0.016948368400335312,0.0026680966839194298,0.11049410700798035,-0.9423154592514038,0.2359488159418106,-0.03137332946062088,0.31680184602737427,0.07111676782369614,-0.07983826100826263,2.5314078330993652,0.08877235651016235,-0.12063198536634445,0.24347497522830963,0.09118589013814926,0.9214504957199097,0.14764952659606934,0.028202731162309647,-0.3308298587799072,0.19832202792167664,0.02183247171342373,-0.147123783826828,-0.10403832048177719,0.32521748542785645,-0.010115659795701504,-0.14645521342754364,-0.0386001281440258,0.1123715192079544,-0.11393003910779953,-0.05214524269104004,0.23557382822036743,0.08605258166790009,-0.05288051441311836,-0.004201126750558615,0.29284292459487915,0.08380191773176193,-0.008116480894386768,-0.1067860871553421,0.14666520059108734,-0.012153821997344494,-0.1683831810951233,-0.06771570444107056,0.030755558982491493,0.30829644203186035,0.39023059606552124,0.2634128928184509,0.3138028383255005,0.07771923393011093,-0.4078175127506256,-0.19149775803089142,0.376990407705307,0.20333008468151093,-0.1512279361486435,-0.1771213412284851,-0.05945173650979996,0.1571538895368576,-0.16364260017871857,-0.04341745749115944,0.03407025337219238,-0.15866371989250183,-0.06376513838768005,-0.08186736702919006,0.004916122183203697,-0.17841805517673492,-0.14684684574604034,0.12401578575372696,0.15226352214813232,0.012684140354394913,0.16596359014511108,-0.042760975658893585,-0.08852564543485641,0.0771971046924591,-1.4520236253738403,0.004356412682682276,-0.06584060937166214,0.21612702310085297,-0.3596062958240509,-0.10126350820064545,-1.0692706108093262,-0.03842674568295479,0.08884482085704803,-0.14010092616081238,-0.17485873401165009,-0.07775438576936722,0.01735573261976242,-1.3600269556045532,-0.20928239822387695,-0.15088719129562378,-1.0333360433578491,-0.0016139446524903178,-0.019776083528995514,-0.08387819677591324,-0.10304874181747437,0.16933786869049072,0.425933837890625,0.9707729816436768,-0.22056061029434204,-0.14022351801395416,-0.11279469728469849,-0.06893974542617798,0.11090980470180511,0.3784479796886444,-0.013307958841323853,0.008276699110865593,-0.12144830077886581,0.358658105134964,-0.03986383602023125,-0.2742065489292145,0.16306880116462708,0.04381091520190239,0.38175690174102783,0.0449875183403492,0.17119738459587097,0.4468105435371399],\"type\":\"scatter3d\"}],                        {\"template\":{\"data\":{\"histogram2dcontour\":[{\"type\":\"histogram2dcontour\",\"colorbar\":{\"outlinewidth\":0,\"ticks\":\"\"},\"colorscale\":[[0.0,\"#0d0887\"],[0.1111111111111111,\"#46039f\"],[0.2222222222222222,\"#7201a8\"],[0.3333333333333333,\"#9c179e\"],[0.4444444444444444,\"#bd3786\"],[0.5555555555555556,\"#d8576b\"],[0.6666666666666666,\"#ed7953\"],[0.7777777777777778,\"#fb9f3a\"],[0.8888888888888888,\"#fdca26\"],[1.0,\"#f0f921\"]]}],\"choropleth\":[{\"type\":\"choropleth\",\"colorbar\":{\"outlinewidth\":0,\"ticks\":\"\"}}],\"histogram2d\":[{\"type\":\"histogram2d\",\"colorbar\":{\"outlinewidth\":0,\"ticks\":\"\"},\"colorscale\":[[0.0,\"#0d0887\"],[0.1111111111111111,\"#46039f\"],[0.2222222222222222,\"#7201a8\"],[0.3333333333333333,\"#9c179e\"],[0.4444444444444444,\"#bd3786\"],[0.5555555555555556,\"#d8576b\"],[0.6666666666666666,\"#ed7953\"],[0.7777777777777778,\"#fb9f3a\"],[0.8888888888888888,\"#fdca26\"],[1.0,\"#f0f921\"]]}],\"heatmap\":[{\"type\":\"heatmap\",\"colorbar\":{\"outlinewidth\":0,\"ticks\":\"\"},\"colorscale\":[[0.0,\"#0d0887\"],[0.1111111111111111,\"#46039f\"],[0.2222222222222222,\"#7201a8\"],[0.3333333333333333,\"#9c179e\"],[0.4444444444444444,\"#bd3786\"],[0.5555555555555556,\"#d8576b\"],[0.6666666666666666,\"#ed7953\"],[0.7777777777777778,\"#fb9f3a\"],[0.8888888888888888,\"#fdca26\"],[1.0,\"#f0f921\"]]}],\"heatmapgl\":[{\"type\":\"heatmapgl\",\"colorbar\":{\"outlinewidth\":0,\"ticks\":\"\"},\"colorscale\":[[0.0,\"#0d0887\"],[0.1111111111111111,\"#46039f\"],[0.2222222222222222,\"#7201a8\"],[0.3333333333333333,\"#9c179e\"],[0.4444444444444444,\"#bd3786\"],[0.5555555555555556,\"#d8576b\"],[0.6666666666666666,\"#ed7953\"],[0.7777777777777778,\"#fb9f3a\"],[0.8888888888888888,\"#fdca26\"],[1.0,\"#f0f921\"]]}],\"contourcarpet\":[{\"type\":\"contourcarpet\",\"colorbar\":{\"outlinewidth\":0,\"ticks\":\"\"}}],\"contour\":[{\"type\":\"contour\",\"colorbar\":{\"outlinewidth\":0,\"ticks\":\"\"},\"colorscale\":[[0.0,\"#0d0887\"],[0.1111111111111111,\"#46039f\"],[0.2222222222222222,\"#7201a8\"],[0.3333333333333333,\"#9c179e\"],[0.4444444444444444,\"#bd3786\"],[0.5555555555555556,\"#d8576b\"],[0.6666666666666666,\"#ed7953\"],[0.7777777777777778,\"#fb9f3a\"],[0.8888888888888888,\"#fdca26\"],[1.0,\"#f0f921\"]]}],\"surface\":[{\"type\":\"surface\",\"colorbar\":{\"outlinewidth\":0,\"ticks\":\"\"},\"colorscale\":[[0.0,\"#0d0887\"],[0.1111111111111111,\"#46039f\"],[0.2222222222222222,\"#7201a8\"],[0.3333333333333333,\"#9c179e\"],[0.4444444444444444,\"#bd3786\"],[0.5555555555555556,\"#d8576b\"],[0.6666666666666666,\"#ed7953\"],[0.7777777777777778,\"#fb9f3a\"],[0.8888888888888888,\"#fdca26\"],[1.0,\"#f0f921\"]]}],\"mesh3d\":[{\"type\":\"mesh3d\",\"colorbar\":{\"outlinewidth\":0,\"ticks\":\"\"}}],\"scatter\":[{\"fillpattern\":{\"fillmode\":\"overlay\",\"size\":10,\"solidity\":0.2},\"type\":\"scatter\"}],\"parcoords\":[{\"type\":\"parcoords\",\"line\":{\"colorbar\":{\"outlinewidth\":0,\"ticks\":\"\"}}}],\"scatterpolargl\":[{\"type\":\"scatterpolargl\",\"marker\":{\"colorbar\":{\"outlinewidth\":0,\"ticks\":\"\"}}}],\"bar\":[{\"error_x\":{\"color\":\"#2a3f5f\"},\"error_y\":{\"color\":\"#2a3f5f\"},\"marker\":{\"line\":{\"color\":\"#E5ECF6\",\"width\":0.5},\"pattern\":{\"fillmode\":\"overlay\",\"size\":10,\"solidity\":0.2}},\"type\":\"bar\"}],\"scattergeo\":[{\"type\":\"scattergeo\",\"marker\":{\"colorbar\":{\"outlinewidth\":0,\"ticks\":\"\"}}}],\"scatterpolar\":[{\"type\":\"scatterpolar\",\"marker\":{\"colorbar\":{\"outlinewidth\":0,\"ticks\":\"\"}}}],\"histogram\":[{\"marker\":{\"pattern\":{\"fillmode\":\"overlay\",\"size\":10,\"solidity\":0.2}},\"type\":\"histogram\"}],\"scattergl\":[{\"type\":\"scattergl\",\"marker\":{\"colorbar\":{\"outlinewidth\":0,\"ticks\":\"\"}}}],\"scatter3d\":[{\"type\":\"scatter3d\",\"line\":{\"colorbar\":{\"outlinewidth\":0,\"ticks\":\"\"}},\"marker\":{\"colorbar\":{\"outlinewidth\":0,\"ticks\":\"\"}}}],\"scattermapbox\":[{\"type\":\"scattermapbox\",\"marker\":{\"colorbar\":{\"outlinewidth\":0,\"ticks\":\"\"}}}],\"scatterternary\":[{\"type\":\"scatterternary\",\"marker\":{\"colorbar\":{\"outlinewidth\":0,\"ticks\":\"\"}}}],\"scattercarpet\":[{\"type\":\"scattercarpet\",\"marker\":{\"colorbar\":{\"outlinewidth\":0,\"ticks\":\"\"}}}],\"carpet\":[{\"aaxis\":{\"endlinecolor\":\"#2a3f5f\",\"gridcolor\":\"white\",\"linecolor\":\"white\",\"minorgridcolor\":\"white\",\"startlinecolor\":\"#2a3f5f\"},\"baxis\":{\"endlinecolor\":\"#2a3f5f\",\"gridcolor\":\"white\",\"linecolor\":\"white\",\"minorgridcolor\":\"white\",\"startlinecolor\":\"#2a3f5f\"},\"type\":\"carpet\"}],\"table\":[{\"cells\":{\"fill\":{\"color\":\"#EBF0F8\"},\"line\":{\"color\":\"white\"}},\"header\":{\"fill\":{\"color\":\"#C8D4E3\"},\"line\":{\"color\":\"white\"}},\"type\":\"table\"}],\"barpolar\":[{\"marker\":{\"line\":{\"color\":\"#E5ECF6\",\"width\":0.5},\"pattern\":{\"fillmode\":\"overlay\",\"size\":10,\"solidity\":0.2}},\"type\":\"barpolar\"}],\"pie\":[{\"automargin\":true,\"type\":\"pie\"}]},\"layout\":{\"autotypenumbers\":\"strict\",\"colorway\":[\"#636efa\",\"#EF553B\",\"#00cc96\",\"#ab63fa\",\"#FFA15A\",\"#19d3f3\",\"#FF6692\",\"#B6E880\",\"#FF97FF\",\"#FECB52\"],\"font\":{\"color\":\"#2a3f5f\"},\"hovermode\":\"closest\",\"hoverlabel\":{\"align\":\"left\"},\"paper_bgcolor\":\"white\",\"plot_bgcolor\":\"#E5ECF6\",\"polar\":{\"bgcolor\":\"#E5ECF6\",\"angularaxis\":{\"gridcolor\":\"white\",\"linecolor\":\"white\",\"ticks\":\"\"},\"radialaxis\":{\"gridcolor\":\"white\",\"linecolor\":\"white\",\"ticks\":\"\"}},\"ternary\":{\"bgcolor\":\"#E5ECF6\",\"aaxis\":{\"gridcolor\":\"white\",\"linecolor\":\"white\",\"ticks\":\"\"},\"baxis\":{\"gridcolor\":\"white\",\"linecolor\":\"white\",\"ticks\":\"\"},\"caxis\":{\"gridcolor\":\"white\",\"linecolor\":\"white\",\"ticks\":\"\"}},\"coloraxis\":{\"colorbar\":{\"outlinewidth\":0,\"ticks\":\"\"}},\"colorscale\":{\"sequential\":[[0.0,\"#0d0887\"],[0.1111111111111111,\"#46039f\"],[0.2222222222222222,\"#7201a8\"],[0.3333333333333333,\"#9c179e\"],[0.4444444444444444,\"#bd3786\"],[0.5555555555555556,\"#d8576b\"],[0.6666666666666666,\"#ed7953\"],[0.7777777777777778,\"#fb9f3a\"],[0.8888888888888888,\"#fdca26\"],[1.0,\"#f0f921\"]],\"sequentialminus\":[[0.0,\"#0d0887\"],[0.1111111111111111,\"#46039f\"],[0.2222222222222222,\"#7201a8\"],[0.3333333333333333,\"#9c179e\"],[0.4444444444444444,\"#bd3786\"],[0.5555555555555556,\"#d8576b\"],[0.6666666666666666,\"#ed7953\"],[0.7777777777777778,\"#fb9f3a\"],[0.8888888888888888,\"#fdca26\"],[1.0,\"#f0f921\"]],\"diverging\":[[0,\"#8e0152\"],[0.1,\"#c51b7d\"],[0.2,\"#de77ae\"],[0.3,\"#f1b6da\"],[0.4,\"#fde0ef\"],[0.5,\"#f7f7f7\"],[0.6,\"#e6f5d0\"],[0.7,\"#b8e186\"],[0.8,\"#7fbc41\"],[0.9,\"#4d9221\"],[1,\"#276419\"]]},\"xaxis\":{\"gridcolor\":\"white\",\"linecolor\":\"white\",\"ticks\":\"\",\"title\":{\"standoff\":15},\"zerolinecolor\":\"white\",\"automargin\":true,\"zerolinewidth\":2},\"yaxis\":{\"gridcolor\":\"white\",\"linecolor\":\"white\",\"ticks\":\"\",\"title\":{\"standoff\":15},\"zerolinecolor\":\"white\",\"automargin\":true,\"zerolinewidth\":2},\"scene\":{\"xaxis\":{\"backgroundcolor\":\"#E5ECF6\",\"gridcolor\":\"white\",\"linecolor\":\"white\",\"showbackground\":true,\"ticks\":\"\",\"zerolinecolor\":\"white\",\"gridwidth\":2},\"yaxis\":{\"backgroundcolor\":\"#E5ECF6\",\"gridcolor\":\"white\",\"linecolor\":\"white\",\"showbackground\":true,\"ticks\":\"\",\"zerolinecolor\":\"white\",\"gridwidth\":2},\"zaxis\":{\"backgroundcolor\":\"#E5ECF6\",\"gridcolor\":\"white\",\"linecolor\":\"white\",\"showbackground\":true,\"ticks\":\"\",\"zerolinecolor\":\"white\",\"gridwidth\":2}},\"shapedefaults\":{\"line\":{\"color\":\"#2a3f5f\"}},\"annotationdefaults\":{\"arrowcolor\":\"#2a3f5f\",\"arrowhead\":0,\"arrowwidth\":1},\"geo\":{\"bgcolor\":\"white\",\"landcolor\":\"#E5ECF6\",\"subunitcolor\":\"white\",\"showland\":true,\"showlakes\":true,\"lakecolor\":\"white\"},\"title\":{\"x\":0.05},\"mapbox\":{\"style\":\"light\"}}},\"scene\":{\"domain\":{\"x\":[0.0,1.0],\"y\":[0.0,1.0]},\"xaxis\":{\"title\":{\"text\":\"dim1\"}},\"yaxis\":{\"title\":{\"text\":\"dim2\"}},\"zaxis\":{\"title\":{\"text\":\"dim3\"}}},\"coloraxis\":{\"colorbar\":{\"title\":{\"text\":\"color\"}},\"colorscale\":[[0.0,\"#0d0887\"],[0.1111111111111111,\"#46039f\"],[0.2222222222222222,\"#7201a8\"],[0.3333333333333333,\"#9c179e\"],[0.4444444444444444,\"#bd3786\"],[0.5555555555555556,\"#d8576b\"],[0.6666666666666666,\"#ed7953\"],[0.7777777777777778,\"#fb9f3a\"],[0.8888888888888888,\"#fdca26\"],[1.0,\"#f0f921\"]]},\"legend\":{\"tracegroupgap\":0,\"itemsizing\":\"constant\"},\"margin\":{\"t\":60},\"height\":800,\"width\":800},                        {\"responsive\": true}                    ).then(function(){\n",
       "                            \n",
       "var gd = document.getElementById('7d82b8db-126a-4e2b-a768-a4908b86e193');\n",
       "var x = new MutationObserver(function (mutations, observer) {{\n",
       "        var display = window.getComputedStyle(gd).display;\n",
       "        if (!display || display === 'none') {{\n",
       "            console.log([gd, 'removed!']);\n",
       "            Plotly.purge(gd);\n",
       "            observer.disconnect();\n",
       "        }}\n",
       "}});\n",
       "\n",
       "// Listen for the removal of the full notebook cells\n",
       "var notebookContainer = gd.closest('#notebook-container');\n",
       "if (notebookContainer) {{\n",
       "    x.observe(notebookContainer, {childList: true});\n",
       "}}\n",
       "\n",
       "// Listen for the clearing of the current output cell\n",
       "var outputEl = gd.closest('.output');\n",
       "if (outputEl) {{\n",
       "    x.observe(outputEl, {childList: true});\n",
       "}}\n",
       "\n",
       "                        })                };                });            </script>        </div>"
      ]
     },
     "metadata": {},
     "output_type": "display_data"
    }
   ],
   "source": [
    "new_feat = reduceDim(feat,method='PCA',dim = 20)\n",
    "d3_feat = reduceDim(feat,method='PCA',dim = 3)\n",
    "word_df = pd.DataFrame({\n",
    "    \"word\":sample_words,\n",
    "    \"color\":cluster(new_feat,n=4),\n",
    "    \"dim1\":d3_feat[:,0],\n",
    "    \"dim2\":d3_feat[:,1], \n",
    "    \"dim3\":d3_feat[:,2], \n",
    "\n",
    "})\n",
    "plotScatter3D(word_df)\n"
   ]
  },
  {
   "cell_type": "code",
   "execution_count": null,
   "metadata": {},
   "outputs": [],
   "source": []
  }
 ],
 "metadata": {
  "interpreter": {
   "hash": "d31c0e54aa6fe1402ba5a063e199cfb4a824ec5d713238d42b71afac11faf6ec"
  },
  "kernelspec": {
   "display_name": "Python 3.8.16 ('SMA': conda)",
   "language": "python",
   "name": "python3"
  },
  "language_info": {
   "codemirror_mode": {
    "name": "ipython",
    "version": 3
   },
   "file_extension": ".py",
   "mimetype": "text/x-python",
   "name": "python",
   "nbconvert_exporter": "python",
   "pygments_lexer": "ipython3",
   "version": "3.8.16"
  },
  "orig_nbformat": 4
 },
 "nbformat": 4,
 "nbformat_minor": 2
}
